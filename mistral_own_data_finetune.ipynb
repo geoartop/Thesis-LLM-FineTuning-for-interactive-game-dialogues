{
 "cells": [
  {
   "cell_type": "code",
   "execution_count": 53,
   "id": "initial_id",
   "metadata": {
    "collapsed": true,
    "jupyter": {
     "outputs_hidden": true
    },
    "ExecuteTime": {
     "end_time": "2024-05-26T19:58:53.793667300Z",
     "start_time": "2024-05-26T19:58:51.458890700Z"
    }
   },
   "outputs": [],
   "source": [
    "from datasets import load_dataset\n",
    "#access locaclly stored dataset in this path testing_for_error/asking_armor_data.json and is a json file\n",
    "\n",
    "train_dataset = load_dataset(\"json\", data_files=\"dataset_final_results/stratified_train.json\")\n",
    "val_dataset = load_dataset(\"json\", data_files=\"dataset_final_results/stratified_val.json\")\n",
    "test_dataset = load_dataset(\"json\", data_files=\"dataset_final_results/final_test.json\")"
   ]
  },
  {
   "cell_type": "code",
   "execution_count": 2,
   "id": "8f92a617057aac80",
   "metadata": {
    "ExecuteTime": {
     "end_time": "2024-05-26T10:20:33.718815700Z",
     "start_time": "2024-05-26T10:20:33.637394900Z"
    },
    "collapsed": false
   },
   "outputs": [
    {
     "data": {
      "text/plain": [
       "DatasetDict({\n",
       "    train: Dataset({\n",
       "        features: ['Speaker', 'Event', 'Dialogue', 'Line_of_dialogue', 'Response_to', 'Race', 'Equipment', 'Condition', 'Result', 'Location', 'Tone'],\n",
       "        num_rows: 1416\n",
       "    })\n",
       "})"
      ]
     },
     "execution_count": 2,
     "metadata": {},
     "output_type": "execute_result"
    }
   ],
   "source": [
    "train_dataset"
   ]
  },
  {
   "cell_type": "code",
   "execution_count": 3,
   "id": "b0c6ecad2a2d2007",
   "metadata": {
    "ExecuteTime": {
     "end_time": "2024-05-26T10:20:33.719816Z",
     "start_time": "2024-05-26T10:20:33.642029300Z"
    },
    "collapsed": false
   },
   "outputs": [
    {
     "data": {
      "text/plain": [
       "DatasetDict({\n",
       "    train: Dataset({\n",
       "        features: ['Speaker', 'Event', 'Dialogue', 'Line_of_dialogue', 'Response_to', 'Race', 'Equipment', 'Condition', 'Result', 'Location', 'Tone'],\n",
       "        num_rows: 176\n",
       "    })\n",
       "})"
      ]
     },
     "execution_count": 3,
     "metadata": {},
     "output_type": "execute_result"
    }
   ],
   "source": [
    "val_dataset"
   ]
  },
  {
   "cell_type": "code",
   "execution_count": 4,
   "id": "61a9af870c68ea6a",
   "metadata": {
    "ExecuteTime": {
     "end_time": "2024-05-26T10:20:33.815812600Z",
     "start_time": "2024-05-26T10:20:33.773827600Z"
    },
    "collapsed": false
   },
   "outputs": [
    {
     "data": {
      "text/plain": [
       "DatasetDict({\n",
       "    train: Dataset({\n",
       "        features: ['Speaker', 'Event', 'Dialogue', 'Line_of_dialogue', 'Response_to', 'Race', 'Game', 'Equipment', 'Monologue', 'Condition', 'Result', 'Context', 'Location', 'Tone'],\n",
       "        num_rows: 186\n",
       "    })\n",
       "})"
      ]
     },
     "execution_count": 4,
     "metadata": {},
     "output_type": "execute_result"
    }
   ],
   "source": [
    "test_dataset"
   ]
  },
  {
   "cell_type": "code",
   "execution_count": 5,
   "id": "dad8e9abba327408",
   "metadata": {
    "ExecuteTime": {
     "end_time": "2024-05-26T10:20:38.889208Z",
     "start_time": "2024-05-26T10:20:34.789704500Z"
    },
    "collapsed": false
   },
   "outputs": [],
   "source": [
    "from accelerate import FullyShardedDataParallelPlugin, Accelerator\n",
    "from torch.distributed.fsdp.fully_sharded_data_parallel import FullOptimStateDictConfig, FullStateDictConfig\n",
    "\n",
    "fsdp_plugin = FullyShardedDataParallelPlugin(\n",
    "    state_dict_config=FullStateDictConfig(offload_to_cpu=True, rank0_only=False),\n",
    "    optim_state_dict_config=FullOptimStateDictConfig(offload_to_cpu=True, rank0_only=False),\n",
    ")\n",
    "\n",
    "accelerator = Accelerator(fsdp_plugin=fsdp_plugin)"
   ]
  },
  {
   "cell_type": "code",
   "execution_count": 6,
   "id": "16c68c1abc82f429",
   "metadata": {
    "ExecuteTime": {
     "end_time": "2024-05-26T10:20:42.068419Z",
     "start_time": "2024-05-26T10:20:38.891208700Z"
    },
    "collapsed": false
   },
   "outputs": [
    {
     "name": "stderr",
     "output_type": "stream",
     "text": [
      "\u001B[34m\u001B[1mwandb\u001B[0m: Currently logged in as: \u001B[33mgeoartopoulos\u001B[0m (\u001B[33mgeorge-artop\u001B[0m). Use \u001B[1m`wandb login --relogin`\u001B[0m to force relogin\n"
     ]
    }
   ],
   "source": [
    "import wandb, os\n",
    "wandb.login()\n",
    "\n",
    "wandb_project = \"journal-finetune\"\n",
    "if len(wandb_project) > 0:\n",
    "    os.environ[\"WANDB_PROJECT\"] = wandb_project"
   ]
  },
  {
   "cell_type": "code",
   "execution_count": 7,
   "id": "131418b6535338bf",
   "metadata": {
    "ExecuteTime": {
     "end_time": "2024-05-26T10:20:52.220387200Z",
     "start_time": "2024-05-26T10:20:52.216312Z"
    },
    "collapsed": false
   },
   "outputs": [],
   "source": [
    "def formatting_func(example):\n",
    "\n",
    "    # if  example['Monologue'] is not None:\n",
    "    #     return f\"\"\"\n",
    "# In the following text, there is a description about introductory monologues in video games. The text will be enclosed within <START> and <END>. There are specific rules that apply only to the text: the title of the current game will always be enclosed inside \" \", the monologue will always be enclosed inside $ $, and the context will be enclosed inside # #.\n",
    "# \n",
    "# <START>\n",
    "# In video games, sometimes there is an introductory monologue delivered by a Speaker. The Speaker can either be an unknown narrator or a character in the game, and they introduce the Player to the world, the story, and the setting of the game. For the game \"{example['Game']}\", the introductory monologue is as follows:\n",
    "# \n",
    "# ${example['Monologue']}$\n",
    "# \n",
    "# This monologue is based on the game's setting, world, story, and the Player's role in the game. Here is some context describing these elements:\n",
    "# \n",
    "# #{example['Context']}#\n",
    "# <END>\"\"\"\n",
    "\n",
    "\n",
    "\n",
    "    description = f\"\"\"The following text elaborates on what line of dialogue is used by an NPC in a certain event. The text will be enclosed within <START> and <END>. There are specific rules that apply only to the text: the event will be enclosed inside & &, the speaker will be enclosed inside % %, the line spoken will be enclosed inside \" \".\n",
    "\n",
    "\"\"\"\n",
    "    if example['Event'] == \"Greeting\":\n",
    "\n",
    "        description = f\"\"\"The following text describes a greeting exchange between the Player and an NPC. The text will be enclosed within <START> and <END>. There are specific rules that apply only to the text: the event will be enclosed inside & &, the type of speaker will be enclosed inside % %, the line spoken will be enclosed inside \" \", and the tone of the line will be enclosed inside ; ;.\n",
    "\n",
    "\"\"\"\n",
    "    elif example['Event'] == \"NPCs fighting over a Player's dropped item\":\n",
    "\n",
    "        description = f\"\"\"The following text describes an exchange where multiple NPCs are fighting over a Player's dropped item and one of them uses a line of dialogue. The text will be enclosed within <START> and <END>. There are specific rules that apply only to the text: the event will be enclosed inside & &, the number of the current spoken line in the dialogue will be enclosed inside ~ ~, the line spoken will be enclosed inside \" \", and the speaker will be enclosed inside % %.\n",
    "\n",
    "\"\"\"\n",
    "    elif example['Condition'] == \"in combat\":\n",
    "\n",
    "        description = f\"\"\"The following text elaborates on which line of dialogue a friendly NPC uses when it is in combat. The text will be enclosed within <START> and <END>. There are specific rules that apply only to the text: the event will be enclosed inside & &, the condition will be enclosed inside ( ), the line spoken will be enclosed inside \" \", and the speaker will be enclosed inside % %.\n",
    "\n",
    "\"\"\"\n",
    "    elif example['Result'] is not None:\n",
    "\n",
    "        description = f\"\"\"The following text text elaborates on which line of dialogue is used by an NPC when the Player character tries to persuade them. The text will be enclosed within <START> and <END>. There are specific rules that apply only to the text: the event will be enclosed inside & &, the line spoken will be enclosed inside \" \", the result of the event will be enclosed inside @ @ and the speaker enclosed inside % %.\n",
    "\n",
    "\"\"\"\n",
    "    elif example['Race'] is not None:\n",
    "\n",
    "        description = f\"\"\"The following text describes the reaction of a Guard based on the Player's race. The text will be enclosed within <START> and <END>. There are specific rules that apply only to the text: the event will be enclosed inside & &, the speaker will be enclosed inside % %, the line spoken will be enclosed inside \" \", the race of the Player will be enclosed inside * *, and the condition, if there is one, will be enclosed inside ( ).\n",
    "\n",
    "\"\"\"\n",
    "    elif example['Equipment'] is not None:\n",
    "\n",
    "        description = f\"\"\"The following text describes the reaction of a Guard based on the Player's equipment. The text will be enclosed within <START> and <END>. There are specific rules that apply only to the text: the event will be enclosed inside & &, the speaker will be enclosed inside % %, the line spoken will be enclosed inside \" \", the equipment of the Player will be enclosed inside [ ], and the condition, if there is one, will be enclosed inside ( ).\n",
    "\n",
    "\"\"\"\n",
    "    elif example['Location'] is not None:\n",
    "\n",
    "        description = f\"\"\"The following text describes a special interaction of a Guard based on the Player's location. The text will be enclosed within <START> and <END>. There are specific rules that apply only to the text: the event will be enclosed inside & &, the speaker will be enclosed inside % %, the line spoken will be enclosed inside \" \", the location of the Player will be enclosed inside ^ ^, and the condition, if there is one, will be enclosed inside ( ).\n",
    "\n",
    "\"\"\"\n",
    "\n",
    "    elif example['Response_to'] is not None:\n",
    "\n",
    "        description = f\"\"\"The following text describes a part of a dialogue between and NPC and the Player in the case of a certain event. The text will be enclosed within <START> and <END>. There are specific rules that apply only to the text: the event will be enclosed inside & &, the speaker will be enclosed inside % %, the line spoken will be enclosed inside \" \", and the line that the speaker responds to, will be enclosed inside | |.\n",
    "\n",
    "\"\"\"\n",
    "    elif example['Condition'] is not None:\n",
    "\n",
    "        description = f\"\"\"The following text elaborates on a line of dialogue used by an NPC in a certain event under a condition. The text will be enclosed within <START> and <END>. There are specific rules that apply only to the text: the event will be enclosed inside & &, the speaker will be enclosed inside % %, the line spoken will be enclosed inside \" \", and the condition, will be enclosed inside ( ).\n",
    "\n",
    "\"\"\"\n",
    "\n",
    "\n",
    "    if example['Speaker'] == \"Any\":\n",
    "\n",
    "        npc_type = \"the NPC, that is of any type\"\n",
    "\n",
    "    elif \"Guard\" in example['Speaker']:\n",
    "\n",
    "        npc_type = f'the {example[\"Speaker\"]}'\n",
    "\n",
    "    elif \"trainer\" in example['Event']:\n",
    "\n",
    "        npc_type = f\"\"\"the trainer NPC, that is named {example['Speaker']}\"\"\"\n",
    "\n",
    "    elif example['Speaker'] == \"Housecarl\":\n",
    "\n",
    "        npc_type = \"the Housecarl\"\n",
    "\n",
    "    else:\n",
    "\n",
    "        npc_type = f'the NPC, that is the type {example[\"Speaker\"]}'\n",
    "\n",
    "\n",
    "\n",
    "    if example['Event'] == \"Greeting\":\n",
    "\n",
    "        return description + f\"\"\"<START>\n",
    "In the world of Skyrim from the game Elder Scrolls V, in the case of a &{example['Event']}&, between an NPC and the Player character, %{npc_type}% greets the Player with the following dialogue: {example['Dialogue']}, in a ;{example['Tone']}; tone.\n",
    "<END>\"\"\"\n",
    "\n",
    "\n",
    "    if example['Event'] == \"Goodbye\":\n",
    "\n",
    "        return description + f\"\"\"<START>\n",
    "In the world of Skyrim from the game Elder Scrolls V, in the case of a &{example['Event']}&, between an NPC and the Player character,%{npc_type}% tells their goodbyes to the Player with the following dialogue: {example['Dialogue']}.\n",
    "<END>\"\"\"\n",
    "\n",
    "\n",
    "    if example['Event'] == \"NPCs fighting over a Player's dropped item\":\n",
    "\n",
    "        return description + f\"\"\"<START>\n",
    "In the world of Skyrim from the game Elder Scrolls V, in the event of &{example['Event']}&, there can be up to 5 different NPCs arguing over an item that the Player character dropped and up to 2 bystander NPCs commenting on the situation. Up to five lines of dialogue can be exchanged between up to five different NPCs that are arguing and up to two lines of bystander dialogue can be used by up to two different bystander NPCs, meaning that the conversation ends after a maximum of 7 lines of dialogue have been said. In this case one of the NPCs that takes part in the arguing and %{npc_type}%, says the following line: {example['Dialogue']}, as the ~{example['Line_of_dialogue']}~ line of the dialogue.\n",
    "<END>\"\"\"\n",
    "\n",
    "    if example['Event'] == \"NPC asking for the Player's dropped armor\":\n",
    "\n",
    "        if example['Speaker'] == \"Player\":\n",
    "            return description + f\"\"\"<START>\n",
    "In the world of Skyrim from the game Elder Scrolls V, in the event of an &{example['Event']}&, there is a conversation between the Player character and an NPC about the Player's dropped item.\n",
    "In this case the %Player% character says the following line: {example['Dialogue']}, in response to the NPC's previous line of dialogue: |{example['Response_to']}|.\n",
    "<END>\"\"\"\n",
    "\n",
    "        if example['Response_to'] is not None:\n",
    "\n",
    "            return description + f\"\"\"<START>\n",
    "In the world of Skyrim from the game Elder Scrolls V, in the event of an &{example['Event']}& there is a conversation between the Player character and an NPC about the Player's dropped item.\n",
    "In this case %{npc_type}%, says the following line: {example['Dialogue']}, in response to the Player character's previous line of dialogue: |{example['Response_to']}|.\n",
    "<END>\"\"\"\n",
    "        else:\n",
    "\n",
    "            return description + f\"\"\"<<START>>\n",
    "In the world of Skyrim from the game Elder Scrolls V, in the event of an &{example['Event']}& there is a conversation between the Player character and an NPC about the Player's dropped item.\n",
    "In this case %{npc_type}%, says the following line: {example['Dialogue']}, to initiate a conversation about the Player's dropped item.\n",
    "<END>\"\"\"\n",
    "\n",
    "    if example['Condition'] == \"in combat\":\n",
    "\n",
    "        return description + f\"\"\"<START>\n",
    "In the world of Skyrim from the game Elder Scrolls V, when the Player character and a friendly NPC are ({example['Condition']}), %{npc_type}%, uses this line of dialogue: {example['Dialogue']}, when it is &{example['Event']}&.\n",
    "<END>\"\"\"\n",
    "\n",
    "    if example['Result'] is not None:\n",
    "\n",
    "            return description + f\"\"\"<START>\n",
    "In the world of Skyrim from the game Elder Scrolls V, when the Player character tries to check if an NPC of any type can be persuaded, the %{npc_type}%, uses the following line of dialogue: {example['Dialogue']}, when &{example['Event']}& and as a result @{example['Result']}@.\n",
    "<END>\"\"\"\n",
    "\n",
    "    if example['Event'] == \"an NPC spots the Player character having an amulet of mara\":\n",
    "\n",
    "        if example['Speaker'] == \"Player\":\n",
    "\n",
    "            return description + f\"\"\"<START>\n",
    "In the world of Skyrim from the game Elder Scrolls V, when &{example['Event']}& an interaction begins between the two about the possibility of marriage.\n",
    "In this case the %Player% character, says the following line: {example['Dialogue']}, as a response to the the NPC's previous dialogue line: |{example['Response_to']}|.\n",
    "<END>\"\"\"\n",
    "\n",
    "        if example['Response_to'] is None:\n",
    "\n",
    "            return description +  f\"\"\"<START>\n",
    "In the world of Skyrim from the game Elder Scrolls V, when &{example['Event']}& an interaction begins between the two about the possibility of marriage.\n",
    "In this case %{npc_type}%, says the following line: {example['Dialogue']}, to initiate the conversation about marriage.\n",
    "<END>\"\"\"\n",
    "\n",
    "        else:\n",
    "\n",
    "            return description + f\"\"\"<START>\n",
    "In the world of Skyrim from the game Elder Scrolls V, when &{example['Event']}& an interaction begins between the two about the possibility of marriage.\n",
    "In this case %{npc_type}%, says the following line: {example['Dialogue']}, as a response to the the Player's previous dialogue line: |{example['Response_to']}|.\n",
    "<END>\"\"\"\n",
    "\n",
    "    if example['Race'] is not None:\n",
    "\n",
    "        if example['Condition'] is not None:\n",
    "\n",
    "            return description + f\"\"\"<START>\n",
    "In the world of Skyrim from the game Elder Scrolls V, Town Guards have special reactions to the race of the Player character, so in the case of &{example['Event']}& if the Player's race is *{example['Race']}*, the %Guard% reacts with this line of dialogue: {example['Dialogue']}, on the condition that the ({example['Condition']}).\n",
    "<END>\"\"\"\n",
    "\n",
    "        else:\n",
    "\n",
    "            return description + f\"\"\"<START>\n",
    "In the world of Skyrim from the game Elder Scrolls V, Town Guards have special reactions to the race of the Player character, so in the case of &{example['Event']}& if the Player's race is *{example['Race']}*, the %Guard% reacts with this line of dialogue: {example['Dialogue']}.\n",
    "<END>\"\"\"\n",
    "\n",
    "    if example['Equipment'] is not None:\n",
    "\n",
    "        if example['Condition'] is not None:\n",
    "\n",
    "            return description + f\"\"\"<START>\n",
    "In the world of Skyrim from the game Elder Scrolls V, Town Guards have special reactions to the equipment the Player is holding or has equipped, so when in the case of a &{example['Event']}&, the %Guard% uses this line of dialogue: {example['Dialogue']}, to react to the Player's [{example['Equipment']}], on the condition that ({example['Condition']}).\n",
    "<END>\"\"\"\n",
    "\n",
    "        else:\n",
    "\n",
    "            return description + f\"\"\"<START>\n",
    "In the world of Skyrim from the game Elder Scrolls V, Town Guards have special reactions to the equipment the Player is holding or has equipped, so when in the case of a &{example['Event']}&, the %Guard% uses this line of dialogue: {example['Dialogue']}, to react to the Player's [{example['Equipment']}].\n",
    "<END>\"\"\"\n",
    "\n",
    "    if example['Location'] is not None:\n",
    "\n",
    "        if example['Condition'] is not None:\n",
    "\n",
    "            return description + f\"\"\"<START>\n",
    "In the world of Skyrim from the game Elder Scrolls V, &Town Guards have special interactions with the Player character that are location based&, meaning that the Guards sometimes interact with the Player using town specific dialogue.\n",
    "In this case a %Guard% in the town of ^{example['Location']}^ might use this line of dialogue: {example['Dialogue']}, when the Player interacts with them, on the condition that ({example['Condition']}).\n",
    "<END>\"\"\"\n",
    "\n",
    "        else:\n",
    "\n",
    "            return description + f\"\"\"<START>\n",
    "In the world of Skyrim from the game Elder Scrolls V, &Town Guards have special interactions with the Player character that are location based&, meaning that the Guards sometimes interact with the Player using town specific dialogue.\n",
    "In this case a %Guard% in the town of ^{example['Location']}^ might use this line of dialogue {example['Dialogue']}, when the Player interacts with them.\n",
    "<END>\"\"\"\n",
    "\n",
    "    if example['Condition'] is not None:\n",
    "\n",
    "          return description + f\"\"\"<START>\n",
    "In the world of Skyrim from the game Elder Scrolls V, in the event of &{example['Event']}&, %{npc_type}%, says the following line to the Player character: {example['Dialogue']}, on the condition that ({example['Condition']}).\n",
    "<END>\"\"\"\n",
    "\n",
    "    return description + f\"\"\"<START>\n",
    "In the world of Skyrim from the game Elder Scrolls V, in the event of &{example['Event']}&, %{npc_type}%, says the following line to the Player character: {example['Dialogue']}.\n",
    "<END>\"\"\""
   ]
  },
  {
   "cell_type": "code",
   "execution_count": 8,
   "id": "5e3d64226cbbc1df",
   "metadata": {
    "ExecuteTime": {
     "end_time": "2024-05-26T10:21:30.494554700Z",
     "start_time": "2024-05-26T10:20:53.657960400Z"
    },
    "collapsed": false
   },
   "outputs": [
    {
     "name": "stderr",
     "output_type": "stream",
     "text": [
      "`low_cpu_mem_usage` was None, now set to True since model is quantized.\n"
     ]
    },
    {
     "data": {
      "application/vnd.jupyter.widget-view+json": {
       "model_id": "79193210e54b4dc3b0bf2e4540aab033",
       "version_major": 2,
       "version_minor": 0
      },
      "text/plain": [
       "Loading checkpoint shards:   0%|          | 0/3 [00:00<?, ?it/s]"
      ]
     },
     "metadata": {},
     "output_type": "display_data"
    }
   ],
   "source": [
    "import torch\n",
    "from transformers import AutoTokenizer, AutoModelForCausalLM, BitsAndBytesConfig\n",
    "\n",
    "base_model_id = \"mistralai/Mistral-7B-Instruct-v0.2\"\n",
    "bnb_config = BitsAndBytesConfig(\n",
    "    load_in_4bit=True,\n",
    "    bnb_4bit_use_double_quant=True,\n",
    "    bnb_4bit_quant_type=\"nf4\",\n",
    "    bnb_4bit_compute_dtype=torch.bfloat16\n",
    ")\n",
    "\n",
    "model = AutoModelForCausalLM.from_pretrained(base_model_id, quantization_config=bnb_config)\n",
    "\n",
    "tokenizer = AutoTokenizer.from_pretrained(\n",
    "    base_model_id,\n",
    "    padding_side=\"left\",\n",
    "    add_eos_token=True,\n",
    "    add_bos_token=True,\n",
    ")\n",
    "tokenizer.pad_token = tokenizer.eos_token\n"
   ]
  },
  {
   "cell_type": "code",
   "execution_count": 9,
   "id": "cfe4ef3ec3c37141",
   "metadata": {
    "ExecuteTime": {
     "end_time": "2024-05-26T10:21:36.866895900Z",
     "start_time": "2024-05-26T10:21:36.853891200Z"
    },
    "collapsed": false
   },
   "outputs": [],
   "source": [
    "def generate_and_tokenize_prompt(prompt):\n",
    "    print(formatting_func(prompt))\n",
    "    return tokenizer(formatting_func(prompt))"
   ]
  },
  {
   "cell_type": "code",
   "execution_count": 10,
   "id": "6a540269d58fd473",
   "metadata": {
    "ExecuteTime": {
     "end_time": "2024-05-26T10:21:42.945573700Z",
     "start_time": "2024-05-26T10:21:42.879631Z"
    },
    "collapsed": false
   },
   "outputs": [],
   "source": [
    "tokenized_train_dataset = train_dataset.map(generate_and_tokenize_prompt)"
   ]
  },
  {
   "cell_type": "code",
   "execution_count": 11,
   "id": "4c4e0d60cc136063",
   "metadata": {
    "ExecuteTime": {
     "end_time": "2024-05-26T10:21:43.982395600Z",
     "start_time": "2024-05-26T10:21:43.922678400Z"
    },
    "collapsed": false
   },
   "outputs": [],
   "source": [
    "tokenized_val_dataset = val_dataset.map(generate_and_tokenize_prompt)"
   ]
  },
  {
   "cell_type": "code",
   "execution_count": 12,
   "id": "fe34416de1121bf2",
   "metadata": {
    "ExecuteTime": {
     "end_time": "2024-05-26T10:21:56.898087400Z",
     "start_time": "2024-05-26T10:21:55.640533Z"
    },
    "collapsed": false
   },
   "outputs": [
    {
     "name": "stdout",
     "output_type": "stream",
     "text": [
      "1592\n"
     ]
    },
    {
     "data": {
      "image/png": "[encoded data removed]",
      "text/plain": [
       "<Figure size 1000x600 with 1 Axes>"
      ]
     },
     "metadata": {},
     "output_type": "display_data"
    }
   ],
   "source": [
    "import matplotlib.pyplot as plt\n",
    "\n",
    "\n",
    "def plot_data_lengths(tokenized_train_dataset, tokenized_val_dataset):\n",
    "    lengths = [len(x['input_ids']) for x in tokenized_train_dataset['train']]\n",
    "    lengths += [len(x['input_ids']) for x in tokenized_val_dataset['train']]\n",
    "    print(len(lengths))\n",
    "\n",
    "    # Plotting the histogram\n",
    "    plt.figure(figsize=(10, 6))\n",
    "    plt.hist(lengths, bins=20, alpha=0.7, color='blue')\n",
    "    plt.xlabel('Length of input_ids')\n",
    "    plt.ylabel('Frequency')\n",
    "    plt.title('Distribution of Lengths of input_ids')\n",
    "    plt.show()\n",
    "\n",
    "plot_data_lengths(tokenized_train_dataset, tokenized_val_dataset)"
   ]
  },
  {
   "cell_type": "code",
   "execution_count": 13,
   "id": "805a339c5f8c1dbd",
   "metadata": {
    "ExecuteTime": {
     "end_time": "2024-05-26T10:22:01.161805500Z",
     "start_time": "2024-05-26T10:22:00.492064900Z"
    },
    "collapsed": false
   },
   "outputs": [
    {
     "name": "stdout",
     "output_type": "stream",
     "text": [
      "Mean: 181.06497175141243\n",
      "95th percentile: 230.25\n",
      "Max length: 321\n"
     ]
    }
   ],
   "source": [
    "import numpy as np\n",
    "\n",
    "lengths = [len(x['input_ids']) for x in tokenized_train_dataset['train']]\n",
    "\n",
    "print(f\"Mean: {np.mean(lengths)}\")\n",
    "\n",
    "# Calculate the 95th percentile\n",
    "print(f\"95th percentile: {np.percentile(lengths, 95)}\")\n",
    "\n",
    "# Calculate the max length\n",
    "print(f\"Max length: {np.max(lengths)}\")"
   ]
  },
  {
   "cell_type": "code",
   "execution_count": 14,
   "id": "6b3e76e5d59b83b4",
   "metadata": {
    "ExecuteTime": {
     "end_time": "2024-05-26T10:22:07.753271800Z",
     "start_time": "2024-05-26T10:22:07.741762600Z"
    },
    "collapsed": false
   },
   "outputs": [],
   "source": [
    "max_length = 321  # This was an appropriate max length for my dataset\n",
    "\n",
    "def generate_and_tokenize_prompt2(prompt):\n",
    "    result = tokenizer(\n",
    "        formatting_func(prompt),\n",
    "        truncation=True,\n",
    "        max_length=max_length,\n",
    "        padding=\"max_length\",\n",
    "    )\n",
    "    result[\"labels\"] = result[\"input_ids\"].copy()\n",
    "    return result"
   ]
  },
  {
   "cell_type": "code",
   "execution_count": 16,
   "id": "a4121ff13e365288",
   "metadata": {
    "ExecuteTime": {
     "end_time": "2024-05-26T10:23:02.984681800Z",
     "start_time": "2024-05-26T10:23:01.947321900Z"
    },
    "collapsed": false
   },
   "outputs": [
    {
     "data": {
      "application/vnd.jupyter.widget-view+json": {
       "model_id": "80566bdff7554a22817ed592c457da00",
       "version_major": 2,
       "version_minor": 0
      },
      "text/plain": [
       "Map:   0%|          | 0/1416 [00:00<?, ? examples/s]"
      ]
     },
     "metadata": {},
     "output_type": "display_data"
    }
   ],
   "source": [
    "tokenized_train_dataset = train_dataset.map(generate_and_tokenize_prompt2)\n",
    "tokenized_val_dataset = val_dataset.map(generate_and_tokenize_prompt2)"
   ]
  },
  {
   "cell_type": "code",
   "execution_count": 17,
   "id": "5673a5175e6f2638",
   "metadata": {
    "ExecuteTime": {
     "end_time": "2024-05-26T10:23:05.342882200Z",
     "start_time": "2024-05-26T10:23:03.963001600Z"
    },
    "collapsed": false
   },
   "outputs": [
    {
     "name": "stdout",
     "output_type": "stream",
     "text": [
      "1592\n"
     ]
    },
    {
     "data": {
      "image/png": "[encoded data removed]",
      "text/plain": [
       "<Figure size 1000x600 with 1 Axes>"
      ]
     },
     "metadata": {},
     "output_type": "display_data"
    }
   ],
   "source": [
    "plot_data_lengths(tokenized_train_dataset, tokenized_val_dataset)"
   ]
  },
  {
   "cell_type": "code",
   "execution_count": 44,
   "id": "678f82c73601a318",
   "metadata": {
    "ExecuteTime": {
     "end_time": "2024-05-26T08:11:50.790310400Z",
     "start_time": "2024-05-26T08:11:50.747303500Z"
    },
    "collapsed": false
   },
   "outputs": [],
   "source": [
    "eval_prompt = (f\"\"\"The following text describes a greeting exchange between the Player and an NPC. The text will be enclosed within <START> and <END>. There are specific rules that apply only to the text: the event will be enclosed inside & &, the type of speaker will be enclosed inside % %, the line spoken will be enclosed inside \" \", and the tone of the line will be enclosed inside ; ;. Please fill the missing parts needed to complete the below text between <START> and <END>. \n",
    "\n",
    "<START>\n",
    "In the world of Skyrim from the game Elder Scrolls V, in the case of a & &, between an NPC and the Player character, % % greets the Player with the following dialogue: \" \", in a ; ; tone.\n",
    "<END>\n",
    "\n",
    "Answer:\"\"\")"
   ]
  },
  {
   "cell_type": "code",
   "execution_count": 45,
   "id": "47c8339c7d3e3ea2",
   "metadata": {
    "ExecuteTime": {
     "end_time": "2024-05-26T08:11:57.651102600Z",
     "start_time": "2024-05-26T08:11:51.148693200Z"
    },
    "collapsed": false
   },
   "outputs": [
    {
     "name": "stderr",
     "output_type": "stream",
     "text": [
      "Setting `pad_token_id` to `eos_token_id`:2 for open-end generation.\n"
     ]
    },
    {
     "name": "stdout",
     "output_type": "stream",
     "text": [
      "The following text describes a greeting exchange between the Player and an NPC. The text will be enclosed within <START> and <END>. There are specific rules that apply only to the text: the event will be enclosed inside & &, the type of speaker will be enclosed inside % %, the line spoken will be enclosed inside \" \", and the tone of the line will be enclosed inside ; ;. Please fill the missing parts needed to complete the below text between <START> and <END>. \n",
      "\n",
      "<START>\n",
      "In the world of Skyrim from the game Elder Scrolls V, in the case of a & &, between an NPC and the Player character, % % greets the Player with the following dialogue: \" \", in a ; ; tone.\n",
      "<END>\n",
      "\n",
      "Answer:\n",
      "<START>\n",
      "In the world of Skyrim from the game Elder Scrolls V, in the case of an encounter, between an NPC named Jorik and the Player character, Jorik greets the Player with the following dialogue: \"Greetings traveler! I hope your journey through Skyrim has been a successful one.\", in a friendly; welcoming tone.\n",
      "<END>\n"
     ]
    }
   ],
   "source": [
    "# Init an eval tokenizer that doesn't add padding or eos token\n",
    "eval_tokenizer = AutoTokenizer.from_pretrained(\n",
    "    base_model_id,\n",
    "    add_bos_token=True,\n",
    ")\n",
    "\n",
    "model_input = eval_tokenizer(eval_prompt, return_tensors=\"pt\").to(\"cuda\")\n",
    "\n",
    "model.eval()\n",
    "with torch.no_grad():\n",
    "    print(eval_tokenizer.decode(model.generate(**model_input, max_new_tokens=321, repetition_penalty=1.15)[0],\n",
    "                                skip_special_tokens=True))"
   ]
  },
  {
   "cell_type": "code",
   "execution_count": 18,
   "id": "2441ddcd1a5181df",
   "metadata": {
    "ExecuteTime": {
     "end_time": "2024-05-26T10:23:14.147730100Z",
     "start_time": "2024-05-26T10:23:14.144734300Z"
    },
    "collapsed": false
   },
   "outputs": [],
   "source": [
    "# from peft import PeftConfig\n",
    "# \n",
    "# adapter_model_id = \"ybelkada/opt-350m-lora\"\n",
    "# peft_config = PeftConfig.from_pretrained(adapter_model_id)\n",
    "# to initiate with random weights\n",
    "# peft_config.init_lora_weights = False\n",
    "# \n",
    "# model.add_adapter(peft_config)\n",
    "# model.enable_adapters()"
   ]
  },
  {
   "cell_type": "code",
   "execution_count": 19,
   "id": "570b93f08b1b61eb",
   "metadata": {
    "ExecuteTime": {
     "end_time": "2024-05-26T10:23:16.959070300Z",
     "start_time": "2024-05-26T10:23:16.823901300Z"
    },
    "collapsed": false
   },
   "outputs": [],
   "source": [
    "from peft import prepare_model_for_kbit_training\n",
    "\n",
    "model.gradient_checkpointing_enable()\n",
    "model = prepare_model_for_kbit_training(model)"
   ]
  },
  {
   "cell_type": "code",
   "execution_count": 20,
   "id": "ddf562f6b54c4893",
   "metadata": {
    "ExecuteTime": {
     "end_time": "2024-05-26T10:23:19.628515400Z",
     "start_time": "2024-05-26T10:23:19.619008200Z"
    },
    "collapsed": false
   },
   "outputs": [],
   "source": [
    "def print_trainable_parameters(model):\n",
    "    \"\"\"\n",
    "    Prints the number of trainable parameters in the model.\n",
    "    \"\"\"\n",
    "    trainable_params = 0\n",
    "    all_param = 0\n",
    "    for _, param in model.named_parameters():\n",
    "        all_param += param.numel()\n",
    "        if param.requires_grad:\n",
    "            trainable_params += param.numel()\n",
    "    print(\n",
    "        f\"trainable params: {trainable_params} || all params: {all_param} || trainable%: {100 * trainable_params / all_param}\"\n",
    "    )"
   ]
  },
  {
   "cell_type": "code",
   "execution_count": 21,
   "id": "1116078209be7ce6",
   "metadata": {
    "ExecuteTime": {
     "end_time": "2024-05-26T10:23:20.009639Z",
     "start_time": "2024-05-26T10:23:19.998633800Z"
    },
    "collapsed": false
   },
   "outputs": [
    {
     "name": "stdout",
     "output_type": "stream",
     "text": [
      "MistralForCausalLM(\n",
      "  (model): MistralModel(\n",
      "    (embed_tokens): Embedding(32000, 4096)\n",
      "    (layers): ModuleList(\n",
      "      (0-31): 32 x MistralDecoderLayer(\n",
      "        (self_attn): MistralSdpaAttention(\n",
      "          (q_proj): Linear4bit(in_features=4096, out_features=4096, bias=False)\n",
      "          (k_proj): Linear4bit(in_features=4096, out_features=1024, bias=False)\n",
      "          (v_proj): Linear4bit(in_features=4096, out_features=1024, bias=False)\n",
      "          (o_proj): Linear4bit(in_features=4096, out_features=4096, bias=False)\n",
      "          (rotary_emb): MistralRotaryEmbedding()\n",
      "        )\n",
      "        (mlp): MistralMLP(\n",
      "          (gate_proj): Linear4bit(in_features=4096, out_features=14336, bias=False)\n",
      "          (up_proj): Linear4bit(in_features=4096, out_features=14336, bias=False)\n",
      "          (down_proj): Linear4bit(in_features=14336, out_features=4096, bias=False)\n",
      "          (act_fn): SiLU()\n",
      "        )\n",
      "        (input_layernorm): MistralRMSNorm()\n",
      "        (post_attention_layernorm): MistralRMSNorm()\n",
      "      )\n",
      "    )\n",
      "    (norm): MistralRMSNorm()\n",
      "  )\n",
      "  (lm_head): Linear(in_features=4096, out_features=32000, bias=False)\n",
      ")\n"
     ]
    }
   ],
   "source": [
    "print(model)"
   ]
  },
  {
   "cell_type": "code",
   "execution_count": 22,
   "id": "6fe694a164bb1ea8",
   "metadata": {
    "ExecuteTime": {
     "end_time": "2024-05-26T10:23:24.995869Z",
     "start_time": "2024-05-26T10:23:23.461097700Z"
    },
    "collapsed": false
   },
   "outputs": [
    {
     "name": "stdout",
     "output_type": "stream",
     "text": [
      "trainable params: 85041152 || all params: 3837112320 || trainable%: 2.2162799758751914\n"
     ]
    }
   ],
   "source": [
    "from peft import LoraConfig, get_peft_model\n",
    "\n",
    "config = LoraConfig(\n",
    "    r=32,\n",
    "    lora_alpha=64,\n",
    "    target_modules=[\n",
    "        \"q_proj\",\n",
    "        \"k_proj\",\n",
    "        \"v_proj\",\n",
    "        \"o_proj\",\n",
    "        \"gate_proj\",\n",
    "        \"up_proj\",\n",
    "        \"down_proj\",\n",
    "        \"lm_head\",\n",
    "    ],\n",
    "    bias=\"none\",\n",
    "    lora_dropout=0.05,  # Conventional\n",
    "    task_type=\"CAUSAL_LM\",\n",
    ")\n",
    "\n",
    "model = get_peft_model(model, config)\n",
    "print_trainable_parameters(model)"
   ]
  },
  {
   "cell_type": "code",
   "execution_count": 23,
   "id": "6354fba6c3915b3",
   "metadata": {
    "ExecuteTime": {
     "end_time": "2024-05-26T10:23:25.010014500Z",
     "start_time": "2024-05-26T10:23:24.997870300Z"
    },
    "collapsed": false
   },
   "outputs": [
    {
     "name": "stdout",
     "output_type": "stream",
     "text": [
      "PeftModelForCausalLM(\n",
      "  (base_model): LoraModel(\n",
      "    (model): MistralForCausalLM(\n",
      "      (model): MistralModel(\n",
      "        (embed_tokens): Embedding(32000, 4096)\n",
      "        (layers): ModuleList(\n",
      "          (0-31): 32 x MistralDecoderLayer(\n",
      "            (self_attn): MistralSdpaAttention(\n",
      "              (q_proj): lora.Linear4bit(\n",
      "                (base_layer): Linear4bit(in_features=4096, out_features=4096, bias=False)\n",
      "                (lora_dropout): ModuleDict(\n",
      "                  (default): Dropout(p=0.05, inplace=False)\n",
      "                )\n",
      "                (lora_A): ModuleDict(\n",
      "                  (default): Linear(in_features=4096, out_features=32, bias=False)\n",
      "                )\n",
      "                (lora_B): ModuleDict(\n",
      "                  (default): Linear(in_features=32, out_features=4096, bias=False)\n",
      "                )\n",
      "                (lora_embedding_A): ParameterDict()\n",
      "                (lora_embedding_B): ParameterDict()\n",
      "              )\n",
      "              (k_proj): lora.Linear4bit(\n",
      "                (base_layer): Linear4bit(in_features=4096, out_features=1024, bias=False)\n",
      "                (lora_dropout): ModuleDict(\n",
      "                  (default): Dropout(p=0.05, inplace=False)\n",
      "                )\n",
      "                (lora_A): ModuleDict(\n",
      "                  (default): Linear(in_features=4096, out_features=32, bias=False)\n",
      "                )\n",
      "                (lora_B): ModuleDict(\n",
      "                  (default): Linear(in_features=32, out_features=1024, bias=False)\n",
      "                )\n",
      "                (lora_embedding_A): ParameterDict()\n",
      "                (lora_embedding_B): ParameterDict()\n",
      "              )\n",
      "              (v_proj): lora.Linear4bit(\n",
      "                (base_layer): Linear4bit(in_features=4096, out_features=1024, bias=False)\n",
      "                (lora_dropout): ModuleDict(\n",
      "                  (default): Dropout(p=0.05, inplace=False)\n",
      "                )\n",
      "                (lora_A): ModuleDict(\n",
      "                  (default): Linear(in_features=4096, out_features=32, bias=False)\n",
      "                )\n",
      "                (lora_B): ModuleDict(\n",
      "                  (default): Linear(in_features=32, out_features=1024, bias=False)\n",
      "                )\n",
      "                (lora_embedding_A): ParameterDict()\n",
      "                (lora_embedding_B): ParameterDict()\n",
      "              )\n",
      "              (o_proj): lora.Linear4bit(\n",
      "                (base_layer): Linear4bit(in_features=4096, out_features=4096, bias=False)\n",
      "                (lora_dropout): ModuleDict(\n",
      "                  (default): Dropout(p=0.05, inplace=False)\n",
      "                )\n",
      "                (lora_A): ModuleDict(\n",
      "                  (default): Linear(in_features=4096, out_features=32, bias=False)\n",
      "                )\n",
      "                (lora_B): ModuleDict(\n",
      "                  (default): Linear(in_features=32, out_features=4096, bias=False)\n",
      "                )\n",
      "                (lora_embedding_A): ParameterDict()\n",
      "                (lora_embedding_B): ParameterDict()\n",
      "              )\n",
      "              (rotary_emb): MistralRotaryEmbedding()\n",
      "            )\n",
      "            (mlp): MistralMLP(\n",
      "              (gate_proj): lora.Linear4bit(\n",
      "                (base_layer): Linear4bit(in_features=4096, out_features=14336, bias=False)\n",
      "                (lora_dropout): ModuleDict(\n",
      "                  (default): Dropout(p=0.05, inplace=False)\n",
      "                )\n",
      "                (lora_A): ModuleDict(\n",
      "                  (default): Linear(in_features=4096, out_features=32, bias=False)\n",
      "                )\n",
      "                (lora_B): ModuleDict(\n",
      "                  (default): Linear(in_features=32, out_features=14336, bias=False)\n",
      "                )\n",
      "                (lora_embedding_A): ParameterDict()\n",
      "                (lora_embedding_B): ParameterDict()\n",
      "              )\n",
      "              (up_proj): lora.Linear4bit(\n",
      "                (base_layer): Linear4bit(in_features=4096, out_features=14336, bias=False)\n",
      "                (lora_dropout): ModuleDict(\n",
      "                  (default): Dropout(p=0.05, inplace=False)\n",
      "                )\n",
      "                (lora_A): ModuleDict(\n",
      "                  (default): Linear(in_features=4096, out_features=32, bias=False)\n",
      "                )\n",
      "                (lora_B): ModuleDict(\n",
      "                  (default): Linear(in_features=32, out_features=14336, bias=False)\n",
      "                )\n",
      "                (lora_embedding_A): ParameterDict()\n",
      "                (lora_embedding_B): ParameterDict()\n",
      "              )\n",
      "              (down_proj): lora.Linear4bit(\n",
      "                (base_layer): Linear4bit(in_features=14336, out_features=4096, bias=False)\n",
      "                (lora_dropout): ModuleDict(\n",
      "                  (default): Dropout(p=0.05, inplace=False)\n",
      "                )\n",
      "                (lora_A): ModuleDict(\n",
      "                  (default): Linear(in_features=14336, out_features=32, bias=False)\n",
      "                )\n",
      "                (lora_B): ModuleDict(\n",
      "                  (default): Linear(in_features=32, out_features=4096, bias=False)\n",
      "                )\n",
      "                (lora_embedding_A): ParameterDict()\n",
      "                (lora_embedding_B): ParameterDict()\n",
      "              )\n",
      "              (act_fn): SiLU()\n",
      "            )\n",
      "            (input_layernorm): MistralRMSNorm()\n",
      "            (post_attention_layernorm): MistralRMSNorm()\n",
      "          )\n",
      "        )\n",
      "        (norm): MistralRMSNorm()\n",
      "      )\n",
      "      (lm_head): lora.Linear(\n",
      "        (base_layer): Linear(in_features=4096, out_features=32000, bias=False)\n",
      "        (lora_dropout): ModuleDict(\n",
      "          (default): Dropout(p=0.05, inplace=False)\n",
      "        )\n",
      "        (lora_A): ModuleDict(\n",
      "          (default): Linear(in_features=4096, out_features=32, bias=False)\n",
      "        )\n",
      "        (lora_B): ModuleDict(\n",
      "          (default): Linear(in_features=32, out_features=32000, bias=False)\n",
      "        )\n",
      "        (lora_embedding_A): ParameterDict()\n",
      "        (lora_embedding_B): ParameterDict()\n",
      "      )\n",
      "    )\n",
      "  )\n",
      ")\n"
     ]
    }
   ],
   "source": [
    "print(model)"
   ]
  },
  {
   "cell_type": "code",
   "execution_count": 24,
   "id": "2fcbe8317af8659a",
   "metadata": {
    "ExecuteTime": {
     "end_time": "2024-05-26T10:23:29.450767700Z",
     "start_time": "2024-05-26T10:23:29.443259200Z"
    },
    "collapsed": false
   },
   "outputs": [],
   "source": [
    "if torch.cuda.device_count() > 1:  # If more than 1 GPU\n",
    "    model.is_parallelizable = True\n",
    "    model.model_parallel = True"
   ]
  },
  {
   "cell_type": "code",
   "execution_count": 25,
   "id": "ec3566a59128b91",
   "metadata": {
    "ExecuteTime": {
     "end_time": "2024-05-26T10:23:32.774662100Z",
     "start_time": "2024-05-26T10:23:32.764388Z"
    },
    "collapsed": false
   },
   "outputs": [],
   "source": [
    "model = accelerator.prepare_model(model)"
   ]
  },
  {
   "cell_type": "code",
   "execution_count": 26,
   "id": "c48d66dfa4929c8f",
   "metadata": {
    "ExecuteTime": {
     "end_time": "2024-05-26T11:35:42.783187600Z",
     "start_time": "2024-05-26T10:23:41.710031300Z"
    },
    "collapsed": false
   },
   "outputs": [
    {
     "name": "stderr",
     "output_type": "stream",
     "text": [
      "C:\\Users\\Pumukl\\AppData\\Local\\Programs\\Python\\Python312\\Lib\\site-packages\\accelerate\\accelerator.py:436: FutureWarning: Passing the following arguments to `Accelerator` is deprecated and will be removed in version 1.0 of Accelerate: dict_keys(['dispatch_batches', 'split_batches', 'even_batches', 'use_seedable_sampler']). Please pass an `accelerate.DataLoaderConfiguration` instead: \n",
      "dataloader_config = DataLoaderConfiguration(dispatch_batches=None, split_batches=False, even_batches=True, use_seedable_sampler=True)\n",
      "  warnings.warn(\n"
     ]
    },
    {
     "data": {
      "text/html": [
       "Changes to your `wandb` environment variables will be ignored because your `wandb` session has already started. For more information on how to modify your settings with `wandb.init()` arguments, please refer to <a href='https://wandb.me/wandb-init' target=\"_blank\">the W&B docs</a>."
      ],
      "text/plain": [
       "<IPython.core.display.HTML object>"
      ]
     },
     "metadata": {},
     "output_type": "display_data"
    },
    {
     "data": {
      "text/html": [
       "Tracking run with wandb version 0.17.0"
      ],
      "text/plain": [
       "<IPython.core.display.HTML object>"
      ]
     },
     "metadata": {},
     "output_type": "display_data"
    },
    {
     "data": {
      "text/html": [
       "Run data is saved locally in <code>C:\\Users\\Pumukl\\Documents\\GitHub\\thesis\\wandb\\run-20240526_132347-agwbxh63</code>"
      ],
      "text/plain": [
       "<IPython.core.display.HTML object>"
      ]
     },
     "metadata": {},
     "output_type": "display_data"
    },
    {
     "data": {
      "text/html": [
       "Syncing run <strong><a href='https://wandb.ai/george-artop/journal-finetune/runs/agwbxh63' target=\"_blank\">mistral-NPC-finetune-2024-05-26-13-23</a></strong> to <a href='https://wandb.ai/george-artop/journal-finetune' target=\"_blank\">Weights & Biases</a> (<a href='https://wandb.me/run' target=\"_blank\">docs</a>)<br/>"
      ],
      "text/plain": [
       "<IPython.core.display.HTML object>"
      ]
     },
     "metadata": {},
     "output_type": "display_data"
    },
    {
     "data": {
      "text/html": [
       " View project at <a href='https://wandb.ai/george-artop/journal-finetune' target=\"_blank\">https://wandb.ai/george-artop/journal-finetune</a>"
      ],
      "text/plain": [
       "<IPython.core.display.HTML object>"
      ]
     },
     "metadata": {},
     "output_type": "display_data"
    },
    {
     "data": {
      "text/html": [
       " View run at <a href='https://wandb.ai/george-artop/journal-finetune/runs/agwbxh63' target=\"_blank\">https://wandb.ai/george-artop/journal-finetune/runs/agwbxh63</a>"
      ],
      "text/plain": [
       "<IPython.core.display.HTML object>"
      ]
     },
     "metadata": {},
     "output_type": "display_data"
    },
    {
     "name": "stderr",
     "output_type": "stream",
     "text": [
      "C:\\Users\\Pumukl\\AppData\\Local\\Programs\\Python\\Python312\\Lib\\site-packages\\torch\\utils\\checkpoint.py:460: UserWarning: torch.utils.checkpoint: please pass in use_reentrant=True or use_reentrant=False explicitly. The default value of use_reentrant will be updated to be False in the future. To maintain current behavior, pass use_reentrant=True. It is recommended that you use use_reentrant=False. Refer to docs for more details on the differences between the two variants.\n",
      "  warnings.warn(\n",
      "C:\\Users\\Pumukl\\AppData\\Local\\Programs\\Python\\Python312\\Lib\\site-packages\\transformers\\models\\mistral\\modeling_mistral.py:688: UserWarning: 1Torch was not compiled with flash attention. (Triggered internally at ..\\aten\\src\\ATen\\native\\transformers\\cuda\\sdp_utils.cpp:263.)\n",
      "  attn_output = torch.nn.functional.scaled_dot_product_attention(\n"
     ]
    },
    {
     "data": {
      "text/html": [
       "\n",
       "    <div>\n",
       "      \n",
       "      <progress value='151' max='3564' style='width:300px; height:20px; vertical-align: middle;'></progress>\n",
       "      [ 151/3564 09:38 < 3:40:56, 0.26 it/s, Epoch 0.21/6]\n",
       "    </div>\n",
       "    <table border=\"1\" class=\"dataframe\">\n",
       "  <thead>\n",
       " <tr style=\"text-align: left;\">\n",
       "      <th>Step</th>\n",
       "      <th>Training Loss</th>\n",
       "      <th>Validation Loss</th>\n",
       "    </tr>\n",
       "  </thead>\n",
       "  <tbody>\n",
       "    <tr>\n",
       "      <td>50</td>\n",
       "      <td>0.475100</td>\n",
       "      <td>0.435544</td>\n",
       "    </tr>\n",
       "    <tr>\n",
       "      <td>100</td>\n",
       "      <td>0.335700</td>\n",
       "      <td>0.332950</td>\n",
       "    </tr>\n",
       "    <tr>\n",
       "      <td>150</td>\n",
       "      <td>0.238300</td>\n",
       "      <td>0.280156</td>\n",
       "    </tr>\n",
       "  </tbody>\n",
       "</table><p>"
      ],
      "text/plain": [
       "<IPython.core.display.HTML object>"
      ]
     },
     "metadata": {},
     "output_type": "display_data"
    },
    {
     "data": {
      "text/html": [
       "\n",
       "    <div>\n",
       "      \n",
       "      <progress value='201' max='3564' style='width:300px; height:20px; vertical-align: middle;'></progress>\n",
       "      [ 201/3564 13:17 < 3:44:36, 0.25 it/s, Epoch 0.28/6]\n",
       "    </div>\n",
       "    <table border=\"1\" class=\"dataframe\">\n",
       "  <thead>\n",
       " <tr style=\"text-align: left;\">\n",
       "      <th>Step</th>\n",
       "      <th>Training Loss</th>\n",
       "      <th>Validation Loss</th>\n",
       "    </tr>\n",
       "  </thead>\n",
       "  <tbody>\n",
       "    <tr>\n",
       "      <td>50</td>\n",
       "      <td>0.475100</td>\n",
       "      <td>0.435544</td>\n",
       "    </tr>\n",
       "    <tr>\n",
       "      <td>100</td>\n",
       "      <td>0.335700</td>\n",
       "      <td>0.332950</td>\n",
       "    </tr>\n",
       "    <tr>\n",
       "      <td>150</td>\n",
       "      <td>0.238300</td>\n",
       "      <td>0.280156</td>\n",
       "    </tr>\n",
       "    <tr>\n",
       "      <td>200</td>\n",
       "      <td>0.242000</td>\n",
       "      <td>0.268305</td>\n",
       "    </tr>\n",
       "  </tbody>\n",
       "</table><p>"
      ],
      "text/plain": [
       "<IPython.core.display.HTML object>"
      ]
     },
     "metadata": {},
     "output_type": "display_data"
    },
    {
     "data": {
      "text/html": [
       "\n",
       "    <div>\n",
       "      \n",
       "      <progress value='251' max='3564' style='width:300px; height:20px; vertical-align: middle;'></progress>\n",
       "      [ 251/3564 16:57 < 3:45:36, 0.24 it/s, Epoch 0.35/6]\n",
       "    </div>\n",
       "    <table border=\"1\" class=\"dataframe\">\n",
       "  <thead>\n",
       " <tr style=\"text-align: left;\">\n",
       "      <th>Step</th>\n",
       "      <th>Training Loss</th>\n",
       "      <th>Validation Loss</th>\n",
       "    </tr>\n",
       "  </thead>\n",
       "  <tbody>\n",
       "    <tr>\n",
       "      <td>50</td>\n",
       "      <td>0.475100</td>\n",
       "      <td>0.435544</td>\n",
       "    </tr>\n",
       "    <tr>\n",
       "      <td>100</td>\n",
       "      <td>0.335700</td>\n",
       "      <td>0.332950</td>\n",
       "    </tr>\n",
       "    <tr>\n",
       "      <td>150</td>\n",
       "      <td>0.238300</td>\n",
       "      <td>0.280156</td>\n",
       "    </tr>\n",
       "    <tr>\n",
       "      <td>200</td>\n",
       "      <td>0.242000</td>\n",
       "      <td>0.268305</td>\n",
       "    </tr>\n",
       "    <tr>\n",
       "      <td>250</td>\n",
       "      <td>0.216100</td>\n",
       "      <td>0.252031</td>\n",
       "    </tr>\n",
       "  </tbody>\n",
       "</table><p>"
      ],
      "text/plain": [
       "<IPython.core.display.HTML object>"
      ]
     },
     "metadata": {},
     "output_type": "display_data"
    },
    {
     "data": {
      "text/html": [
       "\n",
       "    <div>\n",
       "      \n",
       "      <progress value='301' max='3564' style='width:300px; height:20px; vertical-align: middle;'></progress>\n",
       "      [ 301/3564 20:39 < 3:45:25, 0.24 it/s, Epoch 0.42/6]\n",
       "    </div>\n",
       "    <table border=\"1\" class=\"dataframe\">\n",
       "  <thead>\n",
       " <tr style=\"text-align: left;\">\n",
       "      <th>Step</th>\n",
       "      <th>Training Loss</th>\n",
       "      <th>Validation Loss</th>\n",
       "    </tr>\n",
       "  </thead>\n",
       "  <tbody>\n",
       "    <tr>\n",
       "      <td>50</td>\n",
       "      <td>0.475100</td>\n",
       "      <td>0.435544</td>\n",
       "    </tr>\n",
       "    <tr>\n",
       "      <td>100</td>\n",
       "      <td>0.335700</td>\n",
       "      <td>0.332950</td>\n",
       "    </tr>\n",
       "    <tr>\n",
       "      <td>150</td>\n",
       "      <td>0.238300</td>\n",
       "      <td>0.280156</td>\n",
       "    </tr>\n",
       "    <tr>\n",
       "      <td>200</td>\n",
       "      <td>0.242000</td>\n",
       "      <td>0.268305</td>\n",
       "    </tr>\n",
       "    <tr>\n",
       "      <td>250</td>\n",
       "      <td>0.216100</td>\n",
       "      <td>0.252031</td>\n",
       "    </tr>\n",
       "    <tr>\n",
       "      <td>300</td>\n",
       "      <td>0.215500</td>\n",
       "      <td>0.238443</td>\n",
       "    </tr>\n",
       "  </tbody>\n",
       "</table><p>"
      ],
      "text/plain": [
       "<IPython.core.display.HTML object>"
      ]
     },
     "metadata": {},
     "output_type": "display_data"
    },
    {
     "data": {
      "text/html": [
       "\n",
       "    <div>\n",
       "      \n",
       "      <progress value='351' max='3564' style='width:300px; height:20px; vertical-align: middle;'></progress>\n",
       "      [ 351/3564 24:23 < 3:44:29, 0.24 it/s, Epoch 0.49/6]\n",
       "    </div>\n",
       "    <table border=\"1\" class=\"dataframe\">\n",
       "  <thead>\n",
       " <tr style=\"text-align: left;\">\n",
       "      <th>Step</th>\n",
       "      <th>Training Loss</th>\n",
       "      <th>Validation Loss</th>\n",
       "    </tr>\n",
       "  </thead>\n",
       "  <tbody>\n",
       "    <tr>\n",
       "      <td>50</td>\n",
       "      <td>0.475100</td>\n",
       "      <td>0.435544</td>\n",
       "    </tr>\n",
       "    <tr>\n",
       "      <td>100</td>\n",
       "      <td>0.335700</td>\n",
       "      <td>0.332950</td>\n",
       "    </tr>\n",
       "    <tr>\n",
       "      <td>150</td>\n",
       "      <td>0.238300</td>\n",
       "      <td>0.280156</td>\n",
       "    </tr>\n",
       "    <tr>\n",
       "      <td>200</td>\n",
       "      <td>0.242000</td>\n",
       "      <td>0.268305</td>\n",
       "    </tr>\n",
       "    <tr>\n",
       "      <td>250</td>\n",
       "      <td>0.216100</td>\n",
       "      <td>0.252031</td>\n",
       "    </tr>\n",
       "    <tr>\n",
       "      <td>300</td>\n",
       "      <td>0.215500</td>\n",
       "      <td>0.238443</td>\n",
       "    </tr>\n",
       "    <tr>\n",
       "      <td>350</td>\n",
       "      <td>0.179800</td>\n",
       "      <td>0.232428</td>\n",
       "    </tr>\n",
       "  </tbody>\n",
       "</table><p>"
      ],
      "text/plain": [
       "<IPython.core.display.HTML object>"
      ]
     },
     "metadata": {},
     "output_type": "display_data"
    },
    {
     "data": {
      "text/html": [
       "\n",
       "    <div>\n",
       "      \n",
       "      <progress value='401' max='3564' style='width:300px; height:20px; vertical-align: middle;'></progress>\n",
       "      [ 401/3564 28:05 < 3:42:42, 0.24 it/s, Epoch 0.56/6]\n",
       "    </div>\n",
       "    <table border=\"1\" class=\"dataframe\">\n",
       "  <thead>\n",
       " <tr style=\"text-align: left;\">\n",
       "      <th>Step</th>\n",
       "      <th>Training Loss</th>\n",
       "      <th>Validation Loss</th>\n",
       "    </tr>\n",
       "  </thead>\n",
       "  <tbody>\n",
       "    <tr>\n",
       "      <td>50</td>\n",
       "      <td>0.475100</td>\n",
       "      <td>0.435544</td>\n",
       "    </tr>\n",
       "    <tr>\n",
       "      <td>100</td>\n",
       "      <td>0.335700</td>\n",
       "      <td>0.332950</td>\n",
       "    </tr>\n",
       "    <tr>\n",
       "      <td>150</td>\n",
       "      <td>0.238300</td>\n",
       "      <td>0.280156</td>\n",
       "    </tr>\n",
       "    <tr>\n",
       "      <td>200</td>\n",
       "      <td>0.242000</td>\n",
       "      <td>0.268305</td>\n",
       "    </tr>\n",
       "    <tr>\n",
       "      <td>250</td>\n",
       "      <td>0.216100</td>\n",
       "      <td>0.252031</td>\n",
       "    </tr>\n",
       "    <tr>\n",
       "      <td>300</td>\n",
       "      <td>0.215500</td>\n",
       "      <td>0.238443</td>\n",
       "    </tr>\n",
       "    <tr>\n",
       "      <td>350</td>\n",
       "      <td>0.179800</td>\n",
       "      <td>0.232428</td>\n",
       "    </tr>\n",
       "    <tr>\n",
       "      <td>400</td>\n",
       "      <td>0.208500</td>\n",
       "      <td>0.229831</td>\n",
       "    </tr>\n",
       "  </tbody>\n",
       "</table><p>"
      ],
      "text/plain": [
       "<IPython.core.display.HTML object>"
      ]
     },
     "metadata": {},
     "output_type": "display_data"
    },
    {
     "data": {
      "text/html": [
       "\n",
       "    <div>\n",
       "      \n",
       "      <progress value='451' max='3564' style='width:300px; height:20px; vertical-align: middle;'></progress>\n",
       "      [ 451/3564 31:48 < 3:40:29, 0.24 it/s, Epoch 0.64/6]\n",
       "    </div>\n",
       "    <table border=\"1\" class=\"dataframe\">\n",
       "  <thead>\n",
       " <tr style=\"text-align: left;\">\n",
       "      <th>Step</th>\n",
       "      <th>Training Loss</th>\n",
       "      <th>Validation Loss</th>\n",
       "    </tr>\n",
       "  </thead>\n",
       "  <tbody>\n",
       "    <tr>\n",
       "      <td>50</td>\n",
       "      <td>0.475100</td>\n",
       "      <td>0.435544</td>\n",
       "    </tr>\n",
       "    <tr>\n",
       "      <td>100</td>\n",
       "      <td>0.335700</td>\n",
       "      <td>0.332950</td>\n",
       "    </tr>\n",
       "    <tr>\n",
       "      <td>150</td>\n",
       "      <td>0.238300</td>\n",
       "      <td>0.280156</td>\n",
       "    </tr>\n",
       "    <tr>\n",
       "      <td>200</td>\n",
       "      <td>0.242000</td>\n",
       "      <td>0.268305</td>\n",
       "    </tr>\n",
       "    <tr>\n",
       "      <td>250</td>\n",
       "      <td>0.216100</td>\n",
       "      <td>0.252031</td>\n",
       "    </tr>\n",
       "    <tr>\n",
       "      <td>300</td>\n",
       "      <td>0.215500</td>\n",
       "      <td>0.238443</td>\n",
       "    </tr>\n",
       "    <tr>\n",
       "      <td>350</td>\n",
       "      <td>0.179800</td>\n",
       "      <td>0.232428</td>\n",
       "    </tr>\n",
       "    <tr>\n",
       "      <td>400</td>\n",
       "      <td>0.208500</td>\n",
       "      <td>0.229831</td>\n",
       "    </tr>\n",
       "    <tr>\n",
       "      <td>450</td>\n",
       "      <td>0.179800</td>\n",
       "      <td>0.222132</td>\n",
       "    </tr>\n",
       "  </tbody>\n",
       "</table><p>"
      ],
      "text/plain": [
       "<IPython.core.display.HTML object>"
      ]
     },
     "metadata": {},
     "output_type": "display_data"
    },
    {
     "data": {
      "text/html": [
       "\n",
       "    <div>\n",
       "      \n",
       "      <progress value='501' max='3564' style='width:300px; height:20px; vertical-align: middle;'></progress>\n",
       "      [ 501/3564 35:31 < 3:38:02, 0.23 it/s, Epoch 0.71/6]\n",
       "    </div>\n",
       "    <table border=\"1\" class=\"dataframe\">\n",
       "  <thead>\n",
       " <tr style=\"text-align: left;\">\n",
       "      <th>Step</th>\n",
       "      <th>Training Loss</th>\n",
       "      <th>Validation Loss</th>\n",
       "    </tr>\n",
       "  </thead>\n",
       "  <tbody>\n",
       "    <tr>\n",
       "      <td>50</td>\n",
       "      <td>0.475100</td>\n",
       "      <td>0.435544</td>\n",
       "    </tr>\n",
       "    <tr>\n",
       "      <td>100</td>\n",
       "      <td>0.335700</td>\n",
       "      <td>0.332950</td>\n",
       "    </tr>\n",
       "    <tr>\n",
       "      <td>150</td>\n",
       "      <td>0.238300</td>\n",
       "      <td>0.280156</td>\n",
       "    </tr>\n",
       "    <tr>\n",
       "      <td>200</td>\n",
       "      <td>0.242000</td>\n",
       "      <td>0.268305</td>\n",
       "    </tr>\n",
       "    <tr>\n",
       "      <td>250</td>\n",
       "      <td>0.216100</td>\n",
       "      <td>0.252031</td>\n",
       "    </tr>\n",
       "    <tr>\n",
       "      <td>300</td>\n",
       "      <td>0.215500</td>\n",
       "      <td>0.238443</td>\n",
       "    </tr>\n",
       "    <tr>\n",
       "      <td>350</td>\n",
       "      <td>0.179800</td>\n",
       "      <td>0.232428</td>\n",
       "    </tr>\n",
       "    <tr>\n",
       "      <td>400</td>\n",
       "      <td>0.208500</td>\n",
       "      <td>0.229831</td>\n",
       "    </tr>\n",
       "    <tr>\n",
       "      <td>450</td>\n",
       "      <td>0.179800</td>\n",
       "      <td>0.222132</td>\n",
       "    </tr>\n",
       "    <tr>\n",
       "      <td>500</td>\n",
       "      <td>0.194400</td>\n",
       "      <td>0.215440</td>\n",
       "    </tr>\n",
       "  </tbody>\n",
       "</table><p>"
      ],
      "text/plain": [
       "<IPython.core.display.HTML object>"
      ]
     },
     "metadata": {},
     "output_type": "display_data"
    },
    {
     "data": {
      "text/html": [
       "\n",
       "    <div>\n",
       "      \n",
       "      <progress value='551' max='3564' style='width:300px; height:20px; vertical-align: middle;'></progress>\n",
       "      [ 551/3564 39:14 < 3:35:21, 0.23 it/s, Epoch 0.78/6]\n",
       "    </div>\n",
       "    <table border=\"1\" class=\"dataframe\">\n",
       "  <thead>\n",
       " <tr style=\"text-align: left;\">\n",
       "      <th>Step</th>\n",
       "      <th>Training Loss</th>\n",
       "      <th>Validation Loss</th>\n",
       "    </tr>\n",
       "  </thead>\n",
       "  <tbody>\n",
       "    <tr>\n",
       "      <td>50</td>\n",
       "      <td>0.475100</td>\n",
       "      <td>0.435544</td>\n",
       "    </tr>\n",
       "    <tr>\n",
       "      <td>100</td>\n",
       "      <td>0.335700</td>\n",
       "      <td>0.332950</td>\n",
       "    </tr>\n",
       "    <tr>\n",
       "      <td>150</td>\n",
       "      <td>0.238300</td>\n",
       "      <td>0.280156</td>\n",
       "    </tr>\n",
       "    <tr>\n",
       "      <td>200</td>\n",
       "      <td>0.242000</td>\n",
       "      <td>0.268305</td>\n",
       "    </tr>\n",
       "    <tr>\n",
       "      <td>250</td>\n",
       "      <td>0.216100</td>\n",
       "      <td>0.252031</td>\n",
       "    </tr>\n",
       "    <tr>\n",
       "      <td>300</td>\n",
       "      <td>0.215500</td>\n",
       "      <td>0.238443</td>\n",
       "    </tr>\n",
       "    <tr>\n",
       "      <td>350</td>\n",
       "      <td>0.179800</td>\n",
       "      <td>0.232428</td>\n",
       "    </tr>\n",
       "    <tr>\n",
       "      <td>400</td>\n",
       "      <td>0.208500</td>\n",
       "      <td>0.229831</td>\n",
       "    </tr>\n",
       "    <tr>\n",
       "      <td>450</td>\n",
       "      <td>0.179800</td>\n",
       "      <td>0.222132</td>\n",
       "    </tr>\n",
       "    <tr>\n",
       "      <td>500</td>\n",
       "      <td>0.194400</td>\n",
       "      <td>0.215440</td>\n",
       "    </tr>\n",
       "    <tr>\n",
       "      <td>550</td>\n",
       "      <td>0.197000</td>\n",
       "      <td>0.213626</td>\n",
       "    </tr>\n",
       "  </tbody>\n",
       "</table><p>"
      ],
      "text/plain": [
       "<IPython.core.display.HTML object>"
      ]
     },
     "metadata": {},
     "output_type": "display_data"
    },
    {
     "data": {
      "text/html": [
       "\n",
       "    <div>\n",
       "      \n",
       "      <progress value='601' max='3564' style='width:300px; height:20px; vertical-align: middle;'></progress>\n",
       "      [ 601/3564 42:57 < 3:32:29, 0.23 it/s, Epoch 0.85/6]\n",
       "    </div>\n",
       "    <table border=\"1\" class=\"dataframe\">\n",
       "  <thead>\n",
       " <tr style=\"text-align: left;\">\n",
       "      <th>Step</th>\n",
       "      <th>Training Loss</th>\n",
       "      <th>Validation Loss</th>\n",
       "    </tr>\n",
       "  </thead>\n",
       "  <tbody>\n",
       "    <tr>\n",
       "      <td>50</td>\n",
       "      <td>0.475100</td>\n",
       "      <td>0.435544</td>\n",
       "    </tr>\n",
       "    <tr>\n",
       "      <td>100</td>\n",
       "      <td>0.335700</td>\n",
       "      <td>0.332950</td>\n",
       "    </tr>\n",
       "    <tr>\n",
       "      <td>150</td>\n",
       "      <td>0.238300</td>\n",
       "      <td>0.280156</td>\n",
       "    </tr>\n",
       "    <tr>\n",
       "      <td>200</td>\n",
       "      <td>0.242000</td>\n",
       "      <td>0.268305</td>\n",
       "    </tr>\n",
       "    <tr>\n",
       "      <td>250</td>\n",
       "      <td>0.216100</td>\n",
       "      <td>0.252031</td>\n",
       "    </tr>\n",
       "    <tr>\n",
       "      <td>300</td>\n",
       "      <td>0.215500</td>\n",
       "      <td>0.238443</td>\n",
       "    </tr>\n",
       "    <tr>\n",
       "      <td>350</td>\n",
       "      <td>0.179800</td>\n",
       "      <td>0.232428</td>\n",
       "    </tr>\n",
       "    <tr>\n",
       "      <td>400</td>\n",
       "      <td>0.208500</td>\n",
       "      <td>0.229831</td>\n",
       "    </tr>\n",
       "    <tr>\n",
       "      <td>450</td>\n",
       "      <td>0.179800</td>\n",
       "      <td>0.222132</td>\n",
       "    </tr>\n",
       "    <tr>\n",
       "      <td>500</td>\n",
       "      <td>0.194400</td>\n",
       "      <td>0.215440</td>\n",
       "    </tr>\n",
       "    <tr>\n",
       "      <td>550</td>\n",
       "      <td>0.197000</td>\n",
       "      <td>0.213626</td>\n",
       "    </tr>\n",
       "    <tr>\n",
       "      <td>600</td>\n",
       "      <td>0.164400</td>\n",
       "      <td>0.212505</td>\n",
       "    </tr>\n",
       "  </tbody>\n",
       "</table><p>"
      ],
      "text/plain": [
       "<IPython.core.display.HTML object>"
      ]
     },
     "metadata": {},
     "output_type": "display_data"
    },
    {
     "data": {
      "text/html": [
       "\n",
       "    <div>\n",
       "      \n",
       "      <progress value='651' max='3564' style='width:300px; height:20px; vertical-align: middle;'></progress>\n",
       "      [ 651/3564 46:42 < 3:29:37, 0.23 it/s, Epoch 0.92/6]\n",
       "    </div>\n",
       "    <table border=\"1\" class=\"dataframe\">\n",
       "  <thead>\n",
       " <tr style=\"text-align: left;\">\n",
       "      <th>Step</th>\n",
       "      <th>Training Loss</th>\n",
       "      <th>Validation Loss</th>\n",
       "    </tr>\n",
       "  </thead>\n",
       "  <tbody>\n",
       "    <tr>\n",
       "      <td>50</td>\n",
       "      <td>0.475100</td>\n",
       "      <td>0.435544</td>\n",
       "    </tr>\n",
       "    <tr>\n",
       "      <td>100</td>\n",
       "      <td>0.335700</td>\n",
       "      <td>0.332950</td>\n",
       "    </tr>\n",
       "    <tr>\n",
       "      <td>150</td>\n",
       "      <td>0.238300</td>\n",
       "      <td>0.280156</td>\n",
       "    </tr>\n",
       "    <tr>\n",
       "      <td>200</td>\n",
       "      <td>0.242000</td>\n",
       "      <td>0.268305</td>\n",
       "    </tr>\n",
       "    <tr>\n",
       "      <td>250</td>\n",
       "      <td>0.216100</td>\n",
       "      <td>0.252031</td>\n",
       "    </tr>\n",
       "    <tr>\n",
       "      <td>300</td>\n",
       "      <td>0.215500</td>\n",
       "      <td>0.238443</td>\n",
       "    </tr>\n",
       "    <tr>\n",
       "      <td>350</td>\n",
       "      <td>0.179800</td>\n",
       "      <td>0.232428</td>\n",
       "    </tr>\n",
       "    <tr>\n",
       "      <td>400</td>\n",
       "      <td>0.208500</td>\n",
       "      <td>0.229831</td>\n",
       "    </tr>\n",
       "    <tr>\n",
       "      <td>450</td>\n",
       "      <td>0.179800</td>\n",
       "      <td>0.222132</td>\n",
       "    </tr>\n",
       "    <tr>\n",
       "      <td>500</td>\n",
       "      <td>0.194400</td>\n",
       "      <td>0.215440</td>\n",
       "    </tr>\n",
       "    <tr>\n",
       "      <td>550</td>\n",
       "      <td>0.197000</td>\n",
       "      <td>0.213626</td>\n",
       "    </tr>\n",
       "    <tr>\n",
       "      <td>600</td>\n",
       "      <td>0.164400</td>\n",
       "      <td>0.212505</td>\n",
       "    </tr>\n",
       "    <tr>\n",
       "      <td>650</td>\n",
       "      <td>0.180900</td>\n",
       "      <td>0.204528</td>\n",
       "    </tr>\n",
       "  </tbody>\n",
       "</table><p>"
      ],
      "text/plain": [
       "<IPython.core.display.HTML object>"
      ]
     },
     "metadata": {},
     "output_type": "display_data"
    },
    {
     "data": {
      "text/html": [
       "\n",
       "    <div>\n",
       "      \n",
       "      <progress value='701' max='3564' style='width:300px; height:20px; vertical-align: middle;'></progress>\n",
       "      [ 701/3564 50:24 < 3:26:29, 0.23 it/s, Epoch 0.99/6]\n",
       "    </div>\n",
       "    <table border=\"1\" class=\"dataframe\">\n",
       "  <thead>\n",
       " <tr style=\"text-align: left;\">\n",
       "      <th>Step</th>\n",
       "      <th>Training Loss</th>\n",
       "      <th>Validation Loss</th>\n",
       "    </tr>\n",
       "  </thead>\n",
       "  <tbody>\n",
       "    <tr>\n",
       "      <td>50</td>\n",
       "      <td>0.475100</td>\n",
       "      <td>0.435544</td>\n",
       "    </tr>\n",
       "    <tr>\n",
       "      <td>100</td>\n",
       "      <td>0.335700</td>\n",
       "      <td>0.332950</td>\n",
       "    </tr>\n",
       "    <tr>\n",
       "      <td>150</td>\n",
       "      <td>0.238300</td>\n",
       "      <td>0.280156</td>\n",
       "    </tr>\n",
       "    <tr>\n",
       "      <td>200</td>\n",
       "      <td>0.242000</td>\n",
       "      <td>0.268305</td>\n",
       "    </tr>\n",
       "    <tr>\n",
       "      <td>250</td>\n",
       "      <td>0.216100</td>\n",
       "      <td>0.252031</td>\n",
       "    </tr>\n",
       "    <tr>\n",
       "      <td>300</td>\n",
       "      <td>0.215500</td>\n",
       "      <td>0.238443</td>\n",
       "    </tr>\n",
       "    <tr>\n",
       "      <td>350</td>\n",
       "      <td>0.179800</td>\n",
       "      <td>0.232428</td>\n",
       "    </tr>\n",
       "    <tr>\n",
       "      <td>400</td>\n",
       "      <td>0.208500</td>\n",
       "      <td>0.229831</td>\n",
       "    </tr>\n",
       "    <tr>\n",
       "      <td>450</td>\n",
       "      <td>0.179800</td>\n",
       "      <td>0.222132</td>\n",
       "    </tr>\n",
       "    <tr>\n",
       "      <td>500</td>\n",
       "      <td>0.194400</td>\n",
       "      <td>0.215440</td>\n",
       "    </tr>\n",
       "    <tr>\n",
       "      <td>550</td>\n",
       "      <td>0.197000</td>\n",
       "      <td>0.213626</td>\n",
       "    </tr>\n",
       "    <tr>\n",
       "      <td>600</td>\n",
       "      <td>0.164400</td>\n",
       "      <td>0.212505</td>\n",
       "    </tr>\n",
       "    <tr>\n",
       "      <td>650</td>\n",
       "      <td>0.180900</td>\n",
       "      <td>0.204528</td>\n",
       "    </tr>\n",
       "    <tr>\n",
       "      <td>700</td>\n",
       "      <td>0.166600</td>\n",
       "      <td>0.199064</td>\n",
       "    </tr>\n",
       "  </tbody>\n",
       "</table><p>"
      ],
      "text/plain": [
       "<IPython.core.display.HTML object>"
      ]
     },
     "metadata": {},
     "output_type": "display_data"
    },
    {
     "data": {
      "text/html": [
       "\n",
       "    <div>\n",
       "      \n",
       "      <progress value='751' max='3564' style='width:300px; height:20px; vertical-align: middle;'></progress>\n",
       "      [ 751/3564 54:07 < 3:23:17, 0.23 it/s, Epoch 1.06/6]\n",
       "    </div>\n",
       "    <table border=\"1\" class=\"dataframe\">\n",
       "  <thead>\n",
       " <tr style=\"text-align: left;\">\n",
       "      <th>Step</th>\n",
       "      <th>Training Loss</th>\n",
       "      <th>Validation Loss</th>\n",
       "    </tr>\n",
       "  </thead>\n",
       "  <tbody>\n",
       "    <tr>\n",
       "      <td>50</td>\n",
       "      <td>0.475100</td>\n",
       "      <td>0.435544</td>\n",
       "    </tr>\n",
       "    <tr>\n",
       "      <td>100</td>\n",
       "      <td>0.335700</td>\n",
       "      <td>0.332950</td>\n",
       "    </tr>\n",
       "    <tr>\n",
       "      <td>150</td>\n",
       "      <td>0.238300</td>\n",
       "      <td>0.280156</td>\n",
       "    </tr>\n",
       "    <tr>\n",
       "      <td>200</td>\n",
       "      <td>0.242000</td>\n",
       "      <td>0.268305</td>\n",
       "    </tr>\n",
       "    <tr>\n",
       "      <td>250</td>\n",
       "      <td>0.216100</td>\n",
       "      <td>0.252031</td>\n",
       "    </tr>\n",
       "    <tr>\n",
       "      <td>300</td>\n",
       "      <td>0.215500</td>\n",
       "      <td>0.238443</td>\n",
       "    </tr>\n",
       "    <tr>\n",
       "      <td>350</td>\n",
       "      <td>0.179800</td>\n",
       "      <td>0.232428</td>\n",
       "    </tr>\n",
       "    <tr>\n",
       "      <td>400</td>\n",
       "      <td>0.208500</td>\n",
       "      <td>0.229831</td>\n",
       "    </tr>\n",
       "    <tr>\n",
       "      <td>450</td>\n",
       "      <td>0.179800</td>\n",
       "      <td>0.222132</td>\n",
       "    </tr>\n",
       "    <tr>\n",
       "      <td>500</td>\n",
       "      <td>0.194400</td>\n",
       "      <td>0.215440</td>\n",
       "    </tr>\n",
       "    <tr>\n",
       "      <td>550</td>\n",
       "      <td>0.197000</td>\n",
       "      <td>0.213626</td>\n",
       "    </tr>\n",
       "    <tr>\n",
       "      <td>600</td>\n",
       "      <td>0.164400</td>\n",
       "      <td>0.212505</td>\n",
       "    </tr>\n",
       "    <tr>\n",
       "      <td>650</td>\n",
       "      <td>0.180900</td>\n",
       "      <td>0.204528</td>\n",
       "    </tr>\n",
       "    <tr>\n",
       "      <td>700</td>\n",
       "      <td>0.166600</td>\n",
       "      <td>0.199064</td>\n",
       "    </tr>\n",
       "    <tr>\n",
       "      <td>750</td>\n",
       "      <td>0.120400</td>\n",
       "      <td>0.206749</td>\n",
       "    </tr>\n",
       "  </tbody>\n",
       "</table><p>"
      ],
      "text/plain": [
       "<IPython.core.display.HTML object>"
      ]
     },
     "metadata": {},
     "output_type": "display_data"
    },
    {
     "data": {
      "text/html": [
       "\n",
       "    <div>\n",
       "      \n",
       "      <progress value='801' max='3564' style='width:300px; height:20px; vertical-align: middle;'></progress>\n",
       "      [ 801/3564 57:50 < 3:20:02, 0.23 it/s, Epoch 1.13/6]\n",
       "    </div>\n",
       "    <table border=\"1\" class=\"dataframe\">\n",
       "  <thead>\n",
       " <tr style=\"text-align: left;\">\n",
       "      <th>Step</th>\n",
       "      <th>Training Loss</th>\n",
       "      <th>Validation Loss</th>\n",
       "    </tr>\n",
       "  </thead>\n",
       "  <tbody>\n",
       "    <tr>\n",
       "      <td>50</td>\n",
       "      <td>0.475100</td>\n",
       "      <td>0.435544</td>\n",
       "    </tr>\n",
       "    <tr>\n",
       "      <td>100</td>\n",
       "      <td>0.335700</td>\n",
       "      <td>0.332950</td>\n",
       "    </tr>\n",
       "    <tr>\n",
       "      <td>150</td>\n",
       "      <td>0.238300</td>\n",
       "      <td>0.280156</td>\n",
       "    </tr>\n",
       "    <tr>\n",
       "      <td>200</td>\n",
       "      <td>0.242000</td>\n",
       "      <td>0.268305</td>\n",
       "    </tr>\n",
       "    <tr>\n",
       "      <td>250</td>\n",
       "      <td>0.216100</td>\n",
       "      <td>0.252031</td>\n",
       "    </tr>\n",
       "    <tr>\n",
       "      <td>300</td>\n",
       "      <td>0.215500</td>\n",
       "      <td>0.238443</td>\n",
       "    </tr>\n",
       "    <tr>\n",
       "      <td>350</td>\n",
       "      <td>0.179800</td>\n",
       "      <td>0.232428</td>\n",
       "    </tr>\n",
       "    <tr>\n",
       "      <td>400</td>\n",
       "      <td>0.208500</td>\n",
       "      <td>0.229831</td>\n",
       "    </tr>\n",
       "    <tr>\n",
       "      <td>450</td>\n",
       "      <td>0.179800</td>\n",
       "      <td>0.222132</td>\n",
       "    </tr>\n",
       "    <tr>\n",
       "      <td>500</td>\n",
       "      <td>0.194400</td>\n",
       "      <td>0.215440</td>\n",
       "    </tr>\n",
       "    <tr>\n",
       "      <td>550</td>\n",
       "      <td>0.197000</td>\n",
       "      <td>0.213626</td>\n",
       "    </tr>\n",
       "    <tr>\n",
       "      <td>600</td>\n",
       "      <td>0.164400</td>\n",
       "      <td>0.212505</td>\n",
       "    </tr>\n",
       "    <tr>\n",
       "      <td>650</td>\n",
       "      <td>0.180900</td>\n",
       "      <td>0.204528</td>\n",
       "    </tr>\n",
       "    <tr>\n",
       "      <td>700</td>\n",
       "      <td>0.166600</td>\n",
       "      <td>0.199064</td>\n",
       "    </tr>\n",
       "    <tr>\n",
       "      <td>750</td>\n",
       "      <td>0.120400</td>\n",
       "      <td>0.206749</td>\n",
       "    </tr>\n",
       "    <tr>\n",
       "      <td>800</td>\n",
       "      <td>0.124500</td>\n",
       "      <td>0.198374</td>\n",
       "    </tr>\n",
       "  </tbody>\n",
       "</table><p>"
      ],
      "text/plain": [
       "<IPython.core.display.HTML object>"
      ]
     },
     "metadata": {},
     "output_type": "display_data"
    },
    {
     "data": {
      "text/html": [
       "\n",
       "    <div>\n",
       "      \n",
       "      <progress value='851' max='3564' style='width:300px; height:20px; vertical-align: middle;'></progress>\n",
       "      [ 851/3564 1:01:35 < 3:16:48, 0.23 it/s, Epoch 1.20/6]\n",
       "    </div>\n",
       "    <table border=\"1\" class=\"dataframe\">\n",
       "  <thead>\n",
       " <tr style=\"text-align: left;\">\n",
       "      <th>Step</th>\n",
       "      <th>Training Loss</th>\n",
       "      <th>Validation Loss</th>\n",
       "    </tr>\n",
       "  </thead>\n",
       "  <tbody>\n",
       "    <tr>\n",
       "      <td>50</td>\n",
       "      <td>0.475100</td>\n",
       "      <td>0.435544</td>\n",
       "    </tr>\n",
       "    <tr>\n",
       "      <td>100</td>\n",
       "      <td>0.335700</td>\n",
       "      <td>0.332950</td>\n",
       "    </tr>\n",
       "    <tr>\n",
       "      <td>150</td>\n",
       "      <td>0.238300</td>\n",
       "      <td>0.280156</td>\n",
       "    </tr>\n",
       "    <tr>\n",
       "      <td>200</td>\n",
       "      <td>0.242000</td>\n",
       "      <td>0.268305</td>\n",
       "    </tr>\n",
       "    <tr>\n",
       "      <td>250</td>\n",
       "      <td>0.216100</td>\n",
       "      <td>0.252031</td>\n",
       "    </tr>\n",
       "    <tr>\n",
       "      <td>300</td>\n",
       "      <td>0.215500</td>\n",
       "      <td>0.238443</td>\n",
       "    </tr>\n",
       "    <tr>\n",
       "      <td>350</td>\n",
       "      <td>0.179800</td>\n",
       "      <td>0.232428</td>\n",
       "    </tr>\n",
       "    <tr>\n",
       "      <td>400</td>\n",
       "      <td>0.208500</td>\n",
       "      <td>0.229831</td>\n",
       "    </tr>\n",
       "    <tr>\n",
       "      <td>450</td>\n",
       "      <td>0.179800</td>\n",
       "      <td>0.222132</td>\n",
       "    </tr>\n",
       "    <tr>\n",
       "      <td>500</td>\n",
       "      <td>0.194400</td>\n",
       "      <td>0.215440</td>\n",
       "    </tr>\n",
       "    <tr>\n",
       "      <td>550</td>\n",
       "      <td>0.197000</td>\n",
       "      <td>0.213626</td>\n",
       "    </tr>\n",
       "    <tr>\n",
       "      <td>600</td>\n",
       "      <td>0.164400</td>\n",
       "      <td>0.212505</td>\n",
       "    </tr>\n",
       "    <tr>\n",
       "      <td>650</td>\n",
       "      <td>0.180900</td>\n",
       "      <td>0.204528</td>\n",
       "    </tr>\n",
       "    <tr>\n",
       "      <td>700</td>\n",
       "      <td>0.166600</td>\n",
       "      <td>0.199064</td>\n",
       "    </tr>\n",
       "    <tr>\n",
       "      <td>750</td>\n",
       "      <td>0.120400</td>\n",
       "      <td>0.206749</td>\n",
       "    </tr>\n",
       "    <tr>\n",
       "      <td>800</td>\n",
       "      <td>0.124500</td>\n",
       "      <td>0.198374</td>\n",
       "    </tr>\n",
       "    <tr>\n",
       "      <td>850</td>\n",
       "      <td>0.158700</td>\n",
       "      <td>0.196987</td>\n",
       "    </tr>\n",
       "  </tbody>\n",
       "</table><p>"
      ],
      "text/plain": [
       "<IPython.core.display.HTML object>"
      ]
     },
     "metadata": {},
     "output_type": "display_data"
    },
    {
     "data": {
      "text/html": [
       "\n",
       "    <div>\n",
       "      \n",
       "      <progress value='901' max='3564' style='width:300px; height:20px; vertical-align: middle;'></progress>\n",
       "      [ 901/3564 1:05:19 < 3:13:30, 0.23 it/s, Epoch 1.27/6]\n",
       "    </div>\n",
       "    <table border=\"1\" class=\"dataframe\">\n",
       "  <thead>\n",
       " <tr style=\"text-align: left;\">\n",
       "      <th>Step</th>\n",
       "      <th>Training Loss</th>\n",
       "      <th>Validation Loss</th>\n",
       "    </tr>\n",
       "  </thead>\n",
       "  <tbody>\n",
       "    <tr>\n",
       "      <td>50</td>\n",
       "      <td>0.475100</td>\n",
       "      <td>0.435544</td>\n",
       "    </tr>\n",
       "    <tr>\n",
       "      <td>100</td>\n",
       "      <td>0.335700</td>\n",
       "      <td>0.332950</td>\n",
       "    </tr>\n",
       "    <tr>\n",
       "      <td>150</td>\n",
       "      <td>0.238300</td>\n",
       "      <td>0.280156</td>\n",
       "    </tr>\n",
       "    <tr>\n",
       "      <td>200</td>\n",
       "      <td>0.242000</td>\n",
       "      <td>0.268305</td>\n",
       "    </tr>\n",
       "    <tr>\n",
       "      <td>250</td>\n",
       "      <td>0.216100</td>\n",
       "      <td>0.252031</td>\n",
       "    </tr>\n",
       "    <tr>\n",
       "      <td>300</td>\n",
       "      <td>0.215500</td>\n",
       "      <td>0.238443</td>\n",
       "    </tr>\n",
       "    <tr>\n",
       "      <td>350</td>\n",
       "      <td>0.179800</td>\n",
       "      <td>0.232428</td>\n",
       "    </tr>\n",
       "    <tr>\n",
       "      <td>400</td>\n",
       "      <td>0.208500</td>\n",
       "      <td>0.229831</td>\n",
       "    </tr>\n",
       "    <tr>\n",
       "      <td>450</td>\n",
       "      <td>0.179800</td>\n",
       "      <td>0.222132</td>\n",
       "    </tr>\n",
       "    <tr>\n",
       "      <td>500</td>\n",
       "      <td>0.194400</td>\n",
       "      <td>0.215440</td>\n",
       "    </tr>\n",
       "    <tr>\n",
       "      <td>550</td>\n",
       "      <td>0.197000</td>\n",
       "      <td>0.213626</td>\n",
       "    </tr>\n",
       "    <tr>\n",
       "      <td>600</td>\n",
       "      <td>0.164400</td>\n",
       "      <td>0.212505</td>\n",
       "    </tr>\n",
       "    <tr>\n",
       "      <td>650</td>\n",
       "      <td>0.180900</td>\n",
       "      <td>0.204528</td>\n",
       "    </tr>\n",
       "    <tr>\n",
       "      <td>700</td>\n",
       "      <td>0.166600</td>\n",
       "      <td>0.199064</td>\n",
       "    </tr>\n",
       "    <tr>\n",
       "      <td>750</td>\n",
       "      <td>0.120400</td>\n",
       "      <td>0.206749</td>\n",
       "    </tr>\n",
       "    <tr>\n",
       "      <td>800</td>\n",
       "      <td>0.124500</td>\n",
       "      <td>0.198374</td>\n",
       "    </tr>\n",
       "    <tr>\n",
       "      <td>850</td>\n",
       "      <td>0.158700</td>\n",
       "      <td>0.196987</td>\n",
       "    </tr>\n",
       "    <tr>\n",
       "      <td>900</td>\n",
       "      <td>0.125800</td>\n",
       "      <td>0.197036</td>\n",
       "    </tr>\n",
       "  </tbody>\n",
       "</table><p>"
      ],
      "text/plain": [
       "<IPython.core.display.HTML object>"
      ]
     },
     "metadata": {},
     "output_type": "display_data"
    },
    {
     "data": {
      "text/html": [
       "\n",
       "    <div>\n",
       "      \n",
       "      <progress value='951' max='3564' style='width:300px; height:20px; vertical-align: middle;'></progress>\n",
       "      [ 951/3564 1:09:04 < 3:10:10, 0.23 it/s, Epoch 1.34/6]\n",
       "    </div>\n",
       "    <table border=\"1\" class=\"dataframe\">\n",
       "  <thead>\n",
       " <tr style=\"text-align: left;\">\n",
       "      <th>Step</th>\n",
       "      <th>Training Loss</th>\n",
       "      <th>Validation Loss</th>\n",
       "    </tr>\n",
       "  </thead>\n",
       "  <tbody>\n",
       "    <tr>\n",
       "      <td>50</td>\n",
       "      <td>0.475100</td>\n",
       "      <td>0.435544</td>\n",
       "    </tr>\n",
       "    <tr>\n",
       "      <td>100</td>\n",
       "      <td>0.335700</td>\n",
       "      <td>0.332950</td>\n",
       "    </tr>\n",
       "    <tr>\n",
       "      <td>150</td>\n",
       "      <td>0.238300</td>\n",
       "      <td>0.280156</td>\n",
       "    </tr>\n",
       "    <tr>\n",
       "      <td>200</td>\n",
       "      <td>0.242000</td>\n",
       "      <td>0.268305</td>\n",
       "    </tr>\n",
       "    <tr>\n",
       "      <td>250</td>\n",
       "      <td>0.216100</td>\n",
       "      <td>0.252031</td>\n",
       "    </tr>\n",
       "    <tr>\n",
       "      <td>300</td>\n",
       "      <td>0.215500</td>\n",
       "      <td>0.238443</td>\n",
       "    </tr>\n",
       "    <tr>\n",
       "      <td>350</td>\n",
       "      <td>0.179800</td>\n",
       "      <td>0.232428</td>\n",
       "    </tr>\n",
       "    <tr>\n",
       "      <td>400</td>\n",
       "      <td>0.208500</td>\n",
       "      <td>0.229831</td>\n",
       "    </tr>\n",
       "    <tr>\n",
       "      <td>450</td>\n",
       "      <td>0.179800</td>\n",
       "      <td>0.222132</td>\n",
       "    </tr>\n",
       "    <tr>\n",
       "      <td>500</td>\n",
       "      <td>0.194400</td>\n",
       "      <td>0.215440</td>\n",
       "    </tr>\n",
       "    <tr>\n",
       "      <td>550</td>\n",
       "      <td>0.197000</td>\n",
       "      <td>0.213626</td>\n",
       "    </tr>\n",
       "    <tr>\n",
       "      <td>600</td>\n",
       "      <td>0.164400</td>\n",
       "      <td>0.212505</td>\n",
       "    </tr>\n",
       "    <tr>\n",
       "      <td>650</td>\n",
       "      <td>0.180900</td>\n",
       "      <td>0.204528</td>\n",
       "    </tr>\n",
       "    <tr>\n",
       "      <td>700</td>\n",
       "      <td>0.166600</td>\n",
       "      <td>0.199064</td>\n",
       "    </tr>\n",
       "    <tr>\n",
       "      <td>750</td>\n",
       "      <td>0.120400</td>\n",
       "      <td>0.206749</td>\n",
       "    </tr>\n",
       "    <tr>\n",
       "      <td>800</td>\n",
       "      <td>0.124500</td>\n",
       "      <td>0.198374</td>\n",
       "    </tr>\n",
       "    <tr>\n",
       "      <td>850</td>\n",
       "      <td>0.158700</td>\n",
       "      <td>0.196987</td>\n",
       "    </tr>\n",
       "    <tr>\n",
       "      <td>900</td>\n",
       "      <td>0.125800</td>\n",
       "      <td>0.197036</td>\n",
       "    </tr>\n",
       "    <tr>\n",
       "      <td>950</td>\n",
       "      <td>0.114600</td>\n",
       "      <td>0.194694</td>\n",
       "    </tr>\n",
       "  </tbody>\n",
       "</table><p>"
      ],
      "text/plain": [
       "<IPython.core.display.HTML object>"
      ]
     },
     "metadata": {},
     "output_type": "display_data"
    },
    {
     "data": {
      "text/html": [
       "\n",
       "    <div>\n",
       "      \n",
       "      <progress value='981' max='3564' style='width:300px; height:20px; vertical-align: middle;'></progress>\n",
       "      [ 981/3564 1:11:43 < 3:09:14, 0.23 it/s, Epoch 1.38/6]\n",
       "    </div>\n",
       "    <table border=\"1\" class=\"dataframe\">\n",
       "  <thead>\n",
       " <tr style=\"text-align: left;\">\n",
       "      <th>Step</th>\n",
       "      <th>Training Loss</th>\n",
       "      <th>Validation Loss</th>\n",
       "    </tr>\n",
       "  </thead>\n",
       "  <tbody>\n",
       "    <tr>\n",
       "      <td>50</td>\n",
       "      <td>0.475100</td>\n",
       "      <td>0.435544</td>\n",
       "    </tr>\n",
       "    <tr>\n",
       "      <td>100</td>\n",
       "      <td>0.335700</td>\n",
       "      <td>0.332950</td>\n",
       "    </tr>\n",
       "    <tr>\n",
       "      <td>150</td>\n",
       "      <td>0.238300</td>\n",
       "      <td>0.280156</td>\n",
       "    </tr>\n",
       "    <tr>\n",
       "      <td>200</td>\n",
       "      <td>0.242000</td>\n",
       "      <td>0.268305</td>\n",
       "    </tr>\n",
       "    <tr>\n",
       "      <td>250</td>\n",
       "      <td>0.216100</td>\n",
       "      <td>0.252031</td>\n",
       "    </tr>\n",
       "    <tr>\n",
       "      <td>300</td>\n",
       "      <td>0.215500</td>\n",
       "      <td>0.238443</td>\n",
       "    </tr>\n",
       "    <tr>\n",
       "      <td>350</td>\n",
       "      <td>0.179800</td>\n",
       "      <td>0.232428</td>\n",
       "    </tr>\n",
       "    <tr>\n",
       "      <td>400</td>\n",
       "      <td>0.208500</td>\n",
       "      <td>0.229831</td>\n",
       "    </tr>\n",
       "    <tr>\n",
       "      <td>450</td>\n",
       "      <td>0.179800</td>\n",
       "      <td>0.222132</td>\n",
       "    </tr>\n",
       "    <tr>\n",
       "      <td>500</td>\n",
       "      <td>0.194400</td>\n",
       "      <td>0.215440</td>\n",
       "    </tr>\n",
       "    <tr>\n",
       "      <td>550</td>\n",
       "      <td>0.197000</td>\n",
       "      <td>0.213626</td>\n",
       "    </tr>\n",
       "    <tr>\n",
       "      <td>600</td>\n",
       "      <td>0.164400</td>\n",
       "      <td>0.212505</td>\n",
       "    </tr>\n",
       "    <tr>\n",
       "      <td>650</td>\n",
       "      <td>0.180900</td>\n",
       "      <td>0.204528</td>\n",
       "    </tr>\n",
       "    <tr>\n",
       "      <td>700</td>\n",
       "      <td>0.166600</td>\n",
       "      <td>0.199064</td>\n",
       "    </tr>\n",
       "    <tr>\n",
       "      <td>750</td>\n",
       "      <td>0.120400</td>\n",
       "      <td>0.206749</td>\n",
       "    </tr>\n",
       "    <tr>\n",
       "      <td>800</td>\n",
       "      <td>0.124500</td>\n",
       "      <td>0.198374</td>\n",
       "    </tr>\n",
       "    <tr>\n",
       "      <td>850</td>\n",
       "      <td>0.158700</td>\n",
       "      <td>0.196987</td>\n",
       "    </tr>\n",
       "    <tr>\n",
       "      <td>900</td>\n",
       "      <td>0.125800</td>\n",
       "      <td>0.197036</td>\n",
       "    </tr>\n",
       "    <tr>\n",
       "      <td>950</td>\n",
       "      <td>0.114600</td>\n",
       "      <td>0.194694</td>\n",
       "    </tr>\n",
       "  </tbody>\n",
       "</table><p>"
      ],
      "text/plain": [
       "<IPython.core.display.HTML object>"
      ]
     },
     "metadata": {},
     "output_type": "display_data"
    },
    {
     "ename": "KeyboardInterrupt",
     "evalue": "",
     "output_type": "error",
     "traceback": [
      "\u001B[1;31m---------------------------------------------------------------------------\u001B[0m",
      "\u001B[1;31mKeyboardInterrupt\u001B[0m                         Traceback (most recent call last)",
      "Cell \u001B[1;32mIn[26], line 38\u001B[0m\n\u001B[0;32m      9\u001B[0m trainer \u001B[38;5;241m=\u001B[39m transformers\u001B[38;5;241m.\u001B[39mTrainer(\n\u001B[0;32m     10\u001B[0m     model\u001B[38;5;241m=\u001B[39mmodel,\n\u001B[0;32m     11\u001B[0m     train_dataset\u001B[38;5;241m=\u001B[39mtokenized_train_dataset[\u001B[38;5;124m\"\u001B[39m\u001B[38;5;124mtrain\u001B[39m\u001B[38;5;124m\"\u001B[39m],\n\u001B[1;32m   (...)\u001B[0m\n\u001B[0;32m     34\u001B[0m     data_collator\u001B[38;5;241m=\u001B[39mtransformers\u001B[38;5;241m.\u001B[39mDataCollatorForLanguageModeling(tokenizer, mlm\u001B[38;5;241m=\u001B[39m\u001B[38;5;28;01mFalse\u001B[39;00m),\n\u001B[0;32m     35\u001B[0m )\n\u001B[0;32m     37\u001B[0m model\u001B[38;5;241m.\u001B[39mconfig\u001B[38;5;241m.\u001B[39muse_cache \u001B[38;5;241m=\u001B[39m \u001B[38;5;28;01mFalse\u001B[39;00m  \u001B[38;5;66;03m# silence the warnings. Please re-enable for inference!\u001B[39;00m\n\u001B[1;32m---> 38\u001B[0m \u001B[43mtrainer\u001B[49m\u001B[38;5;241;43m.\u001B[39;49m\u001B[43mtrain\u001B[49m\u001B[43m(\u001B[49m\u001B[43m)\u001B[49m\n",
      "File \u001B[1;32m~\\AppData\\Local\\Programs\\Python\\Python312\\Lib\\site-packages\\transformers\\trainer.py:1624\u001B[0m, in \u001B[0;36mTrainer.train\u001B[1;34m(self, resume_from_checkpoint, trial, ignore_keys_for_eval, **kwargs)\u001B[0m\n\u001B[0;32m   1622\u001B[0m         hf_hub_utils\u001B[38;5;241m.\u001B[39menable_progress_bars()\n\u001B[0;32m   1623\u001B[0m \u001B[38;5;28;01melse\u001B[39;00m:\n\u001B[1;32m-> 1624\u001B[0m     \u001B[38;5;28;01mreturn\u001B[39;00m \u001B[43minner_training_loop\u001B[49m\u001B[43m(\u001B[49m\n\u001B[0;32m   1625\u001B[0m \u001B[43m        \u001B[49m\u001B[43margs\u001B[49m\u001B[38;5;241;43m=\u001B[39;49m\u001B[43margs\u001B[49m\u001B[43m,\u001B[49m\n\u001B[0;32m   1626\u001B[0m \u001B[43m        \u001B[49m\u001B[43mresume_from_checkpoint\u001B[49m\u001B[38;5;241;43m=\u001B[39;49m\u001B[43mresume_from_checkpoint\u001B[49m\u001B[43m,\u001B[49m\n\u001B[0;32m   1627\u001B[0m \u001B[43m        \u001B[49m\u001B[43mtrial\u001B[49m\u001B[38;5;241;43m=\u001B[39;49m\u001B[43mtrial\u001B[49m\u001B[43m,\u001B[49m\n\u001B[0;32m   1628\u001B[0m \u001B[43m        \u001B[49m\u001B[43mignore_keys_for_eval\u001B[49m\u001B[38;5;241;43m=\u001B[39;49m\u001B[43mignore_keys_for_eval\u001B[49m\u001B[43m,\u001B[49m\n\u001B[0;32m   1629\u001B[0m \u001B[43m    \u001B[49m\u001B[43m)\u001B[49m\n",
      "File \u001B[1;32m~\\AppData\\Local\\Programs\\Python\\Python312\\Lib\\site-packages\\transformers\\trainer.py:1966\u001B[0m, in \u001B[0;36mTrainer._inner_training_loop\u001B[1;34m(self, batch_size, args, resume_from_checkpoint, trial, ignore_keys_for_eval)\u001B[0m\n\u001B[0;32m   1960\u001B[0m \u001B[38;5;28;01mwith\u001B[39;00m \u001B[38;5;28mself\u001B[39m\u001B[38;5;241m.\u001B[39maccelerator\u001B[38;5;241m.\u001B[39maccumulate(model):\n\u001B[0;32m   1961\u001B[0m     tr_loss_step \u001B[38;5;241m=\u001B[39m \u001B[38;5;28mself\u001B[39m\u001B[38;5;241m.\u001B[39mtraining_step(model, inputs)\n\u001B[0;32m   1963\u001B[0m \u001B[38;5;28;01mif\u001B[39;00m (\n\u001B[0;32m   1964\u001B[0m     args\u001B[38;5;241m.\u001B[39mlogging_nan_inf_filter\n\u001B[0;32m   1965\u001B[0m     \u001B[38;5;129;01mand\u001B[39;00m \u001B[38;5;129;01mnot\u001B[39;00m is_torch_tpu_available()\n\u001B[1;32m-> 1966\u001B[0m     \u001B[38;5;129;01mand\u001B[39;00m (torch\u001B[38;5;241m.\u001B[39misnan(tr_loss_step) \u001B[38;5;129;01mor\u001B[39;00m \u001B[43mtorch\u001B[49m\u001B[38;5;241;43m.\u001B[39;49m\u001B[43misinf\u001B[49m\u001B[43m(\u001B[49m\u001B[43mtr_loss_step\u001B[49m\u001B[43m)\u001B[49m)\n\u001B[0;32m   1967\u001B[0m ):\n\u001B[0;32m   1968\u001B[0m     \u001B[38;5;66;03m# if loss is nan or inf simply add the average of previous logged losses\u001B[39;00m\n\u001B[0;32m   1969\u001B[0m     tr_loss \u001B[38;5;241m+\u001B[39m\u001B[38;5;241m=\u001B[39m tr_loss \u001B[38;5;241m/\u001B[39m (\u001B[38;5;241m1\u001B[39m \u001B[38;5;241m+\u001B[39m \u001B[38;5;28mself\u001B[39m\u001B[38;5;241m.\u001B[39mstate\u001B[38;5;241m.\u001B[39mglobal_step \u001B[38;5;241m-\u001B[39m \u001B[38;5;28mself\u001B[39m\u001B[38;5;241m.\u001B[39m_globalstep_last_logged)\n\u001B[0;32m   1970\u001B[0m \u001B[38;5;28;01melse\u001B[39;00m:\n",
      "\u001B[1;31mKeyboardInterrupt\u001B[0m: "
     ]
    }
   ],
   "source": [
    "import transformers\n",
    "from datetime import datetime\n",
    "\n",
    "project = \"NPC-finetune\"\n",
    "base_model_name = \"mistral\"\n",
    "run_name = base_model_name + \"-\" + project\n",
    "output_dir = \"./\" + run_name\n",
    "\n",
    "trainer = transformers.Trainer(\n",
    "    model=model,\n",
    "    train_dataset=tokenized_train_dataset[\"train\"],\n",
    "    eval_dataset=tokenized_val_dataset[\"train\"],\n",
    "    args=transformers.TrainingArguments(\n",
    "        output_dir=output_dir,\n",
    "        warmup_steps=1,\n",
    "        per_device_train_batch_size=3,\n",
    "        gradient_accumulation_steps=1,\n",
    "        gradient_checkpointing=True,\n",
    "        max_steps=591*2,\n",
    "        learning_rate=2.5e-5,  # Want a small lr for finetuning\n",
    "        bf16=True,\n",
    "        optim=\"paged_adamw_8bit\",\n",
    "        logging_steps=25,  # When to start reporting loss\n",
    "        logging_dir=\"./logs\",  # Directory for storing logs\n",
    "        save_strategy=\"steps\",  # Save the model checkpoint every logging step\n",
    "        save_steps=50,  # Save checkpoints every 50 steps\n",
    "        evaluation_strategy=\"steps\",  # Evaluate the model every logging step\n",
    "        eval_steps=50,  # Evaluate and save checkpoints every 50 steps\n",
    "        do_eval=True,\n",
    "        report_to=\"wandb\",\n",
    "        # Perform evaluation at the end of training \n",
    "        run_name=f\"{run_name}-{datetime.now().strftime('%Y-%m-%d-%H-%M')}\"  # Name of the W&B run (optional)\n",
    "    ),\n",
    "    data_collator=transformers.DataCollatorForLanguageModeling(tokenizer, mlm=False),\n",
    ")\n",
    "\n",
    "model.config.use_cache = False  # silence the warnings. Please re-enable for inference!\n",
    "trainer.train()"
   ]
  },
  {
   "cell_type": "code",
   "execution_count": 2,
   "id": "ea90e93a904c5d4a",
   "metadata": {
    "ExecuteTime": {
     "end_time": "2024-05-26T17:49:35.560285Z",
     "start_time": "2024-05-26T17:48:53.632843500Z"
    },
    "collapsed": false
   },
   "outputs": [
    {
     "data": {
      "application/vnd.jupyter.widget-view+json": {
       "model_id": "bb2e80f3a7f54aa1907a18c2e5781e6b",
       "version_major": 2,
       "version_minor": 0
      },
      "text/plain": [
       "Loading checkpoint shards:   0%|          | 0/3 [00:00<?, ?it/s]"
      ]
     },
     "metadata": {},
     "output_type": "display_data"
    }
   ],
   "source": [
    "import torch\n",
    "from transformers import AutoTokenizer, AutoModelForCausalLM, BitsAndBytesConfig\n",
    "\n",
    "base_model_id = \"mistralai/Mistral-7B-Instruct-v0.2\"\n",
    "bnb_config = BitsAndBytesConfig(\n",
    "    load_in_4bit=True,\n",
    "    bnb_4bit_use_double_quant=True,\n",
    "    bnb_4bit_quant_type=\"nf4\",\n",
    "    bnb_4bit_compute_dtype=torch.bfloat16\n",
    ")\n",
    "\n",
    "base_model = AutoModelForCausalLM.from_pretrained(\n",
    "    base_model_id,  # Mistral, same as before\n",
    "    quantization_config=bnb_config,  # Same quantization config as before\n",
    "    device_map=\"auto\",\n",
    "    trust_remote_code=True,\n",
    ")\n",
    "\n",
    "eval_tokenizer = AutoTokenizer.from_pretrained(base_model_id, add_bos_token=True, trust_remote_code=True)"
   ]
  },
  {
   "cell_type": "code",
   "execution_count": 8,
   "id": "e154dc87f95c4f41",
   "metadata": {
    "ExecuteTime": {
     "end_time": "2024-05-26T18:15:19.769688800Z",
     "start_time": "2024-05-26T18:15:17.465935100Z"
    },
    "collapsed": false
   },
   "outputs": [],
   "source": [
    "from peft import PeftModel\n",
    "\n",
    "ft_model = PeftModel.from_pretrained(base_model, \"mistral-NPC-finetune/checkpoint-600\")\n",
    "model.config.use_cache = True  # silence the warnings. Please re-enable for inference!"
   ]
  },
  {
   "cell_type": "code",
   "execution_count": 42,
   "id": "16f5ddad06c7fa1b",
   "metadata": {
    "collapsed": false,
    "ExecuteTime": {
     "end_time": "2024-05-26T19:52:22.745424500Z",
     "start_time": "2024-05-26T19:52:07.459782900Z"
    }
   },
   "outputs": [
    {
     "name": "stderr",
     "output_type": "stream",
     "text": [
      "Setting `pad_token_id` to `eos_token_id`:2 for open-end generation.\n",
      "Setting `pad_token_id` to `eos_token_id`:2 for open-end generation.\n"
     ]
    },
    {
     "name": "stdout",
     "output_type": "stream",
     "text": [
      "The following text describes the event of a greeting between the Player and an NPC. The text will be enclosed within <START> and <END>. There are specific rules that apply only to the text: the event will be enclosed inside & &, the type of speaker will be enclosed inside % %, the line spoken will be enclosed inside \" \". Please fill the missing parts needed to complete the below text between <START> and <END>. \n",
      "\n",
      "<START>\n",
      "In the world of Skyrim from the game Elder Scrolls V, in the case of a &Greeting&, between an NPC and the Player character, %FemaleNord% greets the Player with the following dialogue: \" \" in a ;Neutral; tone.\n",
      "<END>\n",
      "\n",
      "Answer: \n",
      "<START>\n",
      "In the world of Skyrim from the game Elder Scrolls V, in the case of a &Greeting&, between an NPC and the Player character, %FemaleNord% greets the Player with the following dialogue: \"Hmm?\", in a ;Neutral; tone.\n",
      "<END>\n"
     ]
    }
   ],
   "source": [
    "eval_prompt = f\"\"\"The following text describes the event of a greeting between the Player and an NPC. The text will be enclosed within <START> and <END>. There are specific rules that apply only to the text: the event will be enclosed inside & &, the type of speaker will be enclosed inside % %, the line spoken will be enclosed inside \" \". Please fill the missing parts needed to complete the below text between <START> and <END>. \n",
    "\n",
    "<START>\n",
    "In the world of Skyrim from the game Elder Scrolls V, in the case of a &Greeting&, between an NPC and the Player character, %FemaleNord% greets the Player with the following dialogue: \" \" in a ;Neutral; tone.\n",
    "<END>\n",
    "\n",
    "Answer: \"\"\"\n",
    "model_input = eval_tokenizer(eval_prompt, return_tensors=\"pt\").to(\"cuda\")\n",
    "\n",
    "ft_model.eval()\n",
    "with torch.no_grad():\n",
    "    print(eval_tokenizer.decode(ft_model.generate(**model_input, max_new_tokens=280, repetition_penalty=1.15)[0],\n",
    "                                skip_special_tokens=True))\n",
    "    #save the results to a list\n",
    "    answer = eval_tokenizer.decode(ft_model.generate(**model_input, max_new_tokens=280, repetition_penalty=1.15)[0],\n",
    "                                skip_special_tokens=True)"
   ]
  },
  {
   "cell_type": "markdown",
   "id": "bef0d5c5cee19e4f",
   "metadata": {
    "collapsed": false
   },
   "source": [
    "# Rouge Score"
   ]
  },
  {
   "cell_type": "code",
   "outputs": [],
   "source": [
    "def find_text_between_third_quotes(text,pair_num):\n",
    "    # Split the text by quotes\n",
    "    parts = text.split('\"')\n",
    "    \n",
    "    # Check if there are at least six parts (to account for three pairs of quotes)\n",
    "    if len(parts) >= pair_num*2:\n",
    "        # Return the content between the third pair of quotes\n",
    "        return parts[pair_num*2-1]  # parts[pair_num*2-1] because indexing starts at 0, and the text between the third pair is at index 5\n",
    "    else:\n",
    "        return \"Not enough quotes in the text\"\n",
    "\n",
    "# Test the function\n",
    "result = find_text_between_third_quotes(answer,3)"
   ],
   "metadata": {
    "collapsed": false,
    "ExecuteTime": {
     "end_time": "2024-05-26T19:56:07.413463Z",
     "start_time": "2024-05-26T19:56:07.398463600Z"
    }
   },
   "id": "6549c6ef2a44476b",
   "execution_count": 49
  },
  {
   "cell_type": "code",
   "outputs": [
    {
     "name": "stdout",
     "output_type": "stream",
     "text": [
      "Hmm?\n"
     ]
    }
   ],
   "source": [
    "print(result)\n",
    "generated_dialogues = [result]"
   ],
   "metadata": {
    "collapsed": false,
    "ExecuteTime": {
     "end_time": "2024-05-26T20:01:41.214947100Z",
     "start_time": "2024-05-26T20:01:41.211441300Z"
    }
   },
   "id": "6e6dd5a1b87b082a",
   "execution_count": 60
  },
  {
   "cell_type": "code",
   "outputs": [
    {
     "name": "stdout",
     "output_type": "stream",
     "text": [
      "Hmph.\n"
     ]
    }
   ],
   "source": [
    "# take the twelveth dialogue from the test dataset\n",
    "reference = test_dataset['train']['Dialogue'][11]\n",
    "\n",
    "#remove the quotes\n",
    "reference = reference.replace('\"', '')\n",
    "print(reference)"
   ],
   "metadata": {
    "collapsed": false,
    "ExecuteTime": {
     "end_time": "2024-05-26T20:01:42.748909900Z",
     "start_time": "2024-05-26T20:01:42.744857500Z"
    }
   },
   "id": "e34ab27573fa0e75",
   "execution_count": 61
  },
  {
   "cell_type": "code",
   "outputs": [
    {
     "name": "stdout",
     "output_type": "stream",
     "text": [
      "ROUGE: [{'rouge-1': {'r': 0.0, 'p': 0.0, 'f': 0.0}, 'rouge-2': {'r': 0.0, 'p': 0.0, 'f': 0.0}, 'rouge-l': {'r': 0.0, 'p': 0.0, 'f': 0.0}}]\n"
     ]
    }
   ],
   "source": [
    "reference_dialogues = reference\n",
    "\n",
    "from rouge import Rouge\n",
    "\n",
    "rouge = Rouge()\n",
    "rouge_scores = rouge.get_scores(' '.join(generated_dialogues), ' '.join(reference_dialogues[0]))\n",
    "\n",
    "# Output the scores \n",
    "\n",
    "print(f\"ROUGE: {rouge_scores}\")\n"
   ],
   "metadata": {
    "collapsed": false,
    "ExecuteTime": {
     "end_time": "2024-05-26T20:01:43.482591700Z",
     "start_time": "2024-05-26T20:01:43.473082900Z"
    }
   },
   "id": "d9d71f2aee62f37b",
   "execution_count": 62
  },
  {
   "cell_type": "code",
   "outputs": [],
   "source": [
    "#"
   ],
   "metadata": {
    "collapsed": false
   },
   "id": "7beaaf93b541bcba"
  },
  {
   "cell_type": "code",
   "execution_count": null,
   "id": "9f4c3d2330ee5839",
   "metadata": {
    "collapsed": false
   },
   "outputs": [],
   "source": [
    "from nltk.translate.bleu_score import sentence_bleu, corpus_bleu\n",
    "from nltk.tokenize import word_tokenize\n",
    "\n",
    "# Tokenize the reference and generated dialogues into words\n",
    "reference_dialogues = [reference]\n",
    "\n",
    "generated_dialogues = [result]\n",
    "\n",
    "tokenized_references = word_tokenize(reference_dialogues[0])\n",
    "tokenized_hypothesis = word_tokenize(generated_dialogues[0])\n",
    "\n",
    "# Calculate BLEU score\n",
    "bleu_score = sentence_bleu(tokenized_references, tokenized_hypothesis)\n",
    "print(f\"BLEU: {bleu_score}\")"
   ]
  },
  {
   "cell_type": "code",
   "execution_count": null,
   "id": "728c8d2a5290e8c7",
   "metadata": {
    "collapsed": false
   },
   "outputs": [],
   "source": []
  }
 ],
 "metadata": {
  "kernelspec": {
   "display_name": "Python 3 (ipykernel)",
   "language": "python",
   "name": "python3"
  },
  "language_info": {
   "codemirror_mode": {
    "name": "ipython",
    "version": 3
   },
   "file_extension": ".py",
   "mimetype": "text/x-python",
   "name": "python",
   "nbconvert_exporter": "python",
   "pygments_lexer": "ipython3",
   "version": "3.12.0"
  }
 },
 "nbformat": 4,
 "nbformat_minor": 5
}
