{
 "cells": [
  {
   "cell_type": "markdown",
   "source": [
    "## This is the dataset preparation notebook for my thesis on LLM Fine tuning for NPC Dialogue Generation"
   ],
   "metadata": {
    "collapsed": false
   },
   "id": "58af1b9e32497710"
  },
  {
   "cell_type": "markdown",
   "source": [
    "### Importing the necessary libraries\n",
    "\n",
    "These are the libraries that are used in this notebook:\n",
    "- pandas: is used to store the dialogue data in different dataframes and allow for easy manipulation of the data\n",
    "- json: is used to write the data to a json file with a specific structure needed for fine tuning and also to keep the data in a json format\n",
    "- random: is used for shuffling the data to ensure that the data is randomized\n",
    "- train_test_split: is used to split the data into a training, validation and test set\n",
    "- defaultdict: is used to create a dictionary with a default value of a list\n",
    "- os & shutil: are used for resetting the directories "
   ],
   "metadata": {
    "collapsed": false
   },
   "id": "6a72af99f8147cc0"
  },
  {
   "cell_type": "code",
   "outputs": [],
   "source": [
    "# Importing the necessary libraries\n",
    "import pandas as pd\n",
    "import json\n",
    "import random\n",
    "from sklearn.model_selection import train_test_split\n",
    "from collections import defaultdict\n",
    "import os\n",
    "import shutil"
   ],
   "metadata": {
    "collapsed": false,
    "ExecuteTime": {
     "end_time": "2024-05-20T18:37:02.908114Z",
     "start_time": "2024-05-20T18:37:01.564895300Z"
    }
   },
   "id": "7d4cb6598bcc9810",
   "execution_count": 1
  },
  {
   "cell_type": "markdown",
   "source": [
    "### Accessing the dialogue data and creating the necessary structure for the training json files\n",
    "\n",
    "The dialogue data is stored in an excel file with multiple sheets. Each sheet contains a different type of dialogue data.\n",
    "\n",
    "The below columns are present in the different sheets of the excel file:\n",
    "- Voicetype: the NPC type that is speaking the dialogue\n",
    "- Dialogue: the dialogue that the NPC is speaking\n",
    "- Event: the event that the dialogue is associated with\n",
    "- Condition: the condition that the dialogue is associated with\n",
    "- Line_of_dialogue: the current line of dialogue that is being spoken\n",
    "- Response_to: the response that the dialogue is associated with\n",
    "- Location: the location that the dialogue is associated with\n",
    "- Equipment: the equipment that the dialogue is associated with \n",
    "- Result: the result that the dialogue is associated\n",
    "- Tone: the tone of the dialogue"
   ],
   "metadata": {
    "collapsed": false
   },
   "id": "56bdd353ca6ea"
  },
  {
   "cell_type": "markdown",
   "source": [
    "#### Greeting_Goodbyes sheet\n",
    "\n",
    "Extracting the data from the Greeting_Goodbyes sheet, splitting the data into two dataframes, one with the columns Greetings and Voicetype and the other with the columns Goodbye and Voicetype.\n",
    "\n",
    "The "
   ],
   "metadata": {
    "collapsed": false
   },
   "id": "61803f1cc5d0a624"
  },
  {
   "cell_type": "code",
   "execution_count": 3,
   "id": "initial_id",
   "metadata": {
    "collapsed": true,
    "ExecuteTime": {
     "end_time": "2024-05-20T18:37:03.277801500Z",
     "start_time": "2024-05-20T18:37:02.936120900Z"
    }
   },
   "outputs": [],
   "source": [
    "#load the xls file without containing any links\n",
    "df = pd.read_excel('testing_excel.xlsx', sheet_name='Greeting_Goodbyes')\n",
    "df = df.replace(u'\\xa0', u' ', regex=True)"
   ]
  },
  {
   "cell_type": "code",
   "outputs": [
    {
     "data": {
      "text/plain": "                                             Greetings         Voicetype  \\\n0                                               \"Hmm?\"               Any   \n1                                    \"Need something?\"               Any   \n2                                               \"Yes?\"               Any   \n3       \"Ours is to smile at your passing, friend.(F)\"      MaleArgonian   \n4    \"It fills us with rage. What harm does it brin...      MaleArgonian   \n..                                                 ...               ...   \n155                           \"What can I do for you?\"  FemaleYoungEager   \n156                      \"Oh, did you need something?\"    MaleYoungEager   \n157                      \"Oh, did you need something?\"  FemaleYoungEager   \n158              \"It's a fine day with you around.(F)\"  FemaleYoungEager   \n159  \"You. Every time I look at you my blood boils....  FemaleYoungEager   \n\n               Goodbyes  \n0    \"Until next time.\"  \n1            \"Hmm hmm.\"  \n2    \"All right, then.\"  \n3                   NaN  \n4                   NaN  \n..                  ...  \n155                 NaN  \n156                 NaN  \n157                 NaN  \n158                 NaN  \n159                 NaN  \n\n[160 rows x 3 columns]",
      "text/html": "<div>\n<style scoped>\n    .dataframe tbody tr th:only-of-type {\n        vertical-align: middle;\n    }\n\n    .dataframe tbody tr th {\n        vertical-align: top;\n    }\n\n    .dataframe thead th {\n        text-align: right;\n    }\n</style>\n<table border=\"1\" class=\"dataframe\">\n  <thead>\n    <tr style=\"text-align: right;\">\n      <th></th>\n      <th>Greetings</th>\n      <th>Voicetype</th>\n      <th>Goodbyes</th>\n    </tr>\n  </thead>\n  <tbody>\n    <tr>\n      <th>0</th>\n      <td>\"Hmm?\"</td>\n      <td>Any</td>\n      <td>\"Until next time.\"</td>\n    </tr>\n    <tr>\n      <th>1</th>\n      <td>\"Need something?\"</td>\n      <td>Any</td>\n      <td>\"Hmm hmm.\"</td>\n    </tr>\n    <tr>\n      <th>2</th>\n      <td>\"Yes?\"</td>\n      <td>Any</td>\n      <td>\"All right, then.\"</td>\n    </tr>\n    <tr>\n      <th>3</th>\n      <td>\"Ours is to smile at your passing, friend.(F)\"</td>\n      <td>MaleArgonian</td>\n      <td>NaN</td>\n    </tr>\n    <tr>\n      <th>4</th>\n      <td>\"It fills us with rage. What harm does it brin...</td>\n      <td>MaleArgonian</td>\n      <td>NaN</td>\n    </tr>\n    <tr>\n      <th>...</th>\n      <td>...</td>\n      <td>...</td>\n      <td>...</td>\n    </tr>\n    <tr>\n      <th>155</th>\n      <td>\"What can I do for you?\"</td>\n      <td>FemaleYoungEager</td>\n      <td>NaN</td>\n    </tr>\n    <tr>\n      <th>156</th>\n      <td>\"Oh, did you need something?\"</td>\n      <td>MaleYoungEager</td>\n      <td>NaN</td>\n    </tr>\n    <tr>\n      <th>157</th>\n      <td>\"Oh, did you need something?\"</td>\n      <td>FemaleYoungEager</td>\n      <td>NaN</td>\n    </tr>\n    <tr>\n      <th>158</th>\n      <td>\"It's a fine day with you around.(F)\"</td>\n      <td>FemaleYoungEager</td>\n      <td>NaN</td>\n    </tr>\n    <tr>\n      <th>159</th>\n      <td>\"You. Every time I look at you my blood boils....</td>\n      <td>FemaleYoungEager</td>\n      <td>NaN</td>\n    </tr>\n  </tbody>\n</table>\n<p>160 rows × 3 columns</p>\n</div>"
     },
     "execution_count": 5,
     "metadata": {},
     "output_type": "execute_result"
    }
   ],
   "source": [
    "df"
   ],
   "metadata": {
    "collapsed": false,
    "ExecuteTime": {
     "end_time": "2024-05-20T18:37:03.336710700Z",
     "start_time": "2024-05-20T18:37:03.261811500Z"
    }
   },
   "id": "53845331e3cfb668",
   "execution_count": 5
  },
  {
   "cell_type": "code",
   "outputs": [],
   "source": [
    "#split the dataframe in two dataframes, one with the columns Greetings and Voicetype and the other with the columns Goodbye and Voicetype\n",
    "Greetings = df[['Greetings', 'Voicetype']]\n",
    "\n",
    "#Drop the rows where Greetings is NaN\n",
    "Greetings = Greetings.dropna(subset=['Greetings'])\n",
    "\n",
    "Goodbyes = df[['Goodbyes', 'Voicetype']]\n",
    "\n",
    "#drop the rows where goodbyes is NaN\n",
    "Goodbyes = Goodbyes.dropna(subset=['Goodbyes'])"
   ],
   "metadata": {
    "collapsed": false,
    "ExecuteTime": {
     "end_time": "2024-05-20T18:37:03.360718500Z",
     "start_time": "2024-05-20T18:37:03.278801900Z"
    }
   },
   "id": "a7e382092fb28c17",
   "execution_count": 6
  },
  {
   "cell_type": "code",
   "outputs": [
    {
     "data": {
      "text/plain": "                                             Greetings         Voicetype\n0                                               \"Hmm?\"               Any\n1                                    \"Need something?\"               Any\n2                                               \"Yes?\"               Any\n3       \"Ours is to smile at your passing, friend.(F)\"      MaleArgonian\n4    \"It fills us with rage. What harm does it brin...      MaleArgonian\n..                                                 ...               ...\n155                           \"What can I do for you?\"  FemaleYoungEager\n156                      \"Oh, did you need something?\"    MaleYoungEager\n157                      \"Oh, did you need something?\"  FemaleYoungEager\n158              \"It's a fine day with you around.(F)\"  FemaleYoungEager\n159  \"You. Every time I look at you my blood boils....  FemaleYoungEager\n\n[160 rows x 2 columns]",
      "text/html": "<div>\n<style scoped>\n    .dataframe tbody tr th:only-of-type {\n        vertical-align: middle;\n    }\n\n    .dataframe tbody tr th {\n        vertical-align: top;\n    }\n\n    .dataframe thead th {\n        text-align: right;\n    }\n</style>\n<table border=\"1\" class=\"dataframe\">\n  <thead>\n    <tr style=\"text-align: right;\">\n      <th></th>\n      <th>Greetings</th>\n      <th>Voicetype</th>\n    </tr>\n  </thead>\n  <tbody>\n    <tr>\n      <th>0</th>\n      <td>\"Hmm?\"</td>\n      <td>Any</td>\n    </tr>\n    <tr>\n      <th>1</th>\n      <td>\"Need something?\"</td>\n      <td>Any</td>\n    </tr>\n    <tr>\n      <th>2</th>\n      <td>\"Yes?\"</td>\n      <td>Any</td>\n    </tr>\n    <tr>\n      <th>3</th>\n      <td>\"Ours is to smile at your passing, friend.(F)\"</td>\n      <td>MaleArgonian</td>\n    </tr>\n    <tr>\n      <th>4</th>\n      <td>\"It fills us with rage. What harm does it brin...</td>\n      <td>MaleArgonian</td>\n    </tr>\n    <tr>\n      <th>...</th>\n      <td>...</td>\n      <td>...</td>\n    </tr>\n    <tr>\n      <th>155</th>\n      <td>\"What can I do for you?\"</td>\n      <td>FemaleYoungEager</td>\n    </tr>\n    <tr>\n      <th>156</th>\n      <td>\"Oh, did you need something?\"</td>\n      <td>MaleYoungEager</td>\n    </tr>\n    <tr>\n      <th>157</th>\n      <td>\"Oh, did you need something?\"</td>\n      <td>FemaleYoungEager</td>\n    </tr>\n    <tr>\n      <th>158</th>\n      <td>\"It's a fine day with you around.(F)\"</td>\n      <td>FemaleYoungEager</td>\n    </tr>\n    <tr>\n      <th>159</th>\n      <td>\"You. Every time I look at you my blood boils....</td>\n      <td>FemaleYoungEager</td>\n    </tr>\n  </tbody>\n</table>\n<p>160 rows × 2 columns</p>\n</div>"
     },
     "execution_count": 7,
     "metadata": {},
     "output_type": "execute_result"
    }
   ],
   "source": [
    "Greetings"
   ],
   "metadata": {
    "collapsed": false,
    "ExecuteTime": {
     "end_time": "2024-05-20T18:37:03.405729Z",
     "start_time": "2024-05-20T18:37:03.284520900Z"
    }
   },
   "id": "3c0c1edf06002181",
   "execution_count": 7
  },
  {
   "cell_type": "code",
   "outputs": [
    {
     "data": {
      "text/plain": "                          Goodbyes              Voicetype\n0               \"Until next time.\"                    Any\n1                       \"Hmm hmm.\"                    Any\n2               \"All right, then.\"                    Any\n21     \"I'll take my leave, then.\"          MaleCommander\n22     \"I'll take my leave, then.\"      MaleNordCommander\n30     \"I'll take my leave, then.\"        FemaleCommander\n42    \"Now if you'll excuse me...\"      MaleCondescending\n45      Now if you'll excuse me...    FemaleCondescending\n60                 \"Safe travels.\"            MaleDarkElf\n63                 \"Safe travels.\"          FemaleDarkElf\n68                  \"Yeah yeah...\"              MaleDrunk\n83                     \"Farewell.\"          MaleEvenToned\n84                     \"Farewell.\"  MaleEvenTonedAccented\n89                     \"Farewell.\"        FemaleEvenToned\n95                \"Swift hunting.\"            MaleKhajiit\n98                \"Swift hunting.\"          FemaleKhajiit\n99   \"May you walk on warm sands.\"            MaleKhajiit\n100  \"May you walk on warm sands.\"          FemaleKhajiit\n103                         \"Aye.\"               MaleNord\n106                         \"Aye.\"             FemaleNord\n123              \"Take care, now.\"          MaleOldKindly\n126              \"Take care, now.\"        FemaleOldKindly\n132                  \"Fight well.\"                MaleOrc\n134                  \"Fight well.\"              FemaleOrc\n146        \"It's been a pleasure.\"           FemaleSultry\n149              \"See you around.\"           FemaleSultry\n152        \"I'd better get going.\"         MaleYoungEager",
      "text/html": "<div>\n<style scoped>\n    .dataframe tbody tr th:only-of-type {\n        vertical-align: middle;\n    }\n\n    .dataframe tbody tr th {\n        vertical-align: top;\n    }\n\n    .dataframe thead th {\n        text-align: right;\n    }\n</style>\n<table border=\"1\" class=\"dataframe\">\n  <thead>\n    <tr style=\"text-align: right;\">\n      <th></th>\n      <th>Goodbyes</th>\n      <th>Voicetype</th>\n    </tr>\n  </thead>\n  <tbody>\n    <tr>\n      <th>0</th>\n      <td>\"Until next time.\"</td>\n      <td>Any</td>\n    </tr>\n    <tr>\n      <th>1</th>\n      <td>\"Hmm hmm.\"</td>\n      <td>Any</td>\n    </tr>\n    <tr>\n      <th>2</th>\n      <td>\"All right, then.\"</td>\n      <td>Any</td>\n    </tr>\n    <tr>\n      <th>21</th>\n      <td>\"I'll take my leave, then.\"</td>\n      <td>MaleCommander</td>\n    </tr>\n    <tr>\n      <th>22</th>\n      <td>\"I'll take my leave, then.\"</td>\n      <td>MaleNordCommander</td>\n    </tr>\n    <tr>\n      <th>30</th>\n      <td>\"I'll take my leave, then.\"</td>\n      <td>FemaleCommander</td>\n    </tr>\n    <tr>\n      <th>42</th>\n      <td>\"Now if you'll excuse me...\"</td>\n      <td>MaleCondescending</td>\n    </tr>\n    <tr>\n      <th>45</th>\n      <td>Now if you'll excuse me...</td>\n      <td>FemaleCondescending</td>\n    </tr>\n    <tr>\n      <th>60</th>\n      <td>\"Safe travels.\"</td>\n      <td>MaleDarkElf</td>\n    </tr>\n    <tr>\n      <th>63</th>\n      <td>\"Safe travels.\"</td>\n      <td>FemaleDarkElf</td>\n    </tr>\n    <tr>\n      <th>68</th>\n      <td>\"Yeah yeah...\"</td>\n      <td>MaleDrunk</td>\n    </tr>\n    <tr>\n      <th>83</th>\n      <td>\"Farewell.\"</td>\n      <td>MaleEvenToned</td>\n    </tr>\n    <tr>\n      <th>84</th>\n      <td>\"Farewell.\"</td>\n      <td>MaleEvenTonedAccented</td>\n    </tr>\n    <tr>\n      <th>89</th>\n      <td>\"Farewell.\"</td>\n      <td>FemaleEvenToned</td>\n    </tr>\n    <tr>\n      <th>95</th>\n      <td>\"Swift hunting.\"</td>\n      <td>MaleKhajiit</td>\n    </tr>\n    <tr>\n      <th>98</th>\n      <td>\"Swift hunting.\"</td>\n      <td>FemaleKhajiit</td>\n    </tr>\n    <tr>\n      <th>99</th>\n      <td>\"May you walk on warm sands.\"</td>\n      <td>MaleKhajiit</td>\n    </tr>\n    <tr>\n      <th>100</th>\n      <td>\"May you walk on warm sands.\"</td>\n      <td>FemaleKhajiit</td>\n    </tr>\n    <tr>\n      <th>103</th>\n      <td>\"Aye.\"</td>\n      <td>MaleNord</td>\n    </tr>\n    <tr>\n      <th>106</th>\n      <td>\"Aye.\"</td>\n      <td>FemaleNord</td>\n    </tr>\n    <tr>\n      <th>123</th>\n      <td>\"Take care, now.\"</td>\n      <td>MaleOldKindly</td>\n    </tr>\n    <tr>\n      <th>126</th>\n      <td>\"Take care, now.\"</td>\n      <td>FemaleOldKindly</td>\n    </tr>\n    <tr>\n      <th>132</th>\n      <td>\"Fight well.\"</td>\n      <td>MaleOrc</td>\n    </tr>\n    <tr>\n      <th>134</th>\n      <td>\"Fight well.\"</td>\n      <td>FemaleOrc</td>\n    </tr>\n    <tr>\n      <th>146</th>\n      <td>\"It's been a pleasure.\"</td>\n      <td>FemaleSultry</td>\n    </tr>\n    <tr>\n      <th>149</th>\n      <td>\"See you around.\"</td>\n      <td>FemaleSultry</td>\n    </tr>\n    <tr>\n      <th>152</th>\n      <td>\"I'd better get going.\"</td>\n      <td>MaleYoungEager</td>\n    </tr>\n  </tbody>\n</table>\n</div>"
     },
     "execution_count": 8,
     "metadata": {},
     "output_type": "execute_result"
    }
   ],
   "source": [
    "Goodbyes"
   ],
   "metadata": {
    "collapsed": false,
    "ExecuteTime": {
     "end_time": "2024-05-20T18:37:03.478319200Z",
     "start_time": "2024-05-20T18:37:03.295680200Z"
    }
   },
   "id": "6e3bedaa8180fc59",
   "execution_count": 8
  },
  {
   "cell_type": "code",
   "outputs": [],
   "source": [
    "#create an new column in the greetings dataframe called Tone \n",
    "Greetings['Tone'] = 'Neutral'\n",
    "\n",
    "# check the rows of the dataframe to see if there is a (H) or a (F) in the rows and change the tone to Happy or Formal\n",
    "for index, row in Greetings.iterrows():\n",
    "    if '(H)' in row['Greetings']:\n",
    "        Greetings.at[index, 'Tone'] = 'Hostile'\n",
    "        #remove the (H) from the row\n",
    "        Greetings.at[index, 'Greetings'] = Greetings.at[index, 'Greetings'].replace('(H)', '')\n",
    "    elif '(F)' in row['Greetings']:\n",
    "        Greetings.at[index, 'Tone'] = 'Friendly'\n",
    "        #remove the (F) from the row\n",
    "        Greetings.at[index, 'Greetings'] = Greetings.at[index, 'Greetings'].replace('(F)', '')\n",
    "    "
   ],
   "metadata": {
    "collapsed": false,
    "ExecuteTime": {
     "end_time": "2024-05-20T18:37:03.484320600Z",
     "start_time": "2024-05-20T18:37:03.302205700Z"
    }
   },
   "id": "55986540dd9e0b17",
   "execution_count": 9
  },
  {
   "cell_type": "code",
   "outputs": [],
   "source": [
    "#remove the (H) and (F) from the rows of the Greetings column\n",
    "Greetings['Greetings'] = Greetings['Greetings'].str.replace(r\"\\(H\\)\", \"\")"
   ],
   "metadata": {
    "collapsed": false,
    "ExecuteTime": {
     "end_time": "2024-05-20T18:37:03.497323800Z",
     "start_time": "2024-05-20T18:37:03.320539600Z"
    }
   },
   "id": "c803ca7a8c18c816",
   "execution_count": 10
  },
  {
   "cell_type": "code",
   "outputs": [
    {
     "data": {
      "text/plain": "                                             Greetings         Voicetype  \\\n0                                               \"Hmm?\"               Any   \n1                                    \"Need something?\"               Any   \n2                                               \"Yes?\"               Any   \n3          \"Ours is to smile at your passing, friend.\"      MaleArgonian   \n4    \"It fills us with rage. What harm does it brin...      MaleArgonian   \n..                                                 ...               ...   \n155                           \"What can I do for you?\"  FemaleYoungEager   \n156                      \"Oh, did you need something?\"    MaleYoungEager   \n157                      \"Oh, did you need something?\"  FemaleYoungEager   \n158                 \"It's a fine day with you around.\"  FemaleYoungEager   \n159    \"You. Every time I look at you my blood boils.\"  FemaleYoungEager   \n\n         Tone  \n0     Neutral  \n1     Neutral  \n2     Neutral  \n3    Friendly  \n4     Hostile  \n..        ...  \n155   Neutral  \n156   Neutral  \n157   Neutral  \n158  Friendly  \n159   Hostile  \n\n[160 rows x 3 columns]",
      "text/html": "<div>\n<style scoped>\n    .dataframe tbody tr th:only-of-type {\n        vertical-align: middle;\n    }\n\n    .dataframe tbody tr th {\n        vertical-align: top;\n    }\n\n    .dataframe thead th {\n        text-align: right;\n    }\n</style>\n<table border=\"1\" class=\"dataframe\">\n  <thead>\n    <tr style=\"text-align: right;\">\n      <th></th>\n      <th>Greetings</th>\n      <th>Voicetype</th>\n      <th>Tone</th>\n    </tr>\n  </thead>\n  <tbody>\n    <tr>\n      <th>0</th>\n      <td>\"Hmm?\"</td>\n      <td>Any</td>\n      <td>Neutral</td>\n    </tr>\n    <tr>\n      <th>1</th>\n      <td>\"Need something?\"</td>\n      <td>Any</td>\n      <td>Neutral</td>\n    </tr>\n    <tr>\n      <th>2</th>\n      <td>\"Yes?\"</td>\n      <td>Any</td>\n      <td>Neutral</td>\n    </tr>\n    <tr>\n      <th>3</th>\n      <td>\"Ours is to smile at your passing, friend.\"</td>\n      <td>MaleArgonian</td>\n      <td>Friendly</td>\n    </tr>\n    <tr>\n      <th>4</th>\n      <td>\"It fills us with rage. What harm does it brin...</td>\n      <td>MaleArgonian</td>\n      <td>Hostile</td>\n    </tr>\n    <tr>\n      <th>...</th>\n      <td>...</td>\n      <td>...</td>\n      <td>...</td>\n    </tr>\n    <tr>\n      <th>155</th>\n      <td>\"What can I do for you?\"</td>\n      <td>FemaleYoungEager</td>\n      <td>Neutral</td>\n    </tr>\n    <tr>\n      <th>156</th>\n      <td>\"Oh, did you need something?\"</td>\n      <td>MaleYoungEager</td>\n      <td>Neutral</td>\n    </tr>\n    <tr>\n      <th>157</th>\n      <td>\"Oh, did you need something?\"</td>\n      <td>FemaleYoungEager</td>\n      <td>Neutral</td>\n    </tr>\n    <tr>\n      <th>158</th>\n      <td>\"It's a fine day with you around.\"</td>\n      <td>FemaleYoungEager</td>\n      <td>Friendly</td>\n    </tr>\n    <tr>\n      <th>159</th>\n      <td>\"You. Every time I look at you my blood boils.\"</td>\n      <td>FemaleYoungEager</td>\n      <td>Hostile</td>\n    </tr>\n  </tbody>\n</table>\n<p>160 rows × 3 columns</p>\n</div>"
     },
     "execution_count": 11,
     "metadata": {},
     "output_type": "execute_result"
    }
   ],
   "source": [
    "Greetings"
   ],
   "metadata": {
    "collapsed": false,
    "ExecuteTime": {
     "end_time": "2024-05-20T18:37:03.519328400Z",
     "start_time": "2024-05-20T18:37:03.324278700Z"
    }
   },
   "id": "6d877786a969b45e",
   "execution_count": 11
  },
  {
   "cell_type": "code",
   "outputs": [
    {
     "data": {
      "text/plain": "False"
     },
     "execution_count": 12,
     "metadata": {},
     "output_type": "execute_result"
    }
   ],
   "source": [
    "#check if there is a null in the voicetype column \n",
    "Greetings['Voicetype'].isnull().values.any()"
   ],
   "metadata": {
    "collapsed": false,
    "ExecuteTime": {
     "end_time": "2024-05-20T18:37:03.540333700Z",
     "start_time": "2024-05-20T18:37:03.334710500Z"
    }
   },
   "id": "77b7be2b810ef82a",
   "execution_count": 12
  },
  {
   "cell_type": "code",
   "outputs": [],
   "source": [
    "# create a dictionary with the structure above\n",
    "Greetings_data = [\n",
    "    {\n",
    "    \"Speaker\": Greetings['Voicetype'][index],\n",
    "    \"Dialogue\": Greetings['Greetings'][index],\n",
    "    \"Tone\": Greetings['Tone'][index],\n",
    "    \"Event\": \"Greeting\",\n",
    "} for index, row in Greetings.iterrows()]\n",
    "\n",
    "data = Greetings_data   \n"
   ],
   "metadata": {
    "collapsed": false,
    "ExecuteTime": {
     "end_time": "2024-05-20T18:37:03.740252100Z",
     "start_time": "2024-05-20T18:37:03.466742500Z"
    }
   },
   "id": "c64c37a7308f0294",
   "execution_count": 13
  },
  {
   "cell_type": "code",
   "outputs": [],
   "source": [
    "def convert_all_to_string(data):\n",
    "    \"\"\"\n",
    "    Recursively convert all data in a dictionary or list to string.\n",
    "    \"\"\"\n",
    "    if isinstance(data, dict):\n",
    "        return {key: convert_all_to_string(value) for key, value in data.items()}\n",
    "    elif isinstance(data, list):\n",
    "        return [convert_all_to_string(item) for item in data]\n",
    "    else:\n",
    "        return str(data)"
   ],
   "metadata": {
    "collapsed": false,
    "ExecuteTime": {
     "end_time": "2024-05-20T18:37:02.952125700Z",
     "start_time": "2024-05-20T18:37:02.897607Z"
    }
   },
   "id": "63bd82b1d8f373a9",
   "execution_count": 2
  },
  {
   "cell_type": "code",
   "outputs": [],
   "source": [
    "Greetings_data = convert_all_to_string(Greetings_data)"
   ],
   "metadata": {
    "collapsed": false,
    "ExecuteTime": {
     "end_time": "2024-05-20T18:37:03.992379700Z",
     "start_time": "2024-05-20T18:37:03.711371600Z"
    }
   },
   "id": "eaf8622e87288665",
   "execution_count": 14
  },
  {
   "cell_type": "code",
   "outputs": [],
   "source": [
    "data_list = [Greetings_data]"
   ],
   "metadata": {
    "collapsed": false,
    "ExecuteTime": {
     "end_time": "2024-05-20T18:37:04.171138100Z",
     "start_time": "2024-05-20T18:37:03.972303900Z"
    }
   },
   "id": "a50ed9cc126ef578",
   "execution_count": 15
  },
  {
   "cell_type": "code",
   "outputs": [],
   "source": [
    "#write the Greeetings_data to a json file in the testing_for_error folder\n",
    "with open('testing_for_error/Greetings_data.json', 'w') as f:\n",
    "    f.write(json.dumps(Greetings_data, indent=4))\n"
   ],
   "metadata": {
    "collapsed": false,
    "ExecuteTime": {
     "end_time": "2024-05-20T18:37:04.235432200Z",
     "start_time": "2024-05-20T18:37:04.158416100Z"
    }
   },
   "id": "85a7a1c441ef861a",
   "execution_count": 16
  },
  {
   "cell_type": "code",
   "outputs": [],
   "source": [
    "#do the same with the Goodbyes dataframe\n",
    "Goodbyes_data = [\n",
    "    {\n",
    "    \"Speaker\": Goodbyes['Voicetype'][index],\n",
    "    \"Dialogue\": Goodbyes['Goodbyes'][index],\n",
    "    \"Event\": \"Goodbye\",\n",
    "} for index, row in Goodbyes.iterrows()]\n",
    "\n",
    "data = data + Goodbyes_data"
   ],
   "metadata": {
    "collapsed": false,
    "ExecuteTime": {
     "end_time": "2024-05-20T18:37:04.324981900Z",
     "start_time": "2024-05-20T18:37:04.220148Z"
    }
   },
   "id": "264808442aff0f6b",
   "execution_count": 17
  },
  {
   "cell_type": "code",
   "outputs": [],
   "source": [
    "Goodbyes_data = convert_all_to_string(Goodbyes_data)"
   ],
   "metadata": {
    "collapsed": false,
    "ExecuteTime": {
     "end_time": "2024-05-20T18:37:04.385111900Z",
     "start_time": "2024-05-20T18:37:04.296446100Z"
    }
   },
   "id": "51a365390296922",
   "execution_count": 18
  },
  {
   "cell_type": "code",
   "outputs": [],
   "source": [
    "data_list.append(Goodbyes_data)"
   ],
   "metadata": {
    "collapsed": false,
    "ExecuteTime": {
     "end_time": "2024-05-20T18:37:04.480710700Z",
     "start_time": "2024-05-20T18:37:04.372992Z"
    }
   },
   "id": "6eb39227ca183cb4",
   "execution_count": 19
  },
  {
   "cell_type": "code",
   "outputs": [],
   "source": [
    "#write the Goodbyes_data to a json file in the testing_for_error folder\n",
    "with open('testing_for_error/Goodbyes_data.json', 'w') as f:\n",
    "    f.write(json.dumps(Goodbyes_data, indent=4))"
   ],
   "metadata": {
    "collapsed": false,
    "ExecuteTime": {
     "end_time": "2024-05-20T18:37:04.536722700Z",
     "start_time": "2024-05-20T18:37:04.476132100Z"
    }
   },
   "id": "58a3b4bcd22e6137",
   "execution_count": 20
  },
  {
   "cell_type": "code",
   "outputs": [],
   "source": [
    "#import the second sheet of the excel file to a dataframe\n",
    "vampire = pd.read_excel('testing_excel.xlsx', sheet_name='Vampire')\n",
    "vampire = vampire.replace(u'\\xa0', u' ', regex=True)"
   ],
   "metadata": {
    "collapsed": false,
    "ExecuteTime": {
     "end_time": "2024-05-20T18:37:04.652386400Z",
     "start_time": "2024-05-20T18:37:04.523720Z"
    }
   },
   "id": "e10ce22525e63faa",
   "execution_count": 21
  },
  {
   "cell_type": "code",
   "outputs": [],
   "source": [
    "#duplicate the rows\n",
    "vampire = vampire.copy()\n",
    "\n",
    "vampire= pd.concat([vampire]*2, ignore_index=True)\n",
    "\n",
    "# Replace the first 8 values of the 'Voicetype' column with the first value\n",
    "vampire.loc[0:7, 'Dialogue'] = vampire['Dialogue'][0]\n",
    "\n",
    "# Replace the next 8 values of the 'Voicetype' column starting from the 8th index with the value at the 8th index\n",
    "vampire.loc[8:15, 'Dialogue'] = vampire['Dialogue'][9]"
   ],
   "metadata": {
    "collapsed": false,
    "ExecuteTime": {
     "end_time": "2024-05-20T18:37:04.692356400Z",
     "start_time": "2024-05-20T18:37:04.625381100Z"
    }
   },
   "id": "49fca74464dcc0b6",
   "execution_count": 22
  },
  {
   "cell_type": "code",
   "outputs": [
    {
     "data": {
      "text/plain": "                Voicetype                                           Dialogue\n0            MaleCommoner  \"Don't like those eyes you got. There's a bad ...\n1    MaleCommonerAccented  \"Don't like those eyes you got. There's a bad ...\n2          FemaleCommoner  \"Don't like those eyes you got. There's a bad ...\n3           MaleEvenToned  \"Don't like those eyes you got. There's a bad ...\n4   MaleEvenTonedAccented  \"Don't like those eyes you got. There's a bad ...\n5         FemaleEvenToned  \"Don't like those eyes you got. There's a bad ...\n6                MaleNord  \"Don't like those eyes you got. There's a bad ...\n7              FemaleNord  \"Don't like those eyes you got. There's a bad ...\n8            MaleCommoner  \"Your skin's as pale as the snow. You scared o...\n9    MaleCommonerAccented  \"Your skin's as pale as the snow. You scared o...\n10         FemaleCommoner  \"Your skin's as pale as the snow. You scared o...\n11          MaleEvenToned  \"Your skin's as pale as the snow. You scared o...\n12  MaleEvenTonedAccented  \"Your skin's as pale as the snow. You scared o...\n13        FemaleEvenToned  \"Your skin's as pale as the snow. You scared o...\n14               MaleNord  \"Your skin's as pale as the snow. You scared o...\n15             FemaleNord  \"Your skin's as pale as the snow. You scared o...",
      "text/html": "<div>\n<style scoped>\n    .dataframe tbody tr th:only-of-type {\n        vertical-align: middle;\n    }\n\n    .dataframe tbody tr th {\n        vertical-align: top;\n    }\n\n    .dataframe thead th {\n        text-align: right;\n    }\n</style>\n<table border=\"1\" class=\"dataframe\">\n  <thead>\n    <tr style=\"text-align: right;\">\n      <th></th>\n      <th>Voicetype</th>\n      <th>Dialogue</th>\n    </tr>\n  </thead>\n  <tbody>\n    <tr>\n      <th>0</th>\n      <td>MaleCommoner</td>\n      <td>\"Don't like those eyes you got. There's a bad ...</td>\n    </tr>\n    <tr>\n      <th>1</th>\n      <td>MaleCommonerAccented</td>\n      <td>\"Don't like those eyes you got. There's a bad ...</td>\n    </tr>\n    <tr>\n      <th>2</th>\n      <td>FemaleCommoner</td>\n      <td>\"Don't like those eyes you got. There's a bad ...</td>\n    </tr>\n    <tr>\n      <th>3</th>\n      <td>MaleEvenToned</td>\n      <td>\"Don't like those eyes you got. There's a bad ...</td>\n    </tr>\n    <tr>\n      <th>4</th>\n      <td>MaleEvenTonedAccented</td>\n      <td>\"Don't like those eyes you got. There's a bad ...</td>\n    </tr>\n    <tr>\n      <th>5</th>\n      <td>FemaleEvenToned</td>\n      <td>\"Don't like those eyes you got. There's a bad ...</td>\n    </tr>\n    <tr>\n      <th>6</th>\n      <td>MaleNord</td>\n      <td>\"Don't like those eyes you got. There's a bad ...</td>\n    </tr>\n    <tr>\n      <th>7</th>\n      <td>FemaleNord</td>\n      <td>\"Don't like those eyes you got. There's a bad ...</td>\n    </tr>\n    <tr>\n      <th>8</th>\n      <td>MaleCommoner</td>\n      <td>\"Your skin's as pale as the snow. You scared o...</td>\n    </tr>\n    <tr>\n      <th>9</th>\n      <td>MaleCommonerAccented</td>\n      <td>\"Your skin's as pale as the snow. You scared o...</td>\n    </tr>\n    <tr>\n      <th>10</th>\n      <td>FemaleCommoner</td>\n      <td>\"Your skin's as pale as the snow. You scared o...</td>\n    </tr>\n    <tr>\n      <th>11</th>\n      <td>MaleEvenToned</td>\n      <td>\"Your skin's as pale as the snow. You scared o...</td>\n    </tr>\n    <tr>\n      <th>12</th>\n      <td>MaleEvenTonedAccented</td>\n      <td>\"Your skin's as pale as the snow. You scared o...</td>\n    </tr>\n    <tr>\n      <th>13</th>\n      <td>FemaleEvenToned</td>\n      <td>\"Your skin's as pale as the snow. You scared o...</td>\n    </tr>\n    <tr>\n      <th>14</th>\n      <td>MaleNord</td>\n      <td>\"Your skin's as pale as the snow. You scared o...</td>\n    </tr>\n    <tr>\n      <th>15</th>\n      <td>FemaleNord</td>\n      <td>\"Your skin's as pale as the snow. You scared o...</td>\n    </tr>\n  </tbody>\n</table>\n</div>"
     },
     "execution_count": 23,
     "metadata": {},
     "output_type": "execute_result"
    }
   ],
   "source": [
    "vampire"
   ],
   "metadata": {
    "collapsed": false,
    "ExecuteTime": {
     "end_time": "2024-05-20T18:37:04.781288700Z",
     "start_time": "2024-05-20T18:37:04.675391500Z"
    }
   },
   "id": "bd20f162852058c0",
   "execution_count": 23
  },
  {
   "cell_type": "code",
   "outputs": [],
   "source": [
    "# add the vampire dataframe to the json file\n",
    "Vampire_data = [\n",
    "    {\n",
    "    \"Speaker\": vampire['Voicetype'][index],\n",
    "    \"Dialogue\": vampire['Dialogue'][index],\n",
    "    \"Event\": \"the Player being a vampire in front of an NPC\",\n",
    "} for index, row in vampire.iterrows()]\n",
    "\n",
    "data = data + Vampire_data"
   ],
   "metadata": {
    "collapsed": false,
    "ExecuteTime": {
     "end_time": "2024-05-20T18:37:04.848212500Z",
     "start_time": "2024-05-20T18:37:04.777375500Z"
    }
   },
   "id": "9bc445e791d9f12c",
   "execution_count": 24
  },
  {
   "cell_type": "code",
   "outputs": [],
   "source": [
    "Vampire_data = convert_all_to_string(Vampire_data)"
   ],
   "metadata": {
    "collapsed": false,
    "ExecuteTime": {
     "end_time": "2024-05-20T18:37:04.950736200Z",
     "start_time": "2024-05-20T18:37:04.823298100Z"
    }
   },
   "id": "d0abb8372781870e",
   "execution_count": 25
  },
  {
   "cell_type": "code",
   "outputs": [],
   "source": [
    "data_list.append(Vampire_data)"
   ],
   "metadata": {
    "collapsed": false,
    "ExecuteTime": {
     "end_time": "2024-05-20T18:37:05.040910900Z",
     "start_time": "2024-05-20T18:37:04.933226300Z"
    }
   },
   "id": "83282a528c8357b5",
   "execution_count": 26
  },
  {
   "cell_type": "code",
   "outputs": [],
   "source": [
    "#writing the vampire data to a json file on the testing_for_error folder\n",
    "with open('testing_for_error/Vampire_data.json', 'w') as f:\n",
    "    f.write(json.dumps(Vampire_data, indent=4))"
   ],
   "metadata": {
    "collapsed": false,
    "ExecuteTime": {
     "end_time": "2024-05-20T18:37:05.169941300Z",
     "start_time": "2024-05-20T18:37:05.021752Z"
    }
   },
   "id": "5f33e3c96957db5b",
   "execution_count": 27
  },
  {
   "cell_type": "code",
   "outputs": [],
   "source": [
    "werewolf = pd.read_excel('testing_excel.xlsx', sheet_name='Werewolf')\n",
    "werewolf = werewolf.replace(u'\\xa0', u' ', regex=True)"
   ],
   "metadata": {
    "collapsed": false,
    "ExecuteTime": {
     "end_time": "2024-05-20T18:37:05.270657400Z",
     "start_time": "2024-05-20T18:37:05.147935200Z"
    }
   },
   "id": "810fae084ccb8708",
   "execution_count": 28
  },
  {
   "cell_type": "code",
   "outputs": [
    {
     "data": {
      "text/plain": "                Voicetype                              Dialogue\n0                   Guard                           \"Werewolf!\"\n1                   Guard  \"It's a werewolf! To arms! To arms!\"\n2                   Guard       \"By the gods! It..it can't be!\"\n3            MaleCommoner               \"Come on! You monster!\"\n4    MaleCommonerAccented               \"Come on! You monster!\"\n5          FemaleCommoner               \"Come on! You monster!\"\n6           MaleEvenToned               \"Come on! You monster!\"\n7   MaleEvenTonedAccented               \"Come on! You monster!\"\n8         FemaleEvenToned               \"Come on! You monster!\"\n9                MaleNord               \"Come on! You monster!\"\n10             FemaleNord               \"Come on! You monster!\"\n11           MaleCommoner              \"Die, you filthy beast!\"\n12   MaleCommonerAccented              \"Die, you filthy beast!\"\n13         FemaleCommoner              \"Die, you filthy beast!\"\n14          MaleEvenToned              \"Die, you filthy beast!\"\n15  MaleEvenTonedAccented              \"Die, you filthy beast!\"\n16        FemaleEvenToned              \"Die, you filthy beast!\"\n17               MaleNord              \"Die, you filthy beast!\"\n18             FemaleNord              \"Die, you filthy beast!\"\n19           MaleCommoner         \"Werewolf! Kill the monster!\"\n20   MaleCommonerAccented         \"Werewolf! Kill the monster!\"\n21         FemaleCommoner         \"Werewolf! Kill the monster!\"\n22          MaleEvenToned         \"Werewolf! Kill the monster!\"\n23  MaleEvenTonedAccented         \"Werewolf! Kill the monster!\"\n24        FemaleEvenToned         \"Werewolf! Kill the monster!\"\n25               MaleNord         \"Werewolf! Kill the monster!\"\n26             FemaleNord         \"Werewolf! Kill the monster!\"",
      "text/html": "<div>\n<style scoped>\n    .dataframe tbody tr th:only-of-type {\n        vertical-align: middle;\n    }\n\n    .dataframe tbody tr th {\n        vertical-align: top;\n    }\n\n    .dataframe thead th {\n        text-align: right;\n    }\n</style>\n<table border=\"1\" class=\"dataframe\">\n  <thead>\n    <tr style=\"text-align: right;\">\n      <th></th>\n      <th>Voicetype</th>\n      <th>Dialogue</th>\n    </tr>\n  </thead>\n  <tbody>\n    <tr>\n      <th>0</th>\n      <td>Guard</td>\n      <td>\"Werewolf!\"</td>\n    </tr>\n    <tr>\n      <th>1</th>\n      <td>Guard</td>\n      <td>\"It's a werewolf! To arms! To arms!\"</td>\n    </tr>\n    <tr>\n      <th>2</th>\n      <td>Guard</td>\n      <td>\"By the gods! It..it can't be!\"</td>\n    </tr>\n    <tr>\n      <th>3</th>\n      <td>MaleCommoner</td>\n      <td>\"Come on! You monster!\"</td>\n    </tr>\n    <tr>\n      <th>4</th>\n      <td>MaleCommonerAccented</td>\n      <td>\"Come on! You monster!\"</td>\n    </tr>\n    <tr>\n      <th>5</th>\n      <td>FemaleCommoner</td>\n      <td>\"Come on! You monster!\"</td>\n    </tr>\n    <tr>\n      <th>6</th>\n      <td>MaleEvenToned</td>\n      <td>\"Come on! You monster!\"</td>\n    </tr>\n    <tr>\n      <th>7</th>\n      <td>MaleEvenTonedAccented</td>\n      <td>\"Come on! You monster!\"</td>\n    </tr>\n    <tr>\n      <th>8</th>\n      <td>FemaleEvenToned</td>\n      <td>\"Come on! You monster!\"</td>\n    </tr>\n    <tr>\n      <th>9</th>\n      <td>MaleNord</td>\n      <td>\"Come on! You monster!\"</td>\n    </tr>\n    <tr>\n      <th>10</th>\n      <td>FemaleNord</td>\n      <td>\"Come on! You monster!\"</td>\n    </tr>\n    <tr>\n      <th>11</th>\n      <td>MaleCommoner</td>\n      <td>\"Die, you filthy beast!\"</td>\n    </tr>\n    <tr>\n      <th>12</th>\n      <td>MaleCommonerAccented</td>\n      <td>\"Die, you filthy beast!\"</td>\n    </tr>\n    <tr>\n      <th>13</th>\n      <td>FemaleCommoner</td>\n      <td>\"Die, you filthy beast!\"</td>\n    </tr>\n    <tr>\n      <th>14</th>\n      <td>MaleEvenToned</td>\n      <td>\"Die, you filthy beast!\"</td>\n    </tr>\n    <tr>\n      <th>15</th>\n      <td>MaleEvenTonedAccented</td>\n      <td>\"Die, you filthy beast!\"</td>\n    </tr>\n    <tr>\n      <th>16</th>\n      <td>FemaleEvenToned</td>\n      <td>\"Die, you filthy beast!\"</td>\n    </tr>\n    <tr>\n      <th>17</th>\n      <td>MaleNord</td>\n      <td>\"Die, you filthy beast!\"</td>\n    </tr>\n    <tr>\n      <th>18</th>\n      <td>FemaleNord</td>\n      <td>\"Die, you filthy beast!\"</td>\n    </tr>\n    <tr>\n      <th>19</th>\n      <td>MaleCommoner</td>\n      <td>\"Werewolf! Kill the monster!\"</td>\n    </tr>\n    <tr>\n      <th>20</th>\n      <td>MaleCommonerAccented</td>\n      <td>\"Werewolf! Kill the monster!\"</td>\n    </tr>\n    <tr>\n      <th>21</th>\n      <td>FemaleCommoner</td>\n      <td>\"Werewolf! Kill the monster!\"</td>\n    </tr>\n    <tr>\n      <th>22</th>\n      <td>MaleEvenToned</td>\n      <td>\"Werewolf! Kill the monster!\"</td>\n    </tr>\n    <tr>\n      <th>23</th>\n      <td>MaleEvenTonedAccented</td>\n      <td>\"Werewolf! Kill the monster!\"</td>\n    </tr>\n    <tr>\n      <th>24</th>\n      <td>FemaleEvenToned</td>\n      <td>\"Werewolf! Kill the monster!\"</td>\n    </tr>\n    <tr>\n      <th>25</th>\n      <td>MaleNord</td>\n      <td>\"Werewolf! Kill the monster!\"</td>\n    </tr>\n    <tr>\n      <th>26</th>\n      <td>FemaleNord</td>\n      <td>\"Werewolf! Kill the monster!\"</td>\n    </tr>\n  </tbody>\n</table>\n</div>"
     },
     "execution_count": 29,
     "metadata": {},
     "output_type": "execute_result"
    }
   ],
   "source": [
    "werewolf"
   ],
   "metadata": {
    "collapsed": false,
    "ExecuteTime": {
     "end_time": "2024-05-20T18:37:05.319851Z",
     "start_time": "2024-05-20T18:37:05.211571600Z"
    }
   },
   "id": "4de40c6810b3ed84",
   "execution_count": 29
  },
  {
   "cell_type": "code",
   "outputs": [],
   "source": [
    "#add the werewolf dataframe to the json file\n",
    "Werewolf_data = [\n",
    "    {\n",
    "    \"Speaker\": werewolf['Voicetype'][index],\n",
    "    \"Dialogue\": werewolf['Dialogue'][index],\n",
    "    \"Event\": \"Player being a werewolf in front of an NPC\",\n",
    "    \"Condition\": \"the Player having transformed into a werewolf\"\n",
    "} for index, row in werewolf.iterrows()]\n",
    "\n",
    "data = data + Werewolf_data"
   ],
   "metadata": {
    "collapsed": false,
    "ExecuteTime": {
     "end_time": "2024-05-20T18:37:05.426720600Z",
     "start_time": "2024-05-20T18:37:05.315667500Z"
    }
   },
   "id": "62632bcee8a92d39",
   "execution_count": 30
  },
  {
   "cell_type": "code",
   "outputs": [],
   "source": [
    "Werewolf_data = convert_all_to_string(Werewolf_data)"
   ],
   "metadata": {
    "collapsed": false,
    "ExecuteTime": {
     "end_time": "2024-05-20T18:37:05.519420900Z",
     "start_time": "2024-05-20T18:37:05.386865500Z"
    }
   },
   "id": "9b7ee2aaa845a69d",
   "execution_count": 31
  },
  {
   "cell_type": "code",
   "outputs": [],
   "source": [
    "data_list.append(Werewolf_data)"
   ],
   "metadata": {
    "collapsed": false,
    "ExecuteTime": {
     "end_time": "2024-05-20T18:37:05.652396900Z",
     "start_time": "2024-05-20T18:37:05.477905400Z"
    }
   },
   "id": "5d0d988f600622",
   "execution_count": 32
  },
  {
   "cell_type": "code",
   "outputs": [],
   "source": [
    "#write the werewolf data to a json file in the testing_for_error folder\n",
    "with open('testing_for_error/Werewolf_data.json', 'w') as f:\n",
    "    f.write(json.dumps(Werewolf_data, indent=4))"
   ],
   "metadata": {
    "collapsed": false,
    "ExecuteTime": {
     "end_time": "2024-05-20T18:37:05.711410900Z",
     "start_time": "2024-05-20T18:37:05.634446800Z"
    }
   },
   "id": "b4475c4c28804fd2",
   "execution_count": 33
  },
  {
   "cell_type": "code",
   "outputs": [],
   "source": [
    "#import the Generic_Events sheet\n",
    "generic_events = pd.read_excel('testing_excel.xlsx', sheet_name='Generic_Events')"
   ],
   "metadata": {
    "collapsed": false,
    "ExecuteTime": {
     "end_time": "2024-05-20T18:37:05.814526600Z",
     "start_time": "2024-05-20T18:37:05.694407Z"
    }
   },
   "id": "db56bda7032482b4",
   "execution_count": 34
  },
  {
   "cell_type": "code",
   "outputs": [],
   "source": [
    "generic_events = generic_events.replace(u'\\xa0', u' ', regex=True)"
   ],
   "metadata": {
    "collapsed": false,
    "ExecuteTime": {
     "end_time": "2024-05-20T18:37:05.851967800Z",
     "start_time": "2024-05-20T18:37:05.784430100Z"
    }
   },
   "id": "4408e566648c2e34",
   "execution_count": 35
  },
  {
   "cell_type": "code",
   "outputs": [
    {
     "data": {
      "text/plain": "                            Event  \\\n0   the an NPC witnessing a theft   \n1   the an NPC witnessing a theft   \n2          the Player trespassing   \n3          the Player trespassing   \n4          the Player trespassing   \n..                            ...   \n89     an NPC witnessing a murder   \n90     an NPC witnessing a murder   \n91     an NPC witnessing a murder   \n92     an NPC witnessing a murder   \n93     an NPC witnessing a murder   \n\n                                             Dialogue  \n0                                  \"You dirty thief!\"  \n1                                      \"Stop, thief!\"  \n2                \"You're not supposed to be in here.\"  \n3                         \"Last warning. Leave, now.\"  \n4   \"I'm not going to warn you again. Get out, or ...  \n..                                                ...  \n89                        \"Guess they deserved it...\"  \n90                             \"What's done is done.\"  \n91  \"Well... that was an unpleasant bit of business.\"  \n92        \"I didn't know you were so cold-blooded...\"  \n93                 \"Remind me not to make you angry.\"  \n\n[94 rows x 2 columns]",
      "text/html": "<div>\n<style scoped>\n    .dataframe tbody tr th:only-of-type {\n        vertical-align: middle;\n    }\n\n    .dataframe tbody tr th {\n        vertical-align: top;\n    }\n\n    .dataframe thead th {\n        text-align: right;\n    }\n</style>\n<table border=\"1\" class=\"dataframe\">\n  <thead>\n    <tr style=\"text-align: right;\">\n      <th></th>\n      <th>Event</th>\n      <th>Dialogue</th>\n    </tr>\n  </thead>\n  <tbody>\n    <tr>\n      <th>0</th>\n      <td>the an NPC witnessing a theft</td>\n      <td>\"You dirty thief!\"</td>\n    </tr>\n    <tr>\n      <th>1</th>\n      <td>the an NPC witnessing a theft</td>\n      <td>\"Stop, thief!\"</td>\n    </tr>\n    <tr>\n      <th>2</th>\n      <td>the Player trespassing</td>\n      <td>\"You're not supposed to be in here.\"</td>\n    </tr>\n    <tr>\n      <th>3</th>\n      <td>the Player trespassing</td>\n      <td>\"Last warning. Leave, now.\"</td>\n    </tr>\n    <tr>\n      <th>4</th>\n      <td>the Player trespassing</td>\n      <td>\"I'm not going to warn you again. Get out, or ...</td>\n    </tr>\n    <tr>\n      <th>...</th>\n      <td>...</td>\n      <td>...</td>\n    </tr>\n    <tr>\n      <th>89</th>\n      <td>an NPC witnessing a murder</td>\n      <td>\"Guess they deserved it...\"</td>\n    </tr>\n    <tr>\n      <th>90</th>\n      <td>an NPC witnessing a murder</td>\n      <td>\"What's done is done.\"</td>\n    </tr>\n    <tr>\n      <th>91</th>\n      <td>an NPC witnessing a murder</td>\n      <td>\"Well... that was an unpleasant bit of business.\"</td>\n    </tr>\n    <tr>\n      <th>92</th>\n      <td>an NPC witnessing a murder</td>\n      <td>\"I didn't know you were so cold-blooded...\"</td>\n    </tr>\n    <tr>\n      <th>93</th>\n      <td>an NPC witnessing a murder</td>\n      <td>\"Remind me not to make you angry.\"</td>\n    </tr>\n  </tbody>\n</table>\n<p>94 rows × 2 columns</p>\n</div>"
     },
     "execution_count": 36,
     "metadata": {},
     "output_type": "execute_result"
    }
   ],
   "source": [
    "generic_events"
   ],
   "metadata": {
    "collapsed": false,
    "ExecuteTime": {
     "end_time": "2024-05-20T18:37:05.940765100Z",
     "start_time": "2024-05-20T18:37:05.828529500Z"
    }
   },
   "id": "d123cb6829afe9d5",
   "execution_count": 36
  },
  {
   "cell_type": "code",
   "outputs": [],
   "source": [
    "#add the generic_events dataframe to the json file\n",
    "Generic_Events_data = [\n",
    "    {\n",
    "    \"Speaker\": \"Any\",\n",
    "    \"Dialogue\": generic_events['Dialogue'][index],\n",
    "    \"Event\": generic_events['Event'][index],\n",
    "} for index, row in generic_events.iterrows()]\n",
    "\n",
    "data = data + Generic_Events_data"
   ],
   "metadata": {
    "collapsed": false,
    "ExecuteTime": {
     "end_time": "2024-05-20T18:37:05.994814300Z",
     "start_time": "2024-05-20T18:37:05.928985300Z"
    }
   },
   "id": "6ca4a49bd9757cf3",
   "execution_count": 37
  },
  {
   "cell_type": "code",
   "outputs": [],
   "source": [
    "Generic_Events_data = convert_all_to_string(Generic_Events_data)"
   ],
   "metadata": {
    "collapsed": false,
    "ExecuteTime": {
     "end_time": "2024-05-20T18:37:06.103289200Z",
     "start_time": "2024-05-20T18:37:05.983774700Z"
    }
   },
   "id": "c2122fc54c05a945",
   "execution_count": 38
  },
  {
   "cell_type": "code",
   "outputs": [],
   "source": [
    "data_list.append(Generic_Events_data)"
   ],
   "metadata": {
    "collapsed": false,
    "ExecuteTime": {
     "end_time": "2024-05-20T18:37:06.194124400Z",
     "start_time": "2024-05-20T18:37:06.080623900Z"
    }
   },
   "id": "11587f5b5b742240",
   "execution_count": 39
  },
  {
   "cell_type": "code",
   "outputs": [],
   "source": [
    "#write the generic_events data to a json file in the testing_for_error folder\n",
    "with open('testing_for_error/Generic_Events_data.json', 'w') as f:\n",
    "    f.write(json.dumps(Generic_Events_data, indent=4))"
   ],
   "metadata": {
    "collapsed": false,
    "ExecuteTime": {
     "end_time": "2024-05-20T18:37:06.332157100Z",
     "start_time": "2024-05-20T18:37:06.165303500Z"
    }
   },
   "id": "7e070383d9f42cb1",
   "execution_count": 40
  },
  {
   "cell_type": "code",
   "outputs": [],
   "source": [
    "# import the Flames_Girls sheet\n",
    "flames_gifts= pd.read_excel('testing_excel.xlsx', sheet_name='Flames_Gifts')"
   ],
   "metadata": {
    "collapsed": false,
    "ExecuteTime": {
     "end_time": "2024-05-20T18:37:06.451683800Z",
     "start_time": "2024-05-20T18:37:06.318154300Z"
    }
   },
   "id": "59aa006189acd3b2",
   "execution_count": 41
  },
  {
   "cell_type": "code",
   "outputs": [],
   "source": [
    "flames_gifts = flames_gifts.replace(u'\\xa0', u' ', regex=True)"
   ],
   "metadata": {
    "collapsed": false,
    "ExecuteTime": {
     "end_time": "2024-05-20T18:37:06.465642500Z",
     "start_time": "2024-05-20T18:37:06.377763400Z"
    }
   },
   "id": "9e3121c382f3dc58",
   "execution_count": 42
  },
  {
   "cell_type": "code",
   "outputs": [],
   "source": [
    "#add the flames_gifts dataframe to the json file\n",
    "Flames_Gifts_data = [\n",
    "    {\n",
    "    \"Speaker\": flames_gifts['Voicetype'][index],\n",
    "    \"Dialogue\": flames_gifts['Dialogue'][index],\n",
    "    \"Event\": flames_gifts['Event'][index],\n",
    "    } for index, row in flames_gifts.iterrows()]\n",
    "\n",
    "data = data + Flames_Gifts_data"
   ],
   "metadata": {
    "collapsed": false,
    "ExecuteTime": {
     "end_time": "2024-05-20T18:37:06.505651200Z",
     "start_time": "2024-05-20T18:37:06.454684300Z"
    }
   },
   "id": "7e3c41a3021f1d3c",
   "execution_count": 43
  },
  {
   "cell_type": "code",
   "outputs": [],
   "source": [
    "Flames_Gifts_data = convert_all_to_string(Flames_Gifts_data)"
   ],
   "metadata": {
    "collapsed": false,
    "ExecuteTime": {
     "end_time": "2024-05-20T18:37:06.591458800Z",
     "start_time": "2024-05-20T18:37:06.501650Z"
    }
   },
   "id": "cee2f7a1a27eef25",
   "execution_count": 44
  },
  {
   "cell_type": "code",
   "outputs": [],
   "source": [
    "data_list.append(Flames_Gifts_data)"
   ],
   "metadata": {
    "collapsed": false,
    "ExecuteTime": {
     "end_time": "2024-05-20T18:37:06.643006700Z",
     "start_time": "2024-05-20T18:37:06.581667600Z"
    }
   },
   "id": "f0d7bbe88dcd78f7",
   "execution_count": 45
  },
  {
   "cell_type": "code",
   "outputs": [],
   "source": [
    "#write the flames_gifts data to a json file in the testing_for_error folder\n",
    "with open('testing_for_error/Flames_Gifts_data.json', 'w') as f:\n",
    "    f.write(json.dumps(Flames_Gifts_data, indent=4))"
   ],
   "metadata": {
    "collapsed": false,
    "ExecuteTime": {
     "end_time": "2024-05-20T18:37:06.735027200Z",
     "start_time": "2024-05-20T18:37:06.636468800Z"
    }
   },
   "id": "319f2a802def958",
   "execution_count": 46
  },
  {
   "cell_type": "code",
   "outputs": [],
   "source": [
    "#import the fighting_over_item sheet\n",
    "fighting_over_item = pd.read_excel('testing_excel.xlsx', sheet_name='fighting_over_item')\n",
    "fighting_over_item = fighting_over_item.replace(u'\\xa0', u' ', regex=True)"
   ],
   "metadata": {
    "collapsed": false,
    "ExecuteTime": {
     "end_time": "2024-05-20T18:37:06.827135500Z",
     "start_time": "2024-05-20T18:37:06.719024600Z"
    }
   },
   "id": "885d45bccf3f860c",
   "execution_count": 47
  },
  {
   "cell_type": "code",
   "outputs": [],
   "source": [
    "fighting_over_item_data = [\n",
    "    {\n",
    "    \"Speaker\": fighting_over_item['Voicetype'][index],\n",
    "    \"Dialogue\": fighting_over_item['Dialogue'][index],\n",
    "    \"Event\": fighting_over_item['Event'][index],\n",
    "    \"Line_of_dialogue\": fighting_over_item['Line_of_dialogue'][index],\n",
    "    } for index, row in fighting_over_item.iterrows()]\n",
    "\n",
    "data = data + fighting_over_item_data"
   ],
   "metadata": {
    "collapsed": false,
    "ExecuteTime": {
     "end_time": "2024-05-20T18:37:06.871498900Z",
     "start_time": "2024-05-20T18:37:06.780622800Z"
    }
   },
   "id": "23fb80bbce552f64",
   "execution_count": 48
  },
  {
   "cell_type": "code",
   "outputs": [],
   "source": [
    "fighting_over_item_data = convert_all_to_string(fighting_over_item_data)"
   ],
   "metadata": {
    "collapsed": false,
    "ExecuteTime": {
     "end_time": "2024-05-20T18:37:06.952954800Z",
     "start_time": "2024-05-20T18:37:06.868144200Z"
    }
   },
   "id": "67b667c6e5ace865",
   "execution_count": 49
  },
  {
   "cell_type": "code",
   "outputs": [],
   "source": [
    "data_list.append(fighting_over_item_data)"
   ],
   "metadata": {
    "collapsed": false,
    "ExecuteTime": {
     "end_time": "2024-05-20T18:37:06.997873Z",
     "start_time": "2024-05-20T18:37:06.942878900Z"
    }
   },
   "id": "829d31666e0ce8b3",
   "execution_count": 50
  },
  {
   "cell_type": "code",
   "outputs": [],
   "source": [
    "#write the fighting_over_item data to a json file in the testing_for_error folder\n",
    "with open('testing_for_error/fighting_over_item_data.json', 'w') as f:\n",
    "    f.write(json.dumps(fighting_over_item_data, indent=4))"
   ],
   "metadata": {
    "collapsed": false,
    "ExecuteTime": {
     "end_time": "2024-05-20T18:37:07.082881600Z",
     "start_time": "2024-05-20T18:37:06.994963700Z"
    }
   },
   "id": "8d2bdc2cc8ac6e26",
   "execution_count": 51
  },
  {
   "cell_type": "code",
   "outputs": [],
   "source": [
    "#read the sheet return&bumping&naked\n",
    "return_bumping_naked = pd.read_excel('testing_excel.xlsx', sheet_name='return&bumping&naked')\n",
    "return_bumping_naked = return_bumping_naked.replace(u'\\xa0', u' ', regex=True)"
   ],
   "metadata": {
    "collapsed": false,
    "ExecuteTime": {
     "end_time": "2024-05-20T18:37:07.198034700Z",
     "start_time": "2024-05-20T18:37:07.065877500Z"
    }
   },
   "id": "f4c3051e25122e1f",
   "execution_count": 52
  },
  {
   "cell_type": "code",
   "outputs": [],
   "source": [
    "#add the return_bumping_naked dataframe to the json file\n",
    "return_bumping_naked_data = [\n",
    "    {\n",
    "    \"Speaker\": return_bumping_naked['Voicetype'][index],\n",
    "    \"Dialogue\": return_bumping_naked['Dialogue'][index],\n",
    "    \"Event\": return_bumping_naked['Event'][index],\n",
    "    } for index, row in return_bumping_naked.iterrows()]\n",
    "\n",
    "data = data + return_bumping_naked_data"
   ],
   "metadata": {
    "collapsed": false,
    "ExecuteTime": {
     "end_time": "2024-05-20T18:37:07.204036500Z",
     "start_time": "2024-05-20T18:37:07.128649100Z"
    }
   },
   "id": "68d725bd6df90268",
   "execution_count": 53
  },
  {
   "cell_type": "code",
   "outputs": [],
   "source": [
    "return_bumping_naked_data = convert_all_to_string(return_bumping_naked_data)"
   ],
   "metadata": {
    "collapsed": false,
    "ExecuteTime": {
     "end_time": "2024-05-20T18:37:07.251506400Z",
     "start_time": "2024-05-20T18:37:07.201035200Z"
    }
   },
   "id": "9942ad9aecb92b8d",
   "execution_count": 54
  },
  {
   "cell_type": "code",
   "outputs": [],
   "source": [
    "data_list.append(return_bumping_naked_data)"
   ],
   "metadata": {
    "collapsed": false,
    "ExecuteTime": {
     "end_time": "2024-05-20T18:37:07.338559200Z",
     "start_time": "2024-05-20T18:37:07.248048Z"
    }
   },
   "id": "a2bb3bb9cdfba3d8",
   "execution_count": 55
  },
  {
   "cell_type": "code",
   "outputs": [],
   "source": [
    "#write the return_bumping_naked data to a json file in the testing_for_error folder\n",
    "with open('testing_for_error/return_bumping_naked_data.json', 'w') as f:\n",
    "    f.write(json.dumps(return_bumping_naked_data, indent=4))"
   ],
   "metadata": {
    "collapsed": false,
    "ExecuteTime": {
     "end_time": "2024-05-20T18:37:07.381568700Z",
     "start_time": "2024-05-20T18:37:07.335524300Z"
    }
   },
   "id": "acd99d2578a29360",
   "execution_count": 56
  },
  {
   "cell_type": "code",
   "outputs": [],
   "source": [
    "# read the sheet Asking_armor\n",
    "asking_armor = pd.read_excel('testing_excel.xlsx', sheet_name='Asking_armor')\n",
    "asking_armor = asking_armor.replace(u'\\xa0', u' ', regex=True)"
   ],
   "metadata": {
    "collapsed": false,
    "ExecuteTime": {
     "end_time": "2024-05-20T18:37:07.467769300Z",
     "start_time": "2024-05-20T18:37:07.367564900Z"
    }
   },
   "id": "5940e5e949a732a9",
   "execution_count": 57
  },
  {
   "cell_type": "code",
   "outputs": [],
   "source": [
    "#add the asking_armor dataframe to the json file\n",
    "asking_armor_data = [\n",
    "    {\n",
    "    \"Speaker\": asking_armor['Voicetype'][index],\n",
    "    \"Dialogue\": asking_armor['Dialogue'][index],\n",
    "    \"Event\": asking_armor['Event'][index],\n",
    "    \"Response_to\": asking_armor['Response_to'][index]\n",
    "    } for index, row in asking_armor.iterrows()]\n",
    "\n",
    "data = data + asking_armor_data"
   ],
   "metadata": {
    "collapsed": false,
    "ExecuteTime": {
     "end_time": "2024-05-20T18:37:07.492360200Z",
     "start_time": "2024-05-20T18:37:07.449802200Z"
    }
   },
   "id": "46a48f29e1caafa6",
   "execution_count": 58
  },
  {
   "cell_type": "code",
   "outputs": [],
   "source": [
    "asking_armor_data = convert_all_to_string(asking_armor_data)"
   ],
   "metadata": {
    "collapsed": false,
    "ExecuteTime": {
     "end_time": "2024-05-20T18:37:07.563947700Z",
     "start_time": "2024-05-20T18:37:07.480772Z"
    }
   },
   "id": "cbb7e1705b4848d9",
   "execution_count": 59
  },
  {
   "cell_type": "code",
   "outputs": [],
   "source": [
    "data_list.append(asking_armor_data)"
   ],
   "metadata": {
    "collapsed": false,
    "ExecuteTime": {
     "end_time": "2024-05-20T18:37:07.614454300Z",
     "start_time": "2024-05-20T18:37:07.549372100Z"
    }
   },
   "id": "b5b654e301a944da",
   "execution_count": 60
  },
  {
   "cell_type": "code",
   "outputs": [],
   "source": [
    "#write the asking_armor data to a json file in the testing_for_error folder\n",
    "with open('testing_for_error/asking_armor_data.json', 'w') as f:\n",
    "    f.write(json.dumps(asking_armor_data, indent=4))"
   ],
   "metadata": {
    "collapsed": false,
    "ExecuteTime": {
     "end_time": "2024-05-20T18:37:07.687470500Z",
     "start_time": "2024-05-20T18:37:07.603957100Z"
    }
   },
   "id": "750bab23c494baa9",
   "execution_count": 61
  },
  {
   "cell_type": "code",
   "outputs": [],
   "source": [
    "#read the sheet Spells&robes\n",
    "spells_robes = pd.read_excel('testing_excel.xlsx', sheet_name='Spells&robes')\n",
    "spells_robes = spells_robes.replace(u'\\xa0', u' ', regex=True)\n",
    "#remove the \\u2019 character from the dataframe\n",
    "spells_robes = spells_robes.replace(u'\\u2019', \"'\", regex=True)\n",
    "#remove the \\u00a0 character from the dataframe\n",
    "spells_robes = spells_robes.replace(u'\\u00a0', ' ', regex=True)"
   ],
   "metadata": {
    "collapsed": false,
    "ExecuteTime": {
     "end_time": "2024-05-20T18:37:07.816686400Z",
     "start_time": "2024-05-20T18:37:07.677468Z"
    }
   },
   "id": "267fe540b8820b95",
   "execution_count": 62
  },
  {
   "cell_type": "code",
   "outputs": [],
   "source": [
    "#add the spells_robes dataframe to the json file\n",
    "spells_robes_data = [\n",
    "    {\n",
    "    \"Speaker\": spells_robes['Voicetype'][index],\n",
    "    \"Dialogue\": spells_robes['Dialogue'][index],\n",
    "    \"Event\": spells_robes['Event'][index],\n",
    "    } for index, row in spells_robes.iterrows()]\n",
    "\n",
    "data = data + spells_robes_data"
   ],
   "metadata": {
    "collapsed": false,
    "ExecuteTime": {
     "end_time": "2024-05-20T18:37:07.825320Z",
     "start_time": "2024-05-20T18:37:07.743484Z"
    }
   },
   "id": "4b8fb5f332daa75f",
   "execution_count": 63
  },
  {
   "cell_type": "code",
   "outputs": [],
   "source": [
    "spells_robes_data = convert_all_to_string(spells_robes_data)"
   ],
   "metadata": {
    "collapsed": false,
    "ExecuteTime": {
     "end_time": "2024-05-20T18:37:07.873111200Z",
     "start_time": "2024-05-20T18:37:07.819687100Z"
    }
   },
   "id": "50457a3123d348b2",
   "execution_count": 64
  },
  {
   "cell_type": "code",
   "outputs": [],
   "source": [
    "data_list.append(spells_robes_data)"
   ],
   "metadata": {
    "collapsed": false,
    "ExecuteTime": {
     "end_time": "2024-05-20T18:37:07.948629300Z",
     "start_time": "2024-05-20T18:37:07.862327700Z"
    }
   },
   "id": "bdddd25c59d287b0",
   "execution_count": 65
  },
  {
   "cell_type": "code",
   "outputs": [],
   "source": [
    "#write the spells_robes data to a json file in the testing_for_error folder\n",
    "with open('testing_for_error/spells_robes_data.json', 'w') as f:\n",
    "    f.write(json.dumps(spells_robes_data, indent=4))"
   ],
   "metadata": {
    "collapsed": false,
    "ExecuteTime": {
     "end_time": "2024-05-20T18:37:07.991638500Z",
     "start_time": "2024-05-20T18:37:07.936124800Z"
    }
   },
   "id": "f8253181b7411a0f",
   "execution_count": 66
  },
  {
   "cell_type": "code",
   "outputs": [],
   "source": [
    "#read the sheet Shouting&Corpses\n",
    "shouting_corpses = pd.read_excel('testing_excel.xlsx', sheet_name='Shouting&Corpses')\n",
    "shouting_corpses = shouting_corpses.replace(u'\\xa0', u' ', regex=True)\n",
    "shouting_corpses = shouting_corpses.replace(u'\\u2019', \"'\", regex=True)\n",
    "shouting_corpses = shouting_corpses.replace(u'\\u00a0', ' ', regex=True)"
   ],
   "metadata": {
    "collapsed": false,
    "ExecuteTime": {
     "end_time": "2024-05-20T18:37:08.134731100Z",
     "start_time": "2024-05-20T18:37:07.988638Z"
    }
   },
   "id": "26e033e9f00964c0",
   "execution_count": 67
  },
  {
   "cell_type": "code",
   "outputs": [],
   "source": [
    "#add the shouting_corpses dataframe to the json file\n",
    "shouting_corpses_data = [\n",
    "    {\n",
    "    \"Speaker\": shouting_corpses['Voicetype'][index],\n",
    "    \"Dialogue\": shouting_corpses['Dialogue'][index],\n",
    "    \"Event\": shouting_corpses['Event'][index],\n",
    "    } for index, row in shouting_corpses.iterrows()]\n",
    "\n",
    "data = data + shouting_corpses_data"
   ],
   "metadata": {
    "collapsed": false,
    "ExecuteTime": {
     "end_time": "2024-05-20T18:37:08.166738500Z",
     "start_time": "2024-05-20T18:37:08.100493300Z"
    }
   },
   "id": "59cf949f1996aa61",
   "execution_count": 68
  },
  {
   "cell_type": "code",
   "outputs": [],
   "source": [
    "shouting_corpses_data = convert_all_to_string(shouting_corpses_data)"
   ],
   "metadata": {
    "collapsed": false,
    "ExecuteTime": {
     "end_time": "2024-05-20T18:37:08.182986100Z",
     "start_time": "2024-05-20T18:37:08.108550100Z"
    }
   },
   "id": "79f8074fe90ffc78",
   "execution_count": 69
  },
  {
   "cell_type": "code",
   "outputs": [],
   "source": [
    "data_list.append(shouting_corpses_data)"
   ],
   "metadata": {
    "collapsed": false,
    "ExecuteTime": {
     "end_time": "2024-05-20T18:37:08.266004500Z",
     "start_time": "2024-05-20T18:37:08.167738600Z"
    }
   },
   "id": "2ee8d2faa5dd8c7f",
   "execution_count": 70
  },
  {
   "cell_type": "code",
   "outputs": [],
   "source": [
    "#write the shouting_corpses data to a json file in the testing_for_error folder\n",
    "with open('testing_for_error/shouting_corpses_data.json', 'w') as f:\n",
    "    f.write(json.dumps(shouting_corpses_data, indent=4))"
   ],
   "metadata": {
    "collapsed": false,
    "ExecuteTime": {
     "end_time": "2024-05-20T18:37:08.306013Z",
     "start_time": "2024-05-20T18:37:08.231996800Z"
    }
   },
   "id": "5089220adcbf72bb",
   "execution_count": 71
  },
  {
   "cell_type": "code",
   "outputs": [],
   "source": [
    "#add the sheet combat_dialogue to the json file\n",
    "combat_dialogue = pd.read_excel('testing_excel.xlsx', sheet_name='combat_dialogue')\n",
    "combat_dialogue = combat_dialogue.replace(u'\\xa0', u' ', regex=True)\n",
    "combat_dialogue = combat_dialogue.replace(u'\\u2019', \"'\", regex=True)\n",
    "combat_dialogue = combat_dialogue.replace(u'\\u00a0', ' ', regex=True)"
   ],
   "metadata": {
    "collapsed": false,
    "ExecuteTime": {
     "end_time": "2024-05-20T18:37:08.404010700Z",
     "start_time": "2024-05-20T18:37:08.303012600Z"
    }
   },
   "id": "ee872cbb14a0b698",
   "execution_count": 72
  },
  {
   "cell_type": "code",
   "outputs": [],
   "source": [
    "combat_dialogue_data = [\n",
    "    {\n",
    "    \"Speaker\": \"Any\",\n",
    "    \"Dialogue\": combat_dialogue['Dialogue'][index],\n",
    "    \"Event\": combat_dialogue['Event'][index],\n",
    "    \"Condition\": combat_dialogue['Condition'][index]\n",
    "    } for index, row in combat_dialogue.iterrows()]\n",
    "\n",
    "data = data + combat_dialogue_data"
   ],
   "metadata": {
    "collapsed": false,
    "ExecuteTime": {
     "end_time": "2024-05-20T18:37:08.440611100Z",
     "start_time": "2024-05-20T18:37:08.387031200Z"
    }
   },
   "id": "b27c033f6efeabd5",
   "execution_count": 73
  },
  {
   "cell_type": "code",
   "outputs": [],
   "source": [
    "combat_dialogue_data = convert_all_to_string(combat_dialogue_data)"
   ],
   "metadata": {
    "collapsed": false,
    "ExecuteTime": {
     "end_time": "2024-05-20T18:37:08.519628600Z",
     "start_time": "2024-05-20T18:37:08.426015600Z"
    }
   },
   "id": "a264a603e77e9001",
   "execution_count": 74
  },
  {
   "cell_type": "code",
   "outputs": [],
   "source": [
    "data_list.append(combat_dialogue_data)"
   ],
   "metadata": {
    "collapsed": false,
    "ExecuteTime": {
     "end_time": "2024-05-20T18:37:08.558637600Z",
     "start_time": "2024-05-20T18:37:08.509626300Z"
    }
   },
   "id": "5d3af34adaeff8d0",
   "execution_count": 75
  },
  {
   "cell_type": "code",
   "outputs": [],
   "source": [
    "#writing the combat_dialogue data to a json file in the testing_for_error folder\n",
    "with open('testing_for_error/combat_dialogue_data.json', 'w') as f:\n",
    "    f.write(json.dumps(combat_dialogue_data, indent=4))"
   ],
   "metadata": {
    "collapsed": false,
    "ExecuteTime": {
     "end_time": "2024-05-20T18:37:08.628652800Z",
     "start_time": "2024-05-20T18:37:08.547634900Z"
    }
   },
   "id": "d162dd5e42aca656",
   "execution_count": 76
  },
  {
   "cell_type": "code",
   "outputs": [],
   "source": [
    "#add the sheet Persuation_check to the json file\n",
    "\n",
    "persuasion_check = pd.read_excel('testing_excel.xlsx', sheet_name='Persuasion_check')\n",
    "persuasion_check = persuasion_check.replace(u'\\xa0', u' ', regex=True)\n",
    "persuasion_check = persuasion_check.replace(u'\\u2019', \"'\", regex=True)\n",
    "persuasion_check = persuasion_check.replace(u'\\u00a0', ' ', regex=True)"
   ],
   "metadata": {
    "collapsed": false,
    "ExecuteTime": {
     "end_time": "2024-05-20T18:37:08.741636500Z",
     "start_time": "2024-05-20T18:37:08.626653Z"
    }
   },
   "id": "ad1510f6f587ea11",
   "execution_count": 77
  },
  {
   "cell_type": "code",
   "outputs": [],
   "source": [
    "persuasion_check_data = [\n",
    "    {\n",
    "    \"Speaker\": \"Any\",\n",
    "    \"Dialogue\": persuasion_check['Dialogue'][index],\n",
    "    \"Event\": persuasion_check['Event'][index],\n",
    "    \"Result\": persuasion_check['Result'][index],\n",
    "    } for index, row in persuasion_check.iterrows()]\n",
    "\n",
    "data = data + persuasion_check_data"
   ],
   "metadata": {
    "collapsed": false,
    "ExecuteTime": {
     "end_time": "2024-05-20T18:37:08.755280700Z",
     "start_time": "2024-05-20T18:37:08.687623200Z"
    }
   },
   "id": "34bc652a85540ef2",
   "execution_count": 78
  },
  {
   "cell_type": "code",
   "outputs": [],
   "source": [
    "persuasion_check_data = convert_all_to_string(persuasion_check_data)"
   ],
   "metadata": {
    "collapsed": false,
    "ExecuteTime": {
     "end_time": "2024-05-20T18:37:08.806832Z",
     "start_time": "2024-05-20T18:37:08.744636400Z"
    }
   },
   "id": "a97b58127b6a55f8",
   "execution_count": 79
  },
  {
   "cell_type": "code",
   "outputs": [],
   "source": [
    "data_list.append(persuasion_check_data)"
   ],
   "metadata": {
    "collapsed": false,
    "ExecuteTime": {
     "end_time": "2024-05-20T18:37:08.887685800Z",
     "start_time": "2024-05-20T18:37:08.803291Z"
    }
   },
   "id": "4b50d9de5135cf79",
   "execution_count": 80
  },
  {
   "cell_type": "code",
   "outputs": [],
   "source": [
    "#write the persuasion_check data to a json file in the testing_for_error folder\n",
    "with open('testing_for_error/persuasion_check_data.json', 'w') as f:\n",
    "    f.write(json.dumps(persuasion_check_data, indent=4))"
   ],
   "metadata": {
    "collapsed": false,
    "ExecuteTime": {
     "end_time": "2024-05-20T18:37:08.951700400Z",
     "start_time": "2024-05-20T18:37:08.884848900Z"
    }
   },
   "id": "7f6253d61a030bf",
   "execution_count": 81
  },
  {
   "cell_type": "code",
   "outputs": [],
   "source": [
    "#add the sheet entering_buying to the json file\n",
    "entering_buying = pd.read_excel('testing_excel.xlsx', sheet_name='entering_buying')\n",
    "entering_buying = entering_buying.replace(u'\\xa0', u' ', regex=True)\n",
    "entering_buying = entering_buying.replace(u'\\u2019', \"'\", regex=True)\n",
    "entering_buying = entering_buying.replace(u'\\u00a0', ' ', regex=True)"
   ],
   "metadata": {
    "collapsed": false,
    "ExecuteTime": {
     "end_time": "2024-05-20T18:37:09.046675500Z",
     "start_time": "2024-05-20T18:37:08.935695700Z"
    }
   },
   "id": "512d4f1c931f00bf",
   "execution_count": 82
  },
  {
   "cell_type": "code",
   "outputs": [],
   "source": [
    "entering_buying_data = [\n",
    "    {\n",
    "    \"Speaker\": entering_buying['Voicetype'][index],\n",
    "    \"Dialogue\": entering_buying['Dialogue'][index],\n",
    "    \"Event\": entering_buying['Event'][index],\n",
    "    } for index, row in entering_buying.iterrows()]\n",
    "\n",
    "data = data + entering_buying_data"
   ],
   "metadata": {
    "collapsed": false,
    "ExecuteTime": {
     "end_time": "2024-05-20T18:37:09.086685200Z",
     "start_time": "2024-05-20T18:37:09.027942100Z"
    }
   },
   "id": "4bdcdae96c4307b5",
   "execution_count": 83
  },
  {
   "cell_type": "code",
   "outputs": [],
   "source": [
    "entering_buying_data = convert_all_to_string(entering_buying_data)"
   ],
   "metadata": {
    "collapsed": false,
    "ExecuteTime": {
     "end_time": "2024-05-20T18:37:09.165201300Z",
     "start_time": "2024-05-20T18:37:09.083685100Z"
    }
   },
   "id": "2107b7956da69fd3",
   "execution_count": 84
  },
  {
   "cell_type": "code",
   "outputs": [],
   "source": [
    "data_list.append(entering_buying_data)"
   ],
   "metadata": {
    "collapsed": false,
    "ExecuteTime": {
     "end_time": "2024-05-20T18:37:09.203712400Z",
     "start_time": "2024-05-20T18:37:09.154699500Z"
    }
   },
   "id": "a82b8eccbfcb9b95",
   "execution_count": 85
  },
  {
   "cell_type": "code",
   "outputs": [],
   "source": [
    "#write the entering_buying data to a json file in the testing_for_error folder\n",
    "with open('testing_for_error/entering_buying_data.json', 'w') as f:\n",
    "    f.write(json.dumps(entering_buying_data, indent=4))"
   ],
   "metadata": {
    "collapsed": false,
    "ExecuteTime": {
     "end_time": "2024-05-20T18:37:09.298435300Z",
     "start_time": "2024-05-20T18:37:09.193207500Z"
    }
   },
   "id": "f05e23e1f54c10f9",
   "execution_count": 86
  },
  {
   "cell_type": "code",
   "outputs": [],
   "source": [
    "# add the sheet request_training to the json file"
   ],
   "metadata": {
    "collapsed": false,
    "ExecuteTime": {
     "end_time": "2024-05-20T18:37:09.357449Z",
     "start_time": "2024-05-20T18:37:09.278729100Z"
    }
   },
   "id": "b85e4ff46efcea17",
   "execution_count": 87
  },
  {
   "cell_type": "code",
   "outputs": [],
   "source": [
    "request_training = pd.read_excel('testing_excel.xlsx', sheet_name='requesting_training')\n",
    "request_training = request_training.replace(u'\\xa0', u' ', regex=True)\n",
    "request_training = request_training.replace(u'\\u2019', \"'\", regex=True)\n",
    "request_training = request_training.replace(u'\\u00a0', ' ', regex=True)"
   ],
   "metadata": {
    "collapsed": false,
    "ExecuteTime": {
     "end_time": "2024-05-20T18:37:09.528554500Z",
     "start_time": "2024-05-20T18:37:09.353447700Z"
    }
   },
   "id": "c4e4d0055358d9d7",
   "execution_count": 88
  },
  {
   "cell_type": "code",
   "outputs": [],
   "source": [
    "request_training_data = [\n",
    "    {\n",
    "    \"Speaker\": request_training['Voicetype'][index],\n",
    "    \"Dialogue\": request_training['Dialogue'][index],\n",
    "    \"Event\": request_training['Event'][index],\n",
    "    } for index, row in request_training.iterrows()]\n",
    "\n",
    "data = data + request_training_data"
   ],
   "metadata": {
    "collapsed": false,
    "ExecuteTime": {
     "end_time": "2024-05-20T18:37:09.582663700Z",
     "start_time": "2024-05-20T18:37:09.509781100Z"
    }
   },
   "id": "2a9e963377b0f001",
   "execution_count": 89
  },
  {
   "cell_type": "code",
   "outputs": [],
   "source": [
    "request_training_data = convert_all_to_string(request_training_data)"
   ],
   "metadata": {
    "collapsed": false,
    "ExecuteTime": {
     "end_time": "2024-05-20T18:37:09.647600400Z",
     "start_time": "2024-05-20T18:37:09.572564900Z"
    }
   },
   "id": "2a4820876f21fed4",
   "execution_count": 90
  },
  {
   "cell_type": "code",
   "outputs": [],
   "source": [
    "data_list.append(request_training_data)"
   ],
   "metadata": {
    "collapsed": false,
    "ExecuteTime": {
     "end_time": "2024-05-20T18:37:09.699630400Z",
     "start_time": "2024-05-20T18:37:09.644677800Z"
    }
   },
   "id": "9e644f8c98debed",
   "execution_count": 91
  },
  {
   "cell_type": "code",
   "outputs": [],
   "source": [
    "#write the request_training data to a json file in the testing_for_error folder\n",
    "with open('testing_for_error/request_training_data.json', 'w') as f:\n",
    "    f.write(json.dumps(request_training_data, indent=4))"
   ],
   "metadata": {
    "collapsed": false,
    "ExecuteTime": {
     "end_time": "2024-05-20T18:37:09.774647100Z",
     "start_time": "2024-05-20T18:37:09.684609Z"
    }
   },
   "id": "42ffbdc9ee523bae",
   "execution_count": 92
  },
  {
   "cell_type": "code",
   "outputs": [],
   "source": [
    "#add the sheet marriage to the json file\n",
    "marriage = pd.read_excel('testing_excel.xlsx', sheet_name='marriage')\n",
    "marriage = marriage.replace(u'\\xa0', u' ', regex=True)\n",
    "marriage = marriage.replace(u'\\u2019', \"'\", regex=True)\n",
    "marriage = marriage.replace(u'\\u00a0', ' ', regex=True)"
   ],
   "metadata": {
    "collapsed": false,
    "ExecuteTime": {
     "end_time": "2024-05-20T18:37:09.907210700Z",
     "start_time": "2024-05-20T18:37:09.763644800Z"
    }
   },
   "id": "994bae1a03efc306",
   "execution_count": 93
  },
  {
   "cell_type": "code",
   "outputs": [],
   "source": [
    "marriage_data = [\n",
    "    {\n",
    "    \"Speaker\": marriage['Voicetype'][index],\n",
    "    \"Dialogue\": marriage['Dialogue'][index],\n",
    "    \"Event\": marriage['Event'][index],\n",
    "    \"Response_to\": marriage['Response_to'][index]\n",
    "    } for index, row in marriage.iterrows()]"
   ],
   "metadata": {
    "collapsed": false,
    "ExecuteTime": {
     "end_time": "2024-05-20T18:37:09.920365300Z",
     "start_time": "2024-05-20T18:37:09.833762700Z"
    }
   },
   "id": "9cab7a5b60db56c8",
   "execution_count": 94
  },
  {
   "cell_type": "code",
   "outputs": [],
   "source": [
    "marriage_data = convert_all_to_string(marriage_data)"
   ],
   "metadata": {
    "collapsed": false,
    "ExecuteTime": {
     "end_time": "2024-05-20T18:37:09.966626200Z",
     "start_time": "2024-05-20T18:37:09.909210800Z"
    }
   },
   "id": "b2f901da15d60668",
   "execution_count": 95
  },
  {
   "cell_type": "code",
   "outputs": [],
   "source": [
    "data_list.append(marriage_data)"
   ],
   "metadata": {
    "collapsed": false,
    "ExecuteTime": {
     "end_time": "2024-05-20T18:37:10.044511200Z",
     "start_time": "2024-05-20T18:37:09.951372Z"
    }
   },
   "id": "d6e0520d21d99b42",
   "execution_count": 96
  },
  {
   "cell_type": "code",
   "outputs": [],
   "source": [
    "#write the marriage data to a json file in the testing_for_error folder\n",
    "with open('testing_for_error/marriage_data.json', 'w') as f:\n",
    "    f.write(json.dumps(marriage_data, indent=4))"
   ],
   "metadata": {
    "collapsed": false,
    "ExecuteTime": {
     "end_time": "2024-05-20T18:37:10.099403Z",
     "start_time": "2024-05-20T18:37:10.041642600Z"
    }
   },
   "id": "285fe5e4144cb909",
   "execution_count": 97
  },
  {
   "cell_type": "code",
   "outputs": [],
   "source": [
    "data = data + marriage_data"
   ],
   "metadata": {
    "collapsed": false,
    "ExecuteTime": {
     "end_time": "2024-05-20T18:37:10.164420Z",
     "start_time": "2024-05-20T18:37:10.081024700Z"
    }
   },
   "id": "f5c9c2a0386debb3",
   "execution_count": 98
  },
  {
   "cell_type": "code",
   "outputs": [],
   "source": [
    "#add the sheet wedding to the json file\n",
    "wedding = pd.read_excel('testing_excel.xlsx', sheet_name='wedding')\n",
    "wedding = wedding.replace(u'\\xa0', u' ', regex=True)\n",
    "wedding = wedding.replace(u'\\u2019', \"'\", regex=True)\n",
    "wedding = wedding.replace(u'\\u00a0', ' ', regex=True)"
   ],
   "metadata": {
    "collapsed": false,
    "ExecuteTime": {
     "end_time": "2024-05-20T18:37:10.271202600Z",
     "start_time": "2024-05-20T18:37:10.154417600Z"
    }
   },
   "id": "cfa55f712899b2f5",
   "execution_count": 99
  },
  {
   "cell_type": "code",
   "outputs": [],
   "source": [
    "wedding_data = [\n",
    "    {\n",
    "    \"Speaker\": wedding['Voicetype'][index],\n",
    "    \"Dialogue\": wedding['Dialogue'][index],\n",
    "    \"Event\": wedding['Event'][index],\n",
    "    \"Condition\": wedding['Condition'][index],\n",
    "    } for index, row in wedding.iterrows()]\n",
    "\n",
    "data = data + wedding_data"
   ],
   "metadata": {
    "collapsed": false,
    "ExecuteTime": {
     "end_time": "2024-05-20T18:37:10.303622200Z",
     "start_time": "2024-05-20T18:37:10.219692300Z"
    }
   },
   "id": "d64c23a318e92d07",
   "execution_count": 100
  },
  {
   "cell_type": "code",
   "outputs": [],
   "source": [
    "wedding_data = convert_all_to_string(wedding_data)"
   ],
   "metadata": {
    "collapsed": false,
    "ExecuteTime": {
     "end_time": "2024-05-20T18:37:10.346851200Z",
     "start_time": "2024-05-20T18:37:10.292207500Z"
    }
   },
   "id": "2c87d894a7f82ec5",
   "execution_count": 101
  },
  {
   "cell_type": "code",
   "outputs": [],
   "source": [
    "data_list.append(wedding_data)"
   ],
   "metadata": {
    "collapsed": false,
    "ExecuteTime": {
     "end_time": "2024-05-20T18:37:10.438299300Z",
     "start_time": "2024-05-20T18:37:10.343633100Z"
    }
   },
   "id": "320c8baa92e2ffc4",
   "execution_count": 102
  },
  {
   "cell_type": "code",
   "outputs": [],
   "source": [
    "#writing the wedding data to a json file in the testing_for_error folder\n",
    "with open('testing_for_error/wedding_data.json', 'w') as f:\n",
    "    f.write(json.dumps(wedding_data, indent=4))"
   ],
   "metadata": {
    "collapsed": false,
    "ExecuteTime": {
     "end_time": "2024-05-20T18:37:10.500313300Z",
     "start_time": "2024-05-20T18:37:10.422868100Z"
    }
   },
   "id": "6e99c4caa6e55687",
   "execution_count": 103
  },
  {
   "cell_type": "code",
   "outputs": [],
   "source": [
    "orcs_khajiits = pd.read_excel('testing_excel.xlsx', sheet_name='orcs_khajiits')"
   ],
   "metadata": {
    "collapsed": false,
    "ExecuteTime": {
     "end_time": "2024-05-20T18:37:10.597594400Z",
     "start_time": "2024-05-20T18:37:10.486310100Z"
    }
   },
   "id": "cc6fccfd564f8cca",
   "execution_count": 104
  },
  {
   "cell_type": "code",
   "outputs": [
    {
     "data": {
      "text/plain": "        Voicetype                                           Dialogue  \\\n0       FemaleOrc  \"What are you doing here, outlander? We don't ...   \n1       FemaleOrc                   \"This is our stronghold. Leave.\"   \n2       FemaleOrc                  \"Outsiders. Nothing but trouble.\"   \n3       FemaleOrc  \"Malacath blesses us with this land. It's not ...   \n4       FemaleOrc     \"This stronghold is for the Orcs. Leave. Now.\"   \n..            ...                                                ...   \n73  FemaleKhajiit  \"Khajiit are not welcome in the cities, so we ...   \n74  FemaleKhajiit  \"Some come to buy, but others come to steal. K...   \n75  FemaleKhajiit       \"Blessings of the moons upon you, traveler.\"   \n76  FemaleKhajiit  \"Khajiit is just a guard, and has no wares to ...   \n77  FemaleKhajiit                \"Welcome to Khajiit's humble camp.\"   \n\n                        Condition  \\\n0   the Player is not a blood-kin   \n1   the Player is not a blood-kin   \n2   the Player is not a blood-kin   \n3   the Player is not a blood-kin   \n4   the Player is not a blood-kin   \n..                            ...   \n73         the Khajiit is a guard   \n74         the Khajiit is a guard   \n75         the Khajiit is a guard   \n76         the Khajiit is a guard   \n77         the Khajiit is a guard   \n\n                                                Event  \n0               the Player entering an Orc Stronghold  \n1               the Player entering an Orc Stronghold  \n2               the Player entering an Orc Stronghold  \n3               the Player entering an Orc Stronghold  \n4               the Player entering an Orc Stronghold  \n..                                                ...  \n73  the Player greeting a Khajiit Guard on the Kha...  \n74  the Player greeting a Khajiit Guard on the Kha...  \n75  the Player greeting a Khajiit Guard on the Kha...  \n76  the Player greeting a Khajiit Guard on the Kha...  \n77  the Player greeting a Khajiit Guard on the Kha...  \n\n[78 rows x 4 columns]",
      "text/html": "<div>\n<style scoped>\n    .dataframe tbody tr th:only-of-type {\n        vertical-align: middle;\n    }\n\n    .dataframe tbody tr th {\n        vertical-align: top;\n    }\n\n    .dataframe thead th {\n        text-align: right;\n    }\n</style>\n<table border=\"1\" class=\"dataframe\">\n  <thead>\n    <tr style=\"text-align: right;\">\n      <th></th>\n      <th>Voicetype</th>\n      <th>Dialogue</th>\n      <th>Condition</th>\n      <th>Event</th>\n    </tr>\n  </thead>\n  <tbody>\n    <tr>\n      <th>0</th>\n      <td>FemaleOrc</td>\n      <td>\"What are you doing here, outlander? We don't ...</td>\n      <td>the Player is not a blood-kin</td>\n      <td>the Player entering an Orc Stronghold</td>\n    </tr>\n    <tr>\n      <th>1</th>\n      <td>FemaleOrc</td>\n      <td>\"This is our stronghold. Leave.\"</td>\n      <td>the Player is not a blood-kin</td>\n      <td>the Player entering an Orc Stronghold</td>\n    </tr>\n    <tr>\n      <th>2</th>\n      <td>FemaleOrc</td>\n      <td>\"Outsiders. Nothing but trouble.\"</td>\n      <td>the Player is not a blood-kin</td>\n      <td>the Player entering an Orc Stronghold</td>\n    </tr>\n    <tr>\n      <th>3</th>\n      <td>FemaleOrc</td>\n      <td>\"Malacath blesses us with this land. It's not ...</td>\n      <td>the Player is not a blood-kin</td>\n      <td>the Player entering an Orc Stronghold</td>\n    </tr>\n    <tr>\n      <th>4</th>\n      <td>FemaleOrc</td>\n      <td>\"This stronghold is for the Orcs. Leave. Now.\"</td>\n      <td>the Player is not a blood-kin</td>\n      <td>the Player entering an Orc Stronghold</td>\n    </tr>\n    <tr>\n      <th>...</th>\n      <td>...</td>\n      <td>...</td>\n      <td>...</td>\n      <td>...</td>\n    </tr>\n    <tr>\n      <th>73</th>\n      <td>FemaleKhajiit</td>\n      <td>\"Khajiit are not welcome in the cities, so we ...</td>\n      <td>the Khajiit is a guard</td>\n      <td>the Player greeting a Khajiit Guard on the Kha...</td>\n    </tr>\n    <tr>\n      <th>74</th>\n      <td>FemaleKhajiit</td>\n      <td>\"Some come to buy, but others come to steal. K...</td>\n      <td>the Khajiit is a guard</td>\n      <td>the Player greeting a Khajiit Guard on the Kha...</td>\n    </tr>\n    <tr>\n      <th>75</th>\n      <td>FemaleKhajiit</td>\n      <td>\"Blessings of the moons upon you, traveler.\"</td>\n      <td>the Khajiit is a guard</td>\n      <td>the Player greeting a Khajiit Guard on the Kha...</td>\n    </tr>\n    <tr>\n      <th>76</th>\n      <td>FemaleKhajiit</td>\n      <td>\"Khajiit is just a guard, and has no wares to ...</td>\n      <td>the Khajiit is a guard</td>\n      <td>the Player greeting a Khajiit Guard on the Kha...</td>\n    </tr>\n    <tr>\n      <th>77</th>\n      <td>FemaleKhajiit</td>\n      <td>\"Welcome to Khajiit's humble camp.\"</td>\n      <td>the Khajiit is a guard</td>\n      <td>the Player greeting a Khajiit Guard on the Kha...</td>\n    </tr>\n  </tbody>\n</table>\n<p>78 rows × 4 columns</p>\n</div>"
     },
     "execution_count": 105,
     "metadata": {},
     "output_type": "execute_result"
    }
   ],
   "source": [
    "orcs_khajiits"
   ],
   "metadata": {
    "collapsed": false,
    "ExecuteTime": {
     "end_time": "2024-05-20T18:37:10.631732200Z",
     "start_time": "2024-05-20T18:37:10.578386800Z"
    }
   },
   "id": "8b13e7ab2892b992",
   "execution_count": 105
  },
  {
   "cell_type": "code",
   "outputs": [
    {
     "data": {
      "text/plain": "Index(['Voicetype', 'Dialogue', 'Condition', 'Event'], dtype='object')"
     },
     "execution_count": 106,
     "metadata": {},
     "output_type": "execute_result"
    }
   ],
   "source": [
    "orcs_khajiits.columns"
   ],
   "metadata": {
    "collapsed": false,
    "ExecuteTime": {
     "end_time": "2024-05-20T18:37:10.717214Z",
     "start_time": "2024-05-20T18:37:10.619600600Z"
    }
   },
   "id": "de8184a848835558",
   "execution_count": 106
  },
  {
   "cell_type": "code",
   "outputs": [],
   "source": [
    "orcs_khajiits_data = [\n",
    "    {\n",
    "    \"Speaker\": orcs_khajiits['Voicetype'][index],\n",
    "    \"Dialogue\": orcs_khajiits['Dialogue'][index],\n",
    "    \"Event\": orcs_khajiits['Event'][index],\n",
    "    \"Condition\": orcs_khajiits['Condition'][index],\n",
    "    } for index, row in orcs_khajiits.iterrows()]\n",
    "\n",
    "data = data + orcs_khajiits_data"
   ],
   "metadata": {
    "collapsed": false,
    "ExecuteTime": {
     "end_time": "2024-05-20T18:37:10.825613100Z",
     "start_time": "2024-05-20T18:37:10.703748500Z"
    }
   },
   "id": "a796a48be24ddcfc",
   "execution_count": 107
  },
  {
   "cell_type": "code",
   "outputs": [],
   "source": [
    "orcs_khajiits_data = convert_all_to_string(orcs_khajiits_data)"
   ],
   "metadata": {
    "collapsed": false,
    "ExecuteTime": {
     "end_time": "2024-05-20T18:37:10.966821900Z",
     "start_time": "2024-05-20T18:37:10.791848400Z"
    }
   },
   "id": "ff2b17ca38460b1f",
   "execution_count": 108
  },
  {
   "cell_type": "code",
   "outputs": [],
   "source": [
    "data_list.append(orcs_khajiits_data)"
   ],
   "metadata": {
    "collapsed": false,
    "ExecuteTime": {
     "end_time": "2024-05-20T18:37:11.029388200Z",
     "start_time": "2024-05-20T18:37:10.953501700Z"
    }
   },
   "id": "c67ac739c61e3430",
   "execution_count": 109
  },
  {
   "cell_type": "code",
   "outputs": [],
   "source": [
    "#write the orcs_khajiits data to a json file in the testing_for_error folder\n",
    "with open('testing_for_error/orcs_khajiits_data.json', 'w') as f:\n",
    "    f.write(json.dumps(orcs_khajiits_data, indent=4))"
   ],
   "metadata": {
    "collapsed": false,
    "ExecuteTime": {
     "end_time": "2024-05-20T18:37:11.117410600Z",
     "start_time": "2024-05-20T18:37:11.016832600Z"
    }
   },
   "id": "ab781e2b261a18dc",
   "execution_count": 110
  },
  {
   "cell_type": "code",
   "outputs": [],
   "source": [
    "#add the sheet housecarl to the json file\n",
    "housecarl = pd.read_excel('testing_excel.xlsx', sheet_name='Housecarl')\n",
    "housecarl = housecarl.replace(u'\\xa0', u' ', regex=True)\n",
    "housecarl = housecarl.replace(u'\\u2019', \"'\", regex=True)\n",
    "housecarl = housecarl.replace(u'\\u00a0', ' ', regex=True)"
   ],
   "metadata": {
    "collapsed": false,
    "ExecuteTime": {
     "end_time": "2024-05-20T18:37:11.244370800Z",
     "start_time": "2024-05-20T18:37:11.102407700Z"
    }
   },
   "id": "84587b95fdda1c8b",
   "execution_count": 111
  },
  {
   "cell_type": "code",
   "outputs": [],
   "source": [
    "housecarl_data = [\n",
    "    {\n",
    "    \"Speaker\": housecarl['Voicetype'][index],\n",
    "    \"Dialogue\": housecarl['Dialogue'][index],\n",
    "    \"Event\": housecarl['Event'][index],\n",
    "    } for index, row in housecarl.iterrows()]\n",
    "\n",
    "data = data + housecarl_data"
   ],
   "metadata": {
    "collapsed": false,
    "ExecuteTime": {
     "end_time": "2024-05-20T18:37:11.252171400Z",
     "start_time": "2024-05-20T18:37:11.165199800Z"
    }
   },
   "id": "4196ea077bbee37a",
   "execution_count": 112
  },
  {
   "cell_type": "code",
   "outputs": [],
   "source": [
    "housecarl_data = convert_all_to_string(housecarl_data)"
   ],
   "metadata": {
    "collapsed": false,
    "ExecuteTime": {
     "end_time": "2024-05-20T18:37:11.304441400Z",
     "start_time": "2024-05-20T18:37:11.248373300Z"
    }
   },
   "id": "b17e53df20627000",
   "execution_count": 113
  },
  {
   "cell_type": "code",
   "outputs": [],
   "source": [
    "data_list.append(housecarl_data)"
   ],
   "metadata": {
    "collapsed": false,
    "ExecuteTime": {
     "end_time": "2024-05-20T18:37:11.395813700Z",
     "start_time": "2024-05-20T18:37:11.301181900Z"
    }
   },
   "id": "ac55e051060e2c92",
   "execution_count": 114
  },
  {
   "cell_type": "code",
   "outputs": [],
   "source": [
    "#write the housecarl data to a json file in the testing_for_error folder\n",
    "with open('testing_for_error/housecarl_data.json', 'w') as f:\n",
    "    f.write(json.dumps(housecarl_data, indent=4))"
   ],
   "metadata": {
    "collapsed": false,
    "ExecuteTime": {
     "end_time": "2024-05-20T18:37:11.455827300Z",
     "start_time": "2024-05-20T18:37:11.392711Z"
    }
   },
   "id": "c7df7ddc77a6d2d0",
   "execution_count": 115
  },
  {
   "cell_type": "code",
   "outputs": [],
   "source": [
    "# add the sheet Carriage to the json file\n",
    "carriage = pd.read_excel('testing_excel.xlsx', sheet_name='Carriage')\n",
    "carriage = carriage.replace(u'\\xa0', u' ', regex=True)\n",
    "carriage = carriage.replace(u'\\u2019', \"'\", regex=True)\n",
    "carriage = carriage.replace(u'\\u00a0', ' ', regex=True)"
   ],
   "metadata": {
    "collapsed": false,
    "ExecuteTime": {
     "end_time": "2024-05-20T18:37:11.544974100Z",
     "start_time": "2024-05-20T18:37:11.440823900Z"
    }
   },
   "id": "712eb026ed8e5386",
   "execution_count": 116
  },
  {
   "cell_type": "code",
   "outputs": [],
   "source": [
    "carriage_data = [\n",
    "    {\n",
    "    \"Speaker\": carriage['Voicetype'][index],\n",
    "    \"Dialogue\": carriage['Dialogue'][index],\n",
    "    \"Event\": carriage['Event'][index],\n",
    "    \"Condition\": carriage['Condition'][index],\n",
    "    } for index, row in carriage.iterrows()]\n",
    "\n",
    "data = data + carriage_data"
   ],
   "metadata": {
    "collapsed": false,
    "ExecuteTime": {
     "end_time": "2024-05-20T18:37:11.586529Z",
     "start_time": "2024-05-20T18:37:11.527755400Z"
    }
   },
   "id": "ea5883615853e2a9",
   "execution_count": 117
  },
  {
   "cell_type": "code",
   "outputs": [],
   "source": [
    "carriage_data = convert_all_to_string(carriage_data)"
   ],
   "metadata": {
    "collapsed": false,
    "ExecuteTime": {
     "end_time": "2024-05-20T18:37:11.670163400Z",
     "start_time": "2024-05-20T18:37:11.573980300Z"
    }
   },
   "id": "dd52cce0ddb3553d",
   "execution_count": 118
  },
  {
   "cell_type": "code",
   "outputs": [],
   "source": [
    "data_list.append(carriage_data)"
   ],
   "metadata": {
    "collapsed": false,
    "ExecuteTime": {
     "end_time": "2024-05-20T18:37:11.711178Z",
     "start_time": "2024-05-20T18:37:11.667050700Z"
    }
   },
   "id": "6fcd980c2ad774c5",
   "execution_count": 119
  },
  {
   "cell_type": "code",
   "outputs": [],
   "source": [
    "#write the carriage data to a json file in the testing_for_error folder\n",
    "with open('testing_for_error/carriage_data.json', 'w') as f:\n",
    "    f.write(json.dumps(carriage_data, indent=4))"
   ],
   "metadata": {
    "collapsed": false,
    "ExecuteTime": {
     "end_time": "2024-05-20T18:37:11.787191200Z",
     "start_time": "2024-05-20T18:37:11.708171300Z"
    }
   },
   "id": "864b60be0ff7019f",
   "execution_count": 120
  },
  {
   "cell_type": "code",
   "outputs": [],
   "source": [
    "guards = pd.read_excel('testing_excel.xlsx', sheet_name='Guards')\n",
    "guards = guards.replace(u'\\xa0', u' ', regex=True)\n",
    "guards = guards.replace(u'\\u2019', \"'\", regex=True)\n",
    "guards = guards.replace(u'\\u00a0', ' ', regex=True)"
   ],
   "metadata": {
    "collapsed": false,
    "ExecuteTime": {
     "end_time": "2024-05-20T18:37:11.906789100Z",
     "start_time": "2024-05-20T18:37:11.768186800Z"
    }
   },
   "id": "8ff2cdd9078dbb3d",
   "execution_count": 121
  },
  {
   "cell_type": "code",
   "outputs": [],
   "source": [
    "guards_data = [\n",
    "    {\n",
    "    \"Speaker\": \"Guard\",\n",
    "    \"Dialogue\": guards['Dialogue'][index],\n",
    "    \"Event\": guards['Event'][index],\n",
    "    \"Condition\": guards['Condition'][index],\n",
    "    } for index, row in guards.iterrows()]\n",
    "\n",
    "data = data + guards_data"
   ],
   "metadata": {
    "collapsed": false,
    "ExecuteTime": {
     "end_time": "2024-05-20T18:37:11.912790Z",
     "start_time": "2024-05-20T18:37:11.884233100Z"
    }
   },
   "id": "33581f403b2f8b69",
   "execution_count": 122
  },
  {
   "cell_type": "code",
   "outputs": [],
   "source": [
    "guards_data = convert_all_to_string(guards_data)"
   ],
   "metadata": {
    "collapsed": false,
    "ExecuteTime": {
     "end_time": "2024-05-20T18:37:11.937937400Z",
     "start_time": "2024-05-20T18:37:11.893247Z"
    }
   },
   "id": "4954e8b186c26e3f",
   "execution_count": 123
  },
  {
   "cell_type": "code",
   "outputs": [],
   "source": [
    "data_list.append(guards_data)"
   ],
   "metadata": {
    "collapsed": false,
    "ExecuteTime": {
     "end_time": "2024-05-20T18:37:12.052817800Z",
     "start_time": "2024-05-20T18:37:11.933794700Z"
    }
   },
   "id": "133c0c9f81e2928b",
   "execution_count": 124
  },
  {
   "cell_type": "code",
   "outputs": [],
   "source": [
    "#write the guards data to a json file in the testing_for_error folder\n",
    "with open('testing_for_error/guards_data.json', 'w') as f:\n",
    "    f.write(json.dumps(guards_data, indent=4))"
   ],
   "metadata": {
    "collapsed": false,
    "ExecuteTime": {
     "end_time": "2024-05-20T18:37:12.088826600Z",
     "start_time": "2024-05-20T18:37:12.040959800Z"
    }
   },
   "id": "b656267d60d19921",
   "execution_count": 125
  },
  {
   "cell_type": "code",
   "outputs": [],
   "source": [
    "guards_race = pd.read_excel('testing_excel.xlsx', sheet_name='Guards_race')\n",
    "guards_race = guards_race.replace(u'\\xa0', u' ', regex=True)\n",
    "guards_race = guards_race.replace(u'\\u2019', \"'\", regex=True)\n",
    "guards_race = guards_race.replace(u'\\u00a0', ' ', regex=True)"
   ],
   "metadata": {
    "collapsed": false,
    "ExecuteTime": {
     "end_time": "2024-05-20T18:37:12.200680700Z",
     "start_time": "2024-05-20T18:37:12.085824900Z"
    }
   },
   "id": "40807c4121ddf29a",
   "execution_count": 126
  },
  {
   "cell_type": "code",
   "outputs": [
    {
     "data": {
      "text/plain": "                              Dialogue                       Race  \\\n0              \"What is it, Argonian?\"                   Argonian   \n1     \"Stay out of trouble, Argonian.\"                   Argonian   \n2       \"Stay out of trouble, lizard.\"                   Argonian   \n3   \"Staying out of trouble, kinsman?\"                       Nord   \n4     \"How can I help a brother Nord?\"                       Nord   \n5         \"Stay out of trouble, Nord.\"                       Nord   \n6               \"Don't cross me, Elf.\"  Altmer, Bosmer, or Dunmer   \n7          \"Stay out of trouble, Elf.\"  Altmer, Bosmer, or Dunmer   \n8                   \"What is it, Elf?\"  Altmer, Bosmer, or Dunmer   \n9      \"Stay out of trouble, Khajiit.\"                    Khajiit   \n10              \"What is it, Khajiit?\"                    Khajiit   \n11          \"What do you want... cat?\"                    Khajiit   \n12    \"Stay out of trouble, Redguard.\"                   Redguard   \n13             \"What is it, Redguard?\"                   Redguard   \n14    \"Stay out of trouble, Imperial.\"                   Imperial   \n15             \"What is it, Imperial?\"                   Imperial   \n16         \"Stay out of trouble, Orc.\"                        Orc   \n17                  \"What is it, Orc?\"                        Orc   \n\n                             Condition                             Event  \n0                                  NaN  a Guard reacting to players race  \n1                                  NaN  a Guard reacting to players race  \n2            the Guard is a Stormcloak  a Guard reacting to players race  \n3                    the Guard is Nord  a Guard reacting to players race  \n4                    the Guard is Nord  a Guard reacting to players race  \n5                the Guard is not Nord  a Guard reacting to players race  \n6   the Guard is Nord and a Stormcloak  a Guard reacting to players race  \n7        the Guard is not a Stormcloak  a Guard reacting to players race  \n8        the Guard is not a Stormcloak  a Guard reacting to players race  \n9                                  NaN  a Guard reacting to players race  \n10                                 NaN  a Guard reacting to players race  \n11           the Guard is a Stormcloak  a Guard reacting to players race  \n12                                 NaN  a Guard reacting to players race  \n13                                 NaN  a Guard reacting to players race  \n14    the Guard is not Imperial (race)  a Guard reacting to players race  \n15    the Guard is not Imperial (race)  a Guard reacting to players race  \n16                                 NaN  a Guard reacting to players race  \n17                                 NaN  a Guard reacting to players race  ",
      "text/html": "<div>\n<style scoped>\n    .dataframe tbody tr th:only-of-type {\n        vertical-align: middle;\n    }\n\n    .dataframe tbody tr th {\n        vertical-align: top;\n    }\n\n    .dataframe thead th {\n        text-align: right;\n    }\n</style>\n<table border=\"1\" class=\"dataframe\">\n  <thead>\n    <tr style=\"text-align: right;\">\n      <th></th>\n      <th>Dialogue</th>\n      <th>Race</th>\n      <th>Condition</th>\n      <th>Event</th>\n    </tr>\n  </thead>\n  <tbody>\n    <tr>\n      <th>0</th>\n      <td>\"What is it, Argonian?\"</td>\n      <td>Argonian</td>\n      <td>NaN</td>\n      <td>a Guard reacting to players race</td>\n    </tr>\n    <tr>\n      <th>1</th>\n      <td>\"Stay out of trouble, Argonian.\"</td>\n      <td>Argonian</td>\n      <td>NaN</td>\n      <td>a Guard reacting to players race</td>\n    </tr>\n    <tr>\n      <th>2</th>\n      <td>\"Stay out of trouble, lizard.\"</td>\n      <td>Argonian</td>\n      <td>the Guard is a Stormcloak</td>\n      <td>a Guard reacting to players race</td>\n    </tr>\n    <tr>\n      <th>3</th>\n      <td>\"Staying out of trouble, kinsman?\"</td>\n      <td>Nord</td>\n      <td>the Guard is Nord</td>\n      <td>a Guard reacting to players race</td>\n    </tr>\n    <tr>\n      <th>4</th>\n      <td>\"How can I help a brother Nord?\"</td>\n      <td>Nord</td>\n      <td>the Guard is Nord</td>\n      <td>a Guard reacting to players race</td>\n    </tr>\n    <tr>\n      <th>5</th>\n      <td>\"Stay out of trouble, Nord.\"</td>\n      <td>Nord</td>\n      <td>the Guard is not Nord</td>\n      <td>a Guard reacting to players race</td>\n    </tr>\n    <tr>\n      <th>6</th>\n      <td>\"Don't cross me, Elf.\"</td>\n      <td>Altmer, Bosmer, or Dunmer</td>\n      <td>the Guard is Nord and a Stormcloak</td>\n      <td>a Guard reacting to players race</td>\n    </tr>\n    <tr>\n      <th>7</th>\n      <td>\"Stay out of trouble, Elf.\"</td>\n      <td>Altmer, Bosmer, or Dunmer</td>\n      <td>the Guard is not a Stormcloak</td>\n      <td>a Guard reacting to players race</td>\n    </tr>\n    <tr>\n      <th>8</th>\n      <td>\"What is it, Elf?\"</td>\n      <td>Altmer, Bosmer, or Dunmer</td>\n      <td>the Guard is not a Stormcloak</td>\n      <td>a Guard reacting to players race</td>\n    </tr>\n    <tr>\n      <th>9</th>\n      <td>\"Stay out of trouble, Khajiit.\"</td>\n      <td>Khajiit</td>\n      <td>NaN</td>\n      <td>a Guard reacting to players race</td>\n    </tr>\n    <tr>\n      <th>10</th>\n      <td>\"What is it, Khajiit?\"</td>\n      <td>Khajiit</td>\n      <td>NaN</td>\n      <td>a Guard reacting to players race</td>\n    </tr>\n    <tr>\n      <th>11</th>\n      <td>\"What do you want... cat?\"</td>\n      <td>Khajiit</td>\n      <td>the Guard is a Stormcloak</td>\n      <td>a Guard reacting to players race</td>\n    </tr>\n    <tr>\n      <th>12</th>\n      <td>\"Stay out of trouble, Redguard.\"</td>\n      <td>Redguard</td>\n      <td>NaN</td>\n      <td>a Guard reacting to players race</td>\n    </tr>\n    <tr>\n      <th>13</th>\n      <td>\"What is it, Redguard?\"</td>\n      <td>Redguard</td>\n      <td>NaN</td>\n      <td>a Guard reacting to players race</td>\n    </tr>\n    <tr>\n      <th>14</th>\n      <td>\"Stay out of trouble, Imperial.\"</td>\n      <td>Imperial</td>\n      <td>the Guard is not Imperial (race)</td>\n      <td>a Guard reacting to players race</td>\n    </tr>\n    <tr>\n      <th>15</th>\n      <td>\"What is it, Imperial?\"</td>\n      <td>Imperial</td>\n      <td>the Guard is not Imperial (race)</td>\n      <td>a Guard reacting to players race</td>\n    </tr>\n    <tr>\n      <th>16</th>\n      <td>\"Stay out of trouble, Orc.\"</td>\n      <td>Orc</td>\n      <td>NaN</td>\n      <td>a Guard reacting to players race</td>\n    </tr>\n    <tr>\n      <th>17</th>\n      <td>\"What is it, Orc?\"</td>\n      <td>Orc</td>\n      <td>NaN</td>\n      <td>a Guard reacting to players race</td>\n    </tr>\n  </tbody>\n</table>\n</div>"
     },
     "execution_count": 127,
     "metadata": {},
     "output_type": "execute_result"
    }
   ],
   "source": [
    "guards_race"
   ],
   "metadata": {
    "collapsed": false,
    "ExecuteTime": {
     "end_time": "2024-05-20T18:37:12.238019600Z",
     "start_time": "2024-05-20T18:37:12.162841700Z"
    }
   },
   "id": "d5f266513f03d01b",
   "execution_count": 127
  },
  {
   "cell_type": "code",
   "outputs": [],
   "source": [
    "guards_race_data = [\n",
    "    {\n",
    "        \"Speaker\": \"Guard\",\n",
    "        \"Dialogue\": row['Dialogue'],\n",
    "        \"Event\": row['Event'],\n",
    "        \"Condition\": row['Condition'],\n",
    "        \"Race\": row['Race'],\n",
    "    } for index, row in guards_race.iterrows()  # Ensure this matches the DataFrame you're indexing\n",
    "]\n",
    "data = data + guards_race_data"
   ],
   "metadata": {
    "collapsed": false,
    "ExecuteTime": {
     "end_time": "2024-05-20T18:37:12.337065100Z",
     "start_time": "2024-05-20T18:37:12.234688Z"
    }
   },
   "id": "630f67334c0fa82b",
   "execution_count": 128
  },
  {
   "cell_type": "code",
   "outputs": [],
   "source": [
    "guards_race_data = convert_all_to_string(guards_race_data)"
   ],
   "metadata": {
    "collapsed": false,
    "ExecuteTime": {
     "end_time": "2024-05-20T18:37:12.418529100Z",
     "start_time": "2024-05-20T18:37:12.321037800Z"
    }
   },
   "id": "a4d400e851247c2c",
   "execution_count": 129
  },
  {
   "cell_type": "code",
   "outputs": [],
   "source": [
    "data_list.append(guards_race_data)"
   ],
   "metadata": {
    "collapsed": false,
    "ExecuteTime": {
     "end_time": "2024-05-20T18:37:12.551149800Z",
     "start_time": "2024-05-20T18:37:12.402018500Z"
    }
   },
   "id": "182ac80c4e9a4594",
   "execution_count": 130
  },
  {
   "cell_type": "code",
   "outputs": [],
   "source": [
    "#write the guards_race_data to a json file in the testing_for_error folder\n",
    "with open('testing_for_error/guards_race_data.json', 'w') as f:\n",
    "    f.write(json.dumps(guards_race_data, indent=4))"
   ],
   "metadata": {
    "collapsed": false,
    "ExecuteTime": {
     "end_time": "2024-05-20T18:37:12.599160800Z",
     "start_time": "2024-05-20T18:37:12.535554300Z"
    }
   },
   "id": "9c63d4983cc410df",
   "execution_count": 131
  },
  {
   "cell_type": "code",
   "outputs": [],
   "source": [
    "#add the sheet Guard_Equipment to the json file\n",
    "guard_equipment = pd.read_excel('testing_excel.xlsx', sheet_name='Guard_Equipment')\n",
    "guard_equipment = guard_equipment.replace(u'\\xa0', u' ', regex=True)\n",
    "guard_equipment = guard_equipment.replace(u'\\u2019', \"'\", regex=True)\n",
    "guard_equipment = guard_equipment.replace(u'\\u00a0', ' ', regex=True)"
   ],
   "metadata": {
    "collapsed": false,
    "ExecuteTime": {
     "end_time": "2024-05-20T18:37:12.705420200Z",
     "start_time": "2024-05-20T18:37:12.583156700Z"
    }
   },
   "id": "e23826ea7fdf1f7d",
   "execution_count": 132
  },
  {
   "cell_type": "code",
   "outputs": [],
   "source": [
    "guard_equipment_data = [\n",
    "    {\n",
    "    \"Speaker\": \"Guard\",\n",
    "    \"Dialogue\": guard_equipment['Dialogue'][index],\n",
    "    \"Event\": guard_equipment['Event'][index],\n",
    "    \"Condition\": guard_equipment['Condition'][index],\n",
    "    \"Equipment\": guard_equipment['Equipment'][index],\n",
    "    } for index, row in guard_equipment.iterrows()]\n",
    "\n",
    "data = data + guard_equipment_data"
   ],
   "metadata": {
    "collapsed": false,
    "ExecuteTime": {
     "end_time": "2024-05-20T18:37:12.747874600Z",
     "start_time": "2024-05-20T18:37:12.689180900Z"
    }
   },
   "id": "1bc5d826ae71a3c3",
   "execution_count": 133
  },
  {
   "cell_type": "code",
   "outputs": [],
   "source": [
    "guard_equipment_data = convert_all_to_string(guard_equipment_data)"
   ],
   "metadata": {
    "collapsed": false,
    "ExecuteTime": {
     "end_time": "2024-05-20T18:37:12.826017500Z",
     "start_time": "2024-05-20T18:37:12.721423100Z"
    }
   },
   "id": "bf6c4e3a01217fb1",
   "execution_count": 134
  },
  {
   "cell_type": "code",
   "outputs": [],
   "source": [
    "data_list.append(guard_equipment_data)"
   ],
   "metadata": {
    "collapsed": false,
    "ExecuteTime": {
     "end_time": "2024-05-20T18:37:12.900047200Z",
     "start_time": "2024-05-20T18:37:12.822891400Z"
    }
   },
   "id": "ed82cd3f82e4ec1f",
   "execution_count": 135
  },
  {
   "cell_type": "code",
   "outputs": [],
   "source": [
    "#write the guard_equipment data to a json file in the testing_for_error folder\n",
    "with open('testing_for_error/guard_equipment_data.json', 'w') as f:\n",
    "    f.write(json.dumps(guard_equipment_data, indent=4))"
   ],
   "metadata": {
    "collapsed": false,
    "ExecuteTime": {
     "end_time": "2024-05-20T18:37:13.019073900Z",
     "start_time": "2024-05-20T18:37:12.887031900Z"
    }
   },
   "id": "bb5106cfe8401a55",
   "execution_count": 136
  },
  {
   "cell_type": "code",
   "outputs": [],
   "source": [
    "#add the sheet Guard_skill to the json file\n",
    "guard_skill = pd.read_excel('testing_excel.xlsx', sheet_name='Guard_skill')\n",
    "guard_skill = guard_skill.replace(u'\\xa0', u' ', regex=True)\n",
    "guard_skill = guard_skill.replace(u'\\u2019', \"'\", regex=True)\n",
    "guard_skill = guard_skill.replace(u'\\u00a0', ' ', regex=True)"
   ],
   "metadata": {
    "collapsed": false,
    "ExecuteTime": {
     "end_time": "2024-05-20T18:37:13.134621700Z",
     "start_time": "2024-05-20T18:37:13.005071Z"
    }
   },
   "id": "e47b6b335810a377",
   "execution_count": 137
  },
  {
   "cell_type": "code",
   "outputs": [],
   "source": [
    "guard_skill_data = [\n",
    "    {\n",
    "    \"Speaker\": \"Guard\",\n",
    "    \"Dialogue\": guard_skill['Dialogue'][index],\n",
    "    \"Event\": guard_skill['Event'][index],\n",
    "    } for index, row in guard_skill.iterrows()]\n",
    "\n",
    "data = data + guard_skill_data"
   ],
   "metadata": {
    "collapsed": false,
    "ExecuteTime": {
     "end_time": "2024-05-20T18:37:13.181163600Z",
     "start_time": "2024-05-20T18:37:13.082942400Z"
    }
   },
   "id": "63afe1101e25b5ee",
   "execution_count": 138
  },
  {
   "cell_type": "code",
   "outputs": [],
   "source": [
    "guard_skill_data = convert_all_to_string(guard_skill_data)"
   ],
   "metadata": {
    "collapsed": false,
    "ExecuteTime": {
     "end_time": "2024-05-20T18:37:13.226483500Z",
     "start_time": "2024-05-20T18:37:13.150624600Z"
    }
   },
   "id": "45e21d118b04e4c8",
   "execution_count": 139
  },
  {
   "cell_type": "code",
   "outputs": [],
   "source": [
    "data_list.append(guard_skill_data)"
   ],
   "metadata": {
    "collapsed": false,
    "ExecuteTime": {
     "end_time": "2024-05-20T18:37:13.314305400Z",
     "start_time": "2024-05-20T18:37:13.223977300Z"
    }
   },
   "id": "8fc1a12df9cfde58",
   "execution_count": 140
  },
  {
   "cell_type": "code",
   "outputs": [],
   "source": [
    "#write the guard_skill data to a json file in the testing_for_error folder\n",
    "with open('testing_for_error/guard_skill_data.json', 'w') as f:\n",
    "    f.write(json.dumps(guard_skill_data, indent=4))"
   ],
   "metadata": {
    "collapsed": false,
    "ExecuteTime": {
     "end_time": "2024-05-20T18:37:13.361314500Z",
     "start_time": "2024-05-20T18:37:13.311502600Z"
    }
   },
   "id": "4958fc716b983221",
   "execution_count": 141
  },
  {
   "cell_type": "code",
   "outputs": [],
   "source": [
    "# add the Stromcloak-imperial sheet to the json file\n",
    "stromcloak_imperial = pd.read_excel('testing_excel.xlsx', sheet_name='Stromcloak-imperial')\n",
    "stromcloak_imperial = stromcloak_imperial.replace(u'\\xa0', u' ', regex=True)\n",
    "stromcloak_imperial = stromcloak_imperial.replace(u'\\u2019', \"'\", regex=True)\n",
    "stromcloak_imperial = stromcloak_imperial.replace(u'\\u00a0', ' ', regex=True)"
   ],
   "metadata": {
    "collapsed": false,
    "ExecuteTime": {
     "end_time": "2024-05-20T18:37:13.463005100Z",
     "start_time": "2024-05-20T18:37:13.351312600Z"
    }
   },
   "id": "96a7528d96d15075",
   "execution_count": 142
  },
  {
   "cell_type": "code",
   "outputs": [],
   "source": [
    "stromcloak_imperial_data = [\n",
    "    {\n",
    "    \"Speaker\": stromcloak_imperial['Guard'][index],\n",
    "    \"Dialogue\": stromcloak_imperial['Dialogue'][index],\n",
    "    \"Event\": stromcloak_imperial['Event'][index],\n",
    "    \"Condition\": stromcloak_imperial['Condition'][index],\n",
    "    } for index, row in stromcloak_imperial.iterrows()]\n",
    "\n",
    "data = data + stromcloak_imperial_data"
   ],
   "metadata": {
    "collapsed": false,
    "ExecuteTime": {
     "end_time": "2024-05-20T18:37:13.505390800Z",
     "start_time": "2024-05-20T18:37:13.443000200Z"
    }
   },
   "id": "b10d0413d5706d33",
   "execution_count": 143
  },
  {
   "cell_type": "code",
   "outputs": [],
   "source": [
    "stromcloak_imperial_data = convert_all_to_string(stromcloak_imperial_data)"
   ],
   "metadata": {
    "collapsed": false,
    "ExecuteTime": {
     "end_time": "2024-05-20T18:37:13.589343600Z",
     "start_time": "2024-05-20T18:37:13.486010700Z"
    }
   },
   "id": "331f1d7cb892938e",
   "execution_count": 144
  },
  {
   "cell_type": "code",
   "outputs": [],
   "source": [
    "data_list.append(stromcloak_imperial_data)"
   ],
   "metadata": {
    "collapsed": false,
    "ExecuteTime": {
     "end_time": "2024-05-20T18:37:13.658382300Z",
     "start_time": "2024-05-20T18:37:13.585408700Z"
    }
   },
   "id": "1b73f2910646dc5c",
   "execution_count": 145
  },
  {
   "cell_type": "code",
   "outputs": [],
   "source": [
    "#write the stromcloak_imperial data to a json file in the testing_for_error folder\n",
    "with open('testing_for_error/stromcloak_imperial_data.json', 'w') as f:\n",
    "    f.write(json.dumps(stromcloak_imperial_data, indent=4))"
   ],
   "metadata": {
    "collapsed": false,
    "ExecuteTime": {
     "end_time": "2024-05-20T18:37:13.732398400Z",
     "start_time": "2024-05-20T18:37:13.643355100Z"
    }
   },
   "id": "109637b9b6220050",
   "execution_count": 146
  },
  {
   "cell_type": "code",
   "outputs": [],
   "source": [
    "#add the Guard_interactions sheet to the json file\n",
    "guard_interactions = pd.read_excel('testing_excel.xlsx', sheet_name='Guard_interactions')\n",
    "guard_interactions = guard_interactions.replace(u'\\xa0', u' ', regex=True)\n",
    "guard_interactions = guard_interactions.replace(u'\\u2019', \"'\", regex=True)\n",
    "guard_interactions = guard_interactions.replace(u'\\u00a0', ' ', regex=True)"
   ],
   "metadata": {
    "collapsed": false,
    "ExecuteTime": {
     "end_time": "2024-05-20T18:37:13.851912900Z",
     "start_time": "2024-05-20T18:37:13.729397900Z"
    }
   },
   "id": "537706d2fc8cfc02",
   "execution_count": 147
  },
  {
   "cell_type": "code",
   "outputs": [
    {
     "data": {
      "text/plain": "                                              Dialogue  Location  \\\n0    \"<Town>'s under my protection. You watch yours...  Any Town   \n1    \"You've come to Dawnstar at a strange time, fr...  Dawnstar   \n2    \"The people here are still plagued with nightm...  Dawnstar   \n3    \"Dangerous post, Dawnstar. If the bandits don'...  Dawnstar   \n4    \"Old lady Frida is a grouch, but she sure can ...  Dawnstar   \n..                                                 ...       ...   \n99   \"South of here, and west of the road, lies Cro...  Windhelm   \n100  \"I've no problem with your kind, Orc. But that...  Windhelm   \n101  \"I've no problem with Orcs. But that stronghol...  Windhelm   \n102  \"Across the river to the northeast lies Yngol ...  Windhelm   \n103  \"The Eye of Talos was a fine ship, once. Now i...  Windhelm   \n\n                Condition                                              Event  \n0                     NaN  Player interacts with the guard in a specific ...  \n1                     NaN  Player interacts with the guard in a specific ...  \n2                     NaN  Player interacts with the guard in a specific ...  \n3                     NaN  Player interacts with the guard in a specific ...  \n4                     NaN  Player interacts with the guard in a specific ...  \n..                    ...                                                ...  \n99                    NaN  Player interacts with the guard in a specific ...  \n100  the Player is an Orc  Player interacts with the guard in a specific ...  \n101                   NaN  Player interacts with the guard in a specific ...  \n102                   NaN  Player interacts with the guard in a specific ...  \n103                   NaN  Player interacts with the guard in a specific ...  \n\n[104 rows x 4 columns]",
      "text/html": "<div>\n<style scoped>\n    .dataframe tbody tr th:only-of-type {\n        vertical-align: middle;\n    }\n\n    .dataframe tbody tr th {\n        vertical-align: top;\n    }\n\n    .dataframe thead th {\n        text-align: right;\n    }\n</style>\n<table border=\"1\" class=\"dataframe\">\n  <thead>\n    <tr style=\"text-align: right;\">\n      <th></th>\n      <th>Dialogue</th>\n      <th>Location</th>\n      <th>Condition</th>\n      <th>Event</th>\n    </tr>\n  </thead>\n  <tbody>\n    <tr>\n      <th>0</th>\n      <td>\"&lt;Town&gt;'s under my protection. You watch yours...</td>\n      <td>Any Town</td>\n      <td>NaN</td>\n      <td>Player interacts with the guard in a specific ...</td>\n    </tr>\n    <tr>\n      <th>1</th>\n      <td>\"You've come to Dawnstar at a strange time, fr...</td>\n      <td>Dawnstar</td>\n      <td>NaN</td>\n      <td>Player interacts with the guard in a specific ...</td>\n    </tr>\n    <tr>\n      <th>2</th>\n      <td>\"The people here are still plagued with nightm...</td>\n      <td>Dawnstar</td>\n      <td>NaN</td>\n      <td>Player interacts with the guard in a specific ...</td>\n    </tr>\n    <tr>\n      <th>3</th>\n      <td>\"Dangerous post, Dawnstar. If the bandits don'...</td>\n      <td>Dawnstar</td>\n      <td>NaN</td>\n      <td>Player interacts with the guard in a specific ...</td>\n    </tr>\n    <tr>\n      <th>4</th>\n      <td>\"Old lady Frida is a grouch, but she sure can ...</td>\n      <td>Dawnstar</td>\n      <td>NaN</td>\n      <td>Player interacts with the guard in a specific ...</td>\n    </tr>\n    <tr>\n      <th>...</th>\n      <td>...</td>\n      <td>...</td>\n      <td>...</td>\n      <td>...</td>\n    </tr>\n    <tr>\n      <th>99</th>\n      <td>\"South of here, and west of the road, lies Cro...</td>\n      <td>Windhelm</td>\n      <td>NaN</td>\n      <td>Player interacts with the guard in a specific ...</td>\n    </tr>\n    <tr>\n      <th>100</th>\n      <td>\"I've no problem with your kind, Orc. But that...</td>\n      <td>Windhelm</td>\n      <td>the Player is an Orc</td>\n      <td>Player interacts with the guard in a specific ...</td>\n    </tr>\n    <tr>\n      <th>101</th>\n      <td>\"I've no problem with Orcs. But that stronghol...</td>\n      <td>Windhelm</td>\n      <td>NaN</td>\n      <td>Player interacts with the guard in a specific ...</td>\n    </tr>\n    <tr>\n      <th>102</th>\n      <td>\"Across the river to the northeast lies Yngol ...</td>\n      <td>Windhelm</td>\n      <td>NaN</td>\n      <td>Player interacts with the guard in a specific ...</td>\n    </tr>\n    <tr>\n      <th>103</th>\n      <td>\"The Eye of Talos was a fine ship, once. Now i...</td>\n      <td>Windhelm</td>\n      <td>NaN</td>\n      <td>Player interacts with the guard in a specific ...</td>\n    </tr>\n  </tbody>\n</table>\n<p>104 rows × 4 columns</p>\n</div>"
     },
     "execution_count": 148,
     "metadata": {},
     "output_type": "execute_result"
    }
   ],
   "source": [
    "#keep the rows until row 103\n",
    "guard_interactions = guard_interactions[:104]\n",
    "guard_interactions"
   ],
   "metadata": {
    "collapsed": false,
    "ExecuteTime": {
     "end_time": "2024-05-20T18:37:13.867056100Z",
     "start_time": "2024-05-20T18:37:13.793416200Z"
    }
   },
   "id": "d79922ffe9a8b08e",
   "execution_count": 148
  },
  {
   "cell_type": "code",
   "outputs": [],
   "source": [
    "guard_interactions_data = [\n",
    "    {\n",
    "    \"Speaker\": \"Guard\",\n",
    "    \"Dialogue\": guard_interactions['Dialogue'][index],\n",
    "    \"Event\": guard_interactions['Event'][index],\n",
    "    \"Condition\": guard_interactions['Condition'][index],\n",
    "    \"Location\": guard_interactions['Location'][index],\n",
    "    } for index, row in guard_interactions.iterrows()]\n",
    "\n",
    "data = data + guard_interactions_data"
   ],
   "metadata": {
    "collapsed": false,
    "ExecuteTime": {
     "end_time": "2024-05-20T18:37:13.898589200Z",
     "start_time": "2024-05-20T18:37:13.854913200Z"
    }
   },
   "id": "680d3ccb17929cb6",
   "execution_count": 149
  },
  {
   "cell_type": "code",
   "outputs": [],
   "source": [
    "guard_interactions_data = convert_all_to_string(guard_interactions_data)"
   ],
   "metadata": {
    "collapsed": false,
    "ExecuteTime": {
     "end_time": "2024-05-20T18:37:14.003612Z",
     "start_time": "2024-05-20T18:37:13.895061300Z"
    }
   },
   "id": "75e287c15cd3c36f",
   "execution_count": 150
  },
  {
   "cell_type": "code",
   "outputs": [],
   "source": [
    "data_list.append(guard_interactions_data)"
   ],
   "metadata": {
    "collapsed": false,
    "ExecuteTime": {
     "end_time": "2024-05-20T18:37:14.108016400Z",
     "start_time": "2024-05-20T18:37:13.989609500Z"
    }
   },
   "id": "beda1a345ded7c3f",
   "execution_count": 151
  },
  {
   "cell_type": "code",
   "outputs": [],
   "source": [
    "#write the guard_interactions data to a json file in the testing_for_error folder\n",
    "with open('testing_for_error/guard_interactions_data.json', 'w') as f:\n",
    "    f.write(json.dumps(guard_interactions_data, indent=4))"
   ],
   "metadata": {
    "collapsed": false,
    "ExecuteTime": {
     "end_time": "2024-05-20T18:37:14.243582100Z",
     "start_time": "2024-05-20T18:37:14.093632300Z"
    }
   },
   "id": "db178504e0f3ab07",
   "execution_count": 152
  },
  {
   "cell_type": "code",
   "outputs": [],
   "source": [
    "def convert_all_to_string(data):\n",
    "    \"\"\"\n",
    "    Recursively convert all data in a dictionary or list to string.\n",
    "    \"\"\"\n",
    "    if isinstance(data, dict):\n",
    "        return {key: convert_all_to_string(value) for key, value in data.items()}\n",
    "    elif isinstance(data, list):\n",
    "        return [convert_all_to_string(item) for item in data]\n",
    "    else:\n",
    "        return str(data)\n",
    "\n",
    "# Convert all data to string\n",
    "string_data = convert_all_to_string(data)"
   ],
   "metadata": {
    "collapsed": false,
    "ExecuteTime": {
     "end_time": "2024-05-20T18:37:14.301099700Z",
     "start_time": "2024-05-20T18:37:14.232044600Z"
    }
   },
   "id": "b7a8e0b17a4c3e93",
   "execution_count": 153
  },
  {
   "cell_type": "code",
   "outputs": [],
   "source": [
    "# Write the shuffled data to a json file\n",
    "with open('results/data.json', 'w') as f:\n",
    "    f.write(json.dumps(string_data, indent=4))"
   ],
   "metadata": {
    "collapsed": false,
    "ExecuteTime": {
     "end_time": "2024-05-20T18:37:14.383970500Z",
     "start_time": "2024-05-20T18:37:14.290097600Z"
    }
   },
   "id": "1f5f34163a6296c9",
   "execution_count": 154
  },
  {
   "cell_type": "code",
   "outputs": [],
   "source": [
    "# randomize the components of the json file\n",
    "random.shuffle(string_data)\n",
    "\n",
    "# Write the shuffled data to a json file\n",
    "with open('results/shuffled_data.json', 'w') as f:\n",
    "    f.write(json.dumps(string_data, indent=4))"
   ],
   "metadata": {
    "collapsed": false,
    "ExecuteTime": {
     "end_time": "2024-05-20T18:37:14.424979600Z",
     "start_time": "2024-05-20T18:37:14.367063800Z"
    }
   },
   "id": "5c5c68a6fa257151",
   "execution_count": 155
  },
  {
   "cell_type": "code",
   "outputs": [
    {
     "name": "stdout",
     "output_type": "stream",
     "text": [
      "Train Data Length: 1417\n",
      "Validation Data Length: 177\n",
      "Test Data Length: 181\n"
     ]
    }
   ],
   "source": [
    "# Custom function to split data based on the number of elements for each event\n",
    "def custom_train_val_test_split(data, event_key):\n",
    "    event_dict = defaultdict(list)\n",
    "    for item in data:\n",
    "        event_dict[item[event_key]].append(item)\n",
    "    \n",
    "    train_data = []\n",
    "    validation_data = []\n",
    "    test_data = []\n",
    "    \n",
    "    for event, items in event_dict.items():\n",
    "        \n",
    "        if len(items) == 1:\n",
    "            train_data.extend(items)\n",
    "        elif len(items) == 2:\n",
    "            train_data.append(items[0])\n",
    "            validation_data.append(items[1])\n",
    "        else:\n",
    "            # Calculate sizes for train, val, and test\n",
    "            n_train = max(1, int(len(items) * 0.844))\n",
    "            n_val_test = len(items) - n_train\n",
    "            n_val = max(1, n_val_test // 2)\n",
    "            n_test = n_val_test - n_val\n",
    "            \n",
    "            # Handle edge cases to ensure valid test_size\n",
    "            if n_val_test == 0:\n",
    "                train_split, val_test_split = items, []\n",
    "            else:\n",
    "                train_split, val_test_split = train_test_split(items, test_size=n_val_test, stratify=[item[event_key] for item in items],random_state=42)\n",
    "            \n",
    "            if len(val_test_split) == 1:\n",
    "                validation_split, test_split = val_test_split, []\n",
    "            else:\n",
    "                if n_test == 0:\n",
    "                    validation_split, test_split = val_test_split, []\n",
    "                else:\n",
    "                    validation_split, test_split = train_test_split(val_test_split, test_size=n_test, stratify=[item[event_key] for item in val_test_split], random_state=42)\n",
    "            \n",
    "            # Ensure each set has at least one item\n",
    "            if not validation_split:\n",
    "                validation_split.append(train_split.pop())\n",
    "            if not test_split:\n",
    "                test_split.append(train_split.pop())\n",
    "            \n",
    "            train_data.extend(train_split)\n",
    "            validation_data.extend(validation_split)\n",
    "            test_data.extend(test_split)\n",
    "    \n",
    "    return train_data, validation_data, test_data\n",
    "\n",
    "# Split the data\n",
    "train_data_strat, validation_data_strat, test_data_strat = custom_train_val_test_split(string_data, 'Event')\n",
    "\n",
    "# Print lengths\n",
    "print(f'Train Data Length: {len(train_data_strat)}')\n",
    "print(f'Validation Data Length: {len(validation_data_strat)}')\n",
    "print(f'Test Data Length: {len(test_data_strat)}')"
   ],
   "metadata": {
    "collapsed": false,
    "ExecuteTime": {
     "end_time": "2024-05-20T18:37:14.538315900Z",
     "start_time": "2024-05-20T18:37:14.420978800Z"
    }
   },
   "id": "c680bb0253d96fc0",
   "execution_count": 156
  },
  {
   "cell_type": "code",
   "outputs": [
    {
     "name": "stdout",
     "output_type": "stream",
     "text": [
      "1775\n"
     ]
    }
   ],
   "source": [
    "#Calculate the total length of the train, validation and test data\n",
    "print(len(train_data_strat)+len(validation_data_strat)+len(test_data_strat))"
   ],
   "metadata": {
    "collapsed": false,
    "ExecuteTime": {
     "end_time": "2024-05-20T18:37:14.574323400Z",
     "start_time": "2024-05-20T18:37:14.515412400Z"
    }
   },
   "id": "eaa554b5d69fa427",
   "execution_count": 157
  },
  {
   "cell_type": "code",
   "outputs": [
    {
     "name": "stdout",
     "output_type": "stream",
     "text": [
      "Total missing events: 0\n"
     ]
    }
   ],
   "source": [
    "# from the string data create a list with all the unique events but exclude the events with 1 or 2 elements\n",
    "unique_events = [event for event in set([item['Event'] for item in string_data]) if sum([item['Event'] == event for item in string_data]) > 2]\n",
    "\n",
    "# Check if each event is present in the train, validation, and test data and print the count of the total number of events missing\n",
    "missing_events = 0\n",
    "for event in unique_events:\n",
    "    if event not in [item['Event'] for item in train_data_strat]:\n",
    "        missing_events += 1\n",
    "        print(f'Event \"{event}\" not in train data')\n",
    "    if event not in [item['Event'] for item in validation_data_strat]:\n",
    "        missing_events += 1\n",
    "        print(f'Event \"{event}\" not in validation data')\n",
    "    if event not in [item['Event'] for item in test_data_strat]:\n",
    "        missing_events += 1\n",
    "        print(f'Event \"{event}\" not in test data')\n",
    "        \n",
    "print(f'Total missing events: {missing_events}')"
   ],
   "metadata": {
    "collapsed": false,
    "ExecuteTime": {
     "end_time": "2024-05-20T18:37:14.722034800Z",
     "start_time": "2024-05-20T18:37:14.564320900Z"
    }
   },
   "id": "31da8ccc3f943b90",
   "execution_count": 158
  },
  {
   "cell_type": "code",
   "outputs": [],
   "source": [
    "# Write the stratified and split data to json files in the results folder\n",
    "with open('results/stratified_train.json', 'w') as f:\n",
    "    f.write(json.dumps(train_data_strat, indent=4))\n",
    "    \n",
    "with open('results/stratified_val.json', 'w') as f:\n",
    "    f.write(json.dumps(validation_data_strat, indent=4))\n",
    "\n",
    "with open('results/stratified_test.json', 'w') as f:\n",
    "    f.write(json.dumps(test_data_strat, indent=4))"
   ],
   "metadata": {
    "collapsed": false,
    "ExecuteTime": {
     "end_time": "2024-05-20T18:37:14.768045200Z",
     "start_time": "2024-05-20T18:37:14.684287400Z"
    }
   },
   "id": "6061ff1093c9e7f0",
   "execution_count": 159
  },
  {
   "cell_type": "code",
   "outputs": [],
   "source": [
    "#add the Introduction sheet to the json file\n",
    "introduction = pd.read_excel('testing_excel.xlsx', sheet_name='Introduction')"
   ],
   "metadata": {
    "collapsed": false,
    "ExecuteTime": {
     "end_time": "2024-05-20T18:37:14.875079900Z",
     "start_time": "2024-05-20T18:37:14.758042800Z"
    }
   },
   "id": "99e451a0d6beb009",
   "execution_count": 160
  },
  {
   "cell_type": "code",
   "outputs": [],
   "source": [
    "#remove the \\n character from the dataframe\n",
    "introduction = introduction.replace(u'\\n', ' ', regex=True)\n",
    "#remove the \\u2019 character from the dataframe\n",
    "introduction = introduction.replace(u'\\u2019', \"'\", regex=True)\n",
    "#remove the \\u00a0 character from the dataframe\n",
    "introduction = introduction.replace(u'\\u00a0', ' ', regex=True)\n",
    "#remove the \\xa0 character from the dataframe\n",
    "introduction = introduction.replace(u'\\xa0', ' ', regex=True)\n",
    "#remove the \\u2014 character from the dataframe\n",
    "introduction = introduction.replace(u'\\u2014', '--', regex=True)\n",
    "#remove the \\u2026 character from the dataframe\n",
    "introduction = introduction.replace(u'\\u2026', '...', regex=True)"
   ],
   "metadata": {
    "collapsed": false,
    "ExecuteTime": {
     "end_time": "2024-05-20T18:37:14.927547200Z",
     "start_time": "2024-05-20T18:37:14.857074300Z"
    }
   },
   "id": "9574bde577360309",
   "execution_count": 161
  },
  {
   "cell_type": "code",
   "outputs": [],
   "source": [
    "introduction_data = [\n",
    "    {\n",
    "    \"Game\": introduction['Game'][index],\n",
    "    \"Monologue\": introduction['Introduction'][index],\n",
    "    \"Context\": introduction['Context'][index],\n",
    "    } for index, row in introduction.iterrows()]\n",
    "\n",
    "#pass the introduction data to a json file\n",
    "introduction_data = convert_all_to_string(introduction_data)\n",
    "with open('testing_for_error/introduction_data.json', 'w') as f:\n",
    "    f.write(json.dumps(introduction_data, indent=4))"
   ],
   "metadata": {
    "collapsed": false,
    "ExecuteTime": {
     "end_time": "2024-05-20T18:37:15.000358700Z",
     "start_time": "2024-05-20T18:37:14.909086500Z"
    }
   },
   "id": "cb9a9403601a7006",
   "execution_count": 162
  },
  {
   "cell_type": "code",
   "outputs": [
    {
     "name": "stdout",
     "output_type": "stream",
     "text": [
      "Train Data Length: 40\n",
      "Validation Data Length: 5\n",
      "Test Data Length: 5\n"
     ]
    }
   ],
   "source": [
    "#Suffle the introduction data\n",
    "random.shuffle(introduction_data)\n",
    "\n",
    "#split the data into train, validation and test data first into 80 20 and then split the 20 into 50 50\n",
    "train_data_introduction, temp_data_introduction = train_test_split(introduction_data, test_size=0.2, random_state=42)\n",
    "\n",
    "validation_data_introduction, test_data_introduction = train_test_split(temp_data_introduction, test_size=0.5, random_state=42)\n",
    "\n",
    "# Print the lengths of the train, validation, and test data\n",
    "print(f'Train Data Length: {len(train_data_introduction)}')\n",
    "print(f'Validation Data Length: {len(validation_data_introduction)}')\n",
    "print(f'Test Data Length: {len(test_data_introduction)}')"
   ],
   "metadata": {
    "collapsed": false,
    "ExecuteTime": {
     "end_time": "2024-05-20T18:37:15.062148100Z",
     "start_time": "2024-05-20T18:37:14.990561100Z"
    }
   },
   "id": "79c89192ac34d3e6",
   "execution_count": 163
  },
  {
   "cell_type": "code",
   "outputs": [],
   "source": [
    "# Add the train, validation, and test data to the results folder\n",
    "with open('results/introduction_train.json', 'w') as f:\n",
    "    f.write(json.dumps(train_data_introduction, indent=4))\n",
    "    \n",
    "with open('results/introduction_val.json', 'w') as f:\n",
    "    f.write(json.dumps(validation_data_introduction, indent=4))\n",
    "    \n",
    "with open('results/introduction_test.json', 'w') as f:\n",
    "    f.write(json.dumps(test_data_introduction, indent=4))"
   ],
   "metadata": {
    "collapsed": false,
    "ExecuteTime": {
     "end_time": "2024-05-20T18:37:15.161345700Z",
     "start_time": "2024-05-20T18:37:15.036366600Z"
    }
   },
   "id": "b2941c46e61ac1cb",
   "execution_count": 164
  },
  {
   "cell_type": "code",
   "outputs": [
    {
     "name": "stdout",
     "output_type": "stream",
     "text": [
      "Final Train Data Length: 1457\n",
      "Final Validation Data Length: 182\n",
      "Final Test Data Length: 186\n"
     ]
    }
   ],
   "source": [
    "# Create the final train test and validation datasets by combining the stratified and introduction json files\n",
    "final_train_data = train_data_strat + train_data_introduction\n",
    "final_val_data = validation_data_strat + validation_data_introduction\n",
    "final_test_data = test_data_strat + test_data_introduction\n",
    "\n",
    "# print the lengths of the final train, validation and test data\n",
    "print(f'Final Train Data Length: {len(final_train_data)}')\n",
    "print(f'Final Validation Data Length: {len(final_val_data)}')\n",
    "print(f'Final Test Data Length: {len(final_test_data)}')"
   ],
   "metadata": {
    "collapsed": false,
    "ExecuteTime": {
     "end_time": "2024-05-20T18:37:15.224359700Z",
     "start_time": "2024-05-20T18:37:15.135163500Z"
    }
   },
   "id": "ae15fe6cd566d918",
   "execution_count": 165
  },
  {
   "cell_type": "code",
   "outputs": [],
   "source": [
    "# Write the final train, validation, and test data to json files in the results folder\n",
    "with open('results/final_train.json', 'w') as f:\n",
    "    f.write(json.dumps(final_train_data, indent=4))\n",
    "    \n",
    "with open('results/final_val.json', 'w') as f:\n",
    "    f.write(json.dumps(final_val_data, indent=4))\n",
    "    \n",
    "with open('results/final_test.json', 'w') as f:\n",
    "    f.write(json.dumps(final_test_data, indent=4))"
   ],
   "metadata": {
    "collapsed": false,
    "ExecuteTime": {
     "end_time": "2024-05-20T18:37:15.339566400Z",
     "start_time": "2024-05-20T18:37:15.221360100Z"
    }
   },
   "id": "7c4aa490e8bcad85",
   "execution_count": 166
  },
  {
   "cell_type": "code",
   "outputs": [],
   "source": [
    "# Delete the contents of the results folder and the testing_for_error folder\n",
    "\n",
    "def delete_contents(folder):\n",
    "    for filename in os.listdir(folder):\n",
    "        file_path = os.path.join(folder, filename)\n",
    "        try:\n",
    "            if os.path.isfile(file_path) or os.path.islink(file_path):\n",
    "                os.unlink(file_path)\n",
    "            elif os.path.isdir(file_path):\n",
    "                shutil.rmtree(file_path)\n",
    "        except Exception as e:\n",
    "            print('Failed to delete %s. Reason: %s' % (file_path, e))\n",
    "     \n",
    "folder = 'results'\n",
    "delete_contents(folder)\n",
    "folder = 'testing_for_error'\n",
    "delete_contents(folder)"
   ],
   "metadata": {
    "collapsed": false,
    "ExecuteTime": {
     "end_time": "2024-05-20T18:36:02.698119Z",
     "start_time": "2024-05-20T18:36:02.615721800Z"
    }
   },
   "id": "4351b4f90a4ee95e",
   "execution_count": 14
  }
 ],
 "metadata": {
  "kernelspec": {
   "display_name": "Python 3",
   "language": "python",
   "name": "python3"
  },
  "language_info": {
   "codemirror_mode": {
    "name": "ipython",
    "version": 2
   },
   "file_extension": ".py",
   "mimetype": "text/x-python",
   "name": "python",
   "nbconvert_exporter": "python",
   "pygments_lexer": "ipython2",
   "version": "2.7.6"
  }
 },
 "nbformat": 4,
 "nbformat_minor": 5
}
