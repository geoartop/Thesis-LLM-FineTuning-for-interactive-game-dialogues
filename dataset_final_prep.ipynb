{
 "cells": [
  {
   "cell_type": "markdown",
   "source": [
    "# This is the dataset preparation notebook for my thesis on LLM Fine tuning for NPC Dialogue Generation\n",
    "## Author: George Artopoulos (8200016)"
   ],
   "metadata": {
    "collapsed": false
   },
   "id": "58af1b9e32497710"
  },
  {
   "cell_type": "markdown",
   "source": [
    "### Importing the necessary libraries\n",
    "\n",
    "These are the libraries that are used in this notebook:\n",
    "- pandas: is used to store the dialogue data in different dataframes and allow for easy manipulation of the data\n",
    "- json: is used to write the data to a json file with a specific structure needed for fine tuning and also to keep the data in a json format\n",
    "- random: is used for shuffling the data to ensure that the data is randomized\n",
    "- train_test_split: is used to split the data into a training, validation and test set\n",
    "- defaultdict: is used to create a dictionary with a default value of a list\n",
    "- os & shutil: are used for resetting the directories "
   ],
   "metadata": {
    "collapsed": false
   },
   "id": "6a72af99f8147cc0"
  },
  {
   "cell_type": "code",
   "outputs": [],
   "source": [
    "# Importing the necessary libraries\n",
    "import pandas as pd\n",
    "import json\n",
    "from sklearn.model_selection import train_test_split\n",
    "from collections import defaultdict\n",
    "import os\n",
    "import shutil"
   ],
   "metadata": {
    "collapsed": false,
    "ExecuteTime": {
     "end_time": "2024-06-16T09:07:39.890445100Z",
     "start_time": "2024-06-16T09:07:35.478087600Z"
    }
   },
   "id": "7d4cb6598bcc9810",
   "execution_count": 1
  },
  {
   "cell_type": "markdown",
   "source": [
    "### Accessing the dialogue data and creating the necessary structure for the training json files\n",
    "\n",
    "The dialogue data is stored in an excel file with multiple sheets. Each sheet contains a different type of dialogue data.\n",
    "\n",
    "The below columns are present in the different sheets of the excel file:\n",
    "- Voicetype: the NPC type that is speaking the dialogue\n",
    "- Dialogue: the dialogue that the NPC is speaking\n",
    "- Event: the event that the dialogue is associated with\n",
    "- Condition: the condition that the dialogue is associated with\n",
    "- Line_of_dialogue: the current line of dialogue that is being spoken\n",
    "- Response_to: the response that the dialogue is associated with\n",
    "- Location: the location that the dialogue is associated with\n",
    "- Equipment: the equipment that the dialogue is associated with \n",
    "- Result: the result that the dialogue is associated\n",
    "- Tone: the tone of the dialogue"
   ],
   "metadata": {
    "collapsed": false
   },
   "id": "56bdd353ca6ea"
  },
  {
   "cell_type": "markdown",
   "source": [
    "#### Greeting_Goodbyes sheet\n",
    "\n",
    "Extracting the data from the Greeting_Goodbyes sheet, splitting the data into two dataframes, one with the columns Greetings and Voicetype and the other with the columns Goodbye and Voicetype."
   ],
   "metadata": {
    "collapsed": false
   },
   "id": "61803f1cc5d0a624"
  },
  {
   "cell_type": "markdown",
   "source": [
    "Extracting the data from the Greeting_Goodbyes sheet"
   ],
   "metadata": {
    "collapsed": false
   },
   "id": "be05425ba4b65308"
  },
  {
   "cell_type": "code",
   "execution_count": 2,
   "id": "initial_id",
   "metadata": {
    "collapsed": true,
    "ExecuteTime": {
     "end_time": "2024-06-16T09:07:40.262842400Z",
     "start_time": "2024-06-16T09:07:39.874441Z"
    }
   },
   "outputs": [],
   "source": [
    "#load the xls file without containing any links\n",
    "df = pd.read_excel('testing_excel.xlsx', sheet_name='Greeting_Goodbyes')\n",
    "df = df.replace(u'\\xa0', u' ', regex=True)"
   ]
  },
  {
   "cell_type": "code",
   "outputs": [
    {
     "data": {
      "text/plain": "                                             Greetings         Voicetype  \\\n0                                                 Hmm?               Any   \n1                                      Need something?               Any   \n2                                                 Yes?               Any   \n3         Ours is to smile at your passing, friend.(F)      MaleArgonian   \n4    It fills us with rage. What harm does it bring...      MaleArgonian   \n..                                                 ...               ...   \n155                             What can I do for you?  FemaleYoungEager   \n156                        Oh, did you need something?    MaleYoungEager   \n157                        Oh, did you need something?  FemaleYoungEager   \n158                It's a fine day with you around.(F)  FemaleYoungEager   \n159   You. Every time I look at you my blood boils.(H)  FemaleYoungEager   \n\n             Goodbyes  \n0    Until next time.  \n1            Hmm hmm.  \n2    All right, then.  \n3                 NaN  \n4                 NaN  \n..                ...  \n155               NaN  \n156               NaN  \n157               NaN  \n158               NaN  \n159               NaN  \n\n[160 rows x 3 columns]",
      "text/html": "<div>\n<style scoped>\n    .dataframe tbody tr th:only-of-type {\n        vertical-align: middle;\n    }\n\n    .dataframe tbody tr th {\n        vertical-align: top;\n    }\n\n    .dataframe thead th {\n        text-align: right;\n    }\n</style>\n<table border=\"1\" class=\"dataframe\">\n  <thead>\n    <tr style=\"text-align: right;\">\n      <th></th>\n      <th>Greetings</th>\n      <th>Voicetype</th>\n      <th>Goodbyes</th>\n    </tr>\n  </thead>\n  <tbody>\n    <tr>\n      <th>0</th>\n      <td>Hmm?</td>\n      <td>Any</td>\n      <td>Until next time.</td>\n    </tr>\n    <tr>\n      <th>1</th>\n      <td>Need something?</td>\n      <td>Any</td>\n      <td>Hmm hmm.</td>\n    </tr>\n    <tr>\n      <th>2</th>\n      <td>Yes?</td>\n      <td>Any</td>\n      <td>All right, then.</td>\n    </tr>\n    <tr>\n      <th>3</th>\n      <td>Ours is to smile at your passing, friend.(F)</td>\n      <td>MaleArgonian</td>\n      <td>NaN</td>\n    </tr>\n    <tr>\n      <th>4</th>\n      <td>It fills us with rage. What harm does it bring...</td>\n      <td>MaleArgonian</td>\n      <td>NaN</td>\n    </tr>\n    <tr>\n      <th>...</th>\n      <td>...</td>\n      <td>...</td>\n      <td>...</td>\n    </tr>\n    <tr>\n      <th>155</th>\n      <td>What can I do for you?</td>\n      <td>FemaleYoungEager</td>\n      <td>NaN</td>\n    </tr>\n    <tr>\n      <th>156</th>\n      <td>Oh, did you need something?</td>\n      <td>MaleYoungEager</td>\n      <td>NaN</td>\n    </tr>\n    <tr>\n      <th>157</th>\n      <td>Oh, did you need something?</td>\n      <td>FemaleYoungEager</td>\n      <td>NaN</td>\n    </tr>\n    <tr>\n      <th>158</th>\n      <td>It's a fine day with you around.(F)</td>\n      <td>FemaleYoungEager</td>\n      <td>NaN</td>\n    </tr>\n    <tr>\n      <th>159</th>\n      <td>You. Every time I look at you my blood boils.(H)</td>\n      <td>FemaleYoungEager</td>\n      <td>NaN</td>\n    </tr>\n  </tbody>\n</table>\n<p>160 rows × 3 columns</p>\n</div>"
     },
     "execution_count": 3,
     "metadata": {},
     "output_type": "execute_result"
    }
   ],
   "source": [
    "df"
   ],
   "metadata": {
    "collapsed": false,
    "ExecuteTime": {
     "end_time": "2024-06-16T09:07:40.282297500Z",
     "start_time": "2024-06-16T09:07:40.242200100Z"
    }
   },
   "id": "53845331e3cfb668",
   "execution_count": 3
  },
  {
   "cell_type": "markdown",
   "source": [
    "Splitting the data into two dataframes"
   ],
   "metadata": {
    "collapsed": false
   },
   "id": "985352374b2a01fd"
  },
  {
   "cell_type": "code",
   "outputs": [],
   "source": [
    "#split the dataframe in two dataframes, one with the columns Greetings and Voicetype and the other with the columns Goodbye and Voicetype\n",
    "Greetings = df[['Greetings', 'Voicetype']]\n",
    "\n",
    "#Drop the rows where Greetings is NaN\n",
    "Greetings = Greetings.dropna(subset=['Greetings'])\n",
    "\n",
    "Goodbyes = df[['Goodbyes', 'Voicetype']]\n",
    "\n",
    "#drop the rows where goodbyes is NaN\n",
    "Goodbyes = Goodbyes.dropna(subset=['Goodbyes'])"
   ],
   "metadata": {
    "collapsed": false,
    "ExecuteTime": {
     "end_time": "2024-06-16T09:07:40.288298900Z",
     "start_time": "2024-06-16T09:07:40.256197Z"
    }
   },
   "id": "a7e382092fb28c17",
   "execution_count": 4
  },
  {
   "cell_type": "code",
   "outputs": [
    {
     "data": {
      "text/plain": "                                             Greetings         Voicetype\n0                                                 Hmm?               Any\n1                                      Need something?               Any\n2                                                 Yes?               Any\n3         Ours is to smile at your passing, friend.(F)      MaleArgonian\n4    It fills us with rage. What harm does it bring...      MaleArgonian\n..                                                 ...               ...\n155                             What can I do for you?  FemaleYoungEager\n156                        Oh, did you need something?    MaleYoungEager\n157                        Oh, did you need something?  FemaleYoungEager\n158                It's a fine day with you around.(F)  FemaleYoungEager\n159   You. Every time I look at you my blood boils.(H)  FemaleYoungEager\n\n[160 rows x 2 columns]",
      "text/html": "<div>\n<style scoped>\n    .dataframe tbody tr th:only-of-type {\n        vertical-align: middle;\n    }\n\n    .dataframe tbody tr th {\n        vertical-align: top;\n    }\n\n    .dataframe thead th {\n        text-align: right;\n    }\n</style>\n<table border=\"1\" class=\"dataframe\">\n  <thead>\n    <tr style=\"text-align: right;\">\n      <th></th>\n      <th>Greetings</th>\n      <th>Voicetype</th>\n    </tr>\n  </thead>\n  <tbody>\n    <tr>\n      <th>0</th>\n      <td>Hmm?</td>\n      <td>Any</td>\n    </tr>\n    <tr>\n      <th>1</th>\n      <td>Need something?</td>\n      <td>Any</td>\n    </tr>\n    <tr>\n      <th>2</th>\n      <td>Yes?</td>\n      <td>Any</td>\n    </tr>\n    <tr>\n      <th>3</th>\n      <td>Ours is to smile at your passing, friend.(F)</td>\n      <td>MaleArgonian</td>\n    </tr>\n    <tr>\n      <th>4</th>\n      <td>It fills us with rage. What harm does it bring...</td>\n      <td>MaleArgonian</td>\n    </tr>\n    <tr>\n      <th>...</th>\n      <td>...</td>\n      <td>...</td>\n    </tr>\n    <tr>\n      <th>155</th>\n      <td>What can I do for you?</td>\n      <td>FemaleYoungEager</td>\n    </tr>\n    <tr>\n      <th>156</th>\n      <td>Oh, did you need something?</td>\n      <td>MaleYoungEager</td>\n    </tr>\n    <tr>\n      <th>157</th>\n      <td>Oh, did you need something?</td>\n      <td>FemaleYoungEager</td>\n    </tr>\n    <tr>\n      <th>158</th>\n      <td>It's a fine day with you around.(F)</td>\n      <td>FemaleYoungEager</td>\n    </tr>\n    <tr>\n      <th>159</th>\n      <td>You. Every time I look at you my blood boils.(H)</td>\n      <td>FemaleYoungEager</td>\n    </tr>\n  </tbody>\n</table>\n<p>160 rows × 2 columns</p>\n</div>"
     },
     "execution_count": 5,
     "metadata": {},
     "output_type": "execute_result"
    }
   ],
   "source": [
    "Greetings"
   ],
   "metadata": {
    "collapsed": false,
    "ExecuteTime": {
     "end_time": "2024-06-16T09:07:40.432111900Z",
     "start_time": "2024-06-16T09:07:40.262842400Z"
    }
   },
   "id": "3c0c1edf06002181",
   "execution_count": 5
  },
  {
   "cell_type": "code",
   "outputs": [
    {
     "data": {
      "text/plain": "                        Goodbyes              Voicetype\n0               Until next time.                    Any\n1                       Hmm hmm.                    Any\n2               All right, then.                    Any\n21     I'll take my leave, then.          MaleCommander\n22     I'll take my leave, then.      MaleNordCommander\n30     I'll take my leave, then.        FemaleCommander\n42    Now if you'll excuse me...      MaleCondescending\n45    Now if you'll excuse me...    FemaleCondescending\n60                 Safe travels.            MaleDarkElf\n63                 Safe travels.          FemaleDarkElf\n68                  Yeah yeah...              MaleDrunk\n83                     Farewell.          MaleEvenToned\n84                     Farewell.  MaleEvenTonedAccented\n89                     Farewell.        FemaleEvenToned\n95                Swift hunting.            MaleKhajiit\n98                Swift hunting.          FemaleKhajiit\n99   May you walk on warm sands.            MaleKhajiit\n100  May you walk on warm sands.          FemaleKhajiit\n103                         Aye.               MaleNord\n106                         Aye.             FemaleNord\n123              Take care, now.          MaleOldKindly\n126              Take care, now.        FemaleOldKindly\n132                  Fight well.                MaleOrc\n134                  Fight well.              FemaleOrc\n146        It's been a pleasure.           FemaleSultry\n149              See you around.           FemaleSultry\n152        I'd better get going.         MaleYoungEager",
      "text/html": "<div>\n<style scoped>\n    .dataframe tbody tr th:only-of-type {\n        vertical-align: middle;\n    }\n\n    .dataframe tbody tr th {\n        vertical-align: top;\n    }\n\n    .dataframe thead th {\n        text-align: right;\n    }\n</style>\n<table border=\"1\" class=\"dataframe\">\n  <thead>\n    <tr style=\"text-align: right;\">\n      <th></th>\n      <th>Goodbyes</th>\n      <th>Voicetype</th>\n    </tr>\n  </thead>\n  <tbody>\n    <tr>\n      <th>0</th>\n      <td>Until next time.</td>\n      <td>Any</td>\n    </tr>\n    <tr>\n      <th>1</th>\n      <td>Hmm hmm.</td>\n      <td>Any</td>\n    </tr>\n    <tr>\n      <th>2</th>\n      <td>All right, then.</td>\n      <td>Any</td>\n    </tr>\n    <tr>\n      <th>21</th>\n      <td>I'll take my leave, then.</td>\n      <td>MaleCommander</td>\n    </tr>\n    <tr>\n      <th>22</th>\n      <td>I'll take my leave, then.</td>\n      <td>MaleNordCommander</td>\n    </tr>\n    <tr>\n      <th>30</th>\n      <td>I'll take my leave, then.</td>\n      <td>FemaleCommander</td>\n    </tr>\n    <tr>\n      <th>42</th>\n      <td>Now if you'll excuse me...</td>\n      <td>MaleCondescending</td>\n    </tr>\n    <tr>\n      <th>45</th>\n      <td>Now if you'll excuse me...</td>\n      <td>FemaleCondescending</td>\n    </tr>\n    <tr>\n      <th>60</th>\n      <td>Safe travels.</td>\n      <td>MaleDarkElf</td>\n    </tr>\n    <tr>\n      <th>63</th>\n      <td>Safe travels.</td>\n      <td>FemaleDarkElf</td>\n    </tr>\n    <tr>\n      <th>68</th>\n      <td>Yeah yeah...</td>\n      <td>MaleDrunk</td>\n    </tr>\n    <tr>\n      <th>83</th>\n      <td>Farewell.</td>\n      <td>MaleEvenToned</td>\n    </tr>\n    <tr>\n      <th>84</th>\n      <td>Farewell.</td>\n      <td>MaleEvenTonedAccented</td>\n    </tr>\n    <tr>\n      <th>89</th>\n      <td>Farewell.</td>\n      <td>FemaleEvenToned</td>\n    </tr>\n    <tr>\n      <th>95</th>\n      <td>Swift hunting.</td>\n      <td>MaleKhajiit</td>\n    </tr>\n    <tr>\n      <th>98</th>\n      <td>Swift hunting.</td>\n      <td>FemaleKhajiit</td>\n    </tr>\n    <tr>\n      <th>99</th>\n      <td>May you walk on warm sands.</td>\n      <td>MaleKhajiit</td>\n    </tr>\n    <tr>\n      <th>100</th>\n      <td>May you walk on warm sands.</td>\n      <td>FemaleKhajiit</td>\n    </tr>\n    <tr>\n      <th>103</th>\n      <td>Aye.</td>\n      <td>MaleNord</td>\n    </tr>\n    <tr>\n      <th>106</th>\n      <td>Aye.</td>\n      <td>FemaleNord</td>\n    </tr>\n    <tr>\n      <th>123</th>\n      <td>Take care, now.</td>\n      <td>MaleOldKindly</td>\n    </tr>\n    <tr>\n      <th>126</th>\n      <td>Take care, now.</td>\n      <td>FemaleOldKindly</td>\n    </tr>\n    <tr>\n      <th>132</th>\n      <td>Fight well.</td>\n      <td>MaleOrc</td>\n    </tr>\n    <tr>\n      <th>134</th>\n      <td>Fight well.</td>\n      <td>FemaleOrc</td>\n    </tr>\n    <tr>\n      <th>146</th>\n      <td>It's been a pleasure.</td>\n      <td>FemaleSultry</td>\n    </tr>\n    <tr>\n      <th>149</th>\n      <td>See you around.</td>\n      <td>FemaleSultry</td>\n    </tr>\n    <tr>\n      <th>152</th>\n      <td>I'd better get going.</td>\n      <td>MaleYoungEager</td>\n    </tr>\n  </tbody>\n</table>\n</div>"
     },
     "execution_count": 6,
     "metadata": {},
     "output_type": "execute_result"
    }
   ],
   "source": [
    "Goodbyes"
   ],
   "metadata": {
    "collapsed": false,
    "ExecuteTime": {
     "end_time": "2024-06-16T09:07:40.452552300Z",
     "start_time": "2024-06-16T09:07:40.273516300Z"
    }
   },
   "id": "6e3bedaa8180fc59",
   "execution_count": 6
  },
  {
   "cell_type": "markdown",
   "source": [
    "The data in the Greetings column of the Greetings dataframe, has a (H) or a (F) in the values, showing the tone of the dialogue. The (H) stands for Hostile and the (F) stands for Friendly. The (H) and (F) will be removed from the rows and a new column called Tone will be created to store the tone of the dialogue."
   ],
   "metadata": {
    "collapsed": false
   },
   "id": "2e1cf6fdc2ae363a"
  },
  {
   "cell_type": "markdown",
   "source": [
    "Creating a new column in the greetings dataframe called Tone and filtering the data based on the tone of the dialogue"
   ],
   "metadata": {
    "collapsed": false
   },
   "id": "e934010afad287b4"
  },
  {
   "cell_type": "code",
   "outputs": [],
   "source": [
    "#create an new column in the greetings dataframe called Tone \n",
    "Greetings['Tone'] = 'Neutral'\n",
    "\n",
    "# check the rows of the dataframe to see if there is a (H) or a (F) in the rows and change the tone to Happy or Formal\n",
    "for index, row in Greetings.iterrows():\n",
    "    if '(H)' in row['Greetings']:\n",
    "        Greetings.at[index, 'Tone'] = 'Hostile'\n",
    "        #remove the (H) from the row\n",
    "        Greetings.at[index, 'Greetings'] = Greetings.at[index, 'Greetings'].replace('(H)', '')\n",
    "    elif '(F)' in row['Greetings']:\n",
    "        Greetings.at[index, 'Tone'] = 'Friendly'\n",
    "        #remove the (F) from the row\n",
    "        Greetings.at[index, 'Greetings'] = Greetings.at[index, 'Greetings'].replace('(F)', '')\n",
    "    "
   ],
   "metadata": {
    "collapsed": false,
    "ExecuteTime": {
     "end_time": "2024-06-16T09:07:40.534138500Z",
     "start_time": "2024-06-16T09:07:40.281296600Z"
    }
   },
   "id": "55986540dd9e0b17",
   "execution_count": 7
  },
  {
   "cell_type": "markdown",
   "source": [
    "The (H) and (F) are removed from the rows of the Greetings column"
   ],
   "metadata": {
    "collapsed": false
   },
   "id": "12b7bf3128c8e474"
  },
  {
   "cell_type": "code",
   "outputs": [],
   "source": [
    "#remove the (H) and (F) from the rows of the Greetings column\n",
    "Greetings['Greetings'] = Greetings['Greetings'].str.replace(r\"\\(H\\)\", \"\")"
   ],
   "metadata": {
    "collapsed": false,
    "ExecuteTime": {
     "end_time": "2024-06-16T09:07:40.561650700Z",
     "start_time": "2024-06-16T09:07:40.301301100Z"
    }
   },
   "id": "c803ca7a8c18c816",
   "execution_count": 8
  },
  {
   "cell_type": "code",
   "outputs": [
    {
     "data": {
      "text/plain": "                                             Greetings         Voicetype  \\\n0                                                 Hmm?               Any   \n1                                      Need something?               Any   \n2                                                 Yes?               Any   \n3            Ours is to smile at your passing, friend.      MaleArgonian   \n4    It fills us with rage. What harm does it bring...      MaleArgonian   \n..                                                 ...               ...   \n155                             What can I do for you?  FemaleYoungEager   \n156                        Oh, did you need something?    MaleYoungEager   \n157                        Oh, did you need something?  FemaleYoungEager   \n158                   It's a fine day with you around.  FemaleYoungEager   \n159      You. Every time I look at you my blood boils.  FemaleYoungEager   \n\n         Tone  \n0     Neutral  \n1     Neutral  \n2     Neutral  \n3    Friendly  \n4     Hostile  \n..        ...  \n155   Neutral  \n156   Neutral  \n157   Neutral  \n158  Friendly  \n159   Hostile  \n\n[160 rows x 3 columns]",
      "text/html": "<div>\n<style scoped>\n    .dataframe tbody tr th:only-of-type {\n        vertical-align: middle;\n    }\n\n    .dataframe tbody tr th {\n        vertical-align: top;\n    }\n\n    .dataframe thead th {\n        text-align: right;\n    }\n</style>\n<table border=\"1\" class=\"dataframe\">\n  <thead>\n    <tr style=\"text-align: right;\">\n      <th></th>\n      <th>Greetings</th>\n      <th>Voicetype</th>\n      <th>Tone</th>\n    </tr>\n  </thead>\n  <tbody>\n    <tr>\n      <th>0</th>\n      <td>Hmm?</td>\n      <td>Any</td>\n      <td>Neutral</td>\n    </tr>\n    <tr>\n      <th>1</th>\n      <td>Need something?</td>\n      <td>Any</td>\n      <td>Neutral</td>\n    </tr>\n    <tr>\n      <th>2</th>\n      <td>Yes?</td>\n      <td>Any</td>\n      <td>Neutral</td>\n    </tr>\n    <tr>\n      <th>3</th>\n      <td>Ours is to smile at your passing, friend.</td>\n      <td>MaleArgonian</td>\n      <td>Friendly</td>\n    </tr>\n    <tr>\n      <th>4</th>\n      <td>It fills us with rage. What harm does it bring...</td>\n      <td>MaleArgonian</td>\n      <td>Hostile</td>\n    </tr>\n    <tr>\n      <th>...</th>\n      <td>...</td>\n      <td>...</td>\n      <td>...</td>\n    </tr>\n    <tr>\n      <th>155</th>\n      <td>What can I do for you?</td>\n      <td>FemaleYoungEager</td>\n      <td>Neutral</td>\n    </tr>\n    <tr>\n      <th>156</th>\n      <td>Oh, did you need something?</td>\n      <td>MaleYoungEager</td>\n      <td>Neutral</td>\n    </tr>\n    <tr>\n      <th>157</th>\n      <td>Oh, did you need something?</td>\n      <td>FemaleYoungEager</td>\n      <td>Neutral</td>\n    </tr>\n    <tr>\n      <th>158</th>\n      <td>It's a fine day with you around.</td>\n      <td>FemaleYoungEager</td>\n      <td>Friendly</td>\n    </tr>\n    <tr>\n      <th>159</th>\n      <td>You. Every time I look at you my blood boils.</td>\n      <td>FemaleYoungEager</td>\n      <td>Hostile</td>\n    </tr>\n  </tbody>\n</table>\n<p>160 rows × 3 columns</p>\n</div>"
     },
     "execution_count": 9,
     "metadata": {},
     "output_type": "execute_result"
    }
   ],
   "source": [
    "Greetings"
   ],
   "metadata": {
    "collapsed": false,
    "ExecuteTime": {
     "end_time": "2024-06-16T09:07:40.594657300Z",
     "start_time": "2024-06-16T09:07:40.308396700Z"
    }
   },
   "id": "6d877786a969b45e",
   "execution_count": 9
  },
  {
   "cell_type": "markdown",
   "source": [
    "Transforming the data in the Greetings dataframe to a list of dictionaries with the needed structure for training and storing those dictionaries in the data variable"
   ],
   "metadata": {
    "collapsed": false
   },
   "id": "e7d0ae8c6db83f47"
  },
  {
   "cell_type": "code",
   "outputs": [],
   "source": [
    "# create a dictionary with the needed struture\n",
    "Greetings_data = [\n",
    "    {\n",
    "    \"Speaker\": Greetings['Voicetype'][index],\n",
    "    \"Dialogue\": Greetings['Greetings'][index],\n",
    "    \"Tone\": Greetings['Tone'][index],\n",
    "    \"Event\": \"Greeting\",\n",
    "} for index, row in Greetings.iterrows()]\n",
    "\n",
    "data = Greetings_data   \n"
   ],
   "metadata": {
    "collapsed": false,
    "ExecuteTime": {
     "end_time": "2024-06-16T09:07:40.869825Z",
     "start_time": "2024-06-16T09:07:40.318740300Z"
    }
   },
   "id": "c64c37a7308f0294",
   "execution_count": 10
  },
  {
   "cell_type": "markdown",
   "source": [
    "We also create a JSON file with all of the dictionaries of the Greetings_data, for future case testing while creating the training queries of the LLM, and we store it in the testing_for_error folder"
   ],
   "metadata": {
    "collapsed": false
   },
   "id": "8ca82f91d0d7b50e"
  },
  {
   "cell_type": "code",
   "outputs": [],
   "source": [
    "#write the Greeetings_data to a json file in the testing_for_error folder\n",
    "with open('testing_for_error/Greetings_data.json', 'w') as f:\n",
    "    f.write(json.dumps(Greetings_data, indent=4))\n"
   ],
   "metadata": {
    "collapsed": false,
    "ExecuteTime": {
     "end_time": "2024-06-16T09:07:40.874826500Z",
     "start_time": "2024-06-16T09:07:40.334303600Z"
    }
   },
   "id": "85a7a1c441ef861a",
   "execution_count": 11
  },
  {
   "cell_type": "markdown",
   "source": [
    "Transforming the data in the Goodbyes dataframe to a list of dictionaries with the needed structure for training and storing those dictionaries in the data variable"
   ],
   "metadata": {
    "collapsed": false
   },
   "id": "a111b105ae7dc14d"
  },
  {
   "cell_type": "code",
   "outputs": [],
   "source": [
    "#do the same with the Goodbyes dataframe\n",
    "Goodbyes_data = [\n",
    "    {\n",
    "    \"Speaker\": Goodbyes['Voicetype'][index],\n",
    "    \"Dialogue\": Goodbyes['Goodbyes'][index],\n",
    "    \"Event\": \"Goodbye\",\n",
    "} for index, row in Goodbyes.iterrows()]\n",
    "\n",
    "data = data + Goodbyes_data"
   ],
   "metadata": {
    "collapsed": false,
    "ExecuteTime": {
     "end_time": "2024-06-16T09:07:40.914835400Z",
     "start_time": "2024-06-16T09:07:40.342874300Z"
    }
   },
   "id": "264808442aff0f6b",
   "execution_count": 12
  },
  {
   "cell_type": "markdown",
   "source": [
    "We also create a JSON file with all of the dictionaries of the Goodbyes_data for the above reason"
   ],
   "metadata": {
    "collapsed": false
   },
   "id": "8be0fd43667a33a5"
  },
  {
   "cell_type": "code",
   "outputs": [],
   "source": [
    "#write the Goodbyes_data to a json file in the testing_for_error folder\n",
    "with open('testing_for_error/Goodbyes_data.json', 'w') as f:\n",
    "    f.write(json.dumps(Goodbyes_data, indent=4))"
   ],
   "metadata": {
    "collapsed": false,
    "ExecuteTime": {
     "end_time": "2024-06-16T09:07:40.938711700Z",
     "start_time": "2024-06-16T09:07:40.350886700Z"
    }
   },
   "id": "58a3b4bcd22e6137",
   "execution_count": 13
  },
  {
   "cell_type": "markdown",
   "source": [
    "#### Vampire sheet\n",
    "\n",
    "In the vampire sheet, the data is duplicated and the first 8 rows of the Dialogue column are replaced with the first value in the column. The next 8 rows of the Dialogue column are replaced with the value at the 8th index."
   ],
   "metadata": {
    "collapsed": false
   },
   "id": "5f21fb1696432ce"
  },
  {
   "cell_type": "markdown",
   "source": [
    "Importing the Vampire sheet and removing the \\xa0 character from the dataframe"
   ],
   "metadata": {
    "collapsed": false
   },
   "id": "c4234fb08e41706"
  },
  {
   "cell_type": "code",
   "outputs": [],
   "source": [
    "#import the second sheet of the excel file to a dataframe\n",
    "vampire = pd.read_excel('testing_excel.xlsx', sheet_name='Vampire')\n",
    "vampire = vampire.replace(u'\\xa0', u' ', regex=True)"
   ],
   "metadata": {
    "collapsed": false,
    "ExecuteTime": {
     "end_time": "2024-06-16T09:07:40.955746100Z",
     "start_time": "2024-06-16T09:07:40.360891200Z"
    }
   },
   "id": "e10ce22525e63faa",
   "execution_count": 14
  },
  {
   "cell_type": "markdown",
   "source": [
    "Making the needed changes to the data in the Vampire dataframe as described above"
   ],
   "metadata": {
    "collapsed": false
   },
   "id": "b46ff2765d689468"
  },
  {
   "cell_type": "code",
   "outputs": [],
   "source": [
    "#duplicate the rows\n",
    "vampire = vampire.copy()\n",
    "\n",
    "vampire= pd.concat([vampire]*2, ignore_index=True)\n",
    "\n",
    "# Replace the first 8 values of the 'Voicetype' column with the first value\n",
    "vampire.loc[0:7, 'Dialogue'] = vampire['Dialogue'][0]\n",
    "\n",
    "# Replace the next 8 values of the 'Voicetype' column starting from the 8th index with the value at the 8th index\n",
    "vampire.loc[8:15, 'Dialogue'] = vampire['Dialogue'][9]"
   ],
   "metadata": {
    "collapsed": false,
    "ExecuteTime": {
     "end_time": "2024-06-16T09:07:40.972752500Z",
     "start_time": "2024-06-16T09:07:40.419141400Z"
    }
   },
   "id": "49fca74464dcc0b6",
   "execution_count": 15
  },
  {
   "cell_type": "code",
   "outputs": [
    {
     "data": {
      "text/plain": "                Voicetype                                           Dialogue\n0            MaleCommoner  Don't like those eyes you got. There's a bad h...\n1    MaleCommonerAccented  Don't like those eyes you got. There's a bad h...\n2          FemaleCommoner  Don't like those eyes you got. There's a bad h...\n3           MaleEvenToned  Don't like those eyes you got. There's a bad h...\n4   MaleEvenTonedAccented  Don't like those eyes you got. There's a bad h...\n5         FemaleEvenToned  Don't like those eyes you got. There's a bad h...\n6                MaleNord  Don't like those eyes you got. There's a bad h...\n7              FemaleNord  Don't like those eyes you got. There's a bad h...\n8            MaleCommoner  Your skin's as pale as the snow. You scared of...\n9    MaleCommonerAccented  Your skin's as pale as the snow. You scared of...\n10         FemaleCommoner  Your skin's as pale as the snow. You scared of...\n11          MaleEvenToned  Your skin's as pale as the snow. You scared of...\n12  MaleEvenTonedAccented  Your skin's as pale as the snow. You scared of...\n13        FemaleEvenToned  Your skin's as pale as the snow. You scared of...\n14               MaleNord  Your skin's as pale as the snow. You scared of...\n15             FemaleNord  Your skin's as pale as the snow. You scared of...",
      "text/html": "<div>\n<style scoped>\n    .dataframe tbody tr th:only-of-type {\n        vertical-align: middle;\n    }\n\n    .dataframe tbody tr th {\n        vertical-align: top;\n    }\n\n    .dataframe thead th {\n        text-align: right;\n    }\n</style>\n<table border=\"1\" class=\"dataframe\">\n  <thead>\n    <tr style=\"text-align: right;\">\n      <th></th>\n      <th>Voicetype</th>\n      <th>Dialogue</th>\n    </tr>\n  </thead>\n  <tbody>\n    <tr>\n      <th>0</th>\n      <td>MaleCommoner</td>\n      <td>Don't like those eyes you got. There's a bad h...</td>\n    </tr>\n    <tr>\n      <th>1</th>\n      <td>MaleCommonerAccented</td>\n      <td>Don't like those eyes you got. There's a bad h...</td>\n    </tr>\n    <tr>\n      <th>2</th>\n      <td>FemaleCommoner</td>\n      <td>Don't like those eyes you got. There's a bad h...</td>\n    </tr>\n    <tr>\n      <th>3</th>\n      <td>MaleEvenToned</td>\n      <td>Don't like those eyes you got. There's a bad h...</td>\n    </tr>\n    <tr>\n      <th>4</th>\n      <td>MaleEvenTonedAccented</td>\n      <td>Don't like those eyes you got. There's a bad h...</td>\n    </tr>\n    <tr>\n      <th>5</th>\n      <td>FemaleEvenToned</td>\n      <td>Don't like those eyes you got. There's a bad h...</td>\n    </tr>\n    <tr>\n      <th>6</th>\n      <td>MaleNord</td>\n      <td>Don't like those eyes you got. There's a bad h...</td>\n    </tr>\n    <tr>\n      <th>7</th>\n      <td>FemaleNord</td>\n      <td>Don't like those eyes you got. There's a bad h...</td>\n    </tr>\n    <tr>\n      <th>8</th>\n      <td>MaleCommoner</td>\n      <td>Your skin's as pale as the snow. You scared of...</td>\n    </tr>\n    <tr>\n      <th>9</th>\n      <td>MaleCommonerAccented</td>\n      <td>Your skin's as pale as the snow. You scared of...</td>\n    </tr>\n    <tr>\n      <th>10</th>\n      <td>FemaleCommoner</td>\n      <td>Your skin's as pale as the snow. You scared of...</td>\n    </tr>\n    <tr>\n      <th>11</th>\n      <td>MaleEvenToned</td>\n      <td>Your skin's as pale as the snow. You scared of...</td>\n    </tr>\n    <tr>\n      <th>12</th>\n      <td>MaleEvenTonedAccented</td>\n      <td>Your skin's as pale as the snow. You scared of...</td>\n    </tr>\n    <tr>\n      <th>13</th>\n      <td>FemaleEvenToned</td>\n      <td>Your skin's as pale as the snow. You scared of...</td>\n    </tr>\n    <tr>\n      <th>14</th>\n      <td>MaleNord</td>\n      <td>Your skin's as pale as the snow. You scared of...</td>\n    </tr>\n    <tr>\n      <th>15</th>\n      <td>FemaleNord</td>\n      <td>Your skin's as pale as the snow. You scared of...</td>\n    </tr>\n  </tbody>\n</table>\n</div>"
     },
     "execution_count": 16,
     "metadata": {},
     "output_type": "execute_result"
    }
   ],
   "source": [
    "vampire"
   ],
   "metadata": {
    "collapsed": false,
    "ExecuteTime": {
     "end_time": "2024-06-16T09:07:40.999758900Z",
     "start_time": "2024-06-16T09:07:40.422386100Z"
    }
   },
   "id": "bd20f162852058c0",
   "execution_count": 16
  },
  {
   "cell_type": "markdown",
   "source": [
    "Transforming the data in the Vampire dataframe to a list of dictionaries with the needed structure for training and storing those dictionaries in the data variable"
   ],
   "metadata": {
    "collapsed": false
   },
   "id": "fb0b382e0b4fa92b"
  },
  {
   "cell_type": "code",
   "outputs": [],
   "source": [
    "# add the vampire dataframe to the json file\n",
    "Vampire_data = [\n",
    "    {\n",
    "    \"Speaker\": vampire['Voicetype'][index],\n",
    "    \"Dialogue\": vampire['Dialogue'][index],\n",
    "    \"Event\": \"the Player being a vampire in front of an NPC\",\n",
    "} for index, row in vampire.iterrows()]\n",
    "\n",
    "data = data + Vampire_data"
   ],
   "metadata": {
    "collapsed": false,
    "ExecuteTime": {
     "end_time": "2024-06-16T09:07:41.018763600Z",
     "start_time": "2024-06-16T09:07:40.433111900Z"
    }
   },
   "id": "9bc445e791d9f12c",
   "execution_count": 17
  },
  {
   "cell_type": "markdown",
   "source": [
    "We also create a JSON file with all of the dictionaries of the Vampire_data"
   ],
   "metadata": {
    "collapsed": false
   },
   "id": "a0a505ca9257d2b7"
  },
  {
   "cell_type": "code",
   "outputs": [],
   "source": [
    "#writing the vampire data to a json file on the testing_for_error folder\n",
    "with open('testing_for_error/Vampire_data.json', 'w') as f:\n",
    "    f.write(json.dumps(Vampire_data, indent=4))"
   ],
   "metadata": {
    "collapsed": false,
    "ExecuteTime": {
     "end_time": "2024-06-16T09:07:41.023188300Z",
     "start_time": "2024-06-16T09:07:40.442057600Z"
    }
   },
   "id": "5f33e3c96957db5b",
   "execution_count": 18
  },
  {
   "cell_type": "markdown",
   "source": [
    "#### Werewolf sheet\n",
    "\n",
    "From the Werewolf sheet and below the data in the excel file were manipulated to fit our case better, so we won't have to do significant to the data in the dataframe and sace time."
   ],
   "metadata": {
    "collapsed": false
   },
   "id": "ab69c010ca124f72"
  },
  {
   "cell_type": "markdown",
   "source": [
    "Importing the Werewolf sheet and removing the \\xa0 character from the dataframe"
   ],
   "metadata": {
    "collapsed": false
   },
   "id": "608527abfc0f07b9"
  },
  {
   "cell_type": "code",
   "outputs": [],
   "source": [
    "werewolf = pd.read_excel('testing_excel.xlsx', sheet_name='Werewolf')\n",
    "werewolf = werewolf.replace(u'\\xa0', u' ', regex=True)"
   ],
   "metadata": {
    "collapsed": false,
    "ExecuteTime": {
     "end_time": "2024-06-16T09:07:41.092261500Z",
     "start_time": "2024-06-16T09:07:40.450551500Z"
    }
   },
   "id": "810fae084ccb8708",
   "execution_count": 19
  },
  {
   "cell_type": "code",
   "outputs": [
    {
     "data": {
      "text/plain": "                Voicetype                            Dialogue\n0                   Guard                           Werewolf!\n1                   Guard  It's a werewolf! To arms! To arms!\n2                   Guard       By the gods! It..it can't be!\n3            MaleCommoner               Come on! You monster!\n4    MaleCommonerAccented               Come on! You monster!\n5          FemaleCommoner               Come on! You monster!\n6           MaleEvenToned               Come on! You monster!\n7   MaleEvenTonedAccented               Come on! You monster!\n8         FemaleEvenToned               Come on! You monster!\n9                MaleNord               Come on! You monster!\n10             FemaleNord               Come on! You monster!\n11           MaleCommoner              Die, you filthy beast!\n12   MaleCommonerAccented              Die, you filthy beast!\n13         FemaleCommoner              Die, you filthy beast!\n14          MaleEvenToned              Die, you filthy beast!\n15  MaleEvenTonedAccented              Die, you filthy beast!\n16        FemaleEvenToned              Die, you filthy beast!\n17               MaleNord              Die, you filthy beast!\n18             FemaleNord              Die, you filthy beast!\n19           MaleCommoner         Werewolf! Kill the monster!\n20   MaleCommonerAccented         Werewolf! Kill the monster!\n21         FemaleCommoner         Werewolf! Kill the monster!\n22          MaleEvenToned         Werewolf! Kill the monster!\n23  MaleEvenTonedAccented         Werewolf! Kill the monster!\n24        FemaleEvenToned         Werewolf! Kill the monster!\n25               MaleNord         Werewolf! Kill the monster!\n26             FemaleNord         Werewolf! Kill the monster!",
      "text/html": "<div>\n<style scoped>\n    .dataframe tbody tr th:only-of-type {\n        vertical-align: middle;\n    }\n\n    .dataframe tbody tr th {\n        vertical-align: top;\n    }\n\n    .dataframe thead th {\n        text-align: right;\n    }\n</style>\n<table border=\"1\" class=\"dataframe\">\n  <thead>\n    <tr style=\"text-align: right;\">\n      <th></th>\n      <th>Voicetype</th>\n      <th>Dialogue</th>\n    </tr>\n  </thead>\n  <tbody>\n    <tr>\n      <th>0</th>\n      <td>Guard</td>\n      <td>Werewolf!</td>\n    </tr>\n    <tr>\n      <th>1</th>\n      <td>Guard</td>\n      <td>It's a werewolf! To arms! To arms!</td>\n    </tr>\n    <tr>\n      <th>2</th>\n      <td>Guard</td>\n      <td>By the gods! It..it can't be!</td>\n    </tr>\n    <tr>\n      <th>3</th>\n      <td>MaleCommoner</td>\n      <td>Come on! You monster!</td>\n    </tr>\n    <tr>\n      <th>4</th>\n      <td>MaleCommonerAccented</td>\n      <td>Come on! You monster!</td>\n    </tr>\n    <tr>\n      <th>5</th>\n      <td>FemaleCommoner</td>\n      <td>Come on! You monster!</td>\n    </tr>\n    <tr>\n      <th>6</th>\n      <td>MaleEvenToned</td>\n      <td>Come on! You monster!</td>\n    </tr>\n    <tr>\n      <th>7</th>\n      <td>MaleEvenTonedAccented</td>\n      <td>Come on! You monster!</td>\n    </tr>\n    <tr>\n      <th>8</th>\n      <td>FemaleEvenToned</td>\n      <td>Come on! You monster!</td>\n    </tr>\n    <tr>\n      <th>9</th>\n      <td>MaleNord</td>\n      <td>Come on! You monster!</td>\n    </tr>\n    <tr>\n      <th>10</th>\n      <td>FemaleNord</td>\n      <td>Come on! You monster!</td>\n    </tr>\n    <tr>\n      <th>11</th>\n      <td>MaleCommoner</td>\n      <td>Die, you filthy beast!</td>\n    </tr>\n    <tr>\n      <th>12</th>\n      <td>MaleCommonerAccented</td>\n      <td>Die, you filthy beast!</td>\n    </tr>\n    <tr>\n      <th>13</th>\n      <td>FemaleCommoner</td>\n      <td>Die, you filthy beast!</td>\n    </tr>\n    <tr>\n      <th>14</th>\n      <td>MaleEvenToned</td>\n      <td>Die, you filthy beast!</td>\n    </tr>\n    <tr>\n      <th>15</th>\n      <td>MaleEvenTonedAccented</td>\n      <td>Die, you filthy beast!</td>\n    </tr>\n    <tr>\n      <th>16</th>\n      <td>FemaleEvenToned</td>\n      <td>Die, you filthy beast!</td>\n    </tr>\n    <tr>\n      <th>17</th>\n      <td>MaleNord</td>\n      <td>Die, you filthy beast!</td>\n    </tr>\n    <tr>\n      <th>18</th>\n      <td>FemaleNord</td>\n      <td>Die, you filthy beast!</td>\n    </tr>\n    <tr>\n      <th>19</th>\n      <td>MaleCommoner</td>\n      <td>Werewolf! Kill the monster!</td>\n    </tr>\n    <tr>\n      <th>20</th>\n      <td>MaleCommonerAccented</td>\n      <td>Werewolf! Kill the monster!</td>\n    </tr>\n    <tr>\n      <th>21</th>\n      <td>FemaleCommoner</td>\n      <td>Werewolf! Kill the monster!</td>\n    </tr>\n    <tr>\n      <th>22</th>\n      <td>MaleEvenToned</td>\n      <td>Werewolf! Kill the monster!</td>\n    </tr>\n    <tr>\n      <th>23</th>\n      <td>MaleEvenTonedAccented</td>\n      <td>Werewolf! Kill the monster!</td>\n    </tr>\n    <tr>\n      <th>24</th>\n      <td>FemaleEvenToned</td>\n      <td>Werewolf! Kill the monster!</td>\n    </tr>\n    <tr>\n      <th>25</th>\n      <td>MaleNord</td>\n      <td>Werewolf! Kill the monster!</td>\n    </tr>\n    <tr>\n      <th>26</th>\n      <td>FemaleNord</td>\n      <td>Werewolf! Kill the monster!</td>\n    </tr>\n  </tbody>\n</table>\n</div>"
     },
     "execution_count": 20,
     "metadata": {},
     "output_type": "execute_result"
    }
   ],
   "source": [
    "werewolf"
   ],
   "metadata": {
    "collapsed": false,
    "ExecuteTime": {
     "end_time": "2024-06-16T09:07:41.093261800Z",
     "start_time": "2024-06-16T09:07:40.511442800Z"
    }
   },
   "id": "4de40c6810b3ed84",
   "execution_count": 20
  },
  {
   "cell_type": "markdown",
   "source": [
    "Transforming the data in the Werewolf dataframe to a list of dictionaries with the needed structure for training and storing those dictionaries in the data variable"
   ],
   "metadata": {
    "collapsed": false
   },
   "id": "8a0f9a2d6acdc8bb"
  },
  {
   "cell_type": "code",
   "outputs": [],
   "source": [
    "#add the werewolf dataframe to the json file\n",
    "Werewolf_data = [\n",
    "    {\n",
    "    \"Speaker\": werewolf['Voicetype'][index],\n",
    "    \"Dialogue\": werewolf['Dialogue'][index],\n",
    "    \"Event\": \"the Player being a werewolf in front of an NPC\",\n",
    "    \"Condition\": \"the Player has transformed into a werewolf\"\n",
    "} for index, row in werewolf.iterrows()]\n",
    "\n",
    "data = data + Werewolf_data"
   ],
   "metadata": {
    "collapsed": false,
    "ExecuteTime": {
     "end_time": "2024-06-16T09:07:41.098263600Z",
     "start_time": "2024-06-16T09:07:40.519480300Z"
    }
   },
   "id": "62632bcee8a92d39",
   "execution_count": 21
  },
  {
   "cell_type": "markdown",
   "source": [
    "We also create a JSON file with all of the dictionaries of the Werewolf_data"
   ],
   "metadata": {
    "collapsed": false
   },
   "id": "4c8c5d3c47e4e24f"
  },
  {
   "cell_type": "code",
   "outputs": [],
   "source": [
    "#write the werewolf data to a json file in the testing_for_error folder\n",
    "with open('testing_for_error/Werewolf_data.json', 'w') as f:\n",
    "    f.write(json.dumps(Werewolf_data, indent=4))"
   ],
   "metadata": {
    "collapsed": false,
    "ExecuteTime": {
     "end_time": "2024-06-16T09:07:41.149275300Z",
     "start_time": "2024-06-16T09:07:40.528035900Z"
    }
   },
   "id": "b4475c4c28804fd2",
   "execution_count": 22
  },
  {
   "cell_type": "markdown",
   "source": [
    "#### Generic_Events sheet"
   ],
   "metadata": {
    "collapsed": false
   },
   "id": "a715825f6036a58"
  },
  {
   "cell_type": "markdown",
   "source": [
    "Importing the Generic_Events sheet and removing the \\xa0 character from the dataframe"
   ],
   "metadata": {
    "collapsed": false
   },
   "id": "66628ad9baefcf32"
  },
  {
   "cell_type": "code",
   "outputs": [],
   "source": [
    "#import the Generic_Events sheet\n",
    "generic_events = pd.read_excel('testing_excel.xlsx', sheet_name='Generic_Events')\n",
    "generic_events = generic_events.replace(u'\\xa0', u' ', regex=True)"
   ],
   "metadata": {
    "collapsed": false,
    "ExecuteTime": {
     "end_time": "2024-06-16T09:07:41.183399300Z",
     "start_time": "2024-06-16T09:07:40.536644100Z"
    }
   },
   "id": "4408e566648c2e34",
   "execution_count": 23
  },
  {
   "cell_type": "code",
   "outputs": [
    {
     "data": {
      "text/plain": "                         Event  \\\n0    an NPC witnessing a theft   \n1    an NPC witnessing a theft   \n2       the Player trespassing   \n3       the Player trespassing   \n4       the Player trespassing   \n..                         ...   \n89  an NPC witnessing a murder   \n90  an NPC witnessing a murder   \n91  an NPC witnessing a murder   \n92  an NPC witnessing a murder   \n93  an NPC witnessing a murder   \n\n                                             Dialogue  \n0                                    You dirty thief!  \n1                                        Stop, thief!  \n2                  You're not supposed to be in here.  \n3                           Last warning. Leave, now.  \n4   I'm not going to warn you again. Get out, or I...  \n..                                                ...  \n89                          Guess they deserved it...  \n90                               What's done is done.  \n91    Well... that was an unpleasant bit of business.  \n92          I didn't know you were so cold-blooded...  \n93                   Remind me not to make you angry.  \n\n[94 rows x 2 columns]",
      "text/html": "<div>\n<style scoped>\n    .dataframe tbody tr th:only-of-type {\n        vertical-align: middle;\n    }\n\n    .dataframe tbody tr th {\n        vertical-align: top;\n    }\n\n    .dataframe thead th {\n        text-align: right;\n    }\n</style>\n<table border=\"1\" class=\"dataframe\">\n  <thead>\n    <tr style=\"text-align: right;\">\n      <th></th>\n      <th>Event</th>\n      <th>Dialogue</th>\n    </tr>\n  </thead>\n  <tbody>\n    <tr>\n      <th>0</th>\n      <td>an NPC witnessing a theft</td>\n      <td>You dirty thief!</td>\n    </tr>\n    <tr>\n      <th>1</th>\n      <td>an NPC witnessing a theft</td>\n      <td>Stop, thief!</td>\n    </tr>\n    <tr>\n      <th>2</th>\n      <td>the Player trespassing</td>\n      <td>You're not supposed to be in here.</td>\n    </tr>\n    <tr>\n      <th>3</th>\n      <td>the Player trespassing</td>\n      <td>Last warning. Leave, now.</td>\n    </tr>\n    <tr>\n      <th>4</th>\n      <td>the Player trespassing</td>\n      <td>I'm not going to warn you again. Get out, or I...</td>\n    </tr>\n    <tr>\n      <th>...</th>\n      <td>...</td>\n      <td>...</td>\n    </tr>\n    <tr>\n      <th>89</th>\n      <td>an NPC witnessing a murder</td>\n      <td>Guess they deserved it...</td>\n    </tr>\n    <tr>\n      <th>90</th>\n      <td>an NPC witnessing a murder</td>\n      <td>What's done is done.</td>\n    </tr>\n    <tr>\n      <th>91</th>\n      <td>an NPC witnessing a murder</td>\n      <td>Well... that was an unpleasant bit of business.</td>\n    </tr>\n    <tr>\n      <th>92</th>\n      <td>an NPC witnessing a murder</td>\n      <td>I didn't know you were so cold-blooded...</td>\n    </tr>\n    <tr>\n      <th>93</th>\n      <td>an NPC witnessing a murder</td>\n      <td>Remind me not to make you angry.</td>\n    </tr>\n  </tbody>\n</table>\n<p>94 rows × 2 columns</p>\n</div>"
     },
     "execution_count": 24,
     "metadata": {},
     "output_type": "execute_result"
    }
   ],
   "source": [
    "generic_events"
   ],
   "metadata": {
    "collapsed": false,
    "ExecuteTime": {
     "end_time": "2024-06-16T09:07:41.198403400Z",
     "start_time": "2024-06-16T09:07:40.600481100Z"
    }
   },
   "id": "d123cb6829afe9d5",
   "execution_count": 24
  },
  {
   "cell_type": "markdown",
   "source": [
    "Transforming the data in the Generic_Events dataframe to a list of dictionaries with the needed structure for training and storing those dictionaries in the data variable"
   ],
   "metadata": {
    "collapsed": false
   },
   "id": "ddf0ae521778c100"
  },
  {
   "cell_type": "code",
   "outputs": [],
   "source": [
    "#add the generic_events dataframe to the json file\n",
    "Generic_Events_data = [\n",
    "    {\n",
    "    \"Speaker\": \"Any\",\n",
    "    \"Dialogue\": generic_events['Dialogue'][index],\n",
    "    \"Event\": generic_events['Event'][index],\n",
    "} for index, row in generic_events.iterrows()]\n",
    "\n",
    "data = data + Generic_Events_data"
   ],
   "metadata": {
    "collapsed": false,
    "ExecuteTime": {
     "end_time": "2024-06-16T09:07:41.246167300Z",
     "start_time": "2024-06-16T09:07:40.608137500Z"
    }
   },
   "id": "6ca4a49bd9757cf3",
   "execution_count": 25
  },
  {
   "cell_type": "markdown",
   "source": [
    "We also create a JSON file with all of the dictionaries of the Generic_Events_data"
   ],
   "metadata": {
    "collapsed": false
   },
   "id": "a481a960fa35a7bd"
  },
  {
   "cell_type": "code",
   "outputs": [],
   "source": [
    "#write the generic_events data to a json file in the testing_for_error folder\n",
    "with open('testing_for_error/Generic_Events_data.json', 'w') as f:\n",
    "    f.write(json.dumps(Generic_Events_data, indent=4))"
   ],
   "metadata": {
    "collapsed": false,
    "ExecuteTime": {
     "end_time": "2024-06-16T09:07:41.898394300Z",
     "start_time": "2024-06-16T09:07:40.619466900Z"
    }
   },
   "id": "7e070383d9f42cb1",
   "execution_count": 26
  },
  {
   "cell_type": "markdown",
   "source": [
    "#### Flames_Gifts sheet"
   ],
   "metadata": {
    "collapsed": false
   },
   "id": "f7ca4c5cdcc9b873"
  },
  {
   "cell_type": "markdown",
   "source": [
    "Importing the Flames_Gifts sheet and removing the \\xa0 character from the dataframe"
   ],
   "metadata": {
    "collapsed": false
   },
   "id": "516e9a189e980dae"
  },
  {
   "cell_type": "code",
   "outputs": [],
   "source": [
    "# import the Flames_Girls sheet\n",
    "flames_gifts= pd.read_excel('testing_excel.xlsx', sheet_name='Flames_Gifts')"
   ],
   "metadata": {
    "collapsed": false,
    "ExecuteTime": {
     "end_time": "2024-06-16T09:07:41.977548200Z",
     "start_time": "2024-06-16T09:07:40.627468900Z"
    }
   },
   "id": "59aa006189acd3b2",
   "execution_count": 27
  },
  {
   "cell_type": "code",
   "outputs": [],
   "source": [
    "flames_gifts = flames_gifts.replace(u'\\xa0', u' ', regex=True)"
   ],
   "metadata": {
    "collapsed": false,
    "ExecuteTime": {
     "end_time": "2024-06-16T09:07:41.983549300Z",
     "start_time": "2024-06-16T09:07:40.686469Z"
    }
   },
   "id": "9e3121c382f3dc58",
   "execution_count": 28
  },
  {
   "cell_type": "markdown",
   "source": [
    "Transforming the data in the Flames_Gifts dataframe to a list of dictionaries with the needed structure for training and storing those dictionaries in the data variable"
   ],
   "metadata": {
    "collapsed": false
   },
   "id": "b072be429460cf3c"
  },
  {
   "cell_type": "code",
   "outputs": [],
   "source": [
    "#add the flames_gifts dataframe to the json file\n",
    "Flames_Gifts_data = [\n",
    "    {\n",
    "    \"Speaker\": flames_gifts['Voicetype'][index],\n",
    "    \"Dialogue\": flames_gifts['Dialogue'][index],\n",
    "    \"Event\": flames_gifts['Event'][index],\n",
    "    } for index, row in flames_gifts.iterrows()]\n",
    "\n",
    "data = data + Flames_Gifts_data"
   ],
   "metadata": {
    "collapsed": false,
    "ExecuteTime": {
     "end_time": "2024-06-16T09:07:42.119691100Z",
     "start_time": "2024-06-16T09:07:40.689159700Z"
    }
   },
   "id": "7e3c41a3021f1d3c",
   "execution_count": 29
  },
  {
   "cell_type": "markdown",
   "source": [
    "We also create a JSON file with all of the dictionaries of the Flames_Gifts_data"
   ],
   "metadata": {
    "collapsed": false
   },
   "id": "ff734be2bf92a71d"
  },
  {
   "cell_type": "code",
   "outputs": [],
   "source": [
    "#write the flames_gifts data to a json file in the testing_for_error folder\n",
    "with open('testing_for_error/Flames_Gifts_data.json', 'w') as f:\n",
    "    f.write(json.dumps(Flames_Gifts_data, indent=4))"
   ],
   "metadata": {
    "collapsed": false,
    "ExecuteTime": {
     "end_time": "2024-06-16T09:07:42.147934300Z",
     "start_time": "2024-06-16T09:07:40.700105700Z"
    }
   },
   "id": "319f2a802def958",
   "execution_count": 30
  },
  {
   "cell_type": "markdown",
   "source": [
    "#### Fighting_Over_Item sheet"
   ],
   "metadata": {
    "collapsed": false
   },
   "id": "833016ad6e41716a"
  },
  {
   "cell_type": "markdown",
   "source": [
    "Importing the Fighting_Over_Item sheet and removing the \\xa0 character from the dataframe"
   ],
   "metadata": {
    "collapsed": false
   },
   "id": "78d33a697f9afcb9"
  },
  {
   "cell_type": "code",
   "outputs": [],
   "source": [
    "#import the fighting_over_item sheet\n",
    "fighting_over_item = pd.read_excel('testing_excel.xlsx', sheet_name='fighting_over_item')\n",
    "fighting_over_item = fighting_over_item.replace(u'\\xa0', u' ', regex=True)"
   ],
   "metadata": {
    "collapsed": false,
    "ExecuteTime": {
     "end_time": "2024-06-16T09:07:42.167939400Z",
     "start_time": "2024-06-16T09:07:40.709199600Z"
    }
   },
   "id": "885d45bccf3f860c",
   "execution_count": 31
  },
  {
   "cell_type": "markdown",
   "source": [
    "Transforming the data in the Fighting_Over_Item dataframe to a list of dictionaries with the needed structure for training and storing those dictionaries in the data variable"
   ],
   "metadata": {
    "collapsed": false
   },
   "id": "b57477c8ad79efa2"
  },
  {
   "cell_type": "code",
   "outputs": [],
   "source": [
    "fighting_over_item_data = [\n",
    "    {\n",
    "    \"Speaker\": fighting_over_item['Voicetype'][index],\n",
    "    \"Dialogue\": fighting_over_item['Dialogue'][index],\n",
    "    \"Event\": fighting_over_item['Event'][index],\n",
    "    \"Line_of_dialogue\": fighting_over_item['Line_of_dialogue'][index],\n",
    "    } for index, row in fighting_over_item.iterrows()]\n",
    "\n",
    "data = data + fighting_over_item_data"
   ],
   "metadata": {
    "collapsed": false,
    "ExecuteTime": {
     "end_time": "2024-06-16T09:07:42.173940800Z",
     "start_time": "2024-06-16T09:07:40.769295200Z"
    }
   },
   "id": "23fb80bbce552f64",
   "execution_count": 32
  },
  {
   "cell_type": "markdown",
   "source": [
    "We also create a JSON file with all of the dictionaries of the Fighting_Over_Item_data"
   ],
   "metadata": {
    "collapsed": false
   },
   "id": "e7acad1239f31255"
  },
  {
   "cell_type": "code",
   "outputs": [],
   "source": [
    "#write the fighting_over_item data to a json file in the testing_for_error folder\n",
    "with open('testing_for_error/fighting_over_item_data.json', 'w') as f:\n",
    "    f.write(json.dumps(fighting_over_item_data, indent=4))"
   ],
   "metadata": {
    "collapsed": false,
    "ExecuteTime": {
     "end_time": "2024-06-16T09:07:42.178941500Z",
     "start_time": "2024-06-16T09:07:40.773976900Z"
    }
   },
   "id": "8d2bdc2cc8ac6e26",
   "execution_count": 33
  },
  {
   "cell_type": "markdown",
   "source": [
    "#### Return_Bumping_Naked sheet"
   ],
   "metadata": {
    "collapsed": false
   },
   "id": "4df1763cfbce6ac6"
  },
  {
   "cell_type": "markdown",
   "source": [
    "Importing the Return_Bumping_Naked sheet and removing the \\xa0 character from the dataframe"
   ],
   "metadata": {
    "collapsed": false
   },
   "id": "48f243ac595f8a99"
  },
  {
   "cell_type": "code",
   "outputs": [],
   "source": [
    "#read the sheet return&bumping&naked\n",
    "return_bumping_naked = pd.read_excel('testing_excel.xlsx', sheet_name='return&bumping&naked')\n",
    "return_bumping_naked = return_bumping_naked.replace(u'\\xa0', u' ', regex=True)"
   ],
   "metadata": {
    "collapsed": false,
    "ExecuteTime": {
     "end_time": "2024-06-16T09:07:42.197982500Z",
     "start_time": "2024-06-16T09:07:40.782951Z"
    }
   },
   "id": "f4c3051e25122e1f",
   "execution_count": 34
  },
  {
   "cell_type": "markdown",
   "source": [
    "Transforming the data in the Return_Bumping_Naked dataframe to a list of dictionaries with the needed structure for training and storing those dictionaries in the data variable"
   ],
   "metadata": {
    "collapsed": false
   },
   "id": "b59bdbd7cd265b70"
  },
  {
   "cell_type": "code",
   "outputs": [],
   "source": [
    "#add the return_bumping_naked dataframe to the json file\n",
    "return_bumping_naked_data = [\n",
    "    {\n",
    "    \"Speaker\": return_bumping_naked['Voicetype'][index],\n",
    "    \"Dialogue\": return_bumping_naked['Dialogue'][index],\n",
    "    \"Event\": return_bumping_naked['Event'][index],\n",
    "    } for index, row in return_bumping_naked.iterrows()]\n",
    "\n",
    "data = data + return_bumping_naked_data"
   ],
   "metadata": {
    "collapsed": false,
    "ExecuteTime": {
     "end_time": "2024-06-16T09:07:42.217877100Z",
     "start_time": "2024-06-16T09:07:40.848761400Z"
    }
   },
   "id": "68d725bd6df90268",
   "execution_count": 35
  },
  {
   "cell_type": "markdown",
   "source": [
    "We also create a JSON file with all of the dictionaries of the Return_Bumping_Naked_data"
   ],
   "metadata": {
    "collapsed": false
   },
   "id": "c26299122713a96f"
  },
  {
   "cell_type": "code",
   "outputs": [],
   "source": [
    "#write the return_bumping_naked data to a json file in the testing_for_error folder\n",
    "with open('testing_for_error/return_bumping_naked_data.json', 'w') as f:\n",
    "    f.write(json.dumps(return_bumping_naked_data, indent=4))"
   ],
   "metadata": {
    "collapsed": false,
    "ExecuteTime": {
     "end_time": "2024-06-16T09:07:42.224813800Z",
     "start_time": "2024-06-16T09:07:40.857411600Z"
    }
   },
   "id": "acd99d2578a29360",
   "execution_count": 36
  },
  {
   "cell_type": "markdown",
   "source": [
    "#### Asking_armor sheet"
   ],
   "metadata": {
    "collapsed": false
   },
   "id": "16237612d71278d1"
  },
  {
   "cell_type": "markdown",
   "source": [
    "Importing the Asking_armor sheet and removing the \\xa0 character from the dataframe"
   ],
   "metadata": {
    "collapsed": false
   },
   "id": "b1ae8e8c597a2317"
  },
  {
   "cell_type": "code",
   "outputs": [],
   "source": [
    "# read the sheet Asking_armor\n",
    "asking_armor = pd.read_excel('testing_excel.xlsx', sheet_name='Asking_armor')\n",
    "asking_armor = asking_armor.replace(u'\\xa0', u' ', regex=True)"
   ],
   "metadata": {
    "collapsed": false,
    "ExecuteTime": {
     "end_time": "2024-06-16T09:07:42.260612400Z",
     "start_time": "2024-06-16T09:07:40.865824500Z"
    }
   },
   "id": "5940e5e949a732a9",
   "execution_count": 37
  },
  {
   "cell_type": "markdown",
   "source": [
    "Removing the nan values in the asking_armor dataframe and replacing them with None so we can have the correct format for the JSON file"
   ],
   "metadata": {
    "collapsed": false
   },
   "id": "f2b93743db9dc48d"
  },
  {
   "cell_type": "code",
   "outputs": [],
   "source": [
    "asking_armor = asking_armor.where(pd.notnull(asking_armor), None)"
   ],
   "metadata": {
    "collapsed": false,
    "ExecuteTime": {
     "end_time": "2024-06-16T09:07:42.274615700Z",
     "start_time": "2024-06-16T09:07:40.936451100Z"
    }
   },
   "id": "29c97062c61e48a5",
   "execution_count": 38
  },
  {
   "cell_type": "markdown",
   "source": [
    "Transforming the data in the Asking_armor dataframe to a list of dictionaries with the needed structure for training and storing those dictionaries in the data variable"
   ],
   "metadata": {
    "collapsed": false
   },
   "id": "df80f97fc9535436"
  },
  {
   "cell_type": "code",
   "outputs": [],
   "source": [
    "#add the asking_armor dataframe to the json file\n",
    "asking_armor_data = [\n",
    "    {\n",
    "    \"Speaker\": asking_armor['Voicetype'][index],\n",
    "    \"Dialogue\": asking_armor['Dialogue'][index],\n",
    "    \"Event\": asking_armor['Event'][index],\n",
    "    \"Response_to\": asking_armor['Response_to'][index]\n",
    "    } for index, row in asking_armor.iterrows()]\n",
    "\n",
    "data = data + asking_armor_data"
   ],
   "metadata": {
    "collapsed": false,
    "ExecuteTime": {
     "end_time": "2024-06-16T09:07:42.293619300Z",
     "start_time": "2024-06-16T09:07:40.939711900Z"
    }
   },
   "id": "46a48f29e1caafa6",
   "execution_count": 39
  },
  {
   "cell_type": "markdown",
   "source": [
    "We also create a JSON file with all of the dictionaries of the Asking_armor_data"
   ],
   "metadata": {
    "collapsed": false
   },
   "id": "a46b4a93a10f4e5d"
  },
  {
   "cell_type": "code",
   "outputs": [],
   "source": [
    "#write the asking_armor data to a json file in the testing_for_error folder\n",
    "with open('testing_for_error/asking_armor_data.json', 'w') as f:\n",
    "    f.write(json.dumps(asking_armor_data, indent=4))"
   ],
   "metadata": {
    "collapsed": false,
    "ExecuteTime": {
     "end_time": "2024-06-16T09:07:42.303664900Z",
     "start_time": "2024-06-16T09:07:40.950745300Z"
    }
   },
   "id": "750bab23c494baa9",
   "execution_count": 40
  },
  {
   "cell_type": "markdown",
   "source": [
    "#### Spells&robes sheet"
   ],
   "metadata": {
    "collapsed": false
   },
   "id": "3de6015d67fc84f5"
  },
  {
   "cell_type": "markdown",
   "source": [
    "Importing the Spells&robes sheet and removing and replacing the nessary characters from the dataframe"
   ],
   "metadata": {
    "collapsed": false
   },
   "id": "1cac32cb2535ab34"
  },
  {
   "cell_type": "code",
   "outputs": [],
   "source": [
    "#read the sheet Spells&robes\n",
    "spells_robes = pd.read_excel('testing_excel.xlsx', sheet_name='Spells&robes')\n",
    "spells_robes = spells_robes.replace(u'\\xa0', u' ', regex=True)\n",
    "#remove the \\u2019 character from the dataframe\n",
    "spells_robes = spells_robes.replace(u'\\u2019', \"'\", regex=True)\n",
    "#remove the \\u00a0 character from the dataframe\n",
    "spells_robes = spells_robes.replace(u'\\u00a0', ' ', regex=True)"
   ],
   "metadata": {
    "collapsed": false,
    "ExecuteTime": {
     "end_time": "2024-06-16T09:07:42.370284300Z",
     "start_time": "2024-06-16T09:07:40.962750200Z"
    }
   },
   "id": "267fe540b8820b95",
   "execution_count": 41
  },
  {
   "cell_type": "markdown",
   "source": [
    "Transforming the data in the Spells&robes dataframe to a list of dictionaries with the needed structure for training and storing those dictionaries in the data variable"
   ],
   "metadata": {
    "collapsed": false
   },
   "id": "8f9a4fc4da39a32c"
  },
  {
   "cell_type": "code",
   "outputs": [],
   "source": [
    "#add the spells_robes dataframe to the json file\n",
    "spells_robes_data = [\n",
    "    {\n",
    "    \"Speaker\": spells_robes['Voicetype'][index],\n",
    "    \"Dialogue\": spells_robes['Dialogue'][index],\n",
    "    \"Event\": spells_robes['Event'][index],\n",
    "    } for index, row in spells_robes.iterrows()]\n",
    "\n",
    "data = data + spells_robes_data"
   ],
   "metadata": {
    "collapsed": false,
    "ExecuteTime": {
     "end_time": "2024-06-16T09:07:42.380287Z",
     "start_time": "2024-06-16T09:07:41.023188300Z"
    }
   },
   "id": "4b8fb5f332daa75f",
   "execution_count": 42
  },
  {
   "cell_type": "markdown",
   "source": [
    "We also create a JSON file with all of the dictionaries of the spells_robes_data"
   ],
   "metadata": {
    "collapsed": false
   },
   "id": "de3e40e7f97fd958"
  },
  {
   "cell_type": "code",
   "outputs": [],
   "source": [
    "#write the spells_robes data to a json file in the testing_for_error folder\n",
    "with open('testing_for_error/spells_robes_data.json', 'w') as f:\n",
    "    f.write(json.dumps(spells_robes_data, indent=4))"
   ],
   "metadata": {
    "collapsed": false,
    "ExecuteTime": {
     "end_time": "2024-06-16T09:07:42.384287300Z",
     "start_time": "2024-06-16T09:07:41.035972100Z"
    }
   },
   "id": "f8253181b7411a0f",
   "execution_count": 43
  },
  {
   "cell_type": "markdown",
   "source": [
    "#### Shouting&Corpses sheet"
   ],
   "metadata": {
    "collapsed": false
   },
   "id": "d182fc2aac9e8e3b"
  },
  {
   "cell_type": "markdown",
   "source": [
    "Importing the Shouting&Corpses sheet and removing and replacing the nessary characters from the dataframe"
   ],
   "metadata": {
    "collapsed": false
   },
   "id": "6b6f6b2ef38b1c7f"
  },
  {
   "cell_type": "code",
   "outputs": [],
   "source": [
    "#read the sheet Shouting&Corpses\n",
    "shouting_corpses = pd.read_excel('testing_excel.xlsx', sheet_name='Shouting&Corpses')\n",
    "shouting_corpses = shouting_corpses.replace(u'\\xa0', u' ', regex=True)\n",
    "shouting_corpses = shouting_corpses.replace(u'\\u2019', \"'\", regex=True)\n",
    "shouting_corpses = shouting_corpses.replace(u'\\u00a0', ' ', regex=True)"
   ],
   "metadata": {
    "collapsed": false,
    "ExecuteTime": {
     "end_time": "2024-06-16T09:07:42.452897900Z",
     "start_time": "2024-06-16T09:07:41.045250400Z"
    }
   },
   "id": "26e033e9f00964c0",
   "execution_count": 44
  },
  {
   "cell_type": "markdown",
   "source": [
    "Transforming the data in the Shouting&Corpses dataframe to a list of dictionaries with the needed structure for training and storing those dictionaries in the data variable"
   ],
   "metadata": {
    "collapsed": false
   },
   "id": "5124b205b01b9229"
  },
  {
   "cell_type": "code",
   "outputs": [],
   "source": [
    "#add the shouting_corpses dataframe to the json file\n",
    "shouting_corpses_data = [\n",
    "    {\n",
    "    \"Speaker\": shouting_corpses['Voicetype'][index],\n",
    "    \"Dialogue\": shouting_corpses['Dialogue'][index],\n",
    "    \"Event\": shouting_corpses['Event'][index],\n",
    "    } for index, row in shouting_corpses.iterrows()]\n",
    "\n",
    "data = data + shouting_corpses_data"
   ],
   "metadata": {
    "collapsed": false,
    "ExecuteTime": {
     "end_time": "2024-06-16T09:07:42.461900Z",
     "start_time": "2024-06-16T09:07:41.159446700Z"
    }
   },
   "id": "59cf949f1996aa61",
   "execution_count": 45
  },
  {
   "cell_type": "markdown",
   "source": [
    "We also create a JSON file with all of the dictionaries of the shouting_corpses_data"
   ],
   "metadata": {
    "collapsed": false
   },
   "id": "5e577529a383fb12"
  },
  {
   "cell_type": "code",
   "outputs": [],
   "source": [
    "#write the shouting_corpses data to a json file in the testing_for_error folder\n",
    "with open('testing_for_error/shouting_corpses_data.json', 'w') as f:\n",
    "    f.write(json.dumps(shouting_corpses_data, indent=4))"
   ],
   "metadata": {
    "collapsed": false,
    "ExecuteTime": {
     "end_time": "2024-06-16T09:07:42.465900200Z",
     "start_time": "2024-06-16T09:07:41.168377700Z"
    }
   },
   "id": "5089220adcbf72bb",
   "execution_count": 46
  },
  {
   "cell_type": "markdown",
   "source": [
    "#### Combat_dialogue sheet"
   ],
   "metadata": {
    "collapsed": false
   },
   "id": "bc8d02d47d93622b"
  },
  {
   "cell_type": "markdown",
   "source": [
    "Importing the Combat_dialogue sheet and removing and replacing the nessary characters from the dataframe"
   ],
   "metadata": {
    "collapsed": false
   },
   "id": "c015c3c2e7eb0124"
  },
  {
   "cell_type": "code",
   "outputs": [],
   "source": [
    "#add the sheet combat_dialogue to the json file\n",
    "combat_dialogue = pd.read_excel('testing_excel.xlsx', sheet_name='combat_dialogue')\n",
    "combat_dialogue = combat_dialogue.replace(u'\\xa0', u' ', regex=True)\n",
    "combat_dialogue = combat_dialogue.replace(u'\\u2019', \"'\", regex=True)\n",
    "combat_dialogue = combat_dialogue.replace(u'\\u00a0', ' ', regex=True)"
   ],
   "metadata": {
    "collapsed": false,
    "ExecuteTime": {
     "end_time": "2024-06-16T09:07:42.553333900Z",
     "start_time": "2024-06-16T09:07:41.176398500Z"
    }
   },
   "id": "ee872cbb14a0b698",
   "execution_count": 47
  },
  {
   "cell_type": "markdown",
   "source": [
    "Transforming the data in the Combat_dialogue dataframe to a list of dictionaries with the needed structure for training and storing those dictionaries in the data variable"
   ],
   "metadata": {
    "collapsed": false
   },
   "id": "7a292ad0a27da95d"
  },
  {
   "cell_type": "code",
   "outputs": [],
   "source": [
    "combat_dialogue_data = [\n",
    "    {\n",
    "    \"Speaker\": \"Any\",\n",
    "    \"Dialogue\": combat_dialogue['Dialogue'][index],\n",
    "    \"Event\": combat_dialogue['Event'][index],\n",
    "    \"Condition\": combat_dialogue['Condition'][index]\n",
    "    } for index, row in combat_dialogue.iterrows()]\n",
    "\n",
    "data = data + combat_dialogue_data"
   ],
   "metadata": {
    "collapsed": false,
    "ExecuteTime": {
     "end_time": "2024-06-16T09:07:42.557334900Z",
     "start_time": "2024-06-16T09:07:41.237142Z"
    }
   },
   "id": "b27c033f6efeabd5",
   "execution_count": 48
  },
  {
   "cell_type": "markdown",
   "source": [
    "We also create a JSON file with all of the dictionaries of the combat_dialogue_data"
   ],
   "metadata": {
    "collapsed": false
   },
   "id": "a1c08c4aa6bc6db0"
  },
  {
   "cell_type": "code",
   "outputs": [],
   "source": [
    "#writing the combat_dialogue data to a json file in the testing_for_error folder\n",
    "with open('testing_for_error/combat_dialogue_data.json', 'w') as f:\n",
    "    f.write(json.dumps(combat_dialogue_data, indent=4))"
   ],
   "metadata": {
    "collapsed": false,
    "ExecuteTime": {
     "end_time": "2024-06-16T09:07:42.584341Z",
     "start_time": "2024-06-16T09:07:41.248158300Z"
    }
   },
   "id": "d162dd5e42aca656",
   "execution_count": 49
  },
  {
   "cell_type": "markdown",
   "source": [
    "#### Persuation_check sheet"
   ],
   "metadata": {
    "collapsed": false
   },
   "id": "fcac81c1bd116ef9"
  },
  {
   "cell_type": "markdown",
   "source": [
    "Importing the Persuation_check sheet and removing and replacing the nessary characters from the dataframe"
   ],
   "metadata": {
    "collapsed": false
   },
   "id": "43d34bec2cb4964f"
  },
  {
   "cell_type": "code",
   "outputs": [],
   "source": [
    "#add the sheet Persuation_check to the json file\n",
    "persuasion_check = pd.read_excel('testing_excel.xlsx', sheet_name='Persuasion_check')\n",
    "persuasion_check = persuasion_check.replace(u'\\xa0', u' ', regex=True)\n",
    "persuasion_check = persuasion_check.replace(u'\\u2019', \"'\", regex=True)\n",
    "persuasion_check = persuasion_check.replace(u'\\u00a0', ' ', regex=True)"
   ],
   "metadata": {
    "collapsed": false,
    "ExecuteTime": {
     "end_time": "2024-06-16T09:07:43.575564200Z",
     "start_time": "2024-06-16T09:07:41.255926900Z"
    }
   },
   "id": "ad1510f6f587ea11",
   "execution_count": 50
  },
  {
   "cell_type": "markdown",
   "source": [
    "Transforming the data in the Persuation_check dataframe to a list of dictionaries with the needed structure for training and storing those dictionaries in the data variable"
   ],
   "metadata": {
    "collapsed": false
   },
   "id": "ecdcad129173e6d8"
  },
  {
   "cell_type": "code",
   "outputs": [],
   "source": [
    "persuasion_check_data = [\n",
    "    {\n",
    "    \"Speaker\": \"Any\",\n",
    "    \"Dialogue\": persuasion_check['Dialogue'][index],\n",
    "    \"Event\": persuasion_check['Event'][index],\n",
    "    \"Result\": persuasion_check['Result'][index],\n",
    "    } for index, row in persuasion_check.iterrows()]\n",
    "\n",
    "data = data + persuasion_check_data"
   ],
   "metadata": {
    "collapsed": false,
    "ExecuteTime": {
     "end_time": "2024-06-16T09:07:43.619575Z",
     "start_time": "2024-06-16T09:07:41.317031100Z"
    }
   },
   "id": "34bc652a85540ef2",
   "execution_count": 51
  },
  {
   "cell_type": "markdown",
   "source": [
    "We also create a JSON file with all of the dictionaries of the persuasion_check_data"
   ],
   "metadata": {
    "collapsed": false
   },
   "id": "9ec50392a4df7d91"
  },
  {
   "cell_type": "code",
   "outputs": [],
   "source": [
    "#write the persuasion_check data to a json file in the testing_for_error folder\n",
    "with open('testing_for_error/persuasion_check_data.json', 'w') as f:\n",
    "    f.write(json.dumps(persuasion_check_data, indent=4))"
   ],
   "metadata": {
    "collapsed": false,
    "ExecuteTime": {
     "end_time": "2024-06-16T09:07:43.624575200Z",
     "start_time": "2024-06-16T09:07:41.321237400Z"
    }
   },
   "id": "7f6253d61a030bf",
   "execution_count": 52
  },
  {
   "cell_type": "markdown",
   "source": [
    "#### Entering_Buying sheet"
   ],
   "metadata": {
    "collapsed": false
   },
   "id": "58e9bbdaa10bd7d6"
  },
  {
   "cell_type": "markdown",
   "source": [
    "Importing the Entering_Buying sheet and removing and replacing the nessary characters from the dataframe"
   ],
   "metadata": {
    "collapsed": false
   },
   "id": "14d27a9cddd2ef13"
  },
  {
   "cell_type": "code",
   "outputs": [],
   "source": [
    "#add the sheet entering_buying to the json file\n",
    "entering_buying = pd.read_excel('testing_excel.xlsx', sheet_name='entering_buying')\n",
    "entering_buying = entering_buying.replace(u'\\xa0', u' ', regex=True)\n",
    "entering_buying = entering_buying.replace(u'\\u2019', \"'\", regex=True)\n",
    "entering_buying = entering_buying.replace(u'\\u00a0', ' ', regex=True)"
   ],
   "metadata": {
    "collapsed": false,
    "ExecuteTime": {
     "end_time": "2024-06-16T09:07:43.647581800Z",
     "start_time": "2024-06-16T09:07:41.329577Z"
    }
   },
   "id": "512d4f1c931f00bf",
   "execution_count": 53
  },
  {
   "cell_type": "markdown",
   "source": [
    "Transforming the data in the Entering_Buying dataframe to a list of dictionaries with the needed structure for training and storing those dictionaries in the data variable"
   ],
   "metadata": {
    "collapsed": false
   },
   "id": "86645c08b92bc295"
  },
  {
   "cell_type": "code",
   "outputs": [],
   "source": [
    "entering_buying_data = [\n",
    "    {\n",
    "    \"Speaker\": entering_buying['Voicetype'][index],\n",
    "    \"Dialogue\": entering_buying['Dialogue'][index],\n",
    "    \"Event\": entering_buying['Event'][index],\n",
    "    } for index, row in entering_buying.iterrows()]\n",
    "\n",
    "data = data + entering_buying_data"
   ],
   "metadata": {
    "collapsed": false,
    "ExecuteTime": {
     "end_time": "2024-06-16T09:07:43.685589400Z",
     "start_time": "2024-06-16T09:07:41.397129200Z"
    }
   },
   "id": "4bdcdae96c4307b5",
   "execution_count": 54
  },
  {
   "cell_type": "markdown",
   "source": [
    "We also create a JSON file with all of the dictionaries of the entering_buying_data"
   ],
   "metadata": {
    "collapsed": false
   },
   "id": "57d080b1fb0aead"
  },
  {
   "cell_type": "code",
   "outputs": [],
   "source": [
    "#write the entering_buying data to a json file in the testing_for_error folder\n",
    "with open('testing_for_error/entering_buying_data.json', 'w') as f:\n",
    "    f.write(json.dumps(entering_buying_data, indent=4))"
   ],
   "metadata": {
    "collapsed": false,
    "ExecuteTime": {
     "end_time": "2024-06-16T09:07:43.690590600Z",
     "start_time": "2024-06-16T09:07:41.408132600Z"
    }
   },
   "id": "f05e23e1f54c10f9",
   "execution_count": 55
  },
  {
   "cell_type": "markdown",
   "source": [
    "#### Requesting_Training sheet"
   ],
   "metadata": {
    "collapsed": false
   },
   "id": "3b0783f8e06160cd"
  },
  {
   "cell_type": "code",
   "outputs": [],
   "source": [
    "request_training = pd.read_excel('testing_excel.xlsx', sheet_name='requesting_training')\n",
    "request_training = request_training.replace(u'\\xa0', u' ', regex=True)\n",
    "request_training = request_training.replace(u'\\u2019', \"'\", regex=True)\n",
    "request_training = request_training.replace(u'\\u00a0', ' ', regex=True)"
   ],
   "metadata": {
    "collapsed": false,
    "ExecuteTime": {
     "end_time": "2024-06-16T09:07:43.749603700Z",
     "start_time": "2024-06-16T09:07:41.419152600Z"
    }
   },
   "id": "c4e4d0055358d9d7",
   "execution_count": 56
  },
  {
   "cell_type": "markdown",
   "source": [
    "Transforming the data in the Requesting_Training dataframe to a list of dictionaries with the needed structure for training and storing those dictionaries in the data variable"
   ],
   "metadata": {
    "collapsed": false
   },
   "id": "63aac8948c6493f7"
  },
  {
   "cell_type": "code",
   "outputs": [],
   "source": [
    "request_training_data = [\n",
    "    {\n",
    "    \"Speaker\": request_training['Voicetype'][index],\n",
    "    \"Dialogue\": request_training['Dialogue'][index],\n",
    "    \"Event\": request_training['Event'][index],\n",
    "    } for index, row in request_training.iterrows()]\n",
    "\n",
    "data = data + request_training_data"
   ],
   "metadata": {
    "collapsed": false,
    "ExecuteTime": {
     "end_time": "2024-06-16T09:07:43.754605300Z",
     "start_time": "2024-06-16T09:07:41.487703900Z"
    }
   },
   "id": "2a9e963377b0f001",
   "execution_count": 57
  },
  {
   "cell_type": "markdown",
   "source": [
    "We also create a JSON file with all of the dictionaries of the Requesting_Training_data"
   ],
   "metadata": {
    "collapsed": false
   },
   "id": "5da3ec3d20942db6"
  },
  {
   "cell_type": "code",
   "outputs": [],
   "source": [
    "#write the request_training data to a json file in the testing_for_error folder\n",
    "with open('testing_for_error/request_training_data.json', 'w') as f:\n",
    "    f.write(json.dumps(request_training_data, indent=4))"
   ],
   "metadata": {
    "collapsed": false,
    "ExecuteTime": {
     "end_time": "2024-06-16T09:07:43.780611300Z",
     "start_time": "2024-06-16T09:07:41.494044200Z"
    }
   },
   "id": "42ffbdc9ee523bae",
   "execution_count": 58
  },
  {
   "cell_type": "markdown",
   "source": [
    "#### Marriage sheet"
   ],
   "metadata": {
    "collapsed": false
   },
   "id": "ae52b960d9cfc7d5"
  },
  {
   "cell_type": "markdown",
   "source": [
    "Importing the Marriage sheet and removing and replacing the nessary characters from the dataframe"
   ],
   "metadata": {
    "collapsed": false
   },
   "id": "3f2c21448b0d95ec"
  },
  {
   "cell_type": "code",
   "outputs": [],
   "source": [
    "#add the sheet marriage to the json file\n",
    "marriage = pd.read_excel('testing_excel.xlsx', sheet_name='marriage')\n",
    "marriage = marriage.replace(u'\\xa0', u' ', regex=True)\n",
    "marriage = marriage.replace(u'\\u2019', \"'\", regex=True)\n",
    "marriage = marriage.replace(u'\\u00a0', ' ', regex=True)"
   ],
   "metadata": {
    "collapsed": false,
    "ExecuteTime": {
     "end_time": "2024-06-16T09:07:43.785611800Z",
     "start_time": "2024-06-16T09:07:41.502404Z"
    }
   },
   "id": "994bae1a03efc306",
   "execution_count": 59
  },
  {
   "cell_type": "markdown",
   "source": [
    "Removing the nan values in the marriage dataframe and replacing them with None so we can have the correct format for the JSON file"
   ],
   "metadata": {
    "collapsed": false
   },
   "id": "16f0428b9a41ee93"
  },
  {
   "cell_type": "code",
   "outputs": [],
   "source": [
    "marriage = marriage.where(pd.notnull(marriage), None)"
   ],
   "metadata": {
    "collapsed": false,
    "ExecuteTime": {
     "end_time": "2024-06-16T09:07:43.809617700Z",
     "start_time": "2024-06-16T09:07:41.568342900Z"
    }
   },
   "id": "236b751dcd2e5e5a",
   "execution_count": 60
  },
  {
   "cell_type": "markdown",
   "source": [
    "Transforming the data in the Marriage dataframe to a list of dictionaries with the needed structure for training and storing those dictionaries in the data variable"
   ],
   "metadata": {
    "collapsed": false
   },
   "id": "9a010baf82e5b50d"
  },
  {
   "cell_type": "code",
   "outputs": [],
   "source": [
    "marriage_data = [\n",
    "    {\n",
    "    \"Speaker\": marriage['Voicetype'][index],\n",
    "    \"Dialogue\": marriage['Dialogue'][index],\n",
    "    \"Event\": marriage['Event'][index],\n",
    "    \"Response_to\": marriage['Response_to'][index]\n",
    "    } for index, row in marriage.iterrows()]\n",
    "\n",
    "data = data + marriage_data"
   ],
   "metadata": {
    "collapsed": false,
    "ExecuteTime": {
     "end_time": "2024-06-16T09:07:43.813618200Z",
     "start_time": "2024-06-16T09:07:41.570841400Z"
    }
   },
   "id": "9cab7a5b60db56c8",
   "execution_count": 61
  },
  {
   "cell_type": "markdown",
   "source": [
    "We also create a JSON file with all of the dictionaries of the Marriage_data"
   ],
   "metadata": {
    "collapsed": false
   },
   "id": "da1f3ffc6b6bd8b4"
  },
  {
   "cell_type": "code",
   "outputs": [],
   "source": [
    "#write the marriage data to a json file in the testing_for_error folder\n",
    "with open('testing_for_error/marriage_data.json', 'w') as f:\n",
    "    f.write(json.dumps(marriage_data, indent=4))"
   ],
   "metadata": {
    "collapsed": false,
    "ExecuteTime": {
     "end_time": "2024-06-16T09:07:43.833622700Z",
     "start_time": "2024-06-16T09:07:41.588784100Z"
    }
   },
   "id": "285fe5e4144cb909",
   "execution_count": 62
  },
  {
   "cell_type": "markdown",
   "source": [
    "#### Wedding sheet"
   ],
   "metadata": {
    "collapsed": false
   },
   "id": "2989edef6442397c"
  },
  {
   "cell_type": "markdown",
   "source": [
    "Importing the Wedding sheet and removing and replacing the nessary characters from the dataframe"
   ],
   "metadata": {
    "collapsed": false
   },
   "id": "f2151a3c68d0096e"
  },
  {
   "cell_type": "code",
   "outputs": [],
   "source": [
    "#add the sheet wedding to the json file\n",
    "wedding = pd.read_excel('testing_excel.xlsx', sheet_name='wedding')\n",
    "wedding = wedding.replace(u'\\xa0', u' ', regex=True)\n",
    "wedding = wedding.replace(u'\\u2019', \"'\", regex=True)\n",
    "wedding = wedding.replace(u'\\u00a0', ' ', regex=True)"
   ],
   "metadata": {
    "collapsed": false,
    "ExecuteTime": {
     "end_time": "2024-06-16T09:07:43.838624200Z",
     "start_time": "2024-06-16T09:07:41.597786300Z"
    }
   },
   "id": "cfa55f712899b2f5",
   "execution_count": 63
  },
  {
   "cell_type": "markdown",
   "source": [
    "Removing the nan values in the wedding dataframe and replacing them with None so we can have the correct format for the JSON file"
   ],
   "metadata": {
    "collapsed": false
   },
   "id": "3cd4ac70c6bb572e"
  },
  {
   "cell_type": "code",
   "outputs": [],
   "source": [
    "wedding = wedding.where(pd.notnull(wedding), None)"
   ],
   "metadata": {
    "collapsed": false,
    "ExecuteTime": {
     "end_time": "2024-06-16T09:07:43.852627300Z",
     "start_time": "2024-06-16T09:07:41.659565700Z"
    }
   },
   "id": "d34de68935ca5c7b",
   "execution_count": 64
  },
  {
   "cell_type": "markdown",
   "source": [
    "Transforming the data in the Wedding dataframe to a list of dictionaries with the needed structure for training and storing those dictionaries in the data variable"
   ],
   "metadata": {
    "collapsed": false
   },
   "id": "c309298febdca9c0"
  },
  {
   "cell_type": "code",
   "outputs": [],
   "source": [
    "wedding_data = [\n",
    "    {\n",
    "    \"Speaker\": wedding['Voicetype'][index],\n",
    "    \"Dialogue\": wedding['Dialogue'][index],\n",
    "    \"Event\": wedding['Event'][index],\n",
    "    \"Condition\": wedding['Condition'][index],\n",
    "    } for index, row in wedding.iterrows()]\n",
    "\n",
    "data = data + wedding_data"
   ],
   "metadata": {
    "collapsed": false,
    "ExecuteTime": {
     "end_time": "2024-06-16T09:07:43.856628600Z",
     "start_time": "2024-06-16T09:07:41.663015900Z"
    }
   },
   "id": "d64c23a318e92d07",
   "execution_count": 65
  },
  {
   "cell_type": "markdown",
   "source": [
    "We also create a JSON file with all of the dictionaries of the Wedding_data"
   ],
   "metadata": {
    "collapsed": false
   },
   "id": "c94db8a5fa8377c2"
  },
  {
   "cell_type": "code",
   "outputs": [],
   "source": [
    "#writing the wedding data to a json file in the testing_for_error folder\n",
    "with open('testing_for_error/wedding_data.json', 'w') as f:\n",
    "    f.write(json.dumps(wedding_data, indent=4))"
   ],
   "metadata": {
    "collapsed": false,
    "ExecuteTime": {
     "end_time": "2024-06-16T09:07:43.861629700Z",
     "start_time": "2024-06-16T09:07:41.678019400Z"
    }
   },
   "id": "6e99c4caa6e55687",
   "execution_count": 66
  },
  {
   "cell_type": "markdown",
   "source": [
    "#### Orcs_Khajiits sheet"
   ],
   "metadata": {
    "collapsed": false
   },
   "id": "2f4c15e0ed3e5491"
  },
  {
   "cell_type": "markdown",
   "source": [
    "Importing the orcs_khajiits sheet"
   ],
   "metadata": {
    "collapsed": false
   },
   "id": "8e4b3aff1e1b06c"
  },
  {
   "cell_type": "code",
   "outputs": [],
   "source": [
    "orcs_khajiits = pd.read_excel('testing_excel.xlsx', sheet_name='orcs_khajiits')"
   ],
   "metadata": {
    "collapsed": false,
    "ExecuteTime": {
     "end_time": "2024-06-16T09:07:43.865630Z",
     "start_time": "2024-06-16T09:07:41.684896900Z"
    }
   },
   "id": "cc6fccfd564f8cca",
   "execution_count": 67
  },
  {
   "cell_type": "code",
   "outputs": [
    {
     "data": {
      "text/plain": "        Voicetype                                           Dialogue  \\\n0       FemaleOrc  What are you doing here, outlander? We don't d...   \n1       FemaleOrc                     This is our stronghold. Leave.   \n2       FemaleOrc                    Outsiders. Nothing but trouble.   \n3       FemaleOrc  Malacath blesses us with this land. It's not f...   \n4       FemaleOrc       This stronghold is for the Orcs. Leave. Now.   \n..            ...                                                ...   \n73  FemaleKhajiit  Khajiit are not welcome in the cities, so we m...   \n74  FemaleKhajiit  Some come to buy, but others come to steal. Kh...   \n75  FemaleKhajiit         Blessings of the moons upon you, traveler.   \n76  FemaleKhajiit  Khajiit is just a guard, and has no wares to s...   \n77  FemaleKhajiit                  Welcome to Khajiit's humble camp.   \n\n                        Condition  \\\n0   the Player is not a blood-kin   \n1   the Player is not a blood-kin   \n2   the Player is not a blood-kin   \n3   the Player is not a blood-kin   \n4   the Player is not a blood-kin   \n..                            ...   \n73         the Khajiit is a guard   \n74         the Khajiit is a guard   \n75         the Khajiit is a guard   \n76         the Khajiit is a guard   \n77         the Khajiit is a guard   \n\n                                                Event  \n0               the Player entering an Orc Stronghold  \n1               the Player entering an Orc Stronghold  \n2               the Player entering an Orc Stronghold  \n3               the Player entering an Orc Stronghold  \n4               the Player entering an Orc Stronghold  \n..                                                ...  \n73  the Player greeting a Khajiit Guard on the Kha...  \n74  the Player greeting a Khajiit Guard on the Kha...  \n75  the Player greeting a Khajiit Guard on the Kha...  \n76  the Player greeting a Khajiit Guard on the Kha...  \n77  the Player greeting a Khajiit Guard on the Kha...  \n\n[78 rows x 4 columns]",
      "text/html": "<div>\n<style scoped>\n    .dataframe tbody tr th:only-of-type {\n        vertical-align: middle;\n    }\n\n    .dataframe tbody tr th {\n        vertical-align: top;\n    }\n\n    .dataframe thead th {\n        text-align: right;\n    }\n</style>\n<table border=\"1\" class=\"dataframe\">\n  <thead>\n    <tr style=\"text-align: right;\">\n      <th></th>\n      <th>Voicetype</th>\n      <th>Dialogue</th>\n      <th>Condition</th>\n      <th>Event</th>\n    </tr>\n  </thead>\n  <tbody>\n    <tr>\n      <th>0</th>\n      <td>FemaleOrc</td>\n      <td>What are you doing here, outlander? We don't d...</td>\n      <td>the Player is not a blood-kin</td>\n      <td>the Player entering an Orc Stronghold</td>\n    </tr>\n    <tr>\n      <th>1</th>\n      <td>FemaleOrc</td>\n      <td>This is our stronghold. Leave.</td>\n      <td>the Player is not a blood-kin</td>\n      <td>the Player entering an Orc Stronghold</td>\n    </tr>\n    <tr>\n      <th>2</th>\n      <td>FemaleOrc</td>\n      <td>Outsiders. Nothing but trouble.</td>\n      <td>the Player is not a blood-kin</td>\n      <td>the Player entering an Orc Stronghold</td>\n    </tr>\n    <tr>\n      <th>3</th>\n      <td>FemaleOrc</td>\n      <td>Malacath blesses us with this land. It's not f...</td>\n      <td>the Player is not a blood-kin</td>\n      <td>the Player entering an Orc Stronghold</td>\n    </tr>\n    <tr>\n      <th>4</th>\n      <td>FemaleOrc</td>\n      <td>This stronghold is for the Orcs. Leave. Now.</td>\n      <td>the Player is not a blood-kin</td>\n      <td>the Player entering an Orc Stronghold</td>\n    </tr>\n    <tr>\n      <th>...</th>\n      <td>...</td>\n      <td>...</td>\n      <td>...</td>\n      <td>...</td>\n    </tr>\n    <tr>\n      <th>73</th>\n      <td>FemaleKhajiit</td>\n      <td>Khajiit are not welcome in the cities, so we m...</td>\n      <td>the Khajiit is a guard</td>\n      <td>the Player greeting a Khajiit Guard on the Kha...</td>\n    </tr>\n    <tr>\n      <th>74</th>\n      <td>FemaleKhajiit</td>\n      <td>Some come to buy, but others come to steal. Kh...</td>\n      <td>the Khajiit is a guard</td>\n      <td>the Player greeting a Khajiit Guard on the Kha...</td>\n    </tr>\n    <tr>\n      <th>75</th>\n      <td>FemaleKhajiit</td>\n      <td>Blessings of the moons upon you, traveler.</td>\n      <td>the Khajiit is a guard</td>\n      <td>the Player greeting a Khajiit Guard on the Kha...</td>\n    </tr>\n    <tr>\n      <th>76</th>\n      <td>FemaleKhajiit</td>\n      <td>Khajiit is just a guard, and has no wares to s...</td>\n      <td>the Khajiit is a guard</td>\n      <td>the Player greeting a Khajiit Guard on the Kha...</td>\n    </tr>\n    <tr>\n      <th>77</th>\n      <td>FemaleKhajiit</td>\n      <td>Welcome to Khajiit's humble camp.</td>\n      <td>the Khajiit is a guard</td>\n      <td>the Player greeting a Khajiit Guard on the Kha...</td>\n    </tr>\n  </tbody>\n</table>\n<p>78 rows × 4 columns</p>\n</div>"
     },
     "execution_count": 68,
     "metadata": {},
     "output_type": "execute_result"
    }
   ],
   "source": [
    "orcs_khajiits"
   ],
   "metadata": {
    "collapsed": false,
    "ExecuteTime": {
     "end_time": "2024-06-16T09:07:43.878632800Z",
     "start_time": "2024-06-16T09:07:41.751867800Z"
    }
   },
   "id": "8b13e7ab2892b992",
   "execution_count": 68
  },
  {
   "cell_type": "markdown",
   "source": [
    "Removing the nan values in the orcs_khajiits dataframe and replacing them with None so we can have the correct format for the JSON file"
   ],
   "metadata": {
    "collapsed": false
   },
   "id": "91e299b261975f24"
  },
  {
   "cell_type": "code",
   "outputs": [],
   "source": [
    "orcs_khajiits = orcs_khajiits.where(pd.notnull(orcs_khajiits), None)"
   ],
   "metadata": {
    "collapsed": false,
    "ExecuteTime": {
     "end_time": "2024-06-16T09:07:43.883634100Z",
     "start_time": "2024-06-16T09:07:41.758778600Z"
    }
   },
   "id": "5fae25924687a0ef",
   "execution_count": 69
  },
  {
   "cell_type": "markdown",
   "source": [
    "Transforming the data in the orcs_khajiits dataframe to a list of dictionaries with the needed structure for training and storing those dictionaries in the data variable"
   ],
   "metadata": {
    "collapsed": false
   },
   "id": "edcabf49d5a636d0"
  },
  {
   "cell_type": "code",
   "outputs": [],
   "source": [
    "orcs_khajiits_data = [\n",
    "    {\n",
    "    \"Speaker\": orcs_khajiits['Voicetype'][index],\n",
    "    \"Dialogue\": orcs_khajiits['Dialogue'][index],\n",
    "    \"Event\": orcs_khajiits['Event'][index],\n",
    "    \"Condition\": orcs_khajiits['Condition'][index],\n",
    "    } for index, row in orcs_khajiits.iterrows()]\n",
    "\n",
    "data = data + orcs_khajiits_data"
   ],
   "metadata": {
    "collapsed": false,
    "ExecuteTime": {
     "end_time": "2024-06-16T09:07:43.888635500Z",
     "start_time": "2024-06-16T09:07:41.765720700Z"
    }
   },
   "id": "a796a48be24ddcfc",
   "execution_count": 70
  },
  {
   "cell_type": "markdown",
   "source": [
    "We also create a JSON file with all of the dictionaries of the orcs_khajiits_data"
   ],
   "metadata": {
    "collapsed": false
   },
   "id": "43cbd18aa6d1057"
  },
  {
   "cell_type": "code",
   "outputs": [],
   "source": [
    "#write the orcs_khajiits data to a json file in the testing_for_error folder\n",
    "with open('testing_for_error/orcs_khajiits_data.json', 'w') as f:\n",
    "    f.write(json.dumps(orcs_khajiits_data, indent=4))"
   ],
   "metadata": {
    "collapsed": false,
    "ExecuteTime": {
     "end_time": "2024-06-16T09:07:43.892636500Z",
     "start_time": "2024-06-16T09:07:41.777228800Z"
    }
   },
   "id": "ab781e2b261a18dc",
   "execution_count": 71
  },
  {
   "cell_type": "markdown",
   "source": [
    "#### Housecarl sheet"
   ],
   "metadata": {
    "collapsed": false
   },
   "id": "d049ab3583e61b09"
  },
  {
   "cell_type": "code",
   "outputs": [],
   "source": [
    "#add the sheet housecarl to the json file\n",
    "housecarl = pd.read_excel('testing_excel.xlsx', sheet_name='Housecarl')\n",
    "housecarl = housecarl.replace(u'\\xa0', u' ', regex=True)\n",
    "housecarl = housecarl.replace(u'\\u2019', \"'\", regex=True)\n",
    "housecarl = housecarl.replace(u'\\u00a0', ' ', regex=True)"
   ],
   "metadata": {
    "collapsed": false,
    "ExecuteTime": {
     "end_time": "2024-06-16T09:07:43.924643300Z",
     "start_time": "2024-06-16T09:07:41.785366Z"
    }
   },
   "id": "84587b95fdda1c8b",
   "execution_count": 72
  },
  {
   "cell_type": "markdown",
   "source": [
    "Transforming the data in the housecarl dataframe to a list of dictionaries with the needed structure for training and storing those dictionaries in the data variable"
   ],
   "metadata": {
    "collapsed": false
   },
   "id": "d173c949b7fff801"
  },
  {
   "cell_type": "code",
   "outputs": [],
   "source": [
    "housecarl_data = [\n",
    "    {\n",
    "    \"Speaker\": housecarl['Voicetype'][index],\n",
    "    \"Dialogue\": housecarl['Dialogue'][index],\n",
    "    \"Event\": housecarl['Event'][index],\n",
    "    } for index, row in housecarl.iterrows()]\n",
    "\n",
    "data = data + housecarl_data"
   ],
   "metadata": {
    "collapsed": false,
    "ExecuteTime": {
     "end_time": "2024-06-16T09:07:43.924643300Z",
     "start_time": "2024-06-16T09:07:41.902995600Z"
    }
   },
   "id": "4196ea077bbee37a",
   "execution_count": 73
  },
  {
   "cell_type": "markdown",
   "source": [
    "We also create a JSON file with all of the dictionaries of the housecarl_data"
   ],
   "metadata": {
    "collapsed": false
   },
   "id": "6ad8833a0ba0c9fd"
  },
  {
   "cell_type": "code",
   "outputs": [],
   "source": [
    "#write the housecarl data to a json file in the testing_for_error folder\n",
    "with open('testing_for_error/housecarl_data.json', 'w') as f:\n",
    "    f.write(json.dumps(housecarl_data, indent=4))"
   ],
   "metadata": {
    "collapsed": false,
    "ExecuteTime": {
     "end_time": "2024-06-16T09:07:43.928643900Z",
     "start_time": "2024-06-16T09:07:41.908066900Z"
    }
   },
   "id": "c7df7ddc77a6d2d0",
   "execution_count": 74
  },
  {
   "cell_type": "markdown",
   "source": [
    "#### Carriage sheet"
   ],
   "metadata": {
    "collapsed": false
   },
   "id": "77d460f623705d77"
  },
  {
   "cell_type": "markdown",
   "source": [
    "Importing the Carriage sheet and removing and replacing the nessary characters from the dataframe"
   ],
   "metadata": {
    "collapsed": false
   },
   "id": "f008856fd8bbc4c1"
  },
  {
   "cell_type": "code",
   "outputs": [],
   "source": [
    "# add the sheet Carriage to the json file\n",
    "carriage = pd.read_excel('testing_excel.xlsx', sheet_name='Carriage')\n",
    "carriage = carriage.replace(u'\\xa0', u' ', regex=True)\n",
    "carriage = carriage.replace(u'\\u2019', \"'\", regex=True)\n",
    "carriage = carriage.replace(u'\\u00a0', ' ', regex=True)"
   ],
   "metadata": {
    "collapsed": false,
    "ExecuteTime": {
     "end_time": "2024-06-16T09:07:43.978656200Z",
     "start_time": "2024-06-16T09:07:41.915944900Z"
    }
   },
   "id": "712eb026ed8e5386",
   "execution_count": 75
  },
  {
   "cell_type": "markdown",
   "source": [
    "Removing the nan values in the carriage dataframe and replacing them with None so we can have the correct format for the JSON file"
   ],
   "metadata": {
    "collapsed": false
   },
   "id": "86fe507b15b1eabf"
  },
  {
   "cell_type": "code",
   "outputs": [],
   "source": [
    "carriage = carriage.where(pd.notnull(carriage), None)"
   ],
   "metadata": {
    "collapsed": false,
    "ExecuteTime": {
     "end_time": "2024-06-16T09:07:43.992658800Z",
     "start_time": "2024-06-16T09:07:41.989487Z"
    }
   },
   "id": "394ac9c933498066",
   "execution_count": 76
  },
  {
   "cell_type": "markdown",
   "source": [
    "Transforming the data in the Carriage dataframe to a list of dictionaries with the needed structure for training and storing those dictionaries in the data variable"
   ],
   "metadata": {
    "collapsed": false
   },
   "id": "b58a50c6b1b21569"
  },
  {
   "cell_type": "code",
   "outputs": [],
   "source": [
    "carriage_data = [\n",
    "    {\n",
    "    \"Speaker\": carriage['Voicetype'][index],\n",
    "    \"Dialogue\": carriage['Dialogue'][index],\n",
    "    \"Event\": carriage['Event'][index],\n",
    "    \"Condition\": carriage['Condition'][index],\n",
    "    } for index, row in carriage.iterrows()]\n",
    "\n",
    "data = data + carriage_data"
   ],
   "metadata": {
    "collapsed": false,
    "ExecuteTime": {
     "end_time": "2024-06-16T09:07:43.996660100Z",
     "start_time": "2024-06-16T09:07:41.993301300Z"
    }
   },
   "id": "ea5883615853e2a9",
   "execution_count": 77
  },
  {
   "cell_type": "markdown",
   "source": [
    "We also create a JSON file with all of the dictionaries of the Carriage_data"
   ],
   "metadata": {
    "collapsed": false
   },
   "id": "154b6be1fa84317c"
  },
  {
   "cell_type": "code",
   "outputs": [],
   "source": [
    "#write the carriage data to a json file in the testing_for_error folder\n",
    "with open('testing_for_error/carriage_data.json', 'w') as f:\n",
    "    f.write(json.dumps(carriage_data, indent=4))"
   ],
   "metadata": {
    "collapsed": false,
    "ExecuteTime": {
     "end_time": "2024-06-16T09:07:44.010662800Z",
     "start_time": "2024-06-16T09:07:42.003986100Z"
    }
   },
   "id": "864b60be0ff7019f",
   "execution_count": 78
  },
  {
   "cell_type": "markdown",
   "source": [
    "#### Guards sheet"
   ],
   "metadata": {
    "collapsed": false
   },
   "id": "37b9152398995c23"
  },
  {
   "cell_type": "markdown",
   "source": [
    "Importing the Guards sheet and removing and replacing the nessary characters from the dataframe"
   ],
   "metadata": {
    "collapsed": false
   },
   "id": "9c510e35d0e6af94"
  },
  {
   "cell_type": "code",
   "outputs": [],
   "source": [
    "guards = pd.read_excel('testing_excel.xlsx', sheet_name='Guards')\n",
    "guards = guards.replace(u'\\xa0', u' ', regex=True)\n",
    "guards = guards.replace(u'\\u2019', \"'\", regex=True)\n",
    "guards = guards.replace(u'\\u00a0', ' ', regex=True)"
   ],
   "metadata": {
    "collapsed": false,
    "ExecuteTime": {
     "end_time": "2024-06-16T09:07:44.015664Z",
     "start_time": "2024-06-16T09:07:42.067999500Z"
    }
   },
   "id": "8ff2cdd9078dbb3d",
   "execution_count": 79
  },
  {
   "cell_type": "markdown",
   "source": [
    "Removing the nan values in the guards dataframe and replacing them with None so we can have the correct format for the JSON file"
   ],
   "metadata": {
    "collapsed": false
   },
   "id": "887a40d45022f6aa"
  },
  {
   "cell_type": "code",
   "outputs": [],
   "source": [
    "guards = guards.where(pd.notnull(guards), None)"
   ],
   "metadata": {
    "collapsed": false,
    "ExecuteTime": {
     "end_time": "2024-06-16T09:07:44.024665700Z",
     "start_time": "2024-06-16T09:07:42.107307300Z"
    }
   },
   "id": "a1bfb171c3fdaa43",
   "execution_count": 80
  },
  {
   "cell_type": "markdown",
   "source": [
    "Transforming the data in the Guards dataframe to a list of dictionaries with the needed structure for training and storing those dictionaries in the data variable"
   ],
   "metadata": {
    "collapsed": false
   },
   "id": "958290aa8d040863"
  },
  {
   "cell_type": "code",
   "outputs": [],
   "source": [
    "guards_data = [\n",
    "    {\n",
    "    \"Speaker\": \"Guard\",\n",
    "    \"Dialogue\": guards['Dialogue'][index],\n",
    "    \"Event\": guards['Event'][index],\n",
    "    \"Condition\": guards['Condition'][index],\n",
    "    } for index, row in guards.iterrows()]\n",
    "\n",
    "data = data + guards_data"
   ],
   "metadata": {
    "collapsed": false,
    "ExecuteTime": {
     "end_time": "2024-06-16T09:07:44.041669600Z",
     "start_time": "2024-06-16T09:07:42.111689800Z"
    }
   },
   "id": "33581f403b2f8b69",
   "execution_count": 81
  },
  {
   "cell_type": "markdown",
   "source": [
    "We also create a JSON file with all of the dictionaries of the Guards_data"
   ],
   "metadata": {
    "collapsed": false
   },
   "id": "f91673a0b90cf97b"
  },
  {
   "cell_type": "code",
   "outputs": [],
   "source": [
    "#write the guards data to a json file in the testing_for_error folder\n",
    "with open('testing_for_error/guards_data.json', 'w') as f:\n",
    "    f.write(json.dumps(guards_data, indent=4))"
   ],
   "metadata": {
    "collapsed": false,
    "ExecuteTime": {
     "end_time": "2024-06-16T09:07:44.042670700Z",
     "start_time": "2024-06-16T09:07:42.124709700Z"
    }
   },
   "id": "b656267d60d19921",
   "execution_count": 82
  },
  {
   "cell_type": "markdown",
   "source": [
    "#### Guards_race sheet"
   ],
   "metadata": {
    "collapsed": false
   },
   "id": "bb20b2ef994f92e7"
  },
  {
   "cell_type": "markdown",
   "source": [
    "Importing the Guards_race sheet and removing and replacing the nessary characters from the dataframe"
   ],
   "metadata": {
    "collapsed": false
   },
   "id": "3cc73b2fea74b7df"
  },
  {
   "cell_type": "code",
   "outputs": [],
   "source": [
    "guards_race = pd.read_excel('testing_excel.xlsx', sheet_name='Guards_race')\n",
    "guards_race = guards_race.replace(u'\\xa0', u' ', regex=True)\n",
    "guards_race = guards_race.replace(u'\\u2019', \"'\", regex=True)\n",
    "guards_race = guards_race.replace(u'\\u00a0', ' ', regex=True)"
   ],
   "metadata": {
    "collapsed": false,
    "ExecuteTime": {
     "end_time": "2024-06-16T09:07:44.089681100Z",
     "start_time": "2024-06-16T09:07:42.133931400Z"
    }
   },
   "id": "40807c4121ddf29a",
   "execution_count": 83
  },
  {
   "cell_type": "markdown",
   "source": [
    "Removing the nan values in the guards_race, dataframe and replacing them with None so we can have the correct format for the JSON file"
   ],
   "metadata": {
    "collapsed": false
   },
   "id": "597922b6273886f2"
  },
  {
   "cell_type": "code",
   "outputs": [],
   "source": [
    "guards_race = guards_race.where(pd.notnull(guards_race), None) "
   ],
   "metadata": {
    "collapsed": false,
    "ExecuteTime": {
     "end_time": "2024-06-16T09:07:44.090681300Z",
     "start_time": "2024-06-16T09:07:42.198979500Z"
    }
   },
   "id": "61756767a7d6cab7",
   "execution_count": 84
  },
  {
   "cell_type": "code",
   "outputs": [
    {
     "data": {
      "text/plain": "                            Dialogue                       Race  \\\n0              What is it, Argonian?                   Argonian   \n1     Stay out of trouble, Argonian.                   Argonian   \n2       Stay out of trouble, lizard.                   Argonian   \n3   Staying out of trouble, kinsman?                       Nord   \n4     How can I help a brother Nord?                       Nord   \n5         Stay out of trouble, Nord.                       Nord   \n6               Don't cross me, Elf.  Altmer, Bosmer, or Dunmer   \n7          Stay out of trouble, Elf.  Altmer, Bosmer, or Dunmer   \n8                   What is it, Elf?  Altmer, Bosmer, or Dunmer   \n9      Stay out of trouble, Khajiit.                    Khajiit   \n10              What is it, Khajiit?                    Khajiit   \n11          What do you want... cat?                    Khajiit   \n12    Stay out of trouble, Redguard.                   Redguard   \n13             What is it, Redguard?                   Redguard   \n14    Stay out of trouble, Imperial.                   Imperial   \n15             What is it, Imperial?                   Imperial   \n16         Stay out of trouble, Orc.                        Orc   \n17                  What is it, Orc?                        Orc   \n\n                             Condition                                  Event  \n0                                 None  a Guard reacting to the Player's race  \n1                                 None  a Guard reacting to the Player's race  \n2            the Guard is a Stormcloak  a Guard reacting to the Player's race  \n3                    the Guard is Nord  a Guard reacting to the Player's race  \n4                    the Guard is Nord  a Guard reacting to the Player's race  \n5                the Guard is not Nord  a Guard reacting to the Player's race  \n6   the Guard is Nord and a Stormcloak  a Guard reacting to the Player's race  \n7        the Guard is not a Stormcloak  a Guard reacting to the Player's race  \n8        the Guard is not a Stormcloak  a Guard reacting to the Player's race  \n9                                 None  a Guard reacting to the Player's race  \n10                                None  a Guard reacting to the Player's race  \n11           the Guard is a Stormcloak  a Guard reacting to the Player's race  \n12                                None  a Guard reacting to the Player's race  \n13                                None  a Guard reacting to the Player's race  \n14    the Guard is not Imperial (race)  a Guard reacting to the Player's race  \n15    the Guard is not Imperial (race)  a Guard reacting to the Player's race  \n16                                None  a Guard reacting to the Player's race  \n17                                None  a Guard reacting to the Player's race  ",
      "text/html": "<div>\n<style scoped>\n    .dataframe tbody tr th:only-of-type {\n        vertical-align: middle;\n    }\n\n    .dataframe tbody tr th {\n        vertical-align: top;\n    }\n\n    .dataframe thead th {\n        text-align: right;\n    }\n</style>\n<table border=\"1\" class=\"dataframe\">\n  <thead>\n    <tr style=\"text-align: right;\">\n      <th></th>\n      <th>Dialogue</th>\n      <th>Race</th>\n      <th>Condition</th>\n      <th>Event</th>\n    </tr>\n  </thead>\n  <tbody>\n    <tr>\n      <th>0</th>\n      <td>What is it, Argonian?</td>\n      <td>Argonian</td>\n      <td>None</td>\n      <td>a Guard reacting to the Player's race</td>\n    </tr>\n    <tr>\n      <th>1</th>\n      <td>Stay out of trouble, Argonian.</td>\n      <td>Argonian</td>\n      <td>None</td>\n      <td>a Guard reacting to the Player's race</td>\n    </tr>\n    <tr>\n      <th>2</th>\n      <td>Stay out of trouble, lizard.</td>\n      <td>Argonian</td>\n      <td>the Guard is a Stormcloak</td>\n      <td>a Guard reacting to the Player's race</td>\n    </tr>\n    <tr>\n      <th>3</th>\n      <td>Staying out of trouble, kinsman?</td>\n      <td>Nord</td>\n      <td>the Guard is Nord</td>\n      <td>a Guard reacting to the Player's race</td>\n    </tr>\n    <tr>\n      <th>4</th>\n      <td>How can I help a brother Nord?</td>\n      <td>Nord</td>\n      <td>the Guard is Nord</td>\n      <td>a Guard reacting to the Player's race</td>\n    </tr>\n    <tr>\n      <th>5</th>\n      <td>Stay out of trouble, Nord.</td>\n      <td>Nord</td>\n      <td>the Guard is not Nord</td>\n      <td>a Guard reacting to the Player's race</td>\n    </tr>\n    <tr>\n      <th>6</th>\n      <td>Don't cross me, Elf.</td>\n      <td>Altmer, Bosmer, or Dunmer</td>\n      <td>the Guard is Nord and a Stormcloak</td>\n      <td>a Guard reacting to the Player's race</td>\n    </tr>\n    <tr>\n      <th>7</th>\n      <td>Stay out of trouble, Elf.</td>\n      <td>Altmer, Bosmer, or Dunmer</td>\n      <td>the Guard is not a Stormcloak</td>\n      <td>a Guard reacting to the Player's race</td>\n    </tr>\n    <tr>\n      <th>8</th>\n      <td>What is it, Elf?</td>\n      <td>Altmer, Bosmer, or Dunmer</td>\n      <td>the Guard is not a Stormcloak</td>\n      <td>a Guard reacting to the Player's race</td>\n    </tr>\n    <tr>\n      <th>9</th>\n      <td>Stay out of trouble, Khajiit.</td>\n      <td>Khajiit</td>\n      <td>None</td>\n      <td>a Guard reacting to the Player's race</td>\n    </tr>\n    <tr>\n      <th>10</th>\n      <td>What is it, Khajiit?</td>\n      <td>Khajiit</td>\n      <td>None</td>\n      <td>a Guard reacting to the Player's race</td>\n    </tr>\n    <tr>\n      <th>11</th>\n      <td>What do you want... cat?</td>\n      <td>Khajiit</td>\n      <td>the Guard is a Stormcloak</td>\n      <td>a Guard reacting to the Player's race</td>\n    </tr>\n    <tr>\n      <th>12</th>\n      <td>Stay out of trouble, Redguard.</td>\n      <td>Redguard</td>\n      <td>None</td>\n      <td>a Guard reacting to the Player's race</td>\n    </tr>\n    <tr>\n      <th>13</th>\n      <td>What is it, Redguard?</td>\n      <td>Redguard</td>\n      <td>None</td>\n      <td>a Guard reacting to the Player's race</td>\n    </tr>\n    <tr>\n      <th>14</th>\n      <td>Stay out of trouble, Imperial.</td>\n      <td>Imperial</td>\n      <td>the Guard is not Imperial (race)</td>\n      <td>a Guard reacting to the Player's race</td>\n    </tr>\n    <tr>\n      <th>15</th>\n      <td>What is it, Imperial?</td>\n      <td>Imperial</td>\n      <td>the Guard is not Imperial (race)</td>\n      <td>a Guard reacting to the Player's race</td>\n    </tr>\n    <tr>\n      <th>16</th>\n      <td>Stay out of trouble, Orc.</td>\n      <td>Orc</td>\n      <td>None</td>\n      <td>a Guard reacting to the Player's race</td>\n    </tr>\n    <tr>\n      <th>17</th>\n      <td>What is it, Orc?</td>\n      <td>Orc</td>\n      <td>None</td>\n      <td>a Guard reacting to the Player's race</td>\n    </tr>\n  </tbody>\n</table>\n</div>"
     },
     "execution_count": 85,
     "metadata": {},
     "output_type": "execute_result"
    }
   ],
   "source": [
    "guards_race"
   ],
   "metadata": {
    "collapsed": false,
    "ExecuteTime": {
     "end_time": "2024-06-16T09:07:44.094681700Z",
     "start_time": "2024-06-16T09:07:42.204191200Z"
    }
   },
   "id": "d5f266513f03d01b",
   "execution_count": 85
  },
  {
   "cell_type": "markdown",
   "source": [
    "Transforming the data in the Guards_race dataframe to a list of dictionaries with the needed structure for training and storing those dictionaries in the data variable"
   ],
   "metadata": {
    "collapsed": false
   },
   "id": "efcb14f291a25774"
  },
  {
   "cell_type": "code",
   "outputs": [],
   "source": [
    "guards_race_data = [\n",
    "    {\n",
    "        \"Speaker\": \"Guard\",\n",
    "        \"Dialogue\": row['Dialogue'],\n",
    "        \"Event\": row['Event'],\n",
    "        \"Condition\": row['Condition'],\n",
    "        \"Race\": row['Race'],\n",
    "    } for index, row in guards_race.iterrows()  # Ensure this matches the DataFrame you're indexing\n",
    "]\n",
    "data = data + guards_race_data"
   ],
   "metadata": {
    "collapsed": false,
    "ExecuteTime": {
     "end_time": "2024-06-16T09:07:44.128688900Z",
     "start_time": "2024-06-16T09:07:42.214876700Z"
    }
   },
   "id": "630f67334c0fa82b",
   "execution_count": 86
  },
  {
   "cell_type": "markdown",
   "source": [
    "We also create a JSON file with all of the dictionaries of the guards_race_data "
   ],
   "metadata": {
    "collapsed": false
   },
   "id": "91a8b60f9343e024"
  },
  {
   "cell_type": "code",
   "outputs": [],
   "source": [
    "#write the guards_race_data to a json file in the testing_for_error folder\n",
    "with open('testing_for_error/guards_race_data.json', 'w') as f:\n",
    "    f.write(json.dumps(guards_race_data, indent=4))"
   ],
   "metadata": {
    "collapsed": false,
    "ExecuteTime": {
     "end_time": "2024-06-16T09:07:44.132690300Z",
     "start_time": "2024-06-16T09:07:42.221813400Z"
    }
   },
   "id": "9c63d4983cc410df",
   "execution_count": 87
  },
  {
   "cell_type": "markdown",
   "source": [
    "#### Guard_Equipment sheet"
   ],
   "metadata": {
    "collapsed": false
   },
   "id": "e51e9585f4e07e87"
  },
  {
   "cell_type": "markdown",
   "source": [
    "Importing the Guard_Equipment sheet and removing and replacing the nessary characters from the dataframe"
   ],
   "metadata": {
    "collapsed": false
   },
   "id": "ade802e4de99340a"
  },
  {
   "cell_type": "code",
   "outputs": [],
   "source": [
    "#add the sheet Guard_Equipment to the json file\n",
    "guard_equipment = pd.read_excel('testing_excel.xlsx', sheet_name='Guard_Equipment')\n",
    "guard_equipment = guard_equipment.replace(u'\\xa0', u' ', regex=True)\n",
    "guard_equipment = guard_equipment.replace(u'\\u2019', \"'\", regex=True)\n",
    "guard_equipment = guard_equipment.replace(u'\\u00a0', ' ', regex=True)"
   ],
   "metadata": {
    "collapsed": false,
    "ExecuteTime": {
     "end_time": "2024-06-16T09:07:44.159696500Z",
     "start_time": "2024-06-16T09:07:42.230605900Z"
    }
   },
   "id": "e23826ea7fdf1f7d",
   "execution_count": 88
  },
  {
   "cell_type": "markdown",
   "source": [
    "Removing the nan values in the Guard_Equipment dataframe and replacing them with None so we can have the correct format for the JSON file"
   ],
   "metadata": {
    "collapsed": false
   },
   "id": "e23e764bad78753"
  },
  {
   "cell_type": "code",
   "outputs": [],
   "source": [
    "#change the nan values in the dataframe to null\n",
    "guard_equipment = guard_equipment.where(pd.notnull(guard_equipment), None)"
   ],
   "metadata": {
    "collapsed": false,
    "ExecuteTime": {
     "end_time": "2024-06-16T09:07:44.163697300Z",
     "start_time": "2024-06-16T09:07:42.297125600Z"
    }
   },
   "id": "8a1b2735aa5e7e98",
   "execution_count": 89
  },
  {
   "cell_type": "markdown",
   "source": [
    "Transforming the data in the guard_Equipment dataframe to a list of dictionaries with the needed structure for training and storing those dictionaries in the data variable"
   ],
   "metadata": {
    "collapsed": false
   },
   "id": "5f24eafb14cbbe36"
  },
  {
   "cell_type": "code",
   "outputs": [],
   "source": [
    "guard_equipment_data = [\n",
    "    {\n",
    "    \"Speaker\": \"Guard\",\n",
    "    \"Dialogue\": guard_equipment['Dialogue'][index],\n",
    "    \"Event\": guard_equipment['Event'][index],\n",
    "    \"Condition\": guard_equipment['Condition'][index],\n",
    "    \"Equipment\": guard_equipment['Equipment'][index],\n",
    "    } for index, row in guard_equipment.iterrows()]\n",
    "\n",
    "data = data + guard_equipment_data"
   ],
   "metadata": {
    "collapsed": false,
    "ExecuteTime": {
     "end_time": "2024-06-16T09:07:44.181701400Z",
     "start_time": "2024-06-16T09:07:42.301664800Z"
    }
   },
   "id": "1bc5d826ae71a3c3",
   "execution_count": 90
  },
  {
   "cell_type": "markdown",
   "source": [
    "We also create a JSON file with all of the dictionaries of the Guard_Equipment_data"
   ],
   "metadata": {
    "collapsed": false
   },
   "id": "555738747e99ae57"
  },
  {
   "cell_type": "code",
   "outputs": [],
   "source": [
    "#write the guard_equipment data to a json file in the testing_for_error folder\n",
    "with open('testing_for_error/guard_equipment_data.json', 'w') as f:\n",
    "    f.write(json.dumps(guard_equipment_data, indent=4))"
   ],
   "metadata": {
    "collapsed": false,
    "ExecuteTime": {
     "end_time": "2024-06-16T09:07:44.193703800Z",
     "start_time": "2024-06-16T09:07:42.312808600Z"
    }
   },
   "id": "bb5106cfe8401a55",
   "execution_count": 91
  },
  {
   "cell_type": "markdown",
   "source": [
    "#### Guard_skill sheet"
   ],
   "metadata": {
    "collapsed": false
   },
   "id": "6889423f0dc44cdf"
  },
  {
   "cell_type": "markdown",
   "source": [
    "Importing the Guard_skill sheet and removing and replacing the nessary characters from the dataframe"
   ],
   "metadata": {
    "collapsed": false
   },
   "id": "18a1da51dbc52b32"
  },
  {
   "cell_type": "code",
   "outputs": [],
   "source": [
    "#add the sheet Guard_skill to the json file\n",
    "guard_skill = pd.read_excel('testing_excel.xlsx', sheet_name='Guard_skill')\n",
    "guard_skill = guard_skill.replace(u'\\xa0', u' ', regex=True)\n",
    "guard_skill = guard_skill.replace(u'\\u2019', \"'\", regex=True)\n",
    "guard_skill = guard_skill.replace(u'\\u00a0', ' ', regex=True)"
   ],
   "metadata": {
    "collapsed": false,
    "ExecuteTime": {
     "end_time": "2024-06-16T09:07:44.240364300Z",
     "start_time": "2024-06-16T09:07:42.325274900Z"
    }
   },
   "id": "e47b6b335810a377",
   "execution_count": 92
  },
  {
   "cell_type": "markdown",
   "source": [
    "Transforming the data in the Guard_skill dataframe to a list of dictionaries with the needed structure for training and storing those dictionaries in the data variable"
   ],
   "metadata": {
    "collapsed": false
   },
   "id": "adeb904b3500fe59"
  },
  {
   "cell_type": "code",
   "outputs": [],
   "source": [
    "guard_skill_data = [\n",
    "    {\n",
    "    \"Speaker\": \"Guard\",\n",
    "    \"Dialogue\": guard_skill['Dialogue'][index],\n",
    "    \"Event\": guard_skill['Event'][index],\n",
    "    } for index, row in guard_skill.iterrows()]\n",
    "\n",
    "data = data + guard_skill_data"
   ],
   "metadata": {
    "collapsed": false,
    "ExecuteTime": {
     "end_time": "2024-06-16T09:07:44.244364900Z",
     "start_time": "2024-06-16T09:07:42.390581600Z"
    }
   },
   "id": "63afe1101e25b5ee",
   "execution_count": 93
  },
  {
   "cell_type": "markdown",
   "source": [
    "We also create a JSON file with all of the dictionaries of the Guard_skill_data"
   ],
   "metadata": {
    "collapsed": false
   },
   "id": "724022be63a771a3"
  },
  {
   "cell_type": "code",
   "outputs": [],
   "source": [
    "#write the guard_skill data to a json file in the testing_for_error folder\n",
    "with open('testing_for_error/guard_skill_data.json', 'w') as f:\n",
    "    f.write(json.dumps(guard_skill_data, indent=4))"
   ],
   "metadata": {
    "collapsed": false,
    "ExecuteTime": {
     "end_time": "2024-06-16T09:07:45.518652600Z",
     "start_time": "2024-06-16T09:07:44.210708900Z"
    }
   },
   "id": "4958fc716b983221",
   "execution_count": 94
  },
  {
   "cell_type": "markdown",
   "source": [
    "#### Stormcloak_Imperial sheet"
   ],
   "metadata": {
    "collapsed": false
   },
   "id": "2af013ac2b6064b6"
  },
  {
   "cell_type": "markdown",
   "source": [
    "Importing the Stormcloak_Imperial sheet and removing and replacing the nessary characters from the dataframe"
   ],
   "metadata": {
    "collapsed": false
   },
   "id": "b5a7cea37469c0d1"
  },
  {
   "cell_type": "code",
   "outputs": [],
   "source": [
    "# add the Stromcloak-imperial sheet to the json file\n",
    "stromcloak_imperial = pd.read_excel('testing_excel.xlsx', sheet_name='Stromcloak-imperial')\n",
    "stromcloak_imperial = stromcloak_imperial.replace(u'\\xa0', u' ', regex=True)\n",
    "stromcloak_imperial = stromcloak_imperial.replace(u'\\u2019', \"'\", regex=True)\n",
    "stromcloak_imperial = stromcloak_imperial.replace(u'\\u00a0', ' ', regex=True)"
   ],
   "metadata": {
    "collapsed": false,
    "ExecuteTime": {
     "end_time": "2024-06-16T09:07:45.779157800Z",
     "start_time": "2024-06-16T09:07:45.517652300Z"
    }
   },
   "id": "96a7528d96d15075",
   "execution_count": 95
  },
  {
   "cell_type": "markdown",
   "source": [
    "Removing the nan values in the Stormcloak_Imperial dataframe and replacing them with None so we can have the correct format for the JSON file"
   ],
   "metadata": {
    "collapsed": false
   },
   "id": "9609632015532364"
  },
  {
   "cell_type": "code",
   "outputs": [],
   "source": [
    "stromcloak_imperial = stromcloak_imperial.where(pd.notnull(stromcloak_imperial), None)"
   ],
   "metadata": {
    "collapsed": false,
    "ExecuteTime": {
     "end_time": "2024-06-16T09:07:45.874237Z",
     "start_time": "2024-06-16T09:07:45.688690800Z"
    }
   },
   "id": "7dbfff8db74d4dfc",
   "execution_count": 96
  },
  {
   "cell_type": "markdown",
   "source": [
    "Transforming the data in the Stormcloak_Imperial dataframe to a list of dictionaries with the needed structure for training and storing those dictionaries in the data variable"
   ],
   "metadata": {
    "collapsed": false
   },
   "id": "35233db2b71dcc25"
  },
  {
   "cell_type": "code",
   "outputs": [],
   "source": [
    "stromcloak_imperial_data = [\n",
    "    {\n",
    "    \"Speaker\": stromcloak_imperial['Guard'][index],\n",
    "    \"Dialogue\": stromcloak_imperial['Dialogue'][index],\n",
    "    \"Event\": stromcloak_imperial['Event'][index],\n",
    "    \"Condition\": stromcloak_imperial['Condition'][index],\n",
    "    } for index, row in stromcloak_imperial.iterrows()]\n",
    "\n",
    "data = data + stromcloak_imperial_data"
   ],
   "metadata": {
    "collapsed": false,
    "ExecuteTime": {
     "end_time": "2024-06-16T09:07:45.965256400Z",
     "start_time": "2024-06-16T09:07:45.851175600Z"
    }
   },
   "id": "b10d0413d5706d33",
   "execution_count": 97
  },
  {
   "cell_type": "markdown",
   "source": [
    "We also create a JSON file with all of the dictionaries of the Stormcloak_Imperial_data"
   ],
   "metadata": {
    "collapsed": false
   },
   "id": "86f447e6fd6308f5"
  },
  {
   "cell_type": "code",
   "outputs": [],
   "source": [
    "#write the stromcloak_imperial data to a json file in the testing_for_error folder\n",
    "with open('testing_for_error/stromcloak_imperial_data.json', 'w') as f:\n",
    "    f.write(json.dumps(stromcloak_imperial_data, indent=4))"
   ],
   "metadata": {
    "collapsed": false,
    "ExecuteTime": {
     "end_time": "2024-06-16T09:07:46.047651Z",
     "start_time": "2024-06-16T09:07:45.963257600Z"
    }
   },
   "id": "109637b9b6220050",
   "execution_count": 98
  },
  {
   "cell_type": "markdown",
   "source": [
    "#### Guard_interactions sheet"
   ],
   "metadata": {
    "collapsed": false
   },
   "id": "cdc77f378263a483"
  },
  {
   "cell_type": "code",
   "outputs": [],
   "source": [
    "#add the Guard_interactions sheet to the json file\n",
    "guard_interactions = pd.read_excel('testing_excel.xlsx', sheet_name='Guard_interactions')\n",
    "guard_interactions = guard_interactions.replace(u'\\xa0', u' ', regex=True)\n",
    "guard_interactions = guard_interactions.replace(u'\\u2019', \"'\", regex=True)\n",
    "guard_interactions = guard_interactions.replace(u'\\u00a0', ' ', regex=True)"
   ],
   "metadata": {
    "collapsed": false,
    "ExecuteTime": {
     "end_time": "2024-06-16T09:07:46.167322500Z",
     "start_time": "2024-06-16T09:07:46.024645100Z"
    }
   },
   "id": "537706d2fc8cfc02",
   "execution_count": 99
  },
  {
   "cell_type": "markdown",
   "source": [
    "Transforming the data in the guard_interactions dataframe to a list of dictionaries with the needed structure for training and storing those dictionaries in the data variable"
   ],
   "metadata": {
    "collapsed": false
   },
   "id": "fe8d640f0a3c677d"
  },
  {
   "cell_type": "code",
   "outputs": [
    {
     "data": {
      "text/plain": "                                              Dialogue  Location  \\\n0    <Town>'s under my protection. You watch yourse...  Any Town   \n1    You've come to Dawnstar at a strange time, fri...  Dawnstar   \n2    The people here are still plagued with nightma...  Dawnstar   \n3    Dangerous post, Dawnstar. If the bandits don't...  Dawnstar   \n4    Old lady Frida is a grouch, but she sure can w...  Dawnstar   \n..                                                 ...       ...   \n99   South of here, and west of the road, lies Cron...  Windhelm   \n100  I've no problem with your kind, Orc. But that ...  Windhelm   \n101  I've no problem with Orcs. But that stronghold...  Windhelm   \n102  Across the river to the northeast lies Yngol B...  Windhelm   \n103  The Eye of Talos was a fine ship, once. Now it...  Windhelm   \n\n                Condition                                              Event  \n0                     NaN  Player interacts with the guard in a specific ...  \n1                     NaN  Player interacts with the guard in a specific ...  \n2                     NaN  Player interacts with the guard in a specific ...  \n3                     NaN  Player interacts with the guard in a specific ...  \n4                     NaN  Player interacts with the guard in a specific ...  \n..                    ...                                                ...  \n99                    NaN  Player interacts with the guard in a specific ...  \n100  the Player is an Orc  Player interacts with the guard in a specific ...  \n101                   NaN  Player interacts with the guard in a specific ...  \n102                   NaN  Player interacts with the guard in a specific ...  \n103                   NaN  Player interacts with the guard in a specific ...  \n\n[104 rows x 4 columns]",
      "text/html": "<div>\n<style scoped>\n    .dataframe tbody tr th:only-of-type {\n        vertical-align: middle;\n    }\n\n    .dataframe tbody tr th {\n        vertical-align: top;\n    }\n\n    .dataframe thead th {\n        text-align: right;\n    }\n</style>\n<table border=\"1\" class=\"dataframe\">\n  <thead>\n    <tr style=\"text-align: right;\">\n      <th></th>\n      <th>Dialogue</th>\n      <th>Location</th>\n      <th>Condition</th>\n      <th>Event</th>\n    </tr>\n  </thead>\n  <tbody>\n    <tr>\n      <th>0</th>\n      <td>&lt;Town&gt;'s under my protection. You watch yourse...</td>\n      <td>Any Town</td>\n      <td>NaN</td>\n      <td>Player interacts with the guard in a specific ...</td>\n    </tr>\n    <tr>\n      <th>1</th>\n      <td>You've come to Dawnstar at a strange time, fri...</td>\n      <td>Dawnstar</td>\n      <td>NaN</td>\n      <td>Player interacts with the guard in a specific ...</td>\n    </tr>\n    <tr>\n      <th>2</th>\n      <td>The people here are still plagued with nightma...</td>\n      <td>Dawnstar</td>\n      <td>NaN</td>\n      <td>Player interacts with the guard in a specific ...</td>\n    </tr>\n    <tr>\n      <th>3</th>\n      <td>Dangerous post, Dawnstar. If the bandits don't...</td>\n      <td>Dawnstar</td>\n      <td>NaN</td>\n      <td>Player interacts with the guard in a specific ...</td>\n    </tr>\n    <tr>\n      <th>4</th>\n      <td>Old lady Frida is a grouch, but she sure can w...</td>\n      <td>Dawnstar</td>\n      <td>NaN</td>\n      <td>Player interacts with the guard in a specific ...</td>\n    </tr>\n    <tr>\n      <th>...</th>\n      <td>...</td>\n      <td>...</td>\n      <td>...</td>\n      <td>...</td>\n    </tr>\n    <tr>\n      <th>99</th>\n      <td>South of here, and west of the road, lies Cron...</td>\n      <td>Windhelm</td>\n      <td>NaN</td>\n      <td>Player interacts with the guard in a specific ...</td>\n    </tr>\n    <tr>\n      <th>100</th>\n      <td>I've no problem with your kind, Orc. But that ...</td>\n      <td>Windhelm</td>\n      <td>the Player is an Orc</td>\n      <td>Player interacts with the guard in a specific ...</td>\n    </tr>\n    <tr>\n      <th>101</th>\n      <td>I've no problem with Orcs. But that stronghold...</td>\n      <td>Windhelm</td>\n      <td>NaN</td>\n      <td>Player interacts with the guard in a specific ...</td>\n    </tr>\n    <tr>\n      <th>102</th>\n      <td>Across the river to the northeast lies Yngol B...</td>\n      <td>Windhelm</td>\n      <td>NaN</td>\n      <td>Player interacts with the guard in a specific ...</td>\n    </tr>\n    <tr>\n      <th>103</th>\n      <td>The Eye of Talos was a fine ship, once. Now it...</td>\n      <td>Windhelm</td>\n      <td>NaN</td>\n      <td>Player interacts with the guard in a specific ...</td>\n    </tr>\n  </tbody>\n</table>\n<p>104 rows × 4 columns</p>\n</div>"
     },
     "execution_count": 100,
     "metadata": {},
     "output_type": "execute_result"
    }
   ],
   "source": [
    "#keep the rows until row 104\n",
    "guard_interactions = guard_interactions[:104]\n",
    "guard_interactions"
   ],
   "metadata": {
    "collapsed": false,
    "ExecuteTime": {
     "end_time": "2024-06-16T09:07:46.209491100Z",
     "start_time": "2024-06-16T09:07:46.145148300Z"
    }
   },
   "id": "d79922ffe9a8b08e",
   "execution_count": 100
  },
  {
   "cell_type": "markdown",
   "source": [
    "We remove the nan values in the guard_interactions dataframe and replace them with None so we can have the correct format for the JSON file"
   ],
   "metadata": {
    "collapsed": false
   },
   "id": "62400f01b7c301cf"
  },
  {
   "cell_type": "code",
   "outputs": [],
   "source": [
    "guard_interactions = guard_interactions.where(pd.notnull(guard_interactions), None)"
   ],
   "metadata": {
    "collapsed": false,
    "ExecuteTime": {
     "end_time": "2024-06-16T09:07:46.332827500Z",
     "start_time": "2024-06-16T09:07:46.195327800Z"
    }
   },
   "id": "850cc9f9d64541c4",
   "execution_count": 101
  },
  {
   "cell_type": "markdown",
   "source": [
    "Transforming the data in the guard_interactions dataframe to a list of dictionaries with the needed structure for training and storing those dictionaries in the data variable"
   ],
   "metadata": {
    "collapsed": false
   },
   "id": "68aad2de1b76d916"
  },
  {
   "cell_type": "code",
   "outputs": [],
   "source": [
    "guard_interactions_data = [\n",
    "    {\n",
    "    \"Speaker\": \"Guard\",\n",
    "    \"Dialogue\": guard_interactions['Dialogue'][index],\n",
    "    \"Event\": guard_interactions['Event'][index],\n",
    "    \"Condition\": guard_interactions['Condition'][index],\n",
    "    \"Location\": guard_interactions['Location'][index],\n",
    "    } for index, row in guard_interactions.iterrows()]\n",
    "\n",
    "data = data + guard_interactions_data"
   ],
   "metadata": {
    "collapsed": false,
    "ExecuteTime": {
     "end_time": "2024-06-16T09:07:46.413688100Z",
     "start_time": "2024-06-16T09:07:46.322516700Z"
    }
   },
   "id": "680d3ccb17929cb6",
   "execution_count": 102
  },
  {
   "cell_type": "markdown",
   "source": [
    "We also create a JSON file with all of the dictionaries of the Guard_interactions_data"
   ],
   "metadata": {
    "collapsed": false
   },
   "id": "76cd2e16496b230a"
  },
  {
   "cell_type": "code",
   "outputs": [],
   "source": [
    "#write the guard_interactions data to a json file in the testing_for_error folder\n",
    "with open('testing_for_error/guard_interactions_data.json', 'w') as f:\n",
    "    f.write(json.dumps(guard_interactions_data, indent=4))"
   ],
   "metadata": {
    "collapsed": false,
    "ExecuteTime": {
     "end_time": "2024-06-16T09:07:46.548717800Z",
     "start_time": "2024-06-16T09:07:46.396843200Z"
    }
   },
   "id": "db178504e0f3ab07",
   "execution_count": 103
  },
  {
   "cell_type": "markdown",
   "source": [
    "#### Splitting the data for training"
   ],
   "metadata": {
    "collapsed": false
   },
   "id": "dca8fa0236de3cfb"
  },
  {
   "cell_type": "markdown",
   "source": [
    "Save the final data to a json file"
   ],
   "metadata": {
    "collapsed": false
   },
   "id": "ccb37e600be4af96"
  },
  {
   "cell_type": "code",
   "outputs": [],
   "source": [
    "# Write the shuffled data to a json file\n",
    "with open('dataset_final_results/data.json', 'w') as f:\n",
    "    f.write(json.dumps(data, indent=4))"
   ],
   "metadata": {
    "collapsed": false,
    "ExecuteTime": {
     "end_time": "2024-06-16T09:07:46.623609500Z",
     "start_time": "2024-06-16T09:07:46.546717700Z"
    }
   },
   "id": "1f5f34163a6296c9",
   "execution_count": 104
  },
  {
   "cell_type": "markdown",
   "source": [
    "Save a copy of the data to a json file"
   ],
   "metadata": {
    "collapsed": false
   },
   "id": "14576cc210cf77b3"
  },
  {
   "cell_type": "code",
   "outputs": [
    {
     "name": "stdout",
     "output_type": "stream",
     "text": [
      "1773\n",
      "The training dataset should have: 1418.4, items\n",
      "The validation dataset should have: 177.3, items\n",
      "The test dataset should have: 177.3, items\n"
     ]
    }
   ],
   "source": [
    "#Print the length of the string data\n",
    "print(len(data))\n",
    "\n",
    "#Print the 80% of the string data\n",
    "print(f'The training dataset should have: {0.8*len(data)}, items')\n",
    "\n",
    "#Print the 10% of the string data\n",
    "print(f'The validation dataset should have: {0.1*len(data)}, items')\n",
    "\n",
    "#Print the 10% of the string data\n",
    "print(f'The test dataset should have: {0.1*len(data)}, items')"
   ],
   "metadata": {
    "collapsed": false,
    "ExecuteTime": {
     "end_time": "2024-06-16T09:07:46.727645600Z",
     "start_time": "2024-06-16T09:07:46.608382200Z"
    }
   },
   "id": "4facaf742483df9d",
   "execution_count": 105
  },
  {
   "cell_type": "code",
   "outputs": [
    {
     "name": "stdout",
     "output_type": "stream",
     "text": [
      "Unique Events: 120\n",
      "Unique Speakers: 129\n",
      "Unique Dialogues: 1256\n"
     ]
    }
   ],
   "source": [
    "#count the number of unique events in the data\n",
    "unique_events = len(set([item['Event'] for item in data]))\n",
    "\n",
    "#Count the number of unique Speakers in the data\n",
    "unique_speakers = len(set([item['Speaker'] for item in data]))\n",
    "\n",
    "#Count the number of unique Dialogues in the data\n",
    "unique_dialogues = len(set([item['Dialogue'] for item in data]))\n",
    "\n",
    "#Print the number of unique events, speakers, and dialogues\n",
    "print(f'Unique Events: {unique_events}')\n",
    "print(f'Unique Speakers: {unique_speakers}')\n",
    "print(f'Unique Dialogues: {unique_dialogues}')"
   ],
   "metadata": {
    "collapsed": false,
    "ExecuteTime": {
     "end_time": "2024-06-16T09:07:46.775656300Z",
     "start_time": "2024-06-16T09:07:46.717630700Z"
    }
   },
   "id": "209eb0da19ba051f",
   "execution_count": 106
  },
  {
   "cell_type": "markdown",
   "source": [
    "The `custom_train_val_test_split function` splits a dataset into training, validation, and test sets based on the number of elements associated with each unique event key. It groups items by their event key, then processes each group according to its size: single items go to the training set, pairs are split between training and validation,and larger groups are proportionally divided into training, validation, and test sets using calculated sizes. The function ensures each split contains at least one item when possible, handling edge cases to maintain data integrity. This approach ensures balanced, event-respecting splits, providing a representative division for model training and evaluation. \n",
    "\n",
    "The percentage of 0.844 is used so that the final split is the closest to and 80-10-10 split, because taking the 80% of each event does not equate to 80% of the total data."
   ],
   "metadata": {
    "collapsed": false
   },
   "id": "9a9c8f5fb1f6806a"
  },
  {
   "cell_type": "code",
   "outputs": [
    {
     "name": "stdout",
     "output_type": "stream",
     "text": [
      "Train Data Length: 1416\n",
      "Validation Data Length: 175\n",
      "Test Data Length: 182\n"
     ]
    }
   ],
   "source": [
    "# Custom function to split data based on the number of elements for each event\n",
    "def custom_train_val_test_split(data, event_key):\n",
    "    event_dict = defaultdict(list)\n",
    "    for item in data:\n",
    "        event_dict[item[event_key]].append(item)\n",
    "    \n",
    "    train_data = []\n",
    "    validation_data = []\n",
    "    test_data = []\n",
    "    \n",
    "    for event, items in event_dict.items():\n",
    "        \n",
    "        if len(items) == 1:\n",
    "            train_data.extend(items)\n",
    "        elif len(items) == 2:\n",
    "            train_data.append(items[0])\n",
    "            validation_data.append(items[1])\n",
    "        else:\n",
    "            # Calculate sizes for train, val, and test\n",
    "            n_train = max(1, int(len(items) * 0.844))\n",
    "            n_val_test = len(items) - n_train\n",
    "            n_val = max(1, n_val_test // 2)\n",
    "            n_test = n_val_test - n_val\n",
    "            \n",
    "            # Handle edge cases to ensure valid test_size\n",
    "            if n_val_test == 0:\n",
    "                train_split, val_test_split = items, []\n",
    "            else:\n",
    "                train_split, val_test_split = train_test_split(items, test_size=n_val_test, stratify=[item[event_key] for item in items],random_state=42)\n",
    "            \n",
    "            if len(val_test_split) == 1:\n",
    "                validation_split, test_split = val_test_split, []\n",
    "            else:\n",
    "                if n_test == 0:\n",
    "                    validation_split, test_split = val_test_split, []\n",
    "                else:\n",
    "                    validation_split, test_split = train_test_split(val_test_split, test_size=n_test, stratify=[item[event_key] for item in val_test_split], random_state=42)\n",
    "            \n",
    "            # Ensure each set has at least one item\n",
    "            if not validation_split:\n",
    "                validation_split.append(train_split.pop())\n",
    "            if not test_split:\n",
    "                test_split.append(train_split.pop())\n",
    "            \n",
    "            train_data.extend(train_split)\n",
    "            validation_data.extend(validation_split)\n",
    "            test_data.extend(test_split)\n",
    "    \n",
    "    return train_data, validation_data, test_data\n",
    "\n",
    "# Split the data\n",
    "train_data_strat, validation_data_strat, test_data_strat = custom_train_val_test_split(data, 'Event')\n",
    "\n",
    "# Print lengths\n",
    "print(f'Train Data Length: {len(train_data_strat)}')\n",
    "print(f'Validation Data Length: {len(validation_data_strat)}')\n",
    "print(f'Test Data Length: {len(test_data_strat)}')"
   ],
   "metadata": {
    "collapsed": false,
    "ExecuteTime": {
     "end_time": "2024-06-16T09:07:46.938818500Z",
     "start_time": "2024-06-16T09:07:46.759652300Z"
    }
   },
   "id": "c680bb0253d96fc0",
   "execution_count": 107
  },
  {
   "cell_type": "markdown",
   "source": [
    "We can see that the results are relatively close to the 80-10-10 split"
   ],
   "metadata": {
    "collapsed": false
   },
   "id": "fa1b3f665b7096d3"
  },
  {
   "cell_type": "markdown",
   "source": [
    "Ensuring that all unique events are present in the train, validation, and test data"
   ],
   "metadata": {
    "collapsed": false
   },
   "id": "17c44cff1185029c"
  },
  {
   "cell_type": "code",
   "outputs": [
    {
     "name": "stdout",
     "output_type": "stream",
     "text": [
      "Total missing events: 0\n"
     ]
    }
   ],
   "source": [
    "# from the string data create a list with all the unique events but exclude the events with 1 or 2 elements\n",
    "unique_events = [event for event in set([item['Event'] for item in data]) if sum([item['Event'] == event for item in data]) > 2]\n",
    "\n",
    "# Check if each event is present in the train, validation, and test data and print the count of the total number of events missing\n",
    "missing_events = 0\n",
    "for event in unique_events:\n",
    "    if event not in [item['Event'] for item in train_data_strat]:\n",
    "        missing_events += 1\n",
    "        print(f'Event \"{event}\" not in train data')\n",
    "    if event not in [item['Event'] for item in validation_data_strat]:\n",
    "        missing_events += 1\n",
    "        print(f'Event \"{event}\" not in validation data')\n",
    "    if event not in [item['Event'] for item in test_data_strat]:\n",
    "        missing_events += 1\n",
    "        print(f'Event \"{event}\" not in test data')\n",
    "        \n",
    "print(f'Total missing events: {missing_events}')"
   ],
   "metadata": {
    "collapsed": false,
    "ExecuteTime": {
     "end_time": "2024-06-16T09:07:47.029559800Z",
     "start_time": "2024-06-16T09:07:46.885807300Z"
    }
   },
   "id": "31da8ccc3f943b90",
   "execution_count": 108
  },
  {
   "cell_type": "markdown",
   "source": [
    "Finally, we write the stratified and split data to json files in the results folder"
   ],
   "metadata": {
    "collapsed": false
   },
   "id": "c9ed078d3cf89af3"
  },
  {
   "cell_type": "code",
   "outputs": [],
   "source": [
    "# Write the stratified and split data to json files in the results folder\n",
    "with open('dataset_final_results/stratified_train.json', 'w') as f:\n",
    "    f.write(json.dumps(train_data_strat, indent=4))\n",
    "    \n",
    "with open('dataset_final_results/stratified_val.json', 'w') as f:\n",
    "    f.write(json.dumps(validation_data_strat, indent=4))\n",
    "\n",
    "with open('dataset_final_results/stratified_test.json', 'w') as f:\n",
    "    f.write(json.dumps(test_data_strat, indent=4))"
   ],
   "metadata": {
    "collapsed": false,
    "ExecuteTime": {
     "end_time": "2024-06-16T09:07:47.096576300Z",
     "start_time": "2024-06-16T09:07:46.959823100Z"
    }
   },
   "id": "6061ff1093c9e7f0",
   "execution_count": 109
  },
  {
   "cell_type": "markdown",
   "source": [
    "### Introduction sheet\n",
    "\n",
    "The introduction sheet is a sheet, in the same Excel as the previous sheets, that contains the introductory monologue of a game. The monologue is the first thing that the player hears when they start a game. It contains the columns Game, Introduction, and Context. The Game column contains the name of the game, the Introduction column contains the monologue, and the Context column contains some context for the games story."
   ],
   "metadata": {
    "collapsed": false
   },
   "id": "1aecb3db2aaaa8b6"
  },
  {
   "cell_type": "markdown",
   "source": [
    "Importing the Introduction sheet and removing and replacing the nessary characters from the dataframe"
   ],
   "metadata": {
    "collapsed": false
   },
   "id": "75f74ada6f1f0386"
  },
  {
   "cell_type": "code",
   "outputs": [],
   "source": [
    "#add the Introduction sheet to the json file\n",
    "introduction = pd.read_excel('testing_excel.xlsx', sheet_name='Introduction')"
   ],
   "metadata": {
    "collapsed": false,
    "ExecuteTime": {
     "end_time": "2024-06-16T09:07:47.236632600Z",
     "start_time": "2024-06-16T09:07:47.093574400Z"
    }
   },
   "id": "99e451a0d6beb009",
   "execution_count": 110
  },
  {
   "cell_type": "code",
   "outputs": [],
   "source": [
    "#remove the \\n character from the dataframe\n",
    "introduction = introduction.replace(u'\\n', ' ', regex=True)\n",
    "#remove the \\u2019 character from the dataframe\n",
    "introduction = introduction.replace(u'\\u2019', \"'\", regex=True)\n",
    "#remove the \\u00a0 character from the dataframe\n",
    "introduction = introduction.replace(u'\\u00a0', ' ', regex=True)\n",
    "#remove the \\xa0 character from the dataframe\n",
    "introduction = introduction.replace(u'\\xa0', ' ', regex=True)\n",
    "#remove the \\u2014 character from the dataframe\n",
    "introduction = introduction.replace(u'\\u2014', '--', regex=True)\n",
    "#remove the \\u2026 character from the dataframe\n",
    "introduction = introduction.replace(u'\\u2026', '...', regex=True)"
   ],
   "metadata": {
    "collapsed": false,
    "ExecuteTime": {
     "end_time": "2024-06-16T09:07:47.280036500Z",
     "start_time": "2024-06-16T09:07:47.214569300Z"
    }
   },
   "id": "9574bde577360309",
   "execution_count": 111
  },
  {
   "cell_type": "markdown",
   "source": [
    "Transforming the data in the Introduction dataframe to a list of dictionaries with the needed structure for training and storing those dictionaries in the data variable"
   ],
   "metadata": {
    "collapsed": false
   },
   "id": "6b9bbc7a686f1b81"
  },
  {
   "cell_type": "code",
   "outputs": [],
   "source": [
    "introduction_data = [\n",
    "    {\n",
    "    \"Game\": introduction['Game'][index],\n",
    "    \"Monologue\": introduction['Introduction'][index],\n",
    "    \"Context\": introduction['Context'][index],\n",
    "    } for index, row in introduction.iterrows()]"
   ],
   "metadata": {
    "collapsed": false,
    "ExecuteTime": {
     "end_time": "2024-06-16T09:07:47.384697900Z",
     "start_time": "2024-06-16T09:07:47.269639700Z"
    }
   },
   "id": "c04db444057cbc8d",
   "execution_count": 112
  },
  {
   "cell_type": "markdown",
   "source": [
    "We also create a JSON file with all of the dictionaries of the Introduction_data"
   ],
   "metadata": {
    "collapsed": false
   },
   "id": "889a29a5c7f3dd68"
  },
  {
   "cell_type": "code",
   "outputs": [],
   "source": [
    "#pass the introduction data to a json file\n",
    "with open('testing_for_error/introduction_data.json', 'w') as f:\n",
    "    f.write(json.dumps(introduction_data, indent=4))"
   ],
   "metadata": {
    "collapsed": false,
    "ExecuteTime": {
     "end_time": "2024-06-16T09:07:47.430755100Z",
     "start_time": "2024-06-16T09:07:47.375057400Z"
    }
   },
   "id": "cb9a9403601a7006",
   "execution_count": 113
  },
  {
   "cell_type": "markdown",
   "source": [
    "#### Splitting the Introduction data for training"
   ],
   "metadata": {
    "collapsed": false
   },
   "id": "cdb920a0509dd795"
  },
  {
   "cell_type": "markdown",
   "source": [
    "In this case we will follow a simpler approach to split the introduction data into train, validation, and test data. We will shuffle the data and then split it into 80% train, 10% validation, and 10% test data."
   ],
   "metadata": {
    "collapsed": false
   },
   "id": "b782ccc141efaa23"
  },
  {
   "cell_type": "code",
   "outputs": [
    {
     "name": "stdout",
     "output_type": "stream",
     "text": [
      "Introduction Data Length: 50\n",
      "The training dataset should have: 40.0, items\n",
      "The validation dataset should have: 5.0, items\n",
      "The test dataset should have: 5.0, items\n"
     ]
    }
   ],
   "source": [
    "# Print the length of the introduction data\n",
    "print(f'Introduction Data Length: {len(introduction_data)}')\n",
    "\n",
    "# Print the 80% of the introduction data\n",
    "print(f'The training dataset should have: {0.8*len(introduction_data)}, items')\n",
    "\n",
    "# Print the 10% of the introduction data\n",
    "print(f'The validation dataset should have: {0.1*len(introduction_data)}, items')\n",
    "\n",
    "# Print the 10% of the introduction data\n",
    "print(f'The test dataset should have: {0.1*len(introduction_data)}, items')"
   ],
   "metadata": {
    "collapsed": false,
    "ExecuteTime": {
     "end_time": "2024-06-16T09:07:47.533996700Z",
     "start_time": "2024-06-16T09:07:47.417706300Z"
    }
   },
   "id": "fe4e6ecea7c7592e",
   "execution_count": 114
  },
  {
   "cell_type": "markdown",
   "source": [
    "Shuffle the introduction data and split it into train, validation, and test data"
   ],
   "metadata": {
    "collapsed": false
   },
   "id": "fdeee59eb854615f"
  },
  {
   "cell_type": "code",
   "outputs": [
    {
     "name": "stdout",
     "output_type": "stream",
     "text": [
      "Train Data Length: 40\n",
      "Validation Data Length: 5\n",
      "Test Data Length: 5\n"
     ]
    }
   ],
   "source": [
    "#split the data into train, validation and test data first into 80 20 and then split the 20 into 50 50\n",
    "train_data_introduction, temp_data_introduction = train_test_split(introduction_data, test_size=0.2, random_state=5)\n",
    "\n",
    "validation_data_introduction, test_data_introduction = train_test_split(temp_data_introduction, test_size=0.5, random_state=5)\n",
    "\n",
    "# Print the lengths of the train, validation, and test data\n",
    "print(f'Train Data Length: {len(train_data_introduction)}')\n",
    "print(f'Validation Data Length: {len(validation_data_introduction)}')\n",
    "print(f'Test Data Length: {len(test_data_introduction)}')"
   ],
   "metadata": {
    "collapsed": false,
    "ExecuteTime": {
     "end_time": "2024-06-16T09:07:47.578493Z",
     "start_time": "2024-06-16T09:07:47.524776200Z"
    }
   },
   "id": "79c89192ac34d3e6",
   "execution_count": 115
  },
  {
   "cell_type": "markdown",
   "source": [
    "We can see that it is spot on, on the 80-10-10 split"
   ],
   "metadata": {
    "collapsed": false
   },
   "id": "2662b23ec862c792"
  },
  {
   "cell_type": "markdown",
   "source": [
    "We write the introduction train, validation, and test data to json files in the results folder"
   ],
   "metadata": {
    "collapsed": false
   },
   "id": "2cf70de9f6adcc7d"
  },
  {
   "cell_type": "code",
   "outputs": [],
   "source": [
    "# Add the train, validation, and test data to the results folder\n",
    "with open('dataset_final_results/introduction_train.json', 'w') as f:\n",
    "    f.write(json.dumps(train_data_introduction, indent=4))\n",
    "    \n",
    "with open('dataset_final_results/introduction_val.json', 'w') as f:\n",
    "    f.write(json.dumps(validation_data_introduction, indent=4))\n",
    "    \n",
    "with open('dataset_final_results/introduction_test.json', 'w') as f:\n",
    "    f.write(json.dumps(test_data_introduction, indent=4))"
   ],
   "metadata": {
    "collapsed": false,
    "ExecuteTime": {
     "end_time": "2024-06-16T09:07:47.707102600Z",
     "start_time": "2024-06-16T09:07:47.568003600Z"
    }
   },
   "id": "b2941c46e61ac1cb",
   "execution_count": 116
  },
  {
   "cell_type": "markdown",
   "source": [
    " finally we create the final train, validation, and test datasets by combining the stratified and introduction splits"
   ],
   "metadata": {
    "collapsed": false
   },
   "id": "1fe4e5be3ebd02c1"
  },
  {
   "cell_type": "code",
   "outputs": [
    {
     "name": "stdout",
     "output_type": "stream",
     "text": [
      "Final Train Data Length: 1456\n",
      "Final Validation Data Length: 180\n",
      "Final Test Data Length: 187\n"
     ]
    }
   ],
   "source": [
    "# Create the final train test and validation datasets by combining the stratified and introduction json files\n",
    "final_train_data = train_data_strat + train_data_introduction\n",
    "final_val_data = validation_data_strat + validation_data_introduction\n",
    "final_test_data = test_data_strat + test_data_introduction\n",
    "\n",
    "# print the lengths of the final train, validation and test data\n",
    "print(f'Final Train Data Length: {len(final_train_data)}')\n",
    "print(f'Final Validation Data Length: {len(final_val_data)}')\n",
    "print(f'Final Test Data Length: {len(final_test_data)}')"
   ],
   "metadata": {
    "collapsed": false,
    "ExecuteTime": {
     "end_time": "2024-06-16T09:07:47.748309100Z",
     "start_time": "2024-06-16T09:07:47.693022500Z"
    }
   },
   "id": "ae15fe6cd566d918",
   "execution_count": 117
  },
  {
   "cell_type": "markdown",
   "source": [
    "We write the final train, validation, and test data to json files in the results folder"
   ],
   "metadata": {
    "collapsed": false
   },
   "id": "89115662b18437be"
  },
  {
   "cell_type": "code",
   "outputs": [],
   "source": [
    "# Write the final train, validation, and test data to json files in the results folder\n",
    "with open('dataset_final_results/final_train.json', 'w') as f:\n",
    "    f.write(json.dumps(final_train_data, indent=4))\n",
    "    \n",
    "with open('dataset_final_results/final_val.json', 'w') as f:\n",
    "    f.write(json.dumps(final_val_data, indent=4))\n",
    "    \n",
    "with open('dataset_final_results/final_test.json', 'w') as f:\n",
    "    f.write(json.dumps(final_test_data, indent=4))"
   ],
   "metadata": {
    "collapsed": false,
    "ExecuteTime": {
     "end_time": "2024-06-16T09:07:47.852382700Z",
     "start_time": "2024-06-16T09:07:47.738306500Z"
    }
   },
   "id": "7c4aa490e8bcad85",
   "execution_count": 118
  },
  {
   "cell_type": "markdown",
   "source": [
    "Finally, we create a function to detele the contents of the results folder and the testing_for_error folder in case we need to run the code again"
   ],
   "metadata": {
    "collapsed": false
   },
   "id": "cef7cca7f31eddef"
  },
  {
   "cell_type": "code",
   "outputs": [],
   "source": [
    "# Delete the contents of the results folder and the testing_for_error folder\n",
    "def delete_contents(folder):\n",
    "    for filename in os.listdir(folder):\n",
    "        file_path = os.path.join(folder, filename)\n",
    "        try:\n",
    "            if os.path.isfile(file_path) or os.path.islink(file_path):\n",
    "                os.unlink(file_path)\n",
    "            elif os.path.isdir(file_path):\n",
    "                shutil.rmtree(file_path)\n",
    "        except Exception as e:\n",
    "            print('Failed to delete %s. Reason: %s' % (file_path, e))\n",
    "     \n",
    "folder = 'dataset_final_results'\n",
    "delete_contents(folder)\n",
    "folder = 'testing_for_error'\n",
    "delete_contents(folder)"
   ],
   "metadata": {
    "collapsed": false,
    "ExecuteTime": {
     "end_time": "2024-06-15T10:16:40.120772100Z",
     "start_time": "2024-06-15T10:16:40.028549Z"
    }
   },
   "id": "4351b4f90a4ee95e",
   "execution_count": 2
  }
 ],
 "metadata": {
  "kernelspec": {
   "display_name": "Python 3",
   "language": "python",
   "name": "python3"
  },
  "language_info": {
   "codemirror_mode": {
    "name": "ipython",
    "version": 2
   },
   "file_extension": ".py",
   "mimetype": "text/x-python",
   "name": "python",
   "nbconvert_exporter": "python",
   "pygments_lexer": "ipython2",
   "version": "2.7.6"
  }
 },
 "nbformat": 4,
 "nbformat_minor": 5
}
