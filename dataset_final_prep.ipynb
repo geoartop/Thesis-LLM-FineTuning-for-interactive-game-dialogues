{
 "cells": [
  {
   "cell_type": "code",
   "outputs": [],
   "source": [
    "import pandas as pd"
   ],
   "metadata": {
    "collapsed": false,
    "ExecuteTime": {
     "end_time": "2024-05-20T12:21:37.502327Z",
     "start_time": "2024-05-20T12:21:36.698424Z"
    }
   },
   "id": "7d4cb6598bcc9810",
   "execution_count": 2
  },
  {
   "cell_type": "code",
   "outputs": [],
   "source": [
    "def convert_all_to_string(data):\n",
    "    \"\"\"\n",
    "    Recursively convert all data in a dictionary or list to string.\n",
    "    \"\"\"\n",
    "    if isinstance(data, dict):\n",
    "        return {key: convert_all_to_string(value) for key, value in data.items()}\n",
    "    elif isinstance(data, list):\n",
    "        return [convert_all_to_string(item) for item in data]\n",
    "    else:\n",
    "        return str(data)"
   ],
   "metadata": {
    "collapsed": false,
    "ExecuteTime": {
     "end_time": "2024-05-20T12:21:37.508451Z",
     "start_time": "2024-05-20T12:21:37.503352Z"
    }
   },
   "id": "63bd82b1d8f373a9",
   "execution_count": 3
  },
  {
   "cell_type": "code",
   "execution_count": 336,
   "id": "initial_id",
   "metadata": {
    "collapsed": true,
    "ExecuteTime": {
     "end_time": "2024-05-20T10:52:28.420881Z",
     "start_time": "2024-05-20T10:52:28.282102Z"
    }
   },
   "outputs": [],
   "source": [
    "#load the xls file without containing any links\n",
    "df = pd.read_excel('testing_excel.xlsx', sheet_name='Greeting_Goodbyes')"
   ]
  },
  {
   "cell_type": "code",
   "outputs": [],
   "source": [
    "df = df.replace(u'\\xa0', u' ', regex=True)"
   ],
   "metadata": {
    "collapsed": false,
    "ExecuteTime": {
     "end_time": "2024-05-17T09:28:51.571144Z",
     "start_time": "2024-05-17T09:28:51.566701Z"
    }
   },
   "id": "2df8c56a3a9c9ea6",
   "execution_count": 179
  },
  {
   "cell_type": "code",
   "outputs": [
    {
     "data": {
      "text/plain": "                                             Greetings         Voicetype  \\\n0                                               \"Hmm?\"               Any   \n1                                    \"Need something?\"               Any   \n2                                               \"Yes?\"               Any   \n3       \"Ours is to smile at your passing, friend.(F)\"      MaleArgonian   \n4    \"It fills us with rage. What harm does it brin...      MaleArgonian   \n..                                                 ...               ...   \n155                           \"What can I do for you?\"  FemaleYoungEager   \n156                      \"Oh, did you need something?\"    MaleYoungEager   \n157                      \"Oh, did you need something?\"  FemaleYoungEager   \n158              \"It's a fine day with you around.(F)\"  FemaleYoungEager   \n159  \"You. Every time I look at you my blood boils....  FemaleYoungEager   \n\n               Goodbyes  \n0    \"Until next time.\"  \n1            \"Hmm hmm.\"  \n2    \"All right, then.\"  \n3                   NaN  \n4                   NaN  \n..                  ...  \n155                 NaN  \n156                 NaN  \n157                 NaN  \n158                 NaN  \n159                 NaN  \n\n[160 rows x 3 columns]",
      "text/html": "<div>\n<style scoped>\n    .dataframe tbody tr th:only-of-type {\n        vertical-align: middle;\n    }\n\n    .dataframe tbody tr th {\n        vertical-align: top;\n    }\n\n    .dataframe thead th {\n        text-align: right;\n    }\n</style>\n<table border=\"1\" class=\"dataframe\">\n  <thead>\n    <tr style=\"text-align: right;\">\n      <th></th>\n      <th>Greetings</th>\n      <th>Voicetype</th>\n      <th>Goodbyes</th>\n    </tr>\n  </thead>\n  <tbody>\n    <tr>\n      <th>0</th>\n      <td>\"Hmm?\"</td>\n      <td>Any</td>\n      <td>\"Until next time.\"</td>\n    </tr>\n    <tr>\n      <th>1</th>\n      <td>\"Need something?\"</td>\n      <td>Any</td>\n      <td>\"Hmm hmm.\"</td>\n    </tr>\n    <tr>\n      <th>2</th>\n      <td>\"Yes?\"</td>\n      <td>Any</td>\n      <td>\"All right, then.\"</td>\n    </tr>\n    <tr>\n      <th>3</th>\n      <td>\"Ours is to smile at your passing, friend.(F)\"</td>\n      <td>MaleArgonian</td>\n      <td>NaN</td>\n    </tr>\n    <tr>\n      <th>4</th>\n      <td>\"It fills us with rage. What harm does it brin...</td>\n      <td>MaleArgonian</td>\n      <td>NaN</td>\n    </tr>\n    <tr>\n      <th>...</th>\n      <td>...</td>\n      <td>...</td>\n      <td>...</td>\n    </tr>\n    <tr>\n      <th>155</th>\n      <td>\"What can I do for you?\"</td>\n      <td>FemaleYoungEager</td>\n      <td>NaN</td>\n    </tr>\n    <tr>\n      <th>156</th>\n      <td>\"Oh, did you need something?\"</td>\n      <td>MaleYoungEager</td>\n      <td>NaN</td>\n    </tr>\n    <tr>\n      <th>157</th>\n      <td>\"Oh, did you need something?\"</td>\n      <td>FemaleYoungEager</td>\n      <td>NaN</td>\n    </tr>\n    <tr>\n      <th>158</th>\n      <td>\"It's a fine day with you around.(F)\"</td>\n      <td>FemaleYoungEager</td>\n      <td>NaN</td>\n    </tr>\n    <tr>\n      <th>159</th>\n      <td>\"You. Every time I look at you my blood boils....</td>\n      <td>FemaleYoungEager</td>\n      <td>NaN</td>\n    </tr>\n  </tbody>\n</table>\n<p>160 rows × 3 columns</p>\n</div>"
     },
     "execution_count": 180,
     "metadata": {},
     "output_type": "execute_result"
    }
   ],
   "source": [
    "df"
   ],
   "metadata": {
    "collapsed": false,
    "ExecuteTime": {
     "end_time": "2024-05-17T09:28:51.667419Z",
     "start_time": "2024-05-17T09:28:51.657522Z"
    }
   },
   "id": "53845331e3cfb668",
   "execution_count": 180
  },
  {
   "cell_type": "code",
   "outputs": [],
   "source": [
    "#split the dataframe in two dataframes, one with the columns Greetings and Voicetype and the other with the columns Goodbye and Voicetype\n",
    "Greetings = df[['Greetings', 'Voicetype']]\n",
    "\n",
    "#Drop the rows where Greetings is NaN\n",
    "Greetings = Greetings.dropna(subset=['Greetings'])\n",
    "\n",
    "Goodbyes = df[['Goodbyes', 'Voicetype']]\n",
    "\n",
    "#drop the rows where goodbyes is NaN\n",
    "Goodbyes = Goodbyes.dropna(subset=['Goodbyes'])"
   ],
   "metadata": {
    "collapsed": false,
    "ExecuteTime": {
     "end_time": "2024-05-17T09:28:51.783157Z",
     "start_time": "2024-05-17T09:28:51.776317Z"
    }
   },
   "id": "a7e382092fb28c17",
   "execution_count": 181
  },
  {
   "cell_type": "code",
   "outputs": [
    {
     "data": {
      "text/plain": "                                             Greetings         Voicetype\n0                                               \"Hmm?\"               Any\n1                                    \"Need something?\"               Any\n2                                               \"Yes?\"               Any\n3       \"Ours is to smile at your passing, friend.(F)\"      MaleArgonian\n4    \"It fills us with rage. What harm does it brin...      MaleArgonian\n..                                                 ...               ...\n155                           \"What can I do for you?\"  FemaleYoungEager\n156                      \"Oh, did you need something?\"    MaleYoungEager\n157                      \"Oh, did you need something?\"  FemaleYoungEager\n158              \"It's a fine day with you around.(F)\"  FemaleYoungEager\n159  \"You. Every time I look at you my blood boils....  FemaleYoungEager\n\n[160 rows x 2 columns]",
      "text/html": "<div>\n<style scoped>\n    .dataframe tbody tr th:only-of-type {\n        vertical-align: middle;\n    }\n\n    .dataframe tbody tr th {\n        vertical-align: top;\n    }\n\n    .dataframe thead th {\n        text-align: right;\n    }\n</style>\n<table border=\"1\" class=\"dataframe\">\n  <thead>\n    <tr style=\"text-align: right;\">\n      <th></th>\n      <th>Greetings</th>\n      <th>Voicetype</th>\n    </tr>\n  </thead>\n  <tbody>\n    <tr>\n      <th>0</th>\n      <td>\"Hmm?\"</td>\n      <td>Any</td>\n    </tr>\n    <tr>\n      <th>1</th>\n      <td>\"Need something?\"</td>\n      <td>Any</td>\n    </tr>\n    <tr>\n      <th>2</th>\n      <td>\"Yes?\"</td>\n      <td>Any</td>\n    </tr>\n    <tr>\n      <th>3</th>\n      <td>\"Ours is to smile at your passing, friend.(F)\"</td>\n      <td>MaleArgonian</td>\n    </tr>\n    <tr>\n      <th>4</th>\n      <td>\"It fills us with rage. What harm does it brin...</td>\n      <td>MaleArgonian</td>\n    </tr>\n    <tr>\n      <th>...</th>\n      <td>...</td>\n      <td>...</td>\n    </tr>\n    <tr>\n      <th>155</th>\n      <td>\"What can I do for you?\"</td>\n      <td>FemaleYoungEager</td>\n    </tr>\n    <tr>\n      <th>156</th>\n      <td>\"Oh, did you need something?\"</td>\n      <td>MaleYoungEager</td>\n    </tr>\n    <tr>\n      <th>157</th>\n      <td>\"Oh, did you need something?\"</td>\n      <td>FemaleYoungEager</td>\n    </tr>\n    <tr>\n      <th>158</th>\n      <td>\"It's a fine day with you around.(F)\"</td>\n      <td>FemaleYoungEager</td>\n    </tr>\n    <tr>\n      <th>159</th>\n      <td>\"You. Every time I look at you my blood boils....</td>\n      <td>FemaleYoungEager</td>\n    </tr>\n  </tbody>\n</table>\n<p>160 rows × 2 columns</p>\n</div>"
     },
     "execution_count": 182,
     "metadata": {},
     "output_type": "execute_result"
    }
   ],
   "source": [
    "Greetings"
   ],
   "metadata": {
    "collapsed": false,
    "ExecuteTime": {
     "end_time": "2024-05-17T09:28:51.848465Z",
     "start_time": "2024-05-17T09:28:51.840105Z"
    }
   },
   "id": "3c0c1edf06002181",
   "execution_count": 182
  },
  {
   "cell_type": "code",
   "outputs": [
    {
     "data": {
      "text/plain": "                          Goodbyes              Voicetype\n0               \"Until next time.\"                    Any\n1                       \"Hmm hmm.\"                    Any\n2               \"All right, then.\"                    Any\n21     \"I'll take my leave, then.\"          MaleCommander\n22     \"I'll take my leave, then.\"      MaleNordCommander\n30     \"I'll take my leave, then.\"        FemaleCommander\n42    \"Now if you'll excuse me...\"      MaleCondescending\n45      Now if you'll excuse me...    FemaleCondescending\n60                 \"Safe travels.\"            MaleDarkElf\n63                 \"Safe travels.\"          FemaleDarkElf\n68                  \"Yeah yeah...\"              MaleDrunk\n83                     \"Farewell.\"          MaleEvenToned\n84                     \"Farewell.\"  MaleEvenTonedAccented\n89                     \"Farewell.\"        FemaleEvenToned\n95                \"Swift hunting.\"            MaleKhajiit\n98                \"Swift hunting.\"          FemaleKhajiit\n99   \"May you walk on warm sands.\"            MaleKhajiit\n100  \"May you walk on warm sands.\"          FemaleKhajiit\n103                         \"Aye.\"               MaleNord\n106                         \"Aye.\"             FemaleNord\n123              \"Take care, now.\"          MaleOldKindly\n126              \"Take care, now.\"        FemaleOldKindly\n132                  \"Fight well.\"                MaleOrc\n134                  \"Fight well.\"              FemaleOrc\n146        \"It's been a pleasure.\"           FemaleSultry\n149              \"See you around.\"           FemaleSultry\n152        \"I'd better get going.\"         MaleYoungEager",
      "text/html": "<div>\n<style scoped>\n    .dataframe tbody tr th:only-of-type {\n        vertical-align: middle;\n    }\n\n    .dataframe tbody tr th {\n        vertical-align: top;\n    }\n\n    .dataframe thead th {\n        text-align: right;\n    }\n</style>\n<table border=\"1\" class=\"dataframe\">\n  <thead>\n    <tr style=\"text-align: right;\">\n      <th></th>\n      <th>Goodbyes</th>\n      <th>Voicetype</th>\n    </tr>\n  </thead>\n  <tbody>\n    <tr>\n      <th>0</th>\n      <td>\"Until next time.\"</td>\n      <td>Any</td>\n    </tr>\n    <tr>\n      <th>1</th>\n      <td>\"Hmm hmm.\"</td>\n      <td>Any</td>\n    </tr>\n    <tr>\n      <th>2</th>\n      <td>\"All right, then.\"</td>\n      <td>Any</td>\n    </tr>\n    <tr>\n      <th>21</th>\n      <td>\"I'll take my leave, then.\"</td>\n      <td>MaleCommander</td>\n    </tr>\n    <tr>\n      <th>22</th>\n      <td>\"I'll take my leave, then.\"</td>\n      <td>MaleNordCommander</td>\n    </tr>\n    <tr>\n      <th>30</th>\n      <td>\"I'll take my leave, then.\"</td>\n      <td>FemaleCommander</td>\n    </tr>\n    <tr>\n      <th>42</th>\n      <td>\"Now if you'll excuse me...\"</td>\n      <td>MaleCondescending</td>\n    </tr>\n    <tr>\n      <th>45</th>\n      <td>Now if you'll excuse me...</td>\n      <td>FemaleCondescending</td>\n    </tr>\n    <tr>\n      <th>60</th>\n      <td>\"Safe travels.\"</td>\n      <td>MaleDarkElf</td>\n    </tr>\n    <tr>\n      <th>63</th>\n      <td>\"Safe travels.\"</td>\n      <td>FemaleDarkElf</td>\n    </tr>\n    <tr>\n      <th>68</th>\n      <td>\"Yeah yeah...\"</td>\n      <td>MaleDrunk</td>\n    </tr>\n    <tr>\n      <th>83</th>\n      <td>\"Farewell.\"</td>\n      <td>MaleEvenToned</td>\n    </tr>\n    <tr>\n      <th>84</th>\n      <td>\"Farewell.\"</td>\n      <td>MaleEvenTonedAccented</td>\n    </tr>\n    <tr>\n      <th>89</th>\n      <td>\"Farewell.\"</td>\n      <td>FemaleEvenToned</td>\n    </tr>\n    <tr>\n      <th>95</th>\n      <td>\"Swift hunting.\"</td>\n      <td>MaleKhajiit</td>\n    </tr>\n    <tr>\n      <th>98</th>\n      <td>\"Swift hunting.\"</td>\n      <td>FemaleKhajiit</td>\n    </tr>\n    <tr>\n      <th>99</th>\n      <td>\"May you walk on warm sands.\"</td>\n      <td>MaleKhajiit</td>\n    </tr>\n    <tr>\n      <th>100</th>\n      <td>\"May you walk on warm sands.\"</td>\n      <td>FemaleKhajiit</td>\n    </tr>\n    <tr>\n      <th>103</th>\n      <td>\"Aye.\"</td>\n      <td>MaleNord</td>\n    </tr>\n    <tr>\n      <th>106</th>\n      <td>\"Aye.\"</td>\n      <td>FemaleNord</td>\n    </tr>\n    <tr>\n      <th>123</th>\n      <td>\"Take care, now.\"</td>\n      <td>MaleOldKindly</td>\n    </tr>\n    <tr>\n      <th>126</th>\n      <td>\"Take care, now.\"</td>\n      <td>FemaleOldKindly</td>\n    </tr>\n    <tr>\n      <th>132</th>\n      <td>\"Fight well.\"</td>\n      <td>MaleOrc</td>\n    </tr>\n    <tr>\n      <th>134</th>\n      <td>\"Fight well.\"</td>\n      <td>FemaleOrc</td>\n    </tr>\n    <tr>\n      <th>146</th>\n      <td>\"It's been a pleasure.\"</td>\n      <td>FemaleSultry</td>\n    </tr>\n    <tr>\n      <th>149</th>\n      <td>\"See you around.\"</td>\n      <td>FemaleSultry</td>\n    </tr>\n    <tr>\n      <th>152</th>\n      <td>\"I'd better get going.\"</td>\n      <td>MaleYoungEager</td>\n    </tr>\n  </tbody>\n</table>\n</div>"
     },
     "execution_count": 183,
     "metadata": {},
     "output_type": "execute_result"
    }
   ],
   "source": [
    "Goodbyes"
   ],
   "metadata": {
    "collapsed": false,
    "ExecuteTime": {
     "end_time": "2024-05-17T09:28:52.025092Z",
     "start_time": "2024-05-17T09:28:52.017406Z"
    }
   },
   "id": "6e3bedaa8180fc59",
   "execution_count": 183
  },
  {
   "cell_type": "code",
   "outputs": [],
   "source": [
    "#create an new column in the greetings dataframe called Tone \n",
    "Greetings['Tone'] = 'Neutral'\n",
    "\n",
    "# check the rows of the dataframe to see if there is a (H) or a (F) in the rows and change the tone to Happy or Formal\n",
    "for index, row in Greetings.iterrows():\n",
    "    if '(H)' in row['Greetings']:\n",
    "        Greetings.at[index, 'Tone'] = 'Hostile'\n",
    "        #remove the (H) from the row\n",
    "        Greetings.at[index, 'Greetings'] = Greetings.at[index, 'Greetings'].replace('(H)', '')\n",
    "    elif '(F)' in row['Greetings']:\n",
    "        Greetings.at[index, 'Tone'] = 'Friendly'\n",
    "        #remove the (F) from the row\n",
    "        Greetings.at[index, 'Greetings'] = Greetings.at[index, 'Greetings'].replace('(F)', '')\n",
    "    "
   ],
   "metadata": {
    "collapsed": false,
    "ExecuteTime": {
     "end_time": "2024-05-17T09:28:52.167520Z",
     "start_time": "2024-05-17T09:28:52.148319Z"
    }
   },
   "id": "55986540dd9e0b17",
   "execution_count": 184
  },
  {
   "cell_type": "code",
   "outputs": [],
   "source": [
    "#remove the (H) and (F) from the rows of the Greetings column\n",
    "Greetings['Greetings'] = Greetings['Greetings'].str.replace(r\"\\(H\\)\", \"\")"
   ],
   "metadata": {
    "collapsed": false,
    "ExecuteTime": {
     "end_time": "2024-05-17T09:28:52.397859Z",
     "start_time": "2024-05-17T09:28:52.392729Z"
    }
   },
   "id": "c803ca7a8c18c816",
   "execution_count": 185
  },
  {
   "cell_type": "code",
   "outputs": [
    {
     "data": {
      "text/plain": "                                             Greetings         Voicetype  \\\n0                                               \"Hmm?\"               Any   \n1                                    \"Need something?\"               Any   \n2                                               \"Yes?\"               Any   \n3          \"Ours is to smile at your passing, friend.\"      MaleArgonian   \n4    \"It fills us with rage. What harm does it brin...      MaleArgonian   \n..                                                 ...               ...   \n155                           \"What can I do for you?\"  FemaleYoungEager   \n156                      \"Oh, did you need something?\"    MaleYoungEager   \n157                      \"Oh, did you need something?\"  FemaleYoungEager   \n158                 \"It's a fine day with you around.\"  FemaleYoungEager   \n159    \"You. Every time I look at you my blood boils.\"  FemaleYoungEager   \n\n         Tone  \n0     Neutral  \n1     Neutral  \n2     Neutral  \n3    Friendly  \n4     Hostile  \n..        ...  \n155   Neutral  \n156   Neutral  \n157   Neutral  \n158  Friendly  \n159   Hostile  \n\n[160 rows x 3 columns]",
      "text/html": "<div>\n<style scoped>\n    .dataframe tbody tr th:only-of-type {\n        vertical-align: middle;\n    }\n\n    .dataframe tbody tr th {\n        vertical-align: top;\n    }\n\n    .dataframe thead th {\n        text-align: right;\n    }\n</style>\n<table border=\"1\" class=\"dataframe\">\n  <thead>\n    <tr style=\"text-align: right;\">\n      <th></th>\n      <th>Greetings</th>\n      <th>Voicetype</th>\n      <th>Tone</th>\n    </tr>\n  </thead>\n  <tbody>\n    <tr>\n      <th>0</th>\n      <td>\"Hmm?\"</td>\n      <td>Any</td>\n      <td>Neutral</td>\n    </tr>\n    <tr>\n      <th>1</th>\n      <td>\"Need something?\"</td>\n      <td>Any</td>\n      <td>Neutral</td>\n    </tr>\n    <tr>\n      <th>2</th>\n      <td>\"Yes?\"</td>\n      <td>Any</td>\n      <td>Neutral</td>\n    </tr>\n    <tr>\n      <th>3</th>\n      <td>\"Ours is to smile at your passing, friend.\"</td>\n      <td>MaleArgonian</td>\n      <td>Friendly</td>\n    </tr>\n    <tr>\n      <th>4</th>\n      <td>\"It fills us with rage. What harm does it brin...</td>\n      <td>MaleArgonian</td>\n      <td>Hostile</td>\n    </tr>\n    <tr>\n      <th>...</th>\n      <td>...</td>\n      <td>...</td>\n      <td>...</td>\n    </tr>\n    <tr>\n      <th>155</th>\n      <td>\"What can I do for you?\"</td>\n      <td>FemaleYoungEager</td>\n      <td>Neutral</td>\n    </tr>\n    <tr>\n      <th>156</th>\n      <td>\"Oh, did you need something?\"</td>\n      <td>MaleYoungEager</td>\n      <td>Neutral</td>\n    </tr>\n    <tr>\n      <th>157</th>\n      <td>\"Oh, did you need something?\"</td>\n      <td>FemaleYoungEager</td>\n      <td>Neutral</td>\n    </tr>\n    <tr>\n      <th>158</th>\n      <td>\"It's a fine day with you around.\"</td>\n      <td>FemaleYoungEager</td>\n      <td>Friendly</td>\n    </tr>\n    <tr>\n      <th>159</th>\n      <td>\"You. Every time I look at you my blood boils.\"</td>\n      <td>FemaleYoungEager</td>\n      <td>Hostile</td>\n    </tr>\n  </tbody>\n</table>\n<p>160 rows × 3 columns</p>\n</div>"
     },
     "execution_count": 186,
     "metadata": {},
     "output_type": "execute_result"
    }
   ],
   "source": [
    "Greetings"
   ],
   "metadata": {
    "collapsed": false,
    "ExecuteTime": {
     "end_time": "2024-05-17T09:28:52.599896Z",
     "start_time": "2024-05-17T09:28:52.589899Z"
    }
   },
   "id": "6d877786a969b45e",
   "execution_count": 186
  },
  {
   "cell_type": "code",
   "outputs": [
    {
     "data": {
      "text/plain": "False"
     },
     "execution_count": 187,
     "metadata": {},
     "output_type": "execute_result"
    }
   ],
   "source": [
    "#check if there is a null in the voicetype column \n",
    "Greetings['Voicetype'].isnull().values.any()"
   ],
   "metadata": {
    "collapsed": false,
    "ExecuteTime": {
     "end_time": "2024-05-17T09:28:52.845518Z",
     "start_time": "2024-05-17T09:28:52.840487Z"
    }
   },
   "id": "77b7be2b810ef82a",
   "execution_count": 187
  },
  {
   "cell_type": "code",
   "outputs": [],
   "source": [
    "import json\n",
    "\n",
    "# create a dictionary with the structure above\n",
    "Greetings_data = [\n",
    "    {\n",
    "    \"Speaker\": Greetings['Voicetype'][index],\n",
    "    \"Dialogue\": Greetings['Greetings'][index],\n",
    "    \"Tone\": Greetings['Tone'][index],\n",
    "    \"Event\": \"Greeting\",\n",
    "} for index, row in Greetings.iterrows()]\n",
    "\n",
    "data = Greetings_data   \n"
   ],
   "metadata": {
    "collapsed": false,
    "ExecuteTime": {
     "end_time": "2024-05-17T09:28:52.908991Z",
     "start_time": "2024-05-17T09:28:52.895106Z"
    }
   },
   "id": "c64c37a7308f0294",
   "execution_count": 188
  },
  {
   "cell_type": "code",
   "outputs": [],
   "source": [
    "Greetings_data = convert_all_to_string(Greetings_data)"
   ],
   "metadata": {
    "collapsed": false,
    "ExecuteTime": {
     "end_time": "2024-05-17T09:28:53.129270Z",
     "start_time": "2024-05-17T09:28:53.124846Z"
    }
   },
   "id": "eaf8622e87288665",
   "execution_count": 189
  },
  {
   "cell_type": "code",
   "outputs": [],
   "source": [
    "data_list = [Greetings_data]"
   ],
   "metadata": {
    "collapsed": false,
    "ExecuteTime": {
     "end_time": "2024-05-17T09:28:53.280812Z",
     "start_time": "2024-05-17T09:28:53.276380Z"
    }
   },
   "id": "a50ed9cc126ef578",
   "execution_count": 190
  },
  {
   "cell_type": "code",
   "outputs": [],
   "source": [
    "#write the Greeetings_data to a json file in the testing_for_error folder\n",
    "with open('testing_for_error/Greetings_data.json', 'w') as f:\n",
    "    f.write(json.dumps(Greetings_data, indent=4))\n"
   ],
   "metadata": {
    "collapsed": false,
    "ExecuteTime": {
     "end_time": "2024-05-17T09:28:53.515410Z",
     "start_time": "2024-05-17T09:28:53.470673Z"
    }
   },
   "id": "85a7a1c441ef861a",
   "execution_count": 191
  },
  {
   "cell_type": "code",
   "outputs": [],
   "source": [
    "#do the same with the Goodbyes dataframe\n",
    "Goodbyes_data = [\n",
    "    {\n",
    "    \"Speaker\": Goodbyes['Voicetype'][index],\n",
    "    \"Dialogue\": Goodbyes['Goodbyes'][index],\n",
    "    \"Event\": \"Goodbye\",\n",
    "} for index, row in Goodbyes.iterrows()]\n",
    "\n",
    "data = data + Goodbyes_data"
   ],
   "metadata": {
    "collapsed": false,
    "ExecuteTime": {
     "end_time": "2024-05-17T09:28:53.616286Z",
     "start_time": "2024-05-17T09:28:53.609942Z"
    }
   },
   "id": "264808442aff0f6b",
   "execution_count": 192
  },
  {
   "cell_type": "code",
   "outputs": [],
   "source": [
    "Goodbyes_data = convert_all_to_string(Goodbyes_data)"
   ],
   "metadata": {
    "collapsed": false,
    "ExecuteTime": {
     "end_time": "2024-05-17T09:28:53.778614Z",
     "start_time": "2024-05-17T09:28:53.773596Z"
    }
   },
   "id": "51a365390296922",
   "execution_count": 193
  },
  {
   "cell_type": "code",
   "outputs": [],
   "source": [
    "data_list.append(Goodbyes_data)"
   ],
   "metadata": {
    "collapsed": false,
    "ExecuteTime": {
     "end_time": "2024-05-17T09:28:53.923793Z",
     "start_time": "2024-05-17T09:28:53.920323Z"
    }
   },
   "id": "6eb39227ca183cb4",
   "execution_count": 194
  },
  {
   "cell_type": "code",
   "outputs": [],
   "source": [
    "#write the Goodbyes_data to a json file in the testing_for_error folder\n",
    "with open('testing_for_error/Goodbyes_data.json', 'w') as f:\n",
    "    f.write(json.dumps(Goodbyes_data, indent=4))"
   ],
   "metadata": {
    "collapsed": false,
    "ExecuteTime": {
     "end_time": "2024-05-17T09:28:54.001993Z",
     "start_time": "2024-05-17T09:28:53.996722Z"
    }
   },
   "id": "58a3b4bcd22e6137",
   "execution_count": 195
  },
  {
   "cell_type": "code",
   "outputs": [],
   "source": [
    "#import the second sheet of the excel file to a dataframe\n",
    "vampire = pd.read_excel('testing_excel.xlsx', sheet_name='Vampire')\n",
    "vampire = vampire.replace(u'\\xa0', u' ', regex=True)"
   ],
   "metadata": {
    "collapsed": false,
    "ExecuteTime": {
     "end_time": "2024-05-17T09:28:54.263557Z",
     "start_time": "2024-05-17T09:28:54.142859Z"
    }
   },
   "id": "e10ce22525e63faa",
   "execution_count": 196
  },
  {
   "cell_type": "code",
   "outputs": [],
   "source": [
    "#duplicate the rows\n",
    "vampire = vampire.copy()\n",
    "\n",
    "vampire= pd.concat([vampire]*2, ignore_index=True)\n",
    "\n",
    "# Replace the first 8 values of the 'Voicetype' column with the first value\n",
    "vampire.loc[0:7, 'Dialogue'] = vampire['Dialogue'][0]\n",
    "\n",
    "# Replace the next 8 values of the 'Voicetype' column starting from the 8th index with the value at the 8th index\n",
    "vampire.loc[8:15, 'Dialogue'] = vampire['Dialogue'][9]"
   ],
   "metadata": {
    "collapsed": false,
    "ExecuteTime": {
     "end_time": "2024-05-17T09:28:54.269138Z",
     "start_time": "2024-05-17T09:28:54.264613Z"
    }
   },
   "id": "49fca74464dcc0b6",
   "execution_count": 197
  },
  {
   "cell_type": "code",
   "outputs": [
    {
     "data": {
      "text/plain": "                Voicetype                                           Dialogue\n0            MaleCommoner  \"Don't like those eyes you got. There's a bad ...\n1    MaleCommonerAccented  \"Don't like those eyes you got. There's a bad ...\n2          FemaleCommoner  \"Don't like those eyes you got. There's a bad ...\n3           MaleEvenToned  \"Don't like those eyes you got. There's a bad ...\n4   MaleEvenTonedAccented  \"Don't like those eyes you got. There's a bad ...\n5         FemaleEvenToned  \"Don't like those eyes you got. There's a bad ...\n6                MaleNord  \"Don't like those eyes you got. There's a bad ...\n7              FemaleNord  \"Don't like those eyes you got. There's a bad ...\n8            MaleCommoner  \"Your skin's as pale as the snow. You scared o...\n9    MaleCommonerAccented  \"Your skin's as pale as the snow. You scared o...\n10         FemaleCommoner  \"Your skin's as pale as the snow. You scared o...\n11          MaleEvenToned  \"Your skin's as pale as the snow. You scared o...\n12  MaleEvenTonedAccented  \"Your skin's as pale as the snow. You scared o...\n13        FemaleEvenToned  \"Your skin's as pale as the snow. You scared o...\n14               MaleNord  \"Your skin's as pale as the snow. You scared o...\n15             FemaleNord  \"Your skin's as pale as the snow. You scared o...",
      "text/html": "<div>\n<style scoped>\n    .dataframe tbody tr th:only-of-type {\n        vertical-align: middle;\n    }\n\n    .dataframe tbody tr th {\n        vertical-align: top;\n    }\n\n    .dataframe thead th {\n        text-align: right;\n    }\n</style>\n<table border=\"1\" class=\"dataframe\">\n  <thead>\n    <tr style=\"text-align: right;\">\n      <th></th>\n      <th>Voicetype</th>\n      <th>Dialogue</th>\n    </tr>\n  </thead>\n  <tbody>\n    <tr>\n      <th>0</th>\n      <td>MaleCommoner</td>\n      <td>\"Don't like those eyes you got. There's a bad ...</td>\n    </tr>\n    <tr>\n      <th>1</th>\n      <td>MaleCommonerAccented</td>\n      <td>\"Don't like those eyes you got. There's a bad ...</td>\n    </tr>\n    <tr>\n      <th>2</th>\n      <td>FemaleCommoner</td>\n      <td>\"Don't like those eyes you got. There's a bad ...</td>\n    </tr>\n    <tr>\n      <th>3</th>\n      <td>MaleEvenToned</td>\n      <td>\"Don't like those eyes you got. There's a bad ...</td>\n    </tr>\n    <tr>\n      <th>4</th>\n      <td>MaleEvenTonedAccented</td>\n      <td>\"Don't like those eyes you got. There's a bad ...</td>\n    </tr>\n    <tr>\n      <th>5</th>\n      <td>FemaleEvenToned</td>\n      <td>\"Don't like those eyes you got. There's a bad ...</td>\n    </tr>\n    <tr>\n      <th>6</th>\n      <td>MaleNord</td>\n      <td>\"Don't like those eyes you got. There's a bad ...</td>\n    </tr>\n    <tr>\n      <th>7</th>\n      <td>FemaleNord</td>\n      <td>\"Don't like those eyes you got. There's a bad ...</td>\n    </tr>\n    <tr>\n      <th>8</th>\n      <td>MaleCommoner</td>\n      <td>\"Your skin's as pale as the snow. You scared o...</td>\n    </tr>\n    <tr>\n      <th>9</th>\n      <td>MaleCommonerAccented</td>\n      <td>\"Your skin's as pale as the snow. You scared o...</td>\n    </tr>\n    <tr>\n      <th>10</th>\n      <td>FemaleCommoner</td>\n      <td>\"Your skin's as pale as the snow. You scared o...</td>\n    </tr>\n    <tr>\n      <th>11</th>\n      <td>MaleEvenToned</td>\n      <td>\"Your skin's as pale as the snow. You scared o...</td>\n    </tr>\n    <tr>\n      <th>12</th>\n      <td>MaleEvenTonedAccented</td>\n      <td>\"Your skin's as pale as the snow. You scared o...</td>\n    </tr>\n    <tr>\n      <th>13</th>\n      <td>FemaleEvenToned</td>\n      <td>\"Your skin's as pale as the snow. You scared o...</td>\n    </tr>\n    <tr>\n      <th>14</th>\n      <td>MaleNord</td>\n      <td>\"Your skin's as pale as the snow. You scared o...</td>\n    </tr>\n    <tr>\n      <th>15</th>\n      <td>FemaleNord</td>\n      <td>\"Your skin's as pale as the snow. You scared o...</td>\n    </tr>\n  </tbody>\n</table>\n</div>"
     },
     "execution_count": 198,
     "metadata": {},
     "output_type": "execute_result"
    }
   ],
   "source": [
    "vampire"
   ],
   "metadata": {
    "collapsed": false,
    "ExecuteTime": {
     "end_time": "2024-05-17T09:28:54.351616Z",
     "start_time": "2024-05-17T09:28:54.344010Z"
    }
   },
   "id": "bd20f162852058c0",
   "execution_count": 198
  },
  {
   "cell_type": "code",
   "outputs": [],
   "source": [
    "# add the vampire dataframe to the json file\n",
    "Vampire_data = [\n",
    "    {\n",
    "    \"Speaker\": vampire['Voicetype'][index],\n",
    "    \"Dialogue\": vampire['Dialogue'][index],\n",
    "    \"Event\": \"the Player being a vampire in front of an NPC\",\n",
    "} for index, row in vampire.iterrows()]\n",
    "\n",
    "data = data + Vampire_data"
   ],
   "metadata": {
    "collapsed": false,
    "ExecuteTime": {
     "end_time": "2024-05-17T09:28:54.386152Z",
     "start_time": "2024-05-17T09:28:54.380533Z"
    }
   },
   "id": "9bc445e791d9f12c",
   "execution_count": 199
  },
  {
   "cell_type": "code",
   "outputs": [],
   "source": [
    "Vampire_data = convert_all_to_string(Vampire_data)"
   ],
   "metadata": {
    "collapsed": false,
    "ExecuteTime": {
     "end_time": "2024-05-17T09:28:54.571182Z",
     "start_time": "2024-05-17T09:28:54.568420Z"
    }
   },
   "id": "d0abb8372781870e",
   "execution_count": 200
  },
  {
   "cell_type": "code",
   "outputs": [],
   "source": [
    "data_list.append(Vampire_data)"
   ],
   "metadata": {
    "collapsed": false,
    "ExecuteTime": {
     "end_time": "2024-05-17T09:28:54.734137Z",
     "start_time": "2024-05-17T09:28:54.730564Z"
    }
   },
   "id": "83282a528c8357b5",
   "execution_count": 201
  },
  {
   "cell_type": "code",
   "outputs": [],
   "source": [
    "#writing the vampire data to a json file on the testing_for_error folder\n",
    "with open('testing_for_error/Vampire_data.json', 'w') as f:\n",
    "    f.write(json.dumps(Vampire_data, indent=4))"
   ],
   "metadata": {
    "collapsed": false,
    "ExecuteTime": {
     "end_time": "2024-05-17T09:28:54.881915Z",
     "start_time": "2024-05-17T09:28:54.876963Z"
    }
   },
   "id": "5f33e3c96957db5b",
   "execution_count": 202
  },
  {
   "cell_type": "code",
   "outputs": [],
   "source": [
    "werewolf = pd.read_excel('testing_excel.xlsx', sheet_name='Werewolf')\n",
    "werewolf = werewolf.replace(u'\\xa0', u' ', regex=True)"
   ],
   "metadata": {
    "collapsed": false,
    "ExecuteTime": {
     "end_time": "2024-05-17T09:28:55.051456Z",
     "start_time": "2024-05-17T09:28:54.976112Z"
    }
   },
   "id": "810fae084ccb8708",
   "execution_count": 203
  },
  {
   "cell_type": "code",
   "outputs": [
    {
     "data": {
      "text/plain": "                Voicetype                              Dialogue\n0                   Guard                           \"Werewolf!\"\n1                   Guard  \"It's a werewolf! To arms! To arms!\"\n2                   Guard       \"By the gods! It..it can't be!\"\n3            MaleCommoner               \"Come on! You monster!\"\n4    MaleCommonerAccented               \"Come on! You monster!\"\n5          FemaleCommoner               \"Come on! You monster!\"\n6           MaleEvenToned               \"Come on! You monster!\"\n7   MaleEvenTonedAccented               \"Come on! You monster!\"\n8         FemaleEvenToned               \"Come on! You monster!\"\n9                MaleNord               \"Come on! You monster!\"\n10             FemaleNord               \"Come on! You monster!\"\n11           MaleCommoner              \"Die, you filthy beast!\"\n12   MaleCommonerAccented              \"Die, you filthy beast!\"\n13         FemaleCommoner              \"Die, you filthy beast!\"\n14          MaleEvenToned              \"Die, you filthy beast!\"\n15  MaleEvenTonedAccented              \"Die, you filthy beast!\"\n16        FemaleEvenToned              \"Die, you filthy beast!\"\n17               MaleNord              \"Die, you filthy beast!\"\n18             FemaleNord              \"Die, you filthy beast!\"\n19           MaleCommoner         \"Werewolf! Kill the monster!\"\n20   MaleCommonerAccented         \"Werewolf! Kill the monster!\"\n21         FemaleCommoner         \"Werewolf! Kill the monster!\"\n22          MaleEvenToned         \"Werewolf! Kill the monster!\"\n23  MaleEvenTonedAccented         \"Werewolf! Kill the monster!\"\n24        FemaleEvenToned         \"Werewolf! Kill the monster!\"\n25               MaleNord         \"Werewolf! Kill the monster!\"\n26             FemaleNord         \"Werewolf! Kill the monster!\"",
      "text/html": "<div>\n<style scoped>\n    .dataframe tbody tr th:only-of-type {\n        vertical-align: middle;\n    }\n\n    .dataframe tbody tr th {\n        vertical-align: top;\n    }\n\n    .dataframe thead th {\n        text-align: right;\n    }\n</style>\n<table border=\"1\" class=\"dataframe\">\n  <thead>\n    <tr style=\"text-align: right;\">\n      <th></th>\n      <th>Voicetype</th>\n      <th>Dialogue</th>\n    </tr>\n  </thead>\n  <tbody>\n    <tr>\n      <th>0</th>\n      <td>Guard</td>\n      <td>\"Werewolf!\"</td>\n    </tr>\n    <tr>\n      <th>1</th>\n      <td>Guard</td>\n      <td>\"It's a werewolf! To arms! To arms!\"</td>\n    </tr>\n    <tr>\n      <th>2</th>\n      <td>Guard</td>\n      <td>\"By the gods! It..it can't be!\"</td>\n    </tr>\n    <tr>\n      <th>3</th>\n      <td>MaleCommoner</td>\n      <td>\"Come on! You monster!\"</td>\n    </tr>\n    <tr>\n      <th>4</th>\n      <td>MaleCommonerAccented</td>\n      <td>\"Come on! You monster!\"</td>\n    </tr>\n    <tr>\n      <th>5</th>\n      <td>FemaleCommoner</td>\n      <td>\"Come on! You monster!\"</td>\n    </tr>\n    <tr>\n      <th>6</th>\n      <td>MaleEvenToned</td>\n      <td>\"Come on! You monster!\"</td>\n    </tr>\n    <tr>\n      <th>7</th>\n      <td>MaleEvenTonedAccented</td>\n      <td>\"Come on! You monster!\"</td>\n    </tr>\n    <tr>\n      <th>8</th>\n      <td>FemaleEvenToned</td>\n      <td>\"Come on! You monster!\"</td>\n    </tr>\n    <tr>\n      <th>9</th>\n      <td>MaleNord</td>\n      <td>\"Come on! You monster!\"</td>\n    </tr>\n    <tr>\n      <th>10</th>\n      <td>FemaleNord</td>\n      <td>\"Come on! You monster!\"</td>\n    </tr>\n    <tr>\n      <th>11</th>\n      <td>MaleCommoner</td>\n      <td>\"Die, you filthy beast!\"</td>\n    </tr>\n    <tr>\n      <th>12</th>\n      <td>MaleCommonerAccented</td>\n      <td>\"Die, you filthy beast!\"</td>\n    </tr>\n    <tr>\n      <th>13</th>\n      <td>FemaleCommoner</td>\n      <td>\"Die, you filthy beast!\"</td>\n    </tr>\n    <tr>\n      <th>14</th>\n      <td>MaleEvenToned</td>\n      <td>\"Die, you filthy beast!\"</td>\n    </tr>\n    <tr>\n      <th>15</th>\n      <td>MaleEvenTonedAccented</td>\n      <td>\"Die, you filthy beast!\"</td>\n    </tr>\n    <tr>\n      <th>16</th>\n      <td>FemaleEvenToned</td>\n      <td>\"Die, you filthy beast!\"</td>\n    </tr>\n    <tr>\n      <th>17</th>\n      <td>MaleNord</td>\n      <td>\"Die, you filthy beast!\"</td>\n    </tr>\n    <tr>\n      <th>18</th>\n      <td>FemaleNord</td>\n      <td>\"Die, you filthy beast!\"</td>\n    </tr>\n    <tr>\n      <th>19</th>\n      <td>MaleCommoner</td>\n      <td>\"Werewolf! Kill the monster!\"</td>\n    </tr>\n    <tr>\n      <th>20</th>\n      <td>MaleCommonerAccented</td>\n      <td>\"Werewolf! Kill the monster!\"</td>\n    </tr>\n    <tr>\n      <th>21</th>\n      <td>FemaleCommoner</td>\n      <td>\"Werewolf! Kill the monster!\"</td>\n    </tr>\n    <tr>\n      <th>22</th>\n      <td>MaleEvenToned</td>\n      <td>\"Werewolf! Kill the monster!\"</td>\n    </tr>\n    <tr>\n      <th>23</th>\n      <td>MaleEvenTonedAccented</td>\n      <td>\"Werewolf! Kill the monster!\"</td>\n    </tr>\n    <tr>\n      <th>24</th>\n      <td>FemaleEvenToned</td>\n      <td>\"Werewolf! Kill the monster!\"</td>\n    </tr>\n    <tr>\n      <th>25</th>\n      <td>MaleNord</td>\n      <td>\"Werewolf! Kill the monster!\"</td>\n    </tr>\n    <tr>\n      <th>26</th>\n      <td>FemaleNord</td>\n      <td>\"Werewolf! Kill the monster!\"</td>\n    </tr>\n  </tbody>\n</table>\n</div>"
     },
     "execution_count": 204,
     "metadata": {},
     "output_type": "execute_result"
    }
   ],
   "source": [
    "werewolf"
   ],
   "metadata": {
    "collapsed": false,
    "ExecuteTime": {
     "end_time": "2024-05-17T09:28:55.100820Z",
     "start_time": "2024-05-17T09:28:55.092518Z"
    }
   },
   "id": "4de40c6810b3ed84",
   "execution_count": 204
  },
  {
   "cell_type": "code",
   "outputs": [],
   "source": [
    "#add the werewolf dataframe to the json file\n",
    "Werewolf_data = [\n",
    "    {\n",
    "    \"Speaker\": werewolf['Voicetype'][index],\n",
    "    \"Dialogue\": werewolf['Dialogue'][index],\n",
    "    \"Event\": \"Player being a werewolf in front of an NPC\",\n",
    "    \"Condition\": \"the Player having transformed into a werewolf\"\n",
    "} for index, row in werewolf.iterrows()]\n",
    "\n",
    "data = data + Werewolf_data"
   ],
   "metadata": {
    "collapsed": false,
    "ExecuteTime": {
     "end_time": "2024-05-17T09:28:55.204094Z",
     "start_time": "2024-05-17T09:28:55.196636Z"
    }
   },
   "id": "62632bcee8a92d39",
   "execution_count": 205
  },
  {
   "cell_type": "code",
   "outputs": [],
   "source": [
    "Werewolf_data = convert_all_to_string(Werewolf_data)"
   ],
   "metadata": {
    "collapsed": false,
    "ExecuteTime": {
     "end_time": "2024-05-17T09:28:55.353790Z",
     "start_time": "2024-05-17T09:28:55.350688Z"
    }
   },
   "id": "9b7ee2aaa845a69d",
   "execution_count": 206
  },
  {
   "cell_type": "code",
   "outputs": [],
   "source": [
    "data_list.append(Werewolf_data)"
   ],
   "metadata": {
    "collapsed": false,
    "ExecuteTime": {
     "end_time": "2024-05-17T09:28:55.473446Z",
     "start_time": "2024-05-17T09:28:55.469688Z"
    }
   },
   "id": "5d0d988f600622",
   "execution_count": 207
  },
  {
   "cell_type": "code",
   "outputs": [],
   "source": [
    "#write the werewolf data to a json file in the testing_for_error folder\n",
    "with open('testing_for_error/Werewolf_data.json', 'w') as f:\n",
    "    f.write(json.dumps(Werewolf_data, indent=4))"
   ],
   "metadata": {
    "collapsed": false,
    "ExecuteTime": {
     "end_time": "2024-05-17T09:28:55.669325Z",
     "start_time": "2024-05-17T09:28:55.663956Z"
    }
   },
   "id": "b4475c4c28804fd2",
   "execution_count": 208
  },
  {
   "cell_type": "code",
   "outputs": [],
   "source": [
    "#import the Generic_Events sheet\n",
    "generic_events = pd.read_excel('testing_excel.xlsx', sheet_name='Generic_Events')"
   ],
   "metadata": {
    "collapsed": false,
    "ExecuteTime": {
     "end_time": "2024-05-17T09:28:55.813902Z",
     "start_time": "2024-05-17T09:28:55.747301Z"
    }
   },
   "id": "db56bda7032482b4",
   "execution_count": 209
  },
  {
   "cell_type": "code",
   "outputs": [],
   "source": [
    "generic_events = generic_events.replace(u'\\xa0', u' ', regex=True)"
   ],
   "metadata": {
    "collapsed": false,
    "ExecuteTime": {
     "end_time": "2024-05-17T09:28:55.897186Z",
     "start_time": "2024-05-17T09:28:55.892711Z"
    }
   },
   "id": "4408e566648c2e34",
   "execution_count": 210
  },
  {
   "cell_type": "code",
   "outputs": [
    {
     "data": {
      "text/plain": "                            Event  \\\n0   the an NPC witnessing a theft   \n1   the an NPC witnessing a theft   \n2          the Player trespassing   \n3          the Player trespassing   \n4          the Player trespassing   \n..                            ...   \n89     an NPC witnessing a murder   \n90     an NPC witnessing a murder   \n91     an NPC witnessing a murder   \n92     an NPC witnessing a murder   \n93     an NPC witnessing a murder   \n\n                                             Dialogue  \n0                                  \"You dirty thief!\"  \n1                                      \"Stop, thief!\"  \n2                \"You're not supposed to be in here.\"  \n3                         \"Last warning. Leave, now.\"  \n4   \"I'm not going to warn you again. Get out, or ...  \n..                                                ...  \n89                        \"Guess they deserved it...\"  \n90                             \"What's done is done.\"  \n91  \"Well... that was an unpleasant bit of business.\"  \n92        \"I didn't know you were so cold-blooded...\"  \n93                 \"Remind me not to make you angry.\"  \n\n[94 rows x 2 columns]",
      "text/html": "<div>\n<style scoped>\n    .dataframe tbody tr th:only-of-type {\n        vertical-align: middle;\n    }\n\n    .dataframe tbody tr th {\n        vertical-align: top;\n    }\n\n    .dataframe thead th {\n        text-align: right;\n    }\n</style>\n<table border=\"1\" class=\"dataframe\">\n  <thead>\n    <tr style=\"text-align: right;\">\n      <th></th>\n      <th>Event</th>\n      <th>Dialogue</th>\n    </tr>\n  </thead>\n  <tbody>\n    <tr>\n      <th>0</th>\n      <td>the an NPC witnessing a theft</td>\n      <td>\"You dirty thief!\"</td>\n    </tr>\n    <tr>\n      <th>1</th>\n      <td>the an NPC witnessing a theft</td>\n      <td>\"Stop, thief!\"</td>\n    </tr>\n    <tr>\n      <th>2</th>\n      <td>the Player trespassing</td>\n      <td>\"You're not supposed to be in here.\"</td>\n    </tr>\n    <tr>\n      <th>3</th>\n      <td>the Player trespassing</td>\n      <td>\"Last warning. Leave, now.\"</td>\n    </tr>\n    <tr>\n      <th>4</th>\n      <td>the Player trespassing</td>\n      <td>\"I'm not going to warn you again. Get out, or ...</td>\n    </tr>\n    <tr>\n      <th>...</th>\n      <td>...</td>\n      <td>...</td>\n    </tr>\n    <tr>\n      <th>89</th>\n      <td>an NPC witnessing a murder</td>\n      <td>\"Guess they deserved it...\"</td>\n    </tr>\n    <tr>\n      <th>90</th>\n      <td>an NPC witnessing a murder</td>\n      <td>\"What's done is done.\"</td>\n    </tr>\n    <tr>\n      <th>91</th>\n      <td>an NPC witnessing a murder</td>\n      <td>\"Well... that was an unpleasant bit of business.\"</td>\n    </tr>\n    <tr>\n      <th>92</th>\n      <td>an NPC witnessing a murder</td>\n      <td>\"I didn't know you were so cold-blooded...\"</td>\n    </tr>\n    <tr>\n      <th>93</th>\n      <td>an NPC witnessing a murder</td>\n      <td>\"Remind me not to make you angry.\"</td>\n    </tr>\n  </tbody>\n</table>\n<p>94 rows × 2 columns</p>\n</div>"
     },
     "execution_count": 211,
     "metadata": {},
     "output_type": "execute_result"
    }
   ],
   "source": [
    "generic_events"
   ],
   "metadata": {
    "collapsed": false,
    "ExecuteTime": {
     "end_time": "2024-05-17T09:28:55.985388Z",
     "start_time": "2024-05-17T09:28:55.974745Z"
    }
   },
   "id": "d123cb6829afe9d5",
   "execution_count": 211
  },
  {
   "cell_type": "code",
   "outputs": [],
   "source": [
    "#add the generic_events dataframe to the json file\n",
    "Generic_Events_data = [\n",
    "    {\n",
    "    \"Speaker\": \"Any\",\n",
    "    \"Dialogue\": generic_events['Dialogue'][index],\n",
    "    \"Event\": generic_events['Event'][index],\n",
    "} for index, row in generic_events.iterrows()]\n",
    "\n",
    "data = data + Generic_Events_data"
   ],
   "metadata": {
    "collapsed": false,
    "ExecuteTime": {
     "end_time": "2024-05-17T09:28:56.148297Z",
     "start_time": "2024-05-17T09:28:56.138271Z"
    }
   },
   "id": "6ca4a49bd9757cf3",
   "execution_count": 212
  },
  {
   "cell_type": "code",
   "outputs": [],
   "source": [
    "Generic_Events_data = convert_all_to_string(Generic_Events_data)"
   ],
   "metadata": {
    "collapsed": false,
    "ExecuteTime": {
     "end_time": "2024-05-17T09:28:56.255886Z",
     "start_time": "2024-05-17T09:28:56.252322Z"
    }
   },
   "id": "c2122fc54c05a945",
   "execution_count": 213
  },
  {
   "cell_type": "code",
   "outputs": [],
   "source": [
    "data_list.append(Generic_Events_data)"
   ],
   "metadata": {
    "collapsed": false,
    "ExecuteTime": {
     "end_time": "2024-05-17T09:28:56.384279Z",
     "start_time": "2024-05-17T09:28:56.380215Z"
    }
   },
   "id": "11587f5b5b742240",
   "execution_count": 214
  },
  {
   "cell_type": "code",
   "outputs": [],
   "source": [
    "#write the generic_events data to a json file in the testing_for_error folder\n",
    "with open('testing_for_error/Generic_Events_data.json', 'w') as f:\n",
    "    f.write(json.dumps(Generic_Events_data, indent=4))"
   ],
   "metadata": {
    "collapsed": false,
    "ExecuteTime": {
     "end_time": "2024-05-17T09:28:56.520938Z",
     "start_time": "2024-05-17T09:28:56.515049Z"
    }
   },
   "id": "7e070383d9f42cb1",
   "execution_count": 215
  },
  {
   "cell_type": "code",
   "outputs": [],
   "source": [
    "# import the Flames_Girls sheet\n",
    "flames_gifts= pd.read_excel('testing_excel.xlsx', sheet_name='Flames_Gifts')"
   ],
   "metadata": {
    "collapsed": false,
    "ExecuteTime": {
     "end_time": "2024-05-17T09:28:56.754147Z",
     "start_time": "2024-05-17T09:28:56.673742Z"
    }
   },
   "id": "59aa006189acd3b2",
   "execution_count": 216
  },
  {
   "cell_type": "code",
   "outputs": [],
   "source": [
    "flames_gifts = flames_gifts.replace(u'\\xa0', u' ', regex=True)"
   ],
   "metadata": {
    "collapsed": false,
    "ExecuteTime": {
     "end_time": "2024-05-17T09:28:56.794467Z",
     "start_time": "2024-05-17T09:28:56.790682Z"
    }
   },
   "id": "9e3121c382f3dc58",
   "execution_count": 217
  },
  {
   "cell_type": "code",
   "outputs": [],
   "source": [
    "#add the flames_gifts dataframe to the json file\n",
    "Flames_Gifts_data = [\n",
    "    {\n",
    "    \"Speaker\": flames_gifts['Voicetype'][index],\n",
    "    \"Dialogue\": flames_gifts['Dialogue'][index],\n",
    "    \"Event\": flames_gifts['Event'][index],\n",
    "    } for index, row in flames_gifts.iterrows()]\n",
    "\n",
    "data = data + Flames_Gifts_data"
   ],
   "metadata": {
    "collapsed": false,
    "ExecuteTime": {
     "end_time": "2024-05-17T09:28:56.898846Z",
     "start_time": "2024-05-17T09:28:56.887139Z"
    }
   },
   "id": "7e3c41a3021f1d3c",
   "execution_count": 218
  },
  {
   "cell_type": "code",
   "outputs": [],
   "source": [
    "Flames_Gifts_data = convert_all_to_string(Flames_Gifts_data)"
   ],
   "metadata": {
    "collapsed": false,
    "ExecuteTime": {
     "end_time": "2024-05-17T09:28:57.043549Z",
     "start_time": "2024-05-17T09:28:57.040343Z"
    }
   },
   "id": "cee2f7a1a27eef25",
   "execution_count": 219
  },
  {
   "cell_type": "code",
   "outputs": [],
   "source": [
    "data_list.append(Flames_Gifts_data)"
   ],
   "metadata": {
    "collapsed": false,
    "ExecuteTime": {
     "end_time": "2024-05-17T09:28:57.124360Z",
     "start_time": "2024-05-17T09:28:57.120019Z"
    }
   },
   "id": "f0d7bbe88dcd78f7",
   "execution_count": 220
  },
  {
   "cell_type": "code",
   "outputs": [],
   "source": [
    "#write the flames_gifts data to a json file in the testing_for_error folder\n",
    "with open('testing_for_error/Flames_Gifts_data.json', 'w') as f:\n",
    "    f.write(json.dumps(Flames_Gifts_data, indent=4))"
   ],
   "metadata": {
    "collapsed": false,
    "ExecuteTime": {
     "end_time": "2024-05-17T09:28:57.281285Z",
     "start_time": "2024-05-17T09:28:57.275933Z"
    }
   },
   "id": "319f2a802def958",
   "execution_count": 221
  },
  {
   "cell_type": "code",
   "outputs": [],
   "source": [
    "#import the fighting_over_item sheet\n",
    "fighting_over_item = pd.read_excel('testing_excel.xlsx', sheet_name='fighting_over_item')\n",
    "fighting_over_item = fighting_over_item.replace(u'\\xa0', u' ', regex=True)"
   ],
   "metadata": {
    "collapsed": false,
    "ExecuteTime": {
     "end_time": "2024-05-17T09:28:57.423372Z",
     "start_time": "2024-05-17T09:28:57.353950Z"
    }
   },
   "id": "885d45bccf3f860c",
   "execution_count": 222
  },
  {
   "cell_type": "code",
   "outputs": [],
   "source": [
    "fighting_over_item_data = [\n",
    "    {\n",
    "    \"Speaker\": fighting_over_item['Voicetype'][index],\n",
    "    \"Dialogue\": fighting_over_item['Dialogue'][index],\n",
    "    \"Event\": fighting_over_item['Event'][index],\n",
    "    \"Line_of_dialogue\": fighting_over_item['Line_of_dialogue'][index],\n",
    "    } for index, row in fighting_over_item.iterrows()]\n",
    "\n",
    "data = data + fighting_over_item_data"
   ],
   "metadata": {
    "collapsed": false,
    "ExecuteTime": {
     "end_time": "2024-05-17T09:28:57.489747Z",
     "start_time": "2024-05-17T09:28:57.483001Z"
    }
   },
   "id": "23fb80bbce552f64",
   "execution_count": 223
  },
  {
   "cell_type": "code",
   "outputs": [],
   "source": [
    "fighting_over_item_data = convert_all_to_string(fighting_over_item_data)"
   ],
   "metadata": {
    "collapsed": false,
    "ExecuteTime": {
     "end_time": "2024-05-17T09:28:57.538709Z",
     "start_time": "2024-05-17T09:28:57.534670Z"
    }
   },
   "id": "67b667c6e5ace865",
   "execution_count": 224
  },
  {
   "cell_type": "code",
   "outputs": [],
   "source": [
    "data_list.append(fighting_over_item_data)"
   ],
   "metadata": {
    "collapsed": false,
    "ExecuteTime": {
     "end_time": "2024-05-17T09:28:57.653471Z",
     "start_time": "2024-05-17T09:28:57.649368Z"
    }
   },
   "id": "829d31666e0ce8b3",
   "execution_count": 225
  },
  {
   "cell_type": "code",
   "outputs": [],
   "source": [
    "#write the fighting_over_item data to a json file in the testing_for_error folder\n",
    "with open('testing_for_error/fighting_over_item_data.json', 'w') as f:\n",
    "    f.write(json.dumps(fighting_over_item_data, indent=4))"
   ],
   "metadata": {
    "collapsed": false,
    "ExecuteTime": {
     "end_time": "2024-05-17T09:28:57.735024Z",
     "start_time": "2024-05-17T09:28:57.729685Z"
    }
   },
   "id": "8d2bdc2cc8ac6e26",
   "execution_count": 226
  },
  {
   "cell_type": "code",
   "outputs": [],
   "source": [
    "#read the sheet return&bumping&naked\n",
    "return_bumping_naked = pd.read_excel('testing_excel.xlsx', sheet_name='return&bumping&naked')\n",
    "return_bumping_naked = return_bumping_naked.replace(u'\\xa0', u' ', regex=True)"
   ],
   "metadata": {
    "collapsed": false,
    "ExecuteTime": {
     "end_time": "2024-05-17T09:28:57.931329Z",
     "start_time": "2024-05-17T09:28:57.861863Z"
    }
   },
   "id": "f4c3051e25122e1f",
   "execution_count": 227
  },
  {
   "cell_type": "code",
   "outputs": [],
   "source": [
    "#add the return_bumping_naked dataframe to the json file\n",
    "return_bumping_naked_data = [\n",
    "    {\n",
    "    \"Speaker\": return_bumping_naked['Voicetype'][index],\n",
    "    \"Dialogue\": return_bumping_naked['Dialogue'][index],\n",
    "    \"Event\": return_bumping_naked['Event'][index],\n",
    "    } for index, row in return_bumping_naked.iterrows()]\n",
    "\n",
    "data = data + return_bumping_naked_data"
   ],
   "metadata": {
    "collapsed": false,
    "ExecuteTime": {
     "end_time": "2024-05-17T09:28:57.969207Z",
     "start_time": "2024-05-17T09:28:57.960688Z"
    }
   },
   "id": "68d725bd6df90268",
   "execution_count": 228
  },
  {
   "cell_type": "code",
   "outputs": [],
   "source": [
    "return_bumping_naked_data = convert_all_to_string(return_bumping_naked_data)"
   ],
   "metadata": {
    "collapsed": false,
    "ExecuteTime": {
     "end_time": "2024-05-17T09:28:58.053822Z",
     "start_time": "2024-05-17T09:28:58.049959Z"
    }
   },
   "id": "9942ad9aecb92b8d",
   "execution_count": 229
  },
  {
   "cell_type": "code",
   "outputs": [],
   "source": [
    "data_list.append(return_bumping_naked_data)"
   ],
   "metadata": {
    "collapsed": false,
    "ExecuteTime": {
     "end_time": "2024-05-17T09:28:58.189833Z",
     "start_time": "2024-05-17T09:28:58.185855Z"
    }
   },
   "id": "a2bb3bb9cdfba3d8",
   "execution_count": 230
  },
  {
   "cell_type": "code",
   "outputs": [],
   "source": [
    "#write the return_bumping_naked data to a json file in the testing_for_error folder\n",
    "with open('testing_for_error/return_bumping_naked_data.json', 'w') as f:\n",
    "    f.write(json.dumps(return_bumping_naked_data, indent=4))"
   ],
   "metadata": {
    "collapsed": false,
    "ExecuteTime": {
     "end_time": "2024-05-17T09:28:58.259842Z",
     "start_time": "2024-05-17T09:28:58.255003Z"
    }
   },
   "id": "acd99d2578a29360",
   "execution_count": 231
  },
  {
   "cell_type": "code",
   "outputs": [],
   "source": [
    "# read the sheet Asking_armor\n",
    "asking_armor = pd.read_excel('testing_excel.xlsx', sheet_name='Asking_armor')\n",
    "asking_armor = asking_armor.replace(u'\\xa0', u' ', regex=True)"
   ],
   "metadata": {
    "collapsed": false,
    "ExecuteTime": {
     "end_time": "2024-05-17T09:28:58.450251Z",
     "start_time": "2024-05-17T09:28:58.360120Z"
    }
   },
   "id": "5940e5e949a732a9",
   "execution_count": 232
  },
  {
   "cell_type": "code",
   "outputs": [],
   "source": [
    "#add the asking_armor dataframe to the json file\n",
    "asking_armor_data = [\n",
    "    {\n",
    "    \"Speaker\": asking_armor['Voicetype'][index],\n",
    "    \"Dialogue\": asking_armor['Dialogue'][index],\n",
    "    \"Event\": asking_armor['Event'][index],\n",
    "    \"Response_to\": asking_armor['Response_to'][index]\n",
    "    } for index, row in asking_armor.iterrows()]\n",
    "\n",
    "data = data + asking_armor_data"
   ],
   "metadata": {
    "collapsed": false,
    "ExecuteTime": {
     "end_time": "2024-05-17T09:28:58.487108Z",
     "start_time": "2024-05-17T09:28:58.479661Z"
    }
   },
   "id": "46a48f29e1caafa6",
   "execution_count": 233
  },
  {
   "cell_type": "code",
   "outputs": [],
   "source": [
    "asking_armor_data = convert_all_to_string(asking_armor_data)"
   ],
   "metadata": {
    "collapsed": false,
    "ExecuteTime": {
     "end_time": "2024-05-17T09:28:58.560873Z",
     "start_time": "2024-05-17T09:28:58.557542Z"
    }
   },
   "id": "cbb7e1705b4848d9",
   "execution_count": 234
  },
  {
   "cell_type": "code",
   "outputs": [],
   "source": [
    "data_list.append(asking_armor_data)"
   ],
   "metadata": {
    "collapsed": false,
    "ExecuteTime": {
     "end_time": "2024-05-17T09:28:58.676775Z",
     "start_time": "2024-05-17T09:28:58.673509Z"
    }
   },
   "id": "b5b654e301a944da",
   "execution_count": 235
  },
  {
   "cell_type": "code",
   "outputs": [],
   "source": [
    "#write the asking_armor data to a json file in the testing_for_error folder\n",
    "with open('testing_for_error/asking_armor_data.json', 'w') as f:\n",
    "    f.write(json.dumps(asking_armor_data, indent=4))"
   ],
   "metadata": {
    "collapsed": false,
    "ExecuteTime": {
     "end_time": "2024-05-17T09:28:58.755712Z",
     "start_time": "2024-05-17T09:28:58.750162Z"
    }
   },
   "id": "750bab23c494baa9",
   "execution_count": 236
  },
  {
   "cell_type": "code",
   "outputs": [],
   "source": [
    "#read the sheet Spells&robes\n",
    "spells_robes = pd.read_excel('testing_excel.xlsx', sheet_name='Spells&robes')\n",
    "spells_robes = spells_robes.replace(u'\\xa0', u' ', regex=True)\n",
    "#remove the \\u2019 character from the dataframe\n",
    "spells_robes = spells_robes.replace(u'\\u2019', \"'\", regex=True)\n",
    "#remove the \\u00a0 character from the dataframe\n",
    "spells_robes = spells_robes.replace(u'\\u00a0', ' ', regex=True)"
   ],
   "metadata": {
    "collapsed": false,
    "ExecuteTime": {
     "end_time": "2024-05-17T09:28:58.922931Z",
     "start_time": "2024-05-17T09:28:58.850034Z"
    }
   },
   "id": "267fe540b8820b95",
   "execution_count": 237
  },
  {
   "cell_type": "code",
   "outputs": [],
   "source": [
    "#add the spells_robes dataframe to the json file\n",
    "spells_robes_data = [\n",
    "    {\n",
    "    \"Speaker\": spells_robes['Voicetype'][index],\n",
    "    \"Dialogue\": spells_robes['Dialogue'][index],\n",
    "    \"Event\": spells_robes['Event'][index],\n",
    "    } for index, row in spells_robes.iterrows()]\n",
    "\n",
    "data = data + spells_robes_data"
   ],
   "metadata": {
    "collapsed": false,
    "ExecuteTime": {
     "end_time": "2024-05-17T09:28:58.961853Z",
     "start_time": "2024-05-17T09:28:58.949258Z"
    }
   },
   "id": "4b8fb5f332daa75f",
   "execution_count": 238
  },
  {
   "cell_type": "code",
   "outputs": [],
   "source": [
    "spells_robes_data = convert_all_to_string(spells_robes_data)"
   ],
   "metadata": {
    "collapsed": false,
    "ExecuteTime": {
     "end_time": "2024-05-17T09:28:59.042759Z",
     "start_time": "2024-05-17T09:28:59.038471Z"
    }
   },
   "id": "50457a3123d348b2",
   "execution_count": 239
  },
  {
   "cell_type": "code",
   "outputs": [],
   "source": [
    "data_list.append(spells_robes_data)"
   ],
   "metadata": {
    "collapsed": false,
    "ExecuteTime": {
     "end_time": "2024-05-17T09:28:59.170286Z",
     "start_time": "2024-05-17T09:28:59.167383Z"
    }
   },
   "id": "bdddd25c59d287b0",
   "execution_count": 240
  },
  {
   "cell_type": "code",
   "outputs": [],
   "source": [
    "#write the spells_robes data to a json file in the testing_for_error folder\n",
    "with open('testing_for_error/spells_robes_data.json', 'w') as f:\n",
    "    f.write(json.dumps(spells_robes_data, indent=4))"
   ],
   "metadata": {
    "collapsed": false,
    "ExecuteTime": {
     "end_time": "2024-05-17T09:28:59.249010Z",
     "start_time": "2024-05-17T09:28:59.236388Z"
    }
   },
   "id": "f8253181b7411a0f",
   "execution_count": 241
  },
  {
   "cell_type": "code",
   "outputs": [],
   "source": [
    "#read the sheet Shouting&Corpses\n",
    "shouting_corpses = pd.read_excel('testing_excel.xlsx', sheet_name='Shouting&Corpses')\n",
    "shouting_corpses = shouting_corpses.replace(u'\\xa0', u' ', regex=True)\n",
    "shouting_corpses = shouting_corpses.replace(u'\\u2019', \"'\", regex=True)\n",
    "shouting_corpses = shouting_corpses.replace(u'\\u00a0', ' ', regex=True)"
   ],
   "metadata": {
    "collapsed": false,
    "ExecuteTime": {
     "end_time": "2024-05-17T09:28:59.451900Z",
     "start_time": "2024-05-17T09:28:59.369361Z"
    }
   },
   "id": "26e033e9f00964c0",
   "execution_count": 242
  },
  {
   "cell_type": "code",
   "outputs": [],
   "source": [
    "#add the shouting_corpses dataframe to the json file\n",
    "shouting_corpses_data = [\n",
    "    {\n",
    "    \"Speaker\": shouting_corpses['Voicetype'][index],\n",
    "    \"Dialogue\": shouting_corpses['Dialogue'][index],\n",
    "    \"Event\": shouting_corpses['Event'][index],\n",
    "    } for index, row in shouting_corpses.iterrows()]\n",
    "\n",
    "data = data + shouting_corpses_data"
   ],
   "metadata": {
    "collapsed": false,
    "ExecuteTime": {
     "end_time": "2024-05-17T09:28:59.487189Z",
     "start_time": "2024-05-17T09:28:59.476201Z"
    }
   },
   "id": "59cf949f1996aa61",
   "execution_count": 243
  },
  {
   "cell_type": "code",
   "outputs": [],
   "source": [
    "shouting_corpses_data = convert_all_to_string(shouting_corpses_data)"
   ],
   "metadata": {
    "collapsed": false,
    "ExecuteTime": {
     "end_time": "2024-05-17T09:28:59.573461Z",
     "start_time": "2024-05-17T09:28:59.570090Z"
    }
   },
   "id": "79f8074fe90ffc78",
   "execution_count": 244
  },
  {
   "cell_type": "code",
   "outputs": [],
   "source": [
    "data_list.append(shouting_corpses_data)"
   ],
   "metadata": {
    "collapsed": false,
    "ExecuteTime": {
     "end_time": "2024-05-17T09:28:59.690052Z",
     "start_time": "2024-05-17T09:28:59.685948Z"
    }
   },
   "id": "2ee8d2faa5dd8c7f",
   "execution_count": 245
  },
  {
   "cell_type": "code",
   "outputs": [],
   "source": [
    "#write the shouting_corpses data to a json file in the testing_for_error folder\n",
    "with open('testing_for_error/shouting_corpses_data.json', 'w') as f:\n",
    "    f.write(json.dumps(shouting_corpses_data, indent=4))"
   ],
   "metadata": {
    "collapsed": false,
    "ExecuteTime": {
     "end_time": "2024-05-17T09:28:59.747141Z",
     "start_time": "2024-05-17T09:28:59.741884Z"
    }
   },
   "id": "5089220adcbf72bb",
   "execution_count": 246
  },
  {
   "cell_type": "code",
   "outputs": [],
   "source": [
    "#add the sheet combat_dialogue to the json file\n",
    "combat_dialogue = pd.read_excel('testing_excel.xlsx', sheet_name='combat_dialogue')\n",
    "combat_dialogue = combat_dialogue.replace(u'\\xa0', u' ', regex=True)\n",
    "combat_dialogue = combat_dialogue.replace(u'\\u2019', \"'\", regex=True)\n",
    "combat_dialogue = combat_dialogue.replace(u'\\u00a0', ' ', regex=True)"
   ],
   "metadata": {
    "collapsed": false,
    "ExecuteTime": {
     "end_time": "2024-05-17T09:28:59.970941Z",
     "start_time": "2024-05-17T09:28:59.870802Z"
    }
   },
   "id": "ee872cbb14a0b698",
   "execution_count": 247
  },
  {
   "cell_type": "code",
   "outputs": [],
   "source": [
    "combat_dialogue_data = [\n",
    "    {\n",
    "    \"Speaker\": \"Any\",\n",
    "    \"Dialogue\": combat_dialogue['Dialogue'][index],\n",
    "    \"Event\": combat_dialogue['Event'][index],\n",
    "    \"Condition\": combat_dialogue['Condition'][index]\n",
    "    } for index, row in combat_dialogue.iterrows()]\n",
    "\n",
    "data = data + combat_dialogue_data"
   ],
   "metadata": {
    "collapsed": false,
    "ExecuteTime": {
     "end_time": "2024-05-17T09:28:59.990664Z",
     "start_time": "2024-05-17T09:28:59.980026Z"
    }
   },
   "id": "b27c033f6efeabd5",
   "execution_count": 248
  },
  {
   "cell_type": "code",
   "outputs": [],
   "source": [
    "combat_dialogue_data = convert_all_to_string(combat_dialogue_data)"
   ],
   "metadata": {
    "collapsed": false,
    "ExecuteTime": {
     "end_time": "2024-05-17T09:29:00.123877Z",
     "start_time": "2024-05-17T09:29:00.120421Z"
    }
   },
   "id": "a264a603e77e9001",
   "execution_count": 249
  },
  {
   "cell_type": "code",
   "outputs": [],
   "source": [
    "data_list.append(combat_dialogue_data)"
   ],
   "metadata": {
    "collapsed": false,
    "ExecuteTime": {
     "end_time": "2024-05-17T09:29:00.244798Z",
     "start_time": "2024-05-17T09:29:00.241594Z"
    }
   },
   "id": "5d3af34adaeff8d0",
   "execution_count": 250
  },
  {
   "cell_type": "code",
   "outputs": [],
   "source": [
    "#writing the combat_dialogue data to a json file in the testing_for_error folder\n",
    "with open('testing_for_error/combat_dialogue_data.json', 'w') as f:\n",
    "    f.write(json.dumps(combat_dialogue_data, indent=4))"
   ],
   "metadata": {
    "collapsed": false,
    "ExecuteTime": {
     "end_time": "2024-05-17T09:29:00.300462Z",
     "start_time": "2024-05-17T09:29:00.294880Z"
    }
   },
   "id": "d162dd5e42aca656",
   "execution_count": 251
  },
  {
   "cell_type": "code",
   "outputs": [],
   "source": [
    "#add the sheet Persuation_check to the json file\n",
    "\n",
    "persuasion_check = pd.read_excel('testing_excel.xlsx', sheet_name='Persuasion_check')\n",
    "persuasion_check = persuasion_check.replace(u'\\xa0', u' ', regex=True)\n",
    "persuasion_check = persuasion_check.replace(u'\\u2019', \"'\", regex=True)\n",
    "persuasion_check = persuasion_check.replace(u'\\u00a0', ' ', regex=True)"
   ],
   "metadata": {
    "collapsed": false,
    "ExecuteTime": {
     "end_time": "2024-05-17T09:29:00.578967Z",
     "start_time": "2024-05-17T09:29:00.437043Z"
    }
   },
   "id": "ad1510f6f587ea11",
   "execution_count": 252
  },
  {
   "cell_type": "code",
   "outputs": [],
   "source": [
    "persuasion_check_data = [\n",
    "    {\n",
    "    \"Speaker\": \"Any\",\n",
    "    \"Dialogue\": persuasion_check['Dialogue'][index],\n",
    "    \"Event\": persuasion_check['Event'][index],\n",
    "    \"Result\": persuasion_check['Result'][index],\n",
    "    } for index, row in persuasion_check.iterrows()]\n",
    "\n",
    "data = data + persuasion_check_data"
   ],
   "metadata": {
    "collapsed": false,
    "ExecuteTime": {
     "end_time": "2024-05-17T09:29:00.587245Z",
     "start_time": "2024-05-17T09:29:00.581107Z"
    }
   },
   "id": "34bc652a85540ef2",
   "execution_count": 253
  },
  {
   "cell_type": "code",
   "outputs": [],
   "source": [
    "persuasion_check_data = convert_all_to_string(persuasion_check_data)"
   ],
   "metadata": {
    "collapsed": false,
    "ExecuteTime": {
     "end_time": "2024-05-17T09:29:00.633738Z",
     "start_time": "2024-05-17T09:29:00.630274Z"
    }
   },
   "id": "a97b58127b6a55f8",
   "execution_count": 254
  },
  {
   "cell_type": "code",
   "outputs": [],
   "source": [
    "data_list.append(persuasion_check_data)"
   ],
   "metadata": {
    "collapsed": false,
    "ExecuteTime": {
     "end_time": "2024-05-17T09:29:00.697603Z",
     "start_time": "2024-05-17T09:29:00.691585Z"
    }
   },
   "id": "4b50d9de5135cf79",
   "execution_count": 255
  },
  {
   "cell_type": "code",
   "outputs": [],
   "source": [
    "#write the persuasion_check data to a json file in the testing_for_error folder\n",
    "with open('testing_for_error/persuasion_check_data.json', 'w') as f:\n",
    "    f.write(json.dumps(persuasion_check_data, indent=4))"
   ],
   "metadata": {
    "collapsed": false,
    "ExecuteTime": {
     "end_time": "2024-05-17T09:29:00.837865Z",
     "start_time": "2024-05-17T09:29:00.833257Z"
    }
   },
   "id": "7f6253d61a030bf",
   "execution_count": 256
  },
  {
   "cell_type": "code",
   "outputs": [],
   "source": [
    "#add the sheet entering_buying to the json file\n",
    "entering_buying = pd.read_excel('testing_excel.xlsx', sheet_name='entering_buying')\n",
    "entering_buying = entering_buying.replace(u'\\xa0', u' ', regex=True)\n",
    "entering_buying = entering_buying.replace(u'\\u2019', \"'\", regex=True)\n",
    "entering_buying = entering_buying.replace(u'\\u00a0', ' ', regex=True)"
   ],
   "metadata": {
    "collapsed": false,
    "ExecuteTime": {
     "end_time": "2024-05-17T09:29:00.971800Z",
     "start_time": "2024-05-17T09:29:00.901546Z"
    }
   },
   "id": "512d4f1c931f00bf",
   "execution_count": 257
  },
  {
   "cell_type": "code",
   "outputs": [],
   "source": [
    "entering_buying_data = [\n",
    "    {\n",
    "    \"Speaker\": entering_buying['Voicetype'][index],\n",
    "    \"Dialogue\": entering_buying['Dialogue'][index],\n",
    "    \"Event\": entering_buying['Event'][index],\n",
    "    } for index, row in entering_buying.iterrows()]\n",
    "\n",
    "data = data + entering_buying_data"
   ],
   "metadata": {
    "collapsed": false,
    "ExecuteTime": {
     "end_time": "2024-05-17T09:29:01.036069Z",
     "start_time": "2024-05-17T09:29:01.027488Z"
    }
   },
   "id": "4bdcdae96c4307b5",
   "execution_count": 258
  },
  {
   "cell_type": "code",
   "outputs": [],
   "source": [
    "entering_buying_data = convert_all_to_string(entering_buying_data)"
   ],
   "metadata": {
    "collapsed": false,
    "ExecuteTime": {
     "end_time": "2024-05-17T09:29:01.093320Z",
     "start_time": "2024-05-17T09:29:01.090215Z"
    }
   },
   "id": "2107b7956da69fd3",
   "execution_count": 259
  },
  {
   "cell_type": "code",
   "outputs": [],
   "source": [
    "data_list.append(entering_buying_data)"
   ],
   "metadata": {
    "collapsed": false,
    "ExecuteTime": {
     "end_time": "2024-05-17T09:29:01.224045Z",
     "start_time": "2024-05-17T09:29:01.220729Z"
    }
   },
   "id": "a82b8eccbfcb9b95",
   "execution_count": 260
  },
  {
   "cell_type": "code",
   "outputs": [],
   "source": [
    "#write the entering_buying data to a json file in the testing_for_error folder\n",
    "with open('testing_for_error/entering_buying_data.json', 'w') as f:\n",
    "    f.write(json.dumps(entering_buying_data, indent=4))"
   ],
   "metadata": {
    "collapsed": false,
    "ExecuteTime": {
     "end_time": "2024-05-17T09:29:01.292199Z",
     "start_time": "2024-05-17T09:29:01.281836Z"
    }
   },
   "id": "f05e23e1f54c10f9",
   "execution_count": 261
  },
  {
   "cell_type": "code",
   "outputs": [],
   "source": [
    "# add the sheet request_training to the json file"
   ],
   "metadata": {
    "collapsed": false,
    "ExecuteTime": {
     "end_time": "2024-05-17T09:29:01.408042Z",
     "start_time": "2024-05-17T09:29:01.404477Z"
    }
   },
   "id": "b85e4ff46efcea17",
   "execution_count": 262
  },
  {
   "cell_type": "code",
   "outputs": [],
   "source": [
    "request_training = pd.read_excel('testing_excel.xlsx', sheet_name='requesting_training')\n",
    "request_training = request_training.replace(u'\\xa0', u' ', regex=True)\n",
    "request_training = request_training.replace(u'\\u2019', \"'\", regex=True)\n",
    "request_training = request_training.replace(u'\\u00a0', ' ', regex=True)"
   ],
   "metadata": {
    "collapsed": false,
    "ExecuteTime": {
     "end_time": "2024-05-17T09:29:01.559752Z",
     "start_time": "2024-05-17T09:29:01.487865Z"
    }
   },
   "id": "c4e4d0055358d9d7",
   "execution_count": 263
  },
  {
   "cell_type": "code",
   "outputs": [],
   "source": [
    "request_training_data = [\n",
    "    {\n",
    "    \"Speaker\": request_training['Voicetype'][index],\n",
    "    \"Dialogue\": request_training['Dialogue'][index],\n",
    "    \"Event\": request_training['Event'][index],\n",
    "    } for index, row in request_training.iterrows()]\n",
    "\n",
    "data = data + request_training_data"
   ],
   "metadata": {
    "collapsed": false,
    "ExecuteTime": {
     "end_time": "2024-05-17T09:29:01.612355Z",
     "start_time": "2024-05-17T09:29:01.604493Z"
    }
   },
   "id": "2a9e963377b0f001",
   "execution_count": 264
  },
  {
   "cell_type": "code",
   "outputs": [],
   "source": [
    "request_training_data = convert_all_to_string(request_training_data)"
   ],
   "metadata": {
    "collapsed": false,
    "ExecuteTime": {
     "end_time": "2024-05-17T09:29:01.707318Z",
     "start_time": "2024-05-17T09:29:01.703529Z"
    }
   },
   "id": "2a4820876f21fed4",
   "execution_count": 265
  },
  {
   "cell_type": "code",
   "outputs": [],
   "source": [
    "data_list.append(request_training_data)"
   ],
   "metadata": {
    "collapsed": false,
    "ExecuteTime": {
     "end_time": "2024-05-17T09:29:01.809643Z",
     "start_time": "2024-05-17T09:29:01.806019Z"
    }
   },
   "id": "9e644f8c98debed",
   "execution_count": 266
  },
  {
   "cell_type": "code",
   "outputs": [],
   "source": [
    "#write the request_training data to a json file in the testing_for_error folder\n",
    "with open('testing_for_error/request_training_data.json', 'w') as f:\n",
    "    f.write(json.dumps(request_training_data, indent=4))"
   ],
   "metadata": {
    "collapsed": false,
    "ExecuteTime": {
     "end_time": "2024-05-17T09:29:01.862949Z",
     "start_time": "2024-05-17T09:29:01.857947Z"
    }
   },
   "id": "42ffbdc9ee523bae",
   "execution_count": 267
  },
  {
   "cell_type": "code",
   "outputs": [],
   "source": [
    "#add the sheet marriage to the json file\n",
    "marriage = pd.read_excel('testing_excel.xlsx', sheet_name='marriage')\n",
    "marriage = marriage.replace(u'\\xa0', u' ', regex=True)\n",
    "marriage = marriage.replace(u'\\u2019', \"'\", regex=True)\n",
    "marriage = marriage.replace(u'\\u00a0', ' ', regex=True)"
   ],
   "metadata": {
    "collapsed": false,
    "ExecuteTime": {
     "end_time": "2024-05-17T09:29:02.053947Z",
     "start_time": "2024-05-17T09:29:01.975899Z"
    }
   },
   "id": "994bae1a03efc306",
   "execution_count": 268
  },
  {
   "cell_type": "code",
   "outputs": [],
   "source": [
    "marriage_data = [\n",
    "    {\n",
    "    \"Speaker\": marriage['Voicetype'][index],\n",
    "    \"Dialogue\": marriage['Dialogue'][index],\n",
    "    \"Event\": marriage['Event'][index],\n",
    "    \"Response_to\": marriage['Response_to'][index]\n",
    "    } for index, row in marriage.iterrows()]"
   ],
   "metadata": {
    "collapsed": false,
    "ExecuteTime": {
     "end_time": "2024-05-17T09:29:02.070348Z",
     "start_time": "2024-05-17T09:29:02.055039Z"
    }
   },
   "id": "9cab7a5b60db56c8",
   "execution_count": 269
  },
  {
   "cell_type": "code",
   "outputs": [],
   "source": [
    "marriage_data = convert_all_to_string(marriage_data)"
   ],
   "metadata": {
    "collapsed": false,
    "ExecuteTime": {
     "end_time": "2024-05-17T09:29:02.163425Z",
     "start_time": "2024-05-17T09:29:02.159070Z"
    }
   },
   "id": "b2f901da15d60668",
   "execution_count": 270
  },
  {
   "cell_type": "code",
   "outputs": [],
   "source": [
    "data_list.append(marriage_data)"
   ],
   "metadata": {
    "collapsed": false,
    "ExecuteTime": {
     "end_time": "2024-05-17T09:29:02.213155Z",
     "start_time": "2024-05-17T09:29:02.209450Z"
    }
   },
   "id": "d6e0520d21d99b42",
   "execution_count": 271
  },
  {
   "cell_type": "code",
   "outputs": [],
   "source": [
    "#write the marriage data to a json file in the testing_for_error folder\n",
    "with open('testing_for_error/marriage_data.json', 'w') as f:\n",
    "    f.write(json.dumps(marriage_data, indent=4))"
   ],
   "metadata": {
    "collapsed": false,
    "ExecuteTime": {
     "end_time": "2024-05-17T09:29:02.341378Z",
     "start_time": "2024-05-17T09:29:02.334952Z"
    }
   },
   "id": "285fe5e4144cb909",
   "execution_count": 272
  },
  {
   "cell_type": "code",
   "outputs": [],
   "source": [
    "data = data + marriage_data"
   ],
   "metadata": {
    "collapsed": false,
    "ExecuteTime": {
     "end_time": "2024-05-17T09:29:02.415193Z",
     "start_time": "2024-05-17T09:29:02.412037Z"
    }
   },
   "id": "f5c9c2a0386debb3",
   "execution_count": 273
  },
  {
   "cell_type": "code",
   "outputs": [],
   "source": [
    "#add the sheet wedding to the json file\n",
    "wedding = pd.read_excel('testing_excel.xlsx', sheet_name='wedding')\n",
    "wedding = wedding.replace(u'\\xa0', u' ', regex=True)\n",
    "wedding = wedding.replace(u'\\u2019', \"'\", regex=True)\n",
    "wedding = wedding.replace(u'\\u00a0', ' ', regex=True)"
   ],
   "metadata": {
    "collapsed": false,
    "ExecuteTime": {
     "end_time": "2024-05-17T09:29:02.581383Z",
     "start_time": "2024-05-17T09:29:02.504013Z"
    }
   },
   "id": "cfa55f712899b2f5",
   "execution_count": 274
  },
  {
   "cell_type": "code",
   "outputs": [],
   "source": [
    "wedding_data = [\n",
    "    {\n",
    "    \"Speaker\": wedding['Voicetype'][index],\n",
    "    \"Dialogue\": wedding['Dialogue'][index],\n",
    "    \"Event\": wedding['Event'][index],\n",
    "    \"Condition\": wedding['Condition'][index],\n",
    "    } for index, row in wedding.iterrows()]\n",
    "\n",
    "data = data + wedding_data"
   ],
   "metadata": {
    "collapsed": false,
    "ExecuteTime": {
     "end_time": "2024-05-17T09:29:02.607392Z",
     "start_time": "2024-05-17T09:29:02.593570Z"
    }
   },
   "id": "d64c23a318e92d07",
   "execution_count": 275
  },
  {
   "cell_type": "code",
   "outputs": [],
   "source": [
    "wedding_data = convert_all_to_string(wedding_data)"
   ],
   "metadata": {
    "collapsed": false,
    "ExecuteTime": {
     "end_time": "2024-05-17T09:29:02.695161Z",
     "start_time": "2024-05-17T09:29:02.691270Z"
    }
   },
   "id": "2c87d894a7f82ec5",
   "execution_count": 276
  },
  {
   "cell_type": "code",
   "outputs": [],
   "source": [
    "data_list.append(wedding_data)"
   ],
   "metadata": {
    "collapsed": false,
    "ExecuteTime": {
     "end_time": "2024-05-17T09:29:02.837642Z",
     "start_time": "2024-05-17T09:29:02.834029Z"
    }
   },
   "id": "320c8baa92e2ffc4",
   "execution_count": 277
  },
  {
   "cell_type": "code",
   "outputs": [],
   "source": [
    "#writing the wedding data to a json file in the testing_for_error folder\n",
    "with open('testing_for_error/wedding_data.json', 'w') as f:\n",
    "    f.write(json.dumps(wedding_data, indent=4))"
   ],
   "metadata": {
    "collapsed": false,
    "ExecuteTime": {
     "end_time": "2024-05-17T09:29:02.895273Z",
     "start_time": "2024-05-17T09:29:02.889364Z"
    }
   },
   "id": "6e99c4caa6e55687",
   "execution_count": 278
  },
  {
   "cell_type": "code",
   "outputs": [],
   "source": [
    "orcs_khajiits = pd.read_excel('testing_excel.xlsx', sheet_name='orcs_khajiits')"
   ],
   "metadata": {
    "collapsed": false,
    "ExecuteTime": {
     "end_time": "2024-05-17T09:29:03.070741Z",
     "start_time": "2024-05-17T09:29:03.003146Z"
    }
   },
   "id": "cc6fccfd564f8cca",
   "execution_count": 279
  },
  {
   "cell_type": "code",
   "outputs": [
    {
     "data": {
      "text/plain": "        Voicetype                                           Dialogue  \\\n0       FemaleOrc  \"What are you doing here, outlander? We don't ...   \n1       FemaleOrc                   \"This is our stronghold. Leave.\"   \n2       FemaleOrc                  \"Outsiders. Nothing but trouble.\"   \n3       FemaleOrc  \"Malacath blesses us with this land. It's not ...   \n4       FemaleOrc     \"This stronghold is for the Orcs. Leave. Now.\"   \n..            ...                                                ...   \n73  FemaleKhajiit  \"Khajiit are not welcome in the cities, so we ...   \n74  FemaleKhajiit  \"Some come to buy, but others come to steal. K...   \n75  FemaleKhajiit       \"Blessings of the moons upon you, traveler.\"   \n76  FemaleKhajiit  \"Khajiit is just a guard, and has no wares to ...   \n77  FemaleKhajiit                \"Welcome to Khajiit's humble camp.\"   \n\n                        Condition  \\\n0   the Player is not a blood-kin   \n1   the Player is not a blood-kin   \n2   the Player is not a blood-kin   \n3   the Player is not a blood-kin   \n4   the Player is not a blood-kin   \n..                            ...   \n73         the Khajiit is a guard   \n74         the Khajiit is a guard   \n75         the Khajiit is a guard   \n76         the Khajiit is a guard   \n77         the Khajiit is a guard   \n\n                                                Event  \n0               the Player entering an Orc Stronghold  \n1               the Player entering an Orc Stronghold  \n2               the Player entering an Orc Stronghold  \n3               the Player entering an Orc Stronghold  \n4               the Player entering an Orc Stronghold  \n..                                                ...  \n73  the Player greeting a Khajiit Guard on the Kha...  \n74  the Player greeting a Khajiit Guard on the Kha...  \n75  the Player greeting a Khajiit Guard on the Kha...  \n76  the Player greeting a Khajiit Guard on the Kha...  \n77  the Player greeting a Khajiit Guard on the Kha...  \n\n[78 rows x 4 columns]",
      "text/html": "<div>\n<style scoped>\n    .dataframe tbody tr th:only-of-type {\n        vertical-align: middle;\n    }\n\n    .dataframe tbody tr th {\n        vertical-align: top;\n    }\n\n    .dataframe thead th {\n        text-align: right;\n    }\n</style>\n<table border=\"1\" class=\"dataframe\">\n  <thead>\n    <tr style=\"text-align: right;\">\n      <th></th>\n      <th>Voicetype</th>\n      <th>Dialogue</th>\n      <th>Condition</th>\n      <th>Event</th>\n    </tr>\n  </thead>\n  <tbody>\n    <tr>\n      <th>0</th>\n      <td>FemaleOrc</td>\n      <td>\"What are you doing here, outlander? We don't ...</td>\n      <td>the Player is not a blood-kin</td>\n      <td>the Player entering an Orc Stronghold</td>\n    </tr>\n    <tr>\n      <th>1</th>\n      <td>FemaleOrc</td>\n      <td>\"This is our stronghold. Leave.\"</td>\n      <td>the Player is not a blood-kin</td>\n      <td>the Player entering an Orc Stronghold</td>\n    </tr>\n    <tr>\n      <th>2</th>\n      <td>FemaleOrc</td>\n      <td>\"Outsiders. Nothing but trouble.\"</td>\n      <td>the Player is not a blood-kin</td>\n      <td>the Player entering an Orc Stronghold</td>\n    </tr>\n    <tr>\n      <th>3</th>\n      <td>FemaleOrc</td>\n      <td>\"Malacath blesses us with this land. It's not ...</td>\n      <td>the Player is not a blood-kin</td>\n      <td>the Player entering an Orc Stronghold</td>\n    </tr>\n    <tr>\n      <th>4</th>\n      <td>FemaleOrc</td>\n      <td>\"This stronghold is for the Orcs. Leave. Now.\"</td>\n      <td>the Player is not a blood-kin</td>\n      <td>the Player entering an Orc Stronghold</td>\n    </tr>\n    <tr>\n      <th>...</th>\n      <td>...</td>\n      <td>...</td>\n      <td>...</td>\n      <td>...</td>\n    </tr>\n    <tr>\n      <th>73</th>\n      <td>FemaleKhajiit</td>\n      <td>\"Khajiit are not welcome in the cities, so we ...</td>\n      <td>the Khajiit is a guard</td>\n      <td>the Player greeting a Khajiit Guard on the Kha...</td>\n    </tr>\n    <tr>\n      <th>74</th>\n      <td>FemaleKhajiit</td>\n      <td>\"Some come to buy, but others come to steal. K...</td>\n      <td>the Khajiit is a guard</td>\n      <td>the Player greeting a Khajiit Guard on the Kha...</td>\n    </tr>\n    <tr>\n      <th>75</th>\n      <td>FemaleKhajiit</td>\n      <td>\"Blessings of the moons upon you, traveler.\"</td>\n      <td>the Khajiit is a guard</td>\n      <td>the Player greeting a Khajiit Guard on the Kha...</td>\n    </tr>\n    <tr>\n      <th>76</th>\n      <td>FemaleKhajiit</td>\n      <td>\"Khajiit is just a guard, and has no wares to ...</td>\n      <td>the Khajiit is a guard</td>\n      <td>the Player greeting a Khajiit Guard on the Kha...</td>\n    </tr>\n    <tr>\n      <th>77</th>\n      <td>FemaleKhajiit</td>\n      <td>\"Welcome to Khajiit's humble camp.\"</td>\n      <td>the Khajiit is a guard</td>\n      <td>the Player greeting a Khajiit Guard on the Kha...</td>\n    </tr>\n  </tbody>\n</table>\n<p>78 rows × 4 columns</p>\n</div>"
     },
     "execution_count": 280,
     "metadata": {},
     "output_type": "execute_result"
    }
   ],
   "source": [
    "orcs_khajiits"
   ],
   "metadata": {
    "collapsed": false,
    "ExecuteTime": {
     "end_time": "2024-05-17T09:29:03.081744Z",
     "start_time": "2024-05-17T09:29:03.071718Z"
    }
   },
   "id": "8b13e7ab2892b992",
   "execution_count": 280
  },
  {
   "cell_type": "code",
   "outputs": [
    {
     "data": {
      "text/plain": "Index(['Voicetype', 'Dialogue', 'Condition', 'Event'], dtype='object')"
     },
     "execution_count": 281,
     "metadata": {},
     "output_type": "execute_result"
    }
   ],
   "source": [
    "orcs_khajiits.columns"
   ],
   "metadata": {
    "collapsed": false,
    "ExecuteTime": {
     "end_time": "2024-05-17T09:29:03.201758Z",
     "start_time": "2024-05-17T09:29:03.195650Z"
    }
   },
   "id": "de8184a848835558",
   "execution_count": 281
  },
  {
   "cell_type": "code",
   "outputs": [],
   "source": [
    "orcs_khajiits_data = [\n",
    "    {\n",
    "    \"Speaker\": orcs_khajiits['Voicetype'][index],\n",
    "    \"Dialogue\": orcs_khajiits['Dialogue'][index],\n",
    "    \"Event\": orcs_khajiits['Event'][index],\n",
    "    \"Condition\": orcs_khajiits['Condition'][index],\n",
    "    } for index, row in orcs_khajiits.iterrows()]\n",
    "\n",
    "data = data + orcs_khajiits_data"
   ],
   "metadata": {
    "collapsed": false,
    "ExecuteTime": {
     "end_time": "2024-05-17T09:29:03.267857Z",
     "start_time": "2024-05-17T09:29:03.258749Z"
    }
   },
   "id": "a796a48be24ddcfc",
   "execution_count": 282
  },
  {
   "cell_type": "code",
   "outputs": [],
   "source": [
    "orcs_khajiits_data = convert_all_to_string(orcs_khajiits_data)"
   ],
   "metadata": {
    "collapsed": false,
    "ExecuteTime": {
     "end_time": "2024-05-17T09:29:03.422556Z",
     "start_time": "2024-05-17T09:29:03.418320Z"
    }
   },
   "id": "ff2b17ca38460b1f",
   "execution_count": 283
  },
  {
   "cell_type": "code",
   "outputs": [],
   "source": [
    "data_list.append(orcs_khajiits_data)"
   ],
   "metadata": {
    "collapsed": false,
    "ExecuteTime": {
     "end_time": "2024-05-17T09:29:03.560231Z",
     "start_time": "2024-05-17T09:29:03.556697Z"
    }
   },
   "id": "c67ac739c61e3430",
   "execution_count": 284
  },
  {
   "cell_type": "code",
   "outputs": [],
   "source": [
    "#write the orcs_khajiits data to a json file in the testing_for_error folder\n",
    "with open('testing_for_error/orcs_khajiits_data.json', 'w') as f:\n",
    "    f.write(json.dumps(orcs_khajiits_data, indent=4))"
   ],
   "metadata": {
    "collapsed": false,
    "ExecuteTime": {
     "end_time": "2024-05-17T09:29:03.711210Z",
     "start_time": "2024-05-17T09:29:03.706205Z"
    }
   },
   "id": "ab781e2b261a18dc",
   "execution_count": 285
  },
  {
   "cell_type": "code",
   "outputs": [],
   "source": [
    "#add the sheet housecarl to the json file\n",
    "housecarl = pd.read_excel('testing_excel.xlsx', sheet_name='Housecarl')\n",
    "housecarl = housecarl.replace(u'\\xa0', u' ', regex=True)\n",
    "housecarl = housecarl.replace(u'\\u2019', \"'\", regex=True)\n",
    "housecarl = housecarl.replace(u'\\u00a0', ' ', regex=True)"
   ],
   "metadata": {
    "collapsed": false,
    "ExecuteTime": {
     "end_time": "2024-05-17T09:29:03.897214Z",
     "start_time": "2024-05-17T09:29:03.807910Z"
    }
   },
   "id": "84587b95fdda1c8b",
   "execution_count": 286
  },
  {
   "cell_type": "code",
   "outputs": [],
   "source": [
    "housecarl_data = [\n",
    "    {\n",
    "    \"Speaker\": housecarl['Voicetype'][index],\n",
    "    \"Dialogue\": housecarl['Dialogue'][index],\n",
    "    \"Event\": housecarl['Event'][index],\n",
    "    } for index, row in housecarl.iterrows()]\n",
    "\n",
    "data = data + housecarl_data"
   ],
   "metadata": {
    "collapsed": false,
    "ExecuteTime": {
     "end_time": "2024-05-17T09:29:03.930411Z",
     "start_time": "2024-05-17T09:29:03.925704Z"
    }
   },
   "id": "4196ea077bbee37a",
   "execution_count": 287
  },
  {
   "cell_type": "code",
   "outputs": [],
   "source": [
    "housecarl_data = convert_all_to_string(housecarl_data)"
   ],
   "metadata": {
    "collapsed": false,
    "ExecuteTime": {
     "end_time": "2024-05-17T09:29:04.019992Z",
     "start_time": "2024-05-17T09:29:04.015679Z"
    }
   },
   "id": "b17e53df20627000",
   "execution_count": 288
  },
  {
   "cell_type": "code",
   "outputs": [],
   "source": [
    "data_list.append(housecarl_data)"
   ],
   "metadata": {
    "collapsed": false,
    "ExecuteTime": {
     "end_time": "2024-05-17T09:29:04.159798Z",
     "start_time": "2024-05-17T09:29:04.155715Z"
    }
   },
   "id": "ac55e051060e2c92",
   "execution_count": 289
  },
  {
   "cell_type": "code",
   "outputs": [],
   "source": [
    "#write the housecarl data to a json file in the testing_for_error folder\n",
    "with open('testing_for_error/housecarl_data.json', 'w') as f:\n",
    "    f.write(json.dumps(housecarl_data, indent=4))"
   ],
   "metadata": {
    "collapsed": false,
    "ExecuteTime": {
     "end_time": "2024-05-17T09:29:04.243432Z",
     "start_time": "2024-05-17T09:29:04.237895Z"
    }
   },
   "id": "c7df7ddc77a6d2d0",
   "execution_count": 290
  },
  {
   "cell_type": "code",
   "outputs": [],
   "source": [
    "# add the sheet Carriage to the json file\n",
    "carriage = pd.read_excel('testing_excel.xlsx', sheet_name='Carriage')\n",
    "carriage = carriage.replace(u'\\xa0', u' ', regex=True)\n",
    "carriage = carriage.replace(u'\\u2019', \"'\", regex=True)\n",
    "carriage = carriage.replace(u'\\u00a0', ' ', regex=True)"
   ],
   "metadata": {
    "collapsed": false,
    "ExecuteTime": {
     "end_time": "2024-05-17T09:29:04.434054Z",
     "start_time": "2024-05-17T09:29:04.358349Z"
    }
   },
   "id": "712eb026ed8e5386",
   "execution_count": 291
  },
  {
   "cell_type": "code",
   "outputs": [],
   "source": [
    "carriage_data = [\n",
    "    {\n",
    "    \"Speaker\": carriage['Voicetype'][index],\n",
    "    \"Dialogue\": carriage['Dialogue'][index],\n",
    "    \"Event\": carriage['Event'][index],\n",
    "    \"Condition\": carriage['Condition'][index],\n",
    "    } for index, row in carriage.iterrows()]\n",
    "\n",
    "data = data + carriage_data"
   ],
   "metadata": {
    "collapsed": false,
    "ExecuteTime": {
     "end_time": "2024-05-17T09:29:04.458059Z",
     "start_time": "2024-05-17T09:29:04.451340Z"
    }
   },
   "id": "ea5883615853e2a9",
   "execution_count": 292
  },
  {
   "cell_type": "code",
   "outputs": [],
   "source": [
    "carriage_data = convert_all_to_string(carriage_data)"
   ],
   "metadata": {
    "collapsed": false,
    "ExecuteTime": {
     "end_time": "2024-05-17T09:29:04.571629Z",
     "start_time": "2024-05-17T09:29:04.566854Z"
    }
   },
   "id": "dd52cce0ddb3553d",
   "execution_count": 293
  },
  {
   "cell_type": "code",
   "outputs": [],
   "source": [
    "data_list.append(carriage_data)"
   ],
   "metadata": {
    "collapsed": false,
    "ExecuteTime": {
     "end_time": "2024-05-17T09:29:04.673651Z",
     "start_time": "2024-05-17T09:29:04.670051Z"
    }
   },
   "id": "6fcd980c2ad774c5",
   "execution_count": 294
  },
  {
   "cell_type": "code",
   "outputs": [],
   "source": [
    "#write the carriage data to a json file in the testing_for_error folder\n",
    "with open('testing_for_error/carriage_data.json', 'w') as f:\n",
    "    f.write(json.dumps(carriage_data, indent=4))"
   ],
   "metadata": {
    "collapsed": false,
    "ExecuteTime": {
     "end_time": "2024-05-17T09:29:04.732885Z",
     "start_time": "2024-05-17T09:29:04.727916Z"
    }
   },
   "id": "864b60be0ff7019f",
   "execution_count": 295
  },
  {
   "cell_type": "code",
   "outputs": [],
   "source": [
    "guards = pd.read_excel('testing_excel.xlsx', sheet_name='Guards')\n",
    "guards = guards.replace(u'\\xa0', u' ', regex=True)\n",
    "guards = guards.replace(u'\\u2019', \"'\", regex=True)\n",
    "guards = guards.replace(u'\\u00a0', ' ', regex=True)"
   ],
   "metadata": {
    "collapsed": false,
    "ExecuteTime": {
     "end_time": "2024-05-17T09:29:04.954425Z",
     "start_time": "2024-05-17T09:29:04.876168Z"
    }
   },
   "id": "8ff2cdd9078dbb3d",
   "execution_count": 296
  },
  {
   "cell_type": "code",
   "outputs": [],
   "source": [
    "guards_data = [\n",
    "    {\n",
    "    \"Speaker\": \"Guard\",\n",
    "    \"Dialogue\": guards['Dialogue'][index],\n",
    "    \"Event\": guards['Event'][index],\n",
    "    \"Condition\": guards['Condition'][index],\n",
    "    } for index, row in guards.iterrows()]\n",
    "\n",
    "data = data + guards_data"
   ],
   "metadata": {
    "collapsed": false,
    "ExecuteTime": {
     "end_time": "2024-05-17T09:29:04.966355Z",
     "start_time": "2024-05-17T09:29:04.955533Z"
    }
   },
   "id": "33581f403b2f8b69",
   "execution_count": 297
  },
  {
   "cell_type": "code",
   "outputs": [],
   "source": [
    "guards_data = convert_all_to_string(guards_data)"
   ],
   "metadata": {
    "collapsed": false,
    "ExecuteTime": {
     "end_time": "2024-05-17T09:29:05.024685Z",
     "start_time": "2024-05-17T09:29:05.021528Z"
    }
   },
   "id": "4954e8b186c26e3f",
   "execution_count": 298
  },
  {
   "cell_type": "code",
   "outputs": [],
   "source": [
    "data_list.append(guards_data)"
   ],
   "metadata": {
    "collapsed": false,
    "ExecuteTime": {
     "end_time": "2024-05-17T09:29:05.074618Z",
     "start_time": "2024-05-17T09:29:05.071205Z"
    }
   },
   "id": "133c0c9f81e2928b",
   "execution_count": 299
  },
  {
   "cell_type": "code",
   "outputs": [],
   "source": [
    "#write the guards data to a json file in the testing_for_error folder\n",
    "with open('testing_for_error/guards_data.json', 'w') as f:\n",
    "    f.write(json.dumps(guards_data, indent=4))"
   ],
   "metadata": {
    "collapsed": false,
    "ExecuteTime": {
     "end_time": "2024-05-17T09:29:05.215557Z",
     "start_time": "2024-05-17T09:29:05.210032Z"
    }
   },
   "id": "b656267d60d19921",
   "execution_count": 300
  },
  {
   "cell_type": "code",
   "outputs": [],
   "source": [
    "guards_race = pd.read_excel('testing_excel.xlsx', sheet_name='Guards_race')\n",
    "guards_race = guards_race.replace(u'\\xa0', u' ', regex=True)\n",
    "guards_race = guards_race.replace(u'\\u2019', \"'\", regex=True)\n",
    "guards_race = guards_race.replace(u'\\u00a0', ' ', regex=True)"
   ],
   "metadata": {
    "collapsed": false,
    "ExecuteTime": {
     "end_time": "2024-05-17T09:29:05.420157Z",
     "start_time": "2024-05-17T09:29:05.284323Z"
    }
   },
   "id": "40807c4121ddf29a",
   "execution_count": 301
  },
  {
   "cell_type": "code",
   "outputs": [
    {
     "data": {
      "text/plain": "                              Dialogue                       Race  \\\n0              \"What is it, Argonian?\"                   Argonian   \n1     \"Stay out of trouble, Argonian.\"                   Argonian   \n2       \"Stay out of trouble, lizard.\"                   Argonian   \n3   \"Staying out of trouble, kinsman?\"                       Nord   \n4     \"How can I help a brother Nord?\"                       Nord   \n5         \"Stay out of trouble, Nord.\"                       Nord   \n6               \"Don't cross me, Elf.\"  Altmer, Bosmer, or Dunmer   \n7          \"Stay out of trouble, Elf.\"  Altmer, Bosmer, or Dunmer   \n8                   \"What is it, Elf?\"  Altmer, Bosmer, or Dunmer   \n9      \"Stay out of trouble, Khajiit.\"                    Khajiit   \n10              \"What is it, Khajiit?\"                    Khajiit   \n11          \"What do you want... cat?\"                    Khajiit   \n12    \"Stay out of trouble, Redguard.\"                   Redguard   \n13             \"What is it, Redguard?\"                   Redguard   \n14    \"Stay out of trouble, Imperial.\"                   Imperial   \n15             \"What is it, Imperial?\"                   Imperial   \n16         \"Stay out of trouble, Orc.\"                        Orc   \n17                  \"What is it, Orc?\"                        Orc   \n\n                             Condition                             Event  \n0                                  NaN  a Guard reacting to players race  \n1                                  NaN  a Guard reacting to players race  \n2            the Guard is a Stormcloak  a Guard reacting to players race  \n3                    the Guard is Nord  a Guard reacting to players race  \n4                    the Guard is Nord  a Guard reacting to players race  \n5                the Guard is not Nord  a Guard reacting to players race  \n6   the Guard is Nord and a Stormcloak  a Guard reacting to players race  \n7        the Guard is not a Stormcloak  a Guard reacting to players race  \n8        the Guard is not a Stormcloak  a Guard reacting to players race  \n9                                  NaN  a Guard reacting to players race  \n10                                 NaN  a Guard reacting to players race  \n11           the Guard is a Stormcloak  a Guard reacting to players race  \n12                                 NaN  a Guard reacting to players race  \n13                                 NaN  a Guard reacting to players race  \n14    the Guard is not Imperial (race)  a Guard reacting to players race  \n15    the Guard is not Imperial (race)  a Guard reacting to players race  \n16                                 NaN  a Guard reacting to players race  \n17                                 NaN  a Guard reacting to players race  ",
      "text/html": "<div>\n<style scoped>\n    .dataframe tbody tr th:only-of-type {\n        vertical-align: middle;\n    }\n\n    .dataframe tbody tr th {\n        vertical-align: top;\n    }\n\n    .dataframe thead th {\n        text-align: right;\n    }\n</style>\n<table border=\"1\" class=\"dataframe\">\n  <thead>\n    <tr style=\"text-align: right;\">\n      <th></th>\n      <th>Dialogue</th>\n      <th>Race</th>\n      <th>Condition</th>\n      <th>Event</th>\n    </tr>\n  </thead>\n  <tbody>\n    <tr>\n      <th>0</th>\n      <td>\"What is it, Argonian?\"</td>\n      <td>Argonian</td>\n      <td>NaN</td>\n      <td>a Guard reacting to players race</td>\n    </tr>\n    <tr>\n      <th>1</th>\n      <td>\"Stay out of trouble, Argonian.\"</td>\n      <td>Argonian</td>\n      <td>NaN</td>\n      <td>a Guard reacting to players race</td>\n    </tr>\n    <tr>\n      <th>2</th>\n      <td>\"Stay out of trouble, lizard.\"</td>\n      <td>Argonian</td>\n      <td>the Guard is a Stormcloak</td>\n      <td>a Guard reacting to players race</td>\n    </tr>\n    <tr>\n      <th>3</th>\n      <td>\"Staying out of trouble, kinsman?\"</td>\n      <td>Nord</td>\n      <td>the Guard is Nord</td>\n      <td>a Guard reacting to players race</td>\n    </tr>\n    <tr>\n      <th>4</th>\n      <td>\"How can I help a brother Nord?\"</td>\n      <td>Nord</td>\n      <td>the Guard is Nord</td>\n      <td>a Guard reacting to players race</td>\n    </tr>\n    <tr>\n      <th>5</th>\n      <td>\"Stay out of trouble, Nord.\"</td>\n      <td>Nord</td>\n      <td>the Guard is not Nord</td>\n      <td>a Guard reacting to players race</td>\n    </tr>\n    <tr>\n      <th>6</th>\n      <td>\"Don't cross me, Elf.\"</td>\n      <td>Altmer, Bosmer, or Dunmer</td>\n      <td>the Guard is Nord and a Stormcloak</td>\n      <td>a Guard reacting to players race</td>\n    </tr>\n    <tr>\n      <th>7</th>\n      <td>\"Stay out of trouble, Elf.\"</td>\n      <td>Altmer, Bosmer, or Dunmer</td>\n      <td>the Guard is not a Stormcloak</td>\n      <td>a Guard reacting to players race</td>\n    </tr>\n    <tr>\n      <th>8</th>\n      <td>\"What is it, Elf?\"</td>\n      <td>Altmer, Bosmer, or Dunmer</td>\n      <td>the Guard is not a Stormcloak</td>\n      <td>a Guard reacting to players race</td>\n    </tr>\n    <tr>\n      <th>9</th>\n      <td>\"Stay out of trouble, Khajiit.\"</td>\n      <td>Khajiit</td>\n      <td>NaN</td>\n      <td>a Guard reacting to players race</td>\n    </tr>\n    <tr>\n      <th>10</th>\n      <td>\"What is it, Khajiit?\"</td>\n      <td>Khajiit</td>\n      <td>NaN</td>\n      <td>a Guard reacting to players race</td>\n    </tr>\n    <tr>\n      <th>11</th>\n      <td>\"What do you want... cat?\"</td>\n      <td>Khajiit</td>\n      <td>the Guard is a Stormcloak</td>\n      <td>a Guard reacting to players race</td>\n    </tr>\n    <tr>\n      <th>12</th>\n      <td>\"Stay out of trouble, Redguard.\"</td>\n      <td>Redguard</td>\n      <td>NaN</td>\n      <td>a Guard reacting to players race</td>\n    </tr>\n    <tr>\n      <th>13</th>\n      <td>\"What is it, Redguard?\"</td>\n      <td>Redguard</td>\n      <td>NaN</td>\n      <td>a Guard reacting to players race</td>\n    </tr>\n    <tr>\n      <th>14</th>\n      <td>\"Stay out of trouble, Imperial.\"</td>\n      <td>Imperial</td>\n      <td>the Guard is not Imperial (race)</td>\n      <td>a Guard reacting to players race</td>\n    </tr>\n    <tr>\n      <th>15</th>\n      <td>\"What is it, Imperial?\"</td>\n      <td>Imperial</td>\n      <td>the Guard is not Imperial (race)</td>\n      <td>a Guard reacting to players race</td>\n    </tr>\n    <tr>\n      <th>16</th>\n      <td>\"Stay out of trouble, Orc.\"</td>\n      <td>Orc</td>\n      <td>NaN</td>\n      <td>a Guard reacting to players race</td>\n    </tr>\n    <tr>\n      <th>17</th>\n      <td>\"What is it, Orc?\"</td>\n      <td>Orc</td>\n      <td>NaN</td>\n      <td>a Guard reacting to players race</td>\n    </tr>\n  </tbody>\n</table>\n</div>"
     },
     "execution_count": 302,
     "metadata": {},
     "output_type": "execute_result"
    }
   ],
   "source": [
    "guards_race"
   ],
   "metadata": {
    "collapsed": false,
    "ExecuteTime": {
     "end_time": "2024-05-17T09:29:05.429880Z",
     "start_time": "2024-05-17T09:29:05.421201Z"
    }
   },
   "id": "d5f266513f03d01b",
   "execution_count": 302
  },
  {
   "cell_type": "code",
   "outputs": [],
   "source": [
    "guards_race_data = [\n",
    "    {\n",
    "        \"Speaker\": \"Guard\",\n",
    "        \"Dialogue\": row['Dialogue'],\n",
    "        \"Event\": row['Event'],\n",
    "        \"Condition\": row['Condition'],\n",
    "        \"Race\": row['Race'],\n",
    "    } for index, row in guards_race.iterrows()  # Ensure this matches the DataFrame you're indexing\n",
    "]\n",
    "data = data + guards_race_data"
   ],
   "metadata": {
    "collapsed": false,
    "ExecuteTime": {
     "end_time": "2024-05-17T09:29:05.506728Z",
     "start_time": "2024-05-17T09:29:05.500719Z"
    }
   },
   "id": "630f67334c0fa82b",
   "execution_count": 303
  },
  {
   "cell_type": "code",
   "outputs": [],
   "source": [
    "guards_race_data = convert_all_to_string(guards_race_data)"
   ],
   "metadata": {
    "collapsed": false,
    "ExecuteTime": {
     "end_time": "2024-05-17T09:29:05.621314Z",
     "start_time": "2024-05-17T09:29:05.616926Z"
    }
   },
   "id": "a4d400e851247c2c",
   "execution_count": 304
  },
  {
   "cell_type": "code",
   "outputs": [],
   "source": [
    "data_list.append(guards_race_data)"
   ],
   "metadata": {
    "collapsed": false,
    "ExecuteTime": {
     "end_time": "2024-05-17T09:29:05.733543Z",
     "start_time": "2024-05-17T09:29:05.729711Z"
    }
   },
   "id": "182ac80c4e9a4594",
   "execution_count": 305
  },
  {
   "cell_type": "code",
   "outputs": [],
   "source": [
    "#write the guards_race_data to a json file in the testing_for_error folder\n",
    "with open('testing_for_error/guards_race_data.json', 'w') as f:\n",
    "    f.write(json.dumps(guards_race_data, indent=4))"
   ],
   "metadata": {
    "collapsed": false,
    "ExecuteTime": {
     "end_time": "2024-05-17T09:29:05.921595Z",
     "start_time": "2024-05-17T09:29:05.915904Z"
    }
   },
   "id": "9c63d4983cc410df",
   "execution_count": 306
  },
  {
   "cell_type": "code",
   "outputs": [],
   "source": [
    "#add the sheet Guard_Equipment to the json file\n",
    "guard_equipment = pd.read_excel('testing_excel.xlsx', sheet_name='Guard_Equipment')\n",
    "guard_equipment = guard_equipment.replace(u'\\xa0', u' ', regex=True)\n",
    "guard_equipment = guard_equipment.replace(u'\\u2019', \"'\", regex=True)\n",
    "guard_equipment = guard_equipment.replace(u'\\u00a0', ' ', regex=True)"
   ],
   "metadata": {
    "collapsed": false,
    "ExecuteTime": {
     "end_time": "2024-05-17T09:29:06.049412Z",
     "start_time": "2024-05-17T09:29:05.975601Z"
    }
   },
   "id": "e23826ea7fdf1f7d",
   "execution_count": 307
  },
  {
   "cell_type": "code",
   "outputs": [],
   "source": [
    "guard_equipment_data = [\n",
    "    {\n",
    "    \"Speaker\": \"Guard\",\n",
    "    \"Dialogue\": guard_equipment['Dialogue'][index],\n",
    "    \"Event\": guard_equipment['Event'][index],\n",
    "    \"Condition\": guard_equipment['Condition'][index],\n",
    "    \"Equipment\": guard_equipment['Equipment'][index],\n",
    "    } for index, row in guard_equipment.iterrows()]\n",
    "\n",
    "data = data + guard_equipment_data"
   ],
   "metadata": {
    "collapsed": false,
    "ExecuteTime": {
     "end_time": "2024-05-17T09:29:06.142960Z",
     "start_time": "2024-05-17T09:29:06.135469Z"
    }
   },
   "id": "1bc5d826ae71a3c3",
   "execution_count": 308
  },
  {
   "cell_type": "code",
   "outputs": [],
   "source": [
    "guard_equipment_data = convert_all_to_string(guard_equipment_data)"
   ],
   "metadata": {
    "collapsed": false,
    "ExecuteTime": {
     "end_time": "2024-05-17T09:29:06.204774Z",
     "start_time": "2024-05-17T09:29:06.200270Z"
    }
   },
   "id": "bf6c4e3a01217fb1",
   "execution_count": 309
  },
  {
   "cell_type": "code",
   "outputs": [],
   "source": [
    "data_list.append(guard_equipment_data)"
   ],
   "metadata": {
    "collapsed": false,
    "ExecuteTime": {
     "end_time": "2024-05-17T09:29:06.382291Z",
     "start_time": "2024-05-17T09:29:06.378110Z"
    }
   },
   "id": "ed82cd3f82e4ec1f",
   "execution_count": 310
  },
  {
   "cell_type": "code",
   "outputs": [],
   "source": [
    "#write the guard_equipment data to a json file in the testing_for_error folder\n",
    "with open('testing_for_error/guard_equipment_data.json', 'w') as f:\n",
    "    f.write(json.dumps(guard_equipment_data, indent=4))"
   ],
   "metadata": {
    "collapsed": false,
    "ExecuteTime": {
     "end_time": "2024-05-17T09:29:06.457224Z",
     "start_time": "2024-05-17T09:29:06.452004Z"
    }
   },
   "id": "bb5106cfe8401a55",
   "execution_count": 311
  },
  {
   "cell_type": "code",
   "outputs": [],
   "source": [
    "#add the sheet Guard_skill to the json file\n",
    "guard_skill = pd.read_excel('testing_excel.xlsx', sheet_name='Guard_skill')\n",
    "guard_skill = guard_skill.replace(u'\\xa0', u' ', regex=True)\n",
    "guard_skill = guard_skill.replace(u'\\u2019', \"'\", regex=True)\n",
    "guard_skill = guard_skill.replace(u'\\u00a0', ' ', regex=True)"
   ],
   "metadata": {
    "collapsed": false,
    "ExecuteTime": {
     "end_time": "2024-05-17T09:29:06.671555Z",
     "start_time": "2024-05-17T09:29:06.602633Z"
    }
   },
   "id": "e47b6b335810a377",
   "execution_count": 312
  },
  {
   "cell_type": "code",
   "outputs": [],
   "source": [
    "guard_skill_data = [\n",
    "    {\n",
    "    \"Speaker\": \"Guard\",\n",
    "    \"Dialogue\": guard_skill['Dialogue'][index],\n",
    "    \"Event\": guard_skill['Event'][index],\n",
    "    } for index, row in guard_skill.iterrows()]\n",
    "\n",
    "data = data + guard_skill_data"
   ],
   "metadata": {
    "collapsed": false,
    "ExecuteTime": {
     "end_time": "2024-05-17T09:29:06.689944Z",
     "start_time": "2024-05-17T09:29:06.684313Z"
    }
   },
   "id": "63afe1101e25b5ee",
   "execution_count": 313
  },
  {
   "cell_type": "code",
   "outputs": [],
   "source": [
    "guard_skill_data = convert_all_to_string(guard_skill_data)"
   ],
   "metadata": {
    "collapsed": false,
    "ExecuteTime": {
     "end_time": "2024-05-17T09:29:06.794339Z",
     "start_time": "2024-05-17T09:29:06.790915Z"
    }
   },
   "id": "45e21d118b04e4c8",
   "execution_count": 314
  },
  {
   "cell_type": "code",
   "outputs": [],
   "source": [
    "data_list.append(guard_skill_data)"
   ],
   "metadata": {
    "collapsed": false,
    "ExecuteTime": {
     "end_time": "2024-05-17T09:29:06.916584Z",
     "start_time": "2024-05-17T09:29:06.912724Z"
    }
   },
   "id": "8fc1a12df9cfde58",
   "execution_count": 315
  },
  {
   "cell_type": "code",
   "outputs": [],
   "source": [
    "#write the guard_skill data to a json file in the testing_for_error folder\n",
    "with open('testing_for_error/guard_skill_data.json', 'w') as f:\n",
    "    f.write(json.dumps(guard_skill_data, indent=4))"
   ],
   "metadata": {
    "collapsed": false,
    "ExecuteTime": {
     "end_time": "2024-05-17T09:29:06.998138Z",
     "start_time": "2024-05-17T09:29:06.992721Z"
    }
   },
   "id": "4958fc716b983221",
   "execution_count": 316
  },
  {
   "cell_type": "code",
   "outputs": [],
   "source": [
    "# add the Stromcloak-imperial sheet to the json file\n",
    "stromcloak_imperial = pd.read_excel('testing_excel.xlsx', sheet_name='Stromcloak-imperial')\n",
    "stromcloak_imperial = stromcloak_imperial.replace(u'\\xa0', u' ', regex=True)\n",
    "stromcloak_imperial = stromcloak_imperial.replace(u'\\u2019', \"'\", regex=True)\n",
    "stromcloak_imperial = stromcloak_imperial.replace(u'\\u00a0', ' ', regex=True)"
   ],
   "metadata": {
    "collapsed": false,
    "ExecuteTime": {
     "end_time": "2024-05-17T09:29:07.189590Z",
     "start_time": "2024-05-17T09:29:07.111576Z"
    }
   },
   "id": "96a7528d96d15075",
   "execution_count": 317
  },
  {
   "cell_type": "code",
   "outputs": [],
   "source": [
    "stromcloak_imperial_data = [\n",
    "    {\n",
    "    \"Speaker\": stromcloak_imperial['Guard'][index],\n",
    "    \"Dialogue\": stromcloak_imperial['Dialogue'][index],\n",
    "    \"Event\": stromcloak_imperial['Event'][index],\n",
    "    \"Condition\": stromcloak_imperial['Condition'][index],\n",
    "    } for index, row in stromcloak_imperial.iterrows()]\n",
    "\n",
    "data = data + stromcloak_imperial_data"
   ],
   "metadata": {
    "collapsed": false,
    "ExecuteTime": {
     "end_time": "2024-05-17T09:29:07.197371Z",
     "start_time": "2024-05-17T09:29:07.190700Z"
    }
   },
   "id": "b10d0413d5706d33",
   "execution_count": 318
  },
  {
   "cell_type": "code",
   "outputs": [],
   "source": [
    "stromcloak_imperial_data = convert_all_to_string(stromcloak_imperial_data)"
   ],
   "metadata": {
    "collapsed": false,
    "ExecuteTime": {
     "end_time": "2024-05-17T09:29:07.309819Z",
     "start_time": "2024-05-17T09:29:07.306573Z"
    }
   },
   "id": "331f1d7cb892938e",
   "execution_count": 319
  },
  {
   "cell_type": "code",
   "outputs": [],
   "source": [
    "data_list.append(stromcloak_imperial_data)"
   ],
   "metadata": {
    "collapsed": false,
    "ExecuteTime": {
     "end_time": "2024-05-17T09:29:07.372915Z",
     "start_time": "2024-05-17T09:29:07.369359Z"
    }
   },
   "id": "1b73f2910646dc5c",
   "execution_count": 320
  },
  {
   "cell_type": "code",
   "outputs": [],
   "source": [
    "#write the stromcloak_imperial data to a json file in the testing_for_error folder\n",
    "with open('testing_for_error/stromcloak_imperial_data.json', 'w') as f:\n",
    "    f.write(json.dumps(stromcloak_imperial_data, indent=4))"
   ],
   "metadata": {
    "collapsed": false,
    "ExecuteTime": {
     "end_time": "2024-05-17T09:29:07.499886Z",
     "start_time": "2024-05-17T09:29:07.493577Z"
    }
   },
   "id": "109637b9b6220050",
   "execution_count": 321
  },
  {
   "cell_type": "code",
   "outputs": [],
   "source": [
    "#add the Guard_interactions sheet to the json file\n",
    "guard_interactions = pd.read_excel('testing_excel.xlsx', sheet_name='Guard_interactions')\n",
    "guard_interactions = guard_interactions.replace(u'\\xa0', u' ', regex=True)\n",
    "guard_interactions = guard_interactions.replace(u'\\u2019', \"'\", regex=True)\n",
    "guard_interactions = guard_interactions.replace(u'\\u00a0', ' ', regex=True)"
   ],
   "metadata": {
    "collapsed": false,
    "ExecuteTime": {
     "end_time": "2024-05-17T09:29:07.659908Z",
     "start_time": "2024-05-17T09:29:07.590573Z"
    }
   },
   "id": "537706d2fc8cfc02",
   "execution_count": 322
  },
  {
   "cell_type": "code",
   "outputs": [
    {
     "data": {
      "text/plain": "                                              Dialogue  Location  \\\n0    \"<Town>'s under my protection. You watch yours...  Any Town   \n1    \"You've come to Dawnstar at a strange time, fr...  Dawnstar   \n2    \"The people here are still plagued with nightm...  Dawnstar   \n3    \"Dangerous post, Dawnstar. If the bandits don'...  Dawnstar   \n4    \"Old lady Frida is a grouch, but she sure can ...  Dawnstar   \n..                                                 ...       ...   \n99   \"South of here, and west of the road, lies Cro...  Windhelm   \n100  \"I've no problem with your kind, Orc. But that...  Windhelm   \n101  \"I've no problem with Orcs. But that stronghol...  Windhelm   \n102  \"Across the river to the northeast lies Yngol ...  Windhelm   \n103  \"The Eye of Talos was a fine ship, once. Now i...  Windhelm   \n\n                Condition                                              Event  \n0                     NaN  Player interacts with the guard in a specific ...  \n1                     NaN  Player interacts with the guard in a specific ...  \n2                     NaN  Player interacts with the guard in a specific ...  \n3                     NaN  Player interacts with the guard in a specific ...  \n4                     NaN  Player interacts with the guard in a specific ...  \n..                    ...                                                ...  \n99                    NaN  Player interacts with the guard in a specific ...  \n100  the Player is an Orc  Player interacts with the guard in a specific ...  \n101                   NaN  Player interacts with the guard in a specific ...  \n102                   NaN  Player interacts with the guard in a specific ...  \n103                   NaN  Player interacts with the guard in a specific ...  \n\n[104 rows x 4 columns]",
      "text/html": "<div>\n<style scoped>\n    .dataframe tbody tr th:only-of-type {\n        vertical-align: middle;\n    }\n\n    .dataframe tbody tr th {\n        vertical-align: top;\n    }\n\n    .dataframe thead th {\n        text-align: right;\n    }\n</style>\n<table border=\"1\" class=\"dataframe\">\n  <thead>\n    <tr style=\"text-align: right;\">\n      <th></th>\n      <th>Dialogue</th>\n      <th>Location</th>\n      <th>Condition</th>\n      <th>Event</th>\n    </tr>\n  </thead>\n  <tbody>\n    <tr>\n      <th>0</th>\n      <td>\"&lt;Town&gt;'s under my protection. You watch yours...</td>\n      <td>Any Town</td>\n      <td>NaN</td>\n      <td>Player interacts with the guard in a specific ...</td>\n    </tr>\n    <tr>\n      <th>1</th>\n      <td>\"You've come to Dawnstar at a strange time, fr...</td>\n      <td>Dawnstar</td>\n      <td>NaN</td>\n      <td>Player interacts with the guard in a specific ...</td>\n    </tr>\n    <tr>\n      <th>2</th>\n      <td>\"The people here are still plagued with nightm...</td>\n      <td>Dawnstar</td>\n      <td>NaN</td>\n      <td>Player interacts with the guard in a specific ...</td>\n    </tr>\n    <tr>\n      <th>3</th>\n      <td>\"Dangerous post, Dawnstar. If the bandits don'...</td>\n      <td>Dawnstar</td>\n      <td>NaN</td>\n      <td>Player interacts with the guard in a specific ...</td>\n    </tr>\n    <tr>\n      <th>4</th>\n      <td>\"Old lady Frida is a grouch, but she sure can ...</td>\n      <td>Dawnstar</td>\n      <td>NaN</td>\n      <td>Player interacts with the guard in a specific ...</td>\n    </tr>\n    <tr>\n      <th>...</th>\n      <td>...</td>\n      <td>...</td>\n      <td>...</td>\n      <td>...</td>\n    </tr>\n    <tr>\n      <th>99</th>\n      <td>\"South of here, and west of the road, lies Cro...</td>\n      <td>Windhelm</td>\n      <td>NaN</td>\n      <td>Player interacts with the guard in a specific ...</td>\n    </tr>\n    <tr>\n      <th>100</th>\n      <td>\"I've no problem with your kind, Orc. But that...</td>\n      <td>Windhelm</td>\n      <td>the Player is an Orc</td>\n      <td>Player interacts with the guard in a specific ...</td>\n    </tr>\n    <tr>\n      <th>101</th>\n      <td>\"I've no problem with Orcs. But that stronghol...</td>\n      <td>Windhelm</td>\n      <td>NaN</td>\n      <td>Player interacts with the guard in a specific ...</td>\n    </tr>\n    <tr>\n      <th>102</th>\n      <td>\"Across the river to the northeast lies Yngol ...</td>\n      <td>Windhelm</td>\n      <td>NaN</td>\n      <td>Player interacts with the guard in a specific ...</td>\n    </tr>\n    <tr>\n      <th>103</th>\n      <td>\"The Eye of Talos was a fine ship, once. Now i...</td>\n      <td>Windhelm</td>\n      <td>NaN</td>\n      <td>Player interacts with the guard in a specific ...</td>\n    </tr>\n  </tbody>\n</table>\n<p>104 rows × 4 columns</p>\n</div>"
     },
     "execution_count": 323,
     "metadata": {},
     "output_type": "execute_result"
    }
   ],
   "source": [
    "#keep the rows until row 103\n",
    "guard_interactions = guard_interactions[:104]\n",
    "guard_interactions"
   ],
   "metadata": {
    "collapsed": false,
    "ExecuteTime": {
     "end_time": "2024-05-17T09:29:07.699237Z",
     "start_time": "2024-05-17T09:29:07.687657Z"
    }
   },
   "id": "d79922ffe9a8b08e",
   "execution_count": 323
  },
  {
   "cell_type": "code",
   "outputs": [],
   "source": [
    "guard_interactions_data = [\n",
    "    {\n",
    "    \"Speaker\": \"Guard\",\n",
    "    \"Dialogue\": guard_interactions['Dialogue'][index],\n",
    "    \"Event\": guard_interactions['Event'][index],\n",
    "    \"Condition\": guard_interactions['Condition'][index],\n",
    "    \"Location\": guard_interactions['Location'][index],\n",
    "    } for index, row in guard_interactions.iterrows()]\n",
    "\n",
    "data = data + guard_interactions_data"
   ],
   "metadata": {
    "collapsed": false,
    "ExecuteTime": {
     "end_time": "2024-05-17T09:29:07.787310Z",
     "start_time": "2024-05-17T09:29:07.776165Z"
    }
   },
   "id": "680d3ccb17929cb6",
   "execution_count": 324
  },
  {
   "cell_type": "code",
   "outputs": [],
   "source": [
    "guard_interactions_data = convert_all_to_string(guard_interactions_data)"
   ],
   "metadata": {
    "collapsed": false,
    "ExecuteTime": {
     "end_time": "2024-05-17T09:29:07.883883Z",
     "start_time": "2024-05-17T09:29:07.880234Z"
    }
   },
   "id": "75e287c15cd3c36f",
   "execution_count": 325
  },
  {
   "cell_type": "code",
   "outputs": [],
   "source": [
    "data_list.append(guard_interactions_data)"
   ],
   "metadata": {
    "collapsed": false,
    "ExecuteTime": {
     "end_time": "2024-05-17T09:29:08.028981Z",
     "start_time": "2024-05-17T09:29:08.024921Z"
    }
   },
   "id": "beda1a345ded7c3f",
   "execution_count": 326
  },
  {
   "cell_type": "code",
   "outputs": [],
   "source": [
    "#write the guard_interactions data to a json file in the testing_for_error folder\n",
    "with open('testing_for_error/guard_interactions_data.json', 'w') as f:\n",
    "    f.write(json.dumps(guard_interactions_data, indent=4))"
   ],
   "metadata": {
    "collapsed": false,
    "ExecuteTime": {
     "end_time": "2024-05-17T09:29:08.206205Z",
     "start_time": "2024-05-17T09:29:08.200280Z"
    }
   },
   "id": "db178504e0f3ab07",
   "execution_count": 327
  },
  {
   "cell_type": "code",
   "outputs": [],
   "source": [
    "def convert_all_to_string(data):\n",
    "    \"\"\"\n",
    "    Recursively convert all data in a dictionary or list to string.\n",
    "    \"\"\"\n",
    "    if isinstance(data, dict):\n",
    "        return {key: convert_all_to_string(value) for key, value in data.items()}\n",
    "    elif isinstance(data, list):\n",
    "        return [convert_all_to_string(item) for item in data]\n",
    "    else:\n",
    "        return str(data)\n",
    "\n",
    "# Convert all data to string\n",
    "string_data = convert_all_to_string(data)"
   ],
   "metadata": {
    "collapsed": false,
    "ExecuteTime": {
     "end_time": "2024-05-17T09:29:08.261951Z",
     "start_time": "2024-05-17T09:29:08.253917Z"
    }
   },
   "id": "b7a8e0b17a4c3e93",
   "execution_count": 328
  },
  {
   "cell_type": "code",
   "outputs": [],
   "source": [
    "# Write the shuffled data to a json file\n",
    "with open('results/data.json', 'w') as f:\n",
    "    f.write(json.dumps(string_data, indent=4))"
   ],
   "metadata": {
    "collapsed": false,
    "ExecuteTime": {
     "end_time": "2024-05-17T09:29:08.383046Z",
     "start_time": "2024-05-17T09:29:08.365196Z"
    }
   },
   "id": "1f5f34163a6296c9",
   "execution_count": 329
  },
  {
   "cell_type": "code",
   "outputs": [],
   "source": [
    "# randomize the components of the json file\n",
    "import random\n",
    "\n",
    "random.shuffle(string_data)\n",
    "\n",
    "# Write the shuffled data to a json file\n",
    "with open('results/shuffled_data.json', 'w') as f:\n",
    "    f.write(json.dumps(string_data, indent=4))"
   ],
   "metadata": {
    "collapsed": false,
    "ExecuteTime": {
     "end_time": "2024-05-17T09:29:08.448681Z",
     "start_time": "2024-05-17T09:29:08.426706Z"
    }
   },
   "id": "5c5c68a6fa257151",
   "execution_count": 330
  },
  {
   "cell_type": "code",
   "outputs": [
    {
     "name": "stdout",
     "output_type": "stream",
     "text": [
      "Train Data Length: 1417\n",
      "Validation Data Length: 177\n",
      "Test Data Length: 181\n"
     ]
    }
   ],
   "source": [
    "from sklearn.model_selection import train_test_split\n",
    "from collections import defaultdict\n",
    "\n",
    "# Custom function to split data based on the number of elements for each event\n",
    "def custom_train_val_test_split(data, event_key):\n",
    "    event_dict = defaultdict(list)\n",
    "    for item in data:\n",
    "        event_dict[item[event_key]].append(item)\n",
    "    \n",
    "    train_data = []\n",
    "    validation_data = []\n",
    "    test_data = []\n",
    "    \n",
    "    for event, items in event_dict.items():\n",
    "        \n",
    "        if len(items) == 1:\n",
    "            train_data.extend(items)\n",
    "        elif len(items) == 2:\n",
    "            train_data.append(items[0])\n",
    "            validation_data.append(items[1])\n",
    "        else:\n",
    "            # Calculate sizes for train, val, and test\n",
    "            n_train = max(1, int(len(items) * 0.844))\n",
    "            n_val_test = len(items) - n_train\n",
    "            n_val = max(1, n_val_test // 2)\n",
    "            n_test = n_val_test - n_val\n",
    "            \n",
    "            # Handle edge cases to ensure valid test_size\n",
    "            if n_val_test == 0:\n",
    "                train_split, val_test_split = items, []\n",
    "            else:\n",
    "                train_split, val_test_split = train_test_split(items, test_size=n_val_test, stratify=[item[event_key] for item in items],random_state=42)\n",
    "            \n",
    "            if len(val_test_split) == 1:\n",
    "                validation_split, test_split = val_test_split, []\n",
    "            else:\n",
    "                if n_test == 0:\n",
    "                    validation_split, test_split = val_test_split, []\n",
    "                else:\n",
    "                    validation_split, test_split = train_test_split(val_test_split, test_size=n_test, stratify=[item[event_key] for item in val_test_split], random_state=42)\n",
    "            \n",
    "            # Ensure each set has at least one item\n",
    "            if not validation_split:\n",
    "                validation_split.append(train_split.pop())\n",
    "            if not test_split:\n",
    "                test_split.append(train_split.pop())\n",
    "            \n",
    "            train_data.extend(train_split)\n",
    "            validation_data.extend(validation_split)\n",
    "            test_data.extend(test_split)\n",
    "    \n",
    "    return train_data, validation_data, test_data\n",
    "\n",
    "# Split the data\n",
    "train_data_strat, validation_data_strat, test_data_strat = custom_train_val_test_split(string_data, 'Event')\n",
    "\n",
    "# Print lengths\n",
    "print(f'Train Data Length: {len(train_data_strat)}')\n",
    "print(f'Validation Data Length: {len(validation_data_strat)}')\n",
    "print(f'Test Data Length: {len(test_data_strat)}')"
   ],
   "metadata": {
    "collapsed": false,
    "ExecuteTime": {
     "end_time": "2024-05-17T09:29:08.668277Z",
     "start_time": "2024-05-17T09:29:08.596439Z"
    }
   },
   "id": "c680bb0253d96fc0",
   "execution_count": 331
  },
  {
   "cell_type": "code",
   "outputs": [
    {
     "name": "stdout",
     "output_type": "stream",
     "text": [
      "1775\n"
     ]
    }
   ],
   "source": [
    "#Calculate the total length of the train, validation and test data\n",
    "print(len(train_data_strat)+len(validation_data_strat)+len(test_data_strat))"
   ],
   "metadata": {
    "collapsed": false,
    "ExecuteTime": {
     "end_time": "2024-05-17T09:29:08.734676Z",
     "start_time": "2024-05-17T09:29:08.730735Z"
    }
   },
   "id": "eaa554b5d69fa427",
   "execution_count": 332
  },
  {
   "cell_type": "code",
   "outputs": [
    {
     "name": "stdout",
     "output_type": "stream",
     "text": [
      "Total missing events: 0\n"
     ]
    }
   ],
   "source": [
    "# from the string data create a list with all the unique events but exclude the events with 1 or 2 elements\n",
    "unique_events = [event for event in set([item['Event'] for item in string_data]) if sum([item['Event'] == event for item in string_data]) > 2]\n",
    "\n",
    "# Check if each event is present in the train, validation, and test data and print the count of the total number of events missing\n",
    "missing_events = 0\n",
    "for event in unique_events:\n",
    "    if event not in [item['Event'] for item in train_data_strat]:\n",
    "        missing_events += 1\n",
    "        print(f'Event \"{event}\" not in train data')\n",
    "    if event not in [item['Event'] for item in validation_data_strat]:\n",
    "        missing_events += 1\n",
    "        print(f'Event \"{event}\" not in validation data')\n",
    "    if event not in [item['Event'] for item in test_data_strat]:\n",
    "        missing_events += 1\n",
    "        print(f'Event \"{event}\" not in test data')\n",
    "        \n",
    "print(f'Total missing events: {missing_events}')"
   ],
   "metadata": {
    "collapsed": false,
    "ExecuteTime": {
     "end_time": "2024-05-17T09:29:08.861065Z",
     "start_time": "2024-05-17T09:29:08.829607Z"
    }
   },
   "id": "31da8ccc3f943b90",
   "execution_count": 333
  },
  {
   "cell_type": "code",
   "outputs": [],
   "source": [
    "# Write the stratified and split data to json files in the results folder\n",
    "with open('results/stratified_train.json', 'w') as f:\n",
    "    f.write(json.dumps(train_data_strat, indent=4))\n",
    "    \n",
    "with open('results/stratified_val.json', 'w') as f:\n",
    "    f.write(json.dumps(validation_data_strat, indent=4))\n",
    "\n",
    "with open('results/stratified_test.json', 'w') as f:\n",
    "    f.write(json.dumps(test_data_strat, indent=4))"
   ],
   "metadata": {
    "collapsed": false,
    "ExecuteTime": {
     "end_time": "2024-05-17T09:29:09.042243Z",
     "start_time": "2024-05-17T09:29:09.020300Z"
    }
   },
   "id": "6061ff1093c9e7f0",
   "execution_count": 334
  },
  {
   "cell_type": "code",
   "outputs": [],
   "source": [
    "#add the Introduction sheet to the json file\n",
    "introduction = pd.read_excel('testing_excel.xlsx', sheet_name='Introduction')\n"
   ],
   "metadata": {
    "collapsed": false,
    "ExecuteTime": {
     "end_time": "2024-05-20T12:34:48.349080Z",
     "start_time": "2024-05-20T12:34:48.243524Z"
    }
   },
   "id": "99e451a0d6beb009",
   "execution_count": 25
  },
  {
   "cell_type": "code",
   "outputs": [],
   "source": [
    "#remove the \\n character from the dataframe\n",
    "introduction = introduction.replace(u'\\n', ' ', regex=True)\n",
    "#remove the \\u2019 character from the dataframe\n",
    "introduction = introduction.replace(u'\\u2019', \"'\", regex=True)\n",
    "#remove the \\u00a0 character from the dataframe\n",
    "introduction = introduction.replace(u'\\u00a0', ' ', regex=True)\n",
    "#remove the \\xa0 character from the dataframe\n",
    "introduction = introduction.replace(u'\\xa0', ' ', regex=True)\n",
    "#remove the \\u2014 character from the dataframe\n",
    "introduction = introduction.replace(u'\\u2014', '--', regex=True)\n",
    "#remove the \\u2026 character from the dataframe\n",
    "introduction = introduction.replace(u'\\u2026', '...', regex=True)"
   ],
   "metadata": {
    "collapsed": false,
    "ExecuteTime": {
     "end_time": "2024-05-20T12:35:22.491584Z",
     "start_time": "2024-05-20T12:35:22.483725Z"
    }
   },
   "id": "9574bde577360309",
   "execution_count": 29
  },
  {
   "cell_type": "code",
   "outputs": [],
   "source": [
    "import json"
   ],
   "metadata": {
    "collapsed": false,
    "ExecuteTime": {
     "end_time": "2024-05-20T12:35:28.189855Z",
     "start_time": "2024-05-20T12:35:28.186887Z"
    }
   },
   "id": "ec5541e30133d7b1",
   "execution_count": 30
  },
  {
   "cell_type": "code",
   "outputs": [],
   "source": [
    "introduction_data = [\n",
    "    {\n",
    "    \"Game\": introduction['Game'][index],\n",
    "    \"Monologue\": introduction['Introduction'][index],\n",
    "    \"Context\": introduction['Context'][index],\n",
    "    } for index, row in introduction.iterrows()]\n",
    "\n",
    "#pass the introduction data to a json file\n",
    "introduction_data = convert_all_to_string(introduction_data)\n",
    "with open('testing_for_error/introduction_data.json', 'w') as f:\n",
    "    f.write(json.dumps(introduction_data, indent=4))"
   ],
   "metadata": {
    "collapsed": false,
    "ExecuteTime": {
     "end_time": "2024-05-20T12:35:37.980520Z",
     "start_time": "2024-05-20T12:35:37.969467Z"
    }
   },
   "id": "cb9a9403601a7006",
   "execution_count": 31
  },
  {
   "cell_type": "code",
   "outputs": [
    {
     "ename": "NameError",
     "evalue": "name 'random' is not defined",
     "output_type": "error",
     "traceback": [
      "\u001B[1;31m---------------------------------------------------------------------------\u001B[0m",
      "\u001B[1;31mNameError\u001B[0m                                 Traceback (most recent call last)",
      "Cell \u001B[1;32mIn[1], line 2\u001B[0m\n\u001B[0;32m      1\u001B[0m \u001B[38;5;66;03m#Suffle the introduction data\u001B[39;00m\n\u001B[1;32m----> 2\u001B[0m \u001B[43mrandom\u001B[49m\u001B[38;5;241m.\u001B[39mshuffle(introduction_data)\n\u001B[0;32m      4\u001B[0m \u001B[38;5;66;03m#split the introduction data into 80 percent train 10 percent validation and 10 percent test\u001B[39;00m\n\u001B[0;32m      5\u001B[0m train_data_introduction, validation_data_introduction, test_data_introduction \u001B[38;5;241m=\u001B[39m train_test_split(introduction_data, test_size\u001B[38;5;241m=\u001B[39m\u001B[38;5;241m0.2\u001B[39m, random_state\u001B[38;5;241m=\u001B[39m\u001B[38;5;241m42\u001B[39m)\n",
      "\u001B[1;31mNameError\u001B[0m: name 'random' is not defined"
     ]
    }
   ],
   "source": [
    "#Suffle the introduction data\n",
    "random.shuffle(introduction_data)\n",
    "\n",
    "#split the introduction data into 80 percent train 10 percent validation and 10 percent test\n",
    "train_data_introduction, validation_data_introduction, test_data_introduction = train_test_split(introduction_data, test_size=0.2, random_state=42)\n",
    "\n",
    "#print the lengths of the train, validation and test data\n",
    "print(f'Train Data Length: {len(train_data_introduction)}')\n",
    "print(f'Validation Data Length: {len(validation_data_introduction)}')\n",
    "print(f'Test Data Length: {len(test_data_introduction)}')\n"
   ],
   "metadata": {
    "collapsed": false,
    "ExecuteTime": {
     "end_time": "2024-05-20T13:21:15.959781Z",
     "start_time": "2024-05-20T13:21:15.528908Z"
    }
   },
   "id": "79c89192ac34d3e6",
   "execution_count": 1
  },
  {
   "cell_type": "code",
   "outputs": [],
   "source": [
    "#delete the contents of the results folder na the testing_for_error folder\n",
    "import os\n",
    "import shutil\n",
    "\n",
    "# Delete the contents of the results folder\n",
    "\n",
    "def delete_contents(folder):\n",
    "    for filename in os.listdir(folder):\n",
    "        file_path = os.path.join(folder, filename)\n",
    "        try:\n",
    "            if os.path.isfile(file_path) or os.path.islink(file_path):\n",
    "                os.unlink(file_path)\n",
    "            elif os.path.isdir(file_path):\n",
    "                shutil.rmtree(file_path)\n",
    "        except Exception as e:\n",
    "            print('Failed to delete %s. Reason: %s' % (file_path, e))\n",
    "     \n",
    "folder = 'results'\n",
    "delete_contents(folder)\n",
    "folder = 'testing_for_error'\n",
    "delete_contents(folder)"
   ],
   "metadata": {
    "collapsed": false,
    "ExecuteTime": {
     "end_time": "2024-05-17T09:28:37.089826Z",
     "start_time": "2024-05-17T09:28:37.071004Z"
    }
   },
   "id": "4351b4f90a4ee95e",
   "execution_count": 175
  }
 ],
 "metadata": {
  "kernelspec": {
   "display_name": "Python 3",
   "language": "python",
   "name": "python3"
  },
  "language_info": {
   "codemirror_mode": {
    "name": "ipython",
    "version": 2
   },
   "file_extension": ".py",
   "mimetype": "text/x-python",
   "name": "python",
   "nbconvert_exporter": "python",
   "pygments_lexer": "ipython2",
   "version": "2.7.6"
  }
 },
 "nbformat": 4,
 "nbformat_minor": 5
}
