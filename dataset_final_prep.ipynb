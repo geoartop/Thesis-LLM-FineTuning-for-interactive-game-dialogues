{
 "cells": [
  {
   "cell_type": "code",
   "outputs": [],
   "source": [
    "import pandas as pd"
   ],
   "metadata": {
    "collapsed": false,
    "ExecuteTime": {
     "end_time": "2024-04-25T08:29:05.900226600Z",
     "start_time": "2024-04-25T08:29:05.256062200Z"
    }
   },
   "id": "7d4cb6598bcc9810",
   "execution_count": 1
  },
  {
   "cell_type": "code",
   "execution_count": 2,
   "id": "initial_id",
   "metadata": {
    "collapsed": true,
    "ExecuteTime": {
     "end_time": "2024-04-25T08:29:06.138002800Z",
     "start_time": "2024-04-25T08:29:05.897225500Z"
    }
   },
   "outputs": [],
   "source": [
    "#load the xls file without containing any links\n",
    "df = pd.read_excel('testing_excel.xlsx', sheet_name='Sheet2')"
   ]
  },
  {
   "cell_type": "code",
   "outputs": [],
   "source": [
    "df = df.replace(u'\\xa0', u' ', regex=True)"
   ],
   "metadata": {
    "collapsed": false,
    "ExecuteTime": {
     "end_time": "2024-04-25T08:29:06.150006Z",
     "start_time": "2024-04-25T08:29:06.137003400Z"
    }
   },
   "id": "2df8c56a3a9c9ea6",
   "execution_count": 3
  },
  {
   "cell_type": "code",
   "outputs": [
    {
     "data": {
      "text/plain": "                                             Greetings  \\\n0                                                 Hmm?   \n1                                      Need something?   \n2                                                 Yes?   \n3         Ours is to smile at your passing, friend.(F)   \n4    It fills us with rage. What harm does it bring...   \n..                                                 ...   \n120                     You're nothing but trouble.(H)   \n121                             What can I do for you?   \n122                        Oh, did you need something?   \n123                It's a fine day with you around.(F)   \n124   You. Every time I look at you my blood boils.(H)   \n\n                              Voicetype          Goodbyes  \n0                     All types of NPCs  Until next time.  \n1                     All types of NPCs          Hmm hmm.  \n2                     All types of NPCs  All right, then.  \n3                          MaleArgonian               NaN  \n4                          MaleArgonian               NaN  \n..                                  ...               ...  \n120                      MaleYoungEager               NaN  \n121  MaleYoungEager or FemaleYoungEager               NaN  \n122  MaleYoungEager or FemaleYoungEager               NaN  \n123                    FemaleYoungEager               NaN  \n124                                 NaN               NaN  \n\n[125 rows x 3 columns]",
      "text/html": "<div>\n<style scoped>\n    .dataframe tbody tr th:only-of-type {\n        vertical-align: middle;\n    }\n\n    .dataframe tbody tr th {\n        vertical-align: top;\n    }\n\n    .dataframe thead th {\n        text-align: right;\n    }\n</style>\n<table border=\"1\" class=\"dataframe\">\n  <thead>\n    <tr style=\"text-align: right;\">\n      <th></th>\n      <th>Greetings</th>\n      <th>Voicetype</th>\n      <th>Goodbyes</th>\n    </tr>\n  </thead>\n  <tbody>\n    <tr>\n      <th>0</th>\n      <td>Hmm?</td>\n      <td>All types of NPCs</td>\n      <td>Until next time.</td>\n    </tr>\n    <tr>\n      <th>1</th>\n      <td>Need something?</td>\n      <td>All types of NPCs</td>\n      <td>Hmm hmm.</td>\n    </tr>\n    <tr>\n      <th>2</th>\n      <td>Yes?</td>\n      <td>All types of NPCs</td>\n      <td>All right, then.</td>\n    </tr>\n    <tr>\n      <th>3</th>\n      <td>Ours is to smile at your passing, friend.(F)</td>\n      <td>MaleArgonian</td>\n      <td>NaN</td>\n    </tr>\n    <tr>\n      <th>4</th>\n      <td>It fills us with rage. What harm does it bring...</td>\n      <td>MaleArgonian</td>\n      <td>NaN</td>\n    </tr>\n    <tr>\n      <th>...</th>\n      <td>...</td>\n      <td>...</td>\n      <td>...</td>\n    </tr>\n    <tr>\n      <th>120</th>\n      <td>You're nothing but trouble.(H)</td>\n      <td>MaleYoungEager</td>\n      <td>NaN</td>\n    </tr>\n    <tr>\n      <th>121</th>\n      <td>What can I do for you?</td>\n      <td>MaleYoungEager or FemaleYoungEager</td>\n      <td>NaN</td>\n    </tr>\n    <tr>\n      <th>122</th>\n      <td>Oh, did you need something?</td>\n      <td>MaleYoungEager or FemaleYoungEager</td>\n      <td>NaN</td>\n    </tr>\n    <tr>\n      <th>123</th>\n      <td>It's a fine day with you around.(F)</td>\n      <td>FemaleYoungEager</td>\n      <td>NaN</td>\n    </tr>\n    <tr>\n      <th>124</th>\n      <td>You. Every time I look at you my blood boils.(H)</td>\n      <td>NaN</td>\n      <td>NaN</td>\n    </tr>\n  </tbody>\n</table>\n<p>125 rows × 3 columns</p>\n</div>"
     },
     "execution_count": 4,
     "metadata": {},
     "output_type": "execute_result"
    }
   ],
   "source": [
    "#remove the \" character from the dataframe\n",
    "df = df.replace('\"', '', regex=True)\n",
    "df"
   ],
   "metadata": {
    "collapsed": false,
    "ExecuteTime": {
     "end_time": "2024-04-25T08:29:06.189622600Z",
     "start_time": "2024-04-25T08:29:06.142004800Z"
    }
   },
   "id": "53845331e3cfb668",
   "execution_count": 4
  },
  {
   "cell_type": "code",
   "outputs": [],
   "source": [
    "#split the dataframe in two dataframes, one with the columns Greetings and Voicetype and the other with the columns Goodbye and Voicetype\n",
    "Greetings = df[['Greetings', 'Voicetype']]\n",
    "\n",
    "#Drop the rows where Greetings is NaN\n",
    "Greetings = Greetings.dropna(subset=['Greetings'])\n",
    "\n",
    "Goodbyes = df[['Goodbyes', 'Voicetype']]\n",
    "\n",
    "#drop the rows where goodbyes is NaN\n",
    "Goodbyes = Goodbyes.dropna(subset=['Goodbyes'])"
   ],
   "metadata": {
    "collapsed": false,
    "ExecuteTime": {
     "end_time": "2024-04-25T08:29:06.203934400Z",
     "start_time": "2024-04-25T08:29:06.169711600Z"
    }
   },
   "id": "99bd3a69981e35ca",
   "execution_count": 5
  },
  {
   "cell_type": "code",
   "outputs": [
    {
     "data": {
      "text/plain": "                                             Greetings  \\\n0                                                 Hmm?   \n1                                      Need something?   \n2                                                 Yes?   \n3         Ours is to smile at your passing, friend.(F)   \n4    It fills us with rage. What harm does it bring...   \n..                                                 ...   \n120                     You're nothing but trouble.(H)   \n121                             What can I do for you?   \n122                        Oh, did you need something?   \n123                It's a fine day with you around.(F)   \n124   You. Every time I look at you my blood boils.(H)   \n\n                              Voicetype  \n0                     All types of NPCs  \n1                     All types of NPCs  \n2                     All types of NPCs  \n3                          MaleArgonian  \n4                          MaleArgonian  \n..                                  ...  \n120                      MaleYoungEager  \n121  MaleYoungEager or FemaleYoungEager  \n122  MaleYoungEager or FemaleYoungEager  \n123                    FemaleYoungEager  \n124                                 NaN  \n\n[118 rows x 2 columns]",
      "text/html": "<div>\n<style scoped>\n    .dataframe tbody tr th:only-of-type {\n        vertical-align: middle;\n    }\n\n    .dataframe tbody tr th {\n        vertical-align: top;\n    }\n\n    .dataframe thead th {\n        text-align: right;\n    }\n</style>\n<table border=\"1\" class=\"dataframe\">\n  <thead>\n    <tr style=\"text-align: right;\">\n      <th></th>\n      <th>Greetings</th>\n      <th>Voicetype</th>\n    </tr>\n  </thead>\n  <tbody>\n    <tr>\n      <th>0</th>\n      <td>Hmm?</td>\n      <td>All types of NPCs</td>\n    </tr>\n    <tr>\n      <th>1</th>\n      <td>Need something?</td>\n      <td>All types of NPCs</td>\n    </tr>\n    <tr>\n      <th>2</th>\n      <td>Yes?</td>\n      <td>All types of NPCs</td>\n    </tr>\n    <tr>\n      <th>3</th>\n      <td>Ours is to smile at your passing, friend.(F)</td>\n      <td>MaleArgonian</td>\n    </tr>\n    <tr>\n      <th>4</th>\n      <td>It fills us with rage. What harm does it bring...</td>\n      <td>MaleArgonian</td>\n    </tr>\n    <tr>\n      <th>...</th>\n      <td>...</td>\n      <td>...</td>\n    </tr>\n    <tr>\n      <th>120</th>\n      <td>You're nothing but trouble.(H)</td>\n      <td>MaleYoungEager</td>\n    </tr>\n    <tr>\n      <th>121</th>\n      <td>What can I do for you?</td>\n      <td>MaleYoungEager or FemaleYoungEager</td>\n    </tr>\n    <tr>\n      <th>122</th>\n      <td>Oh, did you need something?</td>\n      <td>MaleYoungEager or FemaleYoungEager</td>\n    </tr>\n    <tr>\n      <th>123</th>\n      <td>It's a fine day with you around.(F)</td>\n      <td>FemaleYoungEager</td>\n    </tr>\n    <tr>\n      <th>124</th>\n      <td>You. Every time I look at you my blood boils.(H)</td>\n      <td>NaN</td>\n    </tr>\n  </tbody>\n</table>\n<p>118 rows × 2 columns</p>\n</div>"
     },
     "execution_count": 6,
     "metadata": {},
     "output_type": "execute_result"
    }
   ],
   "source": [
    "Greetings"
   ],
   "metadata": {
    "collapsed": false,
    "ExecuteTime": {
     "end_time": "2024-04-25T08:29:06.204934Z",
     "start_time": "2024-04-25T08:29:06.177462600Z"
    }
   },
   "id": "e073e7aeb6e2b64f",
   "execution_count": 6
  },
  {
   "cell_type": "code",
   "outputs": [
    {
     "data": {
      "text/plain": "                        Goodbyes                               Voicetype\n0               Until next time.                       All types of NPCs\n1                       Hmm hmm.                       All types of NPCs\n2               All right, then.                       All types of NPCs\n19     I'll take my leave, then.      MaleCommander or MaleNordCommander\n33    Now if you'll excuse me...                       MaleCondescending\n46                 Safe travels.                             MaleDarkElf\n53                  Yeah yeah...                               MaleDrunk\n65                     Farewell.  MaleEvenToned or MaleEvenTonedAccented\n72                Swift hunting.                             MaleKhajiit\n75   May you walk on warm sands.            MaleKhajiit or FemaleKhajiit\n78                          Aye.                                MaleNord\n92               Take care, now.                           MaleOldKindly\n98                   Fight well.                                 MaleOrc\n113        It's been a pleasure.                            FemaleSultry\n116              See you around.                            FemaleSultry\n119        I'd better get going.                          MaleYoungEager",
      "text/html": "<div>\n<style scoped>\n    .dataframe tbody tr th:only-of-type {\n        vertical-align: middle;\n    }\n\n    .dataframe tbody tr th {\n        vertical-align: top;\n    }\n\n    .dataframe thead th {\n        text-align: right;\n    }\n</style>\n<table border=\"1\" class=\"dataframe\">\n  <thead>\n    <tr style=\"text-align: right;\">\n      <th></th>\n      <th>Goodbyes</th>\n      <th>Voicetype</th>\n    </tr>\n  </thead>\n  <tbody>\n    <tr>\n      <th>0</th>\n      <td>Until next time.</td>\n      <td>All types of NPCs</td>\n    </tr>\n    <tr>\n      <th>1</th>\n      <td>Hmm hmm.</td>\n      <td>All types of NPCs</td>\n    </tr>\n    <tr>\n      <th>2</th>\n      <td>All right, then.</td>\n      <td>All types of NPCs</td>\n    </tr>\n    <tr>\n      <th>19</th>\n      <td>I'll take my leave, then.</td>\n      <td>MaleCommander or MaleNordCommander</td>\n    </tr>\n    <tr>\n      <th>33</th>\n      <td>Now if you'll excuse me...</td>\n      <td>MaleCondescending</td>\n    </tr>\n    <tr>\n      <th>46</th>\n      <td>Safe travels.</td>\n      <td>MaleDarkElf</td>\n    </tr>\n    <tr>\n      <th>53</th>\n      <td>Yeah yeah...</td>\n      <td>MaleDrunk</td>\n    </tr>\n    <tr>\n      <th>65</th>\n      <td>Farewell.</td>\n      <td>MaleEvenToned or MaleEvenTonedAccented</td>\n    </tr>\n    <tr>\n      <th>72</th>\n      <td>Swift hunting.</td>\n      <td>MaleKhajiit</td>\n    </tr>\n    <tr>\n      <th>75</th>\n      <td>May you walk on warm sands.</td>\n      <td>MaleKhajiit or FemaleKhajiit</td>\n    </tr>\n    <tr>\n      <th>78</th>\n      <td>Aye.</td>\n      <td>MaleNord</td>\n    </tr>\n    <tr>\n      <th>92</th>\n      <td>Take care, now.</td>\n      <td>MaleOldKindly</td>\n    </tr>\n    <tr>\n      <th>98</th>\n      <td>Fight well.</td>\n      <td>MaleOrc</td>\n    </tr>\n    <tr>\n      <th>113</th>\n      <td>It's been a pleasure.</td>\n      <td>FemaleSultry</td>\n    </tr>\n    <tr>\n      <th>116</th>\n      <td>See you around.</td>\n      <td>FemaleSultry</td>\n    </tr>\n    <tr>\n      <th>119</th>\n      <td>I'd better get going.</td>\n      <td>MaleYoungEager</td>\n    </tr>\n  </tbody>\n</table>\n</div>"
     },
     "execution_count": 7,
     "metadata": {},
     "output_type": "execute_result"
    }
   ],
   "source": [
    "Goodbyes"
   ],
   "metadata": {
    "collapsed": false,
    "ExecuteTime": {
     "end_time": "2024-04-25T08:29:06.238879700Z",
     "start_time": "2024-04-25T08:29:06.188623200Z"
    }
   },
   "id": "6e3bedaa8180fc59",
   "execution_count": 7
  },
  {
   "cell_type": "code",
   "outputs": [],
   "source": [
    "#create an new column in the greetings dataframe called Tone \n",
    "Greetings['Tone'] = 'Neutral'\n",
    "\n",
    "# check the rows of the datafram to see if there is a (H) or a (F) in the rows and change the tone to Happy or Formal\n",
    "\n",
    "for index, row in Greetings.iterrows():\n",
    "    if '(H)' in row['Greetings']:\n",
    "        Greetings.at[index, 'Tone'] = 'Hostile'\n",
    "        #remove the (H) from the row\n",
    "        Greetings.at[index, 'Greetings'] = Greetings.at[index, 'Greetings'].replace('(H)', '')\n",
    "    elif '(F)' in row['Greetings']:\n",
    "        Greetings.at[index, 'Tone'] = 'Friendly'\n",
    "        #remove the (F) from the row\n",
    "        Greetings.at[index, 'Greetings'] = Greetings.at[index, 'Greetings'].replace('(F)', '')\n",
    "    "
   ],
   "metadata": {
    "collapsed": false,
    "ExecuteTime": {
     "end_time": "2024-04-25T08:29:06.264886100Z",
     "start_time": "2024-04-25T08:29:06.198933200Z"
    }
   },
   "id": "55986540dd9e0b17",
   "execution_count": 8
  },
  {
   "cell_type": "code",
   "outputs": [],
   "source": [
    "    \n",
    "#remove the (H) and (F) from the rows of the Greetings column\n",
    "Greetings['Greetings'] = Greetings['Greetings'].str.replace(r\"\\(H\\)\", \"\")\n"
   ],
   "metadata": {
    "collapsed": false,
    "ExecuteTime": {
     "end_time": "2024-04-25T08:29:06.308895300Z",
     "start_time": "2024-04-25T08:29:06.216139100Z"
    }
   },
   "id": "c803ca7a8c18c816",
   "execution_count": 9
  },
  {
   "cell_type": "code",
   "outputs": [
    {
     "data": {
      "text/plain": "                                             Greetings  \\\n0                                                 Hmm?   \n1                                      Need something?   \n2                                                 Yes?   \n3            Ours is to smile at your passing, friend.   \n4    It fills us with rage. What harm does it bring...   \n..                                                 ...   \n120                        You're nothing but trouble.   \n121                             What can I do for you?   \n122                        Oh, did you need something?   \n123                   It's a fine day with you around.   \n124      You. Every time I look at you my blood boils.   \n\n                              Voicetype      Tone  \n0                     All types of NPCs   Neutral  \n1                     All types of NPCs   Neutral  \n2                     All types of NPCs   Neutral  \n3                          MaleArgonian  Friendly  \n4                          MaleArgonian   Hostile  \n..                                  ...       ...  \n120                      MaleYoungEager   Hostile  \n121  MaleYoungEager or FemaleYoungEager   Neutral  \n122  MaleYoungEager or FemaleYoungEager   Neutral  \n123                    FemaleYoungEager  Friendly  \n124                                 NaN   Hostile  \n\n[118 rows x 3 columns]",
      "text/html": "<div>\n<style scoped>\n    .dataframe tbody tr th:only-of-type {\n        vertical-align: middle;\n    }\n\n    .dataframe tbody tr th {\n        vertical-align: top;\n    }\n\n    .dataframe thead th {\n        text-align: right;\n    }\n</style>\n<table border=\"1\" class=\"dataframe\">\n  <thead>\n    <tr style=\"text-align: right;\">\n      <th></th>\n      <th>Greetings</th>\n      <th>Voicetype</th>\n      <th>Tone</th>\n    </tr>\n  </thead>\n  <tbody>\n    <tr>\n      <th>0</th>\n      <td>Hmm?</td>\n      <td>All types of NPCs</td>\n      <td>Neutral</td>\n    </tr>\n    <tr>\n      <th>1</th>\n      <td>Need something?</td>\n      <td>All types of NPCs</td>\n      <td>Neutral</td>\n    </tr>\n    <tr>\n      <th>2</th>\n      <td>Yes?</td>\n      <td>All types of NPCs</td>\n      <td>Neutral</td>\n    </tr>\n    <tr>\n      <th>3</th>\n      <td>Ours is to smile at your passing, friend.</td>\n      <td>MaleArgonian</td>\n      <td>Friendly</td>\n    </tr>\n    <tr>\n      <th>4</th>\n      <td>It fills us with rage. What harm does it bring...</td>\n      <td>MaleArgonian</td>\n      <td>Hostile</td>\n    </tr>\n    <tr>\n      <th>...</th>\n      <td>...</td>\n      <td>...</td>\n      <td>...</td>\n    </tr>\n    <tr>\n      <th>120</th>\n      <td>You're nothing but trouble.</td>\n      <td>MaleYoungEager</td>\n      <td>Hostile</td>\n    </tr>\n    <tr>\n      <th>121</th>\n      <td>What can I do for you?</td>\n      <td>MaleYoungEager or FemaleYoungEager</td>\n      <td>Neutral</td>\n    </tr>\n    <tr>\n      <th>122</th>\n      <td>Oh, did you need something?</td>\n      <td>MaleYoungEager or FemaleYoungEager</td>\n      <td>Neutral</td>\n    </tr>\n    <tr>\n      <th>123</th>\n      <td>It's a fine day with you around.</td>\n      <td>FemaleYoungEager</td>\n      <td>Friendly</td>\n    </tr>\n    <tr>\n      <th>124</th>\n      <td>You. Every time I look at you my blood boils.</td>\n      <td>NaN</td>\n      <td>Hostile</td>\n    </tr>\n  </tbody>\n</table>\n<p>118 rows × 3 columns</p>\n</div>"
     },
     "execution_count": 10,
     "metadata": {},
     "output_type": "execute_result"
    }
   ],
   "source": [
    "Greetings"
   ],
   "metadata": {
    "collapsed": false,
    "ExecuteTime": {
     "end_time": "2024-04-25T08:29:06.310896600Z",
     "start_time": "2024-04-25T08:29:06.225660300Z"
    }
   },
   "id": "6d877786a969b45e",
   "execution_count": 10
  },
  {
   "cell_type": "code",
   "outputs": [],
   "source": [
    "#import the second sheet of the excel file to a dataframe\n",
    "vampire = pd.read_excel('testing_excel.xlsx', sheet_name='Sheet1')"
   ],
   "metadata": {
    "collapsed": false,
    "ExecuteTime": {
     "end_time": "2024-04-25T08:31:03.145094100Z",
     "start_time": "2024-04-25T08:31:03.128586600Z"
    }
   },
   "id": "e10ce22525e63faa",
   "execution_count": 22
  },
  {
   "cell_type": "code",
   "outputs": [],
   "source": [
    "#duplicate the rows\n",
    "vampire = vampire.copy()\n",
    "\n",
    "vampire= pd.concat([vampire]*2, ignore_index=True)\n",
    "\n",
    "# Replace the first 8 values of the 'Voicetype' column with the first value\n",
    "vampire.loc[0:7, 'Dialogue'] = vampire['Dialogue'][0]\n",
    "\n",
    "# Replace the next 8 values of the 'Voicetype' column starting from the 8th index with the value at the 8th index\n",
    "vampire.loc[8:15, 'Dialogue'] = vampire['Dialogue'][9]"
   ],
   "metadata": {
    "collapsed": false,
    "ExecuteTime": {
     "end_time": "2024-04-25T08:31:03.876437900Z",
     "start_time": "2024-04-25T08:31:03.867259100Z"
    }
   },
   "id": "49fca74464dcc0b6",
   "execution_count": 23
  },
  {
   "cell_type": "code",
   "outputs": [
    {
     "data": {
      "text/plain": "                Voicetype                                           Dialogue\n0            MaleCommoner  \"Don't like those eyes you got. There's a bad ...\n1    MaleCommonerAccented  \"Don't like those eyes you got. There's a bad ...\n2          FemaleCommoner  \"Don't like those eyes you got. There's a bad ...\n3           MaleEvenToned  \"Don't like those eyes you got. There's a bad ...\n4   MaleEvenTonedAccented  \"Don't like those eyes you got. There's a bad ...\n5         FemaleEvenToned  \"Don't like those eyes you got. There's a bad ...\n6                MaleNord  \"Don't like those eyes you got. There's a bad ...\n7              FemaleNord  \"Don't like those eyes you got. There's a bad ...\n8            MaleCommoner  \"Your skin's as pale as the snow. You scared o...\n9    MaleCommonerAccented  \"Your skin's as pale as the snow. You scared o...\n10         FemaleCommoner  \"Your skin's as pale as the snow. You scared o...\n11          MaleEvenToned  \"Your skin's as pale as the snow. You scared o...\n12  MaleEvenTonedAccented  \"Your skin's as pale as the snow. You scared o...\n13        FemaleEvenToned  \"Your skin's as pale as the snow. You scared o...\n14               MaleNord  \"Your skin's as pale as the snow. You scared o...\n15             FemaleNord  \"Your skin's as pale as the snow. You scared o...",
      "text/html": "<div>\n<style scoped>\n    .dataframe tbody tr th:only-of-type {\n        vertical-align: middle;\n    }\n\n    .dataframe tbody tr th {\n        vertical-align: top;\n    }\n\n    .dataframe thead th {\n        text-align: right;\n    }\n</style>\n<table border=\"1\" class=\"dataframe\">\n  <thead>\n    <tr style=\"text-align: right;\">\n      <th></th>\n      <th>Voicetype</th>\n      <th>Dialogue</th>\n    </tr>\n  </thead>\n  <tbody>\n    <tr>\n      <th>0</th>\n      <td>MaleCommoner</td>\n      <td>\"Don't like those eyes you got. There's a bad ...</td>\n    </tr>\n    <tr>\n      <th>1</th>\n      <td>MaleCommonerAccented</td>\n      <td>\"Don't like those eyes you got. There's a bad ...</td>\n    </tr>\n    <tr>\n      <th>2</th>\n      <td>FemaleCommoner</td>\n      <td>\"Don't like those eyes you got. There's a bad ...</td>\n    </tr>\n    <tr>\n      <th>3</th>\n      <td>MaleEvenToned</td>\n      <td>\"Don't like those eyes you got. There's a bad ...</td>\n    </tr>\n    <tr>\n      <th>4</th>\n      <td>MaleEvenTonedAccented</td>\n      <td>\"Don't like those eyes you got. There's a bad ...</td>\n    </tr>\n    <tr>\n      <th>5</th>\n      <td>FemaleEvenToned</td>\n      <td>\"Don't like those eyes you got. There's a bad ...</td>\n    </tr>\n    <tr>\n      <th>6</th>\n      <td>MaleNord</td>\n      <td>\"Don't like those eyes you got. There's a bad ...</td>\n    </tr>\n    <tr>\n      <th>7</th>\n      <td>FemaleNord</td>\n      <td>\"Don't like those eyes you got. There's a bad ...</td>\n    </tr>\n    <tr>\n      <th>8</th>\n      <td>MaleCommoner</td>\n      <td>\"Your skin's as pale as the snow. You scared o...</td>\n    </tr>\n    <tr>\n      <th>9</th>\n      <td>MaleCommonerAccented</td>\n      <td>\"Your skin's as pale as the snow. You scared o...</td>\n    </tr>\n    <tr>\n      <th>10</th>\n      <td>FemaleCommoner</td>\n      <td>\"Your skin's as pale as the snow. You scared o...</td>\n    </tr>\n    <tr>\n      <th>11</th>\n      <td>MaleEvenToned</td>\n      <td>\"Your skin's as pale as the snow. You scared o...</td>\n    </tr>\n    <tr>\n      <th>12</th>\n      <td>MaleEvenTonedAccented</td>\n      <td>\"Your skin's as pale as the snow. You scared o...</td>\n    </tr>\n    <tr>\n      <th>13</th>\n      <td>FemaleEvenToned</td>\n      <td>\"Your skin's as pale as the snow. You scared o...</td>\n    </tr>\n    <tr>\n      <th>14</th>\n      <td>MaleNord</td>\n      <td>\"Your skin's as pale as the snow. You scared o...</td>\n    </tr>\n    <tr>\n      <th>15</th>\n      <td>FemaleNord</td>\n      <td>\"Your skin's as pale as the snow. You scared o...</td>\n    </tr>\n  </tbody>\n</table>\n</div>"
     },
     "execution_count": 24,
     "metadata": {},
     "output_type": "execute_result"
    }
   ],
   "source": [
    "vampire"
   ],
   "metadata": {
    "collapsed": false,
    "ExecuteTime": {
     "end_time": "2024-04-25T08:31:04.393635100Z",
     "start_time": "2024-04-25T08:31:04.384058700Z"
    }
   },
   "id": "873732553f7a59e",
   "execution_count": 24
  },
  {
   "cell_type": "code",
   "outputs": [],
   "source": [
    "werewolf = pd.read_excel('testing_excel.xlsx', sheet_name='Sheet3')"
   ],
   "metadata": {
    "collapsed": false,
    "ExecuteTime": {
     "end_time": "2024-04-25T08:39:29.777082200Z",
     "start_time": "2024-04-25T08:39:29.765197100Z"
    }
   },
   "id": "810fae084ccb8708",
   "execution_count": 34
  },
  {
   "cell_type": "code",
   "outputs": [
    {
     "data": {
      "text/plain": "                Voicetype                              Dialogue\n0               Any guard                           \"Werewolf!\"\n1               Any guard  \"It's a werewolf! To arms! To arms!\"\n2               Any guard       \"By the gods! It..it can't be!\"\n3            MaleCommoner               \"Come on! You monster!\"\n4    MaleCommonerAccented               \"Come on! You monster!\"\n5          FemaleCommoner               \"Come on! You monster!\"\n6           MaleEvenToned               \"Come on! You monster!\"\n7   MaleEvenTonedAccented               \"Come on! You monster!\"\n8         FemaleEvenToned               \"Come on! You monster!\"\n9                MaleNord               \"Come on! You monster!\"\n10             FemaleNord               \"Come on! You monster!\"\n11           MaleCommoner              \"Die, you filthy beast!\"\n12   MaleCommonerAccented              \"Die, you filthy beast!\"\n13         FemaleCommoner              \"Die, you filthy beast!\"\n14          MaleEvenToned              \"Die, you filthy beast!\"\n15  MaleEvenTonedAccented              \"Die, you filthy beast!\"\n16        FemaleEvenToned              \"Die, you filthy beast!\"\n17               MaleNord              \"Die, you filthy beast!\"\n18             FemaleNord              \"Die, you filthy beast!\"\n19           MaleCommoner         \"Werewolf! Kill the monster!\"\n20   MaleCommonerAccented         \"Werewolf! Kill the monster!\"\n21         FemaleCommoner         \"Werewolf! Kill the monster!\"\n22          MaleEvenToned         \"Werewolf! Kill the monster!\"\n23  MaleEvenTonedAccented         \"Werewolf! Kill the monster!\"\n24        FemaleEvenToned         \"Werewolf! Kill the monster!\"\n25               MaleNord         \"Werewolf! Kill the monster!\"\n26             FemaleNord         \"Werewolf! Kill the monster!\"",
      "text/html": "<div>\n<style scoped>\n    .dataframe tbody tr th:only-of-type {\n        vertical-align: middle;\n    }\n\n    .dataframe tbody tr th {\n        vertical-align: top;\n    }\n\n    .dataframe thead th {\n        text-align: right;\n    }\n</style>\n<table border=\"1\" class=\"dataframe\">\n  <thead>\n    <tr style=\"text-align: right;\">\n      <th></th>\n      <th>Voicetype</th>\n      <th>Dialogue</th>\n    </tr>\n  </thead>\n  <tbody>\n    <tr>\n      <th>0</th>\n      <td>Any guard</td>\n      <td>\"Werewolf!\"</td>\n    </tr>\n    <tr>\n      <th>1</th>\n      <td>Any guard</td>\n      <td>\"It's a werewolf! To arms! To arms!\"</td>\n    </tr>\n    <tr>\n      <th>2</th>\n      <td>Any guard</td>\n      <td>\"By the gods! It..it can't be!\"</td>\n    </tr>\n    <tr>\n      <th>3</th>\n      <td>MaleCommoner</td>\n      <td>\"Come on! You monster!\"</td>\n    </tr>\n    <tr>\n      <th>4</th>\n      <td>MaleCommonerAccented</td>\n      <td>\"Come on! You monster!\"</td>\n    </tr>\n    <tr>\n      <th>5</th>\n      <td>FemaleCommoner</td>\n      <td>\"Come on! You monster!\"</td>\n    </tr>\n    <tr>\n      <th>6</th>\n      <td>MaleEvenToned</td>\n      <td>\"Come on! You monster!\"</td>\n    </tr>\n    <tr>\n      <th>7</th>\n      <td>MaleEvenTonedAccented</td>\n      <td>\"Come on! You monster!\"</td>\n    </tr>\n    <tr>\n      <th>8</th>\n      <td>FemaleEvenToned</td>\n      <td>\"Come on! You monster!\"</td>\n    </tr>\n    <tr>\n      <th>9</th>\n      <td>MaleNord</td>\n      <td>\"Come on! You monster!\"</td>\n    </tr>\n    <tr>\n      <th>10</th>\n      <td>FemaleNord</td>\n      <td>\"Come on! You monster!\"</td>\n    </tr>\n    <tr>\n      <th>11</th>\n      <td>MaleCommoner</td>\n      <td>\"Die, you filthy beast!\"</td>\n    </tr>\n    <tr>\n      <th>12</th>\n      <td>MaleCommonerAccented</td>\n      <td>\"Die, you filthy beast!\"</td>\n    </tr>\n    <tr>\n      <th>13</th>\n      <td>FemaleCommoner</td>\n      <td>\"Die, you filthy beast!\"</td>\n    </tr>\n    <tr>\n      <th>14</th>\n      <td>MaleEvenToned</td>\n      <td>\"Die, you filthy beast!\"</td>\n    </tr>\n    <tr>\n      <th>15</th>\n      <td>MaleEvenTonedAccented</td>\n      <td>\"Die, you filthy beast!\"</td>\n    </tr>\n    <tr>\n      <th>16</th>\n      <td>FemaleEvenToned</td>\n      <td>\"Die, you filthy beast!\"</td>\n    </tr>\n    <tr>\n      <th>17</th>\n      <td>MaleNord</td>\n      <td>\"Die, you filthy beast!\"</td>\n    </tr>\n    <tr>\n      <th>18</th>\n      <td>FemaleNord</td>\n      <td>\"Die, you filthy beast!\"</td>\n    </tr>\n    <tr>\n      <th>19</th>\n      <td>MaleCommoner</td>\n      <td>\"Werewolf! Kill the monster!\"</td>\n    </tr>\n    <tr>\n      <th>20</th>\n      <td>MaleCommonerAccented</td>\n      <td>\"Werewolf! Kill the monster!\"</td>\n    </tr>\n    <tr>\n      <th>21</th>\n      <td>FemaleCommoner</td>\n      <td>\"Werewolf! Kill the monster!\"</td>\n    </tr>\n    <tr>\n      <th>22</th>\n      <td>MaleEvenToned</td>\n      <td>\"Werewolf! Kill the monster!\"</td>\n    </tr>\n    <tr>\n      <th>23</th>\n      <td>MaleEvenTonedAccented</td>\n      <td>\"Werewolf! Kill the monster!\"</td>\n    </tr>\n    <tr>\n      <th>24</th>\n      <td>FemaleEvenToned</td>\n      <td>\"Werewolf! Kill the monster!\"</td>\n    </tr>\n    <tr>\n      <th>25</th>\n      <td>MaleNord</td>\n      <td>\"Werewolf! Kill the monster!\"</td>\n    </tr>\n    <tr>\n      <th>26</th>\n      <td>FemaleNord</td>\n      <td>\"Werewolf! Kill the monster!\"</td>\n    </tr>\n  </tbody>\n</table>\n</div>"
     },
     "execution_count": 35,
     "metadata": {},
     "output_type": "execute_result"
    }
   ],
   "source": [
    "werewolf"
   ],
   "metadata": {
    "collapsed": false,
    "ExecuteTime": {
     "end_time": "2024-04-25T08:39:30.176972800Z",
     "start_time": "2024-04-25T08:39:30.168970200Z"
    }
   },
   "id": "4de40c6810b3ed84",
   "execution_count": 35
  },
  {
   "cell_type": "code",
   "outputs": [],
   "source": [
    "#"
   ],
   "metadata": {
    "collapsed": false
   },
   "id": "62632bcee8a92d39"
  }
 ],
 "metadata": {
  "kernelspec": {
   "display_name": "Python 3",
   "language": "python",
   "name": "python3"
  },
  "language_info": {
   "codemirror_mode": {
    "name": "ipython",
    "version": 2
   },
   "file_extension": ".py",
   "mimetype": "text/x-python",
   "name": "python",
   "nbconvert_exporter": "python",
   "pygments_lexer": "ipython2",
   "version": "2.7.6"
  }
 },
 "nbformat": 4,
 "nbformat_minor": 5
}
