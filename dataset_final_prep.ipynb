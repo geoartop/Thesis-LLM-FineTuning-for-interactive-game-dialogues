{
 "cells": [
  {
   "cell_type": "code",
   "outputs": [],
   "source": [
    "import pandas as pd"
   ],
   "metadata": {
    "collapsed": false
   },
   "id": "7d4cb6598bcc9810",
   "execution_count": null
  },
  {
   "cell_type": "code",
   "execution_count": null,
   "id": "initial_id",
   "metadata": {
    "collapsed": true
   },
   "outputs": [],
   "source": [
    "#load the xls file without containing any links\n",
    "df = pd.read_excel('testing_excel.xlsx', sheet_name='Greeting_Goodbyes')"
   ]
  },
  {
   "cell_type": "code",
   "outputs": [],
   "source": [
    "df = df.replace(u'\\xa0', u' ', regex=True)"
   ],
   "metadata": {
    "collapsed": false
   },
   "id": "2df8c56a3a9c9ea6",
   "execution_count": null
  },
  {
   "cell_type": "code",
   "outputs": [],
   "source": [
    "#remove the \" character from the dataframe\n",
    "df = df.replace('\"', '', regex=True)\n",
    "df"
   ],
   "metadata": {
    "collapsed": false
   },
   "id": "53845331e3cfb668",
   "execution_count": null
  },
  {
   "cell_type": "code",
   "outputs": [],
   "source": [
    "#split the dataframe in two dataframes, one with the columns Greetings and Voicetype and the other with the columns Goodbye and Voicetype\n",
    "Greetings = df[['Greetings', 'Voicetype']]\n",
    "\n",
    "#Drop the rows where Greetings is NaN\n",
    "Greetings = Greetings.dropna(subset=['Greetings'])\n",
    "\n",
    "Goodbyes = df[['Goodbyes', 'Voicetype']]\n",
    "\n",
    "#drop the rows where goodbyes is NaN\n",
    "Goodbyes = Goodbyes.dropna(subset=['Goodbyes'])"
   ],
   "metadata": {
    "collapsed": false
   },
   "id": "a7e382092fb28c17",
   "execution_count": null
  },
  {
   "cell_type": "code",
   "outputs": [],
   "source": [
    "Greetings"
   ],
   "metadata": {
    "collapsed": false
   },
   "id": "3c0c1edf06002181",
   "execution_count": null
  },
  {
   "cell_type": "code",
   "outputs": [],
   "source": [
    "Goodbyes"
   ],
   "metadata": {
    "collapsed": false
   },
   "id": "6e3bedaa8180fc59",
   "execution_count": null
  },
  {
   "cell_type": "code",
   "outputs": [],
   "source": [
    "#create an new column in the greetings dataframe called Tone \n",
    "Greetings['Tone'] = 'Neutral'\n",
    "\n",
    "# check the rows of the datafram to see if there is a (H) or a (F) in the rows and change the tone to Happy or Formal\n",
    "\n",
    "for index, row in Greetings.iterrows():\n",
    "    if '(H)' in row['Greetings']:\n",
    "        Greetings.at[index, 'Tone'] = 'Hostile'\n",
    "        #remove the (H) from the row\n",
    "        Greetings.at[index, 'Greetings'] = Greetings.at[index, 'Greetings'].replace('(H)', '')\n",
    "    elif '(F)' in row['Greetings']:\n",
    "        Greetings.at[index, 'Tone'] = 'Friendly'\n",
    "        #remove the (F) from the row\n",
    "        Greetings.at[index, 'Greetings'] = Greetings.at[index, 'Greetings'].replace('(F)', '')\n",
    "    "
   ],
   "metadata": {
    "collapsed": false
   },
   "id": "55986540dd9e0b17",
   "execution_count": null
  },
  {
   "cell_type": "code",
   "outputs": [],
   "source": [
    "#remove the (H) and (F) from the rows of the Greetings column\n",
    "Greetings['Greetings'] = Greetings['Greetings'].str.replace(r\"\\(H\\)\", \"\")"
   ],
   "metadata": {
    "collapsed": false
   },
   "id": "c803ca7a8c18c816",
   "execution_count": null
  },
  {
   "cell_type": "code",
   "outputs": [],
   "source": [
    "Greetings"
   ],
   "metadata": {
    "collapsed": false
   },
   "id": "6d877786a969b45e",
   "execution_count": null
  },
  {
   "cell_type": "code",
   "outputs": [],
   "source": [
    "#check if there is a null in the voicetype column \n",
    "Greetings['Voicetype'].isnull().values.any()"
   ],
   "metadata": {
    "collapsed": false
   },
   "id": "77b7be2b810ef82a",
   "execution_count": null
  },
  {
   "cell_type": "code",
   "outputs": [],
   "source": [
    "import json\n",
    "\n",
    "# create a dictionary with the structure above\n",
    "Greetings_data = [\n",
    "    {\n",
    "    \"Speaker\": Greetings['Voicetype'][index],\n",
    "    \"Dialogue\": Greetings['Greetings'][index],\n",
    "    \"Tone\": Greetings['Tone'][index],\n",
    "    \"Event\": \"Greeting\",\n",
    "    \"Condition\": None\n",
    "} for index, row in Greetings.iterrows()]\n",
    "\n",
    "\n",
    "data = Greetings_data   "
   ],
   "metadata": {
    "collapsed": false
   },
   "id": "c64c37a7308f0294",
   "execution_count": null
  },
  {
   "cell_type": "code",
   "outputs": [],
   "source": [
    "#do the same with the Goodbyes dataframe\n",
    "Goodbyes_data = [\n",
    "    {\n",
    "    \"Speaker\": Goodbyes['Voicetype'][index],\n",
    "    \"Dialogue\": Goodbyes['Goodbyes'][index],\n",
    "    \"Tone\": None,\n",
    "    \"Event\": \"Goodbye\",\n",
    "    \"Condition\": None\n",
    "} for index, row in Goodbyes.iterrows()]\n",
    "\n",
    "data = data + Goodbyes_data"
   ],
   "metadata": {
    "collapsed": false
   },
   "id": "264808442aff0f6b",
   "execution_count": null
  },
  {
   "cell_type": "code",
   "outputs": [],
   "source": [
    "#import the second sheet of the excel file to a dataframe\n",
    "vampire = pd.read_excel('testing_excel.xlsx', sheet_name='Vampire')\n",
    "vampire = vampire.replace(u'\\xa0', u' ', regex=True)"
   ],
   "metadata": {
    "collapsed": false
   },
   "id": "e10ce22525e63faa",
   "execution_count": null
  },
  {
   "cell_type": "code",
   "outputs": [],
   "source": [
    "#duplicate the rows\n",
    "vampire = vampire.copy()\n",
    "\n",
    "vampire= pd.concat([vampire]*2, ignore_index=True)\n",
    "\n",
    "# Replace the first 8 values of the 'Voicetype' column with the first value\n",
    "vampire.loc[0:7, 'Dialogue'] = vampire['Dialogue'][0]\n",
    "\n",
    "# Replace the next 8 values of the 'Voicetype' column starting from the 8th index with the value at the 8th index\n",
    "vampire.loc[8:15, 'Dialogue'] = vampire['Dialogue'][9]"
   ],
   "metadata": {
    "collapsed": false
   },
   "id": "49fca74464dcc0b6",
   "execution_count": null
  },
  {
   "cell_type": "code",
   "outputs": [],
   "source": [
    "#remove the \" character from the dataframe\n",
    "vampire = vampire.replace('\"', '', regex=True)"
   ],
   "metadata": {
    "collapsed": false
   },
   "id": "873732553f7a59e",
   "execution_count": null
  },
  {
   "cell_type": "code",
   "outputs": [],
   "source": [
    "vampire"
   ],
   "metadata": {
    "collapsed": false
   },
   "id": "bd20f162852058c0",
   "execution_count": null
  },
  {
   "cell_type": "code",
   "outputs": [],
   "source": [
    "# add the vampire dataframe to the json file\n",
    "Vampire_data = [\n",
    "    {\n",
    "    \"Speaker\": vampire['Voicetype'][index],\n",
    "    \"Dialogue\": vampire['Dialogue'][index],\n",
    "    \"Tone\": None,\n",
    "    \"Event\": \"Player is a vampire\",\n",
    "    \"Condition\": None\n",
    "} for index, row in vampire.iterrows()]\n",
    "\n",
    "data = data + Vampire_data"
   ],
   "metadata": {
    "collapsed": false
   },
   "id": "9bc445e791d9f12c",
   "execution_count": null
  },
  {
   "cell_type": "code",
   "outputs": [],
   "source": [
    "werewolf = pd.read_excel('testing_excel.xlsx', sheet_name='Werewolf')\n",
    "werewolf = werewolf.replace('\"', '', regex=True)\n",
    "werewolf = werewolf.replace(u'\\xa0', u' ', regex=True)"
   ],
   "metadata": {
    "collapsed": false
   },
   "id": "810fae084ccb8708",
   "execution_count": null
  },
  {
   "cell_type": "code",
   "outputs": [],
   "source": [
    "werewolf"
   ],
   "metadata": {
    "collapsed": false
   },
   "id": "4de40c6810b3ed84",
   "execution_count": null
  },
  {
   "cell_type": "code",
   "outputs": [],
   "source": [
    "#add the werewolf dataframe to the json file\n",
    "Werewolf_data = [\n",
    "    {\n",
    "    \"Speaker\": werewolf['Voicetype'][index],\n",
    "    \"Dialogue\": werewolf['Dialogue'][index],\n",
    "    \"Tone\": None,\n",
    "    \"Event\": \"Player is a werewolf\",\n",
    "    \"Condition\": \"Player has transformed into a werewolf\"\n",
    "} for index, row in werewolf.iterrows()]\n",
    "\n",
    "data = data + Werewolf_data"
   ],
   "metadata": {
    "collapsed": false
   },
   "id": "62632bcee8a92d39",
   "execution_count": null
  },
  {
   "cell_type": "code",
   "outputs": [],
   "source": [
    "#import the Generic_Events sheet\n",
    "generic_events = pd.read_excel('testing_excel.xlsx', sheet_name='Generic_Events')"
   ],
   "metadata": {
    "collapsed": false
   },
   "id": "db56bda7032482b4",
   "execution_count": null
  },
  {
   "cell_type": "code",
   "outputs": [],
   "source": [
    "generic_events = generic_events.replace('\"', '', regex=True)\n",
    "generic_events = generic_events.replace(u'\\xa0', u' ', regex=True)"
   ],
   "metadata": {
    "collapsed": false
   },
   "id": "4408e566648c2e34",
   "execution_count": null
  },
  {
   "cell_type": "code",
   "outputs": [],
   "source": [
    "generic_events"
   ],
   "metadata": {
    "collapsed": false
   },
   "id": "d123cb6829afe9d5",
   "execution_count": null
  },
  {
   "cell_type": "code",
   "outputs": [],
   "source": [
    "#add the generic_events dataframe to the json file\n",
    "\n",
    "Generic_Events_data = [\n",
    "    {\n",
    "    \"Speaker\": \"All types of NPCs\",\n",
    "    \"Dialogue\": generic_events['Dialogue'][index],\n",
    "    \"Tone\": None,\n",
    "    \"Event\": generic_events['Event'][index],    \n",
    "    \"Condition\": None\n",
    "} for index, row in generic_events.iterrows()]\n",
    "\n",
    "data = data + Generic_Events_data"
   ],
   "metadata": {
    "collapsed": false
   },
   "id": "6ca4a49bd9757cf3",
   "execution_count": null
  },
  {
   "cell_type": "code",
   "outputs": [],
   "source": [
    "# import the Flames_Girls sheet\n",
    "\n",
    "flames_gifts= pd.read_excel('testing_excel.xlsx', sheet_name='Flames_Gifts')"
   ],
   "metadata": {
    "collapsed": false
   },
   "id": "59aa006189acd3b2",
   "execution_count": null
  },
  {
   "cell_type": "code",
   "outputs": [],
   "source": [
    "flames_gifts = flames_gifts.replace('\"', '', regex=True)\n",
    "flames_gifts = flames_gifts.replace(u'\\xa0', u' ', regex=True)"
   ],
   "metadata": {
    "collapsed": false
   },
   "id": "9e3121c382f3dc58",
   "execution_count": null
  },
  {
   "cell_type": "code",
   "outputs": [],
   "source": [
    "#add the flames_gifts dataframe to the json file\n",
    "Flames_Gifts_data = [\n",
    "    {\n",
    "    \"Speaker\": flames_gifts['Voicetype'][index],\n",
    "    \"Dialogue\": flames_gifts['Dialogue'][index],\n",
    "    \"Tone\": None,\n",
    "    \"Event\": flames_gifts['Event'][index],\n",
    "    \"Condition\": None\n",
    "    } for index, row in flames_gifts.iterrows()]\n",
    "\n",
    "data = data + Flames_Gifts_data"
   ],
   "metadata": {
    "collapsed": false
   },
   "id": "7e3c41a3021f1d3c",
   "execution_count": null
  },
  {
   "cell_type": "code",
   "outputs": [],
   "source": [
    "#import the fighting_over_item sheet\n",
    "\n",
    "fighting_over_item = pd.read_excel('testing_excel.xlsx', sheet_name='fighting_over_item')\n",
    "fighting_over_item = fighting_over_item.replace('\"', '', regex=True)\n",
    "fighting_over_item = fighting_over_item.replace(u'\\xa0', u' ', regex=True)"
   ],
   "metadata": {
    "collapsed": false
   },
   "id": "885d45bccf3f860c",
   "execution_count": null
  },
  {
   "cell_type": "code",
   "outputs": [],
   "source": [
    "fighting_over_item_data = [\n",
    "    {\n",
    "    \"Speaker\": fighting_over_item['Voicetype'][index],\n",
    "    \"Dialogue\": fighting_over_item['Dialogue'][index],\n",
    "    \"Tone\": None,\n",
    "    \"Event\": fighting_over_item['Event'][index],\n",
    "    \"Speaker_Number\": fighting_over_item['Speaker_Number'][index],\n",
    "    \"Condition\": None\n",
    "    } for index, row in fighting_over_item.iterrows()]\n",
    "\n",
    "data = data + fighting_over_item_data"
   ],
   "metadata": {
    "collapsed": false
   },
   "id": "23fb80bbce552f64",
   "execution_count": null
  },
  {
   "cell_type": "code",
   "outputs": [],
   "source": [
    "#read the sheet return&bumping&naked\n",
    "return_bumping_naked = pd.read_excel('testing_excel.xlsx', sheet_name='return&bumping&naked')\n",
    "return_bumping_naked = return_bumping_naked.replace('\"', '', regex=True)\n",
    "return_bumping_naked = return_bumping_naked.replace(u'\\xa0', u' ', regex=True)"
   ],
   "metadata": {
    "collapsed": false
   },
   "id": "f4c3051e25122e1f",
   "execution_count": null
  },
  {
   "cell_type": "code",
   "outputs": [],
   "source": [
    "#add the return_bumping_naked dataframe to the json file\n",
    "return_bumping_naked_data = [\n",
    "    {\n",
    "    \"Speaker\": return_bumping_naked['Voicetype'][index],\n",
    "    \"Dialogue\": return_bumping_naked['Dialogue'][index],\n",
    "    \"Tone\": None,\n",
    "    \"Event\": return_bumping_naked['Event'][index],\n",
    "    \"Condition\": None\n",
    "    } for index, row in return_bumping_naked.iterrows()]\n",
    "\n",
    "data = data + return_bumping_naked_data"
   ],
   "metadata": {
    "collapsed": false
   },
   "id": "68d725bd6df90268",
   "execution_count": null
  },
  {
   "cell_type": "code",
   "outputs": [],
   "source": [
    "# read the sheet Asking_armor\n",
    "asking_armor = pd.read_excel('testing_excel.xlsx', sheet_name='Asking_armor')\n",
    "asking_armor = asking_armor.replace('\"', '', regex=True)\n",
    "asking_armor = asking_armor.replace(u'\\xa0', u' ', regex=True)"
   ],
   "metadata": {
    "collapsed": false
   },
   "id": "5940e5e949a732a9",
   "execution_count": null
  },
  {
   "cell_type": "code",
   "outputs": [],
   "source": [
    "#add the asking_armor dataframe to the json file\n",
    "asking_armor_data = [\n",
    "    {\n",
    "    \"Speaker\": asking_armor['Voicetype'][index],\n",
    "    \"Dialogue\": asking_armor['Dialogue'][index],\n",
    "    \"Tone\": None,\n",
    "    \"Event\": asking_armor['Event'][index],\n",
    "    \"Condition\": None,\n",
    "    \"Response_to\": asking_armor['Response_to'][index]\n",
    "    } for index, row in asking_armor.iterrows()]\n",
    "\n",
    "data = data + asking_armor_data"
   ],
   "metadata": {
    "collapsed": false
   },
   "id": "46a48f29e1caafa6",
   "execution_count": null
  },
  {
   "cell_type": "code",
   "outputs": [],
   "source": [
    "#read the sheet Spells&robes\n",
    "spells_robes = pd.read_excel('testing_excel.xlsx', sheet_name='Spells&robes')\n",
    "spells_robes = spells_robes.replace('\"', '', regex=True)\n",
    "spells_robes = spells_robes.replace(u'\\xa0', u' ', regex=True)\n",
    "#remove the \\u2019 character from the dataframe\n",
    "spells_robes = spells_robes.replace(u'\\u2019', \"'\", regex=True)\n",
    "#remove the \\u00a0 character from the dataframe\n",
    "spells_robes = spells_robes.replace(u'\\u00a0', ' ', regex=True)"
   ],
   "metadata": {
    "collapsed": false
   },
   "id": "267fe540b8820b95",
   "execution_count": null
  },
  {
   "cell_type": "code",
   "outputs": [],
   "source": [
    "#add the spells_robes dataframe to the json file\n",
    "spells_robes_data = [\n",
    "    {\n",
    "    \"Speaker\": spells_robes['Voicetype'][index],\n",
    "    \"Dialogue\": spells_robes['Dialogue'][index],\n",
    "    \"Tone\": None,\n",
    "    \"Event\": spells_robes['Event'][index],\n",
    "    \"Condition\": None\n",
    "    } for index, row in spells_robes.iterrows()]\n",
    "\n",
    "data = data + spells_robes_data"
   ],
   "metadata": {
    "collapsed": false
   },
   "id": "4b8fb5f332daa75f",
   "execution_count": null
  },
  {
   "cell_type": "code",
   "outputs": [],
   "source": [
    "#read the sheet Shouting&Corpses\n",
    "shouting_corpses = pd.read_excel('testing_excel.xlsx', sheet_name='Shouting&Corpses')\n",
    "shouting_corpses = shouting_corpses.replace('\"', '', regex=True)\n",
    "shouting_corpses = shouting_corpses.replace(u'\\xa0', u' ', regex=True)\n",
    "shouting_corpses = shouting_corpses.replace(u'\\u2019', \"'\", regex=True)\n",
    "shouting_corpses = shouting_corpses.replace(u'\\u00a0', ' ', regex=True)"
   ],
   "metadata": {
    "collapsed": false
   },
   "id": "26e033e9f00964c0",
   "execution_count": null
  },
  {
   "cell_type": "code",
   "outputs": [],
   "source": [
    "#add the shouting_corpses dataframe to the json file\n",
    "shouting_corpses_data = [\n",
    "    {\n",
    "    \"Speaker\": shouting_corpses['Voicetype'][index],\n",
    "    \"Dialogue\": shouting_corpses['Dialogue'][index],\n",
    "    \"Tone\": None,\n",
    "    \"Event\": shouting_corpses['Event'][index],\n",
    "    \"Condition\": None\n",
    "    } for index, row in shouting_corpses.iterrows()]\n",
    "\n",
    "data = data + shouting_corpses_data"
   ],
   "metadata": {
    "collapsed": false
   },
   "id": "59cf949f1996aa61",
   "execution_count": null
  },
  {
   "cell_type": "code",
   "outputs": [],
   "source": [
    "#add the sheet combat_dialogue to the json file\n",
    "combat_dialogue = pd.read_excel('testing_excel.xlsx', sheet_name='combat_dialogue')\n",
    "combat_dialogue = combat_dialogue.replace('\"', '', regex=True)\n",
    "combat_dialogue = combat_dialogue.replace(u'\\xa0', u' ', regex=True)\n",
    "combat_dialogue = combat_dialogue.replace(u'\\u2019', \"'\", regex=True)\n",
    "combat_dialogue = combat_dialogue.replace(u'\\u00a0', ' ', regex=True)"
   ],
   "metadata": {
    "collapsed": false
   },
   "id": "ee872cbb14a0b698",
   "execution_count": null
  },
  {
   "cell_type": "code",
   "outputs": [],
   "source": [
    "combat_dialogue_data = [\n",
    "    {\n",
    "    \"Speaker\": \"All types of NPCs\",\n",
    "    \"Dialogue\": combat_dialogue['Dialogue'][index],\n",
    "    \"Tone\": None,\n",
    "    \"Event\": combat_dialogue['Event'][index],\n",
    "    \"Condition\": combat_dialogue['Condition'][index]\n",
    "    } for index, row in combat_dialogue.iterrows()]\n",
    "\n",
    "data = data + combat_dialogue_data"
   ],
   "metadata": {
    "collapsed": false
   },
   "id": "b27c033f6efeabd5",
   "execution_count": null
  },
  {
   "cell_type": "code",
   "outputs": [],
   "source": [
    "#add the sheet Persuation_check to the json file\n",
    "\n",
    "persuasion_check = pd.read_excel('testing_excel.xlsx', sheet_name='Persuasion_check')\n",
    "persuasion_check = persuasion_check.replace('\"', '', regex=True)\n",
    "persuasion_check = persuasion_check.replace(u'\\xa0', u' ', regex=True)\n",
    "persuasion_check = persuasion_check.replace(u'\\u2019', \"'\", regex=True)\n",
    "persuasion_check = persuasion_check.replace(u'\\u00a0', ' ', regex=True)"
   ],
   "metadata": {
    "collapsed": false
   },
   "id": "ad1510f6f587ea11",
   "execution_count": null
  },
  {
   "cell_type": "code",
   "outputs": [],
   "source": [
    "persuasion_check_data = [\n",
    "    {\n",
    "    \"Speaker\": \"All types of NPCs\",\n",
    "    \"Dialogue\": persuasion_check['Dialogue'][index],\n",
    "    \"Tone\": None,\n",
    "    \"Event\": persuasion_check['Event'][index],\n",
    "    \"Result\": persuasion_check['Result'][index],\n",
    "    } for index, row in persuasion_check.iterrows()]\n",
    "\n",
    "data = data + persuasion_check_data"
   ],
   "metadata": {
    "collapsed": false
   },
   "id": "34bc652a85540ef2",
   "execution_count": null
  },
  {
   "cell_type": "code",
   "outputs": [],
   "source": [
    "#add the sheet entering_buying to the json file\n",
    "entering_buying = pd.read_excel('testing_excel.xlsx', sheet_name='entering_buying')\n",
    "entering_buying = entering_buying.replace('\"', '', regex=True)\n",
    "entering_buying = entering_buying.replace(u'\\xa0', u' ', regex=True)\n",
    "entering_buying = entering_buying.replace(u'\\u2019', \"'\", regex=True)\n",
    "entering_buying = entering_buying.replace(u'\\u00a0', ' ', regex=True)"
   ],
   "metadata": {
    "collapsed": false
   },
   "id": "512d4f1c931f00bf",
   "execution_count": null
  },
  {
   "cell_type": "code",
   "outputs": [],
   "source": [
    "entering_buying_data = [\n",
    "    {\n",
    "    \"Speaker\": entering_buying['Voicetype'][index],\n",
    "    \"Dialogue\": entering_buying['Dialogue'][index],\n",
    "    \"Tone\": None,\n",
    "    \"Event\": entering_buying['Event'][index],\n",
    "    \"Condition\": None\n",
    "    } for index, row in entering_buying.iterrows()]\n",
    "\n",
    "data = data + entering_buying_data"
   ],
   "metadata": {
    "collapsed": false
   },
   "id": "4bdcdae96c4307b5",
   "execution_count": null
  },
  {
   "cell_type": "code",
   "outputs": [],
   "source": [
    "# add the sheet request_training to the json file"
   ],
   "metadata": {
    "collapsed": false
   },
   "id": "b85e4ff46efcea17",
   "execution_count": null
  },
  {
   "cell_type": "code",
   "outputs": [],
   "source": [
    "request_training = pd.read_excel('testing_excel.xlsx', sheet_name='requesting_training')\n",
    "request_training = request_training.replace('\"', '', regex=True)\n",
    "request_training = request_training.replace(u'\\xa0', u' ', regex=True)\n",
    "request_training = request_training.replace(u'\\u2019', \"'\", regex=True)\n",
    "request_training = request_training.replace(u'\\u00a0', ' ', regex=True)"
   ],
   "metadata": {
    "collapsed": false
   },
   "id": "c4e4d0055358d9d7",
   "execution_count": null
  },
  {
   "cell_type": "code",
   "outputs": [],
   "source": [
    "request_training_data = [\n",
    "    {\n",
    "    \"Speaker\": request_training['Voicetype'][index],\n",
    "    \"Dialogue\": request_training['Dialogue'][index],\n",
    "    \"Tone\": None,\n",
    "    \"Event\": request_training['Event'][index],\n",
    "    \"Condition\": None\n",
    "    } for index, row in request_training.iterrows()]\n",
    "\n",
    "data = data + request_training_data"
   ],
   "metadata": {
    "collapsed": false
   },
   "id": "2a9e963377b0f001",
   "execution_count": null
  },
  {
   "cell_type": "code",
   "outputs": [],
   "source": [
    "#add the sheet marriage to the json file\n",
    "marriage = pd.read_excel('testing_excel.xlsx', sheet_name='marriage')\n",
    "marriage = marriage.replace('\"', '', regex=True)\n",
    "marriage = marriage.replace(u'\\xa0', u' ', regex=True)\n",
    "marriage = marriage.replace(u'\\u2019', \"'\", regex=True)\n",
    "marriage = marriage.replace(u'\\u00a0', ' ', regex=True)"
   ],
   "metadata": {
    "collapsed": false
   },
   "id": "994bae1a03efc306",
   "execution_count": null
  },
  {
   "cell_type": "code",
   "outputs": [],
   "source": [
    "marriage_data = [\n",
    "    {\n",
    "    \"Speaker\": marriage['Voicetype'][index],\n",
    "    \"Dialogue\": marriage['Dialogue'][index],\n",
    "    \"Tone\": None,\n",
    "    \"Event\": marriage['Event'][index],\n",
    "    \"Condition\": None,\n",
    "    \"Response_to\": marriage['Response_to'][index]\n",
    "    } for index, row in marriage.iterrows()]"
   ],
   "metadata": {
    "collapsed": false
   },
   "id": "9cab7a5b60db56c8",
   "execution_count": null
  },
  {
   "cell_type": "code",
   "outputs": [],
   "source": [
    "data = data + marriage_data"
   ],
   "metadata": {
    "collapsed": false
   },
   "id": "f5c9c2a0386debb3",
   "execution_count": null
  },
  {
   "cell_type": "code",
   "outputs": [],
   "source": [
    "#add the sheet wedding to the json file\n",
    "wedding = pd.read_excel('testing_excel.xlsx', sheet_name='wedding')\n",
    "wedding = wedding.replace('\"', '', regex=True)\n",
    "wedding = wedding.replace(u'\\xa0', u' ', regex=True)\n",
    "wedding = wedding.replace(u'\\u2019', \"'\", regex=True)\n",
    "wedding = wedding.replace(u'\\u00a0', ' ', regex=True)"
   ],
   "metadata": {
    "collapsed": false
   },
   "id": "cfa55f712899b2f5",
   "execution_count": null
  },
  {
   "cell_type": "code",
   "outputs": [],
   "source": [
    "wedding_data = [\n",
    "    {\n",
    "    \"Speaker\": wedding['Voicetype'][index],\n",
    "    \"Dialogue\": wedding['Dialogue'][index],\n",
    "    \"Tone\": None,\n",
    "    \"Event\": wedding['Event'][index],\n",
    "    \"Condition\": wedding['Condition'][index],\n",
    "    } for index, row in wedding.iterrows()]\n",
    "\n",
    "data = data + wedding_data"
   ],
   "metadata": {
    "collapsed": false
   },
   "id": "d64c23a318e92d07",
   "execution_count": null
  },
  {
   "cell_type": "code",
   "outputs": [],
   "source": [
    "# add the sheet orcs_khajiits to the json file"
   ],
   "metadata": {
    "collapsed": false
   },
   "id": "d0ffd5ea61655763",
   "execution_count": null
  },
  {
   "cell_type": "code",
   "outputs": [],
   "source": [
    "orcs_khajiits = pd.read_excel('testing_excel.xlsx', sheet_name='orcs_khajiits')\n",
    "orcs_khajiits = orcs_khajiits.replace('\"', '', regex=True)\n"
   ],
   "metadata": {
    "collapsed": false
   },
   "id": "cc6fccfd564f8cca",
   "execution_count": null
  },
  {
   "cell_type": "code",
   "outputs": [],
   "source": [
    "orcs_khajiits"
   ],
   "metadata": {
    "collapsed": false
   },
   "id": "8b13e7ab2892b992",
   "execution_count": null
  },
  {
   "cell_type": "code",
   "outputs": [],
   "source": [
    "orcs_khajiits.columns"
   ],
   "metadata": {
    "collapsed": false
   },
   "id": "de8184a848835558",
   "execution_count": null
  },
  {
   "cell_type": "code",
   "outputs": [],
   "source": [
    "orcs_khajiits_data = [\n",
    "    {\n",
    "    \"Speaker\": orcs_khajiits['Voicetype'][index],\n",
    "    \"Dialogue\": orcs_khajiits['Dialogue'][index],\n",
    "    \"Tone\": None,\n",
    "    \"Event\": orcs_khajiits['Event'][index],\n",
    "    \"Condition\": orcs_khajiits['Condition'][index],\n",
    "    } for index, row in orcs_khajiits.iterrows()]\n",
    "\n",
    "data = data + orcs_khajiits_data"
   ],
   "metadata": {
    "collapsed": false
   },
   "id": "a796a48be24ddcfc",
   "execution_count": null
  },
  {
   "cell_type": "code",
   "outputs": [],
   "source": [
    "#add the sheet housecarl to the json file\n",
    "housecarl = pd.read_excel('testing_excel.xlsx', sheet_name='Housecarl')\n",
    "housecarl = housecarl.replace('\"', '', regex=True)\n",
    "housecarl = housecarl.replace(u'\\xa0', u' ', regex=True)\n",
    "housecarl = housecarl.replace(u'\\u2019', \"'\", regex=True)\n",
    "housecarl = housecarl.replace(u'\\u00a0', ' ', regex=True)"
   ],
   "metadata": {
    "collapsed": false
   },
   "id": "84587b95fdda1c8b",
   "execution_count": null
  },
  {
   "cell_type": "code",
   "outputs": [],
   "source": [
    "housecarl_data = [\n",
    "    {\n",
    "    \"Speaker\": housecarl['Voicetype'][index],\n",
    "    \"Dialogue\": housecarl['Dialogue'][index],\n",
    "    \"Tone\": None,\n",
    "    \"Event\": housecarl['Event'][index],\n",
    "    \"Condition\": None,\n",
    "    } for index, row in housecarl.iterrows()]\n",
    "\n",
    "data = data + housecarl_data"
   ],
   "metadata": {
    "collapsed": false
   },
   "id": "4196ea077bbee37a",
   "execution_count": null
  },
  {
   "cell_type": "code",
   "outputs": [],
   "source": [
    "# add the sheet Carriage to the json file\n",
    "carriage = pd.read_excel('testing_excel.xlsx', sheet_name='Carriage')\n",
    "carriage = carriage.replace('\"', '', regex=True)\n",
    "carriage = carriage.replace(u'\\xa0', u' ', regex=True)\n",
    "carriage = carriage.replace(u'\\u2019', \"'\", regex=True)\n",
    "carriage = carriage.replace(u'\\u00a0', ' ', regex=True)"
   ],
   "metadata": {
    "collapsed": false
   },
   "id": "712eb026ed8e5386",
   "execution_count": null
  },
  {
   "cell_type": "code",
   "outputs": [],
   "source": [
    "carriage_data = [\n",
    "    {\n",
    "    \"Speaker\": carriage['Voicetype'][index],\n",
    "    \"Dialogue\": carriage['Dialogue'][index],\n",
    "    \"Tone\": None,\n",
    "    \"Event\": carriage['Event'][index],\n",
    "    \"Condition\": None,\n",
    "    } for index, row in carriage.iterrows()]\n",
    "\n",
    "data = data + carriage_data"
   ],
   "metadata": {
    "collapsed": false
   },
   "id": "ea5883615853e2a9",
   "execution_count": null
  },
  {
   "cell_type": "code",
   "outputs": [],
   "source": [
    "guards = pd.read_excel('testing_excel.xlsx', sheet_name='Guards')\n",
    "guards = guards.replace('\"', '', regex=True)\n",
    "guards = guards.replace(u'\\xa0', u' ', regex=True)\n",
    "guards = guards.replace(u'\\u2019', \"'\", regex=True)\n",
    "guards = guards.replace(u'\\u00a0', ' ', regex=True)"
   ],
   "metadata": {
    "collapsed": false
   },
   "id": "8ff2cdd9078dbb3d",
   "execution_count": null
  },
  {
   "cell_type": "code",
   "outputs": [],
   "source": [
    "guards_data = [\n",
    "    {\n",
    "    \"Speaker\": \"Guard\",\n",
    "    \"Dialogue\": guards['Dialogue'][index],\n",
    "    \"Tone\": None,\n",
    "    \"Event\": guards['Event'][index],\n",
    "    \"Condition\": guards['Condition'][index],\n",
    "    } for index, row in guards.iterrows()]\n",
    "\n",
    "data = data + guards_data"
   ],
   "metadata": {
    "collapsed": false
   },
   "id": "33581f403b2f8b69",
   "execution_count": null
  },
  {
   "cell_type": "code",
   "outputs": [],
   "source": [
    "guards_race = pd.read_excel('testing_excel.xlsx', sheet_name='Guards_race')\n",
    "guards_race = guards_race.replace('\"', '', regex=True)\n",
    "guards_race = guards_race.replace(u'\\xa0', u' ', regex=True)\n",
    "guards_race = guards_race.replace(u'\\u2019', \"'\", regex=True)\n",
    "guards_race = guards_race.replace(u'\\u00a0', ' ', regex=True)"
   ],
   "metadata": {
    "collapsed": false
   },
   "id": "40807c4121ddf29a",
   "execution_count": null
  },
  {
   "cell_type": "code",
   "outputs": [],
   "source": [
    "guards_race"
   ],
   "metadata": {
    "collapsed": false
   },
   "id": "d5f266513f03d01b",
   "execution_count": null
  },
  {
   "cell_type": "code",
   "outputs": [],
   "source": [
    "guards_race_data = [\n",
    "    {\n",
    "        \"Speaker\": \"Guard\",\n",
    "        \"Dialogue\": row['Dialogue'],\n",
    "        \"Tone\": None,\n",
    "        \"Event\": row['Event'],\n",
    "        \"Condition\": row['Condition'],\n",
    "        \"Race\": row['Race'],\n",
    "    } for index, row in guards_race.iterrows()  # Ensure this matches the DataFrame you're indexing\n",
    "]\n",
    "data = data + guards_race_data"
   ],
   "metadata": {
    "collapsed": false
   },
   "id": "630f67334c0fa82b",
   "execution_count": null
  },
  {
   "cell_type": "code",
   "outputs": [],
   "source": [
    "#add the sheet Guard_Equipment to the json file\n",
    "guard_equipment = pd.read_excel('testing_excel.xlsx', sheet_name='Guard_Equipment')\n",
    "guard_equipment = guard_equipment.replace('\"', '', regex=True)\n",
    "guard_equipment = guard_equipment.replace(u'\\xa0', u' ', regex=True)\n",
    "guard_equipment = guard_equipment.replace(u'\\u2019', \"'\", regex=True)\n",
    "guard_equipment = guard_equipment.replace(u'\\u00a0', ' ', regex=True)"
   ],
   "metadata": {
    "collapsed": false
   },
   "id": "e23826ea7fdf1f7d",
   "execution_count": null
  },
  {
   "cell_type": "code",
   "outputs": [],
   "source": [
    "guard_equipment_data = [\n",
    "    {\n",
    "    \"Speaker\": \"Guard\",\n",
    "    \"Dialogue\": guard_equipment['Dialogue'][index],\n",
    "    \"Tone\": None,\n",
    "    \"Event\": guard_equipment['Event'][index],\n",
    "    \"Condition\": guard_equipment['Condition'][index],\n",
    "    \"Equipment\": guard_equipment['Equipment'][index],\n",
    "    } for index, row in guard_equipment.iterrows()]\n",
    "\n",
    "data = data + guard_equipment_data"
   ],
   "metadata": {
    "collapsed": false
   },
   "id": "1bc5d826ae71a3c3",
   "execution_count": null
  },
  {
   "cell_type": "code",
   "outputs": [],
   "source": [
    "#add the sheet Guard_skill to the json file\n",
    "guard_skill = pd.read_excel('testing_excel.xlsx', sheet_name='Guard_skill')\n",
    "guard_skill = guard_skill.replace('\"', '', regex=True)\n",
    "guard_skill = guard_skill.replace(u'\\xa0', u' ', regex=True)\n",
    "guard_skill = guard_skill.replace(u'\\u2019', \"'\", regex=True)\n",
    "guard_skill = guard_skill.replace(u'\\u00a0', ' ', regex=True)"
   ],
   "metadata": {
    "collapsed": false
   },
   "id": "e47b6b335810a377",
   "execution_count": null
  },
  {
   "cell_type": "code",
   "outputs": [],
   "source": [
    "guard_skill_data = [\n",
    "    {\n",
    "    \"Speaker\": \"Guard\",\n",
    "    \"Dialogue\": guard_skill['Dialogue'][index],\n",
    "    \"Tone\": None,\n",
    "    \"Event\": guard_skill['Event'][index],\n",
    "    \"Condition\": None,\n",
    "    } for index, row in guard_skill.iterrows()]\n",
    "\n",
    "data = data + guard_skill_data"
   ],
   "metadata": {
    "collapsed": false
   },
   "id": "63afe1101e25b5ee",
   "execution_count": null
  },
  {
   "cell_type": "code",
   "outputs": [],
   "source": [
    "# add the Stromcloak-imperial sheet to the json file\n",
    "stromcloak_imperial = pd.read_excel('testing_excel.xlsx', sheet_name='Stromcloak-imperial')\n",
    "stromcloak_imperial = stromcloak_imperial.replace('\"', '', regex=True)\n",
    "stromcloak_imperial = stromcloak_imperial.replace(u'\\xa0', u' ', regex=True)\n",
    "stromcloak_imperial = stromcloak_imperial.replace(u'\\u2019', \"'\", regex=True)\n",
    "stromcloak_imperial = stromcloak_imperial.replace(u'\\u00a0', ' ', regex=True)"
   ],
   "metadata": {
    "collapsed": false
   },
   "id": "96a7528d96d15075",
   "execution_count": null
  },
  {
   "cell_type": "code",
   "outputs": [],
   "source": [
    "\n",
    "stromcloak_imperial_data = [\n",
    "    {\n",
    "    \"Speaker\": stromcloak_imperial['Guard'][index],\n",
    "    \"Dialogue\": stromcloak_imperial['Dialogue'][index],\n",
    "    \"Tone\": None,\n",
    "    \"Event\": stromcloak_imperial['Event'][index],\n",
    "    \"Condition\": stromcloak_imperial['Condition'][index],\n",
    "    } for index, row in stromcloak_imperial.iterrows()]\n",
    "\n",
    "data = data + stromcloak_imperial_data"
   ],
   "metadata": {
    "collapsed": false
   },
   "id": "b10d0413d5706d33",
   "execution_count": null
  },
  {
   "cell_type": "code",
   "outputs": [],
   "source": [
    "#add the Guard_interactions sheet to the json file\n",
    "guard_interactions = pd.read_excel('testing_excel.xlsx', sheet_name='Guard_interactions')\n",
    "guard_interactions = guard_interactions.replace('\"', '', regex=True)\n",
    "guard_interactions = guard_interactions.replace(u'\\xa0', u' ', regex=True)\n",
    "guard_interactions = guard_interactions.replace(u'\\u2019', \"'\", regex=True)\n",
    "guard_interactions = guard_interactions.replace(u'\\u00a0', ' ', regex=True)"
   ],
   "metadata": {
    "collapsed": false
   },
   "id": "537706d2fc8cfc02",
   "execution_count": null
  },
  {
   "cell_type": "code",
   "outputs": [],
   "source": [
    "#keep the rows until row 103\n",
    "guard_interactions = guard_interactions[:104]\n",
    "guard_interactions"
   ],
   "metadata": {
    "collapsed": false
   },
   "id": "d79922ffe9a8b08e",
   "execution_count": null
  },
  {
   "cell_type": "code",
   "outputs": [],
   "source": [
    "guard_interactions_data = [\n",
    "    {\n",
    "    \"Speaker\": \"Guard\",\n",
    "    \"Dialogue\": guard_interactions['Dialogue'][index],\n",
    "    \"Tone\": None,\n",
    "    \"Event\": guard_interactions['Event'][index],\n",
    "    \"Condition\": guard_interactions['Condition'][index],\n",
    "    \"Location\": guard_interactions['Location'][index],\n",
    "    } for index, row in guard_interactions.iterrows()]\n",
    "\n",
    "data = data + guard_interactions_data"
   ],
   "metadata": {
    "collapsed": false
   },
   "id": "680d3ccb17929cb6",
   "execution_count": null
  },
  {
   "cell_type": "code",
   "outputs": [],
   "source": [
    "print(data)"
   ],
   "metadata": {
    "collapsed": false
   },
   "id": "c91a5044251590ef",
   "execution_count": null
  },
  {
   "cell_type": "code",
   "outputs": [],
   "source": [
    "def convert_all_to_string(data):\n",
    "    \"\"\"\n",
    "    Recursively convert all data in a dictionary or list to string.\n",
    "    \"\"\"\n",
    "    if isinstance(data, dict):\n",
    "        return {key: convert_all_to_string(value) for key, value in data.items()}\n",
    "    elif isinstance(data, list):\n",
    "        return [convert_all_to_string(item) for item in data]\n",
    "    else:\n",
    "        return str(data)\n",
    "\n",
    "# Convert all data to string\n",
    "string_data = convert_all_to_string(data)"
   ],
   "metadata": {
    "collapsed": false
   },
   "id": "b7a8e0b17a4c3e93",
   "execution_count": null
  },
  {
   "cell_type": "code",
   "outputs": [],
   "source": [
    "print(string_data)"
   ],
   "metadata": {
    "collapsed": false
   },
   "id": "b913d494fe91fae0",
   "execution_count": null
  },
  {
   "cell_type": "code",
   "outputs": [],
   "source": [
    "# randomize the components of the json file\n",
    "import random\n",
    "\n",
    "random.shuffle(string_data)\n",
    "\n",
    "# Write the shuffled data to a json file\n",
    "with open('shuffled_data.json', 'w') as f:\n",
    "    f.write(json.dumps(string_data, indent=4))"
   ],
   "metadata": {
    "collapsed": false
   },
   "id": "5c5c68a6fa257151",
   "execution_count": null
  },
  {
   "cell_type": "code",
   "outputs": [],
   "source": [],
   "metadata": {
    "collapsed": false
   },
   "id": "9f86ccf5027c5a7",
   "execution_count": null
  },
  {
   "cell_type": "code",
   "outputs": [],
   "source": [],
   "metadata": {
    "collapsed": false
   },
   "id": "e526b0f4c943a12f",
   "execution_count": null
  },
  {
   "cell_type": "code",
   "outputs": [],
   "source": [],
   "metadata": {
    "collapsed": false
   },
   "id": "c57ef199367214a",
   "execution_count": null
  }
 ],
 "metadata": {
  "kernelspec": {
   "display_name": "Python 3",
   "language": "python",
   "name": "python3"
  },
  "language_info": {
   "codemirror_mode": {
    "name": "ipython",
    "version": 2
   },
   "file_extension": ".py",
   "mimetype": "text/x-python",
   "name": "python",
   "nbconvert_exporter": "python",
   "pygments_lexer": "ipython2",
   "version": "2.7.6"
  }
 },
 "nbformat": 4,
 "nbformat_minor": 5
}
