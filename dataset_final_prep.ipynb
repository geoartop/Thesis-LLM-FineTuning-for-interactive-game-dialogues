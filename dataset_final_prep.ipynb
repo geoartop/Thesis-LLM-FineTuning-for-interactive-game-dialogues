{
 "cells": [
  {
   "cell_type": "code",
   "outputs": [],
   "source": [
    "import pandas as pd"
   ],
   "metadata": {
    "collapsed": false,
    "ExecuteTime": {
     "end_time": "2024-04-27T11:49:29.689273200Z",
     "start_time": "2024-04-27T11:49:29.149728700Z"
    }
   },
   "id": "7d4cb6598bcc9810",
   "execution_count": 1
  },
  {
   "cell_type": "code",
   "execution_count": 2,
   "id": "initial_id",
   "metadata": {
    "collapsed": true,
    "ExecuteTime": {
     "end_time": "2024-04-27T11:49:29.950422600Z",
     "start_time": "2024-04-27T11:49:29.691274Z"
    }
   },
   "outputs": [],
   "source": [
    "#load the xls file without containing any links\n",
    "df = pd.read_excel('testing_excel.xlsx', sheet_name='Greeting_Goodbyes')"
   ]
  },
  {
   "cell_type": "code",
   "outputs": [],
   "source": [
    "df = df.replace(u'\\xa0', u' ', regex=True)"
   ],
   "metadata": {
    "collapsed": false,
    "ExecuteTime": {
     "end_time": "2024-04-27T11:49:29.959502Z",
     "start_time": "2024-04-27T11:49:29.950422600Z"
    }
   },
   "id": "2df8c56a3a9c9ea6",
   "execution_count": 3
  },
  {
   "cell_type": "code",
   "outputs": [
    {
     "data": {
      "text/plain": "                                             Greetings  \\\n0                                                 Hmm?   \n1                                      Need something?   \n2                                                 Yes?   \n3         Ours is to smile at your passing, friend.(F)   \n4    It fills us with rage. What harm does it bring...   \n..                                                 ...   \n120                     You're nothing but trouble.(H)   \n121                             What can I do for you?   \n122                        Oh, did you need something?   \n123                It's a fine day with you around.(F)   \n124   You. Every time I look at you my blood boils.(H)   \n\n                              Voicetype          Goodbyes  Unnamed: 3  \\\n0                     All types of NPCs  Until next time.         NaN   \n1                     All types of NPCs          Hmm hmm.         NaN   \n2                     All types of NPCs  All right, then.         NaN   \n3                          MaleArgonian               NaN         NaN   \n4                          MaleArgonian               NaN         NaN   \n..                                  ...               ...         ...   \n120                      MaleYoungEager               NaN         NaN   \n121  MaleYoungEager or FemaleYoungEager               NaN         NaN   \n122  MaleYoungEager or FemaleYoungEager               NaN         NaN   \n123                    FemaleYoungEager               NaN         NaN   \n124                    FemaleYoungEager               NaN         NaN   \n\n     Unnamed: 4 Unnamed: 5  \n0           NaN        NaN  \n1           NaN        NaN  \n2           NaN        NaN  \n3           NaN        NaN  \n4           NaN        NaN  \n..          ...        ...  \n120         NaN        NaN  \n121         NaN        NaN  \n122         NaN        NaN  \n123         NaN        NaN  \n124         NaN        NaN  \n\n[125 rows x 6 columns]",
      "text/html": "<div>\n<style scoped>\n    .dataframe tbody tr th:only-of-type {\n        vertical-align: middle;\n    }\n\n    .dataframe tbody tr th {\n        vertical-align: top;\n    }\n\n    .dataframe thead th {\n        text-align: right;\n    }\n</style>\n<table border=\"1\" class=\"dataframe\">\n  <thead>\n    <tr style=\"text-align: right;\">\n      <th></th>\n      <th>Greetings</th>\n      <th>Voicetype</th>\n      <th>Goodbyes</th>\n      <th>Unnamed: 3</th>\n      <th>Unnamed: 4</th>\n      <th>Unnamed: 5</th>\n    </tr>\n  </thead>\n  <tbody>\n    <tr>\n      <th>0</th>\n      <td>Hmm?</td>\n      <td>All types of NPCs</td>\n      <td>Until next time.</td>\n      <td>NaN</td>\n      <td>NaN</td>\n      <td>NaN</td>\n    </tr>\n    <tr>\n      <th>1</th>\n      <td>Need something?</td>\n      <td>All types of NPCs</td>\n      <td>Hmm hmm.</td>\n      <td>NaN</td>\n      <td>NaN</td>\n      <td>NaN</td>\n    </tr>\n    <tr>\n      <th>2</th>\n      <td>Yes?</td>\n      <td>All types of NPCs</td>\n      <td>All right, then.</td>\n      <td>NaN</td>\n      <td>NaN</td>\n      <td>NaN</td>\n    </tr>\n    <tr>\n      <th>3</th>\n      <td>Ours is to smile at your passing, friend.(F)</td>\n      <td>MaleArgonian</td>\n      <td>NaN</td>\n      <td>NaN</td>\n      <td>NaN</td>\n      <td>NaN</td>\n    </tr>\n    <tr>\n      <th>4</th>\n      <td>It fills us with rage. What harm does it bring...</td>\n      <td>MaleArgonian</td>\n      <td>NaN</td>\n      <td>NaN</td>\n      <td>NaN</td>\n      <td>NaN</td>\n    </tr>\n    <tr>\n      <th>...</th>\n      <td>...</td>\n      <td>...</td>\n      <td>...</td>\n      <td>...</td>\n      <td>...</td>\n      <td>...</td>\n    </tr>\n    <tr>\n      <th>120</th>\n      <td>You're nothing but trouble.(H)</td>\n      <td>MaleYoungEager</td>\n      <td>NaN</td>\n      <td>NaN</td>\n      <td>NaN</td>\n      <td>NaN</td>\n    </tr>\n    <tr>\n      <th>121</th>\n      <td>What can I do for you?</td>\n      <td>MaleYoungEager or FemaleYoungEager</td>\n      <td>NaN</td>\n      <td>NaN</td>\n      <td>NaN</td>\n      <td>NaN</td>\n    </tr>\n    <tr>\n      <th>122</th>\n      <td>Oh, did you need something?</td>\n      <td>MaleYoungEager or FemaleYoungEager</td>\n      <td>NaN</td>\n      <td>NaN</td>\n      <td>NaN</td>\n      <td>NaN</td>\n    </tr>\n    <tr>\n      <th>123</th>\n      <td>It's a fine day with you around.(F)</td>\n      <td>FemaleYoungEager</td>\n      <td>NaN</td>\n      <td>NaN</td>\n      <td>NaN</td>\n      <td>NaN</td>\n    </tr>\n    <tr>\n      <th>124</th>\n      <td>You. Every time I look at you my blood boils.(H)</td>\n      <td>FemaleYoungEager</td>\n      <td>NaN</td>\n      <td>NaN</td>\n      <td>NaN</td>\n      <td>NaN</td>\n    </tr>\n  </tbody>\n</table>\n<p>125 rows × 6 columns</p>\n</div>"
     },
     "execution_count": 4,
     "metadata": {},
     "output_type": "execute_result"
    }
   ],
   "source": [
    "#remove the \" character from the dataframe\n",
    "df = df.replace('\"', '', regex=True)\n",
    "df"
   ],
   "metadata": {
    "collapsed": false,
    "ExecuteTime": {
     "end_time": "2024-04-27T11:49:29.973329500Z",
     "start_time": "2024-04-27T11:49:29.955500800Z"
    }
   },
   "id": "53845331e3cfb668",
   "execution_count": 4
  },
  {
   "cell_type": "code",
   "outputs": [],
   "source": [
    "#split the dataframe in two dataframes, one with the columns Greetings and Voicetype and the other with the columns Goodbye and Voicetype\n",
    "Greetings = df[['Greetings', 'Voicetype']]\n",
    "\n",
    "#Drop the rows where Greetings is NaN\n",
    "Greetings = Greetings.dropna(subset=['Greetings'])\n",
    "\n",
    "Goodbyes = df[['Goodbyes', 'Voicetype']]\n",
    "\n",
    "#drop the rows where goodbyes is NaN\n",
    "Goodbyes = Goodbyes.dropna(subset=['Goodbyes'])"
   ],
   "metadata": {
    "collapsed": false,
    "ExecuteTime": {
     "end_time": "2024-04-27T11:49:29.984639400Z",
     "start_time": "2024-04-27T11:49:29.972329500Z"
    }
   },
   "id": "99bd3a69981e35ca",
   "execution_count": 5
  },
  {
   "cell_type": "code",
   "outputs": [
    {
     "data": {
      "text/plain": "                                             Greetings  \\\n0                                                 Hmm?   \n1                                      Need something?   \n2                                                 Yes?   \n3         Ours is to smile at your passing, friend.(F)   \n4    It fills us with rage. What harm does it bring...   \n..                                                 ...   \n120                     You're nothing but trouble.(H)   \n121                             What can I do for you?   \n122                        Oh, did you need something?   \n123                It's a fine day with you around.(F)   \n124   You. Every time I look at you my blood boils.(H)   \n\n                              Voicetype  \n0                     All types of NPCs  \n1                     All types of NPCs  \n2                     All types of NPCs  \n3                          MaleArgonian  \n4                          MaleArgonian  \n..                                  ...  \n120                      MaleYoungEager  \n121  MaleYoungEager or FemaleYoungEager  \n122  MaleYoungEager or FemaleYoungEager  \n123                    FemaleYoungEager  \n124                    FemaleYoungEager  \n\n[118 rows x 2 columns]",
      "text/html": "<div>\n<style scoped>\n    .dataframe tbody tr th:only-of-type {\n        vertical-align: middle;\n    }\n\n    .dataframe tbody tr th {\n        vertical-align: top;\n    }\n\n    .dataframe thead th {\n        text-align: right;\n    }\n</style>\n<table border=\"1\" class=\"dataframe\">\n  <thead>\n    <tr style=\"text-align: right;\">\n      <th></th>\n      <th>Greetings</th>\n      <th>Voicetype</th>\n    </tr>\n  </thead>\n  <tbody>\n    <tr>\n      <th>0</th>\n      <td>Hmm?</td>\n      <td>All types of NPCs</td>\n    </tr>\n    <tr>\n      <th>1</th>\n      <td>Need something?</td>\n      <td>All types of NPCs</td>\n    </tr>\n    <tr>\n      <th>2</th>\n      <td>Yes?</td>\n      <td>All types of NPCs</td>\n    </tr>\n    <tr>\n      <th>3</th>\n      <td>Ours is to smile at your passing, friend.(F)</td>\n      <td>MaleArgonian</td>\n    </tr>\n    <tr>\n      <th>4</th>\n      <td>It fills us with rage. What harm does it bring...</td>\n      <td>MaleArgonian</td>\n    </tr>\n    <tr>\n      <th>...</th>\n      <td>...</td>\n      <td>...</td>\n    </tr>\n    <tr>\n      <th>120</th>\n      <td>You're nothing but trouble.(H)</td>\n      <td>MaleYoungEager</td>\n    </tr>\n    <tr>\n      <th>121</th>\n      <td>What can I do for you?</td>\n      <td>MaleYoungEager or FemaleYoungEager</td>\n    </tr>\n    <tr>\n      <th>122</th>\n      <td>Oh, did you need something?</td>\n      <td>MaleYoungEager or FemaleYoungEager</td>\n    </tr>\n    <tr>\n      <th>123</th>\n      <td>It's a fine day with you around.(F)</td>\n      <td>FemaleYoungEager</td>\n    </tr>\n    <tr>\n      <th>124</th>\n      <td>You. Every time I look at you my blood boils.(H)</td>\n      <td>FemaleYoungEager</td>\n    </tr>\n  </tbody>\n</table>\n<p>118 rows × 2 columns</p>\n</div>"
     },
     "execution_count": 6,
     "metadata": {},
     "output_type": "execute_result"
    }
   ],
   "source": [
    "Greetings"
   ],
   "metadata": {
    "collapsed": false,
    "ExecuteTime": {
     "end_time": "2024-04-27T11:49:29.997008600Z",
     "start_time": "2024-04-27T11:49:29.978638300Z"
    }
   },
   "id": "e073e7aeb6e2b64f",
   "execution_count": 6
  },
  {
   "cell_type": "code",
   "outputs": [
    {
     "data": {
      "text/plain": "                        Goodbyes                               Voicetype\n0               Until next time.                       All types of NPCs\n1                       Hmm hmm.                       All types of NPCs\n2               All right, then.                       All types of NPCs\n19     I'll take my leave, then.      MaleCommander or MaleNordCommander\n33    Now if you'll excuse me...                       MaleCondescending\n46                 Safe travels.                             MaleDarkElf\n53                  Yeah yeah...                               MaleDrunk\n65                     Farewell.  MaleEvenToned or MaleEvenTonedAccented\n72                Swift hunting.                             MaleKhajiit\n75   May you walk on warm sands.            MaleKhajiit or FemaleKhajiit\n78                          Aye.                                MaleNord\n92               Take care, now.                           MaleOldKindly\n98                   Fight well.                                 MaleOrc\n113        It's been a pleasure.                            FemaleSultry\n116              See you around.                            FemaleSultry\n119        I'd better get going.                          MaleYoungEager",
      "text/html": "<div>\n<style scoped>\n    .dataframe tbody tr th:only-of-type {\n        vertical-align: middle;\n    }\n\n    .dataframe tbody tr th {\n        vertical-align: top;\n    }\n\n    .dataframe thead th {\n        text-align: right;\n    }\n</style>\n<table border=\"1\" class=\"dataframe\">\n  <thead>\n    <tr style=\"text-align: right;\">\n      <th></th>\n      <th>Goodbyes</th>\n      <th>Voicetype</th>\n    </tr>\n  </thead>\n  <tbody>\n    <tr>\n      <th>0</th>\n      <td>Until next time.</td>\n      <td>All types of NPCs</td>\n    </tr>\n    <tr>\n      <th>1</th>\n      <td>Hmm hmm.</td>\n      <td>All types of NPCs</td>\n    </tr>\n    <tr>\n      <th>2</th>\n      <td>All right, then.</td>\n      <td>All types of NPCs</td>\n    </tr>\n    <tr>\n      <th>19</th>\n      <td>I'll take my leave, then.</td>\n      <td>MaleCommander or MaleNordCommander</td>\n    </tr>\n    <tr>\n      <th>33</th>\n      <td>Now if you'll excuse me...</td>\n      <td>MaleCondescending</td>\n    </tr>\n    <tr>\n      <th>46</th>\n      <td>Safe travels.</td>\n      <td>MaleDarkElf</td>\n    </tr>\n    <tr>\n      <th>53</th>\n      <td>Yeah yeah...</td>\n      <td>MaleDrunk</td>\n    </tr>\n    <tr>\n      <th>65</th>\n      <td>Farewell.</td>\n      <td>MaleEvenToned or MaleEvenTonedAccented</td>\n    </tr>\n    <tr>\n      <th>72</th>\n      <td>Swift hunting.</td>\n      <td>MaleKhajiit</td>\n    </tr>\n    <tr>\n      <th>75</th>\n      <td>May you walk on warm sands.</td>\n      <td>MaleKhajiit or FemaleKhajiit</td>\n    </tr>\n    <tr>\n      <th>78</th>\n      <td>Aye.</td>\n      <td>MaleNord</td>\n    </tr>\n    <tr>\n      <th>92</th>\n      <td>Take care, now.</td>\n      <td>MaleOldKindly</td>\n    </tr>\n    <tr>\n      <th>98</th>\n      <td>Fight well.</td>\n      <td>MaleOrc</td>\n    </tr>\n    <tr>\n      <th>113</th>\n      <td>It's been a pleasure.</td>\n      <td>FemaleSultry</td>\n    </tr>\n    <tr>\n      <th>116</th>\n      <td>See you around.</td>\n      <td>FemaleSultry</td>\n    </tr>\n    <tr>\n      <th>119</th>\n      <td>I'd better get going.</td>\n      <td>MaleYoungEager</td>\n    </tr>\n  </tbody>\n</table>\n</div>"
     },
     "execution_count": 7,
     "metadata": {},
     "output_type": "execute_result"
    }
   ],
   "source": [
    "Goodbyes"
   ],
   "metadata": {
    "collapsed": false,
    "ExecuteTime": {
     "end_time": "2024-04-27T11:49:30.024024500Z",
     "start_time": "2024-04-27T11:49:29.990007600Z"
    }
   },
   "id": "6e3bedaa8180fc59",
   "execution_count": 7
  },
  {
   "cell_type": "code",
   "outputs": [],
   "source": [
    "#create an new column in the greetings dataframe called Tone \n",
    "Greetings['Tone'] = 'Neutral'\n",
    "\n",
    "# check the rows of the datafram to see if there is a (H) or a (F) in the rows and change the tone to Happy or Formal\n",
    "\n",
    "for index, row in Greetings.iterrows():\n",
    "    if '(H)' in row['Greetings']:\n",
    "        Greetings.at[index, 'Tone'] = 'Hostile'\n",
    "        #remove the (H) from the row\n",
    "        Greetings.at[index, 'Greetings'] = Greetings.at[index, 'Greetings'].replace('(H)', '')\n",
    "    elif '(F)' in row['Greetings']:\n",
    "        Greetings.at[index, 'Tone'] = 'Friendly'\n",
    "        #remove the (F) from the row\n",
    "        Greetings.at[index, 'Greetings'] = Greetings.at[index, 'Greetings'].replace('(F)', '')\n",
    "    "
   ],
   "metadata": {
    "collapsed": false,
    "ExecuteTime": {
     "end_time": "2024-04-27T11:49:30.082754Z",
     "start_time": "2024-04-27T11:49:30.002868600Z"
    }
   },
   "id": "55986540dd9e0b17",
   "execution_count": 8
  },
  {
   "cell_type": "code",
   "outputs": [],
   "source": [
    "    \n",
    "#remove the (H) and (F) from the rows of the Greetings column\n",
    "Greetings['Greetings'] = Greetings['Greetings'].str.replace(r\"\\(H\\)\", \"\")\n"
   ],
   "metadata": {
    "collapsed": false,
    "ExecuteTime": {
     "end_time": "2024-04-27T11:49:30.115138800Z",
     "start_time": "2024-04-27T11:49:30.018107100Z"
    }
   },
   "id": "c803ca7a8c18c816",
   "execution_count": 9
  },
  {
   "cell_type": "code",
   "outputs": [
    {
     "data": {
      "text/plain": "                                             Greetings  \\\n0                                                 Hmm?   \n1                                      Need something?   \n2                                                 Yes?   \n3            Ours is to smile at your passing, friend.   \n4    It fills us with rage. What harm does it bring...   \n..                                                 ...   \n120                        You're nothing but trouble.   \n121                             What can I do for you?   \n122                        Oh, did you need something?   \n123                   It's a fine day with you around.   \n124      You. Every time I look at you my blood boils.   \n\n                              Voicetype      Tone  \n0                     All types of NPCs   Neutral  \n1                     All types of NPCs   Neutral  \n2                     All types of NPCs   Neutral  \n3                          MaleArgonian  Friendly  \n4                          MaleArgonian   Hostile  \n..                                  ...       ...  \n120                      MaleYoungEager   Hostile  \n121  MaleYoungEager or FemaleYoungEager   Neutral  \n122  MaleYoungEager or FemaleYoungEager   Neutral  \n123                    FemaleYoungEager  Friendly  \n124                    FemaleYoungEager   Hostile  \n\n[118 rows x 3 columns]",
      "text/html": "<div>\n<style scoped>\n    .dataframe tbody tr th:only-of-type {\n        vertical-align: middle;\n    }\n\n    .dataframe tbody tr th {\n        vertical-align: top;\n    }\n\n    .dataframe thead th {\n        text-align: right;\n    }\n</style>\n<table border=\"1\" class=\"dataframe\">\n  <thead>\n    <tr style=\"text-align: right;\">\n      <th></th>\n      <th>Greetings</th>\n      <th>Voicetype</th>\n      <th>Tone</th>\n    </tr>\n  </thead>\n  <tbody>\n    <tr>\n      <th>0</th>\n      <td>Hmm?</td>\n      <td>All types of NPCs</td>\n      <td>Neutral</td>\n    </tr>\n    <tr>\n      <th>1</th>\n      <td>Need something?</td>\n      <td>All types of NPCs</td>\n      <td>Neutral</td>\n    </tr>\n    <tr>\n      <th>2</th>\n      <td>Yes?</td>\n      <td>All types of NPCs</td>\n      <td>Neutral</td>\n    </tr>\n    <tr>\n      <th>3</th>\n      <td>Ours is to smile at your passing, friend.</td>\n      <td>MaleArgonian</td>\n      <td>Friendly</td>\n    </tr>\n    <tr>\n      <th>4</th>\n      <td>It fills us with rage. What harm does it bring...</td>\n      <td>MaleArgonian</td>\n      <td>Hostile</td>\n    </tr>\n    <tr>\n      <th>...</th>\n      <td>...</td>\n      <td>...</td>\n      <td>...</td>\n    </tr>\n    <tr>\n      <th>120</th>\n      <td>You're nothing but trouble.</td>\n      <td>MaleYoungEager</td>\n      <td>Hostile</td>\n    </tr>\n    <tr>\n      <th>121</th>\n      <td>What can I do for you?</td>\n      <td>MaleYoungEager or FemaleYoungEager</td>\n      <td>Neutral</td>\n    </tr>\n    <tr>\n      <th>122</th>\n      <td>Oh, did you need something?</td>\n      <td>MaleYoungEager or FemaleYoungEager</td>\n      <td>Neutral</td>\n    </tr>\n    <tr>\n      <th>123</th>\n      <td>It's a fine day with you around.</td>\n      <td>FemaleYoungEager</td>\n      <td>Friendly</td>\n    </tr>\n    <tr>\n      <th>124</th>\n      <td>You. Every time I look at you my blood boils.</td>\n      <td>FemaleYoungEager</td>\n      <td>Hostile</td>\n    </tr>\n  </tbody>\n</table>\n<p>118 rows × 3 columns</p>\n</div>"
     },
     "execution_count": 10,
     "metadata": {},
     "output_type": "execute_result"
    }
   ],
   "source": [
    "Greetings"
   ],
   "metadata": {
    "collapsed": false,
    "ExecuteTime": {
     "end_time": "2024-04-27T11:49:30.120161600Z",
     "start_time": "2024-04-27T11:49:30.026024900Z"
    }
   },
   "id": "6d877786a969b45e",
   "execution_count": 10
  },
  {
   "cell_type": "code",
   "outputs": [
    {
     "data": {
      "text/plain": "False"
     },
     "execution_count": 11,
     "metadata": {},
     "output_type": "execute_result"
    }
   ],
   "source": [
    "#check if there is a null in the voicetype column \n",
    "Greetings['Voicetype'].isnull().values.any()"
   ],
   "metadata": {
    "collapsed": false,
    "ExecuteTime": {
     "end_time": "2024-04-27T11:49:30.121160900Z",
     "start_time": "2024-04-27T11:49:30.036944200Z"
    }
   },
   "id": "77b7be2b810ef82a",
   "execution_count": 11
  },
  {
   "cell_type": "code",
   "outputs": [],
   "source": [
    "# create a json file with this structure \n",
    "# {\n",
    "#     \"Speaker\": Greetings['Voicetype'][0]\n",
    "#     \"Dialogue\": Greetings['Greetings'][0],\n",
    "#     \"Tone\": Greetings['Tone'][0]\n",
    "#     \"Event\": \"Greeting\"\n",
    "#     \"Condition\": null\n",
    "# }\n",
    "\n",
    "# Generate a json file with the structure above\n"
   ],
   "metadata": {
    "collapsed": false,
    "ExecuteTime": {
     "end_time": "2024-04-27T11:49:30.122162Z",
     "start_time": "2024-04-27T11:49:30.046138700Z"
    }
   },
   "id": "551691499bdca101",
   "execution_count": 12
  },
  {
   "cell_type": "code",
   "outputs": [],
   "source": [
    "import json\n",
    "\n",
    "# create a dictionary with the structure above\n",
    "Greetings_data = [\n",
    "    {\n",
    "    \"Speaker\": Greetings['Voicetype'][index],\n",
    "    \"Dialogue\": Greetings['Greetings'][index],\n",
    "    \"Tone\": Greetings['Tone'][index],\n",
    "    \"Event\": \"Greeting\",\n",
    "    \"Condition\": None\n",
    "} for index, row in Greetings.iterrows()]\n",
    "\n",
    "\n",
    "data = Greetings_data\n",
    "    "
   ],
   "metadata": {
    "collapsed": false,
    "ExecuteTime": {
     "end_time": "2024-04-27T11:49:30.170724200Z",
     "start_time": "2024-04-27T11:49:30.053933100Z"
    }
   },
   "id": "c64c37a7308f0294",
   "execution_count": 13
  },
  {
   "cell_type": "code",
   "outputs": [],
   "source": [
    "#do the same with the Goodbyes dataframe\n",
    "Goodbyes_data = [\n",
    "    {\n",
    "    \"Speaker\": Goodbyes['Voicetype'][index],\n",
    "    \"Dialogue\": Goodbyes['Goodbyes'][index],\n",
    "    \"Tone\": None,\n",
    "    \"Event\": \"Goodbye\",\n",
    "    \"Condition\": None\n",
    "} for index, row in Goodbyes.iterrows()]\n",
    "\n",
    "data = data + Goodbyes_data"
   ],
   "metadata": {
    "collapsed": false,
    "ExecuteTime": {
     "end_time": "2024-04-27T11:49:30.215413700Z",
     "start_time": "2024-04-27T11:49:30.071547500Z"
    }
   },
   "id": "264808442aff0f6b",
   "execution_count": 14
  },
  {
   "cell_type": "code",
   "outputs": [],
   "source": [
    "#import the second sheet of the excel file to a dataframe\n",
    "vampire = pd.read_excel('testing_excel.xlsx', sheet_name='Vampire')"
   ],
   "metadata": {
    "collapsed": false,
    "ExecuteTime": {
     "end_time": "2024-04-27T11:49:30.220415300Z",
     "start_time": "2024-04-27T11:49:30.081753800Z"
    }
   },
   "id": "e10ce22525e63faa",
   "execution_count": 15
  },
  {
   "cell_type": "code",
   "outputs": [],
   "source": [
    "#duplicate the rows\n",
    "vampire = vampire.copy()\n",
    "\n",
    "vampire= pd.concat([vampire]*2, ignore_index=True)\n",
    "\n",
    "# Replace the first 8 values of the 'Voicetype' column with the first value\n",
    "vampire.loc[0:7, 'Dialogue'] = vampire['Dialogue'][0]\n",
    "\n",
    "# Replace the next 8 values of the 'Voicetype' column starting from the 8th index with the value at the 8th index\n",
    "vampire.loc[8:15, 'Dialogue'] = vampire['Dialogue'][9]"
   ],
   "metadata": {
    "collapsed": false,
    "ExecuteTime": {
     "end_time": "2024-04-27T11:49:30.238418900Z",
     "start_time": "2024-04-27T11:49:30.117139500Z"
    }
   },
   "id": "49fca74464dcc0b6",
   "execution_count": 16
  },
  {
   "cell_type": "code",
   "outputs": [],
   "source": [
    "#remove the \" character from the dataframe\n",
    "vampire = vampire.replace('\"', '', regex=True)"
   ],
   "metadata": {
    "collapsed": false,
    "ExecuteTime": {
     "end_time": "2024-04-27T11:49:30.269104Z",
     "start_time": "2024-04-27T11:49:30.121160900Z"
    }
   },
   "id": "873732553f7a59e",
   "execution_count": 17
  },
  {
   "cell_type": "code",
   "outputs": [
    {
     "data": {
      "text/plain": "                Voicetype                                           Dialogue\n0            MaleCommoner  Don't like those eyes you got. There's a bad h...\n1    MaleCommonerAccented  Don't like those eyes you got. There's a bad h...\n2          FemaleCommoner  Don't like those eyes you got. There's a bad h...\n3           MaleEvenToned  Don't like those eyes you got. There's a bad h...\n4   MaleEvenTonedAccented  Don't like those eyes you got. There's a bad h...\n5         FemaleEvenToned  Don't like those eyes you got. There's a bad h...\n6                MaleNord  Don't like those eyes you got. There's a bad h...\n7              FemaleNord  Don't like those eyes you got. There's a bad h...\n8            MaleCommoner  Your skin's as pale as the snow. You scared of...\n9    MaleCommonerAccented  Your skin's as pale as the snow. You scared of...\n10         FemaleCommoner  Your skin's as pale as the snow. You scared of...\n11          MaleEvenToned  Your skin's as pale as the snow. You scared of...\n12  MaleEvenTonedAccented  Your skin's as pale as the snow. You scared of...\n13        FemaleEvenToned  Your skin's as pale as the snow. You scared of...\n14               MaleNord  Your skin's as pale as the snow. You scared of...\n15             FemaleNord  Your skin's as pale as the snow. You scared of...",
      "text/html": "<div>\n<style scoped>\n    .dataframe tbody tr th:only-of-type {\n        vertical-align: middle;\n    }\n\n    .dataframe tbody tr th {\n        vertical-align: top;\n    }\n\n    .dataframe thead th {\n        text-align: right;\n    }\n</style>\n<table border=\"1\" class=\"dataframe\">\n  <thead>\n    <tr style=\"text-align: right;\">\n      <th></th>\n      <th>Voicetype</th>\n      <th>Dialogue</th>\n    </tr>\n  </thead>\n  <tbody>\n    <tr>\n      <th>0</th>\n      <td>MaleCommoner</td>\n      <td>Don't like those eyes you got. There's a bad h...</td>\n    </tr>\n    <tr>\n      <th>1</th>\n      <td>MaleCommonerAccented</td>\n      <td>Don't like those eyes you got. There's a bad h...</td>\n    </tr>\n    <tr>\n      <th>2</th>\n      <td>FemaleCommoner</td>\n      <td>Don't like those eyes you got. There's a bad h...</td>\n    </tr>\n    <tr>\n      <th>3</th>\n      <td>MaleEvenToned</td>\n      <td>Don't like those eyes you got. There's a bad h...</td>\n    </tr>\n    <tr>\n      <th>4</th>\n      <td>MaleEvenTonedAccented</td>\n      <td>Don't like those eyes you got. There's a bad h...</td>\n    </tr>\n    <tr>\n      <th>5</th>\n      <td>FemaleEvenToned</td>\n      <td>Don't like those eyes you got. There's a bad h...</td>\n    </tr>\n    <tr>\n      <th>6</th>\n      <td>MaleNord</td>\n      <td>Don't like those eyes you got. There's a bad h...</td>\n    </tr>\n    <tr>\n      <th>7</th>\n      <td>FemaleNord</td>\n      <td>Don't like those eyes you got. There's a bad h...</td>\n    </tr>\n    <tr>\n      <th>8</th>\n      <td>MaleCommoner</td>\n      <td>Your skin's as pale as the snow. You scared of...</td>\n    </tr>\n    <tr>\n      <th>9</th>\n      <td>MaleCommonerAccented</td>\n      <td>Your skin's as pale as the snow. You scared of...</td>\n    </tr>\n    <tr>\n      <th>10</th>\n      <td>FemaleCommoner</td>\n      <td>Your skin's as pale as the snow. You scared of...</td>\n    </tr>\n    <tr>\n      <th>11</th>\n      <td>MaleEvenToned</td>\n      <td>Your skin's as pale as the snow. You scared of...</td>\n    </tr>\n    <tr>\n      <th>12</th>\n      <td>MaleEvenTonedAccented</td>\n      <td>Your skin's as pale as the snow. You scared of...</td>\n    </tr>\n    <tr>\n      <th>13</th>\n      <td>FemaleEvenToned</td>\n      <td>Your skin's as pale as the snow. You scared of...</td>\n    </tr>\n    <tr>\n      <th>14</th>\n      <td>MaleNord</td>\n      <td>Your skin's as pale as the snow. You scared of...</td>\n    </tr>\n    <tr>\n      <th>15</th>\n      <td>FemaleNord</td>\n      <td>Your skin's as pale as the snow. You scared of...</td>\n    </tr>\n  </tbody>\n</table>\n</div>"
     },
     "execution_count": 18,
     "metadata": {},
     "output_type": "execute_result"
    }
   ],
   "source": [
    "vampire"
   ],
   "metadata": {
    "collapsed": false,
    "ExecuteTime": {
     "end_time": "2024-04-27T11:49:30.291563400Z",
     "start_time": "2024-04-27T11:49:30.130770100Z"
    }
   },
   "id": "bd20f162852058c0",
   "execution_count": 18
  },
  {
   "cell_type": "code",
   "outputs": [],
   "source": [
    "# add the vampire dataframe to the json file\n",
    "Vampire_data = [\n",
    "    {\n",
    "    \"Speaker\": vampire['Voicetype'][index],\n",
    "    \"Dialogue\": vampire['Dialogue'][index],\n",
    "    \"Tone\": None,\n",
    "    \"Event\": \"Player is a vampire\",\n",
    "    \"Condition\": None\n",
    "} for index, row in vampire.iterrows()]\n",
    "\n",
    "data = data + Vampire_data"
   ],
   "metadata": {
    "collapsed": false,
    "ExecuteTime": {
     "end_time": "2024-04-27T11:49:30.292563500Z",
     "start_time": "2024-04-27T11:49:30.142186500Z"
    }
   },
   "id": "9bc445e791d9f12c",
   "execution_count": 19
  },
  {
   "cell_type": "code",
   "outputs": [],
   "source": [
    "werewolf = pd.read_excel('testing_excel.xlsx', sheet_name='Werewolf')\n",
    "werewolf = werewolf.replace('\"', '', regex=True)"
   ],
   "metadata": {
    "collapsed": false,
    "ExecuteTime": {
     "end_time": "2024-04-27T11:49:30.337574100Z",
     "start_time": "2024-04-27T11:49:30.149719200Z"
    }
   },
   "id": "810fae084ccb8708",
   "execution_count": 20
  },
  {
   "cell_type": "code",
   "outputs": [
    {
     "data": {
      "text/plain": "                Voicetype                            Dialogue\n0               Any guard                           Werewolf!\n1               Any guard  It's a werewolf! To arms! To arms!\n2               Any guard       By the gods! It..it can't be!\n3            MaleCommoner               Come on! You monster!\n4    MaleCommonerAccented               Come on! You monster!\n5          FemaleCommoner               Come on! You monster!\n6           MaleEvenToned               Come on! You monster!\n7   MaleEvenTonedAccented               Come on! You monster!\n8         FemaleEvenToned               Come on! You monster!\n9                MaleNord               Come on! You monster!\n10             FemaleNord               Come on! You monster!\n11           MaleCommoner              Die, you filthy beast!\n12   MaleCommonerAccented              Die, you filthy beast!\n13         FemaleCommoner              Die, you filthy beast!\n14          MaleEvenToned              Die, you filthy beast!\n15  MaleEvenTonedAccented              Die, you filthy beast!\n16        FemaleEvenToned              Die, you filthy beast!\n17               MaleNord              Die, you filthy beast!\n18             FemaleNord              Die, you filthy beast!\n19           MaleCommoner         Werewolf! Kill the monster!\n20   MaleCommonerAccented         Werewolf! Kill the monster!\n21         FemaleCommoner         Werewolf! Kill the monster!\n22          MaleEvenToned         Werewolf! Kill the monster!\n23  MaleEvenTonedAccented         Werewolf! Kill the monster!\n24        FemaleEvenToned         Werewolf! Kill the monster!\n25               MaleNord         Werewolf! Kill the monster!\n26             FemaleNord         Werewolf! Kill the monster!",
      "text/html": "<div>\n<style scoped>\n    .dataframe tbody tr th:only-of-type {\n        vertical-align: middle;\n    }\n\n    .dataframe tbody tr th {\n        vertical-align: top;\n    }\n\n    .dataframe thead th {\n        text-align: right;\n    }\n</style>\n<table border=\"1\" class=\"dataframe\">\n  <thead>\n    <tr style=\"text-align: right;\">\n      <th></th>\n      <th>Voicetype</th>\n      <th>Dialogue</th>\n    </tr>\n  </thead>\n  <tbody>\n    <tr>\n      <th>0</th>\n      <td>Any guard</td>\n      <td>Werewolf!</td>\n    </tr>\n    <tr>\n      <th>1</th>\n      <td>Any guard</td>\n      <td>It's a werewolf! To arms! To arms!</td>\n    </tr>\n    <tr>\n      <th>2</th>\n      <td>Any guard</td>\n      <td>By the gods! It..it can't be!</td>\n    </tr>\n    <tr>\n      <th>3</th>\n      <td>MaleCommoner</td>\n      <td>Come on! You monster!</td>\n    </tr>\n    <tr>\n      <th>4</th>\n      <td>MaleCommonerAccented</td>\n      <td>Come on! You monster!</td>\n    </tr>\n    <tr>\n      <th>5</th>\n      <td>FemaleCommoner</td>\n      <td>Come on! You monster!</td>\n    </tr>\n    <tr>\n      <th>6</th>\n      <td>MaleEvenToned</td>\n      <td>Come on! You monster!</td>\n    </tr>\n    <tr>\n      <th>7</th>\n      <td>MaleEvenTonedAccented</td>\n      <td>Come on! You monster!</td>\n    </tr>\n    <tr>\n      <th>8</th>\n      <td>FemaleEvenToned</td>\n      <td>Come on! You monster!</td>\n    </tr>\n    <tr>\n      <th>9</th>\n      <td>MaleNord</td>\n      <td>Come on! You monster!</td>\n    </tr>\n    <tr>\n      <th>10</th>\n      <td>FemaleNord</td>\n      <td>Come on! You monster!</td>\n    </tr>\n    <tr>\n      <th>11</th>\n      <td>MaleCommoner</td>\n      <td>Die, you filthy beast!</td>\n    </tr>\n    <tr>\n      <th>12</th>\n      <td>MaleCommonerAccented</td>\n      <td>Die, you filthy beast!</td>\n    </tr>\n    <tr>\n      <th>13</th>\n      <td>FemaleCommoner</td>\n      <td>Die, you filthy beast!</td>\n    </tr>\n    <tr>\n      <th>14</th>\n      <td>MaleEvenToned</td>\n      <td>Die, you filthy beast!</td>\n    </tr>\n    <tr>\n      <th>15</th>\n      <td>MaleEvenTonedAccented</td>\n      <td>Die, you filthy beast!</td>\n    </tr>\n    <tr>\n      <th>16</th>\n      <td>FemaleEvenToned</td>\n      <td>Die, you filthy beast!</td>\n    </tr>\n    <tr>\n      <th>17</th>\n      <td>MaleNord</td>\n      <td>Die, you filthy beast!</td>\n    </tr>\n    <tr>\n      <th>18</th>\n      <td>FemaleNord</td>\n      <td>Die, you filthy beast!</td>\n    </tr>\n    <tr>\n      <th>19</th>\n      <td>MaleCommoner</td>\n      <td>Werewolf! Kill the monster!</td>\n    </tr>\n    <tr>\n      <th>20</th>\n      <td>MaleCommonerAccented</td>\n      <td>Werewolf! Kill the monster!</td>\n    </tr>\n    <tr>\n      <th>21</th>\n      <td>FemaleCommoner</td>\n      <td>Werewolf! Kill the monster!</td>\n    </tr>\n    <tr>\n      <th>22</th>\n      <td>MaleEvenToned</td>\n      <td>Werewolf! Kill the monster!</td>\n    </tr>\n    <tr>\n      <th>23</th>\n      <td>MaleEvenTonedAccented</td>\n      <td>Werewolf! Kill the monster!</td>\n    </tr>\n    <tr>\n      <th>24</th>\n      <td>FemaleEvenToned</td>\n      <td>Werewolf! Kill the monster!</td>\n    </tr>\n    <tr>\n      <th>25</th>\n      <td>MaleNord</td>\n      <td>Werewolf! Kill the monster!</td>\n    </tr>\n    <tr>\n      <th>26</th>\n      <td>FemaleNord</td>\n      <td>Werewolf! Kill the monster!</td>\n    </tr>\n  </tbody>\n</table>\n</div>"
     },
     "execution_count": 21,
     "metadata": {},
     "output_type": "execute_result"
    }
   ],
   "source": [
    "werewolf"
   ],
   "metadata": {
    "collapsed": false,
    "ExecuteTime": {
     "end_time": "2024-04-27T11:49:30.339574200Z",
     "start_time": "2024-04-27T11:49:30.190728900Z"
    }
   },
   "id": "4de40c6810b3ed84",
   "execution_count": 21
  },
  {
   "cell_type": "code",
   "outputs": [],
   "source": [
    "#add the werewolf dataframe to the json file\n",
    "Werewolf_data = [\n",
    "    {\n",
    "    \"Speaker\": werewolf['Voicetype'][index],\n",
    "    \"Dialogue\": werewolf['Dialogue'][index],\n",
    "    \"Tone\": None,\n",
    "    \"Event\": \"Player is a werewolf\",\n",
    "    \"Condition\": \"Player has transformed into a werewolf\"\n",
    "} for index, row in werewolf.iterrows()]\n",
    "\n",
    "data = data + Werewolf_data"
   ],
   "metadata": {
    "collapsed": false,
    "ExecuteTime": {
     "end_time": "2024-04-27T11:49:30.341574600Z",
     "start_time": "2024-04-27T11:49:30.197827300Z"
    }
   },
   "id": "62632bcee8a92d39",
   "execution_count": 22
  },
  {
   "cell_type": "code",
   "outputs": [],
   "source": [
    "#import the Generic_Events sheet\n",
    "\n",
    "generic_events = pd.read_excel('testing_excel.xlsx', sheet_name='Generic_Events')"
   ],
   "metadata": {
    "collapsed": false,
    "ExecuteTime": {
     "end_time": "2024-04-27T11:49:30.393014300Z",
     "start_time": "2024-04-27T11:49:30.208412400Z"
    }
   },
   "id": "db56bda7032482b4",
   "execution_count": 23
  },
  {
   "cell_type": "code",
   "outputs": [],
   "source": [
    "generic_events = generic_events.replace('\"', '', regex=True)"
   ],
   "metadata": {
    "collapsed": false,
    "ExecuteTime": {
     "end_time": "2024-04-27T11:49:30.394658500Z",
     "start_time": "2024-04-27T11:49:30.253606500Z"
    }
   },
   "id": "4408e566648c2e34",
   "execution_count": 24
  },
  {
   "cell_type": "code",
   "outputs": [
    {
     "data": {
      "text/plain": "                  Event                                           Dialogue\n0    Witnessing a theft                                   You dirty thief!\n1    Witnessing a theft                                       Stop, thief!\n2   You are trespassing                 You're not supposed to be in here.\n3   You are trespassing                          Last warning. Leave, now.\n4   You are trespassing  I'm not going to warn you again. Get out, or I...\n..                  ...                                                ...\n89  Witnessing a murder                          Guess they deserved it...\n90  Witnessing a murder                               What's done is done.\n91  Witnessing a murder    Well... that was an unpleasant bit of business.\n92  Witnessing a murder          I didn't know you were so cold-blooded...\n93  Witnessing a murder                   Remind me not to make you angry.\n\n[94 rows x 2 columns]",
      "text/html": "<div>\n<style scoped>\n    .dataframe tbody tr th:only-of-type {\n        vertical-align: middle;\n    }\n\n    .dataframe tbody tr th {\n        vertical-align: top;\n    }\n\n    .dataframe thead th {\n        text-align: right;\n    }\n</style>\n<table border=\"1\" class=\"dataframe\">\n  <thead>\n    <tr style=\"text-align: right;\">\n      <th></th>\n      <th>Event</th>\n      <th>Dialogue</th>\n    </tr>\n  </thead>\n  <tbody>\n    <tr>\n      <th>0</th>\n      <td>Witnessing a theft</td>\n      <td>You dirty thief!</td>\n    </tr>\n    <tr>\n      <th>1</th>\n      <td>Witnessing a theft</td>\n      <td>Stop, thief!</td>\n    </tr>\n    <tr>\n      <th>2</th>\n      <td>You are trespassing</td>\n      <td>You're not supposed to be in here.</td>\n    </tr>\n    <tr>\n      <th>3</th>\n      <td>You are trespassing</td>\n      <td>Last warning. Leave, now.</td>\n    </tr>\n    <tr>\n      <th>4</th>\n      <td>You are trespassing</td>\n      <td>I'm not going to warn you again. Get out, or I...</td>\n    </tr>\n    <tr>\n      <th>...</th>\n      <td>...</td>\n      <td>...</td>\n    </tr>\n    <tr>\n      <th>89</th>\n      <td>Witnessing a murder</td>\n      <td>Guess they deserved it...</td>\n    </tr>\n    <tr>\n      <th>90</th>\n      <td>Witnessing a murder</td>\n      <td>What's done is done.</td>\n    </tr>\n    <tr>\n      <th>91</th>\n      <td>Witnessing a murder</td>\n      <td>Well... that was an unpleasant bit of business.</td>\n    </tr>\n    <tr>\n      <th>92</th>\n      <td>Witnessing a murder</td>\n      <td>I didn't know you were so cold-blooded...</td>\n    </tr>\n    <tr>\n      <th>93</th>\n      <td>Witnessing a murder</td>\n      <td>Remind me not to make you angry.</td>\n    </tr>\n  </tbody>\n</table>\n<p>94 rows × 2 columns</p>\n</div>"
     },
     "execution_count": 25,
     "metadata": {},
     "output_type": "execute_result"
    }
   ],
   "source": [
    "generic_events"
   ],
   "metadata": {
    "collapsed": false,
    "ExecuteTime": {
     "end_time": "2024-04-27T11:49:30.422661Z",
     "start_time": "2024-04-27T11:49:30.259101500Z"
    }
   },
   "id": "d123cb6829afe9d5",
   "execution_count": 25
  },
  {
   "cell_type": "code",
   "outputs": [],
   "source": [
    "#add the generic_events dataframe to the json file\n",
    "\n",
    "Generic_Events_data = [\n",
    "    {\n",
    "    \"Speaker\": \"All NPCs\",\n",
    "    \"Dialogue\": generic_events['Dialogue'][index],\n",
    "    \"Tone\": None,\n",
    "    \"Event\": generic_events['Event'][index],    \n",
    "    \"Condition\": None\n",
    "} for index, row in generic_events.iterrows()]\n",
    "\n",
    "data = data + Generic_Events_data"
   ],
   "metadata": {
    "collapsed": false,
    "ExecuteTime": {
     "end_time": "2024-04-27T11:49:30.423662Z",
     "start_time": "2024-04-27T11:49:30.272778500Z"
    }
   },
   "id": "6ca4a49bd9757cf3",
   "execution_count": 26
  },
  {
   "cell_type": "code",
   "outputs": [],
   "source": [
    "# import the Flames_Girls sheet\n",
    "\n",
    "flames_gifts= pd.read_excel('testing_excel.xlsx', sheet_name='Flames_Gifts')"
   ],
   "metadata": {
    "collapsed": false,
    "ExecuteTime": {
     "end_time": "2024-04-27T11:49:30.515222800Z",
     "start_time": "2024-04-27T11:49:30.284562400Z"
    }
   },
   "id": "59aa006189acd3b2",
   "execution_count": 27
  },
  {
   "cell_type": "code",
   "outputs": [],
   "source": [
    "flames_gifts = flames_gifts.replace('\"', '', regex=True)"
   ],
   "metadata": {
    "collapsed": false,
    "ExecuteTime": {
     "end_time": "2024-04-27T11:49:30.516223400Z",
     "start_time": "2024-04-27T11:49:30.381506400Z"
    }
   },
   "id": "9e3121c382f3dc58",
   "execution_count": 28
  },
  {
   "cell_type": "code",
   "outputs": [],
   "source": [
    "#add the flames_gifts dataframe to the json file\n",
    "Flames_Gifts_data = [\n",
    "    {\n",
    "    \"Speaker\": flames_gifts['Voicetype'][index],\n",
    "    \"Dialogue\": flames_gifts['Dialogue'][index],\n",
    "    \"Tone\": None,\n",
    "    \"Event\": flames_gifts['Event'][index],\n",
    "    \"Condition\": None\n",
    "    } for index, row in flames_gifts.iterrows()]\n",
    "\n",
    "data = data + Flames_Gifts_data"
   ],
   "metadata": {
    "collapsed": false,
    "ExecuteTime": {
     "end_time": "2024-04-27T11:49:30.520224100Z",
     "start_time": "2024-04-27T11:49:30.384012800Z"
    }
   },
   "id": "7e3c41a3021f1d3c",
   "execution_count": 29
  },
  {
   "cell_type": "code",
   "outputs": [],
   "source": [
    "#import the fighting_over_item sheet\n",
    "\n",
    "fighting_over_item = pd.read_excel('testing_excel.xlsx', sheet_name='fighting_over_item')\n",
    "fighting_over_item = fighting_over_item.replace('\"', '', regex=True)"
   ],
   "metadata": {
    "collapsed": false,
    "ExecuteTime": {
     "end_time": "2024-04-27T11:49:30.561032600Z",
     "start_time": "2024-04-27T11:49:30.397655700Z"
    }
   },
   "id": "885d45bccf3f860c",
   "execution_count": 30
  },
  {
   "cell_type": "code",
   "outputs": [],
   "source": [
    "fighting_over_item_data = [\n",
    "    {\n",
    "    \"Speaker\": fighting_over_item['Voicetype'][index],\n",
    "    \"Dialogue\": fighting_over_item['Dialogue'][index],\n",
    "    \"Tone\": None,\n",
    "    \"Event\": fighting_over_item['Event'][index],\n",
    "    \"Speaker_Number\": fighting_over_item['Speaker_Number'][index],\n",
    "    \"Condition\": None\n",
    "    } for index, row in fighting_over_item.iterrows()]\n",
    "\n",
    "data = data + fighting_over_item_data"
   ],
   "metadata": {
    "collapsed": false,
    "ExecuteTime": {
     "end_time": "2024-04-27T11:49:30.562032700Z",
     "start_time": "2024-04-27T11:49:30.435798800Z"
    }
   },
   "id": "23fb80bbce552f64",
   "execution_count": 31
  },
  {
   "cell_type": "code",
   "outputs": [],
   "source": [
    "#read the sheet return&bumping&naked\n",
    "return_bumping_naked = pd.read_excel('testing_excel.xlsx', sheet_name='return&bumping&naked')\n",
    "return_bumping_naked = return_bumping_naked.replace('\"', '', regex=True)"
   ],
   "metadata": {
    "collapsed": false,
    "ExecuteTime": {
     "end_time": "2024-04-27T11:49:30.586536400Z",
     "start_time": "2024-04-27T11:49:30.441981600Z"
    }
   },
   "id": "f4c3051e25122e1f",
   "execution_count": 32
  },
  {
   "cell_type": "code",
   "outputs": [],
   "source": [
    "#add the return_bumping_naked dataframe to the json file\n",
    "return_bumping_naked_data = [\n",
    "    {\n",
    "    \"Speaker\": return_bumping_naked['Voicetype'][index],\n",
    "    \"Dialogue\": return_bumping_naked['Dialogue'][index],\n",
    "    \"Tone\": None,\n",
    "    \"Event\": return_bumping_naked['Event'][index],\n",
    "    \"Condition\": None\n",
    "    } for index, row in return_bumping_naked.iterrows()]\n",
    "\n",
    "data = data + return_bumping_naked_data"
   ],
   "metadata": {
    "collapsed": false,
    "ExecuteTime": {
     "end_time": "2024-04-27T11:49:30.604612500Z",
     "start_time": "2024-04-27T11:49:30.480966200Z"
    }
   },
   "id": "68d725bd6df90268",
   "execution_count": 33
  },
  {
   "cell_type": "code",
   "outputs": [],
   "source": [
    "# read the sheet Asking_armor\n",
    "asking_armor = pd.read_excel('testing_excel.xlsx', sheet_name='Asking_armor')\n",
    "asking_armor = asking_armor.replace('\"', '', regex=True)"
   ],
   "metadata": {
    "collapsed": false,
    "ExecuteTime": {
     "end_time": "2024-04-27T11:49:30.634619Z",
     "start_time": "2024-04-27T11:49:30.490217Z"
    }
   },
   "id": "5940e5e949a732a9",
   "execution_count": 34
  },
  {
   "cell_type": "code",
   "outputs": [],
   "source": [
    "#add the asking_armor dataframe to the json file\n",
    "asking_armor_data = [\n",
    "    {\n",
    "    \"Speaker\": asking_armor['Voicetype'][index],\n",
    "    \"Dialogue\": asking_armor['Dialogue'][index],\n",
    "    \"Tone\": None,\n",
    "    \"Event\": asking_armor['Event'][index],\n",
    "    \"Condition\": None,\n",
    "        \"Response_to\": asking_armor['Response_to'][index]\n",
    "    } for index, row in asking_armor.iterrows()]\n",
    "\n",
    "data = data + asking_armor_data"
   ],
   "metadata": {
    "collapsed": false,
    "ExecuteTime": {
     "end_time": "2024-04-27T11:49:30.652757600Z",
     "start_time": "2024-04-27T11:49:30.528263500Z"
    }
   },
   "id": "46a48f29e1caafa6",
   "execution_count": 35
  },
  {
   "cell_type": "code",
   "outputs": [],
   "source": [
    "#read the sheet Spells&robes\n",
    "spells_robes = pd.read_excel('testing_excel.xlsx', sheet_name='Spells&robes')\n",
    "spells_robes = spells_robes.replace('\"', '', regex=True)"
   ],
   "metadata": {
    "collapsed": false,
    "ExecuteTime": {
     "end_time": "2024-04-27T11:49:30.684765100Z",
     "start_time": "2024-04-27T11:49:30.534026900Z"
    }
   },
   "id": "267fe540b8820b95",
   "execution_count": 36
  },
  {
   "cell_type": "code",
   "outputs": [],
   "source": [
    "#add the spells_robes dataframe to the json file\n",
    "spells_robes_data = [\n",
    "    {\n",
    "    \"Speaker\": spells_robes['Voicetype'][index],\n",
    "    \"Dialogue\": spells_robes['Dialogue'][index],\n",
    "    \"Tone\": None,\n",
    "    \"Event\": spells_robes['Event'][index],\n",
    "    \"Condition\": None\n",
    "    } for index, row in spells_robes.iterrows()]\n",
    "\n",
    "data = data + spells_robes_data"
   ],
   "metadata": {
    "collapsed": false,
    "ExecuteTime": {
     "end_time": "2024-04-27T11:49:30.692622200Z",
     "start_time": "2024-04-27T11:49:30.580535400Z"
    }
   },
   "id": "4b8fb5f332daa75f",
   "execution_count": 37
  },
  {
   "cell_type": "code",
   "outputs": [],
   "source": [
    "#read the sheet Shouting&Corpses\n",
    "shouting_corpses = pd.read_excel('testing_excel.xlsx', sheet_name='Shouting&Corpses')\n",
    "shouting_corpses = shouting_corpses.replace('\"', '', regex=True)"
   ],
   "metadata": {
    "collapsed": false,
    "ExecuteTime": {
     "end_time": "2024-04-27T11:49:30.696624200Z",
     "start_time": "2024-04-27T11:49:30.593610Z"
    }
   },
   "id": "26e033e9f00964c0",
   "execution_count": 38
  },
  {
   "cell_type": "code",
   "outputs": [],
   "source": [
    "#add the shouting_corpses dataframe to the json file\n",
    "shouting_corpses_data = [\n",
    "    {\n",
    "    \"Speaker\": shouting_corpses['Voicetype'][index],\n",
    "    \"Dialogue\": shouting_corpses['Dialogue'][index],\n",
    "    \"Tone\": None,\n",
    "    \"Event\": shouting_corpses['Event'][index],\n",
    "    \"Condition\": None\n",
    "    } for index, row in shouting_corpses.iterrows()]\n",
    "\n",
    "data = data + shouting_corpses_data"
   ],
   "metadata": {
    "collapsed": false,
    "ExecuteTime": {
     "end_time": "2024-04-27T11:49:30.731063400Z",
     "start_time": "2024-04-27T11:49:30.641248100Z"
    }
   },
   "id": "59cf949f1996aa61",
   "execution_count": 39
  },
  {
   "cell_type": "code",
   "outputs": [],
   "source": [
    "#add the sheet combat_dialogue to the json file\n",
    "combat_dialogue = pd.read_excel('testing_excel.xlsx', sheet_name='combat_dialogue')\n",
    "combat_dialogue = combat_dialogue.replace('\"', '', regex=True)"
   ],
   "metadata": {
    "collapsed": false,
    "ExecuteTime": {
     "end_time": "2024-04-27T11:49:30.735064600Z",
     "start_time": "2024-04-27T11:49:30.650758Z"
    }
   },
   "id": "ee872cbb14a0b698",
   "execution_count": 40
  },
  {
   "cell_type": "code",
   "outputs": [],
   "source": [
    "combat_dialogue_data = [\n",
    "    {\n",
    "    \"Speaker\": \"All NPCs\",\n",
    "    \"Dialogue\": combat_dialogue['Dialogue'][index],\n",
    "    \"Tone\": None,\n",
    "    \"Event\": combat_dialogue['Event'][index],\n",
    "    \"Condition\": combat_dialogue['Condition'][index]\n",
    "    } for index, row in combat_dialogue.iterrows()]\n",
    "\n",
    "data = data + combat_dialogue_data"
   ],
   "metadata": {
    "collapsed": false,
    "ExecuteTime": {
     "end_time": "2024-04-27T11:49:30.746083200Z",
     "start_time": "2024-04-27T11:49:30.691621900Z"
    }
   },
   "id": "b27c033f6efeabd5",
   "execution_count": 41
  },
  {
   "cell_type": "code",
   "outputs": [
    {
     "name": "stdout",
     "output_type": "stream",
     "text": [
      "[{'Speaker': 'All types of NPCs', 'Dialogue': 'Hmm?', 'Tone': 'Neutral', 'Event': 'Greeting', 'Condition': None}, {'Speaker': 'All types of NPCs', 'Dialogue': 'Need something?', 'Tone': 'Neutral', 'Event': 'Greeting', 'Condition': None}, {'Speaker': 'All types of NPCs', 'Dialogue': 'Yes?', 'Tone': 'Neutral', 'Event': 'Greeting', 'Condition': None}, {'Speaker': 'MaleArgonian', 'Dialogue': 'Ours is to smile at your passing, friend.', 'Tone': 'Friendly', 'Event': 'Greeting', 'Condition': None}, {'Speaker': 'MaleArgonian', 'Dialogue': 'It fills us with rage. What harm does it bring to us now?', 'Tone': 'Hostile', 'Event': 'Greeting', 'Condition': None}, {'Speaker': 'MaleArgonian or FemaleArgonian', 'Dialogue': 'You have questions?', 'Tone': 'Neutral', 'Event': 'Greeting', 'Condition': None}, {'Speaker': 'MaleArgonian or FemaleArgonian', 'Dialogue': 'Tidings.', 'Tone': 'Neutral', 'Event': 'Greeting', 'Condition': None}, {'Speaker': 'FemaleArgonian', 'Dialogue': 'It is our most favored company.', 'Tone': 'Friendly', 'Event': 'Greeting', 'Condition': None}, {'Speaker': 'FemaleArgonian', 'Dialogue': 'It annoys us. What does it want to take from us now?', 'Tone': 'Hostile', 'Event': 'Greeting', 'Condition': None}, {'Speaker': 'MaleBrute', 'Dialogue': \"You've been a good friend to me. That means something.\", 'Tone': 'Friendly', 'Event': 'Greeting', 'Condition': None}, {'Speaker': 'MaleBrute', 'Dialogue': 'Yeah?', 'Tone': 'Neutral', 'Event': 'Greeting', 'Condition': None}, {'Speaker': 'MaleBrute', 'Dialogue': 'Huh?', 'Tone': 'Neutral', 'Event': 'Greeting', 'Condition': None}, {'Speaker': 'MaleBrute', 'Dialogue': \"I should bash your face in after all you've done.\", 'Tone': 'Hostile', 'Event': 'Greeting', 'Condition': None}, {'Speaker': 'FemaleChild', 'Dialogue': \"You're the best! Can you be my father/mother?\", 'Tone': 'Friendly', 'Event': 'Greeting', 'Condition': None}, {'Speaker': 'FemaleChild', 'Dialogue': \"You're mean. I hate you. I hate you forever and ever and ever.\", 'Tone': 'Hostile', 'Event': 'Greeting', 'Condition': None}, {'Speaker': 'FemaleChild or MaleChild', 'Dialogue': 'Hi there.', 'Tone': 'Neutral', 'Event': 'Greeting', 'Condition': None}, {'Speaker': 'MaleChild', 'Dialogue': 'I bet you could slay one of those mean old dragons. I bet you could do anything.', 'Tone': 'Friendly', 'Event': 'Greeting', 'Condition': None}, {'Speaker': 'MaleChild', 'Dialogue': 'I hope monsters come and eat you.', 'Tone': 'Hostile', 'Event': 'Greeting', 'Condition': None}, {'Speaker': 'MaleCommander or MaleNordCommander', 'Dialogue': 'Good to have you by my side, friend. I need reliable people around.', 'Tone': 'Friendly', 'Event': 'Greeting', 'Condition': None}, {'Speaker': 'MaleCommander or MaleNordCommander', 'Dialogue': \"I don't like talking to someone who holds their honor so cheaply.\", 'Tone': 'Hostile', 'Event': 'Greeting', 'Condition': None}, {'Speaker': 'MaleCommander or MaleNordCommander or FemaleCommander', 'Dialogue': \"I'm waiting.\", 'Tone': 'Neutral', 'Event': 'Greeting', 'Condition': None}, {'Speaker': 'MaleCommander or MaleNordCommander or FemaleCommander', 'Dialogue': 'Out with it.', 'Tone': 'Neutral', 'Event': 'Greeting', 'Condition': None}, {'Speaker': 'FemaleCommander', 'Dialogue': \"You're someone who can get things done. I like that.\", 'Tone': 'Friendly', 'Event': 'Greeting', 'Condition': None}, {'Speaker': 'FemaleCommander', 'Dialogue': 'You have something to say, dog? Something on your mind?', 'Tone': 'Hostile', 'Event': 'Greeting', 'Condition': None}, {'Speaker': 'MaleCommoner or MaleCommonerAccented', 'Dialogue': 'Good to see you again, friend.', 'Tone': 'Friendly', 'Event': 'Greeting', 'Condition': None}, {'Speaker': 'MaleCommoner or MaleCommonerAccented', 'Dialogue': \"What do you want? You've caused enough trouble.\", 'Tone': 'Hostile', 'Event': 'Greeting', 'Condition': None}, {'Speaker': 'MaleCommoner or MaleCommonerAccented or FemaleCommoner', 'Dialogue': 'Good morning/afternoon/evening.', 'Tone': 'Neutral', 'Event': 'Greeting', 'Condition': None}, {'Speaker': 'FemaleCommoner', 'Dialogue': \"Now here's a man/woman I'm glad to see.\", 'Tone': 'Friendly', 'Event': 'Greeting', 'Condition': None}, {'Speaker': 'FemaleCommoner', 'Dialogue': 'You. What do you want?', 'Tone': 'Hostile', 'Event': 'Greeting', 'Condition': None}, {'Speaker': 'MaleCondescending', 'Dialogue': 'Good to see you. Finally someone useful is around.', 'Tone': 'Friendly', 'Event': 'Greeting', 'Condition': None}, {'Speaker': 'MaleCondescending', 'Dialogue': 'Something you need, you miserable wretch?', 'Tone': 'Hostile', 'Event': 'Greeting', 'Condition': None}, {'Speaker': 'Male or FemaleCondescending', 'Dialogue': \"Yes, yes. I haven't got all day...\", 'Tone': 'Neutral', 'Event': 'Greeting', 'Condition': None}, {'Speaker': 'Male or FemaleCondescending', 'Dialogue': 'Speak.', 'Tone': 'Neutral', 'Event': 'Greeting', 'Condition': None}, {'Speaker': 'Male or FemaleCondescending', 'Dialogue': 'Make it quick.', 'Tone': 'Neutral', 'Event': 'Greeting', 'Condition': None}, {'Speaker': 'FemaleCondescending', 'Dialogue': 'Friends like you are hard to find and very valuable to me.', 'Tone': 'Friendly', 'Event': 'Greeting', 'Condition': None}, {'Speaker': 'FemaleCondescending', 'Dialogue': 'Now why would I want to talk to you?', 'Tone': 'Hostile', 'Event': 'Greeting', 'Condition': None}, {'Speaker': 'FemaleCoward', 'Dialogue': \"It's so good to see you again.\", 'Tone': 'Friendly', 'Event': 'Greeting', 'Condition': None}, {'Speaker': 'FemaleCoward', 'Dialogue': \"You! You're going to hurt me again aren't you? Just stay away.\", 'Tone': 'Hostile', 'Event': 'Greeting', 'Condition': None}, {'Speaker': 'FemaleCoward or MaleCoward', 'Dialogue': 'Y...Yes?', 'Tone': 'Neutral', 'Event': 'Greeting', 'Condition': None}, {'Speaker': 'FemaleCoward or MaleCoward', 'Dialogue': 'You want something from me?', 'Tone': 'Neutral', 'Event': 'Greeting', 'Condition': None}, {'Speaker': 'MaleCoward', 'Dialogue': 'Divines bless you. May the ground you walk quake as you pass.', 'Tone': 'Friendly', 'Event': 'Greeting', 'Condition': None}, {'Speaker': 'MaleCoward', 'Dialogue': \"I don't mean you any trouble. Just leave me alone.\", 'Tone': 'Hostile', 'Event': 'Greeting', 'Condition': None}, {'Speaker': 'MaleDarkElf', 'Dialogue': \"Azura's wisdom to you, friend.\", 'Tone': 'Friendly', 'Event': 'Greeting', 'Condition': None}, {'Speaker': 'MaleDarkElf', 'Dialogue': 'Filth. Run to the horizon before I hunt you down.', 'Tone': 'Hostile', 'Event': 'Greeting', 'Condition': None}, {'Speaker': 'MaleDarkElf or FemaleDarkElf', 'Dialogue': 'Yes, sera?', 'Tone': 'Neutral', 'Event': 'Greeting', 'Condition': None}, {'Speaker': 'MaleDarkElf or FemaleDarkElf', 'Dialogue': 'And what might you need? Hmm?', 'Tone': 'Neutral', 'Event': 'Greeting', 'Condition': None}, {'Speaker': 'FemaleDarkElf', 'Dialogue': \"We're one of the same kind, you and I. I'm glad to have met you.\", 'Tone': 'Friendly', 'Event': 'Greeting', 'Condition': None}, {'Speaker': 'FemaleDarkElf', 'Dialogue': \"There are so many delightful ways I've pictured you dead.\", 'Tone': 'Hostile', 'Event': 'Greeting', 'Condition': None}, {'Speaker': 'MaleDrunk', 'Dialogue': \"My favorite drinking buddy. Let's get some mead.\", 'Tone': 'Friendly', 'Event': 'Greeting', 'Condition': None}, {'Speaker': 'MaleDrunk', 'Dialogue': 'What do you want?', 'Tone': 'Neutral', 'Event': 'Greeting', 'Condition': None}, {'Speaker': 'MaleDrunk', 'Dialogue': \"I don't owe you money, do I?\", 'Tone': 'Neutral', 'Event': 'Greeting', 'Condition': None}, {'Speaker': 'MaleDrunk', 'Dialogue': \"What are you starin' at?\", 'Tone': 'Neutral', 'Event': 'Greeting', 'Condition': None}, {'Speaker': 'MaleDrunk', 'Dialogue': 'Gods strike you down.', 'Tone': 'Hostile', 'Event': 'Greeting', 'Condition': None}, {'Speaker': 'FemaleElfHaughty', 'Dialogue': 'So nice to have pleasant company for a change.', 'Tone': 'Friendly', 'Event': 'Greeting', 'Condition': None}, {'Speaker': 'FemaleElfHaughty', 'Dialogue': \"Oh, it's you. I was wondering why I was smelling something unpleasant.\", 'Tone': 'Hostile', 'Event': 'Greeting', 'Condition': None}, {'Speaker': 'FemaleElfHaughty or MaleElfHaughty', 'Dialogue': 'Make it quick.', 'Tone': 'Neutral', 'Event': 'Greeting', 'Condition': None}, {'Speaker': 'FemaleElfHaughty or MaleElfHaughty', 'Dialogue': 'You want something from me?', 'Tone': 'Neutral', 'Event': 'Greeting', 'Condition': None}, {'Speaker': 'FemaleElfHaughty or MaleElfHaughty', 'Dialogue': 'Speak quickly.', 'Tone': 'Neutral', 'Event': 'Greeting', 'Condition': None}, {'Speaker': 'MaleElfHaughty', 'Dialogue': 'There are so few pleasures in life as fine as your company.', 'Tone': 'Friendly', 'Event': 'Greeting', 'Condition': None}, {'Speaker': 'MaleElfHaughty', 'Dialogue': 'Absolutely no time to deal with lowlifes these days. Go away.', 'Tone': 'Hostile', 'Event': 'Greeting', 'Condition': None}, {'Speaker': 'MaleEvenToned or MaleEvenTonedAccented', 'Dialogue': 'Divines smile on you, friend.', 'Tone': 'Friendly', 'Event': 'Greeting', 'Condition': None}, {'Speaker': 'MaleEvenToned or MaleEvenTonedAccented', 'Dialogue': \"You want to talk to me? After everything you've done?\", 'Tone': 'Hostile', 'Event': 'Greeting', 'Condition': None}, {'Speaker': 'MaleEvenToned or MaleEvenTonedAccented or FemaleEvenToned', 'Dialogue': 'What do you need?', 'Tone': 'Neutral', 'Event': 'Greeting', 'Condition': None}, {'Speaker': 'MaleEvenToned or MaleEvenTonedAccented or FemaleEvenToned', 'Dialogue': 'Good morning/afternoon/evening.', 'Tone': 'Neutral', 'Event': 'Greeting', 'Condition': None}, {'Speaker': 'FemaleEvenToned', 'Dialogue': 'What do you need, my friend?', 'Tone': 'Friendly', 'Event': 'Greeting', 'Condition': None}, {'Speaker': 'FemaleEvenToned', 'Dialogue': 'I hope the wilds claim you, one of these days.', 'Tone': 'Hostile', 'Event': 'Greeting', 'Condition': None}, {'Speaker': 'MaleKhajiit', 'Dialogue': 'These sands are cold, but Khajiit feels warmness from your presence.', 'Tone': 'Friendly', 'Event': 'Greeting', 'Condition': None}, {'Speaker': 'MaleKhajiit', 'Dialogue': 'Khajiit wishes for you to go away. You have done us too much harm.', 'Tone': 'Hostile', 'Event': 'Greeting', 'Condition': None}, {'Speaker': 'MaleKhajiit or FemaleKhajiit', 'Dialogue': 'How can I assist, hmm?', 'Tone': 'Neutral', 'Event': 'Greeting', 'Condition': None}, {'Speaker': 'MaleKhajiit or FemaleKhajiit', 'Dialogue': 'This one needs something?', 'Tone': 'Neutral', 'Event': 'Greeting', 'Condition': None}, {'Speaker': 'FemaleKhajiit', 'Dialogue': 'Speak. Khajiit will listen until all the sugars in the world turn sour.', 'Tone': 'Friendly', 'Event': 'Greeting', 'Condition': None}, {'Speaker': 'FemaleKhajiit', 'Dialogue': 'Its scent is foul, unclean. Hurtful.', 'Tone': 'Hostile', 'Event': 'Greeting', 'Condition': None}, {'Speaker': 'MaleNord', 'Dialogue': 'May the gods watch over your battles, friend.', 'Tone': 'Friendly', 'Event': 'Greeting', 'Condition': None}, {'Speaker': 'MaleNord', 'Dialogue': 'What do you want, milk drinker?', 'Tone': 'Hostile', 'Event': 'Greeting', 'Condition': None}, {'Speaker': 'Male or FemaleNord', 'Dialogue': 'Hmph.', 'Tone': 'Neutral', 'Event': 'Greeting', 'Condition': None}, {'Speaker': 'Male or FemaleNord', 'Dialogue': 'Aye.', 'Tone': 'Neutral', 'Event': 'Greeting', 'Condition': None}, {'Speaker': 'Male or FemaleNord', 'Dialogue': 'Yeah?', 'Tone': 'Neutral', 'Event': 'Greeting', 'Condition': None}, {'Speaker': 'FemaleNord', 'Dialogue': 'A fine day to you, friend. May you die with a sword in your hands.', 'Tone': 'Friendly', 'Event': 'Greeting', 'Condition': None}, {'Speaker': 'FemaleNord', 'Dialogue': \"The gods know what you've done.\", 'Tone': 'Hostile', 'Event': 'Greeting', 'Condition': None}, {'Speaker': 'MaleOldGrumpy', 'Dialogue': \"You're not as dumb as you look.\", 'Tone': 'Friendly', 'Event': 'Greeting', 'Condition': None}, {'Speaker': 'MaleOldGrumpy', 'Dialogue': \"Leave me alone. Can't an old man have some peace?\", 'Tone': 'Hostile', 'Event': 'Greeting', 'Condition': None}, {'Speaker': 'MaleOldGrumpy or FemaleNord', 'Dialogue': \"Come, come. I haven't got all day.\", 'Tone': 'Neutral', 'Event': 'Greeting', 'Condition': None}, {'Speaker': 'MaleOldGrumpy or FemaleNord', 'Dialogue': 'Make it quick.', 'Tone': 'Neutral', 'Event': 'Greeting', 'Condition': None}, {'Speaker': 'MaleOldGrumpy or FemaleNord', 'Dialogue': \"Let's hear it.\", 'Tone': 'Neutral', 'Event': 'Greeting', 'Condition': None}, {'Speaker': 'FemaleOldGrumpy', 'Dialogue': 'Well, look at you. If only everyone acted like you did.', 'Tone': 'Friendly', 'Event': 'Greeting', 'Condition': None}, {'Speaker': 'FemaleOldGrumpy', 'Dialogue': 'Here to shame an old woman? Leave me be.', 'Tone': 'Hostile', 'Event': 'Greeting', 'Condition': None}, {'Speaker': 'MaleOldKindly', 'Dialogue': 'Good to see Skyrim still has such fine people. You give an old man hope.', 'Tone': 'Friendly', 'Event': 'Greeting', 'Condition': None}, {'Speaker': 'MaleOldKindly', 'Dialogue': 'Just looking at you makes me upset.', 'Tone': 'Hostile', 'Event': 'Greeting', 'Condition': None}, {'Speaker': 'MaleOldKindly or FemaleOldKindly', 'Dialogue': 'Well hello.', 'Tone': 'Neutral', 'Event': 'Greeting', 'Condition': None}, {'Speaker': 'FemaleOldKindly', 'Dialogue': 'I hope your parents are proud of you. They have a lot of reason to be.', 'Tone': 'Friendly', 'Event': 'Greeting', 'Condition': None}, {'Speaker': 'FemaleOldKindly', 'Dialogue': \"You're just rotten. No good.\", 'Tone': 'Hostile', 'Event': 'Greeting', 'Condition': None}, {'Speaker': 'MaleOrc', 'Dialogue': 'May your next fight bring you victory, friend.', 'Tone': 'Friendly', 'Event': 'Greeting', 'Condition': None}, {'Speaker': 'MaleOrc', 'Dialogue': 'What do you want?', 'Tone': 'Neutral', 'Event': 'Greeting', 'Condition': None}, {'Speaker': 'MaleOrc', 'Dialogue': \"What're you lookin' at?\", 'Tone': 'Neutral', 'Event': 'Greeting', 'Condition': None}, {'Speaker': 'MaleOrc', 'Dialogue': \"What do you want? Aren't your hands coated with enough blood?\", 'Tone': 'Hostile', 'Event': 'Greeting', 'Condition': None}, {'Speaker': 'MaleOrc or FemaleOrc', 'Dialogue': 'What now...', 'Tone': 'Neutral', 'Event': 'Greeting', 'Condition': None}, {'Speaker': 'MaleOrc or FemaleOrc', 'Dialogue': 'This better be good...', 'Tone': 'Neutral', 'Event': 'Greeting', 'Condition': None}, {'Speaker': 'FemaleOrc', 'Dialogue': 'May your weapons be sharp and your prey fresh.', 'Tone': 'Friendly', 'Event': 'Greeting', 'Condition': None}, {'Speaker': 'FemaleOrc', 'Dialogue': 'For your crimes, may Malacath boil your blood and grind your bones.', 'Tone': 'Hostile', 'Event': 'Greeting', 'Condition': None}, {'Speaker': 'FemaleShrill', 'Dialogue': 'Good to see you. At least you know how to treat someone properly.', 'Tone': 'Friendly', 'Event': 'Greeting', 'Condition': None}, {'Speaker': 'FemaleShrill', 'Dialogue': 'Yeah? What?', 'Tone': 'Neutral', 'Event': 'Greeting', 'Condition': None}, {'Speaker': 'FemaleShrill', 'Dialogue': 'Worthless. Everyone like you is completely worthless.', 'Tone': 'Hostile', 'Event': 'Greeting', 'Condition': None}, {'Speaker': 'MaleSlyCynical', 'Dialogue': \"You and me, we're the only people around who aren't complete fools.\", 'Tone': 'Friendly', 'Event': 'Greeting', 'Condition': None}, {'Speaker': 'MaleSlyCynical', 'Dialogue': \"Got somethin' to say?\", 'Tone': 'Neutral', 'Event': 'Greeting', 'Condition': None}, {'Speaker': 'MaleSlyCynical', 'Dialogue': \"I'm all ears.\", 'Tone': 'Neutral', 'Event': 'Greeting', 'Condition': None}, {'Speaker': 'MaleSlyCynical', 'Dialogue': \"I've had just about all I'm willing to take from you. What is it?\", 'Tone': 'Hostile', 'Event': 'Greeting', 'Condition': None}, {'Speaker': 'FemaleSultry', 'Dialogue': \"It's so good to see you again.\", 'Tone': 'Friendly', 'Event': 'Greeting', 'Condition': None}, {'Speaker': 'FemaleSultry', 'Dialogue': 'What do you need, handsome?', 'Tone': 'Neutral', 'Event': 'Greeting', 'Condition': None}, {'Speaker': 'FemaleSultry', 'Dialogue': 'Is there... something I can do for you?', 'Tone': 'Neutral', 'Event': 'Greeting', 'Condition': None}, {'Speaker': 'FemaleSultry', 'Dialogue': 'Hi there.', 'Tone': 'Neutral', 'Event': 'Greeting', 'Condition': None}, {'Speaker': 'FemaleSultry', 'Dialogue': 'What can I do for you?', 'Tone': 'Neutral', 'Event': 'Greeting', 'Condition': None}, {'Speaker': 'FemaleSultry', 'Dialogue': 'Every time I think of you, I imagine a Saber Cat closing its claws around your face.', 'Tone': 'Hostile', 'Event': 'Greeting', 'Condition': None}, {'Speaker': 'MaleYoungEager', 'Dialogue': 'Good day, friend! Keeping well?', 'Tone': 'Friendly', 'Event': 'Greeting', 'Condition': None}, {'Speaker': 'MaleYoungEager', 'Dialogue': \"You're nothing but trouble.\", 'Tone': 'Hostile', 'Event': 'Greeting', 'Condition': None}, {'Speaker': 'MaleYoungEager or FemaleYoungEager', 'Dialogue': 'What can I do for you?', 'Tone': 'Neutral', 'Event': 'Greeting', 'Condition': None}, {'Speaker': 'MaleYoungEager or FemaleYoungEager', 'Dialogue': 'Oh, did you need something?', 'Tone': 'Neutral', 'Event': 'Greeting', 'Condition': None}, {'Speaker': 'FemaleYoungEager', 'Dialogue': \"It's a fine day with you around.\", 'Tone': 'Friendly', 'Event': 'Greeting', 'Condition': None}, {'Speaker': 'FemaleYoungEager', 'Dialogue': 'You. Every time I look at you my blood boils.', 'Tone': 'Hostile', 'Event': 'Greeting', 'Condition': None}, {'Speaker': 'All types of NPCs', 'Dialogue': 'Until next time.', 'Tone': None, 'Event': 'Goodbye', 'Condition': None}, {'Speaker': 'All types of NPCs', 'Dialogue': 'Hmm hmm.', 'Tone': None, 'Event': 'Goodbye', 'Condition': None}, {'Speaker': 'All types of NPCs', 'Dialogue': 'All right, then.', 'Tone': None, 'Event': 'Goodbye', 'Condition': None}, {'Speaker': 'MaleCommander or MaleNordCommander', 'Dialogue': \"I'll take my leave, then.\", 'Tone': None, 'Event': 'Goodbye', 'Condition': None}, {'Speaker': 'MaleCondescending', 'Dialogue': \"Now if you'll excuse me...\", 'Tone': None, 'Event': 'Goodbye', 'Condition': None}, {'Speaker': 'MaleDarkElf', 'Dialogue': 'Safe travels.', 'Tone': None, 'Event': 'Goodbye', 'Condition': None}, {'Speaker': 'MaleDrunk', 'Dialogue': 'Yeah yeah...', 'Tone': None, 'Event': 'Goodbye', 'Condition': None}, {'Speaker': 'MaleEvenToned or MaleEvenTonedAccented', 'Dialogue': 'Farewell.', 'Tone': None, 'Event': 'Goodbye', 'Condition': None}, {'Speaker': 'MaleKhajiit', 'Dialogue': 'Swift hunting.', 'Tone': None, 'Event': 'Goodbye', 'Condition': None}, {'Speaker': 'MaleKhajiit or FemaleKhajiit', 'Dialogue': 'May you walk on warm sands.', 'Tone': None, 'Event': 'Goodbye', 'Condition': None}, {'Speaker': 'MaleNord', 'Dialogue': 'Aye.', 'Tone': None, 'Event': 'Goodbye', 'Condition': None}, {'Speaker': 'MaleOldKindly', 'Dialogue': 'Take care, now.', 'Tone': None, 'Event': 'Goodbye', 'Condition': None}, {'Speaker': 'MaleOrc', 'Dialogue': 'Fight well.', 'Tone': None, 'Event': 'Goodbye', 'Condition': None}, {'Speaker': 'FemaleSultry', 'Dialogue': \"It's been a pleasure.\", 'Tone': None, 'Event': 'Goodbye', 'Condition': None}, {'Speaker': 'FemaleSultry', 'Dialogue': 'See you around.', 'Tone': None, 'Event': 'Goodbye', 'Condition': None}, {'Speaker': 'MaleYoungEager', 'Dialogue': \"I'd better get going.\", 'Tone': None, 'Event': 'Goodbye', 'Condition': None}, {'Speaker': 'MaleCommoner', 'Dialogue': \"Don't like those eyes you got. There's a bad hunger to them.\", 'Tone': None, 'Event': 'Player is a vampire', 'Condition': None}, {'Speaker': 'MaleCommonerAccented', 'Dialogue': \"Don't like those eyes you got. There's a bad hunger to them.\", 'Tone': None, 'Event': 'Player is a vampire', 'Condition': None}, {'Speaker': 'FemaleCommoner', 'Dialogue': \"Don't like those eyes you got. There's a bad hunger to them.\", 'Tone': None, 'Event': 'Player is a vampire', 'Condition': None}, {'Speaker': 'MaleEvenToned', 'Dialogue': \"Don't like those eyes you got. There's a bad hunger to them.\", 'Tone': None, 'Event': 'Player is a vampire', 'Condition': None}, {'Speaker': 'MaleEvenTonedAccented', 'Dialogue': \"Don't like those eyes you got. There's a bad hunger to them.\", 'Tone': None, 'Event': 'Player is a vampire', 'Condition': None}, {'Speaker': 'FemaleEvenToned', 'Dialogue': \"Don't like those eyes you got. There's a bad hunger to them.\", 'Tone': None, 'Event': 'Player is a vampire', 'Condition': None}, {'Speaker': 'MaleNord', 'Dialogue': \"Don't like those eyes you got. There's a bad hunger to them.\", 'Tone': None, 'Event': 'Player is a vampire', 'Condition': None}, {'Speaker': 'FemaleNord', 'Dialogue': \"Don't like those eyes you got. There's a bad hunger to them.\", 'Tone': None, 'Event': 'Player is a vampire', 'Condition': None}, {'Speaker': 'MaleCommoner', 'Dialogue': \"Your skin's as pale as the snow. You scared of sunlight, or something?\", 'Tone': None, 'Event': 'Player is a vampire', 'Condition': None}, {'Speaker': 'MaleCommonerAccented', 'Dialogue': \"Your skin's as pale as the snow. You scared of sunlight, or something?\", 'Tone': None, 'Event': 'Player is a vampire', 'Condition': None}, {'Speaker': 'FemaleCommoner', 'Dialogue': \"Your skin's as pale as the snow. You scared of sunlight, or something?\", 'Tone': None, 'Event': 'Player is a vampire', 'Condition': None}, {'Speaker': 'MaleEvenToned', 'Dialogue': \"Your skin's as pale as the snow. You scared of sunlight, or something?\", 'Tone': None, 'Event': 'Player is a vampire', 'Condition': None}, {'Speaker': 'MaleEvenTonedAccented', 'Dialogue': \"Your skin's as pale as the snow. You scared of sunlight, or something?\", 'Tone': None, 'Event': 'Player is a vampire', 'Condition': None}, {'Speaker': 'FemaleEvenToned', 'Dialogue': \"Your skin's as pale as the snow. You scared of sunlight, or something?\", 'Tone': None, 'Event': 'Player is a vampire', 'Condition': None}, {'Speaker': 'MaleNord', 'Dialogue': \"Your skin's as pale as the snow. You scared of sunlight, or something?\", 'Tone': None, 'Event': 'Player is a vampire', 'Condition': None}, {'Speaker': 'FemaleNord', 'Dialogue': \"Your skin's as pale as the snow. You scared of sunlight, or something?\", 'Tone': None, 'Event': 'Player is a vampire', 'Condition': None}, {'Speaker': 'Any guard', 'Dialogue': 'Werewolf!', 'Tone': None, 'Event': 'Player is a werewolf', 'Condition': 'Player has transformed into a werewolf'}, {'Speaker': 'Any guard', 'Dialogue': \"It's a werewolf! To arms! To arms!\", 'Tone': None, 'Event': 'Player is a werewolf', 'Condition': 'Player has transformed into a werewolf'}, {'Speaker': 'Any guard', 'Dialogue': \"By the gods! It..it can't be!\", 'Tone': None, 'Event': 'Player is a werewolf', 'Condition': 'Player has transformed into a werewolf'}, {'Speaker': 'MaleCommoner', 'Dialogue': 'Come on! You monster!', 'Tone': None, 'Event': 'Player is a werewolf', 'Condition': 'Player has transformed into a werewolf'}, {'Speaker': 'MaleCommonerAccented', 'Dialogue': 'Come on! You monster!', 'Tone': None, 'Event': 'Player is a werewolf', 'Condition': 'Player has transformed into a werewolf'}, {'Speaker': 'FemaleCommoner', 'Dialogue': 'Come on! You monster!', 'Tone': None, 'Event': 'Player is a werewolf', 'Condition': 'Player has transformed into a werewolf'}, {'Speaker': 'MaleEvenToned', 'Dialogue': 'Come on! You monster!', 'Tone': None, 'Event': 'Player is a werewolf', 'Condition': 'Player has transformed into a werewolf'}, {'Speaker': 'MaleEvenTonedAccented', 'Dialogue': 'Come on! You monster!', 'Tone': None, 'Event': 'Player is a werewolf', 'Condition': 'Player has transformed into a werewolf'}, {'Speaker': 'FemaleEvenToned', 'Dialogue': 'Come on! You monster!', 'Tone': None, 'Event': 'Player is a werewolf', 'Condition': 'Player has transformed into a werewolf'}, {'Speaker': 'MaleNord', 'Dialogue': 'Come on! You monster!', 'Tone': None, 'Event': 'Player is a werewolf', 'Condition': 'Player has transformed into a werewolf'}, {'Speaker': 'FemaleNord', 'Dialogue': 'Come on! You monster!', 'Tone': None, 'Event': 'Player is a werewolf', 'Condition': 'Player has transformed into a werewolf'}, {'Speaker': 'MaleCommoner', 'Dialogue': 'Die, you filthy beast!', 'Tone': None, 'Event': 'Player is a werewolf', 'Condition': 'Player has transformed into a werewolf'}, {'Speaker': 'MaleCommonerAccented', 'Dialogue': 'Die, you filthy beast!', 'Tone': None, 'Event': 'Player is a werewolf', 'Condition': 'Player has transformed into a werewolf'}, {'Speaker': 'FemaleCommoner', 'Dialogue': 'Die, you filthy beast!', 'Tone': None, 'Event': 'Player is a werewolf', 'Condition': 'Player has transformed into a werewolf'}, {'Speaker': 'MaleEvenToned', 'Dialogue': 'Die, you filthy beast!', 'Tone': None, 'Event': 'Player is a werewolf', 'Condition': 'Player has transformed into a werewolf'}, {'Speaker': 'MaleEvenTonedAccented', 'Dialogue': 'Die, you filthy beast!', 'Tone': None, 'Event': 'Player is a werewolf', 'Condition': 'Player has transformed into a werewolf'}, {'Speaker': 'FemaleEvenToned', 'Dialogue': 'Die, you filthy beast!', 'Tone': None, 'Event': 'Player is a werewolf', 'Condition': 'Player has transformed into a werewolf'}, {'Speaker': 'MaleNord', 'Dialogue': 'Die, you filthy beast!', 'Tone': None, 'Event': 'Player is a werewolf', 'Condition': 'Player has transformed into a werewolf'}, {'Speaker': 'FemaleNord', 'Dialogue': 'Die, you filthy beast!', 'Tone': None, 'Event': 'Player is a werewolf', 'Condition': 'Player has transformed into a werewolf'}, {'Speaker': 'MaleCommoner', 'Dialogue': 'Werewolf! Kill the monster!', 'Tone': None, 'Event': 'Player is a werewolf', 'Condition': 'Player has transformed into a werewolf'}, {'Speaker': 'MaleCommonerAccented', 'Dialogue': 'Werewolf! Kill the monster!', 'Tone': None, 'Event': 'Player is a werewolf', 'Condition': 'Player has transformed into a werewolf'}, {'Speaker': 'FemaleCommoner', 'Dialogue': 'Werewolf! Kill the monster!', 'Tone': None, 'Event': 'Player is a werewolf', 'Condition': 'Player has transformed into a werewolf'}, {'Speaker': 'MaleEvenToned', 'Dialogue': 'Werewolf! Kill the monster!', 'Tone': None, 'Event': 'Player is a werewolf', 'Condition': 'Player has transformed into a werewolf'}, {'Speaker': 'MaleEvenTonedAccented', 'Dialogue': 'Werewolf! Kill the monster!', 'Tone': None, 'Event': 'Player is a werewolf', 'Condition': 'Player has transformed into a werewolf'}, {'Speaker': 'FemaleEvenToned', 'Dialogue': 'Werewolf! Kill the monster!', 'Tone': None, 'Event': 'Player is a werewolf', 'Condition': 'Player has transformed into a werewolf'}, {'Speaker': 'MaleNord', 'Dialogue': 'Werewolf! Kill the monster!', 'Tone': None, 'Event': 'Player is a werewolf', 'Condition': 'Player has transformed into a werewolf'}, {'Speaker': 'FemaleNord', 'Dialogue': 'Werewolf! Kill the monster!', 'Tone': None, 'Event': 'Player is a werewolf', 'Condition': 'Player has transformed into a werewolf'}, {'Speaker': 'All NPCs', 'Dialogue': 'You dirty thief!', 'Tone': None, 'Event': 'Witnessing a theft', 'Condition': None}, {'Speaker': 'All NPCs', 'Dialogue': 'Stop, thief!', 'Tone': None, 'Event': 'Witnessing a theft', 'Condition': None}, {'Speaker': 'All NPCs', 'Dialogue': \"You're not supposed to be in here.\", 'Tone': None, 'Event': 'You are trespassing', 'Condition': None}, {'Speaker': 'All NPCs', 'Dialogue': 'Last warning. Leave, now.', 'Tone': None, 'Event': 'You are trespassing', 'Condition': None}, {'Speaker': 'All NPCs', 'Dialogue': \"I'm not going to warn you again. Get out, or I'll call the guards!\", 'Tone': None, 'Event': 'You are trespassing', 'Condition': None}, {'Speaker': 'All NPCs', 'Dialogue': \"You're trespassing here. You'd better clear out.\", 'Tone': None, 'Event': 'You are trespassing', 'Condition': None}, {'Speaker': 'All NPCs', 'Dialogue': \"Can't a man have a bit of privacy? Get out of here!\", 'Tone': None, 'Event': 'You are trespassing', 'Condition': None}, {'Speaker': 'All NPCs', 'Dialogue': \"Can't a woman get a moment to herself? Leave me!\", 'Tone': None, 'Event': 'You are trespassing', 'Condition': None}, {'Speaker': 'All NPCs', 'Dialogue': 'Guards! Trespasser!', 'Tone': None, 'Event': 'You are trespassing', 'Condition': None}, {'Speaker': 'All NPCs', 'Dialogue': \"This is the last time I'll say it. Get out.\", 'Tone': None, 'Event': 'You are trespassing', 'Condition': None}, {'Speaker': 'All NPCs', 'Dialogue': \"It's time for you to leave, my friend.\", 'Tone': None, 'Event': 'You are trespassing', 'Condition': None}, {'Speaker': 'All NPCs', 'Dialogue': 'You, of all people. Get out!', 'Tone': None, 'Event': 'You are trespassing', 'Condition': None}, {'Speaker': 'All NPCs', 'Dialogue': \"You're not supposed to be here...\", 'Tone': None, 'Event': 'You are trespassing', 'Condition': None}, {'Speaker': 'All NPCs', 'Dialogue': \"What do you think you're doing?\", 'Tone': None, 'Event': 'Knocking an object', 'Condition': None}, {'Speaker': 'All NPCs', 'Dialogue': \"Watch what you're doing.\", 'Tone': None, 'Event': 'Knocking an object', 'Condition': None}, {'Speaker': 'All NPCs', 'Dialogue': 'You could have just asked.', 'Tone': None, 'Event': 'Witnessing you take an owned object', 'Condition': None}, {'Speaker': 'All NPCs', 'Dialogue': 'I saw you do that, you know.', 'Tone': None, 'Event': 'Witnessing you take an owned object', 'Condition': None}, {'Speaker': 'All NPCs', 'Dialogue': \"Don't do that.\", 'Tone': None, 'Event': 'Grabbing an object', 'Condition': None}, {'Speaker': 'All NPCs', 'Dialogue': 'What are you doing that for?', 'Tone': None, 'Event': 'Grabbing an object', 'Condition': None}, {'Speaker': 'All NPCs', 'Dialogue': 'Put that down.', 'Tone': None, 'Event': 'Grabbing an object', 'Condition': None}, {'Speaker': 'All NPCs', 'Dialogue': 'Careful with that.', 'Tone': None, 'Event': 'Grabbing an object', 'Condition': None}, {'Speaker': 'All NPCs', 'Dialogue': 'Be careful!', 'Tone': None, 'Event': 'Seeing you swing a weapon', 'Condition': None}, {'Speaker': 'All NPCs', 'Dialogue': 'Hey, watch it!', 'Tone': None, 'Event': 'Seeing you swing a weapon', 'Condition': None}, {'Speaker': 'All NPCs', 'Dialogue': 'You mind swinging that somewhere else?', 'Tone': None, 'Event': 'Seeing you swing a weapon', 'Condition': None}, {'Speaker': 'All NPCs', 'Dialogue': \"Don't even think about it.\", 'Tone': None, 'Event': 'Catching you sneaking', 'Condition': None}, {'Speaker': 'All NPCs', 'Dialogue': 'Get away from me.', 'Tone': None, 'Event': 'Catching you sneaking', 'Condition': None}, {'Speaker': 'All NPCs', 'Dialogue': 'Keep your hands to yourself.', 'Tone': None, 'Event': 'Catching you sneaking', 'Condition': None}, {'Speaker': 'All NPCs', 'Dialogue': 'You remind me of the Shadowscales, from the old histories.', 'Tone': None, 'Event': 'Catching you sneaking', 'Condition': None}, {'Speaker': 'All NPCs', 'Dialogue': \"It will keep it's hands to itself, yes?\", 'Tone': None, 'Event': 'Catching you sneaking', 'Condition': None}, {'Speaker': 'All NPCs', 'Dialogue': \"Umm... are you in trouble? Is that why you're hiding like that?\", 'Tone': None, 'Event': 'Catching you sneaking', 'Condition': None}, {'Speaker': 'All NPCs', 'Dialogue': \"I hope you're not planning on picking my pocket.\", 'Tone': None, 'Event': 'Catching you sneaking', 'Condition': None}, {'Speaker': 'All NPCs', 'Dialogue': 'What? Why are you skulking about like that?', 'Tone': None, 'Event': 'Catching you sneaking', 'Condition': None}, {'Speaker': 'All NPCs', 'Dialogue': 'Look at you, up to no good.', 'Tone': None, 'Event': 'Catching you sneaking', 'Condition': None}, {'Speaker': 'All NPCs', 'Dialogue': 'Are you playing hide and seek?', 'Tone': None, 'Event': 'Catching you sneaking', 'Condition': None}, {'Speaker': 'All NPCs', 'Dialogue': \"I trust you aren't considering any... thievery.\", 'Tone': None, 'Event': 'Catching you sneaking', 'Condition': None}, {'Speaker': 'All NPCs', 'Dialogue': \"You're not a thief trying to rob me, right?\", 'Tone': None, 'Event': 'Catching you sneaking', 'Condition': None}, {'Speaker': 'All NPCs', 'Dialogue': \"You trying to hide? 'Cause I can see you plain as day.\", 'Tone': None, 'Event': 'Catching you sneaking', 'Condition': None}, {'Speaker': 'All NPCs', 'Dialogue': \"You're a bad sneak. You're not creeping up on anybody like that.\", 'Tone': None, 'Event': 'Catching you sneaking', 'Condition': None}, {'Speaker': 'All NPCs', 'Dialogue': 'You, my friend, need practice...', 'Tone': None, 'Event': 'Catching you sneaking', 'Condition': None}, {'Speaker': 'All NPCs', 'Dialogue': 'Hands off.', 'Tone': None, 'Event': 'You are near a locked object', 'Condition': None}, {'Speaker': 'All NPCs', 'Dialogue': 'Stay away from that.', 'Tone': None, 'Event': 'You are near a locked object', 'Condition': None}, {'Speaker': 'All NPCs', 'Dialogue': \"It's locked for a reason.\", 'Tone': None, 'Event': 'You are near a locked object', 'Condition': None}, {'Speaker': 'All NPCs', 'Dialogue': 'Leave that dog alone!', 'Tone': None, 'Event': 'Attacking a dog', 'Condition': None}, {'Speaker': 'All NPCs', 'Dialogue': \"Hey, that's a valuable animal!\", 'Tone': None, 'Event': 'Attacking a horse, chicken or cow', 'Condition': None}, {'Speaker': 'All NPCs', 'Dialogue': 'Think you can steal from me?', 'Tone': None, 'Event': 'Catching you pickpocketing', 'Condition': None}, {'Speaker': 'All NPCs', 'Dialogue': \"Oh no you don't!\", 'Tone': None, 'Event': 'Catching you pickpocketing', 'Condition': None}, {'Speaker': 'All NPCs', 'Dialogue': 'You little thief!', 'Tone': None, 'Event': 'Catching you pickpocketing', 'Condition': None}, {'Speaker': 'All NPCs', 'Dialogue': 'Why you...', 'Tone': None, 'Event': 'Catching you pickpocketing', 'Condition': None}, {'Speaker': 'All NPCs', 'Dialogue': \"You're not getting anything from me!\", 'Tone': None, 'Event': 'Catching you pickpocketing', 'Condition': None}, {'Speaker': 'All NPCs', 'Dialogue': 'Nice try, fat-fingers!', 'Tone': None, 'Event': 'Catching you pickpocketing', 'Condition': None}, {'Speaker': 'All NPCs', 'Dialogue': 'You dare try and steal from me?', 'Tone': None, 'Event': 'Catching you pickpocketing', 'Condition': None}, {'Speaker': 'All NPCs', 'Dialogue': 'Get back, thief!', 'Tone': None, 'Event': 'Catching you pickpocketing', 'Condition': None}, {'Speaker': 'All NPCs', 'Dialogue': 'Filthy pickpocket!', 'Tone': None, 'Event': 'Catching you pickpocketing', 'Condition': None}, {'Speaker': 'All NPCs', 'Dialogue': \"Pickpocket! We've got a pickpocket!\", 'Tone': None, 'Event': 'Catching you pickpocketing', 'Condition': None}, {'Speaker': 'All NPCs', 'Dialogue': 'You little wretch, I saw that!', 'Tone': None, 'Event': 'Catching you pickpocketing', 'Condition': None}, {'Speaker': 'All NPCs', 'Dialogue': 'Hey! Hands off!', 'Tone': None, 'Event': 'Catching you stealing', 'Condition': None}, {'Speaker': 'All NPCs', 'Dialogue': \"Hey, that isn't yours!\", 'Tone': None, 'Event': 'Catching you stealing', 'Condition': None}, {'Speaker': 'All NPCs', 'Dialogue': 'I saw you steal that!', 'Tone': None, 'Event': 'Catching you stealing', 'Condition': None}, {'Speaker': 'All NPCs', 'Dialogue': 'How dare you!', 'Tone': None, 'Event': 'Catching you stealing', 'Condition': None}, {'Speaker': 'All NPCs', 'Dialogue': 'Why you little filcher...', 'Tone': None, 'Event': 'Catching you stealing', 'Condition': None}, {'Speaker': 'All NPCs', 'Dialogue': 'Get your thieving hands off that!', 'Tone': None, 'Event': 'Catching you stealing', 'Condition': None}, {'Speaker': 'All NPCs', 'Dialogue': \"You won't get away with that!\", 'Tone': None, 'Event': 'Catching you stealing', 'Condition': None}, {'Speaker': 'All NPCs', 'Dialogue': \"You can't take that!\", 'Tone': None, 'Event': 'Catching you stealing', 'Condition': None}, {'Speaker': 'All NPCs', 'Dialogue': 'Stop, thief!', 'Tone': None, 'Event': 'Catching you stealing', 'Condition': None}, {'Speaker': 'All NPCs', 'Dialogue': 'You dirty thief!', 'Tone': None, 'Event': 'Catching you stealing', 'Condition': None}, {'Speaker': 'All NPCs', 'Dialogue': 'Put that down, you mangy cat!', 'Tone': None, 'Event': 'Catching you stealing', 'Condition': None}, {'Speaker': 'All NPCs', 'Dialogue': 'By Ysmir, a thief!', 'Tone': None, 'Event': 'Catching you stealing', 'Condition': None}, {'Speaker': 'All NPCs', 'Dialogue': 'You thieving little elf!', 'Tone': None, 'Event': 'Catching you stealing', 'Condition': None}, {'Speaker': 'All NPCs', 'Dialogue': 'You dirty, filching lizard!', 'Tone': None, 'Event': 'Catching you stealing', 'Condition': None}, {'Speaker': 'All NPCs', 'Dialogue': \"What are you doing, s'wit?\", 'Tone': None, 'Event': 'Catching you stealing', 'Condition': None}, {'Speaker': 'All NPCs', 'Dialogue': 'Help yourself, by all means. Who cares if I starve?', 'Tone': None, 'Event': 'Catching you stealing', 'Condition': None}, {'Speaker': 'All NPCs', 'Dialogue': \"Don't worry about it. Keep it.\", 'Tone': None, 'Event': 'Catching you stealing', 'Condition': None}, {'Speaker': 'All NPCs', 'Dialogue': 'I guess you can have that.', 'Tone': None, 'Event': 'Catching you stealing', 'Condition': None}, {'Speaker': 'All NPCs', 'Dialogue': 'You must really need that.', 'Tone': None, 'Event': 'Catching you stealing', 'Condition': None}, {'Speaker': 'All NPCs', 'Dialogue': \"I'll look the other way this time.\", 'Tone': None, 'Event': 'Catching you stealing', 'Condition': None}, {'Speaker': 'All NPCs', 'Dialogue': \"I didn't really want that anyway.\", 'Tone': None, 'Event': 'Catching you stealing', 'Condition': None}, {'Speaker': 'All NPCs', 'Dialogue': \"I suppose that's yours now.\", 'Tone': None, 'Event': 'Catching you stealing', 'Condition': None}, {'Speaker': 'All NPCs', 'Dialogue': 'Oh, what a clever thief you are.', 'Tone': None, 'Event': 'Catching you stealing', 'Condition': None}, {'Speaker': 'All NPCs', 'Dialogue': 'You could have asked before just taking it.', 'Tone': None, 'Event': 'Catching you stealing', 'Condition': None}, {'Speaker': 'All NPCs', 'Dialogue': 'Help! Murder!', 'Tone': None, 'Event': 'Witnessing a murder', 'Condition': None}, {'Speaker': 'All NPCs', 'Dialogue': 'What the...?!', 'Tone': None, 'Event': 'Witnessing a murder', 'Condition': None}, {'Speaker': 'All NPCs', 'Dialogue': 'Someone do something!', 'Tone': None, 'Event': 'Witnessing a murder', 'Condition': None}, {'Speaker': 'All NPCs', 'Dialogue': 'Help, someone!', 'Tone': None, 'Event': 'Witnessing a murder', 'Condition': None}, {'Speaker': 'All NPCs', 'Dialogue': 'Murdered! In cold blood!', 'Tone': None, 'Event': 'Witnessing a murder', 'Condition': None}, {'Speaker': 'All NPCs', 'Dialogue': \"Ysmir's beard!\", 'Tone': None, 'Event': 'Witnessing a murder', 'Condition': None}, {'Speaker': 'All NPCs', 'Dialogue': 'By the gods, no!', 'Tone': None, 'Event': 'Witnessing a murder', 'Condition': None}, {'Speaker': 'All NPCs', 'Dialogue': 'By the gods, did that really just happen?!', 'Tone': None, 'Event': 'Witnessing a murder', 'Condition': None}, {'Speaker': 'All NPCs', 'Dialogue': 'Murder! Murder!', 'Tone': None, 'Event': 'Witnessing a murder', 'Condition': None}, {'Speaker': 'All NPCs', 'Dialogue': 'Help! Somebody, help!', 'Tone': None, 'Event': 'Witnessing a murder', 'Condition': None}, {'Speaker': 'All NPCs', 'Dialogue': 'Guess they deserved it...', 'Tone': None, 'Event': 'Witnessing a murder', 'Condition': None}, {'Speaker': 'All NPCs', 'Dialogue': \"What's done is done.\", 'Tone': None, 'Event': 'Witnessing a murder', 'Condition': None}, {'Speaker': 'All NPCs', 'Dialogue': 'Well... that was an unpleasant bit of business.', 'Tone': None, 'Event': 'Witnessing a murder', 'Condition': None}, {'Speaker': 'All NPCs', 'Dialogue': \"I didn't know you were so cold-blooded...\", 'Tone': None, 'Event': 'Witnessing a murder', 'Condition': None}, {'Speaker': 'All NPCs', 'Dialogue': 'Remind me not to make you angry.', 'Tone': None, 'Event': 'Witnessing a murder', 'Condition': None}, {'Speaker': 'FemaleArgonian', 'Dialogue': 'It should be careful with those flames.', 'Tone': None, 'Event': 'Player is walking around with flame', 'Condition': None}, {'Speaker': 'MaleArgonian', 'Dialogue': 'It is planning on starting a fire?', 'Tone': None, 'Event': 'Player is walking around with flame', 'Condition': None}, {'Speaker': 'MaleBrute', 'Dialogue': 'Hey now, you be careful with that fire.', 'Tone': None, 'Event': 'Player is walking around with flame', 'Condition': None}, {'Speaker': 'FemaleChild', 'Dialogue': \"You're not supposed to play with fire, you know.\", 'Tone': None, 'Event': 'Player is walking around with flame', 'Condition': None}, {'Speaker': 'MaleChild', 'Dialogue': 'I wish I could play with fire like that.', 'Tone': None, 'Event': 'Player is walking around with flame', 'Condition': None}, {'Speaker': 'FemaleCommander', 'Dialogue': 'Take care not to set anything on fire.', 'Tone': None, 'Event': 'Player is walking around with flame', 'Condition': None}, {'Speaker': 'MaleCommander', 'Dialogue': 'Take care with those flames.', 'Tone': None, 'Event': 'Player is walking around with flame', 'Condition': None}, {'Speaker': 'MaleNordCommander', 'Dialogue': 'Take care with those flames.', 'Tone': None, 'Event': 'Player is walking around with flame', 'Condition': None}, {'Speaker': 'FemaleCommoner', 'Dialogue': \"You're not afraid you'll set fire to something?\", 'Tone': None, 'Event': 'Player is walking around with flame', 'Condition': None}, {'Speaker': 'MaleCommoner', 'Dialogue': \"Mind yourself with that fire. Don't burn anything down, now.\", 'Tone': None, 'Event': 'Player is walking around with flame', 'Condition': None}, {'Speaker': 'MaleCommonerAccented', 'Dialogue': \"Mind yourself with that fire. Don't burn anything down, now.\", 'Tone': None, 'Event': 'Player is walking around with flame', 'Condition': None}, {'Speaker': 'FemaleCondescending', 'Dialogue': 'What kind of fool plays with fire like that?', 'Tone': None, 'Event': 'Player is walking around with flame', 'Condition': None}, {'Speaker': 'MaleCondescending', 'Dialogue': 'Have a fascination with fire, do we?', 'Tone': None, 'Event': 'Player is walking around with flame', 'Condition': None}, {'Speaker': 'FemaleCoward', 'Dialogue': \"You're not planning on burning anything with that, are you?\", 'Tone': None, 'Event': 'Player is walking around with flame', 'Condition': None}, {'Speaker': 'MaleCoward', 'Dialogue': \"Umm... don't suppose you'd want to take that fire somewhere else? You know... somewhere away from me?\", 'Tone': None, 'Event': 'Player is walking around with flame', 'Condition': None}, {'Speaker': 'FemaleDarkElf', 'Dialogue': 'Careful not to torch anything important.', 'Tone': None, 'Event': 'Player is walking around with flame', 'Condition': None}, {'Speaker': 'MaleDarkElf', 'Dialogue': 'Careful with those flames, unless you plan on torching something.', 'Tone': None, 'Event': 'Player is walking around with flame', 'Condition': None}, {'Speaker': 'MaleDrunk', 'Dialogue': 'Fire!', 'Tone': None, 'Event': 'Player is walking around with flame', 'Condition': None}, {'Speaker': 'FemaleElfHaughty', 'Dialogue': \"I do hope you know what you're doing with those flames...\", 'Tone': None, 'Event': 'Player is walking around with flame', 'Condition': None}, {'Speaker': 'MaleElfHaughty', 'Dialogue': 'I do hope you know what your doing with those flames. It would be quite a shame if something caught fire.', 'Tone': None, 'Event': 'Player is walking around with flame', 'Condition': None}, {'Speaker': 'FemaleEvenToned', 'Dialogue': 'Try not to set anything on fire, all right?', 'Tone': None, 'Event': 'Player is walking around with flame', 'Condition': None}, {'Speaker': 'MaleEvenToned', 'Dialogue': \"Don't set anything on fire, all right?\", 'Tone': None, 'Event': 'Player is walking around with flame', 'Condition': None}, {'Speaker': 'MaleEvenTonedAccented', 'Dialogue': \"Don't set anything on fire, all right?\", 'Tone': None, 'Event': 'Player is walking around with flame', 'Condition': None}, {'Speaker': 'FemaleKhajiit', 'Dialogue': 'Fire is not a thing to be played with...', 'Tone': None, 'Event': 'Player is walking around with flame', 'Condition': None}, {'Speaker': 'MaleKhajiit', 'Dialogue': 'Fire is not a toy.', 'Tone': None, 'Event': 'Player is walking around with flame', 'Condition': None}, {'Speaker': 'FemaleNord', 'Dialogue': 'Careful with that fire.', 'Tone': None, 'Event': 'Player is walking around with flame', 'Condition': None}, {'Speaker': 'MaleNord', 'Dialogue': \"Don't go setting the place on fire, okay?\", 'Tone': None, 'Event': 'Player is walking around with flame', 'Condition': None}, {'Speaker': 'FemaleOldGrumpy', 'Dialogue': \"What's the matter with you? You want to start a blaze?\", 'Tone': None, 'Event': 'Player is walking around with flame', 'Condition': None}, {'Speaker': 'MaleOldGrumpy', 'Dialogue': 'Plan on burning everything down, do you? Damn fool.', 'Tone': None, 'Event': 'Player is walking around with flame', 'Condition': None}, {'Speaker': 'FemaleOldKindly', 'Dialogue': 'Dear, you really ought to be careful with fire.', 'Tone': None, 'Event': 'Player is walking around with flame', 'Condition': None}, {'Speaker': 'MaleOldKindly', 'Dialogue': 'You should be more careful with those flames.', 'Tone': None, 'Event': 'Player is walking around with flame', 'Condition': None}, {'Speaker': 'FemaleOrc', 'Dialogue': 'Better not set anything on fire.', 'Tone': None, 'Event': 'Player is walking around with flame', 'Condition': None}, {'Speaker': 'MaleOrc', 'Dialogue': \"Those flames get out of control, and you're gonna wish they hadn't.\", 'Tone': None, 'Event': 'Player is walking around with flame', 'Condition': None}, {'Speaker': 'FemaleShrill', 'Dialogue': \"What do you think you're doing? Knock it off with the flames already.\", 'Tone': None, 'Event': 'Player is walking around with flame', 'Condition': None}, {'Speaker': 'MaleSlyCynical', 'Dialogue': \"Careful, now. Wouldn't want someone to get... burned.\", 'Tone': None, 'Event': 'Player is walking around with flame', 'Condition': None}, {'Speaker': 'MaleSoldier', 'Dialogue': 'Careful with that fire.', 'Tone': None, 'Event': 'Player is walking around with flame', 'Condition': None}, {'Speaker': 'FemaleSultry', 'Dialogue': 'Is it getting hot, or is it just me?', 'Tone': None, 'Event': 'Player is walking around with flame', 'Condition': None}, {'Speaker': 'FemaleYoungEager', 'Dialogue': \"Whoa. Hope you know what you're doing with those flames there.\", 'Tone': None, 'Event': 'Player is walking around with flame', 'Condition': None}, {'Speaker': 'MaleYoungEager', 'Dialogue': \"You've got that fire under control. Right?\", 'Tone': None, 'Event': 'Player is walking around with flame', 'Condition': None}, {'Speaker': 'FemaleArgonian', 'Dialogue': 'Here. For you. For my hatchling of the heart.', 'Tone': None, 'Event': 'Giving the Player a gift', 'Condition': None}, {'Speaker': 'MaleArgonian', 'Dialogue': 'You are like my brood to me. Here. A token.', 'Tone': None, 'Event': 'Giving the Player a gift', 'Condition': None}, {'Speaker': 'MaleBrute', 'Dialogue': \"You're a good friend. Here. Take this. You'll like it.\", 'Tone': None, 'Event': 'Giving the Player a gift', 'Condition': None}, {'Speaker': 'FemaleChild', 'Dialogue': 'I found this. I thought you might like it.', 'Tone': None, 'Event': 'Giving the Player a gift', 'Condition': None}, {'Speaker': 'MaleChild', 'Dialogue': \"So I found something. Here. Take it. I think you'll like it.\", 'Tone': None, 'Event': 'Giving the Player a gift', 'Condition': None}, {'Speaker': 'FemaleCommander', 'Dialogue': 'I wanted to give you this. A token of my appreciation.', 'Tone': None, 'Event': 'Giving the Player a gift', 'Condition': None}, {'Speaker': 'MaleCommander', 'Dialogue': 'Here. This is for you.', 'Tone': None, 'Event': 'Giving the Player a gift', 'Condition': None}, {'Speaker': 'MaleNordCommander', 'Dialogue': 'Here. This is for you.', 'Tone': None, 'Event': 'Giving the Player a gift', 'Condition': None}, {'Speaker': 'FemaleCommoner', 'Dialogue': \"Here. It isn't much, but... I hope it's the thought that counts.\", 'Tone': None, 'Event': 'Giving the Player a gift', 'Condition': None}, {'Speaker': 'MaleCommoner', 'Dialogue': \"I've been wanting to say thanks for being a friend. Here. It's not much, but I was thinking you might like to have this.\", 'Tone': None, 'Event': 'Giving the Player a gift', 'Condition': None}, {'Speaker': 'MaleCommonerAccented', 'Dialogue': \"I've been wanting to say thanks for being a friend. Here. It's not much, but I was thinking you might like to have this.\", 'Tone': None, 'Event': 'Giving the Player a gift', 'Condition': None}, {'Speaker': 'FemaleCondescending', 'Dialogue': 'I saw this and thought of you. It would be a waste on anyone lesser. I hope you like it.', 'Tone': None, 'Event': 'Giving the Player a gift', 'Condition': None}, {'Speaker': 'MaleCondescending', 'Dialogue': \"You're not tiresome like the rest of the people I have the displeasure of dealing with on a regular basis. Here. I'd like you to have this.\", 'Tone': None, 'Event': 'Giving the Player a gift', 'Condition': None}, {'Speaker': 'FemaleCoward', 'Dialogue': \"Um... I was thinking you might like this. Here. It's nothing really.\", 'Tone': None, 'Event': 'Giving the Player a gift', 'Condition': None}, {'Speaker': 'MaleCoward', 'Dialogue': \"So... I've been thinking... I'm grateful we're friends. I'd like you to have this. It's not much, but I hope it's something you like.\", 'Tone': None, 'Event': 'Giving the Player a gift', 'Condition': None}, {'Speaker': 'FemaleDarkElf', 'Dialogue': 'In dark times friends bring light. This is for you. Thank you for your friendship.', 'Tone': None, 'Event': 'Giving the Player a gift', 'Condition': None}, {'Speaker': 'MaleDarkElf', 'Dialogue': \"A true friend is a gift. Here. I'd like you to have this.\", 'Tone': None, 'Event': 'Giving the Player a gift', 'Condition': None}, {'Speaker': 'MaleDrunk', 'Dialogue': \"You know... you ain't so bad. Here. Take this...\", 'Tone': None, 'Event': 'Giving the Player a gift', 'Condition': None}, {'Speaker': 'FemaleElfHaughty', 'Dialogue': 'I had to get this for you when I saw it. I hope you like it.', 'Tone': None, 'Event': 'Giving the Player a gift', 'Condition': None}, {'Speaker': 'MaleElfHaughty', 'Dialogue': 'When I found this, I immediately thought of you. Here. A small token of my gratitude.', 'Tone': None, 'Event': 'Giving the Player a gift', 'Condition': None}, {'Speaker': 'FemaleEvenToned', 'Dialogue': \"I'm glad we're friends. I have something for you. Here.\", 'Tone': None, 'Event': 'Giving the Player a gift', 'Condition': None}, {'Speaker': 'MaleEvenToned', 'Dialogue': \"Here. I'd like you to have this as a token my friendship.\", 'Tone': None, 'Event': 'Giving the Player a gift', 'Condition': None}, {'Speaker': 'MaleEvenTonedAccented', 'Dialogue': \"Here. I'd like you to have this as a token my friendship.\", 'Tone': None, 'Event': 'Giving the Player a gift', 'Condition': None}, {'Speaker': 'FemaleKhajiit', 'Dialogue': 'This one is honored by your friendship. I hope this gift does honor to you.', 'Tone': None, 'Event': 'Giving the Player a gift', 'Condition': None}, {'Speaker': 'MaleKhajiit', 'Dialogue': \"You bring a smile to this one's eyes and peace to his heart. Take this. A small token of appreciation.\", 'Tone': None, 'Event': 'Giving the Player a gift', 'Condition': None}, {'Speaker': 'FemaleNord', 'Dialogue': \"Here's to friendship. A gift! If you don't like it, too bad.\", 'Tone': None, 'Event': 'Giving the Player a gift', 'Condition': None}, {'Speaker': 'MaleNord', 'Dialogue': 'In a world of fools, you stand out above the rest. Here, take this small sign of my friendship.', 'Tone': None, 'Event': 'Giving the Player a gift', 'Condition': None}, {'Speaker': 'FemaleOldGrumpy', 'Dialogue': \"You're always a sight for sore eyes. Here, I've been hanging on to this for you.\", 'Tone': None, 'Event': 'Giving the Player a gift', 'Condition': None}, {'Speaker': 'MaleOldGrumpy', 'Dialogue': \"Here. Something I want you to have. Now, don't embarrass either of us by saying something sappy. Just... take it.\", 'Tone': None, 'Event': 'Giving the Player a gift', 'Condition': None}, {'Speaker': 'FemaleOldKindly', 'Dialogue': \"I've been holding on to this for you. I hope you like it.\", 'Tone': None, 'Event': 'Giving the Player a gift', 'Condition': None}, {'Speaker': 'MaleOldKindly', 'Dialogue': \"I've been holding onto this for you. Here! I hope you like it.\", 'Tone': None, 'Event': 'Giving the Player a gift', 'Condition': None}, {'Speaker': 'FemaleOrc', 'Dialogue': 'I have something I want to give to you. Here.', 'Tone': None, 'Event': 'Giving the Player a gift', 'Condition': None}, {'Speaker': 'MaleOrc', 'Dialogue': 'Here. I want you to have this.', 'Tone': None, 'Event': 'Giving the Player a gift', 'Condition': None}, {'Speaker': 'FemaleShrill', 'Dialogue': \"Here. For you. Don't thank me, just take it.\", 'Tone': None, 'Event': 'Giving the Player a gift', 'Condition': None}, {'Speaker': 'MaleSlyCynical', 'Dialogue': \"I wanted you to have this. A token of my affection. Don't mean we're engaged or nothin'.\", 'Tone': None, 'Event': 'Giving the Player a gift', 'Condition': None}, {'Speaker': 'MaleSoldier', 'Dialogue': 'Here. Take this. I hope you like it.', 'Tone': None, 'Event': 'Giving the Player a gift', 'Condition': None}, {'Speaker': 'FemaleSultry', 'Dialogue': 'You always brighten my day a little. Here. I hope you like this.', 'Tone': None, 'Event': 'Giving the Player a gift', 'Condition': None}, {'Speaker': 'FemaleYoungEager', 'Dialogue': \"It's really great we're friends. I was hoping to find some way to thank you. I hope this does the trick.\", 'Tone': None, 'Event': 'Giving the Player a gift', 'Condition': None}, {'Speaker': 'MaleYoungEager', 'Dialogue': \"I got this for you. It's nothing big, but I hope you like it. I want you to know I appreciate your friendship.\", 'Tone': None, 'Event': 'Giving the Player a gift', 'Condition': None}, {'Speaker': 'MaleNord', 'Dialogue': \"Hey! What's this?\", 'Tone': None, 'Event': \"NPCs fight over a player's dropped item\", 'Speaker_Number': 1, 'Condition': None}, {'Speaker': 'FemaleNord', 'Dialogue': 'Who left that here?', 'Tone': None, 'Event': \"NPCs fight over a player's dropped item\", 'Speaker_Number': 1, 'Condition': None}, {'Speaker': 'MaleDarkElf', 'Dialogue': 'Well! Finders, keepers as they say.', 'Tone': None, 'Event': \"NPCs fight over a player's dropped item\", 'Speaker_Number': 1, 'Condition': None}, {'Speaker': 'FemaleDarkElf', 'Dialogue': \"If nobody wants that, I'll take it.\", 'Tone': None, 'Event': \"NPCs fight over a player's dropped item\", 'Speaker_Number': 1, 'Condition': None}, {'Speaker': 'MaleOrc', 'Dialogue': 'Damn shame to leave that lying around.', 'Tone': None, 'Event': \"NPCs fight over a player's dropped item\", 'Speaker_Number': 1, 'Condition': None}, {'Speaker': 'FemaleOrc', 'Dialogue': \"It's a bit worn, but I'll take it.\", 'Tone': None, 'Event': \"NPCs fight over a player's dropped item\", 'Speaker_Number': 1, 'Condition': None}, {'Speaker': 'MaleSlyCynical', 'Dialogue': \"Looks like it's my lucky day.\", 'Tone': None, 'Event': \"NPCs fight over a player's dropped item\", 'Speaker_Number': 1, 'Condition': None}, {'Speaker': 'MaleBrute', 'Dialogue': \"Hmm. What's this?\", 'Tone': None, 'Event': \"NPCs fight over a player's dropped item\", 'Speaker_Number': 1, 'Condition': None}, {'Speaker': 'All NPCs', 'Dialogue': \"You're too slow. I saw it first.\", 'Tone': None, 'Event': \"NPCs fight over a player's dropped item\", 'Speaker_Number': 2, 'Condition': None}, {'Speaker': 'All NPCs', 'Dialogue': \"Hey! That's my sword. (if item is a sword)\", 'Tone': None, 'Event': \"NPCs fight over a player's dropped item\", 'Speaker_Number': 2, 'Condition': None}, {'Speaker': 'All NPCs', 'Dialogue': \"Don't touch that dagger! It's mine. (if item is a dagger)\", 'Tone': None, 'Event': \"NPCs fight over a player's dropped item\", 'Speaker_Number': 2, 'Condition': None}, {'Speaker': 'All NPCs', 'Dialogue': \"I don't think so. That axe is mine. (if item is a war axe or battleaxe)\", 'Tone': None, 'Event': \"NPCs fight over a player's dropped item\", 'Speaker_Number': 2, 'Condition': None}, {'Speaker': 'All NPCs', 'Dialogue': \"Keep away from that bow. It's mine. (if item is a bow)\", 'Tone': None, 'Event': \"NPCs fight over a player's dropped item\", 'Speaker_Number': 2, 'Condition': None}, {'Speaker': 'All NPCs', 'Dialogue': \"Hands off. That's my armor now! (if item is a light or heavy armor)\", 'Tone': None, 'Event': \"NPCs fight over a player's dropped item\", 'Speaker_Number': 2, 'Condition': None}, {'Speaker': 'MaleNord', 'Dialogue': \"No. It's mine!\", 'Tone': None, 'Event': \"NPCs fight over a player's dropped item\", 'Speaker_Number': 3, 'Condition': None}, {'Speaker': 'FemaleNord', 'Dialogue': 'Not if I get it first.', 'Tone': None, 'Event': \"NPCs fight over a player's dropped item\", 'Speaker_Number': 3, 'Condition': None}, {'Speaker': 'MaleDarkElf', 'Dialogue': \"I saw it first! I'm taking it.\", 'Tone': None, 'Event': \"NPCs fight over a player's dropped item\", 'Speaker_Number': 3, 'Condition': None}, {'Speaker': 'FemaleDarkElf', 'Dialogue': \"I don't think so!\", 'Tone': None, 'Event': \"NPCs fight over a player's dropped item\", 'Speaker_Number': 3, 'Condition': None}, {'Speaker': 'MaleOrc', 'Dialogue': \"I'm taking it anyway.\", 'Tone': None, 'Event': \"NPCs fight over a player's dropped item\", 'Speaker_Number': 3, 'Condition': None}, {'Speaker': 'FemaleOrc', 'Dialogue': \"We'll see about that.\", 'Tone': None, 'Event': \"NPCs fight over a player's dropped item\", 'Speaker_Number': 3, 'Condition': None}, {'Speaker': 'MaleSlyCynical', 'Dialogue': 'I think not.', 'Tone': None, 'Event': \"NPCs fight over a player's dropped item\", 'Speaker_Number': 3, 'Condition': None}, {'Speaker': 'MaleBrute', 'Dialogue': 'No!', 'Tone': None, 'Event': \"NPCs fight over a player's dropped item\", 'Speaker_Number': 3, 'Condition': None}, {'Speaker': 'MaleNord', 'Dialogue': \"If it's a fight you want, it's a fight you'll get.\", 'Tone': None, 'Event': \"NPCs fight over a player's dropped item\", 'Speaker_Number': 4, 'Condition': None}, {'Speaker': 'FemaleNord', 'Dialogue': 'You can take it over my dead body!', 'Tone': None, 'Event': \"NPCs fight over a player's dropped item\", 'Speaker_Number': 4, 'Condition': None}, {'Speaker': 'MaleDarkElf', 'Dialogue': \"You'll have to take it from me.\", 'Tone': None, 'Event': \"NPCs fight over a player's dropped item\", 'Speaker_Number': 4, 'Condition': None}, {'Speaker': 'FemaleDarkElf', 'Dialogue': 'Back off!', 'Tone': None, 'Event': \"NPCs fight over a player's dropped item\", 'Speaker_Number': 4, 'Condition': None}, {'Speaker': 'MaleOrc', 'Dialogue': \"Your blood won't bother me!\", 'Tone': None, 'Event': \"NPCs fight over a player's dropped item\", 'Speaker_Number': 4, 'Condition': None}, {'Speaker': 'FemaleOrc', 'Dialogue': \"You'll have to fight me for it.\", 'Tone': None, 'Event': \"NPCs fight over a player's dropped item\", 'Speaker_Number': 4, 'Condition': None}, {'Speaker': 'MaleSlyCynical', 'Dialogue': \"You're too slow and stupid to take it from me.\", 'Tone': None, 'Event': \"NPCs fight over a player's dropped item\", 'Speaker_Number': 4, 'Condition': None}, {'Speaker': 'MaleBrute', 'Dialogue': \"I'll hurt you if I have to.\", 'Tone': None, 'Event': \"NPCs fight over a player's dropped item\", 'Speaker_Number': 4, 'Condition': None}, {'Speaker': 'All NPCs', 'Dialogue': 'That can be arranged.', 'Tone': None, 'Event': \"NPCs fight over a player's dropped item\", 'Speaker_Number': 5, 'Condition': None}, {'Speaker': 'Bystander', 'Dialogue': \"What's all the commotion?\", 'Tone': None, 'Event': \"NPCs fight over a player's dropped item\", 'Speaker_Number': 6, 'Condition': None}, {'Speaker': 'Bystander', 'Dialogue': \"Someone's going to get hurt.\", 'Tone': None, 'Event': \"NPCs fight over a player's dropped item\", 'Speaker_Number': 6, 'Condition': None}, {'Speaker': 'Another bystander', 'Dialogue': 'Damn. Another fight.', 'Tone': None, 'Event': \"NPCs fight over a player's dropped item\", 'Speaker_Number': 7, 'Condition': None}, {'Speaker': 'Another bystander', 'Dialogue': \"They're fighting over that thing, I think.\", 'Tone': None, 'Event': \"NPCs fight over a player's dropped item\", 'Speaker_Number': 7, 'Condition': None}, {'Speaker': 'FemaleChild', 'Dialogue': 'Hey! You dropped this back there.', 'Tone': None, 'Event': \"NPC returns the player's dropped item\", 'Condition': None}, {'Speaker': 'MaleChild', 'Dialogue': 'I think you dropped this! Good thing I brought it to you, huh?', 'Tone': None, 'Event': \"NPC returns the player's dropped item\", 'Condition': None}, {'Speaker': 'FemaleCommoner', 'Dialogue': \"You left this back there. Figured you'd be wantin' it. Here ya go.\", 'Tone': None, 'Event': \"NPC returns the player's dropped item\", 'Condition': None}, {'Speaker': 'MaleCommoner', 'Dialogue': 'You should take more care, leaving things lying about. Here.', 'Tone': None, 'Event': \"NPC returns the player's dropped item\", 'Condition': None}, {'Speaker': 'FemaleOldKindly', 'Dialogue': 'I think you accidentally mislaid this, dear. Here you go.', 'Tone': None, 'Event': \"NPC returns the player's dropped item\", 'Condition': None}, {'Speaker': 'MaleOldKindly', 'Dialogue': 'Excuse me. You misplaced this, I believe? There you go. Take care now.', 'Tone': None, 'Event': \"NPC returns the player's dropped item\", 'Condition': None}, {'Speaker': 'MaleYoungEager', 'Dialogue': \"You left this over there. You're lucky - someone else might have kept it for himself. Here you go.\", 'Tone': None, 'Event': \"NPC returns the player's dropped item\", 'Condition': None}, {'Speaker': 'FemaleYoungEager', 'Dialogue': 'You dropped this. Good thing I found it and not someone else, otherwise you might have lost it for good.', 'Tone': None, 'Event': \"NPC returns the player's dropped item\", 'Condition': None}, {'Speaker': 'MaleBrute', 'Dialogue': 'You left this over there. You want it back, right? Here.', 'Tone': None, 'Event': \"NPC returns the player's dropped item\", 'Condition': None}, {'Speaker': 'MaleCommonerAccented', 'Dialogue': 'You should take more care, leaving things lying about. Here.', 'Tone': None, 'Event': \"NPC returns the player's dropped item\", 'Condition': None}, {'Speaker': 'FemaleChild', 'Dialogue': 'Ouch! Hey!', 'Tone': None, 'Event': 'Bumping into NPC', 'Condition': None}, {'Speaker': 'MaleChild', 'Dialogue': 'Ouch! Hey!', 'Tone': None, 'Event': 'Bumping into NPC', 'Condition': None}, {'Speaker': 'MaleDrunk', 'Dialogue': 'Woah!', 'Tone': None, 'Event': 'Bumping into NPC', 'Condition': None}, {'Speaker': 'FemaleSultry', 'Dialogue': 'Oaf', 'Tone': None, 'Event': 'Bumping into NPC', 'Condition': None}, {'Speaker': 'FemaleSultry', 'Dialogue': 'Oaf', 'Tone': None, 'Event': 'Bumping into NPC', 'Condition': None}, {'Speaker': 'Orc', 'Dialogue': 'Hey!', 'Tone': None, 'Event': 'Bumping into NPC', 'Condition': None}, {'Speaker': 'Orc', 'Dialogue': 'Hey!', 'Tone': None, 'Event': 'Bumping into NPC', 'Condition': None}, {'Speaker': 'Khajiit', 'Dialogue': 'Careful!', 'Tone': None, 'Event': 'Bumping into NPC', 'Condition': None}, {'Speaker': 'MaleYoungEager', 'Dialogue': 'Whoops.', 'Tone': None, 'Event': 'Bumping into NPC', 'Condition': None}, {'Speaker': 'Argonian', 'Dialogue': 'Mind the way.', 'Tone': None, 'Event': 'Bumping into NPC', 'Condition': None}, {'Speaker': 'OldKindly', 'Dialogue': 'Excuse me.', 'Tone': None, 'Event': 'Bumping into NPC', 'Condition': None}, {'Speaker': 'Dunmer', 'Dialogue': 'What the?', 'Tone': None, 'Event': 'Bumping into NPC', 'Condition': None}, {'Speaker': 'MaleSlyCynical', 'Dialogue': 'What the?', 'Tone': None, 'Event': 'Bumping into NPC', 'Condition': None}, {'Speaker': 'Coward', 'Dialogue': 'Uh, sorry.', 'Tone': None, 'Event': 'Bumping into NPC', 'Condition': None}, {'Speaker': 'All NPCs', 'Dialogue': \"What's the hurry?\", 'Tone': None, 'Event': 'Bumping into NPC', 'Condition': None}, {'Speaker': 'Commander', 'Dialogue': 'Mind yourself.', 'Tone': None, 'Event': 'Bumping into NPC', 'Condition': None}, {'Speaker': 'ElfHaughty', 'Dialogue': 'Watch it!', 'Tone': None, 'Event': 'Bumping into NPC', 'Condition': None}, {'Speaker': 'OldGrumpy', 'Dialogue': 'Watch it!', 'Tone': None, 'Event': 'Bumping into NPC', 'Condition': None}, {'Speaker': 'FemaleCondescending', 'Dialogue': 'Watch it!', 'Tone': None, 'Event': 'Bumping into NPC', 'Condition': None}, {'Speaker': 'MaleNord', 'Dialogue': 'Oh.', 'Tone': None, 'Event': 'Bumping into NPC', 'Condition': None}, {'Speaker': 'EvenToned', 'Dialogue': 'Oh.', 'Tone': None, 'Event': 'Bumping into NPC', 'Condition': None}, {'Speaker': 'MaleEvenTonedAccented', 'Dialogue': 'Oh.', 'Tone': None, 'Event': 'Bumping into NPC', 'Condition': None}, {'Speaker': 'Commoner', 'Dialogue': 'Oh.', 'Tone': None, 'Event': 'Bumping into NPC', 'Condition': None}, {'Speaker': 'MaleCommonerAccented', 'Dialogue': 'Oh.', 'Tone': None, 'Event': 'Bumping into NPC', 'Condition': None}, {'Speaker': 'FemaleArgonian', 'Dialogue': 'It should put on some coverings.', 'Tone': None, 'Event': 'Player is walking around naked', 'Condition': None}, {'Speaker': 'MaleArgonian', 'Dialogue': 'It should be embarrassed to be uncovered so.', 'Tone': None, 'Event': 'Player is walking around naked', 'Condition': None}, {'Speaker': 'MaleBrute', 'Dialogue': 'Umm. You got no clothes. You should get some.', 'Tone': None, 'Event': 'Player is walking around naked', 'Condition': None}, {'Speaker': 'FemaleChild', 'Dialogue': \"You're naked!\", 'Tone': None, 'Event': 'Player is walking around naked', 'Condition': None}, {'Speaker': 'MaleChild', 'Dialogue': 'Naked. Naked, naked, naked!', 'Tone': None, 'Event': 'Player is walking around naked', 'Condition': None}, {'Speaker': 'FemaleCommander', 'Dialogue': 'Put on some clothes, you damned fool.', 'Tone': None, 'Event': 'Player is walking around naked', 'Condition': None}, {'Speaker': 'MaleCommander', 'Dialogue': 'Dress yourself.', 'Tone': None, 'Event': 'Player is walking around naked', 'Condition': None}, {'Speaker': 'FemaleCommoner', 'Dialogue': 'You ought to cover your... unmentionables.', 'Tone': None, 'Event': 'Player is walking around naked', 'Condition': None}, {'Speaker': 'MaleCommoner', 'Dialogue': 'Ought put on some clothes. Bound to upset some people...', 'Tone': None, 'Event': 'Player is walking around naked', 'Condition': None}, {'Speaker': 'MaleCommonerAccented', 'Dialogue': 'Ought put on some clothes. Bound to upset some people...', 'Tone': None, 'Event': 'Player is walking around naked', 'Condition': None}, {'Speaker': 'FemaleCondescending', 'Dialogue': 'Even rags would be preferable to your current wardrobe. Or lack thereof...', 'Tone': None, 'Event': 'Player is walking around naked', 'Condition': None}, {'Speaker': 'MaleCondescending', 'Dialogue': \"Put on a cloth sack at the very least. You're making me... unseasonably warm...\", 'Tone': None, 'Event': 'Player is walking around naked', 'Condition': None}, {'Speaker': 'FemaleCoward', 'Dialogue': \"Careful. They might put you away if you don't at least put on some pants.\", 'Tone': None, 'Event': 'Player is walking around naked', 'Condition': None}, {'Speaker': 'MaleCoward', 'Dialogue': \"Aren't you... embarrassed?\", 'Tone': None, 'Event': 'Player is walking around naked', 'Condition': None}, {'Speaker': 'FemaleDarkElf', 'Dialogue': \"I've seen enough. Put on some clothes.\", 'Tone': None, 'Event': 'Player is walking around naked', 'Condition': None}, {'Speaker': 'MaleDarkElf', 'Dialogue': \"You aren't as attractive as you'd like to believe.\", 'Tone': None, 'Event': 'Player is walking around naked', 'Condition': None}, {'Speaker': 'MaleDrunk', 'Dialogue': \"Either I'm drunk, or you're naked. Possibly both.\", 'Tone': None, 'Event': 'Player is walking around naked', 'Condition': None}, {'Speaker': 'FemaleElfHaughty', 'Dialogue': \"Really. We aren't interested in seeing all that. Remove yourself until you are properly attired!\", 'Tone': None, 'Event': 'Player is walking around naked', 'Condition': None}, {'Speaker': 'MaleElfHaughty', 'Dialogue': 'Cover yourself. Have you no shame?', 'Tone': None, 'Event': 'Player is walking around naked', 'Condition': None}, {'Speaker': 'FemaleEvenToned', 'Dialogue': 'You might consider putting on... something. Anything.', 'Tone': None, 'Event': 'Player is walking around naked', 'Condition': None}, {'Speaker': 'MaleEvenToned', 'Dialogue': 'Next time, you might want to get dressed before leaving the house.', 'Tone': None, 'Event': 'Player is walking around naked', 'Condition': None}, {'Speaker': 'MaleEvenTonedAccented', 'Dialogue': 'Next time, you might want to get dressed before leaving the house.', 'Tone': None, 'Event': 'Player is walking around naked', 'Condition': None}, {'Speaker': 'FemaleKhajiit', 'Dialogue': 'This one wonders - do you have no clothes, or just like the feel of the wind?', 'Tone': None, 'Event': 'Player is walking around naked', 'Condition': None}, {'Speaker': 'MaleKhajiit', 'Dialogue': 'This one suggests donning some apparel.', 'Tone': None, 'Event': 'Player is walking around naked', 'Condition': None}, {'Speaker': 'FemaleNord', 'Dialogue': 'Gonna get cold tonight. Might want to at least cover your delicates.', 'Tone': None, 'Event': 'Player is walking around naked', 'Condition': None}, {'Speaker': 'MaleNord', 'Dialogue': \"Ysmir's beard, you're going to freeze to death...\", 'Tone': None, 'Event': 'Player is walking around naked', 'Condition': None}, {'Speaker': 'FemaleOldGrumpy', 'Dialogue': 'Please. Remove your naked obscenity from the company of civilized folk.', 'Tone': None, 'Event': 'Player is walking around naked', 'Condition': None}, {'Speaker': 'MaleOldGrumpy', 'Dialogue': 'Put on some damn clothes already!', 'Tone': None, 'Event': 'Player is walking around naked', 'Condition': None}, {'Speaker': 'FemaleOldKindly', 'Dialogue': \"Dear. You really ought to put some clothes on. You're embarrassing yourself.\", 'Tone': None, 'Event': 'Player is walking around naked', 'Condition': None}, {'Speaker': 'MaleOldKindly', 'Dialogue': 'You really should put on some clothes, you know.', 'Tone': None, 'Event': 'Player is walking around naked', 'Condition': None}, {'Speaker': 'FemaleOrc', 'Dialogue': \"Enough already. Put on some clothes. You're making people nervous.\", 'Tone': None, 'Event': 'Player is walking around naked', 'Condition': None}, {'Speaker': 'MaleOrc', 'Dialogue': \"All right, we've all seen enough. Put on some clothes.\", 'Tone': None, 'Event': 'Player is walking around naked', 'Condition': None}, {'Speaker': 'FemaleShrill', 'Dialogue': \"You're naked!\", 'Tone': None, 'Event': 'Player is walking around naked', 'Condition': None}, {'Speaker': 'MaleSlyCynical', 'Dialogue': \"The way you walk around at home is your own business. When you're at home...\", 'Tone': None, 'Event': 'Player is walking around naked', 'Condition': None}, {'Speaker': 'MaleSoldier', 'Dialogue': \"What are you, some kind of barbarian? Don't care for armor?\", 'Tone': None, 'Event': 'Player is walking around naked', 'Condition': None}, {'Speaker': 'FemaleSultry', 'Dialogue': 'You must either be crazy or supremely confident to go walking around with no clothes on...', 'Tone': None, 'Event': 'Player is walking around naked', 'Condition': None}, {'Speaker': 'FemaleYoungEager', 'Dialogue': 'Not sure you should be walking around naked.', 'Tone': None, 'Event': 'Player is walking around naked', 'Condition': None}, {'Speaker': 'MaleYoungEager', 'Dialogue': \"It's probably not a good idea to walk around naked like that.\", 'Tone': None, 'Event': 'Player is walking around naked', 'Condition': None}, {'Speaker': 'FemaleCommoner', 'Dialogue': \"Beg pardon. You dropped some armor over there. Don't suppose you'd mind if I... took it?\", 'Tone': None, 'Event': 'NPC asks for your dropped armor', 'Condition': None, 'Response_to': nan}, {'Speaker': 'MaleCommoner or', 'Dialogue': \"Pardon. I saw you toss a piece of armor. You wouldn't mind if I take it, then?\", 'Tone': None, 'Event': 'NPC asks for your dropped armor', 'Condition': None, 'Response_to': nan}, {'Speaker': 'MaleCommonerAccented', 'Dialogue': \"Pardon. I saw you toss a piece of armor. You wouldn't mind if I take it, then?\", 'Tone': None, 'Event': 'NPC asks for your dropped armor', 'Condition': None, 'Response_to': nan}, {'Speaker': 'FemaleCoward', 'Dialogue': 'Umm... You dropped a piece armor over there. I was kind of hoping that I could, you know, have it?', 'Tone': None, 'Event': 'NPC asks for your dropped armor', 'Condition': None, 'Response_to': nan}, {'Speaker': 'MaleCoward', 'Dialogue': \"Couldn't help but notice, that, um... you dropped some armor. Just wanted to check with you before I took it. Is that all right?\", 'Tone': None, 'Event': 'NPC asks for your dropped armor', 'Condition': None, 'Response_to': nan}, {'Speaker': 'FemaleYoungEager', 'Dialogue': \"Excuse me. I'm assuming that armor you got rid of wasn't an accident, but just in case, I wanted to make sure I could take it.\", 'Tone': None, 'Event': 'NPC asks for your dropped armor', 'Condition': None, 'Response_to': nan}, {'Speaker': 'MaleYoungEager', 'Dialogue': \"If you're not going use that armor you dropped... do you mind if I take it?\", 'Tone': None, 'Event': 'NPC asks for your dropped armor', 'Condition': None, 'Response_to': nan}, {'Speaker': 'MaleBrute', 'Dialogue': 'That armor you got rid of. I can have it, yeah?', 'Tone': None, 'Event': 'NPC asks for your dropped armor', 'Condition': None, 'Response_to': nan}, {'Speaker': 'MaleDrunk', 'Dialogue': 'Hey. That armor. You got rid of it, yeah? I can take it, no problem?', 'Tone': None, 'Event': 'NPC asks for your dropped armor', 'Condition': None, 'Response_to': nan}, {'Speaker': 'FemaleCommoner', 'Dialogue': \"That's great. I owe you one. Thanks!\", 'Tone': None, 'Event': 'NPC asks for your dropped armor', 'Condition': None, 'Response_to': 'Consider it yours.'}, {'Speaker': 'MaleCommoner or', 'Dialogue': 'My thanks!', 'Tone': None, 'Event': 'NPC asks for your dropped armor', 'Condition': None, 'Response_to': 'Consider it yours.'}, {'Speaker': 'MaleCommonerAccented', 'Dialogue': 'My thanks!', 'Tone': None, 'Event': 'NPC asks for your dropped armor', 'Condition': None, 'Response_to': 'Consider it yours.'}, {'Speaker': 'FemaleCoward', 'Dialogue': 'Oh, well, um... thank you.', 'Tone': None, 'Event': 'NPC asks for your dropped armor', 'Condition': None, 'Response_to': 'Consider it yours.'}, {'Speaker': 'MaleCoward', 'Dialogue': \"Well great! Let's see anyone try to hurt me now...\", 'Tone': None, 'Event': 'NPC asks for your dropped armor', 'Condition': None, 'Response_to': 'Consider it yours.'}, {'Speaker': 'FemaleYoungEager', 'Dialogue': \"Thanks! I'm going to go put it on right now.\", 'Tone': None, 'Event': 'NPC asks for your dropped armor', 'Condition': None, 'Response_to': 'Consider it yours.'}, {'Speaker': 'MaleYoungEager', 'Dialogue': \"I'm going to go get it right now and wear it. Many thanks!\", 'Tone': None, 'Event': 'NPC asks for your dropped armor', 'Condition': None, 'Response_to': 'Consider it yours.'}, {'Speaker': 'MaleBrute', 'Dialogue': 'Mighty decent of you.', 'Tone': None, 'Event': 'NPC asks for your dropped armor', 'Condition': None, 'Response_to': 'Consider it yours.'}, {'Speaker': 'MaleDrunk', 'Dialogue': \"Best luck I've had all day.\", 'Tone': None, 'Event': 'NPC asks for your dropped armor', 'Condition': None, 'Response_to': 'Consider it yours.'}, {'Speaker': 'FemaleCommoner', 'Dialogue': 'Oh. Well, you should probably go get it before someone steals it.', 'Tone': None, 'Event': 'NPC asks for your dropped armor', 'Condition': None, 'Response_to': \"It's mine. Don't touch it.\"}, {'Speaker': 'MaleCommoner or', 'Dialogue': \"You dropped it by mistake? Well, if I was you, I'd go grab it now before somebody does.\", 'Tone': None, 'Event': 'NPC asks for your dropped armor', 'Condition': None, 'Response_to': \"It's mine. Don't touch it.\"}, {'Speaker': 'MaleCommonerAccented', 'Dialogue': nan, 'Tone': None, 'Event': 'NPC asks for your dropped armor', 'Condition': None, 'Response_to': \"It's mine. Don't touch it.\"}, {'Speaker': 'FemaleCoward', 'Dialogue': \"Well... you probably should go collect it before someone else does, shouldn't you?\", 'Tone': None, 'Event': 'NPC asks for your dropped armor', 'Condition': None, 'Response_to': \"It's mine. Don't touch it.\"}, {'Speaker': 'MaleCoward', 'Dialogue': 'Aww. I thought you were done with it.', 'Tone': None, 'Event': 'NPC asks for your dropped armor', 'Condition': None, 'Response_to': \"It's mine. Don't touch it.\"}, {'Speaker': 'FemaleYoungEager', 'Dialogue': 'Oh... well. Never mind then.', 'Tone': None, 'Event': 'NPC asks for your dropped armor', 'Condition': None, 'Response_to': \"It's mine. Don't touch it.\"}, {'Speaker': 'MaleYoungEager', 'Dialogue': \"Well, you'd better go pick it up then, before someone snatches it.\", 'Tone': None, 'Event': 'NPC asks for your dropped armor', 'Condition': None, 'Response_to': \"It's mine. Don't touch it.\"}, {'Speaker': 'MaleBrute', 'Dialogue': \"Well what did you go dropping it for? Got my hopes up for nothin'...\", 'Tone': None, 'Event': 'NPC asks for your dropped armor', 'Condition': None, 'Response_to': \"It's mine. Don't touch it.\"}, {'Speaker': 'MaleDrunk', 'Dialogue': \"Well... fine. I wasn't really gonna do anything with it anyway. Hmph.\", 'Tone': None, 'Event': 'NPC asks for your dropped armor', 'Condition': None, 'Response_to': \"It's mine. Don't touch it.\"}, {'Speaker': 'MaleArgonian', 'Dialogue': 'Ah! That felt refreshing.', 'Tone': None, 'Event': 'A healing spell was casted on the NPC', 'Condition': None}, {'Speaker': 'FemaleArgonian', 'Dialogue': 'Healing spells always leave me light-headed...', 'Tone': None, 'Event': 'A healing spell was casted on the NPC', 'Condition': None}, {'Speaker': 'MaleBrute', 'Dialogue': 'What...hey! That felt good.', 'Tone': None, 'Event': 'A healing spell was casted on the NPC', 'Condition': None}, {'Speaker': 'MaleChild', 'Dialogue': 'Wow! What was that? Do it again!', 'Tone': None, 'Event': 'A healing spell was casted on the NPC', 'Condition': None}, {'Speaker': 'FemaleChild', 'Dialogue': 'Wow! What was that? Do it again!', 'Tone': None, 'Event': 'A healing spell was casted on the NPC', 'Condition': None}, {'Speaker': 'MaleCommander', 'Dialogue': 'No need to do that now.', 'Tone': None, 'Event': 'A healing spell was casted on the NPC', 'Condition': None}, {'Speaker': 'MaleNordCommander', 'Dialogue': 'Save it for the battlefield.', 'Tone': None, 'Event': 'A healing spell was casted on the NPC', 'Condition': None}, {'Speaker': 'FemaleCommander', 'Dialogue': 'My thanks. I feel... better.', 'Tone': None, 'Event': 'A healing spell was casted on the NPC', 'Condition': None}, {'Speaker': 'MaleCommoner', 'Dialogue': 'Hmm. Feel a bit better now. Thanks.', 'Tone': None, 'Event': 'A healing spell was casted on the NPC', 'Condition': None}, {'Speaker': 'MaleCommonerAccented', 'Dialogue': 'Hmm. Feel a bit better now. Thanks.', 'Tone': None, 'Event': 'A healing spell was casted on the NPC', 'Condition': None}, {'Speaker': 'FemaleCommoner', 'Dialogue': \"I wasn't hurt, but that did make me feel better.\", 'Tone': None, 'Event': 'A healing spell was casted on the NPC', 'Condition': None}, {'Speaker': 'MaleCondescending', 'Dialogue': \"I suppose you think you're better than me because you can do that?\", 'Tone': None, 'Event': 'A healing spell was casted on the NPC', 'Condition': None}, {'Speaker': 'FemaleCondescending', 'Dialogue': \"I suppose you think you're better than me because you can do that?\", 'Tone': None, 'Event': 'A healing spell was casted on the NPC', 'Condition': None}, {'Speaker': 'MaleCoward', 'Dialogue': 'Ah! What did you do? Stop that!', 'Tone': None, 'Event': 'A healing spell was casted on the NPC', 'Condition': None}, {'Speaker': 'FemaleCoward', 'Dialogue': 'Ah! What did you do? Stop that!', 'Tone': None, 'Event': 'A healing spell was casted on the NPC', 'Condition': None}, {'Speaker': 'MaleDarkElf', 'Dialogue': \"I hope you're not expecting a thank you.\", 'Tone': None, 'Event': 'A healing spell was casted on the NPC', 'Condition': None}, {'Speaker': 'FemaleDarkElf', 'Dialogue': \"I hope you're not expecting a thank you.\", 'Tone': None, 'Event': 'A healing spell was casted on the NPC', 'Condition': None}, {'Speaker': 'MaleDrunk', 'Dialogue': 'Hey! My hangover is gone!', 'Tone': None, 'Event': 'A healing spell was casted on the NPC', 'Condition': None}, {'Speaker': 'MaleElfHaughty', 'Dialogue': 'A healing spell? Was that really necessary?', 'Tone': None, 'Event': 'A healing spell was casted on the NPC', 'Condition': None}, {'Speaker': 'FemaleElfHaughty', 'Dialogue': 'A healing spell? Was that really necessary?', 'Tone': None, 'Event': 'A healing spell was casted on the NPC', 'Condition': None}, {'Speaker': 'MaleEvenToned', 'Dialogue': 'Was that some sort of... healing spell?', 'Tone': None, 'Event': 'A healing spell was casted on the NPC', 'Condition': None}, {'Speaker': 'FemaleEvenToned', 'Dialogue': 'A healing spell? Are you a priest?', 'Tone': None, 'Event': 'A healing spell was casted on the NPC', 'Condition': None}, {'Speaker': 'MaleKhajiit', 'Dialogue': 'Ah! I feel like I just woke from a nap.', 'Tone': None, 'Event': 'A healing spell was casted on the NPC', 'Condition': None}, {'Speaker': 'FemaleKhajiit', 'Dialogue': 'Mmm. That felt nice.', 'Tone': None, 'Event': 'A healing spell was casted on the NPC', 'Condition': None}, {'Speaker': 'MaleNord', 'Dialogue': 'Suddenly I feel much better.', 'Tone': None, 'Event': 'A healing spell was casted on the NPC', 'Condition': None}, {'Speaker': 'FemaleNord', 'Dialogue': 'Huh. I feel better now.', 'Tone': None, 'Event': 'A healing spell was casted on the NPC', 'Condition': None}, {'Speaker': 'MaleOldGrumpy', 'Dialogue': \"My old bones don't hurt so much now.\", 'Tone': None, 'Event': 'A healing spell was casted on the NPC', 'Condition': None}, {'Speaker': 'FemaleOldGrumpy', 'Dialogue': \"My old bones don't hurt so much now.\", 'Tone': None, 'Event': 'A healing spell was casted on the NPC', 'Condition': None}, {'Speaker': 'MaleOldKindly', 'Dialogue': \"My old bones don't hurt so much now.\", 'Tone': None, 'Event': 'A healing spell was casted on the NPC', 'Condition': None}, {'Speaker': 'FemaleOldKindly', 'Dialogue': \"My old bones don't hurt so much now.\", 'Tone': None, 'Event': 'A healing spell was casted on the NPC', 'Condition': None}, {'Speaker': 'MaleOrc', 'Dialogue': \"You heal away my scars and there's gonna be a problem...\", 'Tone': None, 'Event': 'A healing spell was casted on the NPC', 'Condition': None}, {'Speaker': 'FemaleOrc', 'Dialogue': 'Healing magic? An Orc lets her wounds heal naturally...', 'Tone': None, 'Event': 'A healing spell was casted on the NPC', 'Condition': None}, {'Speaker': 'FemaleShrill', 'Dialogue': \"Don't go casting spells on a woman without asking her permission.\", 'Tone': None, 'Event': 'A healing spell was casted on the NPC', 'Condition': None}, {'Speaker': 'MaleSlyCynical', 'Dialogue': 'Hey! You trying to pull a fast one on me?', 'Tone': None, 'Event': 'A healing spell was casted on the NPC', 'Condition': None}, {'Speaker': 'MaleSoldier', 'Dialogue': 'That put a spring in my step.', 'Tone': None, 'Event': 'A healing spell was casted on the NPC', 'Condition': None}, {'Speaker': 'FemaleSultry', 'Dialogue': 'Huh? What...oh! That felt nice.', 'Tone': None, 'Event': 'A healing spell was casted on the NPC', 'Condition': None}, {'Speaker': 'MaleYoungEager', 'Dialogue': 'Thanks! Not sure it was necessary, though.', 'Tone': None, 'Event': 'A healing spell was casted on the NPC', 'Condition': None}, {'Speaker': 'FemaleYoungEager', 'Dialogue': 'Thanks!', 'Tone': None, 'Event': 'A healing spell was casted on the NPC', 'Condition': None}, {'Speaker': 'MaleArgonian', 'Dialogue': 'I feel... unbeatable.', 'Tone': None, 'Event': 'A courage spell was casted on the NPC', 'Condition': None}, {'Speaker': 'FemaleArgonian', 'Dialogue': 'I feel like I can beat anything.', 'Tone': None, 'Event': 'A courage spell was casted on the NPC', 'Condition': None}, {'Speaker': 'MaleBrute', 'Dialogue': \"By the gods, I feel like I could crush a giant's head like a walnut.\", 'Tone': None, 'Event': 'A courage spell was casted on the NPC', 'Condition': None}, {'Speaker': 'MaleCommander', 'Dialogue': \"I'm just itching for a fight.\", 'Tone': None, 'Event': 'A courage spell was casted on the NPC', 'Condition': None}, {'Speaker': 'MaleNordCommander', 'Dialogue': \"I'm just itching for a fight.\", 'Tone': None, 'Event': 'A courage spell was casted on the NPC', 'Condition': None}, {'Speaker': 'FemaleCommander', 'Dialogue': \"I'm just itching for a fight.\", 'Tone': None, 'Event': 'A courage spell was casted on the NPC', 'Condition': None}, {'Speaker': 'MaleCommoner', 'Dialogue': 'Ha ha! Look out. Here I come!', 'Tone': None, 'Event': 'A courage spell was casted on the NPC', 'Condition': None}, {'Speaker': 'MaleCommonerAccented', 'Dialogue': 'Ha ha! Look out. Here I come!', 'Tone': None, 'Event': 'A courage spell was casted on the NPC', 'Condition': None}, {'Speaker': 'FemaleCommoner', 'Dialogue': \"I ain't scared of nothin'.\", 'Tone': None, 'Event': 'A courage spell was casted on the NPC', 'Condition': None}, {'Speaker': 'MaleCondescending', 'Dialogue': 'No one can defeat me.', 'Tone': None, 'Event': 'A courage spell was casted on the NPC', 'Condition': None}, {'Speaker': 'FemaleCondescending', 'Dialogue': 'No one can defeat me.', 'Tone': None, 'Event': 'A courage spell was casted on the NPC', 'Condition': None}, {'Speaker': 'MaleCoward', 'Dialogue': \"I've never felt this brave.\", 'Tone': None, 'Event': 'A courage spell was casted on the NPC', 'Condition': None}, {'Speaker': 'FemaleCoward', 'Dialogue': \"I've never felt this brave.\", 'Tone': None, 'Event': 'A courage spell was casted on the NPC', 'Condition': None}, {'Speaker': 'MaleDarkElf', 'Dialogue': 'There is none who can stand in my way.', 'Tone': None, 'Event': 'A courage spell was casted on the NPC', 'Condition': None}, {'Speaker': 'FemaleDarkElf', 'Dialogue': 'Suddenly I feel like I can take on the world.', 'Tone': None, 'Event': 'A courage spell was casted on the NPC', 'Condition': None}, {'Speaker': 'MaleDrunk', 'Dialogue': \"Come on, I can take anyone. And that ain't just the mead talkin'.\", 'Tone': None, 'Event': 'A courage spell was casted on the NPC', 'Condition': None}, {'Speaker': 'MaleElfHaughty', 'Dialogue': 'Bah! Is there no one who can offer a challenge?', 'Tone': None, 'Event': 'A courage spell was casted on the NPC', 'Condition': None}, {'Speaker': 'FemaleElfHaughty', 'Dialogue': 'Bah! Is there no one who can offer a challenge?', 'Tone': None, 'Event': 'A courage spell was casted on the NPC', 'Condition': None}, {'Speaker': 'MaleEvenToned', 'Dialogue': 'I feel like I can beat anyone.', 'Tone': None, 'Event': 'A courage spell was casted on the NPC', 'Condition': None}, {'Speaker': 'MaleEvenTonedAccented', 'Dialogue': 'I feel like I can beat anyone.', 'Tone': None, 'Event': 'A courage spell was casted on the NPC', 'Condition': None}, {'Speaker': 'FemaleEvenToned', 'Dialogue': \"I've never been more ready!\", 'Tone': None, 'Event': 'A courage spell was casted on the NPC', 'Condition': None}, {'Speaker': 'MaleKhajiit', 'Dialogue': 'Even my claws feel sharper.', 'Tone': None, 'Event': 'A courage spell was casted on the NPC', 'Condition': None}, {'Speaker': 'FemaleKhajiit', 'Dialogue': 'My claws are sharp. My will to kill... unquenchable.', 'Tone': None, 'Event': 'A courage spell was casted on the NPC', 'Condition': None}, {'Speaker': 'MaleNord', 'Dialogue': 'By Ysmir, I feel... invincible!', 'Tone': None, 'Event': 'A courage spell was casted on the NPC', 'Condition': None}, {'Speaker': 'FemaleNord', 'Dialogue': 'I cannot be beaten!', 'Tone': None, 'Event': 'A courage spell was casted on the NPC', 'Condition': None}, {'Speaker': 'MaleOldGrumpy', 'Dialogue': \"I may be old, but I can show 'em a trick or two.\", 'Tone': None, 'Event': 'A courage spell was casted on the NPC', 'Condition': None}, {'Speaker': 'FemaleOldGrumpy', 'Dialogue': \"I may be old, but I can show 'em a trick or two.\", 'Tone': None, 'Event': 'A courage spell was casted on the NPC', 'Condition': None}, {'Speaker': 'MaleOldKindly', 'Dialogue': \"I may be old, but I can show 'em a trick or two.\", 'Tone': None, 'Event': 'A courage spell was casted on the NPC', 'Condition': None}, {'Speaker': 'FemaleOldKindly', 'Dialogue': \"I may be old, but I can show 'em a trick or two.\", 'Tone': None, 'Event': 'A courage spell was casted on the NPC', 'Condition': None}, {'Speaker': 'MaleOrc', 'Dialogue': \"Been too long since I've embraced my rage...\", 'Tone': None, 'Event': 'A courage spell was casted on the NPC', 'Condition': None}, {'Speaker': 'FemaleOrc', 'Dialogue': \"I'm ready. Let's go!\", 'Tone': None, 'Event': 'A courage spell was casted on the NPC', 'Condition': None}, {'Speaker': 'FemaleShrill', 'Dialogue': 'Hmph. Everyone seems so insignificant now.', 'Tone': None, 'Event': 'A courage spell was casted on the NPC', 'Condition': None}, {'Speaker': 'MaleSlyCynical', 'Dialogue': \"I fight and I'll win. Simple as that.\", 'Tone': None, 'Event': 'A courage spell was casted on the NPC', 'Condition': None}, {'Speaker': 'MaleSoldier', 'Dialogue': 'Just point me to the fight.', 'Tone': None, 'Event': 'A courage spell was casted on the NPC', 'Condition': None}, {'Speaker': 'FemaleSultry', 'Dialogue': \"I'm ready. More than ready.\", 'Tone': None, 'Event': 'A courage spell was casted on the NPC', 'Condition': None}, {'Speaker': 'MaleYoungEager', 'Dialogue': 'I feel like I can take on all of Skyrim.', 'Tone': None, 'Event': 'A courage spell was casted on the NPC', 'Condition': None}, {'Speaker': 'FemaleYoungEager', 'Dialogue': \"Come on! Let's go.\", 'Tone': None, 'Event': 'A courage spell was casted on the NPC', 'Condition': None}, {'Speaker': 'MaleArgonian', 'Dialogue': \"What was that? Don't do it again.\", 'Tone': None, 'Event': 'A non dangerous spell was casted ', 'Condition': None}, {'Speaker': 'FemaleArgonian', 'Dialogue': \"Stop it! I don't like magic.\", 'Tone': None, 'Event': 'A non dangerous spell was casted ', 'Condition': None}, {'Speaker': 'MaleBrute', 'Dialogue': \"Huh? Don't do that!\", 'Tone': None, 'Event': 'A non dangerous spell was casted ', 'Condition': None}, {'Speaker': 'MaleChild', 'Dialogue': 'Wow! That was fun. Do it again!', 'Tone': None, 'Event': 'A non dangerous spell was casted ', 'Condition': None}, {'Speaker': 'FemaleChild', 'Dialogue': 'Wow! That was fun. Do it again!', 'Tone': None, 'Event': 'A non dangerous spell was casted ', 'Condition': None}, {'Speaker': 'MaleCommander', 'Dialogue': 'Hey! What the... keep your damn magic to yourself.', 'Tone': None, 'Event': 'A non dangerous spell was casted ', 'Condition': None}, {'Speaker': 'MaleNordCommander', 'Dialogue': 'Hey! What the... keep your damn magic to yourself.', 'Tone': None, 'Event': 'A non dangerous spell was casted ', 'Condition': None}, {'Speaker': 'FemaleCommander', 'Dialogue': 'Hey! What the... keep your damn magic to yourself.', 'Tone': None, 'Event': 'A non dangerous spell was casted ', 'Condition': None}, {'Speaker': 'MaleCommoner', 'Dialogue': \"Hey! I didn't ask you to magic me.\", 'Tone': None, 'Event': 'A non dangerous spell was casted ', 'Condition': None}, {'Speaker': 'MaleCommonerAccented', 'Dialogue': \"Hey! I didn't ask you to magic me.\", 'Tone': None, 'Event': 'A non dangerous spell was casted ', 'Condition': None}, {'Speaker': 'FemaleCommoner', 'Dialogue': 'Ah! Keep your spells away from me.', 'Tone': None, 'Event': 'A non dangerous spell was casted ', 'Condition': None}, {'Speaker': 'MaleCondescending', 'Dialogue': \"What the... Don't do that!\", 'Tone': None, 'Event': 'A non dangerous spell was casted ', 'Condition': None}, {'Speaker': 'FemaleCondescending', 'Dialogue': \"What the... Don't do that!\", 'Tone': None, 'Event': 'A non dangerous spell was casted ', 'Condition': None}, {'Speaker': 'MaleCoward', 'Dialogue': \"Ah Please! Don't hurt me!\", 'Tone': None, 'Event': 'A non dangerous spell was casted ', 'Condition': None}, {'Speaker': 'FemaleCoward', 'Dialogue': \"Ah Please! Don't hurt me!\", 'Tone': None, 'Event': 'A non dangerous spell was casted ', 'Condition': None}, {'Speaker': 'MaleDarkElf', 'Dialogue': \"Don't know what that was, but don't try it again.\", 'Tone': None, 'Event': 'A non dangerous spell was casted ', 'Condition': None}, {'Speaker': 'FemaleDarkElf', 'Dialogue': 'Keep your damn spells to yourself.', 'Tone': None, 'Event': 'A non dangerous spell was casted ', 'Condition': None}, {'Speaker': 'MaleDrunk', 'Dialogue': \"Huh... what was that? What'd you do?\", 'Tone': None, 'Event': 'A non dangerous spell was casted ', 'Condition': None}, {'Speaker': 'MaleElfHaughty', 'Dialogue': \"That was pathetic. It didn't even do anything.\", 'Tone': None, 'Event': 'A non dangerous spell was casted ', 'Condition': None}, {'Speaker': 'FemaleElfHaughty', 'Dialogue': \"That was pathetic. It didn't even do anything.\", 'Tone': None, 'Event': 'A non dangerous spell was casted ', 'Condition': None}, {'Speaker': 'MaleEvenToned', 'Dialogue': \"Hey! Don't do that.\", 'Tone': None, 'Event': 'A non dangerous spell was casted ', 'Condition': None}, {'Speaker': 'MaleEvenTonedAccented', 'Dialogue': \"Hey! Don't do that.\", 'Tone': None, 'Event': 'A non dangerous spell was casted ', 'Condition': None}, {'Speaker': 'FemaleEvenToned', 'Dialogue': \"Ah! Don't do that.\", 'Tone': None, 'Event': 'A non dangerous spell was casted ', 'Condition': None}, {'Speaker': 'MaleKhajiit', 'Dialogue': 'I did not ask for that! No more magic.', 'Tone': None, 'Event': 'A non dangerous spell was casted ', 'Condition': None}, {'Speaker': 'FemaleKhajiit', 'Dialogue': 'You there! That was uninvited. No more.', 'Tone': None, 'Event': 'A non dangerous spell was casted ', 'Condition': None}, {'Speaker': 'MaleNord', 'Dialogue': 'Hey! Stop that.', 'Tone': None, 'Event': 'A non dangerous spell was casted ', 'Condition': None}, {'Speaker': 'FemaleNord', 'Dialogue': 'Ah! Damn wizard. Keep your spells off of me.', 'Tone': None, 'Event': 'A non dangerous spell was casted ', 'Condition': None}, {'Speaker': 'MaleOldGrumpy', 'Dialogue': 'Stop that! Keep your spells to yourself.', 'Tone': None, 'Event': 'A non dangerous spell was casted ', 'Condition': None}, {'Speaker': 'FemaleOldGrumpy', 'Dialogue': 'Stop that! Keep your spells to yourself.', 'Tone': None, 'Event': 'A non dangerous spell was casted ', 'Condition': None}, {'Speaker': 'MaleOldKindly', 'Dialogue': 'Ah! Picking on an old man? What did I ever do to you?', 'Tone': None, 'Event': 'A non dangerous spell was casted ', 'Condition': None}, {'Speaker': 'FemaleOldKindly', 'Dialogue': \"Ah! I'm just an old woman. Don't hurt me.\", 'Tone': None, 'Event': 'A non dangerous spell was casted ', 'Condition': None}, {'Speaker': 'MaleOrc', 'Dialogue': 'Magic is for the weak. Pick up some steel if you want to fight me.', 'Tone': None, 'Event': 'A non dangerous spell was casted ', 'Condition': None}, {'Speaker': 'FemaleOrc', 'Dialogue': \"Don't try to magic me, you damn wizard.\", 'Tone': None, 'Event': 'A non dangerous spell was casted ', 'Condition': None}, {'Speaker': 'FemaleShrill', 'Dialogue': 'You stop that! I will not be violated by some... half-Septim magician!', 'Tone': None, 'Event': 'A non dangerous spell was casted ', 'Condition': None}, {'Speaker': 'MaleSlyCynical', 'Dialogue': 'Whoa, whoa, whoa? What did you do?', 'Tone': None, 'Event': 'A non dangerous spell was casted ', 'Condition': None}, {'Speaker': 'MaleSoldier', 'Dialogue': 'Wizards. There oughta be a law against them.', 'Tone': None, 'Event': 'A non dangerous spell was casted ', 'Condition': None}, {'Speaker': 'FemaleSultry', 'Dialogue': 'Hey! What are you trying to pull?', 'Tone': None, 'Event': 'A non dangerous spell was casted ', 'Condition': None}, {'Speaker': 'MaleYoungEager', 'Dialogue': \"Oh! I don't feel any different. What did you do?\", 'Tone': None, 'Event': 'A non dangerous spell was casted ', 'Condition': None}, {'Speaker': 'FemaleYoungEager', 'Dialogue': 'Oh! What did you just do?', 'Tone': None, 'Event': 'A non dangerous spell was casted ', 'Condition': None}, {'Speaker': 'FemaleChild', 'Dialogue': 'Oooh... pretty colors.', 'Tone': None, 'Event': 'A colourful spell was casted ', 'Condition': None}, {'Speaker': 'MaleChild', 'Dialogue': 'Wow! Look at all the colors!', 'Tone': None, 'Event': 'A colourful spell was casted ', 'Condition': None}, {'Speaker': 'FemaleCommoner', 'Dialogue': 'What a display of color!', 'Tone': None, 'Event': 'A colourful spell was casted ', 'Condition': None}, {'Speaker': 'MaleCommoner or MaleCommonerAccented', 'Dialogue': 'Colorful...', 'Tone': None, 'Event': 'A colourful spell was casted ', 'Condition': None}, {'Speaker': 'MaleDrunk', 'Dialogue': 'Whoa.', 'Tone': None, 'Event': 'A colourful spell was casted ', 'Condition': None}, {'Speaker': 'FemaleEvenToned', 'Dialogue': 'Oh, such colors!', 'Tone': None, 'Event': 'A colourful spell was casted ', 'Condition': None}, {'Speaker': 'MaleEvenToned or MaleEvenTonedAccented', 'Dialogue': 'Brilliant!', 'Tone': None, 'Event': 'A colourful spell was casted ', 'Condition': None}, {'Speaker': 'FemaleNord', 'Dialogue': 'Is that magic? Careful, please...', 'Tone': None, 'Event': 'A colourful spell was casted ', 'Condition': None}, {'Speaker': 'MaleNord', 'Dialogue': 'Keep that magic away from me.', 'Tone': None, 'Event': 'A colourful spell was casted ', 'Condition': None}, {'Speaker': 'FemaleYoungEager', 'Dialogue': 'Oh, look at the colors!', 'Tone': None, 'Event': 'A colourful spell was casted ', 'Condition': None}, {'Speaker': 'MaleYoungEager', 'Dialogue': \"Well hey, that's not something you see everyday.\", 'Tone': None, 'Event': 'A colourful spell was casted ', 'Condition': None}, {'Speaker': 'FemaleArgonian', 'Dialogue': \"Don't come too close with that.\", 'Tone': None, 'Event': 'A dangerous spell was casted ', 'Condition': None}, {'Speaker': 'MaleArgonian', 'Dialogue': \"It's wearing a dangerous spell...\", 'Tone': None, 'Event': 'A dangerous spell was casted ', 'Condition': None}, {'Speaker': 'FemaleChild', 'Dialogue': 'Get away from me!', 'Tone': None, 'Event': 'A dangerous spell was casted ', 'Condition': None}, {'Speaker': 'MaleChild', 'Dialogue': 'That looks dangerous...', 'Tone': None, 'Event': 'A dangerous spell was casted ', 'Condition': None}, {'Speaker': 'FemaleCommander', 'Dialogue': 'That spell looks dangerous... keep your distance.', 'Tone': None, 'Event': 'A dangerous spell was casted ', 'Condition': None}, {'Speaker': 'MaleCommander', 'Dialogue': 'That spell looks dangerous... keep your distance.', 'Tone': None, 'Event': 'A dangerous spell was casted ', 'Condition': None}, {'Speaker': 'FemaleCondescending', 'Dialogue': 'That spell looks dangerous... keep your distance.', 'Tone': None, 'Event': 'A dangerous spell was casted ', 'Condition': None}, {'Speaker': 'MaleCondescending', 'Dialogue': 'That spell looks dangerous... keep your distance.', 'Tone': None, 'Event': 'A dangerous spell was casted ', 'Condition': None}, {'Speaker': 'FemaleDarkElf', 'Dialogue': 'That spell looks dangerous... keep your distance.', 'Tone': None, 'Event': 'A dangerous spell was casted ', 'Condition': None}, {'Speaker': 'MaleDrunk', 'Dialogue': 'That spell looks dangerous... keep your distance.', 'Tone': None, 'Event': 'A dangerous spell was casted ', 'Condition': None}, {'Speaker': 'FemaleEvenToned', 'Dialogue': 'That spell looks dangerous... keep your distance.', 'Tone': None, 'Event': 'A dangerous spell was casted ', 'Condition': None}, {'Speaker': 'MaleEvenToned', 'Dialogue': 'That spell looks dangerous... keep your distance.', 'Tone': None, 'Event': 'A dangerous spell was casted ', 'Condition': None}, {'Speaker': 'MaleEvenTonedAccented', 'Dialogue': 'That spell looks dangerous... keep your distance.', 'Tone': None, 'Event': 'A dangerous spell was casted ', 'Condition': None}, {'Speaker': 'FemaleOldGrumpy', 'Dialogue': 'That spell looks dangerous... keep your distance.', 'Tone': None, 'Event': 'A dangerous spell was casted ', 'Condition': None}, {'Speaker': 'MaleOldGrumpy', 'Dialogue': 'That spell looks dangerous... keep your distance.', 'Tone': None, 'Event': 'A dangerous spell was casted ', 'Condition': None}, {'Speaker': 'FemaleShrill', 'Dialogue': 'That spell looks dangerous... keep your distance.', 'Tone': None, 'Event': 'A dangerous spell was casted ', 'Condition': None}, {'Speaker': 'MaleSoldier', 'Dialogue': 'That spell looks dangerous... keep your distance.', 'Tone': None, 'Event': 'A dangerous spell was casted ', 'Condition': None}, {'Speaker': 'FemaleSultry', 'Dialogue': 'That spell looks dangerous... keep your distance.', 'Tone': None, 'Event': 'A dangerous spell was casted ', 'Condition': None}, {'Speaker': 'MaleYoungEager', 'Dialogue': 'That spell looks dangerous... keep your distance.', 'Tone': None, 'Event': 'A dangerous spell was casted ', 'Condition': None}, {'Speaker': 'MaleBrute', 'Dialogue': \"That spell looks like it'll hurt.\", 'Tone': None, 'Event': 'A dangerous spell was casted ', 'Condition': None}, {'Speaker': 'FemaleCommoner', 'Dialogue': 'That spell looks dangerous...', 'Tone': None, 'Event': 'A dangerous spell was casted ', 'Condition': None}, {'Speaker': 'MaleCommoner', 'Dialogue': 'Please stay away while you got that spell on you.', 'Tone': None, 'Event': 'A dangerous spell was casted ', 'Condition': None}, {'Speaker': 'MaleCommonerAccented', 'Dialogue': 'Please stay away while you got that spell on you.', 'Tone': None, 'Event': 'A dangerous spell was casted ', 'Condition': None}, {'Speaker': 'FemaleCoward', 'Dialogue': 'Please! Keep that magic away from me.', 'Tone': None, 'Event': 'A dangerous spell was casted ', 'Condition': None}, {'Speaker': 'MaleCoward', 'Dialogue': \"Don't hurt me!\", 'Tone': None, 'Event': 'A dangerous spell was casted ', 'Condition': None}, {'Speaker': 'MaleDarkElf', 'Dialogue': 'Keep your distance.', 'Tone': None, 'Event': 'A dangerous spell was casted ', 'Condition': None}, {'Speaker': 'FemaleElfHaughty', 'Dialogue': 'You really should be more careful with the spells you cast.', 'Tone': None, 'Event': 'A dangerous spell was casted ', 'Condition': None}, {'Speaker': 'MaleElfHaughty', 'Dialogue': 'Walking around like that is why magic gets a bad name. Shame on you.', 'Tone': None, 'Event': 'A dangerous spell was casted ', 'Condition': None}, {'Speaker': 'MaleKhajiit', 'Dialogue': 'This one thinks you should be more careful with your spells.', 'Tone': None, 'Event': 'A dangerous spell was casted ', 'Condition': None}, {'Speaker': 'FemaleNord', 'Dialogue': 'You keep your distance with that magic\\xa0[sic]', 'Tone': None, 'Event': 'A dangerous spell was casted ', 'Condition': None}, {'Speaker': 'MaleNord', 'Dialogue': \"You're asking for trouble walking around with dangerous magic like that.\", 'Tone': None, 'Event': 'A dangerous spell was casted ', 'Condition': None}, {'Speaker': 'FemaleOldKindly', 'Dialogue': 'Dear, that spell is making me nervous.', 'Tone': None, 'Event': 'A dangerous spell was casted ', 'Condition': None}, {'Speaker': 'MaleOldKindly', 'Dialogue': 'Do be careful with that spell, will you?', 'Tone': None, 'Event': 'A dangerous spell was casted ', 'Condition': None}, {'Speaker': 'FemaleOrc', 'Dialogue': \"Hurt anyone with that spell and you'll be sorry.\", 'Tone': None, 'Event': 'A dangerous spell was casted ', 'Condition': None}, {'Speaker': 'MaleOrc', 'Dialogue': \"You better be careful with that magic, if you know what's good for you.\", 'Tone': None, 'Event': 'A dangerous spell was casted ', 'Condition': None}, {'Speaker': 'MaleSlyCynical', 'Dialogue': \"I trust you know what you're doing with that spell?\", 'Tone': None, 'Event': 'A dangerous spell was casted ', 'Condition': None}, {'Speaker': 'FemaleYoungEager', 'Dialogue': 'Uuh. Would you mind dousing that magic?', 'Tone': None, 'Event': 'A dangerous spell was casted ', 'Condition': None}, {'Speaker': 'FemaleElfHaughty', 'Dialogue': 'Are you a member of the College, or did you just steal those robes from a real wizard?', 'Tone': None, 'Event': 'Player is wearing a mage robe ', 'Condition': None}, {'Speaker': 'FemaleNord', 'Dialogue': 'You must be one of those wizards. From the College in Winterhold.', 'Tone': None, 'Event': 'Player is wearing a mage robe ', 'Condition': None}, {'Speaker': 'MaleChild', 'Dialogue': 'Wow! Look at that robe. Are you a wizard?', 'Tone': None, 'Event': 'Player is wearing a mage robe ', 'Condition': None}, {'Speaker': 'MaleElfHaughty', 'Dialogue': \"Those are College of Winterhold robes, aren't they?\", 'Tone': None, 'Event': 'Player is wearing a mage robe ', 'Condition': None}, {'Speaker': 'MaleNord', 'Dialogue': \"Fancy robes. You a wizard or somethin'?\", 'Tone': None, 'Event': 'Player is wearing a mage robe ', 'Condition': None}, {'Speaker': 'MaleYoungEager', 'Dialogue': 'I like your robes. Are you a sorcerer? From the College?', 'Tone': None, 'Event': 'Player is wearing a mage robe ', 'Condition': None}, {'Speaker': 'All NPCs', 'Dialogue': 'How did you do that?', 'Tone': None, 'Event': \"Player's dragon shouting\", 'Condition': None}, {'Speaker': 'All NPCs', 'Dialogue': 'What was that?', 'Tone': None, 'Event': \"Player's dragon shouting\", 'Condition': None}, {'Speaker': 'MaleChild', 'Dialogue': 'Are you a Greybeard?', 'Tone': None, 'Event': \"Player's dragon shouting\", 'Condition': None}, {'Speaker': 'FemaleChild', 'Dialogue': 'Are you a Greybeard?', 'Tone': None, 'Event': \"Player's dragon shouting\", 'Condition': None}, {'Speaker': 'MaleCommander', 'Dialogue': \"That sound... it's deafening!\", 'Tone': None, 'Event': \"Player's dragon shouting\", 'Condition': None}, {'Speaker': 'FemaleCommander', 'Dialogue': \"That sound... it's deafening!\", 'Tone': None, 'Event': \"Player's dragon shouting\", 'Condition': None}, {'Speaker': 'MaleNordCommander', 'Dialogue': \"That sound... it's deafening!\", 'Tone': None, 'Event': \"Player's dragon shouting\", 'Condition': None}, {'Speaker': 'MaleCommander', 'Dialogue': \"What in Arkay's name was that?\", 'Tone': None, 'Event': \"Player's dragon shouting\", 'Condition': None}, {'Speaker': 'FemaleCommander', 'Dialogue': \"What in Arkay's name was that?\", 'Tone': None, 'Event': \"Player's dragon shouting\", 'Condition': None}, {'Speaker': 'MaleNordCommander', 'Dialogue': \"What in Arkay's name was that?\", 'Tone': None, 'Event': \"Player's dragon shouting\", 'Condition': None}, {'Speaker': 'MaleDarkElf', 'Dialogue': 'The Voice? Here?', 'Tone': None, 'Event': \"Player's dragon shouting\", 'Condition': None}, {'Speaker': 'FemaleDarkElf', 'Dialogue': 'The Voice? Here?', 'Tone': None, 'Event': \"Player's dragon shouting\", 'Condition': None}, {'Speaker': 'MaleDarkElf', 'Dialogue': 'That sound could bring mountains down!', 'Tone': None, 'Event': \"Player's dragon shouting\", 'Condition': None}, {'Speaker': 'FemaleDarkElf', 'Dialogue': 'That sound could bring mountains down!', 'Tone': None, 'Event': \"Player's dragon shouting\", 'Condition': None}, {'Speaker': 'MaleElfHaughty', 'Dialogue': 'What sort of power was that?', 'Tone': None, 'Event': \"Player's dragon shouting\", 'Condition': None}, {'Speaker': 'FemaleElfHaughty', 'Dialogue': 'What sort of power was that?', 'Tone': None, 'Event': \"Player's dragon shouting\", 'Condition': None}, {'Speaker': 'MaleElfHaughty', 'Dialogue': 'That was amazing!', 'Tone': None, 'Event': \"Player's dragon shouting\", 'Condition': None}, {'Speaker': 'FemaleElfHaughty', 'Dialogue': 'That was amazing!', 'Tone': None, 'Event': \"Player's dragon shouting\", 'Condition': None}, {'Speaker': 'MaleEvenToned', 'Dialogue': 'Are you Dragonborn?', 'Tone': None, 'Event': \"Player's dragon shouting\", 'Condition': None}, {'Speaker': 'MaleEvenTonedAccented', 'Dialogue': 'Are you Dragonborn?', 'Tone': None, 'Event': \"Player's dragon shouting\", 'Condition': None}, {'Speaker': 'FemaleEvenToned', 'Dialogue': 'Are you Dragonborn?', 'Tone': None, 'Event': \"Player's dragon shouting\", 'Condition': None}, {'Speaker': 'MaleEvenToned', 'Dialogue': 'By the gods, is that the Voice?', 'Tone': None, 'Event': \"Player's dragon shouting\", 'Condition': None}, {'Speaker': 'MaleEvenTonedAccented', 'Dialogue': 'By the gods, is that the Voice?', 'Tone': None, 'Event': \"Player's dragon shouting\", 'Condition': None}, {'Speaker': 'FemaleEvenToned', 'Dialogue': 'By the gods, is that the Voice?', 'Tone': None, 'Event': \"Player's dragon shouting\", 'Condition': None}, {'Speaker': 'MaleKhajiit', 'Dialogue': 'Louder than the roar of the Mane, that is!', 'Tone': None, 'Event': \"Player's dragon shouting\", 'Condition': None}, {'Speaker': 'FemaleKhajiit', 'Dialogue': 'Louder than the roar of the Mane, that is!', 'Tone': None, 'Event': \"Player's dragon shouting\", 'Condition': None}, {'Speaker': 'MaleKhajiit', 'Dialogue': \"S'rendarr's mercy!\", 'Tone': None, 'Event': \"Player's dragon shouting\", 'Condition': None}, {'Speaker': 'FemaleKhajiit', 'Dialogue': \"S'rendarr's mercy!\", 'Tone': None, 'Event': \"Player's dragon shouting\", 'Condition': None}, {'Speaker': 'MaleNord', 'Dialogue': 'Dragonborn!', 'Tone': None, 'Event': \"Player's dragon shouting\", 'Condition': None}, {'Speaker': 'FemaleNord', 'Dialogue': 'Dragonborn!', 'Tone': None, 'Event': \"Player's dragon shouting\", 'Condition': None}, {'Speaker': 'MaleNord', 'Dialogue': \"Shor's blood, the Thu'um!\", 'Tone': None, 'Event': \"Player's dragon shouting\", 'Condition': None}, {'Speaker': 'FemaleNord', 'Dialogue': \"Shor's blood, the Thu'um!\", 'Tone': None, 'Event': \"Player's dragon shouting\", 'Condition': None}, {'Speaker': 'MaleOrc', 'Dialogue': 'You have a mighty voice!', 'Tone': None, 'Event': \"Player's dragon shouting\", 'Condition': None}, {'Speaker': 'FemaleOrc', 'Dialogue': 'You have a mighty voice!', 'Tone': None, 'Event': \"Player's dragon shouting\", 'Condition': None}, {'Speaker': 'MaleOrc', 'Dialogue': 'That voice is power!', 'Tone': None, 'Event': \"Player's dragon shouting\", 'Condition': None}, {'Speaker': 'FemaleOrc', 'Dialogue': 'That voice is power!', 'Tone': None, 'Event': \"Player's dragon shouting\", 'Condition': None}, {'Speaker': 'MaleSoldier', 'Dialogue': 'Could that be... the Voice?', 'Tone': None, 'Event': \"Player's dragon shouting\", 'Condition': None}, {'Speaker': 'MaleSoldier', 'Dialogue': 'Those words have such power!', 'Tone': None, 'Event': \"Player's dragon shouting\", 'Condition': None}, {'Speaker': 'MaleYoungEager', 'Dialogue': 'Wow!', 'Tone': None, 'Event': \"Player's dragon shouting\", 'Condition': None}, {'Speaker': 'FemaleYoungEager', 'Dialogue': 'Wow!', 'Tone': None, 'Event': \"Player's dragon shouting\", 'Condition': None}, {'Speaker': 'MaleYoungEager', 'Dialogue': 'That must be the Voice!', 'Tone': None, 'Event': \"Player's dragon shouting\", 'Condition': None}, {'Speaker': 'FemaleYoungEager', 'Dialogue': 'That must be the Voice!', 'Tone': None, 'Event': \"Player's dragon shouting\", 'Condition': None}, {'Speaker': 'MaleDrunk', 'Dialogue': 'Did anyone else hear that?', 'Tone': None, 'Event': \"Player's dragon shouting\", 'Condition': None}, {'Speaker': 'MaleDrunk', 'Dialogue': 'By the gods, my ears...', 'Tone': None, 'Event': \"Player's dragon shouting\", 'Condition': None}, {'Speaker': 'FemaleSultry', 'Dialogue': 'That gave me the shivers!', 'Tone': None, 'Event': \"Player's dragon shouting\", 'Condition': None}, {'Speaker': 'FemaleSultry', 'Dialogue': \"Now that's a real man!\", 'Tone': None, 'Event': \"Player's dragon shouting\", 'Condition': None}, {'Speaker': 'MaleCoward', 'Dialogue': 'Oh gods, my ears!', 'Tone': None, 'Event': \"Player's dragon shouting\", 'Condition': None}, {'Speaker': 'MaleOldGrumpy', 'Dialogue': 'Not so loud!', 'Tone': None, 'Event': \"Player's dragon shouting\", 'Condition': None}, {'Speaker': 'FemaleOldGrumpy', 'Dialogue': 'Not so loud!', 'Tone': None, 'Event': \"Player's dragon shouting\", 'Condition': None}, {'Speaker': 'FemaleShrill', 'Dialogue': 'Not so loud!', 'Tone': None, 'Event': \"Player's dragon shouting\", 'Condition': None}, {'Speaker': 'MaleSlyCynical', 'Dialogue': 'Not so loud!', 'Tone': None, 'Event': \"Player's dragon shouting\", 'Condition': None}, {'Speaker': 'MaleOldKindly or', 'Dialogue': \"I haven't heard a true shout in generations!\", 'Tone': None, 'Event': \"Player's dragon shouting\", 'Condition': None}, {'Speaker': 'FemaleOldKindly', 'Dialogue': \"I haven't heard a true shout in generations!\", 'Tone': None, 'Event': \"Player's dragon shouting\", 'Condition': None}, {'Speaker': 'MaleOldKindly or', 'Dialogue': \"Now that's the true Voice!\", 'Tone': None, 'Event': \"Player's dragon shouting\", 'Condition': None}, {'Speaker': 'FemaleOldKindly', 'Dialogue': \"Now that's the true Voice!\", 'Tone': None, 'Event': \"Player's dragon shouting\", 'Condition': None}, {'Speaker': 'All voicetypes', 'Dialogue': \"Oh no! By the gods! This can't be happening!\", 'Tone': None, 'Event': 'Spotting a dead corpse', 'Condition': None}, {'Speaker': 'MaleArgonian', 'Dialogue': 'Hsss! Dead. Who did this?', 'Tone': None, 'Event': 'Spotting a dead corpse', 'Condition': None}, {'Speaker': 'MaleBandit', 'Dialogue': \"What...? Whoever did this, you're dead. You hear me? Dead!\", 'Tone': None, 'Event': 'Spotting a dead corpse', 'Condition': None}, {'Speaker': 'MaleForsworn', 'Dialogue': 'Kill one of us, and three more will take their place. The Forsworn are unstoppable.', 'Tone': None, 'Event': 'Spotting a dead corpse', 'Condition': None}, {'Speaker': 'MaleGuard', 'Dialogue': \"We've got a murderer on the loose...\", 'Tone': None, 'Event': 'Spotting a dead corpse', 'Condition': None}, {'Speaker': 'MaleUniqueGhost', 'Dialogue': 'Your body lies dead, but your soul has joined our ranks...', 'Tone': None, 'Event': 'Spotting a dead corpse', 'Condition': None}, {'Speaker': 'FemaleUniqueGhost', 'Dialogue': 'Your body lies dead, but your soul has joined our ranks...', 'Tone': None, 'Event': 'Spotting a dead corpse', 'Condition': None}, {'Speaker': 'MaleSoldier', 'Dialogue': \"Damn. We've got trouble.\", 'Tone': None, 'Event': 'Spotting a dead corpse', 'Condition': None}, {'Speaker': 'MaleNord', 'Dialogue': \"Sovngarde take your soul. I'll avenge your body.\", 'Tone': None, 'Event': 'Spotting a dead corpse', 'Condition': None}, {'Speaker': nan, 'Dialogue': \"By Ysmir! There's a killer about.\", 'Tone': None, 'Event': 'Spotting a dead corpse', 'Condition': None}, {'Speaker': 'FemaleNord', 'Dialogue': \"By Ysmir! There's a killer about.\", 'Tone': None, 'Event': 'Spotting a dead corpse', 'Condition': None}, {'Speaker': 'MaleSlyCynical', 'Dialogue': 'Well now, this is unexpected...', 'Tone': None, 'Event': 'Spotting a dead corpse', 'Condition': None}, {'Speaker': 'MaleKhajiit', 'Dialogue': \"I'll claw the eyes out of whoever did this!\", 'Tone': None, 'Event': 'Spotting a dead corpse', 'Condition': None}, {'Speaker': 'FemaleSultry', 'Dialogue': \"Dead! Someone's going to pay for this.\", 'Tone': None, 'Event': 'Spotting a dead corpse', 'Condition': None}, {'Speaker': 'MaleYoungEager', 'Dialogue': 'No...', 'Tone': None, 'Event': 'Spotting a dead corpse', 'Condition': None}, {'Speaker': 'FemaleYoungEager', 'Dialogue': 'No...', 'Tone': None, 'Event': 'Spotting a dead corpse', 'Condition': None}, {'Speaker': 'MaleCommander', 'Dialogue': 'Damn it, this will not stand!', 'Tone': None, 'Event': 'Spotting a dead corpse', 'Condition': None}, {'Speaker': 'MaleNordCommander', 'Dialogue': 'Damn it, this will not stand!', 'Tone': None, 'Event': 'Spotting a dead corpse', 'Condition': None}, {'Speaker': 'FemaleCommander', 'Dialogue': 'Damn it, this will not stand!', 'Tone': None, 'Event': 'Spotting a dead corpse', 'Condition': None}, {'Speaker': 'MaleCommoner', 'Dialogue': \"What...? No... No, this can't be happening...\", 'Tone': None, 'Event': 'Spotting a dead corpse', 'Condition': None}, {'Speaker': 'MaleCommonerAccented', 'Dialogue': \"What...? No... No, this can't be happening...\", 'Tone': None, 'Event': 'Spotting a dead corpse', 'Condition': None}, {'Speaker': 'FemaleCommoner', 'Dialogue': \"What...? No... No, this can't be happening...\", 'Tone': None, 'Event': 'Spotting a dead corpse', 'Condition': None}, {'Speaker': 'MaleCondescending', 'Dialogue': 'A...a body! How absolutely terrible.', 'Tone': None, 'Event': 'Spotting a dead corpse', 'Condition': None}, {'Speaker': 'FemaleCondescending', 'Dialogue': 'A...a body! How absolutely terrible.', 'Tone': None, 'Event': 'Spotting a dead corpse', 'Condition': None}, {'Speaker': 'FemaleShrill', 'Dialogue': 'A...a body! How absolutely terrible.', 'Tone': None, 'Event': 'Spotting a dead corpse', 'Condition': None}, {'Speaker': 'MaleDarkElf', 'Dialogue': 'Murdered? By Azura, who would do such a thing?', 'Tone': None, 'Event': 'Spotting a dead corpse', 'Condition': None}, {'Speaker': 'FemaleDarkElf', 'Dialogue': 'Murdered? By Azura, who would do such a thing?', 'Tone': None, 'Event': 'Spotting a dead corpse', 'Condition': None}, {'Speaker': 'MaleElfHaughty', 'Dialogue': 'What? Someone will suffer for this injustice.', 'Tone': None, 'Event': 'Spotting a dead corpse', 'Condition': None}, {'Speaker': 'FemaleElfHaughty', 'Dialogue': 'What? Someone will suffer for this injustice.', 'Tone': None, 'Event': 'Spotting a dead corpse', 'Condition': None}, {'Speaker': 'MaleEvenToned', 'Dialogue': \"I'm going to find whoever did this, and when I do...\", 'Tone': None, 'Event': 'Spotting a dead corpse', 'Condition': None}, {'Speaker': 'MaleEvenTonedAccented', 'Dialogue': \"I'm going to find whoever did this, and when I do...\", 'Tone': None, 'Event': 'Spotting a dead corpse', 'Condition': None}, {'Speaker': 'MaleOrc', 'Dialogue': \"Hmph. Looks like we got a cutthroat skulkin' around...\", 'Tone': None, 'Event': 'Spotting a dead corpse', 'Condition': None}, {'Speaker': 'FemaleOrc', 'Dialogue': \"Ain't nothing pretty about a corpse. No matter how fresh.\", 'Tone': None, 'Event': 'Spotting a dead corpse', 'Condition': None}, {'Speaker': 'All NPCs', 'Dialogue': 'Is someone there?', 'Tone': None, 'Event': 'Hearing an enemy', 'Condition': 'In Combat'}, {'Speaker': 'All NPCs', 'Dialogue': 'Huh?', 'Tone': None, 'Event': 'Hearing an enemy', 'Condition': 'In Combat'}, {'Speaker': 'All NPCs', 'Dialogue': \"I know you're here somewhere.\", 'Tone': None, 'Event': 'Searching for an enemy', 'Condition': 'In Combat'}, {'Speaker': 'All NPCs', 'Dialogue': 'I know you can hear me!', 'Tone': None, 'Event': 'Searching for an enemy', 'Condition': 'In Combat'}, {'Speaker': 'All NPCs', 'Dialogue': \"Hello? Who's there?\", 'Tone': None, 'Event': 'Searching for an enemy', 'Condition': 'In Combat'}, {'Speaker': 'All NPCs', 'Dialogue': \"I'm going to find you...\", 'Tone': None, 'Event': 'Searching for an enemy', 'Condition': 'In Combat'}, {'Speaker': 'All NPCs', 'Dialogue': 'I knew I heard something!', 'Tone': None, 'Event': 'Spotting an enemy', 'Condition': 'In Combat'}, {'Speaker': 'All NPCs', 'Dialogue': 'Ha! Found you!', 'Tone': None, 'Event': 'Spotting an enemy', 'Condition': 'In Combat'}, {'Speaker': 'All NPCs', 'Dialogue': 'Get back here!', 'Tone': None, 'Event': 'Losing sight of an enemy', 'Condition': 'In Combat'}, {'Speaker': 'All NPCs', 'Dialogue': \"Where'd you go?\", 'Tone': None, 'Event': 'Losing sight of an enemy', 'Condition': 'In Combat'}, {'Speaker': 'All NPCs', 'Dialogue': 'Where are you?', 'Tone': None, 'Event': 'Losing sight of an enemy', 'Condition': 'In Combat'}, {'Speaker': 'All NPCs', 'Dialogue': \"You can't get away from me!\", 'Tone': None, 'Event': 'Losing sight of an enemy', 'Condition': 'In Combat'}, {'Speaker': 'All NPCs', 'Dialogue': \"I'll find you...\", 'Tone': None, 'Event': 'Losing sight of an enemy', 'Condition': 'In Combat'}, {'Speaker': 'All NPCs', 'Dialogue': 'Must be my imagination.', 'Tone': None, 'Event': 'Giving up searching an enemy', 'Condition': 'In Combat'}, {'Speaker': 'All NPCs', 'Dialogue': \"Mind's playing tricks on me...\", 'Tone': None, 'Event': 'Giving up searching an enemy', 'Condition': 'In Combat'}, {'Speaker': 'All NPCs', 'Dialogue': 'Hmm. Nothing here after all.', 'Tone': None, 'Event': 'Giving up searching an enemy', 'Condition': 'In Combat'}, {'Speaker': 'All NPCs', 'Dialogue': 'Ran off, I suppose.', 'Tone': None, 'Event': 'Giving up searching an enemy', 'Condition': 'In Combat'}, {'Speaker': 'All NPCs', 'Dialogue': 'No one/nobody here now.', 'Tone': None, 'Event': 'Giving up searching an enemy', 'Condition': 'In Combat'}, {'Speaker': 'All NPCs', 'Dialogue': \"That'll teach you.\", 'Tone': None, 'Event': 'Defeating an enemy', 'Condition': 'In Combat'}, {'Speaker': 'All NPCs', 'Dialogue': \"That's the end of that.\", 'Tone': None, 'Event': 'Defeating an enemy', 'Condition': 'In Combat'}, {'Speaker': 'All NPCs', 'Dialogue': 'Teach you to mess with me.', 'Tone': None, 'Event': 'Defeating an enemy', 'Condition': 'In Combat'}, {'Speaker': 'All NPCs', 'Dialogue': \"I hope there aren't any more.\", 'Tone': None, 'Event': 'Defeating an enemy', 'Condition': 'In Combat'}, {'Speaker': 'All NPCs', 'Dialogue': 'Phew!', 'Tone': None, 'Event': 'Defeating an enemy', 'Condition': 'In Combat'}, {'Speaker': 'All NPCs', 'Dialogue': \"By Ysmir, you'll pay for that!\", 'Tone': None, 'Event': 'Taking a hit', 'Condition': 'In Combat'}, {'Speaker': 'All NPCs', 'Dialogue': 'Ha! Like the bite of a flea!', 'Tone': None, 'Event': 'Taking a hit', 'Condition': 'In Combat'}, {'Speaker': 'All NPCs', 'Dialogue': \"Agh! Flithy n'wah!\", 'Tone': None, 'Event': 'Taking a hit', 'Condition': 'In Combat'}, {'Speaker': 'All NPCs', 'Dialogue': 'Damn you!', 'Tone': None, 'Event': 'Taking a hit', 'Condition': 'In Combat'}, {'Speaker': 'All NPCs', 'Dialogue': 'Do your worst!', 'Tone': None, 'Event': 'Taking a hit', 'Condition': 'In Combat'}, {'Speaker': 'All NPCs', 'Dialogue': \"Ha! I've suffered worse during training!\", 'Tone': None, 'Event': 'Taking a hit', 'Condition': 'In Combat'}, {'Speaker': 'All NPCs', 'Dialogue': 'Lucky... hit...', 'Tone': None, 'Event': 'Taking a hit', 'Condition': 'In Combat'}, {'Speaker': 'All NPCs', 'Dialogue': 'Agh! Enough! This ends now!', 'Tone': None, 'Event': 'Taking a hit', 'Condition': 'In Combat'}, {'Speaker': 'All NPCs', 'Dialogue': \"That's... all you've got?\", 'Tone': None, 'Event': 'Taking a hit', 'Condition': 'In Combat'}, {'Speaker': 'All NPCs', 'Dialogue': 'Azura curse you!', 'Tone': None, 'Event': 'Taking a hit', 'Condition': 'In Combat'}, {'Speaker': 'All NPCs', 'Dialogue': \"I'm gonna wear that tail as a belt!\", 'Tone': None, 'Event': 'Taking a hit', 'Condition': 'In Combat'}, {'Speaker': 'All NPCs', 'Dialogue': 'Agh! Bastard!', 'Tone': None, 'Event': 'Taking a hit', 'Condition': 'In Combat'}, {'Speaker': 'All NPCs', 'Dialogue': 'Fall to me, dragon!', 'Tone': None, 'Event': 'Fighting a dragon', 'Condition': 'In Combat'}, {'Speaker': 'All NPCs', 'Dialogue': \"Die, N'wah!\", 'Tone': None, 'Event': 'Taunting an enemy', 'Condition': 'In Combat'}, {'Speaker': 'All NPCs', 'Dialogue': 'Hsssss!', 'Tone': None, 'Event': 'Taunting an enemy', 'Condition': 'In Combat'}, {'Speaker': 'All NPCs', 'Dialogue': \"Ha! I think you're bleeding!\", 'Tone': None, 'Event': 'Taunting an enemy', 'Condition': 'In Combat'}, {'Speaker': 'All NPCs', 'Dialogue': 'Just... stand still!', 'Tone': None, 'Event': 'Taunting an enemy', 'Condition': 'In Combat'}, {'Speaker': 'All NPCs', 'Dialogue': \"I'm going to... put you down!\", 'Tone': None, 'Event': 'Taunting an enemy', 'Condition': 'In Combat'}, {'Speaker': 'All NPCs', 'Dialogue': 'Not impressed!', 'Tone': None, 'Event': 'Taunting an enemy', 'Condition': 'In Combat'}, {'Speaker': 'All NPCs', 'Dialogue': \"I'll try and make this quick!\", 'Tone': None, 'Event': 'Taunting an enemy', 'Condition': 'In Combat'}, {'Speaker': 'All NPCs', 'Dialogue': 'Give up while you still can!', 'Tone': None, 'Event': 'Taunting an enemy', 'Condition': 'In Combat'}, {'Speaker': 'All NPCs', 'Dialogue': \"I'll mount your head on my wall\", 'Tone': None, 'Event': 'Taunting an enemy', 'Condition': 'In Combat'}, {'Speaker': 'All NPCs', 'Dialogue': 'Aghh! Just... die already!', 'Tone': None, 'Event': 'Taunting an enemy', 'Condition': 'In Combat'}, {'Speaker': 'All NPCs', 'Dialogue': 'No more! I yield! I yield!', 'Tone': None, 'Event': 'Losing a fight', 'Condition': 'In Combat'}, {'Speaker': 'All NPCs', 'Dialogue': 'Death is highly overrated!', 'Tone': None, 'Event': 'Losing a fight', 'Condition': 'In Combat'}, {'Speaker': 'All NPCs', 'Dialogue': 'I cannot best you!', 'Tone': None, 'Event': 'Losing a fight', 'Condition': 'In Combat'}, {'Speaker': 'All NPCs', 'Dialogue': 'Enough!', 'Tone': None, 'Event': 'Losing a fight', 'Condition': 'In Combat'}, {'Speaker': 'All NPCs', 'Dialogue': 'What was that?', 'Tone': None, 'Event': 'Hearing an enemy', 'Condition': 'In Combat'}, {'Speaker': 'All NPCs', 'Dialogue': 'What was that?', 'Tone': None, 'Event': 'Hearing an enemy', 'Condition': 'In Combat'}, {'Speaker': 'All NPCs', 'Dialogue': 'I know I heard something.', 'Tone': None, 'Event': 'Searching for an enemy', 'Condition': 'In Combat'}, {'Speaker': 'All NPCs', 'Dialogue': 'Come on, show yourself!', 'Tone': None, 'Event': 'Searching for an enemy', 'Condition': 'In Combat'}, {'Speaker': 'All NPCs', 'Dialogue': 'Anybody there?', 'Tone': None, 'Event': 'Searching for an enemy', 'Condition': 'In Combat'}, {'Speaker': 'All NPCs', 'Dialogue': 'Anybody there?', 'Tone': None, 'Event': 'Searching for an enemy', 'Condition': 'In Combat'}, {'Speaker': 'All NPCs', 'Dialogue': 'Over here!', 'Tone': None, 'Event': 'Spotting an enemy', 'Condition': 'In Combat'}, {'Speaker': 'All NPCs', 'Dialogue': 'Over here!', 'Tone': None, 'Event': 'Spotting an enemy', 'Condition': 'In Combat'}, {'Speaker': 'All NPCs', 'Dialogue': 'Show yourself!', 'Tone': None, 'Event': 'Losing sight of an enemy', 'Condition': 'In Combat'}, {'Speaker': 'All NPCs', 'Dialogue': 'Come back here!', 'Tone': None, 'Event': 'Losing sight of an enemy', 'Condition': 'In Combat'}, {'Speaker': 'All NPCs', 'Dialogue': \"You can't hide forever!\", 'Tone': None, 'Event': 'Losing sight of an enemy', 'Condition': 'In Combat'}, {'Speaker': 'All NPCs', 'Dialogue': \"You can't hide from me!\", 'Tone': None, 'Event': 'Losing sight of an enemy', 'Condition': 'In Combat'}, {'Speaker': 'All NPCs', 'Dialogue': 'Where are you hiding?', 'Tone': None, 'Event': 'Losing sight of an enemy', 'Condition': 'In Combat'}, {'Speaker': 'All NPCs', 'Dialogue': 'Just getting jumpy I guess.', 'Tone': None, 'Event': 'Giving up searching an enemy', 'Condition': 'In Combat'}, {'Speaker': 'All NPCs', 'Dialogue': 'I guess I was just hearing things.', 'Tone': None, 'Event': 'Giving up searching an enemy', 'Condition': 'In Combat'}, {'Speaker': 'All NPCs', 'Dialogue': 'I was sure I heard something.', 'Tone': None, 'Event': 'Giving up searching an enemy', 'Condition': 'In Combat'}, {'Speaker': 'All NPCs', 'Dialogue': \"Must've scared 'em off.\", 'Tone': None, 'Event': 'Giving up searching an enemy', 'Condition': 'In Combat'}, {'Speaker': 'All NPCs', 'Dialogue': 'Cleared out, I guess.', 'Tone': None, 'Event': 'Giving up searching an enemy', 'Condition': 'In Combat'}, {'Speaker': 'All NPCs', 'Dialogue': \"That'll teach you to cross me.\", 'Tone': None, 'Event': 'Defeating an enemy', 'Condition': 'In Combat'}, {'Speaker': 'All NPCs', 'Dialogue': 'That takes care of that.', 'Tone': None, 'Event': 'Defeating an enemy', 'Condition': 'In Combat'}, {'Speaker': 'All NPCs', 'Dialogue': \"That's the last of them.\", 'Tone': None, 'Event': 'Defeating an enemy', 'Condition': 'In Combat'}, {'Speaker': 'All NPCs', 'Dialogue': 'All over now.', 'Tone': None, 'Event': 'Defeating an enemy', 'Condition': 'In Combat'}, {'Speaker': 'All NPCs', 'Dialogue': 'Good enough.', 'Tone': None, 'Event': 'Defeating an enemy', 'Condition': 'In Combat'}, {'Speaker': 'All NPCs', 'Dialogue': 'Ugh! That it? That your best?', 'Tone': None, 'Event': 'Taking a hit', 'Condition': 'In Combat'}, {'Speaker': 'All NPCs', 'Dialogue': 'Just a... scratch!', 'Tone': None, 'Event': 'Taking a hit', 'Condition': 'In Combat'}, {'Speaker': 'All NPCs', 'Dialogue': 'That the best you can do?', 'Tone': None, 'Event': 'Taking a hit', 'Condition': 'In Combat'}, {'Speaker': 'All NPCs', 'Dialogue': 'Gods, no!', 'Tone': None, 'Event': 'Taking a hit', 'Condition': 'In Combat'}, {'Speaker': 'All NPCs', 'Dialogue': 'Agh! I been wounded worse by better!', 'Tone': None, 'Event': 'Taking a hit', 'Condition': 'In Combat'}, {'Speaker': 'All NPCs', 'Dialogue': \"That's it? That's all you've got?\", 'Tone': None, 'Event': 'Taking a hit', 'Condition': 'In Combat'}, {'Speaker': 'All NPCs', 'Dialogue': 'Son of a...', 'Tone': None, 'Event': 'Taking a hit', 'Condition': 'In Combat'}, {'Speaker': 'All NPCs', 'Dialogue': 'That your best? Huh?', 'Tone': None, 'Event': 'Taking a hit', 'Condition': 'In Combat'}, {'Speaker': 'All NPCs', 'Dialogue': \"It's... nothing...\", 'Tone': None, 'Event': 'Taking a hit', 'Condition': 'In Combat'}, {'Speaker': 'All NPCs', 'Dialogue': \"You'll make a fine rug, cat!\", 'Tone': None, 'Event': 'Taking a hit', 'Condition': 'In Combat'}, {'Speaker': 'All NPCs', 'Dialogue': \"I'll see you burn!\", 'Tone': None, 'Event': 'Taking a hit', 'Condition': 'In Combat'}, {'Speaker': 'All NPCs', 'Dialogue': \"I'll see you burn!\", 'Tone': None, 'Event': 'Taking a hit', 'Condition': 'In Combat'}, {'Speaker': 'All NPCs', 'Dialogue': 'Die, dragon!', 'Tone': None, 'Event': 'Fighting a dragon', 'Condition': 'In Combat'}, {'Speaker': 'All NPCs', 'Dialogue': 'Filthy fetcher!', 'Tone': None, 'Event': 'Taunting an enemy', 'Condition': 'In Combat'}, {'Speaker': 'All NPCs', 'Dialogue': 'For Skyrim!', 'Tone': None, 'Event': 'Taunting an enemy', 'Condition': 'In Combat'}, {'Speaker': 'All NPCs', 'Dialogue': \"Weren't expecting that, were you!\", 'Tone': None, 'Event': 'Taunting an enemy', 'Condition': 'In Combat'}, {'Speaker': 'All NPCs', 'Dialogue': 'Die, damn you!', 'Tone': None, 'Event': 'Taunting an enemy', 'Condition': 'In Combat'}, {'Speaker': 'All NPCs', 'Dialogue': \"I'll have your head!\", 'Tone': None, 'Event': 'Taunting an enemy', 'Condition': 'In Combat'}, {'Speaker': 'All NPCs', 'Dialogue': 'Going to cry now? Huh?', 'Tone': None, 'Event': 'Taunting an enemy', 'Condition': 'In Combat'}, {'Speaker': 'All NPCs', 'Dialogue': \"You can't win this!\", 'Tone': None, 'Event': 'Taunting an enemy', 'Condition': 'In Combat'}, {'Speaker': 'All NPCs', 'Dialogue': 'Gods... damn you!', 'Tone': None, 'Event': 'Taunting an enemy', 'Condition': 'In Combat'}, {'Speaker': 'All NPCs', 'Dialogue': 'Going to enjoy killing you!', 'Tone': None, 'Event': 'Taunting an enemy', 'Condition': 'In Combat'}, {'Speaker': 'All NPCs', 'Dialogue': 'I’ve had enough of you!', 'Tone': None, 'Event': 'Taunting an enemy', 'Condition': 'In Combat'}, {'Speaker': 'All NPCs', 'Dialogue': 'Mercy!', 'Tone': None, 'Event': 'Losing a fight', 'Condition': 'In Combat'}, {'Speaker': 'All NPCs', 'Dialogue': 'We are routed! Fall back!', 'Tone': None, 'Event': 'Losing a fight', 'Condition': 'In Combat'}, {'Speaker': 'All NPCs', 'Dialogue': 'Victory is yours! I submit!', 'Tone': None, 'Event': 'Losing a fight', 'Condition': 'In Combat'}, {'Speaker': 'All NPCs', 'Dialogue': \"I'll live to drink another day!\", 'Tone': None, 'Event': 'Losing a fight', 'Condition': 'In Combat'}]\n"
     ]
    }
   ],
   "source": [
    "print(data)"
   ],
   "metadata": {
    "collapsed": false,
    "ExecuteTime": {
     "end_time": "2024-04-27T11:49:30.765079300Z",
     "start_time": "2024-04-27T11:49:30.702995600Z"
    }
   },
   "id": "c91a5044251590ef",
   "execution_count": 42
  },
  {
   "cell_type": "code",
   "outputs": [],
   "source": [
    "def convert_all_to_string(data):\n",
    "    \"\"\"\n",
    "    Recursively convert all data in a dictionary or list to string.\n",
    "    \"\"\"\n",
    "    if isinstance(data, dict):\n",
    "        return {key: convert_all_to_string(value) for key, value in data.items()}\n",
    "    elif isinstance(data, list):\n",
    "        return [convert_all_to_string(item) for item in data]\n",
    "    else:\n",
    "        return str(data)\n",
    "\n",
    "# Convert all data to string\n",
    "string_data = convert_all_to_string(data)"
   ],
   "metadata": {
    "collapsed": false,
    "ExecuteTime": {
     "end_time": "2024-04-27T11:49:30.767079700Z",
     "start_time": "2024-04-27T11:49:30.722061600Z"
    }
   },
   "id": "b7a8e0b17a4c3e93",
   "execution_count": 43
  },
  {
   "cell_type": "code",
   "outputs": [],
   "source": [
    "\n",
    "# Write the string data to a json file\n",
    "with open('string_data.json', 'w') as f:\n",
    "    f.write(json.dumps(string_data, indent=4))"
   ],
   "metadata": {
    "collapsed": false,
    "ExecuteTime": {
     "end_time": "2024-04-27T11:49:30.773082100Z",
     "start_time": "2024-04-27T11:49:30.730063300Z"
    }
   },
   "id": "e526b0f4c943a12f",
   "execution_count": 44
  },
  {
   "cell_type": "code",
   "outputs": [],
   "source": [],
   "metadata": {
    "collapsed": false,
    "ExecuteTime": {
     "end_time": "2024-04-27T11:49:30.775081800Z",
     "start_time": "2024-04-27T11:49:30.742487200Z"
    }
   },
   "id": "e276dbd443a4143e",
   "execution_count": 44
  },
  {
   "cell_type": "code",
   "outputs": [],
   "source": [],
   "metadata": {
    "collapsed": false,
    "ExecuteTime": {
     "end_time": "2024-04-27T11:49:30.777082Z",
     "start_time": "2024-04-27T11:49:30.744992300Z"
    }
   },
   "id": "aead74ebb3aff0e9",
   "execution_count": 44
  }
 ],
 "metadata": {
  "kernelspec": {
   "display_name": "Python 3",
   "language": "python",
   "name": "python3"
  },
  "language_info": {
   "codemirror_mode": {
    "name": "ipython",
    "version": 2
   },
   "file_extension": ".py",
   "mimetype": "text/x-python",
   "name": "python",
   "nbconvert_exporter": "python",
   "pygments_lexer": "ipython2",
   "version": "2.7.6"
  }
 },
 "nbformat": 4,
 "nbformat_minor": 5
}
