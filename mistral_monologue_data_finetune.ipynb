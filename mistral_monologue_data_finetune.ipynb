{
 "cells": [
  {
   "cell_type": "code",
   "execution_count": 1,
   "id": "initial_id",
   "metadata": {
    "collapsed": true,
    "jupyter": {
     "outputs_hidden": true
    },
    "ExecuteTime": {
     "end_time": "2024-06-15T12:41:03.882545600Z",
     "start_time": "2024-06-15T12:40:59.470459600Z"
    }
   },
   "outputs": [],
   "source": [
    "from datasets import load_dataset\n",
    "\n",
    "train_dataset = load_dataset(\"json\", data_files=\"dataset_final_results/introduction_train.json\")\n",
    "val_dataset = load_dataset(\"json\", data_files=\"dataset_final_results/introduction_val.json\")\n",
    "test_dataset = load_dataset(\"json\", data_files=\"dataset_final_results/introduction_test.json\")"
   ]
  },
  {
   "cell_type": "code",
   "execution_count": 2,
   "id": "8f92a617057aac80",
   "metadata": {
    "collapsed": false,
    "ExecuteTime": {
     "end_time": "2024-06-15T12:41:03.890549500Z",
     "start_time": "2024-06-15T12:41:03.884546600Z"
    }
   },
   "outputs": [
    {
     "data": {
      "text/plain": "DatasetDict({\n    train: Dataset({\n        features: ['Game', 'Context', 'Monologue'],\n        num_rows: 40\n    })\n})"
     },
     "execution_count": 2,
     "metadata": {},
     "output_type": "execute_result"
    }
   ],
   "source": [
    "train_dataset"
   ]
  },
  {
   "cell_type": "code",
   "execution_count": 3,
   "id": "b0c6ecad2a2d2007",
   "metadata": {
    "collapsed": false,
    "ExecuteTime": {
     "end_time": "2024-06-15T12:41:03.902224500Z",
     "start_time": "2024-06-15T12:41:03.889548600Z"
    }
   },
   "outputs": [
    {
     "data": {
      "text/plain": "DatasetDict({\n    train: Dataset({\n        features: ['Game', 'Context', 'Monologue'],\n        num_rows: 5\n    })\n})"
     },
     "execution_count": 3,
     "metadata": {},
     "output_type": "execute_result"
    }
   ],
   "source": [
    "val_dataset"
   ]
  },
  {
   "cell_type": "code",
   "execution_count": 4,
   "id": "61a9af870c68ea6a",
   "metadata": {
    "collapsed": false,
    "ExecuteTime": {
     "end_time": "2024-06-15T12:41:03.959742Z",
     "start_time": "2024-06-15T12:41:03.897120400Z"
    }
   },
   "outputs": [
    {
     "data": {
      "text/plain": "DatasetDict({\n    train: Dataset({\n        features: ['Game', 'Context', 'Monologue'],\n        num_rows: 5\n    })\n})"
     },
     "execution_count": 4,
     "metadata": {},
     "output_type": "execute_result"
    }
   ],
   "source": [
    "test_dataset"
   ]
  },
  {
   "cell_type": "code",
   "execution_count": 5,
   "id": "dad8e9abba327408",
   "metadata": {
    "collapsed": false,
    "ExecuteTime": {
     "end_time": "2024-06-15T12:41:07.630602200Z",
     "start_time": "2024-06-15T12:41:03.905730Z"
    }
   },
   "outputs": [],
   "source": [
    "from accelerate import FullyShardedDataParallelPlugin, Accelerator\n",
    "from torch.distributed.fsdp.fully_sharded_data_parallel import FullOptimStateDictConfig, FullStateDictConfig\n",
    "\n",
    "fsdp_plugin = FullyShardedDataParallelPlugin(\n",
    "    state_dict_config=FullStateDictConfig(offload_to_cpu=True, rank0_only=False),\n",
    "    optim_state_dict_config=FullOptimStateDictConfig(offload_to_cpu=True, rank0_only=False),\n",
    ")\n",
    "\n",
    "accelerator = Accelerator(fsdp_plugin=fsdp_plugin)"
   ]
  },
  {
   "cell_type": "code",
   "execution_count": 6,
   "id": "131418b6535338bf",
   "metadata": {
    "collapsed": false,
    "ExecuteTime": {
     "end_time": "2024-06-15T12:41:07.635430200Z",
     "start_time": "2024-06-15T12:41:07.631602700Z"
    }
   },
   "outputs": [],
   "source": [
    "def formatting_func(example):\n",
    "    if example['Monologue'] is not None:\n",
    "        return f\"\"\"\n",
    "In the following text, there is a description about introductory monologues in a video game. The text will be enclosed within <START> and <END>. There are specific rules that apply only to the text: the title of the current game will always be enclosed inside <TITLE> and </TITLE>, the monologue will always be enclosed inside <MONO> and </MONO>, and the context will be enclosed inside <CONTEXT> and </CONTEXT>.\n",
    "\n",
    "<START>\n",
    "In video games, sometimes there is an introductory monologue delivered by a narrator. The narrator can either be an unknown narrator or a character that exists within the game, and they introduce the Player to the world, the story, and the setting of the game with the assistance of an introductory monologue. \n",
    "\n",
    "This monologue is based on the game's setting, world, story, and the Player's role in the game. Here is some context describing these elements about the game called <TITLE>{example['Game']}</TITLE>:\n",
    "\n",
    "<CONTEXT>{example['Context']}</CONTEXT>\n",
    "    \n",
    "<TITLE>{example['Game']}</TITLE>'s introductory monologue is as follows:\n",
    "\n",
    "<MONO>{example['Monologue']}</MONO>\n",
    "\n",
    "<END>\"\"\"\n"
   ]
  },
  {
   "cell_type": "code",
   "outputs": [],
   "source": [
    "# Explicitly setting the token\n",
    "import os\n",
    "os.environ[\"HF_TOKEN\"] = \"\""
   ],
   "metadata": {
    "collapsed": false,
    "ExecuteTime": {
     "end_time": "2024-06-15T12:41:07.647018300Z",
     "start_time": "2024-06-15T12:41:07.634430300Z"
    }
   },
   "id": "a7010b90e0c1f23",
   "execution_count": 7
  },
  {
   "cell_type": "code",
   "execution_count": 8,
   "id": "380cd97b582df263",
   "metadata": {
    "collapsed": false,
    "ExecuteTime": {
     "end_time": "2024-06-15T12:41:08.481891500Z",
     "start_time": "2024-06-15T12:41:07.642016400Z"
    }
   },
   "outputs": [],
   "source": [
    "import torch\n",
    "from transformers import AutoTokenizer, AutoModelForCausalLM, BitsAndBytesConfig, AutoConfig\n",
    "config = AutoConfig.from_pretrained(\"mistralai/Mistral-7B-Instruct-v0.2\")"
   ]
  },
  {
   "cell_type": "code",
   "outputs": [],
   "source": [
    "base_model_id = \"mistralai/Mistral-7B-Instruct-v0.2\""
   ],
   "metadata": {
    "collapsed": false,
    "ExecuteTime": {
     "end_time": "2024-06-15T12:41:08.487413600Z",
     "start_time": "2024-06-15T12:41:08.481891500Z"
    }
   },
   "id": "d632f344ba9aabd4",
   "execution_count": 9
  },
  {
   "cell_type": "code",
   "outputs": [],
   "source": [
    "bnb_config = BitsAndBytesConfig(\n",
    "    load_in_4bit=True,\n",
    "    bnb_4bit_use_double_quant=True,\n",
    "    bnb_4bit_quant_type=\"nf4\",\n",
    "    bnb_4bit_compute_dtype=torch.bfloat16\n",
    ")"
   ],
   "metadata": {
    "collapsed": false,
    "ExecuteTime": {
     "end_time": "2024-06-15T12:41:08.498687100Z",
     "start_time": "2024-06-15T12:41:08.486413400Z"
    }
   },
   "id": "9a7f272e3e8e4ecc",
   "execution_count": 10
  },
  {
   "cell_type": "code",
   "outputs": [
    {
     "name": "stderr",
     "output_type": "stream",
     "text": [
      "`low_cpu_mem_usage` was None, now set to True since model is quantized.\n"
     ]
    },
    {
     "data": {
      "text/plain": "Loading checkpoint shards:   0%|          | 0/3 [00:00<?, ?it/s]",
      "application/vnd.jupyter.widget-view+json": {
       "version_major": 2,
       "version_minor": 0,
       "model_id": "6cbb2dbe4eb94c068befe4641153e5c8"
      }
     },
     "metadata": {},
     "output_type": "display_data"
    }
   ],
   "source": [
    "model = AutoModelForCausalLM.from_pretrained(base_model_id, quantization_config=bnb_config,config=config)\n",
    "\n",
    "tokenizer = AutoTokenizer.from_pretrained(\n",
    "    base_model_id,\n",
    "    padding_side=\"left\",\n",
    "    add_eos_token=True,\n",
    "    add_bos_token=True,\n",
    ")\n",
    "tokenizer.pad_token = tokenizer.eos_token\n"
   ],
   "metadata": {
    "collapsed": false,
    "ExecuteTime": {
     "end_time": "2024-06-15T12:41:45.001118800Z",
     "start_time": "2024-06-15T12:41:08.493687100Z"
    }
   },
   "id": "5e3d64226cbbc1df",
   "execution_count": 11
  },
  {
   "cell_type": "code",
   "execution_count": 12,
   "id": "cfe4ef3ec3c37141",
   "metadata": {
    "collapsed": false,
    "ExecuteTime": {
     "end_time": "2024-06-15T12:41:45.006120900Z",
     "start_time": "2024-06-15T12:41:45.002613600Z"
    }
   },
   "outputs": [],
   "source": [
    "def generate_and_tokenize_prompt(prompt):\n",
    "    return tokenizer(formatting_func(prompt))"
   ]
  },
  {
   "cell_type": "code",
   "execution_count": 13,
   "id": "6a540269d58fd473",
   "metadata": {
    "collapsed": false,
    "ExecuteTime": {
     "end_time": "2024-06-15T12:41:45.052531400Z",
     "start_time": "2024-06-15T12:41:45.005120300Z"
    }
   },
   "outputs": [],
   "source": [
    "tokenized_train_dataset = train_dataset.map(generate_and_tokenize_prompt)"
   ]
  },
  {
   "cell_type": "code",
   "execution_count": 13,
   "id": "4c4e0d60cc136063",
   "metadata": {
    "collapsed": false,
    "ExecuteTime": {
     "end_time": "2024-06-15T12:27:10.261702800Z",
     "start_time": "2024-06-15T12:27:10.233670Z"
    }
   },
   "outputs": [],
   "source": [
    "tokenized_val_dataset = val_dataset.map(generate_and_tokenize_prompt)"
   ]
  },
  {
   "cell_type": "code",
   "execution_count": 14,
   "id": "fe34416de1121bf2",
   "metadata": {
    "collapsed": false,
    "ExecuteTime": {
     "end_time": "2024-06-15T12:27:10.818639900Z",
     "start_time": "2024-06-15T12:27:10.262702800Z"
    }
   },
   "outputs": [
    {
     "name": "stdout",
     "output_type": "stream",
     "text": [
      "45\n"
     ]
    },
    {
     "data": {
      "text/plain": "<Figure size 1000x600 with 1 Axes>",
      "image/png": "[encoded data removed]"
     },
     "metadata": {},
     "output_type": "display_data"
    }
   ],
   "source": [
    "import matplotlib.pyplot as plt\n",
    "\n",
    "\n",
    "def plot_data_lengths(tokenized_train_dataset, tokenized_val_dataset):\n",
    "    lengths = [len(x['input_ids']) for x in tokenized_train_dataset['train']]\n",
    "    lengths += [len(x['input_ids']) for x in tokenized_val_dataset['train']]\n",
    "    print(len(lengths))\n",
    "\n",
    "    # Plotting the histogram\n",
    "    plt.figure(figsize=(10, 6))\n",
    "    plt.hist(lengths, bins=20, alpha=0.7, color='blue')\n",
    "    plt.xlabel('Length of input_ids')\n",
    "    plt.ylabel('Frequency')\n",
    "    plt.title('Distribution of Lengths of input_ids')\n",
    "    plt.show()\n",
    "\n",
    "plot_data_lengths(tokenized_train_dataset, tokenized_val_dataset)"
   ]
  },
  {
   "cell_type": "code",
   "execution_count": 15,
   "id": "805a339c5f8c1dbd",
   "metadata": {
    "collapsed": false,
    "ExecuteTime": {
     "end_time": "2024-06-15T12:27:10.923844Z",
     "start_time": "2024-06-15T12:27:10.819639200Z"
    }
   },
   "outputs": [
    {
     "name": "stdout",
     "output_type": "stream",
     "text": [
      "Mean: 723.725\n",
      "95th percentile: 947.15\n",
      "Max length: 1228\n"
     ]
    }
   ],
   "source": [
    "import numpy as np\n",
    "\n",
    "lengths = [len(x['input_ids']) for x in tokenized_train_dataset['train']]\n",
    "\n",
    "print(f\"Mean: {np.mean(lengths)}\")\n",
    "\n",
    "# Calculate the 95th percentile\n",
    "print(f\"95th percentile: {np.percentile(lengths, 95)}\")\n",
    "\n",
    "# Calculate the max length\n",
    "print(f\"Max length: {np.max(lengths)}\")"
   ]
  },
  {
   "cell_type": "code",
   "execution_count": 16,
   "id": "6b3e76e5d59b83b4",
   "metadata": {
    "collapsed": false,
    "ExecuteTime": {
     "end_time": "2024-06-15T12:27:10.925845Z",
     "start_time": "2024-06-15T12:27:10.857939100Z"
    }
   },
   "outputs": [],
   "source": [
    "max_length = 1228  # This was an appropriate max length for my dataset\n",
    "\n",
    "def generate_and_tokenize_prompt2(prompt):\n",
    "    result = tokenizer(\n",
    "        formatting_func(prompt),\n",
    "        truncation=True,\n",
    "        max_length=max_length,\n",
    "        padding=\"max_length\",\n",
    "    )\n",
    "    result[\"labels\"] = result[\"input_ids\"].copy()\n",
    "    return result"
   ]
  },
  {
   "cell_type": "code",
   "execution_count": 17,
   "id": "a4121ff13e365288",
   "metadata": {
    "collapsed": false,
    "ExecuteTime": {
     "end_time": "2024-06-15T12:27:10.958852300Z",
     "start_time": "2024-06-15T12:27:10.861737700Z"
    }
   },
   "outputs": [],
   "source": [
    "tokenized_train_dataset = train_dataset.map(generate_and_tokenize_prompt2)\n",
    "tokenized_val_dataset = val_dataset.map(generate_and_tokenize_prompt2)"
   ]
  },
  {
   "cell_type": "code",
   "execution_count": 18,
   "id": "5673a5175e6f2638",
   "metadata": {
    "collapsed": false,
    "ExecuteTime": {
     "end_time": "2024-06-15T12:27:11.131521300Z",
     "start_time": "2024-06-15T12:27:10.922843900Z"
    }
   },
   "outputs": [
    {
     "name": "stdout",
     "output_type": "stream",
     "text": [
      "45\n"
     ]
    },
    {
     "data": {
      "text/plain": "<Figure size 1000x600 with 1 Axes>",
      "image/png": "[encoded data removed]"
     },
     "metadata": {},
     "output_type": "display_data"
    }
   ],
   "source": [
    "plot_data_lengths(tokenized_train_dataset, tokenized_val_dataset)"
   ]
  },
  {
   "cell_type": "code",
   "execution_count": 19,
   "id": "678f82c73601a318",
   "metadata": {
    "collapsed": false,
    "ExecuteTime": {
     "end_time": "2024-06-15T10:31:56.176858300Z",
     "start_time": "2024-06-15T10:31:56.165863200Z"
    }
   },
   "outputs": [],
   "source": [
    "eval_prompt = (f\"\"\"\n",
    "In the following text, there is a description about introductory monologues in a video game. The text will be enclosed within <START> and <END>. There are specific rules that apply only to the text: the title of the current game will always be enclosed inside <TITLE> and </TITLE>, the monologue will always be enclosed inside <MONO> and </MONO>, and the context will be enclosed inside <CONTEXT> and </CONTEXT>. Your task is to generate the missing dialogue line between the <MONO> and </MONO> tags inside the provided text.\n",
    "\n",
    "<START>\n",
    "In video games, sometimes there is an introductory monologue delivered by a narrator. The narrator can either be an unknown narrator or a character that exists within the game, and they introduce the Player to the world, the story, and the setting of the game with the assistance of an introductory monologue. \n",
    "\n",
    "This monologue is based on the game's setting, world, story, and the Player's role in the game. Here is some context describing these elements about the game called <TITLE>Elden Ring</TITLE>:\n",
    "\n",
    "<CONTEXT>In <TITLE>Elden Ring</TITLE>, the introductory monologue delivered by a narrator sets the stage for the game's epic dark fantasy narrative. The player takes on the role of a Tarnished, one of the dead who yet live, called back to the Lands Between to restore the fractured world. The once-great Elden Ring has been shattered, and Queen Marika the Eternal has disappeared. On the Night of the Black Knives, the demigod Godwin the Golden was the first to fall, leading Marika's demigod offspring to seize the shards of the Elden Ring. Their newfound power triggered the Shattering, a catastrophic war that left the Lands Between in chaos and abandoned by the Greater Will. The Tarnished, including chieftains, sorcerers, and other notable figures, are beckoned by the call of long-lost grace to reclaim their destiny. As a Tarnished of no renown, the player must cross the fog to the Lands Between, face formidable foes, and seek to reunite the Elden Ring, ultimately striving to become the Elden Lord. The game explores themes of power, legacy, and redemption in a richly detailed and mysterious world.</CONTEXT>\n",
    "    \n",
    "<TITLE>Elden Ring</TITLE>'s introductory monologue is as follows:\n",
    "\n",
    "<MONO> </MONO>\n",
    "\n",
    "<END>\n",
    "\n",
    "Answer:\n",
    "\"\"\")"
   ]
  },
  {
   "cell_type": "code",
   "execution_count": 23,
   "id": "47c8339c7d3e3ea2",
   "metadata": {
    "collapsed": false,
    "ExecuteTime": {
     "end_time": "2024-06-15T09:47:10.812040600Z",
     "start_time": "2024-06-15T09:47:02.681590600Z"
    }
   },
   "outputs": [
    {
     "name": "stderr",
     "output_type": "stream",
     "text": [
      "Setting `pad_token_id` to `eos_token_id`:2 for open-end generation.\n"
     ]
    },
    {
     "name": "stdout",
     "output_type": "stream",
     "text": [
      "\n",
      "In the following text, there is a description about introductory monologues in a video game. The text will be enclosed within <START> and <END>. There are specific rules that apply only to the text: the title of the current game will always be enclosed inside <TITLE> and </TITLE>, the monologue will always be enclosed inside <MONO> and </MONO>, and the context will be enclosed inside <CONTEXT> and </CONTEXT>. Your task is to generate the missing dialogue line between the <MONO> and </MONO> tags inside the provided text.\n",
      "\n",
      "<START>\n",
      "In video games, sometimes there is an introductory monologue delivered by a narrator. The narrator can either be an unknown narrator or a character that exists within the game, and they introduce the Player to the world, the story, and the setting of the game with the assistance of an introductory monologue. \n",
      "\n",
      "This monologue is based on the game's setting, world, story, and the Player's role in the game. Here is some context describing these elements about the game called <TITLE>Elden Ring</TITLE>:\n",
      "\n",
      "<CONTEXT>In <TITLE>Elden Ring</TITLE>, the introductory monologue delivered by a narrator sets the stage for the game's epic dark fantasy narrative. The player takes on the role of a Tarnished, one of the dead who yet live, called back to the Lands Between to restore the fractured world. The once-great Elden Ring has been shattered, and Queen Marika the Eternal has disappeared. On the Night of the Black Knives, the demigod Godwin the Golden was the first to fall, leading Marika's demigod offspring to seize the shards of the Elden Ring. Their newfound power triggered the Shattering, a catastrophic war that left the Lands Between in chaos and abandoned by the Greater Will. The Tarnished, including chieftains, sorcerers, and other notable figures, are beckoned by the call of long-lost grace to reclaim their destiny. As a Tarnished of no renown, the player must cross the fog to the Lands Between, face formidable foes, and seek to reunite the Elden Ring, ultimately striving to become the Elden Lord. The game explores themes of power, legacy, and redemption in a richly detailed and mysterious world.</CONTEXT>\n",
      "    \n",
      "<TITLE>Elden Ring</TITLE>'s introductory monologue is as follows:\n",
      "\n",
      "<MONO> </MONO>\n",
      "\n",
      "<END>\n",
      "\n",
      "Answer:\n",
      "<MONO>\"Welcome, adventurer, to the Lands Between. A world torn apart by the Shattering, where the Elden Ring lies in fragments and the Greater Will has withdrawn from the realm. You have been chosen, not by fate, but by your own desire to reclaim what was lost. As a Tarnished, you were once human, but now stand among the dead who yet live. Gather your strength and embark on this journey to restore the Elden Ring and claim your place as the Elden Lord.\"</MONO>\n"
     ]
    }
   ],
   "source": [
    "# Init an eval tokenizer that doesn't add padding or eos token\n",
    "eval_tokenizer = AutoTokenizer.from_pretrained(\n",
    "    base_model_id,\n",
    "    add_bos_token=True,\n",
    ")\n",
    "\n",
    "model_input = eval_tokenizer(eval_prompt, return_tensors=\"pt\").to(\"cuda\")\n",
    "\n",
    "model.eval()\n",
    "with torch.no_grad():\n",
    "    print(eval_tokenizer.decode(model.generate(**model_input, max_new_tokens=2000, repetition_penalty=1.15)[0],\n",
    "                                skip_special_tokens=True))"
   ]
  },
  {
   "cell_type": "code",
   "execution_count": 19,
   "id": "570b93f08b1b61eb",
   "metadata": {
    "collapsed": false,
    "ExecuteTime": {
     "end_time": "2024-06-15T12:27:11.241075400Z",
     "start_time": "2024-06-15T12:27:11.131521300Z"
    }
   },
   "outputs": [],
   "source": [
    "from peft import prepare_model_for_kbit_training\n",
    "\n",
    "model.gradient_checkpointing_enable()\n",
    "model = prepare_model_for_kbit_training(model)"
   ]
  },
  {
   "cell_type": "code",
   "execution_count": 20,
   "id": "ddf562f6b54c4893",
   "metadata": {
    "collapsed": false,
    "ExecuteTime": {
     "end_time": "2024-06-15T12:27:11.243075700Z",
     "start_time": "2024-06-15T12:27:11.234619600Z"
    }
   },
   "outputs": [],
   "source": [
    "def print_trainable_parameters(model):\n",
    "    \"\"\"\n",
    "    Prints the number of trainable parameters in the model.\n",
    "    \"\"\"\n",
    "    trainable_params = 0\n",
    "    all_param = 0\n",
    "    for _, param in model.named_parameters():\n",
    "        all_param += param.numel()\n",
    "        if param.requires_grad:\n",
    "            trainable_params += param.numel()\n",
    "    print(\n",
    "        f\"trainable params: {trainable_params} || all params: {all_param} || trainable%: {100 * trainable_params / all_param}\"\n",
    "    )"
   ]
  },
  {
   "cell_type": "code",
   "execution_count": 21,
   "id": "1116078209be7ce6",
   "metadata": {
    "collapsed": false,
    "ExecuteTime": {
     "end_time": "2024-06-15T12:27:11.256285800Z",
     "start_time": "2024-06-15T12:27:11.238074700Z"
    }
   },
   "outputs": [
    {
     "name": "stdout",
     "output_type": "stream",
     "text": [
      "MistralForCausalLM(\n",
      "  (model): MistralModel(\n",
      "    (embed_tokens): Embedding(32000, 4096)\n",
      "    (layers): ModuleList(\n",
      "      (0-31): 32 x MistralDecoderLayer(\n",
      "        (self_attn): MistralSdpaAttention(\n",
      "          (q_proj): Linear4bit(in_features=4096, out_features=4096, bias=False)\n",
      "          (k_proj): Linear4bit(in_features=4096, out_features=1024, bias=False)\n",
      "          (v_proj): Linear4bit(in_features=4096, out_features=1024, bias=False)\n",
      "          (o_proj): Linear4bit(in_features=4096, out_features=4096, bias=False)\n",
      "          (rotary_emb): MistralRotaryEmbedding()\n",
      "        )\n",
      "        (mlp): MistralMLP(\n",
      "          (gate_proj): Linear4bit(in_features=4096, out_features=14336, bias=False)\n",
      "          (up_proj): Linear4bit(in_features=4096, out_features=14336, bias=False)\n",
      "          (down_proj): Linear4bit(in_features=14336, out_features=4096, bias=False)\n",
      "          (act_fn): SiLU()\n",
      "        )\n",
      "        (input_layernorm): MistralRMSNorm()\n",
      "        (post_attention_layernorm): MistralRMSNorm()\n",
      "      )\n",
      "    )\n",
      "    (norm): MistralRMSNorm()\n",
      "  )\n",
      "  (lm_head): Linear(in_features=4096, out_features=32000, bias=False)\n",
      ")\n"
     ]
    }
   ],
   "source": [
    "print(model)"
   ]
  },
  {
   "cell_type": "code",
   "execution_count": 22,
   "id": "6fe694a164bb1ea8",
   "metadata": {
    "collapsed": false,
    "ExecuteTime": {
     "end_time": "2024-06-15T12:27:12.508155400Z",
     "start_time": "2024-06-15T12:27:11.247284Z"
    }
   },
   "outputs": [
    {
     "name": "stdout",
     "output_type": "stream",
     "text": [
      "trainable params: 130023424 || all params: 3882094592 || trainable%: 3.3493110721192854\n"
     ]
    }
   ],
   "source": [
    "from peft import LoraConfig, get_peft_model\n",
    "\n",
    "config = LoraConfig(\n",
    "    r=64,\n",
    "    lora_alpha=64,\n",
    "    target_modules=[\n",
    "        \"q_proj\",\n",
    "        \"k_proj\",\n",
    "        \"v_proj\",\n",
    "        \"o_proj\",\n",
    "        \"gate_proj\",\n",
    "        \"up_proj\",\n",
    "        \"down_proj,\"\n",
    "        \"lm_head\",\n",
    "    ],\n",
    "    bias=\"none\",\n",
    "    lora_dropout=0.05,  # Conventional\n",
    "    use_rslora=True,\n",
    "    task_type=\"CAUSAL_LM\"\n",
    ")\n",
    "\n",
    "model = get_peft_model(model, config)\n",
    "print_trainable_parameters(model)"
   ]
  },
  {
   "cell_type": "code",
   "execution_count": 23,
   "id": "6354fba6c3915b3",
   "metadata": {
    "collapsed": false,
    "ExecuteTime": {
     "end_time": "2024-06-15T12:27:12.523749200Z",
     "start_time": "2024-06-15T12:27:12.508155400Z"
    }
   },
   "outputs": [
    {
     "name": "stdout",
     "output_type": "stream",
     "text": [
      "PeftModelForCausalLM(\n",
      "  (base_model): LoraModel(\n",
      "    (model): MistralForCausalLM(\n",
      "      (model): MistralModel(\n",
      "        (embed_tokens): Embedding(32000, 4096)\n",
      "        (layers): ModuleList(\n",
      "          (0-31): 32 x MistralDecoderLayer(\n",
      "            (self_attn): MistralSdpaAttention(\n",
      "              (q_proj): lora.Linear4bit(\n",
      "                (base_layer): Linear4bit(in_features=4096, out_features=4096, bias=False)\n",
      "                (lora_dropout): ModuleDict(\n",
      "                  (default): Dropout(p=0.05, inplace=False)\n",
      "                )\n",
      "                (lora_A): ModuleDict(\n",
      "                  (default): Linear(in_features=4096, out_features=64, bias=False)\n",
      "                )\n",
      "                (lora_B): ModuleDict(\n",
      "                  (default): Linear(in_features=64, out_features=4096, bias=False)\n",
      "                )\n",
      "                (lora_embedding_A): ParameterDict()\n",
      "                (lora_embedding_B): ParameterDict()\n",
      "              )\n",
      "              (k_proj): lora.Linear4bit(\n",
      "                (base_layer): Linear4bit(in_features=4096, out_features=1024, bias=False)\n",
      "                (lora_dropout): ModuleDict(\n",
      "                  (default): Dropout(p=0.05, inplace=False)\n",
      "                )\n",
      "                (lora_A): ModuleDict(\n",
      "                  (default): Linear(in_features=4096, out_features=64, bias=False)\n",
      "                )\n",
      "                (lora_B): ModuleDict(\n",
      "                  (default): Linear(in_features=64, out_features=1024, bias=False)\n",
      "                )\n",
      "                (lora_embedding_A): ParameterDict()\n",
      "                (lora_embedding_B): ParameterDict()\n",
      "              )\n",
      "              (v_proj): lora.Linear4bit(\n",
      "                (base_layer): Linear4bit(in_features=4096, out_features=1024, bias=False)\n",
      "                (lora_dropout): ModuleDict(\n",
      "                  (default): Dropout(p=0.05, inplace=False)\n",
      "                )\n",
      "                (lora_A): ModuleDict(\n",
      "                  (default): Linear(in_features=4096, out_features=64, bias=False)\n",
      "                )\n",
      "                (lora_B): ModuleDict(\n",
      "                  (default): Linear(in_features=64, out_features=1024, bias=False)\n",
      "                )\n",
      "                (lora_embedding_A): ParameterDict()\n",
      "                (lora_embedding_B): ParameterDict()\n",
      "              )\n",
      "              (o_proj): lora.Linear4bit(\n",
      "                (base_layer): Linear4bit(in_features=4096, out_features=4096, bias=False)\n",
      "                (lora_dropout): ModuleDict(\n",
      "                  (default): Dropout(p=0.05, inplace=False)\n",
      "                )\n",
      "                (lora_A): ModuleDict(\n",
      "                  (default): Linear(in_features=4096, out_features=64, bias=False)\n",
      "                )\n",
      "                (lora_B): ModuleDict(\n",
      "                  (default): Linear(in_features=64, out_features=4096, bias=False)\n",
      "                )\n",
      "                (lora_embedding_A): ParameterDict()\n",
      "                (lora_embedding_B): ParameterDict()\n",
      "              )\n",
      "              (rotary_emb): MistralRotaryEmbedding()\n",
      "            )\n",
      "            (mlp): MistralMLP(\n",
      "              (gate_proj): lora.Linear4bit(\n",
      "                (base_layer): Linear4bit(in_features=4096, out_features=14336, bias=False)\n",
      "                (lora_dropout): ModuleDict(\n",
      "                  (default): Dropout(p=0.05, inplace=False)\n",
      "                )\n",
      "                (lora_A): ModuleDict(\n",
      "                  (default): Linear(in_features=4096, out_features=64, bias=False)\n",
      "                )\n",
      "                (lora_B): ModuleDict(\n",
      "                  (default): Linear(in_features=64, out_features=14336, bias=False)\n",
      "                )\n",
      "                (lora_embedding_A): ParameterDict()\n",
      "                (lora_embedding_B): ParameterDict()\n",
      "              )\n",
      "              (up_proj): lora.Linear4bit(\n",
      "                (base_layer): Linear4bit(in_features=4096, out_features=14336, bias=False)\n",
      "                (lora_dropout): ModuleDict(\n",
      "                  (default): Dropout(p=0.05, inplace=False)\n",
      "                )\n",
      "                (lora_A): ModuleDict(\n",
      "                  (default): Linear(in_features=4096, out_features=64, bias=False)\n",
      "                )\n",
      "                (lora_B): ModuleDict(\n",
      "                  (default): Linear(in_features=64, out_features=14336, bias=False)\n",
      "                )\n",
      "                (lora_embedding_A): ParameterDict()\n",
      "                (lora_embedding_B): ParameterDict()\n",
      "              )\n",
      "              (down_proj): Linear4bit(in_features=14336, out_features=4096, bias=False)\n",
      "              (act_fn): SiLU()\n",
      "            )\n",
      "            (input_layernorm): MistralRMSNorm()\n",
      "            (post_attention_layernorm): MistralRMSNorm()\n",
      "          )\n",
      "        )\n",
      "        (norm): MistralRMSNorm()\n",
      "      )\n",
      "      (lm_head): Linear(in_features=4096, out_features=32000, bias=False)\n",
      "    )\n",
      "  )\n",
      ")\n"
     ]
    }
   ],
   "source": [
    "print(model)"
   ]
  },
  {
   "cell_type": "code",
   "execution_count": 24,
   "id": "2fcbe8317af8659a",
   "metadata": {
    "collapsed": false,
    "ExecuteTime": {
     "end_time": "2024-06-15T12:27:12.528752300Z",
     "start_time": "2024-06-15T12:27:12.518991Z"
    }
   },
   "outputs": [],
   "source": [
    "if torch.cuda.device_count() > 1:  # If more than 1 GPU\n",
    "    model.is_parallelizable = True\n",
    "    model.model_parallel = True"
   ]
  },
  {
   "cell_type": "code",
   "execution_count": 25,
   "id": "ec3566a59128b91",
   "metadata": {
    "collapsed": false,
    "ExecuteTime": {
     "end_time": "2024-06-15T12:27:12.572387200Z",
     "start_time": "2024-06-15T12:27:12.525751300Z"
    }
   },
   "outputs": [],
   "source": [
    "model = accelerator.prepare_model(model)"
   ]
  },
  {
   "cell_type": "code",
   "execution_count": 27,
   "id": "c48d66dfa4929c8f",
   "metadata": {
    "collapsed": false,
    "ExecuteTime": {
     "end_time": "2024-06-15T12:37:27.093755600Z",
     "start_time": "2024-06-15T12:29:03.304104300Z"
    }
   },
   "outputs": [
    {
     "name": "stderr",
     "output_type": "stream",
     "text": [
      "C:\\Users\\Pumukl\\AppData\\Local\\Programs\\Python\\Python312\\Lib\\site-packages\\accelerate\\accelerator.py:436: FutureWarning: Passing the following arguments to `Accelerator` is deprecated and will be removed in version 1.0 of Accelerate: dict_keys(['dispatch_batches', 'split_batches', 'even_batches', 'use_seedable_sampler']). Please pass an `accelerate.DataLoaderConfiguration` instead: \n",
      "dataloader_config = DataLoaderConfiguration(dispatch_batches=None, split_batches=False, even_batches=True, use_seedable_sampler=True)\n",
      "  warnings.warn(\n"
     ]
    },
    {
     "data": {
      "text/plain": "<IPython.core.display.HTML object>",
      "text/html": "\n    <div>\n      \n      <progress value='11' max='90' style='width:300px; height:20px; vertical-align: middle;'></progress>\n      [11/90 00:44 < 06:27, 0.20 it/s, Epoch 0.25/3]\n    </div>\n    <table border=\"1\" class=\"dataframe\">\n  <thead>\n <tr style=\"text-align: left;\">\n      <th>Step</th>\n      <th>Training Loss</th>\n      <th>Validation Loss</th>\n    </tr>\n  </thead>\n  <tbody>\n    <tr>\n      <td>10</td>\n      <td>1.666200</td>\n      <td>1.676293</td>\n    </tr>\n  </tbody>\n</table><p>"
     },
     "metadata": {},
     "output_type": "display_data"
    },
    {
     "data": {
      "text/plain": "<IPython.core.display.HTML object>",
      "text/html": "\n    <div>\n      \n      <progress value='21' max='90' style='width:300px; height:20px; vertical-align: middle;'></progress>\n      [21/90 01:41 < 06:09, 0.19 it/s, Epoch 0.50/3]\n    </div>\n    <table border=\"1\" class=\"dataframe\">\n  <thead>\n <tr style=\"text-align: left;\">\n      <th>Step</th>\n      <th>Training Loss</th>\n      <th>Validation Loss</th>\n    </tr>\n  </thead>\n  <tbody>\n    <tr>\n      <td>10</td>\n      <td>1.666200</td>\n      <td>1.676293</td>\n    </tr>\n    <tr>\n      <td>20</td>\n      <td>1.571900</td>\n      <td>1.614129</td>\n    </tr>\n  </tbody>\n</table><p>"
     },
     "metadata": {},
     "output_type": "display_data"
    },
    {
     "data": {
      "text/plain": "<IPython.core.display.HTML object>",
      "text/html": "\n    <div>\n      \n      <progress value='31' max='90' style='width:300px; height:20px; vertical-align: middle;'></progress>\n      [31/90 02:37 < 05:21, 0.18 it/s, Epoch 0.75/3]\n    </div>\n    <table border=\"1\" class=\"dataframe\">\n  <thead>\n <tr style=\"text-align: left;\">\n      <th>Step</th>\n      <th>Training Loss</th>\n      <th>Validation Loss</th>\n    </tr>\n  </thead>\n  <tbody>\n    <tr>\n      <td>10</td>\n      <td>1.666200</td>\n      <td>1.676293</td>\n    </tr>\n    <tr>\n      <td>20</td>\n      <td>1.571900</td>\n      <td>1.614129</td>\n    </tr>\n    <tr>\n      <td>30</td>\n      <td>1.551100</td>\n      <td>1.567451</td>\n    </tr>\n  </tbody>\n</table><p>"
     },
     "metadata": {},
     "output_type": "display_data"
    },
    {
     "data": {
      "text/plain": "<IPython.core.display.HTML object>",
      "text/html": "\n    <div>\n      \n      <progress value='41' max='90' style='width:300px; height:20px; vertical-align: middle;'></progress>\n      [41/90 03:33 < 04:28, 0.18 it/s, Epoch 1/3]\n    </div>\n    <table border=\"1\" class=\"dataframe\">\n  <thead>\n <tr style=\"text-align: left;\">\n      <th>Step</th>\n      <th>Training Loss</th>\n      <th>Validation Loss</th>\n    </tr>\n  </thead>\n  <tbody>\n    <tr>\n      <td>10</td>\n      <td>1.666200</td>\n      <td>1.676293</td>\n    </tr>\n    <tr>\n      <td>20</td>\n      <td>1.571900</td>\n      <td>1.614129</td>\n    </tr>\n    <tr>\n      <td>30</td>\n      <td>1.551100</td>\n      <td>1.567451</td>\n    </tr>\n    <tr>\n      <td>40</td>\n      <td>1.469500</td>\n      <td>1.530107</td>\n    </tr>\n  </tbody>\n</table><p>"
     },
     "metadata": {},
     "output_type": "display_data"
    },
    {
     "data": {
      "text/plain": "<IPython.core.display.HTML object>",
      "text/html": "\n    <div>\n      \n      <progress value='51' max='90' style='width:300px; height:20px; vertical-align: middle;'></progress>\n      [51/90 04:29 < 03:34, 0.18 it/s, Epoch 1.25/3]\n    </div>\n    <table border=\"1\" class=\"dataframe\">\n  <thead>\n <tr style=\"text-align: left;\">\n      <th>Step</th>\n      <th>Training Loss</th>\n      <th>Validation Loss</th>\n    </tr>\n  </thead>\n  <tbody>\n    <tr>\n      <td>10</td>\n      <td>1.666200</td>\n      <td>1.676293</td>\n    </tr>\n    <tr>\n      <td>20</td>\n      <td>1.571900</td>\n      <td>1.614129</td>\n    </tr>\n    <tr>\n      <td>30</td>\n      <td>1.551100</td>\n      <td>1.567451</td>\n    </tr>\n    <tr>\n      <td>40</td>\n      <td>1.469500</td>\n      <td>1.530107</td>\n    </tr>\n    <tr>\n      <td>50</td>\n      <td>1.406100</td>\n      <td>1.498006</td>\n    </tr>\n  </tbody>\n</table><p>"
     },
     "metadata": {},
     "output_type": "display_data"
    },
    {
     "data": {
      "text/plain": "<IPython.core.display.HTML object>",
      "text/html": "\n    <div>\n      \n      <progress value='61' max='90' style='width:300px; height:20px; vertical-align: middle;'></progress>\n      [61/90 05:24 < 02:39, 0.18 it/s, Epoch 1.50/3]\n    </div>\n    <table border=\"1\" class=\"dataframe\">\n  <thead>\n <tr style=\"text-align: left;\">\n      <th>Step</th>\n      <th>Training Loss</th>\n      <th>Validation Loss</th>\n    </tr>\n  </thead>\n  <tbody>\n    <tr>\n      <td>10</td>\n      <td>1.666200</td>\n      <td>1.676293</td>\n    </tr>\n    <tr>\n      <td>20</td>\n      <td>1.571900</td>\n      <td>1.614129</td>\n    </tr>\n    <tr>\n      <td>30</td>\n      <td>1.551100</td>\n      <td>1.567451</td>\n    </tr>\n    <tr>\n      <td>40</td>\n      <td>1.469500</td>\n      <td>1.530107</td>\n    </tr>\n    <tr>\n      <td>50</td>\n      <td>1.406100</td>\n      <td>1.498006</td>\n    </tr>\n    <tr>\n      <td>60</td>\n      <td>1.454600</td>\n      <td>1.474059</td>\n    </tr>\n  </tbody>\n</table><p>"
     },
     "metadata": {},
     "output_type": "display_data"
    },
    {
     "data": {
      "text/plain": "<IPython.core.display.HTML object>",
      "text/html": "\n    <div>\n      \n      <progress value='71' max='90' style='width:300px; height:20px; vertical-align: middle;'></progress>\n      [71/90 06:20 < 01:44, 0.18 it/s, Epoch 1.75/3]\n    </div>\n    <table border=\"1\" class=\"dataframe\">\n  <thead>\n <tr style=\"text-align: left;\">\n      <th>Step</th>\n      <th>Training Loss</th>\n      <th>Validation Loss</th>\n    </tr>\n  </thead>\n  <tbody>\n    <tr>\n      <td>10</td>\n      <td>1.666200</td>\n      <td>1.676293</td>\n    </tr>\n    <tr>\n      <td>20</td>\n      <td>1.571900</td>\n      <td>1.614129</td>\n    </tr>\n    <tr>\n      <td>30</td>\n      <td>1.551100</td>\n      <td>1.567451</td>\n    </tr>\n    <tr>\n      <td>40</td>\n      <td>1.469500</td>\n      <td>1.530107</td>\n    </tr>\n    <tr>\n      <td>50</td>\n      <td>1.406100</td>\n      <td>1.498006</td>\n    </tr>\n    <tr>\n      <td>60</td>\n      <td>1.454600</td>\n      <td>1.474059</td>\n    </tr>\n    <tr>\n      <td>70</td>\n      <td>1.436700</td>\n      <td>1.457185</td>\n    </tr>\n  </tbody>\n</table><p>"
     },
     "metadata": {},
     "output_type": "display_data"
    },
    {
     "data": {
      "text/plain": "<IPython.core.display.HTML object>",
      "text/html": "\n    <div>\n      \n      <progress value='81' max='90' style='width:300px; height:20px; vertical-align: middle;'></progress>\n      [81/90 07:15 < 00:49, 0.18 it/s, Epoch 2/3]\n    </div>\n    <table border=\"1\" class=\"dataframe\">\n  <thead>\n <tr style=\"text-align: left;\">\n      <th>Step</th>\n      <th>Training Loss</th>\n      <th>Validation Loss</th>\n    </tr>\n  </thead>\n  <tbody>\n    <tr>\n      <td>10</td>\n      <td>1.666200</td>\n      <td>1.676293</td>\n    </tr>\n    <tr>\n      <td>20</td>\n      <td>1.571900</td>\n      <td>1.614129</td>\n    </tr>\n    <tr>\n      <td>30</td>\n      <td>1.551100</td>\n      <td>1.567451</td>\n    </tr>\n    <tr>\n      <td>40</td>\n      <td>1.469500</td>\n      <td>1.530107</td>\n    </tr>\n    <tr>\n      <td>50</td>\n      <td>1.406100</td>\n      <td>1.498006</td>\n    </tr>\n    <tr>\n      <td>60</td>\n      <td>1.454600</td>\n      <td>1.474059</td>\n    </tr>\n    <tr>\n      <td>70</td>\n      <td>1.436700</td>\n      <td>1.457185</td>\n    </tr>\n    <tr>\n      <td>80</td>\n      <td>1.297600</td>\n      <td>1.446287</td>\n    </tr>\n  </tbody>\n</table><p>"
     },
     "metadata": {},
     "output_type": "display_data"
    },
    {
     "data": {
      "text/plain": "<IPython.core.display.HTML object>",
      "text/html": "\n    <div>\n      \n      <progress value='91' max='90' style='width:300px; height:20px; vertical-align: middle;'></progress>\n      [90/90 08:11, Epoch 2.25/3]\n    </div>\n    <table border=\"1\" class=\"dataframe\">\n  <thead>\n <tr style=\"text-align: left;\">\n      <th>Step</th>\n      <th>Training Loss</th>\n      <th>Validation Loss</th>\n    </tr>\n  </thead>\n  <tbody>\n    <tr>\n      <td>10</td>\n      <td>1.666200</td>\n      <td>1.676293</td>\n    </tr>\n    <tr>\n      <td>20</td>\n      <td>1.571900</td>\n      <td>1.614129</td>\n    </tr>\n    <tr>\n      <td>30</td>\n      <td>1.551100</td>\n      <td>1.567451</td>\n    </tr>\n    <tr>\n      <td>40</td>\n      <td>1.469500</td>\n      <td>1.530107</td>\n    </tr>\n    <tr>\n      <td>50</td>\n      <td>1.406100</td>\n      <td>1.498006</td>\n    </tr>\n    <tr>\n      <td>60</td>\n      <td>1.454600</td>\n      <td>1.474059</td>\n    </tr>\n    <tr>\n      <td>70</td>\n      <td>1.436700</td>\n      <td>1.457185</td>\n    </tr>\n    <tr>\n      <td>80</td>\n      <td>1.297600</td>\n      <td>1.446287</td>\n    </tr>\n    <tr>\n      <td>90</td>\n      <td>1.265700</td>\n      <td>1.442016</td>\n    </tr>\n  </tbody>\n</table><p>"
     },
     "metadata": {},
     "output_type": "display_data"
    },
    {
     "data": {
      "text/plain": "<IPython.core.display.HTML object>",
      "text/html": "\n    <div>\n      \n      <progress value='90' max='90' style='width:300px; height:20px; vertical-align: middle;'></progress>\n      [90/90 08:18, Epoch 2/3]\n    </div>\n    <table border=\"1\" class=\"dataframe\">\n  <thead>\n <tr style=\"text-align: left;\">\n      <th>Step</th>\n      <th>Training Loss</th>\n      <th>Validation Loss</th>\n    </tr>\n  </thead>\n  <tbody>\n    <tr>\n      <td>10</td>\n      <td>1.666200</td>\n      <td>1.676293</td>\n    </tr>\n    <tr>\n      <td>20</td>\n      <td>1.571900</td>\n      <td>1.614129</td>\n    </tr>\n    <tr>\n      <td>30</td>\n      <td>1.551100</td>\n      <td>1.567451</td>\n    </tr>\n    <tr>\n      <td>40</td>\n      <td>1.469500</td>\n      <td>1.530107</td>\n    </tr>\n    <tr>\n      <td>50</td>\n      <td>1.406100</td>\n      <td>1.498006</td>\n    </tr>\n    <tr>\n      <td>60</td>\n      <td>1.454600</td>\n      <td>1.474059</td>\n    </tr>\n    <tr>\n      <td>70</td>\n      <td>1.436700</td>\n      <td>1.457185</td>\n    </tr>\n    <tr>\n      <td>80</td>\n      <td>1.297600</td>\n      <td>1.446287</td>\n    </tr>\n    <tr>\n      <td>90</td>\n      <td>1.265700</td>\n      <td>1.442016</td>\n    </tr>\n  </tbody>\n</table><p>"
     },
     "metadata": {},
     "output_type": "display_data"
    },
    {
     "data": {
      "text/plain": "TrainOutput(global_step=90, training_loss=1.4577178531222874, metrics={'train_runtime': 503.361, 'train_samples_per_second': 0.179, 'train_steps_per_second': 0.179, 'total_flos': 4801442055782400.0, 'train_loss': 1.4577178531222874, 'epoch': 2.25})"
     },
     "execution_count": 27,
     "metadata": {},
     "output_type": "execute_result"
    }
   ],
   "source": [
    "import transformers\n",
    "\n",
    "project = \"Monologue-finetune\"\n",
    "base_model_name = \"mistral\"\n",
    "run_name = base_model_name + \"-\" + project\n",
    "output_dir = \"./\" + run_name\n",
    "\n",
    "trainer = transformers.Trainer(\n",
    "    model=model,\n",
    "    train_dataset=tokenized_train_dataset[\"train\"],\n",
    "    eval_dataset=tokenized_val_dataset[\"train\"],\n",
    "    args=transformers.TrainingArguments(\n",
    "        output_dir=output_dir,\n",
    "        warmup_steps=1,\n",
    "        per_device_train_batch_size=1,\n",
    "        gradient_accumulation_steps=1,\n",
    "        gradient_checkpointing=True,\n",
    "        max_steps=130,\n",
    "        learning_rate=3.5e-5,  # Want a small lr for finetuning\n",
    "        bf16=True,\n",
    "        optim=\"paged_adamw_8bit\",\n",
    "        logging_steps=10,  # When to start reporting loss\n",
    "        logging_dir=\"./logs\",  # Directory for storing logs\n",
    "        save_strategy=\"steps\",  # Save the model checkpoint every logging step\n",
    "        save_steps=10,  # Save checkpoints every 50 steps\n",
    "        evaluation_strategy=\"steps\",  # Evaluate the model every logging step\n",
    "        eval_steps=10,  # Evaluate and save checkpoints every 50 steps\n",
    "        \n",
    "    ),\n",
    "    data_collator=transformers.DataCollatorForLanguageModeling(tokenizer, mlm=False),\n",
    ")\n",
    "\n",
    "model.config.use_cache = False  # silence the warnings. Please re-enable for inference!\n",
    "trainer.train()"
   ]
  },
  {
   "cell_type": "code",
   "outputs": [
    {
     "data": {
      "text/plain": "<Figure size 1000x600 with 1 Axes>",
      "image/png": "[encoded data removed]"
     },
     "metadata": {},
     "output_type": "display_data"
    }
   ],
   "source": [
    "import pandas as pd\n",
    "# Updating the DataFrame with the new column names\n",
    "data = {\n",
    "    \"Step\": [50, 100, 150, 200, 250, 300, 350, 400, 450, 500, 550, 600, 650, 700, 750, 800, 850],\n",
    "    \"Training Loss\": [0.302600, 0.286900, 0.280700, 0.318600, 0.288100, 0.278400, 0.265000, 0.244600, 0.251200, 0.224800, 0.224800, 0.207900, 0.205000, 0.210300, 0.191400, 0.193100, 0.196400],\n",
    "    \"Validation Loss\": [0.383197, 0.364442, 0.343348, 0.324360, 0.308441, 0.294912, 0.287439, 0.277900, 0.265000, 0.258963, 0.253250, 0.252477, 0.250502, 0.247250, 0.247699, 0.244785, 0.240572]\n",
    "}\n",
    "\n",
    "df = pd.DataFrame(data)\n",
    "\n",
    "# Plotting the data with updated labels\n",
    "plt.figure(figsize=(10, 6))\n",
    "plt.plot(df[\"Step\"], df[\"Training Loss\"], marker='o', label=\"Training Loss\")\n",
    "plt.plot(df[\"Step\"], df[\"Validation Loss\"], marker='o', label=\"Validation Loss\")\n",
    "plt.xlabel(\"Step\")\n",
    "plt.ylabel(\"Loss\")\n",
    "plt.title(\"Step vs Training Loss and Validation Loss\")\n",
    "plt.legend()\n",
    "plt.grid(True)\n",
    "plt.show()"
   ],
   "metadata": {
    "collapsed": false,
    "ExecuteTime": {
     "end_time": "2024-06-11T12:37:53.660721100Z",
     "start_time": "2024-06-11T12:37:53.108700200Z"
    }
   },
   "id": "ac09349239546ce2",
   "execution_count": 30
  },
  {
   "cell_type": "code",
   "outputs": [
    {
     "data": {
      "text/plain": "Loading checkpoint shards:   0%|          | 0/3 [00:00<?, ?it/s]",
      "application/vnd.jupyter.widget-view+json": {
       "version_major": 2,
       "version_minor": 0,
       "model_id": "5c14a64f997a41b4a0a837b73e1b3c0e"
      }
     },
     "metadata": {},
     "output_type": "display_data"
    }
   ],
   "source": [
    "import torch\n",
    "from transformers import AutoTokenizer, AutoModelForCausalLM, BitsAndBytesConfig\n",
    "\n",
    "base_model_id = \"mistralai/Mistral-7B-Instruct-v0.2\"\n",
    "bnb_config = BitsAndBytesConfig(\n",
    "    load_in_4bit=True,\n",
    "    bnb_4bit_use_double_quant=True,\n",
    "    bnb_4bit_quant_type=\"nf4\",\n",
    "    bnb_4bit_compute_dtype=torch.bfloat16\n",
    ")\n",
    "\n",
    "base_model = AutoModelForCausalLM.from_pretrained(\n",
    "    base_model_id,  # Mistral, same as before\n",
    "    quantization_config=bnb_config,  # Same quantization config as before\n",
    "    device_map=\"auto\",\n",
    "    trust_remote_code=True,\n",
    ")\n",
    "\n",
    "eval_tokenizer = AutoTokenizer.from_pretrained(base_model_id, add_bos_token=True, trust_remote_code=True)"
   ],
   "metadata": {
    "collapsed": false,
    "ExecuteTime": {
     "end_time": "2024-06-11T15:25:19.572198700Z",
     "start_time": "2024-06-11T15:24:42.981734900Z"
    }
   },
   "id": "ea90e93a904c5d4a",
   "execution_count": 2
  },
  {
   "cell_type": "code",
   "execution_count": 4,
   "id": "e154dc87f95c4f41",
   "metadata": {
    "collapsed": false,
    "ExecuteTime": {
     "end_time": "2024-06-11T15:26:29.339105700Z",
     "start_time": "2024-06-11T15:26:27.643526500Z"
    }
   },
   "outputs": [],
   "source": [
    "from peft import PeftModel\n",
    "\n",
    "ft_model = PeftModel.from_pretrained(base_model, \"mistral-NPC-finetune3/checkpoint-700\")"
   ]
  },
  {
   "cell_type": "code",
   "execution_count": 30,
   "id": "16f5ddad06c7fa1b",
   "metadata": {
    "collapsed": false,
    "ExecuteTime": {
     "end_time": "2024-06-11T16:29:42.737746700Z",
     "start_time": "2024-06-11T16:29:25.790739800Z"
    }
   },
   "outputs": [
    {
     "name": "stderr",
     "output_type": "stream",
     "text": [
      "Setting `pad_token_id` to `eos_token_id`:2 for open-end generation.\n",
      "Setting `pad_token_id` to `eos_token_id`:2 for open-end generation.\n"
     ]
    },
    {
     "name": "stdout",
     "output_type": "stream",
     "text": [
      "\n",
      "The following text elaborates on what line of dialogue is used by an NPC in a certain event. The text will be enclosed within <START> and <END>. There are specific rules that apply only to the text: the event will be enclosed within <EVENT> and </EVENT>, the type of speaker will be enclosed within <SPEAKER> and </SPEAKER> and the line used will be enclosed within <LINE> and </LINE>. Generate the missing dialogue line between the <LINE> and </LINE> tags inside the provided text.\n",
      "    \n",
      "Please remember to generate the dialogue inside the following <LINE> and </LINE> tags inside the provided text below,for example replace <LINE> </LINE> with <LINE> Missing Dialogue</LINE>.\n",
      "    \n",
      "<START>\n",
      "In the world of Skyrim from the game Elder Scrolls V, in the event of <EVENT>a Guard reacting to the Player's high skill level in Alchemy</EVENT>, <SPEAKER>the Guard</SPEAKER>, says the following line to the Player character : <LINE> </LINE>.\n",
      "<END>\n",
      "\n",
      "Answer:\n",
      "<START>\n",
      "In the world of Skyrim from the game Elder Scolls V, in the event of <EVENT>a Guard reacting to the Player's high skill level in Alchemy</EVENT>, <SPEAKER>the Guard</SPEAKER>, says the following line to the Player character : <LINE>You know your potions.</LINE>.\n",
      "<END>\n"
     ]
    }
   ],
   "source": [
    "eval_prompt = (f\"\"\"\n",
    "In the following text, there is a description about introductory monologues in a video game. The text will be enclosed within <START> and <END>. There are specific rules that apply only to the text: the title of the current game will always be enclosed inside <TITLE> and </TITLE>, the monologue will always be enclosed inside <MONO> and </MONO>, and the context will be enclosed inside <CONTEXT> and </CONTEXT>.\n",
    "\n",
    "<START>\n",
    "In video games, sometimes there is an introductory monologue delivered by a narrator. The narrator can either be an unknown narrator or a character that exists within the game, and they introduce the Player to the world, the story, and the setting of the game with the assistance of an introductory monologue. \n",
    "\n",
    "This monologue is based on the game's setting, world, story, and the Player's role in the game. Here is some context describing these elements about the game called <TITLE>Fallout</TITLE>:\n",
    "\n",
    "<CONTEXT>In <TITLE>Elden Ring</TITLE>, the introductory monologue delivered by a narrator sets the stage for the game's epic dark fantasy narrative. The player takes on the role of a Tarnished, one of the dead who yet live, called back to the Lands Between to restore the fractured world. The once-great Elden Ring has been shattered, and Queen Marika the Eternal has disappeared. On the Night of the Black Knives, the demigod Godwin the Golden was the first to fall, leading Marika's demigod offspring to seize the shards of the Elden Ring. Their newfound power triggered the Shattering, a catastrophic war that left the Lands Between in chaos and abandoned by the Greater Will. The Tarnished, including chieftains, sorcerers, and other notable figures, are beckoned by the call of long-lost grace to reclaim their destiny. As a Tarnished of no renown, the player must cross the fog to the Lands Between, face formidable foes, and seek to reunite the Elden Ring, ultimately striving to become the Elden Lord. The game explores themes of power, legacy, and redemption in a richly detailed and mysterious world.</CONTEXT>\n",
    "    \n",
    "Its introductory monologue is as follows:\n",
    "\n",
    "<MONO>{example['Monologue']}</MONO>\n",
    "\n",
    "<END>\"\"\"\n",
    ")\n",
    "model_input = eval_tokenizer(eval_prompt, return_tensors=\"pt\").to(\"cuda\")\n",
    "\n",
    "ft_model.eval()\n",
    "with torch.no_grad():\n",
    "    print(eval_tokenizer.decode(ft_model.generate(**model_input, max_new_tokens=750, repetition_penalty=1.25)[0],\n",
    "                                skip_special_tokens=True))\n",
    "    #save the results to a list\n",
    "    answer = eval_tokenizer.decode(ft_model.generate(**model_input, max_new_tokens=750, repetition_penalty=1.15)[0],\n",
    "                                skip_special_tokens=True)"
   ]
  },
  {
   "cell_type": "code",
   "outputs": [
    {
     "name": "stdout",
     "output_type": "stream",
     "text": [
      "I'm glad you're here.\n"
     ]
    }
   ],
   "source": [
    "import re\n",
    "\n",
    "matches = re.findall(r'<LINE>(.*?)</LINE>', answer)\n",
    "print(matches[3])"
   ],
   "metadata": {
    "collapsed": false,
    "ExecuteTime": {
     "end_time": "2024-06-07T01:54:35.132381700Z",
     "start_time": "2024-06-07T01:54:35.044653600Z"
    }
   },
   "id": "4ebc053032498fa7",
   "execution_count": 25
  },
  {
   "cell_type": "code",
   "outputs": [],
   "source": [
    "def evaluation_func(example):\n",
    "\n",
    "    description = f\"\"\"The following text elaborates on what line of dialogue is used by an NPC in a certain event. The text will be enclosed within <START> and <END>. There are specific rules that apply only to the text: the event will be enclosed within <EVENT> and </EVENT>, the type of speaker will be enclosed within <SPEAKER> and </SPEAKER> and the line used will be enclosed within <LINE> and </LINE>. Generate the missing dialogue line between the <LINE> and </LINE> tags inside the provided text.\n",
    "    \n",
    "    Please remember to generate the dialogue inside the following <LINE> and </LINE> tags inside the provided text below,for example replace <LINE> </LINE> with <LINE>Missing Dialogue</LINE>\n",
    "    \n",
    "\"\"\"\n",
    "    if example['Event'] == \"Greeting\":\n",
    "\n",
    "        description = f\"\"\"The following text describes a greeting exchange between the Player and an NPC. The text will be enclosed within <START> and <END>. There are specific rules that apply only to the text: the event will be enclosed within <EVENT> and </EVENT>, the type of speaker will be enclosed within <SPEAKER> and </SPEAKER>, the line used will be enclosed within <LINE> and </LINE>, and the tone of the line will be enclosed within <TONE> and </TONE>.Generate the missing dialogue line between the <LINE> and </LINE> tags inside the provided text.\n",
    "        \n",
    "        Please remember to generate the dialogue inside the following <LINE> and </LINE> tags inside the provided text below,for example replace <LINE> </LINE> with <LINE>Missing Dialogue</LINE>\n",
    "\n",
    "\"\"\"\n",
    "    elif example['Event'] == \"NPCs fighting over a Player's dropped item\":\n",
    "\n",
    "        description = f\"\"\"The following text describes an exchange where multiple NPCs are fighting over a Player's dropped item and one of them uses a line of dialogue. The text will be enclosed within <START> and <END>. There are specific rules that apply only to the text: the event will be enclosed within <EVENT> and </EVENT>, the type of speaker will be enclosed within <SPEAKER> and </SPEAKER>, the line used will be enclosed within <LINE> and </LINE>, and the number of the current spoken line in the dialogue will be enclosed within <NUMBER> and </NUMBER>. Generate the missing dialogue line between the <LINE> and </LINE> tags inside the provided text.\n",
    "        \n",
    "        Please remember to generate the dialogue inside the following <LINE> and </LINE> tags inside the provided text below,for example replace <LINE> </LINE> with <LINE>Missing Dialogue</LINE>\n",
    "\n",
    "\"\"\"\n",
    "    elif example['Condition'] == \"in combat\":\n",
    "\n",
    "        description = f\"\"\"The following text elaborates on which line of dialogue a friendly NPC uses when it is in combat. The text will be enclosed within <START> and <END>. There are specific rules that apply only to the text: the event will be enclosed within <EVENT> and </EVENT>,the type of speaker will be enclosed within <SPEAKER> and </SPEAKER>, the line used will be enclosed within <LINE> and </LINE>, and  the condition will be enclosed within <CONDITION> and </CONDITION>. Generate the missing dialogue line between the <LINE> and </LINE> tags. Generate the missing dialogue line between the <LINE> and </LINE> tags inside the provided text.\n",
    "        \n",
    "        Please remember to generate the dialogue inside the following <LINE> and </LINE> tags inside the provided text below,for example replace <LINE> </LINE> with <LINE>Missing Dialogue</LINE>\n",
    "\n",
    "\"\"\"\n",
    "    elif example['Result'] is not None:\n",
    "\n",
    "        description = f\"\"\"The following text text elaborates on which line of dialogue is used by an NPC when the Player character tries to persuade them. The text will be enclosed within <START> and <END>. There are specific rules that apply only to the text: the event will be enclosed within <EVENT> and </EVENT>,the type of speaker will be enclosed within <SPEAKER> and </SPEAKER>, the line used will be enclosed within <LINE> and </LINE> and the result of the event will be enclosed within <RESULT> and </RESULT>. Generate the missing dialogue line between the <LINE> and </LINE> tags inside the provided text.\n",
    "        \n",
    "        Please remember to generate the dialogue inside the following <LINE> and </LINE> tags inside the provided text below,for example replace <LINE> </LINE> with <LINE>Missing Dialogue</LINE>\n",
    "\n",
    "\"\"\"\n",
    "    elif example['Race'] is not None:\n",
    "\n",
    "        description = f\"\"\"The following text describes the reaction of a Guard based on the Player's race. The text will be enclosed within <START> and <END>. There are specific rules that apply only to the text: the event will be enclosed within <EVENT> and </EVENT>, the type of speaker will be enclosed within <SPEAKER> and </SPEAKER>, the line used will be enclosed within <LINE> and </LINE>, the race of the Player will be enclosed within <RACE> and </RACE>, and the condition, if there is one, will be enclosed within <CONDITION> and </CONDITION>. Generate the missing dialogue line between the <LINE> and </LINE> tags inside the provided text.\n",
    "        \n",
    "        Please remember to generate the dialogue inside the following <LINE> and </LINE> tags inside the provided text below,for example replace <LINE> </LINE> with <LINE>Missing Dialogue</LINE>\n",
    "\n",
    "\"\"\"\n",
    "    elif example['Equipment'] is not None:\n",
    "\n",
    "        description = f\"\"\"The following text describes the reaction of a Guard based on the Player's equipment. The text will be enclosed within <START> and <END>. There are specific rules that apply only to the text: the event will be enclosed within <EVENT> and </EVENT>, the type of speaker will be enclosed within <SPEAKER> and </SPEAKER>, the line used will be enclosed within <LINE> and </LINE>, the equipment of the Player will be enclosed within <EQUIPMENT> and </EQUIPMENT>, and the condition, if there is one, will be enclosed within <CONDITION> and </CONDITION>. GGenerate the missing dialogue line between the <LINE> and </LINE> tags inside the provided text.\n",
    "        \n",
    "        Please remember to generate the dialogue inside the following <LINE> and </LINE> tags inside the provided text below,for example replace <LINE> </LINE> with <LINE>Missing Dialogue</LINE>w.\n",
    "\n",
    "\"\"\"\n",
    "    elif example['Location'] is not None:\n",
    "\n",
    "        description = f\"\"\"The following text describes a special interaction of a Guard based on the Player's location. The text will be enclosed within <START> and <END>. There are specific rules that apply only to the text: the event will be enclosed within <EVENT> and </EVENT>, the type of speaker will be enclosed within <SPEAKER> and </SPEAKER>, the line used will be enclosed within <LINE> and </LINE>, the location of the Player will be enclosed within <LOCATION> and </LOCATION>, and the condition, if there is one, will be enclosed within <CONDITION> and </CONDITION>. Generate the missing dialogue line between the <LINE> and </LINE> tags inside the provided text.\n",
    "        \n",
    "        Please remember to generate the dialogue inside the following <LINE> and </LINE> tags inside the provided text below,for example replace <LINE> </LINE> with <LINE>Missing Dialogue</LINE>\n",
    "\n",
    "\"\"\"\n",
    "\n",
    "    elif example['Response_to'] is not None:\n",
    "\n",
    "        description = f\"\"\"The following text describes a part of a dialogue between and NPC and the Player in the case of a certain event. The text will be enclosed within <START> and <END>. There are specific rules that apply only to the text: the event will be enclosed within <EVENT> and </EVENT>, the type of speaker will be enclosed within <SPEAKER> and </SPEAKER>, the line used will be enclosed within <LINE> and </LINE>, and the line that the speaker responds to, will be enclosed within <RESPONSE> and </RESPONSE>. Generate the missing dialogue line between the <LINE> and </LINE> tags inside the provided text.\n",
    "        \n",
    "        Please remember to generate the dialogue inside the following <LINE> and </LINE> tags inside the provided text below,for example replace <LINE> </LINE> with <LINE>Missing Dialogue</LINE>\n",
    "\n",
    "\"\"\"\n",
    "    elif example['Condition'] is not None:\n",
    "\n",
    "        description = f\"\"\"The following text elaborates on a line of dialogue used by an NPC in a certain event under a condition. The text will be enclosed within <START> and <END>. There are specific rules that apply only to the text: the event will be enclosed within <EVENT> and </EVENT>, the type of speaker will be enclosed within <SPEAKER> and </SPEAKER>, the line used will be enclosed within <LINE> and </LINE>, and the condition, will be enclosed within <CONDITION> and </CONDITION>. Generate the missing dialogue line between the <LINE> and </LINE> tags inside the provided text.\n",
    "        \n",
    "        Please remember to generate the dialogue inside the following <LINE> and </LINE> tags inside the provided text below,for example replace <LINE> </LINE> with <LINE>Missing Dialogue</LINE>\n",
    "        \n",
    "\"\"\"\n",
    "\n",
    "\n",
    "    if example['Speaker'] == \"Any\":\n",
    "\n",
    "        npc_type = \"the NPC, that is of any type\"\n",
    "\n",
    "    elif \"Guard\" in example['Speaker']:\n",
    "\n",
    "        npc_type = f'the {example[\"Speaker\"]}'\n",
    "\n",
    "    elif \"trainer\" in example['Event']:\n",
    "\n",
    "        npc_type = f\"\"\"the trainer NPC, that is named {example['Speaker']}\"\"\"\n",
    "\n",
    "    elif example['Speaker'] == \"Housecarl\":\n",
    "\n",
    "        npc_type = \"the Housecarl\"\n",
    "\n",
    "    else:\n",
    "\n",
    "        npc_type = f'the NPC, that is the type {example[\"Speaker\"]}'\n",
    "\n",
    "\n",
    "\n",
    "    if example['Event'] == \"Greeting\":\n",
    "\n",
    "        return description + f\"\"\"<START>\n",
    "In the world of Skyrim from the game Elder Scrolls V, in the event of a <EVENT>{example['Event']}</EVENT>, between an NPC and the Player character, <SPEAKER>{npc_type}</SPEAKER> greets the Player, in a <TONE>{example['Tone']}</TONE> tone, using the following line of dialogue: <LINE> </LINE>.\n",
    "<END>\n",
    "\n",
    "Answer:\n",
    "\"\"\"\n",
    "\n",
    "\n",
    "    if example['Event'] == \"Goodbye\":\n",
    "\n",
    "        return description + f\"\"\"<START>\n",
    "In the world of Skyrim from the game Elder Scrolls V, in the event of a <EVENT>{example['Event']}</EVENT>, between an NPC and the Player character,<SPEAKER>{npc_type}</SPEAKER> tells their goodbyes to the Player using the following line of dialogue: <LINE> </LINE>.\n",
    "<END>\n",
    "\n",
    "Answer:\n",
    "\"\"\"\n",
    "\n",
    "\n",
    "    if example['Event'] == \"NPCs fighting over a Player's dropped item\":\n",
    "\n",
    "        return description + f\"\"\"<START>\n",
    "In the world of Skyrim from the game Elder Scrolls V, in the event of <EVENT>{example['Event']}</EVENT>, there can be up to 5 different NPCs arguing over an item that the Player character dropped and up to 2 bystander NPCs commenting on the situation. Up to five lines of dialogue can be exchanged between up to five different NPCs that are arguing and up to two lines of bystander dialogue can be used by up to two different bystander NPCs, meaning that the conversation ends after a maximum of 7 lines of dialogue have been said. In this case one of the NPCs that takes part in the arguing and is <SPEAKER>{npc_type}</SPEAKER>, says, as the <NUMBER>{example['Line_of_dialogue']}</NUMBER> line of the dialogue, the following line: <LINE> </LINE>.\n",
    "<END>\n",
    "\n",
    "Answer:\n",
    "\"\"\"\n",
    "\n",
    "    if example['Event'] == \"NPC asking for the Player's dropped armor\":\n",
    "\n",
    "        if example['Speaker'] == \"Player\":\n",
    "            return description + f\"\"\"<START>\n",
    "In the world of Skyrim from the game Elder Scrolls V, in the event of an <EVENT>{example['Event']}</EVENT>, there is a conversation between the Player character and an NPC about the Player's dropped item.\n",
    "In this case in response to the NPC's previous line of dialogue: <RESPONSE>{example['Response_to']}</RESPONSE>,the <SPEAKER>Player</SPEAKER> character uses the following line of dialogue: <LINE> </LINE>.\n",
    "<END>\n",
    "\n",
    "Answer:\n",
    "\"\"\"\n",
    "\n",
    "        if example['Response_to'] is not None:\n",
    "\n",
    "            return description + f\"\"\"<START>\n",
    "In the world of Skyrim from the game Elder Scrolls V, in the event of an <EVENT>{example['Event']}</EVENT> there is a conversation between the Player character and an NPC about the Player's dropped item.\n",
    "In this case in response to the Player character's previous line of dialogue: <RESPONSE>{example['Response_to']}</RESPONSE>, <SPEAKER>{npc_type}</SPEAKER> uses the following line of dialogue: <LINE> </LINE>.\n",
    "<END>\n",
    "\n",
    "Answer:\n",
    "\"\"\"\n",
    "\n",
    "        else:\n",
    "\n",
    "            return description + f\"\"\"<START>\n",
    "In the world of Skyrim from the game Elder Scrolls V, in the event of an <EVENT>{example['Event']}</EVENT> there is a conversation between the Player character and an NPC about the Player's dropped item.\n",
    "In this case to initiate a conversation about the Player's dropped item, <SPEAKER>{npc_type}</SPEAKER> uses the following line of dialogue: <LINE></LINE>.\n",
    "<END>\n",
    "\n",
    "Answer:\n",
    "\"\"\"\n",
    "\n",
    "    if example['Condition'] == \"in combat\":\n",
    "\n",
    "        return description + f\"\"\"<START>\n",
    "In the world of Skyrim from the game Elder Scrolls V, when the Player character and a friendly NPC are <CONDITION>{example['Condition']}</CONDITION>, when <EVENT>{example['Event']}</EVENT>,<SPEAKER>{npc_type}</SPEAKER> uses the following line of dialogue: <LINE> </LINE>.\n",
    "<END>\n",
    "\n",
    "Answer:\n",
    "\"\"\"\n",
    "\n",
    "    if example['Result'] is not None:\n",
    "\n",
    "            return description + f\"\"\"<START>\n",
    "In the world of Skyrim from the game Elder Scrolls V, when the Player character tries to check if an NPC of any type can be persuaded, when <EVENT>{example['Event']}</EVENT> and as a result </RESULT>{example['Result']}<RESULT>, the <SPEAKER>{npc_type}</SPEAKER> uses the following line of dialogue: <LINE> </LINE>.\n",
    "<END>\n",
    "\n",
    "Answer:\n",
    "\"\"\"\n",
    "\n",
    "    if example['Event'] == \"an NPC spots the Player character having an amulet of mara\":\n",
    "\n",
    "        if example['Speaker'] == \"Player\":\n",
    "\n",
    "            return description + f\"\"\"<START>\n",
    "In the world of Skyrim from the game Elder Scrolls V, when <EVENT>{example['Event']}</EVENT> an interaction begins between the two about the possibility of marriage.\n",
    "In this case in response to the the NPC's previous dialogue line: <RESPONSE>{example['Response_to']}</RESPONSE>, the <SPEAKER>Player</SPEAKER> character uses the following line of dialogue: <LINE> </LINE>.\n",
    "<END>\n",
    "\n",
    "Answer:\n",
    "\"\"\"\n",
    "\n",
    "        if example['Response_to'] is None:\n",
    "\n",
    "            return description +  f\"\"\"<START>\n",
    "In the world of Skyrim from the game Elder Scrolls V, when <EVENT>{example['Event']}</EVENT> an interaction begins between the two about the possibility of marriage.\n",
    "In this case to initiate the conversation about marriage, <SPEAKER>{npc_type}</SPEAKER> uses the following line of dialogue: <LINE> </LINE>.\n",
    "<END>\n",
    "\n",
    "Answer:\n",
    "\"\"\"\n",
    "\n",
    "        else:\n",
    "\n",
    "            return description + f\"\"\"<START>\n",
    "In the world of Skyrim from the game Elder Scrolls V, when <EVENT>{example['Event']}</EVENT> an interaction begins between the two about the possibility of marriage.\n",
    "In this case in response to the the Player's previous dialogue line: <RESPONSE>{example['Response_to']}</RESPONSE>, <SPEAKER>{npc_type}</SPEAKER> uses the following line of dialogue: <LINE> </LINE>.\n",
    "<END>\n",
    "\n",
    "Answer:\n",
    "\"\"\"\n",
    "\n",
    "    if example['Race'] is not None:\n",
    "\n",
    "        if example['Condition'] is not None:\n",
    "\n",
    "            return description + f\"\"\"<START>\n",
    "In the world of Skyrim from the game Elder Scrolls V, Town Guards have special reactions to the race of the Player character, in the case of <EVENT>{example['Event']}</EVENT>, if the Player's race is <RACE>{example['Race']}</RACE> and <CONDITION>{example['Condition']}</CONDITION>, the <SPEAKER>Guard</SPEAKER> uses the following line of dialogue: <LINE> </LINE>.\n",
    "<END>\n",
    "\n",
    "Answer:\n",
    "\"\"\"\n",
    "\n",
    "        else:\n",
    "\n",
    "            return description + f\"\"\"<START>\n",
    "In the world of Skyrim from the game Elder Scrolls V, Town Guards have special reactions to the race of the Player character, so in the case of <EVENT>{example['Event']}</EVENT>, if the Player's race is <RACE>{example['Race']}</RACE>, the <SPEAKER>Guard</SPEAKER> uses the following line of dialogue: <LINE> </LINE>.\n",
    "<END>\n",
    "\n",
    "Answer:\n",
    "\"\"\"\n",
    "\n",
    "    if example['Equipment'] is not None:\n",
    "\n",
    "        if example['Condition'] is not None:\n",
    "\n",
    "            return description + f\"\"\"<START>\n",
    "In the world of Skyrim from the game Elder Scrolls V, Town Guards have special reactions to the equipment the Player character is holding or has equipped, so when in the case of a <EVENT>{example['Event']}</EVENT> and <CONDITION>{example['Condition']}</CONDITION>, to react to the Player's <EQUIPMENT>{example['Equipment']}</EQUIPMENT>, the <SPEAKER>Guard</SPEAKER> uses the following line of dialogue: <LINE> </LINE>.\n",
    "<END>\n",
    "\n",
    "Answer:\n",
    "\"\"\"\n",
    "\n",
    "        else:\n",
    "\n",
    "            return description + f\"\"\"<START>\n",
    "In the world of Skyrim from the game Elder Scrolls V, Town Guards have special reactions to the equipment the Player character is holding or has equipped, so when in the case of a <EVENT>{example['Event']}</EVENT>, to react to the Player's <EQUIPMENT>{example['Equipment']}</EQUIPMENT>, the <SPEAKER>Guard</SPEAKER> uses the following line of dialogue: <LINE> </LINE>.\n",
    "<END>\n",
    "\n",
    "Answer:\n",
    "\"\"\"\n",
    "\n",
    "    if example['Location'] is not None:\n",
    "\n",
    "        if example['Condition'] is not None:\n",
    "\n",
    "            return description + f\"\"\"<START>\n",
    "In the world of Skyrim from the game Elder Scrolls V, <EVENT>Town Guards have special interactions with the Player character that are location based</EVENT>, meaning that the Guards sometimes interact with the Player using town specific dialogue.\n",
    "In this case in the town of <LOCATION>{example['Location']}</LOCATION> and on the condition that <CONDITION>{example['Condition']}</CONDITION>, a <SPEAKER>Guard</SPEAKER>, when the Player character interacts with them, uses the following line of dialogue: <LINE> </LINE>.\n",
    "<END>\n",
    "\n",
    "Answer:\n",
    "\"\"\"\n",
    "\n",
    "        else:\n",
    "\n",
    "            return description + f\"\"\"<START>\n",
    "In the world of Skyrim from the game Elder Scrolls V, <EVENT>Town Guards have special interactions with the Player character that are location based</EVENT>, meaning that the Guards sometimes interact with the Player using town specific dialogue.\n",
    "In this case in the town of <LOCATION>{example['Location']}</LOCATION>, a <SPEAKER>Guard</SPEAKER>, when the Player character interacts with them, uses the following line of dialogue: <LINE> </LINE>.\n",
    "<END>\n",
    "\n",
    "Answer:\n",
    "\"\"\"\n",
    "\n",
    "    if example['Condition'] is not None:\n",
    "\n",
    "          return description + f\"\"\"<START>\n",
    "In the world of Skyrim from the game Elder Scrolls V, in the event of <EVENT>{example['Event']}</EVENT> and on the condition that <CONDITION>{example['Condition']}</CONDITION>, <SPEAKER>{npc_type}</SPEAKER>, says the following line to the Player character: <LINE> </LINE>.\n",
    "<END>\n",
    "\n",
    "Answer:\n",
    "\"\"\"\n",
    "\n",
    "    return description + f\"\"\"<START>\n",
    "In the world of Skyrim from the game Elder Scrolls V, in the event of <EVENT>{example['Event']}</EVENT>, <SPEAKER>{npc_type}</SPEAKER>, says the following line to the Player character: <LINE> </LINE>.\n",
    "<END>\n",
    "\n",
    "Answer:\n",
    "\"\"\""
   ],
   "metadata": {
    "collapsed": false,
    "ExecuteTime": {
     "end_time": "2024-06-13T03:52:56.764911500Z",
     "start_time": "2024-06-13T03:52:56.741890700Z"
    }
   },
   "id": "188a7280b29173a8",
   "execution_count": 15
  },
  {
   "cell_type": "code",
   "outputs": [],
   "source": [
    "import pandas as pd\n",
    " # Create an evaluation data frame for each example in the test dataset\n",
    "eval_df = pd.DataFrame(test_dataset['train'])\n",
    "eval_df['description'] = eval_df.apply(evaluation_func, axis=1)"
   ],
   "metadata": {
    "collapsed": false,
    "ExecuteTime": {
     "end_time": "2024-06-13T03:52:57.687607500Z",
     "start_time": "2024-06-13T03:52:57.635463400Z"
    }
   },
   "id": "71d4c54c7ee90baa",
   "execution_count": 16
  },
  {
   "cell_type": "code",
   "outputs": [],
   "source": [
    "\n",
    "# create a new dataframe from the Dialogue column of the eval_df\n",
    "test_dialogues = eval_df['Dialogue']"
   ],
   "metadata": {
    "collapsed": false,
    "ExecuteTime": {
     "end_time": "2024-06-13T03:52:59.138176900Z",
     "start_time": "2024-06-13T03:52:59.098171400Z"
    }
   },
   "id": "39246a2ed90bec3b",
   "execution_count": 17
  },
  {
   "cell_type": "code",
   "outputs": [
    {
     "ename": "NameError",
     "evalue": "name 'evaluation_func' is not defined",
     "output_type": "error",
     "traceback": [
      "\u001B[1;31m---------------------------------------------------------------------------\u001B[0m",
      "\u001B[1;31mNameError\u001B[0m                                 Traceback (most recent call last)",
      "Cell \u001B[1;32mIn[13], line 4\u001B[0m\n\u001B[0;32m      2\u001B[0m  \u001B[38;5;66;03m# Create an evaluation data frame for each example in the test dataset\u001B[39;00m\n\u001B[0;32m      3\u001B[0m eval_df \u001B[38;5;241m=\u001B[39m pd\u001B[38;5;241m.\u001B[39mDataFrame(test_dataset[\u001B[38;5;124m'\u001B[39m\u001B[38;5;124mtrain\u001B[39m\u001B[38;5;124m'\u001B[39m])\n\u001B[1;32m----> 4\u001B[0m eval_df[\u001B[38;5;124m'\u001B[39m\u001B[38;5;124mdescription\u001B[39m\u001B[38;5;124m'\u001B[39m] \u001B[38;5;241m=\u001B[39m eval_df\u001B[38;5;241m.\u001B[39mapply(\u001B[43mevaluation_func\u001B[49m, axis\u001B[38;5;241m=\u001B[39m\u001B[38;5;241m1\u001B[39m)\n\u001B[0;32m      6\u001B[0m \u001B[38;5;66;03m# create a new dataframe from the Dialogue column of the eval_df\u001B[39;00m\n\u001B[0;32m      7\u001B[0m test_dialogues \u001B[38;5;241m=\u001B[39m eval_df[\u001B[38;5;124m'\u001B[39m\u001B[38;5;124mDialogue\u001B[39m\u001B[38;5;124m'\u001B[39m]\n",
      "\u001B[1;31mNameError\u001B[0m: name 'evaluation_func' is not defined"
     ]
    }
   ],
   "source": [
    "\n",
    "eval_df = eval_df[['description']]"
   ],
   "metadata": {
    "collapsed": false,
    "ExecuteTime": {
     "end_time": "2024-06-13T03:52:19.794093400Z",
     "start_time": "2024-06-13T03:52:19.724872Z"
    }
   },
   "id": "82aa554cb2729b07",
   "execution_count": 13
  },
  {
   "cell_type": "code",
   "outputs": [
    {
     "data": {
      "text/plain": "                                           description\n0    The following text describes a greeting exchan...\n1    The following text describes a greeting exchan...\n2    The following text describes a greeting exchan...\n3    The following text describes a greeting exchan...\n4    The following text describes a greeting exchan...\n..                                                 ...\n176  The following text describes a special interac...\n177  The following text describes a special interac...\n178  The following text describes a special interac...\n179  The following text describes a special interac...\n180  The following text describes a special interac...\n\n[181 rows x 1 columns]",
      "text/html": "<div>\n<style scoped>\n    .dataframe tbody tr th:only-of-type {\n        vertical-align: middle;\n    }\n\n    .dataframe tbody tr th {\n        vertical-align: top;\n    }\n\n    .dataframe thead th {\n        text-align: right;\n    }\n</style>\n<table border=\"1\" class=\"dataframe\">\n  <thead>\n    <tr style=\"text-align: right;\">\n      <th></th>\n      <th>description</th>\n    </tr>\n  </thead>\n  <tbody>\n    <tr>\n      <th>0</th>\n      <td>The following text describes a greeting exchan...</td>\n    </tr>\n    <tr>\n      <th>1</th>\n      <td>The following text describes a greeting exchan...</td>\n    </tr>\n    <tr>\n      <th>2</th>\n      <td>The following text describes a greeting exchan...</td>\n    </tr>\n    <tr>\n      <th>3</th>\n      <td>The following text describes a greeting exchan...</td>\n    </tr>\n    <tr>\n      <th>4</th>\n      <td>The following text describes a greeting exchan...</td>\n    </tr>\n    <tr>\n      <th>...</th>\n      <td>...</td>\n    </tr>\n    <tr>\n      <th>176</th>\n      <td>The following text describes a special interac...</td>\n    </tr>\n    <tr>\n      <th>177</th>\n      <td>The following text describes a special interac...</td>\n    </tr>\n    <tr>\n      <th>178</th>\n      <td>The following text describes a special interac...</td>\n    </tr>\n    <tr>\n      <th>179</th>\n      <td>The following text describes a special interac...</td>\n    </tr>\n    <tr>\n      <th>180</th>\n      <td>The following text describes a special interac...</td>\n    </tr>\n  </tbody>\n</table>\n<p>181 rows × 1 columns</p>\n</div>"
     },
     "execution_count": 33,
     "metadata": {},
     "output_type": "execute_result"
    }
   ],
   "source": [
    "eval_df"
   ],
   "metadata": {
    "collapsed": false,
    "ExecuteTime": {
     "end_time": "2024-06-11T16:31:01.333588200Z",
     "start_time": "2024-06-11T16:31:01.270189Z"
    }
   },
   "id": "b4bb35650519ba9b",
   "execution_count": 33
  },
  {
   "cell_type": "code",
   "outputs": [],
   "source": [
    "#for each element in the eval_df, generate an answer from the model\n",
    "answers = []"
   ],
   "metadata": {
    "collapsed": false,
    "ExecuteTime": {
     "end_time": "2024-06-11T16:31:10.372053400Z",
     "start_time": "2024-06-11T16:31:10.358533500Z"
    }
   },
   "id": "c05c7ba19eb67fc8",
   "execution_count": 34
  },
  {
   "cell_type": "code",
   "outputs": [
    {
     "name": "stderr",
     "output_type": "stream",
     "text": [
      "Setting `pad_token_id` to `eos_token_id`:2 for open-end generation.\n"
     ]
    }
   ],
   "source": [
    "#get the answer for the first dialogue\n",
    "model_input = eval_tokenizer(eval_df['description'][0], return_tensors=\"pt\").to(\"cuda\")\n",
    "ft_model.eval()\n",
    "with torch.no_grad():\n",
    "    answer = eval_tokenizer.decode(ft_model.generate(**model_input, max_new_tokens=1000, repetition_penalty=1.15)[0],\n",
    "                                skip_special_tokens=True)\n",
    "    answers.append(answer)"
   ],
   "metadata": {
    "collapsed": false,
    "ExecuteTime": {
     "end_time": "2024-06-11T16:31:22.127282Z",
     "start_time": "2024-06-11T16:31:11.037373200Z"
    }
   },
   "id": "2aa3ecf3043699b1",
   "execution_count": 35
  },
  {
   "cell_type": "code",
   "outputs": [
    {
     "name": "stdout",
     "output_type": "stream",
     "text": [
      "The following text describes a greeting exchange between the Player and an NPC. The text will be enclosed within <START> and <END>. There are specific rules that apply only to the text: the event will be enclosed within <EVENT> and </EVENT>, the type of speaker will be enclosed within <SPEAKER> and </SPEAKER>, the line used will be enclosed within <LINE> and </LINE>, and the tone of the line will be enclosed within <TONE> and </TONE>.Generate the missing dialogue line between the <LINE> and </LINE> tags inside the provided text.\n",
      "        \n",
      "        Please remember to generate the dialogue inside the following <LINE> and </LINE> tags inside the provided text below,for example replace <LINE> </LINE> with <LINE>Missing Dialogue</LINE>\n",
      "\n",
      "<START>\n",
      "In the world of Skyrim from the game Elder Scrolls V, in the event of a <EVENT>Greeting</EVENT>, between an NPC and the Player character, <SPEAKER>the NPC, that is the type FemaleCoward</SPEAKER> greets the Player, in a <TONE>Friendly</TONE> tone, using the following line of dialogue: <LINE> </LINE>.\n",
      "<END>\n",
      "\n",
      "Answer:\n",
      "<START>\n",
      "In the world of Skyrim from the game Elder Scrolls V, in the event of a <EVENT>Greeting</EVENT>, between an NPC and the Player character, <SPEAKER>the NPC, that is the type FemaleCoward</SPEAKER>, greets the Player, in a <TONE>Friendly</TONE> tone, using the following line of dialogue: <LINE>I'm glad you came by.</LINE>.\n",
      "<END>\n"
     ]
    }
   ],
   "source": [
    "print(answer)"
   ],
   "metadata": {
    "collapsed": false,
    "ExecuteTime": {
     "end_time": "2024-06-11T16:31:22.883455100Z",
     "start_time": "2024-06-11T16:31:22.864946100Z"
    }
   },
   "id": "ec841c1f94b9a801",
   "execution_count": 36
  },
  {
   "cell_type": "code",
   "outputs": [
    {
     "name": "stderr",
     "output_type": "stream",
     "text": [
      "Setting `pad_token_id` to `eos_token_id`:2 for open-end generation.\n",
      "Setting `pad_token_id` to `eos_token_id`:2 for open-end generation.\n",
      "Setting `pad_token_id` to `eos_token_id`:2 for open-end generation.\n",
      "Setting `pad_token_id` to `eos_token_id`:2 for open-end generation.\n",
      "Setting `pad_token_id` to `eos_token_id`:2 for open-end generation.\n",
      "Setting `pad_token_id` to `eos_token_id`:2 for open-end generation.\n",
      "Setting `pad_token_id` to `eos_token_id`:2 for open-end generation.\n",
      "Setting `pad_token_id` to `eos_token_id`:2 for open-end generation.\n",
      "Setting `pad_token_id` to `eos_token_id`:2 for open-end generation.\n",
      "Setting `pad_token_id` to `eos_token_id`:2 for open-end generation.\n",
      "Setting `pad_token_id` to `eos_token_id`:2 for open-end generation.\n",
      "Setting `pad_token_id` to `eos_token_id`:2 for open-end generation.\n",
      "Setting `pad_token_id` to `eos_token_id`:2 for open-end generation.\n",
      "Setting `pad_token_id` to `eos_token_id`:2 for open-end generation.\n",
      "Setting `pad_token_id` to `eos_token_id`:2 for open-end generation.\n",
      "Setting `pad_token_id` to `eos_token_id`:2 for open-end generation.\n",
      "Setting `pad_token_id` to `eos_token_id`:2 for open-end generation.\n",
      "Setting `pad_token_id` to `eos_token_id`:2 for open-end generation.\n",
      "Setting `pad_token_id` to `eos_token_id`:2 for open-end generation.\n",
      "Setting `pad_token_id` to `eos_token_id`:2 for open-end generation.\n",
      "Setting `pad_token_id` to `eos_token_id`:2 for open-end generation.\n",
      "Setting `pad_token_id` to `eos_token_id`:2 for open-end generation.\n",
      "Setting `pad_token_id` to `eos_token_id`:2 for open-end generation.\n",
      "Setting `pad_token_id` to `eos_token_id`:2 for open-end generation.\n",
      "Setting `pad_token_id` to `eos_token_id`:2 for open-end generation.\n",
      "Setting `pad_token_id` to `eos_token_id`:2 for open-end generation.\n",
      "Setting `pad_token_id` to `eos_token_id`:2 for open-end generation.\n",
      "Setting `pad_token_id` to `eos_token_id`:2 for open-end generation.\n",
      "Setting `pad_token_id` to `eos_token_id`:2 for open-end generation.\n",
      "Setting `pad_token_id` to `eos_token_id`:2 for open-end generation.\n",
      "Setting `pad_token_id` to `eos_token_id`:2 for open-end generation.\n",
      "Setting `pad_token_id` to `eos_token_id`:2 for open-end generation.\n",
      "Setting `pad_token_id` to `eos_token_id`:2 for open-end generation.\n",
      "Setting `pad_token_id` to `eos_token_id`:2 for open-end generation.\n",
      "Setting `pad_token_id` to `eos_token_id`:2 for open-end generation.\n",
      "Setting `pad_token_id` to `eos_token_id`:2 for open-end generation.\n",
      "Setting `pad_token_id` to `eos_token_id`:2 for open-end generation.\n",
      "Setting `pad_token_id` to `eos_token_id`:2 for open-end generation.\n",
      "Setting `pad_token_id` to `eos_token_id`:2 for open-end generation.\n",
      "Setting `pad_token_id` to `eos_token_id`:2 for open-end generation.\n",
      "Setting `pad_token_id` to `eos_token_id`:2 for open-end generation.\n",
      "Setting `pad_token_id` to `eos_token_id`:2 for open-end generation.\n",
      "Setting `pad_token_id` to `eos_token_id`:2 for open-end generation.\n",
      "Setting `pad_token_id` to `eos_token_id`:2 for open-end generation.\n",
      "Setting `pad_token_id` to `eos_token_id`:2 for open-end generation.\n",
      "Setting `pad_token_id` to `eos_token_id`:2 for open-end generation.\n",
      "Setting `pad_token_id` to `eos_token_id`:2 for open-end generation.\n",
      "Setting `pad_token_id` to `eos_token_id`:2 for open-end generation.\n",
      "Setting `pad_token_id` to `eos_token_id`:2 for open-end generation.\n",
      "Setting `pad_token_id` to `eos_token_id`:2 for open-end generation.\n",
      "Setting `pad_token_id` to `eos_token_id`:2 for open-end generation.\n",
      "Setting `pad_token_id` to `eos_token_id`:2 for open-end generation.\n",
      "Setting `pad_token_id` to `eos_token_id`:2 for open-end generation.\n",
      "Setting `pad_token_id` to `eos_token_id`:2 for open-end generation.\n",
      "Setting `pad_token_id` to `eos_token_id`:2 for open-end generation.\n",
      "Setting `pad_token_id` to `eos_token_id`:2 for open-end generation.\n",
      "Setting `pad_token_id` to `eos_token_id`:2 for open-end generation.\n",
      "Setting `pad_token_id` to `eos_token_id`:2 for open-end generation.\n",
      "Setting `pad_token_id` to `eos_token_id`:2 for open-end generation.\n",
      "Setting `pad_token_id` to `eos_token_id`:2 for open-end generation.\n",
      "Setting `pad_token_id` to `eos_token_id`:2 for open-end generation.\n",
      "Setting `pad_token_id` to `eos_token_id`:2 for open-end generation.\n",
      "Setting `pad_token_id` to `eos_token_id`:2 for open-end generation.\n",
      "Setting `pad_token_id` to `eos_token_id`:2 for open-end generation.\n",
      "Setting `pad_token_id` to `eos_token_id`:2 for open-end generation.\n",
      "Setting `pad_token_id` to `eos_token_id`:2 for open-end generation.\n",
      "Setting `pad_token_id` to `eos_token_id`:2 for open-end generation.\n",
      "Setting `pad_token_id` to `eos_token_id`:2 for open-end generation.\n",
      "Setting `pad_token_id` to `eos_token_id`:2 for open-end generation.\n",
      "Setting `pad_token_id` to `eos_token_id`:2 for open-end generation.\n",
      "Setting `pad_token_id` to `eos_token_id`:2 for open-end generation.\n",
      "Setting `pad_token_id` to `eos_token_id`:2 for open-end generation.\n",
      "Setting `pad_token_id` to `eos_token_id`:2 for open-end generation.\n",
      "Setting `pad_token_id` to `eos_token_id`:2 for open-end generation.\n",
      "Setting `pad_token_id` to `eos_token_id`:2 for open-end generation.\n",
      "Setting `pad_token_id` to `eos_token_id`:2 for open-end generation.\n",
      "Setting `pad_token_id` to `eos_token_id`:2 for open-end generation.\n",
      "Setting `pad_token_id` to `eos_token_id`:2 for open-end generation.\n",
      "Setting `pad_token_id` to `eos_token_id`:2 for open-end generation.\n",
      "Setting `pad_token_id` to `eos_token_id`:2 for open-end generation.\n",
      "Setting `pad_token_id` to `eos_token_id`:2 for open-end generation.\n",
      "Setting `pad_token_id` to `eos_token_id`:2 for open-end generation.\n",
      "Setting `pad_token_id` to `eos_token_id`:2 for open-end generation.\n",
      "Setting `pad_token_id` to `eos_token_id`:2 for open-end generation.\n",
      "Setting `pad_token_id` to `eos_token_id`:2 for open-end generation.\n",
      "Setting `pad_token_id` to `eos_token_id`:2 for open-end generation.\n",
      "Setting `pad_token_id` to `eos_token_id`:2 for open-end generation.\n",
      "Setting `pad_token_id` to `eos_token_id`:2 for open-end generation.\n",
      "Setting `pad_token_id` to `eos_token_id`:2 for open-end generation.\n",
      "Setting `pad_token_id` to `eos_token_id`:2 for open-end generation.\n",
      "Setting `pad_token_id` to `eos_token_id`:2 for open-end generation.\n",
      "Setting `pad_token_id` to `eos_token_id`:2 for open-end generation.\n",
      "Setting `pad_token_id` to `eos_token_id`:2 for open-end generation.\n",
      "Setting `pad_token_id` to `eos_token_id`:2 for open-end generation.\n",
      "Setting `pad_token_id` to `eos_token_id`:2 for open-end generation.\n",
      "Setting `pad_token_id` to `eos_token_id`:2 for open-end generation.\n",
      "Setting `pad_token_id` to `eos_token_id`:2 for open-end generation.\n",
      "Setting `pad_token_id` to `eos_token_id`:2 for open-end generation.\n",
      "Setting `pad_token_id` to `eos_token_id`:2 for open-end generation.\n",
      "Setting `pad_token_id` to `eos_token_id`:2 for open-end generation.\n",
      "Setting `pad_token_id` to `eos_token_id`:2 for open-end generation.\n",
      "Setting `pad_token_id` to `eos_token_id`:2 for open-end generation.\n",
      "Setting `pad_token_id` to `eos_token_id`:2 for open-end generation.\n",
      "Setting `pad_token_id` to `eos_token_id`:2 for open-end generation.\n",
      "Setting `pad_token_id` to `eos_token_id`:2 for open-end generation.\n",
      "Setting `pad_token_id` to `eos_token_id`:2 for open-end generation.\n",
      "Setting `pad_token_id` to `eos_token_id`:2 for open-end generation.\n",
      "Setting `pad_token_id` to `eos_token_id`:2 for open-end generation.\n",
      "Setting `pad_token_id` to `eos_token_id`:2 for open-end generation.\n",
      "Setting `pad_token_id` to `eos_token_id`:2 for open-end generation.\n",
      "Setting `pad_token_id` to `eos_token_id`:2 for open-end generation.\n",
      "Setting `pad_token_id` to `eos_token_id`:2 for open-end generation.\n",
      "Setting `pad_token_id` to `eos_token_id`:2 for open-end generation.\n",
      "Setting `pad_token_id` to `eos_token_id`:2 for open-end generation.\n",
      "Setting `pad_token_id` to `eos_token_id`:2 for open-end generation.\n",
      "Setting `pad_token_id` to `eos_token_id`:2 for open-end generation.\n",
      "Setting `pad_token_id` to `eos_token_id`:2 for open-end generation.\n",
      "Setting `pad_token_id` to `eos_token_id`:2 for open-end generation.\n",
      "Setting `pad_token_id` to `eos_token_id`:2 for open-end generation.\n",
      "Setting `pad_token_id` to `eos_token_id`:2 for open-end generation.\n",
      "Setting `pad_token_id` to `eos_token_id`:2 for open-end generation.\n",
      "Setting `pad_token_id` to `eos_token_id`:2 for open-end generation.\n",
      "Setting `pad_token_id` to `eos_token_id`:2 for open-end generation.\n",
      "Setting `pad_token_id` to `eos_token_id`:2 for open-end generation.\n",
      "Setting `pad_token_id` to `eos_token_id`:2 for open-end generation.\n",
      "Setting `pad_token_id` to `eos_token_id`:2 for open-end generation.\n",
      "Setting `pad_token_id` to `eos_token_id`:2 for open-end generation.\n",
      "Setting `pad_token_id` to `eos_token_id`:2 for open-end generation.\n",
      "Setting `pad_token_id` to `eos_token_id`:2 for open-end generation.\n",
      "Setting `pad_token_id` to `eos_token_id`:2 for open-end generation.\n",
      "Setting `pad_token_id` to `eos_token_id`:2 for open-end generation.\n",
      "Setting `pad_token_id` to `eos_token_id`:2 for open-end generation.\n",
      "Setting `pad_token_id` to `eos_token_id`:2 for open-end generation.\n",
      "Setting `pad_token_id` to `eos_token_id`:2 for open-end generation.\n",
      "Setting `pad_token_id` to `eos_token_id`:2 for open-end generation.\n",
      "Setting `pad_token_id` to `eos_token_id`:2 for open-end generation.\n",
      "Setting `pad_token_id` to `eos_token_id`:2 for open-end generation.\n",
      "Setting `pad_token_id` to `eos_token_id`:2 for open-end generation.\n",
      "Setting `pad_token_id` to `eos_token_id`:2 for open-end generation.\n",
      "Setting `pad_token_id` to `eos_token_id`:2 for open-end generation.\n",
      "Setting `pad_token_id` to `eos_token_id`:2 for open-end generation.\n",
      "Setting `pad_token_id` to `eos_token_id`:2 for open-end generation.\n",
      "Setting `pad_token_id` to `eos_token_id`:2 for open-end generation.\n",
      "Setting `pad_token_id` to `eos_token_id`:2 for open-end generation.\n",
      "Setting `pad_token_id` to `eos_token_id`:2 for open-end generation.\n",
      "Setting `pad_token_id` to `eos_token_id`:2 for open-end generation.\n",
      "Setting `pad_token_id` to `eos_token_id`:2 for open-end generation.\n",
      "Setting `pad_token_id` to `eos_token_id`:2 for open-end generation.\n",
      "Setting `pad_token_id` to `eos_token_id`:2 for open-end generation.\n",
      "Setting `pad_token_id` to `eos_token_id`:2 for open-end generation.\n",
      "Setting `pad_token_id` to `eos_token_id`:2 for open-end generation.\n",
      "Setting `pad_token_id` to `eos_token_id`:2 for open-end generation.\n",
      "Setting `pad_token_id` to `eos_token_id`:2 for open-end generation.\n",
      "Setting `pad_token_id` to `eos_token_id`:2 for open-end generation.\n",
      "Setting `pad_token_id` to `eos_token_id`:2 for open-end generation.\n",
      "Setting `pad_token_id` to `eos_token_id`:2 for open-end generation.\n",
      "Setting `pad_token_id` to `eos_token_id`:2 for open-end generation.\n",
      "Setting `pad_token_id` to `eos_token_id`:2 for open-end generation.\n",
      "Setting `pad_token_id` to `eos_token_id`:2 for open-end generation.\n",
      "Setting `pad_token_id` to `eos_token_id`:2 for open-end generation.\n",
      "Setting `pad_token_id` to `eos_token_id`:2 for open-end generation.\n",
      "Setting `pad_token_id` to `eos_token_id`:2 for open-end generation.\n",
      "Setting `pad_token_id` to `eos_token_id`:2 for open-end generation.\n",
      "Setting `pad_token_id` to `eos_token_id`:2 for open-end generation.\n",
      "Setting `pad_token_id` to `eos_token_id`:2 for open-end generation.\n",
      "Setting `pad_token_id` to `eos_token_id`:2 for open-end generation.\n",
      "Setting `pad_token_id` to `eos_token_id`:2 for open-end generation.\n",
      "Setting `pad_token_id` to `eos_token_id`:2 for open-end generation.\n",
      "Setting `pad_token_id` to `eos_token_id`:2 for open-end generation.\n",
      "Setting `pad_token_id` to `eos_token_id`:2 for open-end generation.\n",
      "Setting `pad_token_id` to `eos_token_id`:2 for open-end generation.\n",
      "Setting `pad_token_id` to `eos_token_id`:2 for open-end generation.\n",
      "Setting `pad_token_id` to `eos_token_id`:2 for open-end generation.\n",
      "Setting `pad_token_id` to `eos_token_id`:2 for open-end generation.\n",
      "Setting `pad_token_id` to `eos_token_id`:2 for open-end generation.\n",
      "Setting `pad_token_id` to `eos_token_id`:2 for open-end generation.\n",
      "Setting `pad_token_id` to `eos_token_id`:2 for open-end generation.\n",
      "Setting `pad_token_id` to `eos_token_id`:2 for open-end generation.\n",
      "Setting `pad_token_id` to `eos_token_id`:2 for open-end generation.\n",
      "Setting `pad_token_id` to `eos_token_id`:2 for open-end generation.\n",
      "Setting `pad_token_id` to `eos_token_id`:2 for open-end generation.\n"
     ]
    }
   ],
   "source": [
    "#make the model generate answers for all the dialogues in the eval_df\n",
    "answers= []\n",
    "for i in range(0, len(eval_df)):\n",
    "    model_input = eval_tokenizer(eval_df['description'][i], return_tensors=\"pt\").to(\"cuda\")\n",
    "    ft_model.eval()\n",
    "    with torch.no_grad():\n",
    "        answer = eval_tokenizer.decode(ft_model.generate(**model_input, max_new_tokens=1250, repetition_penalty=1.15)[0],\n",
    "                                skip_special_tokens=True)\n",
    "        answers.append(answer)"
   ],
   "metadata": {
    "collapsed": false,
    "ExecuteTime": {
     "end_time": "2024-06-11T16:58:54.277378700Z",
     "start_time": "2024-06-11T16:31:32.274325100Z"
    }
   },
   "id": "4b33017a0f8fce03",
   "execution_count": 37
  },
  {
   "cell_type": "code",
   "outputs": [
    {
     "data": {
      "text/plain": "181"
     },
     "execution_count": 38,
     "metadata": {},
     "output_type": "execute_result"
    }
   ],
   "source": [
    " len(answers)"
   ],
   "metadata": {
    "collapsed": false,
    "ExecuteTime": {
     "end_time": "2024-06-11T16:59:16.300566900Z",
     "start_time": "2024-06-11T16:59:16.289058300Z"
    }
   },
   "id": "f22c08286ca5f1da",
   "execution_count": 38
  },
  {
   "cell_type": "code",
   "outputs": [],
   "source": [
    "#make the answers into a dataframe\n",
    "answers_df = pd.DataFrame(answers, columns=['Dialogue'])\n",
    "#export the answers to an excel file\n",
    "answers_df.to_excel('Mistral_Dialogues_Full.xlsx', index=False)"
   ],
   "metadata": {
    "collapsed": false,
    "ExecuteTime": {
     "end_time": "2024-06-11T16:59:36.216525500Z",
     "start_time": "2024-06-11T16:59:36.187349700Z"
    }
   },
   "id": "1ba6ab9f088d369",
   "execution_count": 39
  },
  {
   "cell_type": "code",
   "outputs": [
    {
     "data": {
      "text/plain": "                                              Dialogue\n0    The following text describes a greeting exchan...\n1    The following text describes a greeting exchan...\n2    The following text describes a greeting exchan...\n3    The following text describes a greeting exchan...\n4    The following text describes a greeting exchan...\n..                                                 ...\n176  The following text describes a special interac...\n177  The following text describes a special interac...\n178  The following text describes a special interac...\n179  The following text describes a special interac...\n180  The following text describes a special interac...\n\n[181 rows x 1 columns]",
      "text/html": "<div>\n<style scoped>\n    .dataframe tbody tr th:only-of-type {\n        vertical-align: middle;\n    }\n\n    .dataframe tbody tr th {\n        vertical-align: top;\n    }\n\n    .dataframe thead th {\n        text-align: right;\n    }\n</style>\n<table border=\"1\" class=\"dataframe\">\n  <thead>\n    <tr style=\"text-align: right;\">\n      <th></th>\n      <th>Dialogue</th>\n    </tr>\n  </thead>\n  <tbody>\n    <tr>\n      <th>0</th>\n      <td>The following text describes a greeting exchan...</td>\n    </tr>\n    <tr>\n      <th>1</th>\n      <td>The following text describes a greeting exchan...</td>\n    </tr>\n    <tr>\n      <th>2</th>\n      <td>The following text describes a greeting exchan...</td>\n    </tr>\n    <tr>\n      <th>3</th>\n      <td>The following text describes a greeting exchan...</td>\n    </tr>\n    <tr>\n      <th>4</th>\n      <td>The following text describes a greeting exchan...</td>\n    </tr>\n    <tr>\n      <th>...</th>\n      <td>...</td>\n    </tr>\n    <tr>\n      <th>176</th>\n      <td>The following text describes a special interac...</td>\n    </tr>\n    <tr>\n      <th>177</th>\n      <td>The following text describes a special interac...</td>\n    </tr>\n    <tr>\n      <th>178</th>\n      <td>The following text describes a special interac...</td>\n    </tr>\n    <tr>\n      <th>179</th>\n      <td>The following text describes a special interac...</td>\n    </tr>\n    <tr>\n      <th>180</th>\n      <td>The following text describes a special interac...</td>\n    </tr>\n  </tbody>\n</table>\n<p>181 rows × 1 columns</p>\n</div>"
     },
     "execution_count": 50,
     "metadata": {},
     "output_type": "execute_result"
    }
   ],
   "source": [
    "#import the answers from the excel file answes_test.xlsx with a column named Dialogue\n",
    "answers_df = pd.read_excel('Mistral_Dialogues_Full.xlsx')\n",
    "#name the column Dialogue\n",
    "answers_df.columns = ['Dialogue']\n",
    "answers_df"
   ],
   "metadata": {
    "collapsed": false,
    "ExecuteTime": {
     "end_time": "2024-06-11T17:09:55.989247700Z",
     "start_time": "2024-06-11T17:09:55.943900100Z"
    }
   },
   "id": "9012e6e068435f81",
   "execution_count": 50
  },
  {
   "cell_type": "code",
   "outputs": [],
   "source": [
    "#for each line in the answers_df, keep only the text after the Answer: tag\n",
    "answers_df['Dialogue'] = answers_df['Dialogue'].str.split('Answer:').str[1]"
   ],
   "metadata": {
    "collapsed": false,
    "ExecuteTime": {
     "end_time": "2024-06-11T17:10:01.498440100Z",
     "start_time": "2024-06-11T17:10:01.483434400Z"
    }
   },
   "id": "52ac7453493b3b80",
   "execution_count": 51
  },
  {
   "cell_type": "code",
   "outputs": [
    {
     "data": {
      "text/plain": "                                              Dialogue\n0    \\n<START>\\nIn the world of Skyrim from the gam...\n1    \\n<START>\\nIn the world of Skyrim from the gam...\n2    \\n<START>\\nIn the world of Skyrim from the gam...\n3    \\n<START>\\nIn the world of Skyrim from the gam...\n4    \\n<START>\\nIn the world of Skyrim from the gam...\n..                                                 ...\n176  \\n<LINE>You know what I like about Markarth? I...\n177  \\n<LINE>You're not from around here, are you? ...\n178  \\n<LINE>I heard you were out at the ruins of F...\n179  \\n<LINE>You should buy a house here sometime. ...\n180  \\n<ANSWER><LINE>I heard you bought Vlindrel Ha...\n\n[181 rows x 1 columns]",
      "text/html": "<div>\n<style scoped>\n    .dataframe tbody tr th:only-of-type {\n        vertical-align: middle;\n    }\n\n    .dataframe tbody tr th {\n        vertical-align: top;\n    }\n\n    .dataframe thead th {\n        text-align: right;\n    }\n</style>\n<table border=\"1\" class=\"dataframe\">\n  <thead>\n    <tr style=\"text-align: right;\">\n      <th></th>\n      <th>Dialogue</th>\n    </tr>\n  </thead>\n  <tbody>\n    <tr>\n      <th>0</th>\n      <td>\\n&lt;START&gt;\\nIn the world of Skyrim from the gam...</td>\n    </tr>\n    <tr>\n      <th>1</th>\n      <td>\\n&lt;START&gt;\\nIn the world of Skyrim from the gam...</td>\n    </tr>\n    <tr>\n      <th>2</th>\n      <td>\\n&lt;START&gt;\\nIn the world of Skyrim from the gam...</td>\n    </tr>\n    <tr>\n      <th>3</th>\n      <td>\\n&lt;START&gt;\\nIn the world of Skyrim from the gam...</td>\n    </tr>\n    <tr>\n      <th>4</th>\n      <td>\\n&lt;START&gt;\\nIn the world of Skyrim from the gam...</td>\n    </tr>\n    <tr>\n      <th>...</th>\n      <td>...</td>\n    </tr>\n    <tr>\n      <th>176</th>\n      <td>\\n&lt;LINE&gt;You know what I like about Markarth? I...</td>\n    </tr>\n    <tr>\n      <th>177</th>\n      <td>\\n&lt;LINE&gt;You're not from around here, are you? ...</td>\n    </tr>\n    <tr>\n      <th>178</th>\n      <td>\\n&lt;LINE&gt;I heard you were out at the ruins of F...</td>\n    </tr>\n    <tr>\n      <th>179</th>\n      <td>\\n&lt;LINE&gt;You should buy a house here sometime. ...</td>\n    </tr>\n    <tr>\n      <th>180</th>\n      <td>\\n&lt;ANSWER&gt;&lt;LINE&gt;I heard you bought Vlindrel Ha...</td>\n    </tr>\n  </tbody>\n</table>\n<p>181 rows × 1 columns</p>\n</div>"
     },
     "execution_count": 52,
     "metadata": {},
     "output_type": "execute_result"
    }
   ],
   "source": [
    "answers_df"
   ],
   "metadata": {
    "collapsed": false,
    "ExecuteTime": {
     "end_time": "2024-06-11T17:10:02.255924100Z",
     "start_time": "2024-06-11T17:10:02.234404900Z"
    }
   },
   "id": "e5f248355df5dc9f",
   "execution_count": 52
  },
  {
   "cell_type": "code",
   "outputs": [],
   "source": [
    "#export the answers to an excel file\n",
    "answers_df.to_excel('Mistral_Dialogues_Answers_Only.xlsx', index=False)"
   ],
   "metadata": {
    "collapsed": false,
    "ExecuteTime": {
     "end_time": "2024-06-11T17:10:16.237439300Z",
     "start_time": "2024-06-11T17:10:16.209356200Z"
    }
   },
   "id": "6d7f39c2ca00a11e",
   "execution_count": 53
  },
  {
   "cell_type": "code",
   "outputs": [],
   "source": [
    "import pandas as pd\n",
    "#import the answers from the excel file answes_test.xlsx with a column named Dialogue\n",
    "answers_df = pd.read_excel('Mistral_Dialogues_Answers_Only.xlsx')\n",
    "#name the column Dialogue\n",
    "answers_df.columns = ['Dialogue']"
   ],
   "metadata": {
    "collapsed": false,
    "ExecuteTime": {
     "end_time": "2024-06-13T03:49:47.680304900Z",
     "start_time": "2024-06-13T03:49:44.328279500Z"
    }
   },
   "id": "4aa21490c416d8fb",
   "execution_count": 2
  },
  {
   "cell_type": "code",
   "outputs": [],
   "source": [
    "#convert everything in the answers_df to a string\n",
    "answers_df = answers_df.map(str)"
   ],
   "metadata": {
    "collapsed": false,
    "ExecuteTime": {
     "end_time": "2024-06-13T03:49:51.321356300Z",
     "start_time": "2024-06-13T03:49:51.292937Z"
    }
   },
   "id": "dca04aa64be26c9d",
   "execution_count": 3
  },
  {
   "cell_type": "code",
   "outputs": [
    {
     "data": {
      "text/plain": "                                              Dialogue\n0    \\n<START>\\nIn the world of Skyrim from the gam...\n1    \\n<START>\\nIn the world of Skyrim from the gam...\n2    \\n<START>\\nIn the world of Skyrim from the gam...\n3    \\n<START>\\nIn the world of Skyrim from the gam...\n4    \\n<START>\\nIn the world of Skyrim from the gam...\n..                                                 ...\n176  \\n<LINE>You know what I like about Markarth? I...\n177  \\n<LINE>You're not from around here, are you? ...\n178  \\n<LINE>I heard you were out at the ruins of F...\n179  \\n<LINE>You should buy a house here sometime. ...\n180  \\n<ANSWER><LINE>I heard you bought Vlindrel Ha...\n\n[181 rows x 1 columns]",
      "text/html": "<div>\n<style scoped>\n    .dataframe tbody tr th:only-of-type {\n        vertical-align: middle;\n    }\n\n    .dataframe tbody tr th {\n        vertical-align: top;\n    }\n\n    .dataframe thead th {\n        text-align: right;\n    }\n</style>\n<table border=\"1\" class=\"dataframe\">\n  <thead>\n    <tr style=\"text-align: right;\">\n      <th></th>\n      <th>Dialogue</th>\n    </tr>\n  </thead>\n  <tbody>\n    <tr>\n      <th>0</th>\n      <td>\\n&lt;START&gt;\\nIn the world of Skyrim from the gam...</td>\n    </tr>\n    <tr>\n      <th>1</th>\n      <td>\\n&lt;START&gt;\\nIn the world of Skyrim from the gam...</td>\n    </tr>\n    <tr>\n      <th>2</th>\n      <td>\\n&lt;START&gt;\\nIn the world of Skyrim from the gam...</td>\n    </tr>\n    <tr>\n      <th>3</th>\n      <td>\\n&lt;START&gt;\\nIn the world of Skyrim from the gam...</td>\n    </tr>\n    <tr>\n      <th>4</th>\n      <td>\\n&lt;START&gt;\\nIn the world of Skyrim from the gam...</td>\n    </tr>\n    <tr>\n      <th>...</th>\n      <td>...</td>\n    </tr>\n    <tr>\n      <th>176</th>\n      <td>\\n&lt;LINE&gt;You know what I like about Markarth? I...</td>\n    </tr>\n    <tr>\n      <th>177</th>\n      <td>\\n&lt;LINE&gt;You're not from around here, are you? ...</td>\n    </tr>\n    <tr>\n      <th>178</th>\n      <td>\\n&lt;LINE&gt;I heard you were out at the ruins of F...</td>\n    </tr>\n    <tr>\n      <th>179</th>\n      <td>\\n&lt;LINE&gt;You should buy a house here sometime. ...</td>\n    </tr>\n    <tr>\n      <th>180</th>\n      <td>\\n&lt;ANSWER&gt;&lt;LINE&gt;I heard you bought Vlindrel Ha...</td>\n    </tr>\n  </tbody>\n</table>\n<p>181 rows × 1 columns</p>\n</div>"
     },
     "execution_count": 4,
     "metadata": {},
     "output_type": "execute_result"
    }
   ],
   "source": [
    "answers_df"
   ],
   "metadata": {
    "collapsed": false,
    "ExecuteTime": {
     "end_time": "2024-06-13T03:49:53.486567Z",
     "start_time": "2024-06-13T03:49:53.440632300Z"
    }
   },
   "id": "889a1d8e9a814031",
   "execution_count": 4
  },
  {
   "cell_type": "code",
   "outputs": [
    {
     "data": {
      "text/plain": "                                              Dialogue\n0                                I'm glad you came by.\n1                                            Good day.\n2                                I'm glad you came by.\n3                                I'm glad you came by.\n4                            I'm just passing through.\n..                                                 ...\n176  You know what I like about Markarth? It's not ...\n177  You're not from around here, are you? You shou...\n178  I heard you were out at the ruins of Fort Dawn...\n179  You should buy a house here sometime. Whiterun...\n180                                                   \n\n[181 rows x 1 columns]",
      "text/html": "<div>\n<style scoped>\n    .dataframe tbody tr th:only-of-type {\n        vertical-align: middle;\n    }\n\n    .dataframe tbody tr th {\n        vertical-align: top;\n    }\n\n    .dataframe thead th {\n        text-align: right;\n    }\n</style>\n<table border=\"1\" class=\"dataframe\">\n  <thead>\n    <tr style=\"text-align: right;\">\n      <th></th>\n      <th>Dialogue</th>\n    </tr>\n  </thead>\n  <tbody>\n    <tr>\n      <th>0</th>\n      <td>I'm glad you came by.</td>\n    </tr>\n    <tr>\n      <th>1</th>\n      <td>Good day.</td>\n    </tr>\n    <tr>\n      <th>2</th>\n      <td>I'm glad you came by.</td>\n    </tr>\n    <tr>\n      <th>3</th>\n      <td>I'm glad you came by.</td>\n    </tr>\n    <tr>\n      <th>4</th>\n      <td>I'm just passing through.</td>\n    </tr>\n    <tr>\n      <th>...</th>\n      <td>...</td>\n    </tr>\n    <tr>\n      <th>176</th>\n      <td>You know what I like about Markarth? It's not ...</td>\n    </tr>\n    <tr>\n      <th>177</th>\n      <td>You're not from around here, are you? You shou...</td>\n    </tr>\n    <tr>\n      <th>178</th>\n      <td>I heard you were out at the ruins of Fort Dawn...</td>\n    </tr>\n    <tr>\n      <th>179</th>\n      <td>You should buy a house here sometime. Whiterun...</td>\n    </tr>\n    <tr>\n      <th>180</th>\n      <td></td>\n    </tr>\n  </tbody>\n</table>\n<p>181 rows × 1 columns</p>\n</div>"
     },
     "execution_count": 5,
     "metadata": {},
     "output_type": "execute_result"
    }
   ],
   "source": [
    "#itterate through the answers_df and if the <LINE> </LINE> tags are present, keep the text between the tags for all the pairs if there are two pairs keep the second pair\n",
    "import re\n",
    "\n",
    "for i in range(0, len(answers_df)):\n",
    "    matches = re.findall(r'<LINE>(.*?)</LINE>', answers_df['Dialogue'][i])\n",
    "    if len(matches) > 1:\n",
    "        answers_df['Dialogue'][i] = matches[1]\n",
    "    elif len(matches) == 1:\n",
    "        answers_df['Dialogue'][i] = matches[0]\n",
    "    \n",
    "    #find if anything has \"\" and keep only the text between the quotes\n",
    "    if '\"' in answers_df['Dialogue'][i]:\n",
    "        matches = re.findall(r'\"(.*?)\"', answers_df['Dialogue'][i])\n",
    "        answers_df['Dialogue'][i] = matches[0]\n",
    "        \n",
    "    #find if anything is inside <ANSWER> </ANSWER> tags and keep only the text between the tags\n",
    "    if '<ANSWER>' in answers_df['Dialogue'][i]:\n",
    "        matches = re.findall(r'<ANSWER>(.*?)</ANSWER>', answers_df['Dialogue'][i])\n",
    "        answers_df['Dialogue'][i] = matches[0]\n",
    "        \n",
    "#remove the /n from the answers_df\n",
    "answers_df = answers_df.replace('\\n', '', regex=True)\n",
    "        \n",
    "answers_df"
   ],
   "metadata": {
    "collapsed": false,
    "ExecuteTime": {
     "end_time": "2024-06-13T03:50:37.639848500Z",
     "start_time": "2024-06-13T03:50:37.611474200Z"
    }
   },
   "id": "d67dc7444ea4b6ea",
   "execution_count": 5
  },
  {
   "cell_type": "code",
   "outputs": [],
   "source": [
    "#replace the last dialogue in the answers_df with this this I heard you bought Vlindrel Hall. Congratulations. \n",
    "answers_df['Dialogue'][len(answers_df)-1] = \"I heard you bought Vlindrel Hall. Congratulations.\"\n"
   ],
   "metadata": {
    "collapsed": false
   },
   "id": "d7d14a9b694fbec5",
   "execution_count": 6
  },
  {
   "cell_type": "code",
   "outputs": [
    {
     "data": {
      "text/plain": "                                              Dialogue\n0                                I'm glad you came by.\n1                                            Good day.\n2                                I'm glad you came by.\n3                                I'm glad you came by.\n4                            I'm just passing through.\n..                                                 ...\n176  You know what I like about Markarth? It's not ...\n177  You're not from around here, are you? You shou...\n178  I heard you were out at the ruins of Fort Dawn...\n179  You should buy a house here sometime. Whiterun...\n180  I heard you bought Vlindrel Hall. Congratulati...\n\n[181 rows x 1 columns]",
      "text/html": "<div>\n<style scoped>\n    .dataframe tbody tr th:only-of-type {\n        vertical-align: middle;\n    }\n\n    .dataframe tbody tr th {\n        vertical-align: top;\n    }\n\n    .dataframe thead th {\n        text-align: right;\n    }\n</style>\n<table border=\"1\" class=\"dataframe\">\n  <thead>\n    <tr style=\"text-align: right;\">\n      <th></th>\n      <th>Dialogue</th>\n    </tr>\n  </thead>\n  <tbody>\n    <tr>\n      <th>0</th>\n      <td>I'm glad you came by.</td>\n    </tr>\n    <tr>\n      <th>1</th>\n      <td>Good day.</td>\n    </tr>\n    <tr>\n      <th>2</th>\n      <td>I'm glad you came by.</td>\n    </tr>\n    <tr>\n      <th>3</th>\n      <td>I'm glad you came by.</td>\n    </tr>\n    <tr>\n      <th>4</th>\n      <td>I'm just passing through.</td>\n    </tr>\n    <tr>\n      <th>...</th>\n      <td>...</td>\n    </tr>\n    <tr>\n      <th>176</th>\n      <td>You know what I like about Markarth? It's not ...</td>\n    </tr>\n    <tr>\n      <th>177</th>\n      <td>You're not from around here, are you? You shou...</td>\n    </tr>\n    <tr>\n      <th>178</th>\n      <td>I heard you were out at the ruins of Fort Dawn...</td>\n    </tr>\n    <tr>\n      <th>179</th>\n      <td>You should buy a house here sometime. Whiterun...</td>\n    </tr>\n    <tr>\n      <th>180</th>\n      <td>I heard you bought Vlindrel Hall. Congratulati...</td>\n    </tr>\n  </tbody>\n</table>\n<p>181 rows × 1 columns</p>\n</div>"
     },
     "execution_count": 7,
     "metadata": {},
     "output_type": "execute_result"
    }
   ],
   "source": [
    "answers_df"
   ],
   "metadata": {
    "collapsed": false
   },
   "id": "c783ddd59acb2d04",
   "execution_count": 7
  },
  {
   "cell_type": "code",
   "outputs": [],
   "source": [
    "# remove the from the test dialogues\n",
    "test_dialogues = test_dialogues.str.replace('\"', '')"
   ],
   "metadata": {
    "collapsed": false,
    "ExecuteTime": {
     "end_time": "2024-06-13T03:53:34.308529300Z",
     "start_time": "2024-06-13T03:53:34.282088300Z"
    }
   },
   "id": "8e5b71cc4380e9ea",
   "execution_count": 18
  },
  {
   "cell_type": "code",
   "outputs": [
    {
     "data": {
      "text/plain": "0                         It's so good to see you again.\n1                                        Need something?\n2      Divines bless you. May the ground you walk qua...\n3         May your next fight bring you victory, friend.\n4                                      What do you need?\n                             ...                        \n176    There's a small skeever den just east of the c...\n177    If you're heading east, stay clear of Hillgrun...\n178    Beware of Frostmere Crypt, friend. Heard some ...\n179    Thinking of settling in? There's a home for sa...\n180    Ah, Vlindrel Hall's a fine home, if you can af...\nName: Dialogue, Length: 181, dtype: object"
     },
     "execution_count": 19,
     "metadata": {},
     "output_type": "execute_result"
    }
   ],
   "source": [
    "test_dialogues"
   ],
   "metadata": {
    "collapsed": false,
    "ExecuteTime": {
     "end_time": "2024-06-13T03:53:35.188145900Z",
     "start_time": "2024-06-13T03:53:35.163278200Z"
    }
   },
   "id": "8002a7787c8f2442",
   "execution_count": 19
  },
  {
   "cell_type": "markdown",
   "id": "bef0d5c5cee19e4f",
   "metadata": {
    "collapsed": false
   },
   "source": [
    "# BERT Score"
   ]
  },
  {
   "cell_type": "code",
   "outputs": [
    {
     "name": "stderr",
     "output_type": "stream",
     "text": [
      "Some weights of RobertaModel were not initialized from the model checkpoint at roberta-large and are newly initialized: ['roberta.pooler.dense.bias', 'roberta.pooler.dense.weight']\n",
      "You should probably TRAIN this model on a down-stream task to be able to use it for predictions and inference.\n",
      "Some weights of RobertaModel were not initialized from the model checkpoint at roberta-large and are newly initialized: ['roberta.pooler.dense.bias', 'roberta.pooler.dense.weight']\n",
      "You should probably TRAIN this model on a down-stream task to be able to use it for predictions and inference.\n",
      "Some weights of RobertaModel were not initialized from the model checkpoint at roberta-large and are newly initialized: ['roberta.pooler.dense.bias', 'roberta.pooler.dense.weight']\n",
      "You should probably TRAIN this model on a down-stream task to be able to use it for predictions and inference.\n",
      "Some weights of RobertaModel were not initialized from the model checkpoint at roberta-large and are newly initialized: ['roberta.pooler.dense.bias', 'roberta.pooler.dense.weight']\n",
      "You should probably TRAIN this model on a down-stream task to be able to use it for predictions and inference.\n",
      "Some weights of RobertaModel were not initialized from the model checkpoint at roberta-large and are newly initialized: ['roberta.pooler.dense.bias', 'roberta.pooler.dense.weight']\n",
      "You should probably TRAIN this model on a down-stream task to be able to use it for predictions and inference.\n",
      "Some weights of RobertaModel were not initialized from the model checkpoint at roberta-large and are newly initialized: ['roberta.pooler.dense.bias', 'roberta.pooler.dense.weight']\n",
      "You should probably TRAIN this model on a down-stream task to be able to use it for predictions and inference.\n",
      "Some weights of RobertaModel were not initialized from the model checkpoint at roberta-large and are newly initialized: ['roberta.pooler.dense.bias', 'roberta.pooler.dense.weight']\n",
      "You should probably TRAIN this model on a down-stream task to be able to use it for predictions and inference.\n",
      "Some weights of RobertaModel were not initialized from the model checkpoint at roberta-large and are newly initialized: ['roberta.pooler.dense.bias', 'roberta.pooler.dense.weight']\n",
      "You should probably TRAIN this model on a down-stream task to be able to use it for predictions and inference.\n",
      "Some weights of RobertaModel were not initialized from the model checkpoint at roberta-large and are newly initialized: ['roberta.pooler.dense.bias', 'roberta.pooler.dense.weight']\n",
      "You should probably TRAIN this model on a down-stream task to be able to use it for predictions and inference.\n",
      "Some weights of RobertaModel were not initialized from the model checkpoint at roberta-large and are newly initialized: ['roberta.pooler.dense.bias', 'roberta.pooler.dense.weight']\n",
      "You should probably TRAIN this model on a down-stream task to be able to use it for predictions and inference.\n",
      "Some weights of RobertaModel were not initialized from the model checkpoint at roberta-large and are newly initialized: ['roberta.pooler.dense.bias', 'roberta.pooler.dense.weight']\n",
      "You should probably TRAIN this model on a down-stream task to be able to use it for predictions and inference.\n",
      "Some weights of RobertaModel were not initialized from the model checkpoint at roberta-large and are newly initialized: ['roberta.pooler.dense.bias', 'roberta.pooler.dense.weight']\n",
      "You should probably TRAIN this model on a down-stream task to be able to use it for predictions and inference.\n",
      "Some weights of RobertaModel were not initialized from the model checkpoint at roberta-large and are newly initialized: ['roberta.pooler.dense.bias', 'roberta.pooler.dense.weight']\n",
      "You should probably TRAIN this model on a down-stream task to be able to use it for predictions and inference.\n",
      "Some weights of RobertaModel were not initialized from the model checkpoint at roberta-large and are newly initialized: ['roberta.pooler.dense.bias', 'roberta.pooler.dense.weight']\n",
      "You should probably TRAIN this model on a down-stream task to be able to use it for predictions and inference.\n",
      "Some weights of RobertaModel were not initialized from the model checkpoint at roberta-large and are newly initialized: ['roberta.pooler.dense.bias', 'roberta.pooler.dense.weight']\n",
      "You should probably TRAIN this model on a down-stream task to be able to use it for predictions and inference.\n",
      "Some weights of RobertaModel were not initialized from the model checkpoint at roberta-large and are newly initialized: ['roberta.pooler.dense.bias', 'roberta.pooler.dense.weight']\n",
      "You should probably TRAIN this model on a down-stream task to be able to use it for predictions and inference.\n",
      "Some weights of RobertaModel were not initialized from the model checkpoint at roberta-large and are newly initialized: ['roberta.pooler.dense.bias', 'roberta.pooler.dense.weight']\n",
      "You should probably TRAIN this model on a down-stream task to be able to use it for predictions and inference.\n",
      "Some weights of RobertaModel were not initialized from the model checkpoint at roberta-large and are newly initialized: ['roberta.pooler.dense.bias', 'roberta.pooler.dense.weight']\n",
      "You should probably TRAIN this model on a down-stream task to be able to use it for predictions and inference.\n",
      "Some weights of RobertaModel were not initialized from the model checkpoint at roberta-large and are newly initialized: ['roberta.pooler.dense.bias', 'roberta.pooler.dense.weight']\n",
      "You should probably TRAIN this model on a down-stream task to be able to use it for predictions and inference.\n",
      "Some weights of RobertaModel were not initialized from the model checkpoint at roberta-large and are newly initialized: ['roberta.pooler.dense.bias', 'roberta.pooler.dense.weight']\n",
      "You should probably TRAIN this model on a down-stream task to be able to use it for predictions and inference.\n",
      "Some weights of RobertaModel were not initialized from the model checkpoint at roberta-large and are newly initialized: ['roberta.pooler.dense.bias', 'roberta.pooler.dense.weight']\n",
      "You should probably TRAIN this model on a down-stream task to be able to use it for predictions and inference.\n",
      "Some weights of RobertaModel were not initialized from the model checkpoint at roberta-large and are newly initialized: ['roberta.pooler.dense.bias', 'roberta.pooler.dense.weight']\n",
      "You should probably TRAIN this model on a down-stream task to be able to use it for predictions and inference.\n",
      "Some weights of RobertaModel were not initialized from the model checkpoint at roberta-large and are newly initialized: ['roberta.pooler.dense.bias', 'roberta.pooler.dense.weight']\n",
      "You should probably TRAIN this model on a down-stream task to be able to use it for predictions and inference.\n",
      "Some weights of RobertaModel were not initialized from the model checkpoint at roberta-large and are newly initialized: ['roberta.pooler.dense.bias', 'roberta.pooler.dense.weight']\n",
      "You should probably TRAIN this model on a down-stream task to be able to use it for predictions and inference.\n",
      "Some weights of RobertaModel were not initialized from the model checkpoint at roberta-large and are newly initialized: ['roberta.pooler.dense.bias', 'roberta.pooler.dense.weight']\n",
      "You should probably TRAIN this model on a down-stream task to be able to use it for predictions and inference.\n",
      "Some weights of RobertaModel were not initialized from the model checkpoint at roberta-large and are newly initialized: ['roberta.pooler.dense.bias', 'roberta.pooler.dense.weight']\n",
      "You should probably TRAIN this model on a down-stream task to be able to use it for predictions and inference.\n",
      "Some weights of RobertaModel were not initialized from the model checkpoint at roberta-large and are newly initialized: ['roberta.pooler.dense.bias', 'roberta.pooler.dense.weight']\n",
      "You should probably TRAIN this model on a down-stream task to be able to use it for predictions and inference.\n",
      "Some weights of RobertaModel were not initialized from the model checkpoint at roberta-large and are newly initialized: ['roberta.pooler.dense.bias', 'roberta.pooler.dense.weight']\n",
      "You should probably TRAIN this model on a down-stream task to be able to use it for predictions and inference.\n",
      "Some weights of RobertaModel were not initialized from the model checkpoint at roberta-large and are newly initialized: ['roberta.pooler.dense.bias', 'roberta.pooler.dense.weight']\n",
      "You should probably TRAIN this model on a down-stream task to be able to use it for predictions and inference.\n",
      "Some weights of RobertaModel were not initialized from the model checkpoint at roberta-large and are newly initialized: ['roberta.pooler.dense.bias', 'roberta.pooler.dense.weight']\n",
      "You should probably TRAIN this model on a down-stream task to be able to use it for predictions and inference.\n",
      "Some weights of RobertaModel were not initialized from the model checkpoint at roberta-large and are newly initialized: ['roberta.pooler.dense.bias', 'roberta.pooler.dense.weight']\n",
      "You should probably TRAIN this model on a down-stream task to be able to use it for predictions and inference.\n",
      "Some weights of RobertaModel were not initialized from the model checkpoint at roberta-large and are newly initialized: ['roberta.pooler.dense.bias', 'roberta.pooler.dense.weight']\n",
      "You should probably TRAIN this model on a down-stream task to be able to use it for predictions and inference.\n",
      "Some weights of RobertaModel were not initialized from the model checkpoint at roberta-large and are newly initialized: ['roberta.pooler.dense.bias', 'roberta.pooler.dense.weight']\n",
      "You should probably TRAIN this model on a down-stream task to be able to use it for predictions and inference.\n",
      "Some weights of RobertaModel were not initialized from the model checkpoint at roberta-large and are newly initialized: ['roberta.pooler.dense.bias', 'roberta.pooler.dense.weight']\n",
      "You should probably TRAIN this model on a down-stream task to be able to use it for predictions and inference.\n",
      "Some weights of RobertaModel were not initialized from the model checkpoint at roberta-large and are newly initialized: ['roberta.pooler.dense.bias', 'roberta.pooler.dense.weight']\n",
      "You should probably TRAIN this model on a down-stream task to be able to use it for predictions and inference.\n",
      "Some weights of RobertaModel were not initialized from the model checkpoint at roberta-large and are newly initialized: ['roberta.pooler.dense.bias', 'roberta.pooler.dense.weight']\n",
      "You should probably TRAIN this model on a down-stream task to be able to use it for predictions and inference.\n",
      "Some weights of RobertaModel were not initialized from the model checkpoint at roberta-large and are newly initialized: ['roberta.pooler.dense.bias', 'roberta.pooler.dense.weight']\n",
      "You should probably TRAIN this model on a down-stream task to be able to use it for predictions and inference.\n",
      "Some weights of RobertaModel were not initialized from the model checkpoint at roberta-large and are newly initialized: ['roberta.pooler.dense.bias', 'roberta.pooler.dense.weight']\n",
      "You should probably TRAIN this model on a down-stream task to be able to use it for predictions and inference.\n",
      "Some weights of RobertaModel were not initialized from the model checkpoint at roberta-large and are newly initialized: ['roberta.pooler.dense.bias', 'roberta.pooler.dense.weight']\n",
      "You should probably TRAIN this model on a down-stream task to be able to use it for predictions and inference.\n",
      "Some weights of RobertaModel were not initialized from the model checkpoint at roberta-large and are newly initialized: ['roberta.pooler.dense.bias', 'roberta.pooler.dense.weight']\n",
      "You should probably TRAIN this model on a down-stream task to be able to use it for predictions and inference.\n",
      "Some weights of RobertaModel were not initialized from the model checkpoint at roberta-large and are newly initialized: ['roberta.pooler.dense.bias', 'roberta.pooler.dense.weight']\n",
      "You should probably TRAIN this model on a down-stream task to be able to use it for predictions and inference.\n",
      "Some weights of RobertaModel were not initialized from the model checkpoint at roberta-large and are newly initialized: ['roberta.pooler.dense.bias', 'roberta.pooler.dense.weight']\n",
      "You should probably TRAIN this model on a down-stream task to be able to use it for predictions and inference.\n",
      "Some weights of RobertaModel were not initialized from the model checkpoint at roberta-large and are newly initialized: ['roberta.pooler.dense.bias', 'roberta.pooler.dense.weight']\n",
      "You should probably TRAIN this model on a down-stream task to be able to use it for predictions and inference.\n",
      "Some weights of RobertaModel were not initialized from the model checkpoint at roberta-large and are newly initialized: ['roberta.pooler.dense.bias', 'roberta.pooler.dense.weight']\n",
      "You should probably TRAIN this model on a down-stream task to be able to use it for predictions and inference.\n",
      "Some weights of RobertaModel were not initialized from the model checkpoint at roberta-large and are newly initialized: ['roberta.pooler.dense.bias', 'roberta.pooler.dense.weight']\n",
      "You should probably TRAIN this model on a down-stream task to be able to use it for predictions and inference.\n",
      "Some weights of RobertaModel were not initialized from the model checkpoint at roberta-large and are newly initialized: ['roberta.pooler.dense.bias', 'roberta.pooler.dense.weight']\n",
      "You should probably TRAIN this model on a down-stream task to be able to use it for predictions and inference.\n",
      "Some weights of RobertaModel were not initialized from the model checkpoint at roberta-large and are newly initialized: ['roberta.pooler.dense.bias', 'roberta.pooler.dense.weight']\n",
      "You should probably TRAIN this model on a down-stream task to be able to use it for predictions and inference.\n",
      "Some weights of RobertaModel were not initialized from the model checkpoint at roberta-large and are newly initialized: ['roberta.pooler.dense.bias', 'roberta.pooler.dense.weight']\n",
      "You should probably TRAIN this model on a down-stream task to be able to use it for predictions and inference.\n",
      "Some weights of RobertaModel were not initialized from the model checkpoint at roberta-large and are newly initialized: ['roberta.pooler.dense.bias', 'roberta.pooler.dense.weight']\n",
      "You should probably TRAIN this model on a down-stream task to be able to use it for predictions and inference.\n",
      "Some weights of RobertaModel were not initialized from the model checkpoint at roberta-large and are newly initialized: ['roberta.pooler.dense.bias', 'roberta.pooler.dense.weight']\n",
      "You should probably TRAIN this model on a down-stream task to be able to use it for predictions and inference.\n",
      "Some weights of RobertaModel were not initialized from the model checkpoint at roberta-large and are newly initialized: ['roberta.pooler.dense.bias', 'roberta.pooler.dense.weight']\n",
      "You should probably TRAIN this model on a down-stream task to be able to use it for predictions and inference.\n",
      "Some weights of RobertaModel were not initialized from the model checkpoint at roberta-large and are newly initialized: ['roberta.pooler.dense.bias', 'roberta.pooler.dense.weight']\n",
      "You should probably TRAIN this model on a down-stream task to be able to use it for predictions and inference.\n",
      "Some weights of RobertaModel were not initialized from the model checkpoint at roberta-large and are newly initialized: ['roberta.pooler.dense.bias', 'roberta.pooler.dense.weight']\n",
      "You should probably TRAIN this model on a down-stream task to be able to use it for predictions and inference.\n",
      "Some weights of RobertaModel were not initialized from the model checkpoint at roberta-large and are newly initialized: ['roberta.pooler.dense.bias', 'roberta.pooler.dense.weight']\n",
      "You should probably TRAIN this model on a down-stream task to be able to use it for predictions and inference.\n",
      "Some weights of RobertaModel were not initialized from the model checkpoint at roberta-large and are newly initialized: ['roberta.pooler.dense.bias', 'roberta.pooler.dense.weight']\n",
      "You should probably TRAIN this model on a down-stream task to be able to use it for predictions and inference.\n",
      "Some weights of RobertaModel were not initialized from the model checkpoint at roberta-large and are newly initialized: ['roberta.pooler.dense.bias', 'roberta.pooler.dense.weight']\n",
      "You should probably TRAIN this model on a down-stream task to be able to use it for predictions and inference.\n",
      "Some weights of RobertaModel were not initialized from the model checkpoint at roberta-large and are newly initialized: ['roberta.pooler.dense.bias', 'roberta.pooler.dense.weight']\n",
      "You should probably TRAIN this model on a down-stream task to be able to use it for predictions and inference.\n",
      "Some weights of RobertaModel were not initialized from the model checkpoint at roberta-large and are newly initialized: ['roberta.pooler.dense.bias', 'roberta.pooler.dense.weight']\n",
      "You should probably TRAIN this model on a down-stream task to be able to use it for predictions and inference.\n",
      "Some weights of RobertaModel were not initialized from the model checkpoint at roberta-large and are newly initialized: ['roberta.pooler.dense.bias', 'roberta.pooler.dense.weight']\n",
      "You should probably TRAIN this model on a down-stream task to be able to use it for predictions and inference.\n",
      "Some weights of RobertaModel were not initialized from the model checkpoint at roberta-large and are newly initialized: ['roberta.pooler.dense.bias', 'roberta.pooler.dense.weight']\n",
      "You should probably TRAIN this model on a down-stream task to be able to use it for predictions and inference.\n",
      "Some weights of RobertaModel were not initialized from the model checkpoint at roberta-large and are newly initialized: ['roberta.pooler.dense.bias', 'roberta.pooler.dense.weight']\n",
      "You should probably TRAIN this model on a down-stream task to be able to use it for predictions and inference.\n",
      "Some weights of RobertaModel were not initialized from the model checkpoint at roberta-large and are newly initialized: ['roberta.pooler.dense.bias', 'roberta.pooler.dense.weight']\n",
      "You should probably TRAIN this model on a down-stream task to be able to use it for predictions and inference.\n",
      "Some weights of RobertaModel were not initialized from the model checkpoint at roberta-large and are newly initialized: ['roberta.pooler.dense.bias', 'roberta.pooler.dense.weight']\n",
      "You should probably TRAIN this model on a down-stream task to be able to use it for predictions and inference.\n",
      "Some weights of RobertaModel were not initialized from the model checkpoint at roberta-large and are newly initialized: ['roberta.pooler.dense.bias', 'roberta.pooler.dense.weight']\n",
      "You should probably TRAIN this model on a down-stream task to be able to use it for predictions and inference.\n",
      "Some weights of RobertaModel were not initialized from the model checkpoint at roberta-large and are newly initialized: ['roberta.pooler.dense.bias', 'roberta.pooler.dense.weight']\n",
      "You should probably TRAIN this model on a down-stream task to be able to use it for predictions and inference.\n",
      "Some weights of RobertaModel were not initialized from the model checkpoint at roberta-large and are newly initialized: ['roberta.pooler.dense.bias', 'roberta.pooler.dense.weight']\n",
      "You should probably TRAIN this model on a down-stream task to be able to use it for predictions and inference.\n",
      "Some weights of RobertaModel were not initialized from the model checkpoint at roberta-large and are newly initialized: ['roberta.pooler.dense.bias', 'roberta.pooler.dense.weight']\n",
      "You should probably TRAIN this model on a down-stream task to be able to use it for predictions and inference.\n",
      "Some weights of RobertaModel were not initialized from the model checkpoint at roberta-large and are newly initialized: ['roberta.pooler.dense.bias', 'roberta.pooler.dense.weight']\n",
      "You should probably TRAIN this model on a down-stream task to be able to use it for predictions and inference.\n",
      "Some weights of RobertaModel were not initialized from the model checkpoint at roberta-large and are newly initialized: ['roberta.pooler.dense.bias', 'roberta.pooler.dense.weight']\n",
      "You should probably TRAIN this model on a down-stream task to be able to use it for predictions and inference.\n",
      "Some weights of RobertaModel were not initialized from the model checkpoint at roberta-large and are newly initialized: ['roberta.pooler.dense.bias', 'roberta.pooler.dense.weight']\n",
      "You should probably TRAIN this model on a down-stream task to be able to use it for predictions and inference.\n",
      "Some weights of RobertaModel were not initialized from the model checkpoint at roberta-large and are newly initialized: ['roberta.pooler.dense.bias', 'roberta.pooler.dense.weight']\n",
      "You should probably TRAIN this model on a down-stream task to be able to use it for predictions and inference.\n",
      "Some weights of RobertaModel were not initialized from the model checkpoint at roberta-large and are newly initialized: ['roberta.pooler.dense.bias', 'roberta.pooler.dense.weight']\n",
      "You should probably TRAIN this model on a down-stream task to be able to use it for predictions and inference.\n",
      "Some weights of RobertaModel were not initialized from the model checkpoint at roberta-large and are newly initialized: ['roberta.pooler.dense.bias', 'roberta.pooler.dense.weight']\n",
      "You should probably TRAIN this model on a down-stream task to be able to use it for predictions and inference.\n",
      "Some weights of RobertaModel were not initialized from the model checkpoint at roberta-large and are newly initialized: ['roberta.pooler.dense.bias', 'roberta.pooler.dense.weight']\n",
      "You should probably TRAIN this model on a down-stream task to be able to use it for predictions and inference.\n",
      "Some weights of RobertaModel were not initialized from the model checkpoint at roberta-large and are newly initialized: ['roberta.pooler.dense.bias', 'roberta.pooler.dense.weight']\n",
      "You should probably TRAIN this model on a down-stream task to be able to use it for predictions and inference.\n",
      "Some weights of RobertaModel were not initialized from the model checkpoint at roberta-large and are newly initialized: ['roberta.pooler.dense.bias', 'roberta.pooler.dense.weight']\n",
      "You should probably TRAIN this model on a down-stream task to be able to use it for predictions and inference.\n",
      "Some weights of RobertaModel were not initialized from the model checkpoint at roberta-large and are newly initialized: ['roberta.pooler.dense.bias', 'roberta.pooler.dense.weight']\n",
      "You should probably TRAIN this model on a down-stream task to be able to use it for predictions and inference.\n",
      "Some weights of RobertaModel were not initialized from the model checkpoint at roberta-large and are newly initialized: ['roberta.pooler.dense.bias', 'roberta.pooler.dense.weight']\n",
      "You should probably TRAIN this model on a down-stream task to be able to use it for predictions and inference.\n",
      "Some weights of RobertaModel were not initialized from the model checkpoint at roberta-large and are newly initialized: ['roberta.pooler.dense.bias', 'roberta.pooler.dense.weight']\n",
      "You should probably TRAIN this model on a down-stream task to be able to use it for predictions and inference.\n",
      "Some weights of RobertaModel were not initialized from the model checkpoint at roberta-large and are newly initialized: ['roberta.pooler.dense.bias', 'roberta.pooler.dense.weight']\n",
      "You should probably TRAIN this model on a down-stream task to be able to use it for predictions and inference.\n",
      "Some weights of RobertaModel were not initialized from the model checkpoint at roberta-large and are newly initialized: ['roberta.pooler.dense.bias', 'roberta.pooler.dense.weight']\n",
      "You should probably TRAIN this model on a down-stream task to be able to use it for predictions and inference.\n",
      "Some weights of RobertaModel were not initialized from the model checkpoint at roberta-large and are newly initialized: ['roberta.pooler.dense.bias', 'roberta.pooler.dense.weight']\n",
      "You should probably TRAIN this model on a down-stream task to be able to use it for predictions and inference.\n",
      "Some weights of RobertaModel were not initialized from the model checkpoint at roberta-large and are newly initialized: ['roberta.pooler.dense.bias', 'roberta.pooler.dense.weight']\n",
      "You should probably TRAIN this model on a down-stream task to be able to use it for predictions and inference.\n",
      "Some weights of RobertaModel were not initialized from the model checkpoint at roberta-large and are newly initialized: ['roberta.pooler.dense.bias', 'roberta.pooler.dense.weight']\n",
      "You should probably TRAIN this model on a down-stream task to be able to use it for predictions and inference.\n",
      "Some weights of RobertaModel were not initialized from the model checkpoint at roberta-large and are newly initialized: ['roberta.pooler.dense.bias', 'roberta.pooler.dense.weight']\n",
      "You should probably TRAIN this model on a down-stream task to be able to use it for predictions and inference.\n",
      "Some weights of RobertaModel were not initialized from the model checkpoint at roberta-large and are newly initialized: ['roberta.pooler.dense.bias', 'roberta.pooler.dense.weight']\n",
      "You should probably TRAIN this model on a down-stream task to be able to use it for predictions and inference.\n",
      "Some weights of RobertaModel were not initialized from the model checkpoint at roberta-large and are newly initialized: ['roberta.pooler.dense.bias', 'roberta.pooler.dense.weight']\n",
      "You should probably TRAIN this model on a down-stream task to be able to use it for predictions and inference.\n",
      "Some weights of RobertaModel were not initialized from the model checkpoint at roberta-large and are newly initialized: ['roberta.pooler.dense.bias', 'roberta.pooler.dense.weight']\n",
      "You should probably TRAIN this model on a down-stream task to be able to use it for predictions and inference.\n",
      "Some weights of RobertaModel were not initialized from the model checkpoint at roberta-large and are newly initialized: ['roberta.pooler.dense.bias', 'roberta.pooler.dense.weight']\n",
      "You should probably TRAIN this model on a down-stream task to be able to use it for predictions and inference.\n",
      "Some weights of RobertaModel were not initialized from the model checkpoint at roberta-large and are newly initialized: ['roberta.pooler.dense.bias', 'roberta.pooler.dense.weight']\n",
      "You should probably TRAIN this model on a down-stream task to be able to use it for predictions and inference.\n",
      "Some weights of RobertaModel were not initialized from the model checkpoint at roberta-large and are newly initialized: ['roberta.pooler.dense.bias', 'roberta.pooler.dense.weight']\n",
      "You should probably TRAIN this model on a down-stream task to be able to use it for predictions and inference.\n",
      "Some weights of RobertaModel were not initialized from the model checkpoint at roberta-large and are newly initialized: ['roberta.pooler.dense.bias', 'roberta.pooler.dense.weight']\n",
      "You should probably TRAIN this model on a down-stream task to be able to use it for predictions and inference.\n",
      "Some weights of RobertaModel were not initialized from the model checkpoint at roberta-large and are newly initialized: ['roberta.pooler.dense.bias', 'roberta.pooler.dense.weight']\n",
      "You should probably TRAIN this model on a down-stream task to be able to use it for predictions and inference.\n",
      "Some weights of RobertaModel were not initialized from the model checkpoint at roberta-large and are newly initialized: ['roberta.pooler.dense.bias', 'roberta.pooler.dense.weight']\n",
      "You should probably TRAIN this model on a down-stream task to be able to use it for predictions and inference.\n",
      "Some weights of RobertaModel were not initialized from the model checkpoint at roberta-large and are newly initialized: ['roberta.pooler.dense.bias', 'roberta.pooler.dense.weight']\n",
      "You should probably TRAIN this model on a down-stream task to be able to use it for predictions and inference.\n",
      "Some weights of RobertaModel were not initialized from the model checkpoint at roberta-large and are newly initialized: ['roberta.pooler.dense.bias', 'roberta.pooler.dense.weight']\n",
      "You should probably TRAIN this model on a down-stream task to be able to use it for predictions and inference.\n",
      "Some weights of RobertaModel were not initialized from the model checkpoint at roberta-large and are newly initialized: ['roberta.pooler.dense.bias', 'roberta.pooler.dense.weight']\n",
      "You should probably TRAIN this model on a down-stream task to be able to use it for predictions and inference.\n",
      "Some weights of RobertaModel were not initialized from the model checkpoint at roberta-large and are newly initialized: ['roberta.pooler.dense.bias', 'roberta.pooler.dense.weight']\n",
      "You should probably TRAIN this model on a down-stream task to be able to use it for predictions and inference.\n",
      "Some weights of RobertaModel were not initialized from the model checkpoint at roberta-large and are newly initialized: ['roberta.pooler.dense.bias', 'roberta.pooler.dense.weight']\n",
      "You should probably TRAIN this model on a down-stream task to be able to use it for predictions and inference.\n",
      "Some weights of RobertaModel were not initialized from the model checkpoint at roberta-large and are newly initialized: ['roberta.pooler.dense.bias', 'roberta.pooler.dense.weight']\n",
      "You should probably TRAIN this model on a down-stream task to be able to use it for predictions and inference.\n",
      "Some weights of RobertaModel were not initialized from the model checkpoint at roberta-large and are newly initialized: ['roberta.pooler.dense.bias', 'roberta.pooler.dense.weight']\n",
      "You should probably TRAIN this model on a down-stream task to be able to use it for predictions and inference.\n",
      "Some weights of RobertaModel were not initialized from the model checkpoint at roberta-large and are newly initialized: ['roberta.pooler.dense.bias', 'roberta.pooler.dense.weight']\n",
      "You should probably TRAIN this model on a down-stream task to be able to use it for predictions and inference.\n",
      "Some weights of RobertaModel were not initialized from the model checkpoint at roberta-large and are newly initialized: ['roberta.pooler.dense.bias', 'roberta.pooler.dense.weight']\n",
      "You should probably TRAIN this model on a down-stream task to be able to use it for predictions and inference.\n",
      "Some weights of RobertaModel were not initialized from the model checkpoint at roberta-large and are newly initialized: ['roberta.pooler.dense.bias', 'roberta.pooler.dense.weight']\n",
      "You should probably TRAIN this model on a down-stream task to be able to use it for predictions and inference.\n",
      "Some weights of RobertaModel were not initialized from the model checkpoint at roberta-large and are newly initialized: ['roberta.pooler.dense.bias', 'roberta.pooler.dense.weight']\n",
      "You should probably TRAIN this model on a down-stream task to be able to use it for predictions and inference.\n",
      "Some weights of RobertaModel were not initialized from the model checkpoint at roberta-large and are newly initialized: ['roberta.pooler.dense.bias', 'roberta.pooler.dense.weight']\n",
      "You should probably TRAIN this model on a down-stream task to be able to use it for predictions and inference.\n",
      "Some weights of RobertaModel were not initialized from the model checkpoint at roberta-large and are newly initialized: ['roberta.pooler.dense.bias', 'roberta.pooler.dense.weight']\n",
      "You should probably TRAIN this model on a down-stream task to be able to use it for predictions and inference.\n",
      "Some weights of RobertaModel were not initialized from the model checkpoint at roberta-large and are newly initialized: ['roberta.pooler.dense.bias', 'roberta.pooler.dense.weight']\n",
      "You should probably TRAIN this model on a down-stream task to be able to use it for predictions and inference.\n",
      "Some weights of RobertaModel were not initialized from the model checkpoint at roberta-large and are newly initialized: ['roberta.pooler.dense.bias', 'roberta.pooler.dense.weight']\n",
      "You should probably TRAIN this model on a down-stream task to be able to use it for predictions and inference.\n",
      "Some weights of RobertaModel were not initialized from the model checkpoint at roberta-large and are newly initialized: ['roberta.pooler.dense.bias', 'roberta.pooler.dense.weight']\n",
      "You should probably TRAIN this model on a down-stream task to be able to use it for predictions and inference.\n",
      "Some weights of RobertaModel were not initialized from the model checkpoint at roberta-large and are newly initialized: ['roberta.pooler.dense.bias', 'roberta.pooler.dense.weight']\n",
      "You should probably TRAIN this model on a down-stream task to be able to use it for predictions and inference.\n",
      "Some weights of RobertaModel were not initialized from the model checkpoint at roberta-large and are newly initialized: ['roberta.pooler.dense.bias', 'roberta.pooler.dense.weight']\n",
      "You should probably TRAIN this model on a down-stream task to be able to use it for predictions and inference.\n",
      "Some weights of RobertaModel were not initialized from the model checkpoint at roberta-large and are newly initialized: ['roberta.pooler.dense.bias', 'roberta.pooler.dense.weight']\n",
      "You should probably TRAIN this model on a down-stream task to be able to use it for predictions and inference.\n",
      "Some weights of RobertaModel were not initialized from the model checkpoint at roberta-large and are newly initialized: ['roberta.pooler.dense.bias', 'roberta.pooler.dense.weight']\n",
      "You should probably TRAIN this model on a down-stream task to be able to use it for predictions and inference.\n",
      "Some weights of RobertaModel were not initialized from the model checkpoint at roberta-large and are newly initialized: ['roberta.pooler.dense.bias', 'roberta.pooler.dense.weight']\n",
      "You should probably TRAIN this model on a down-stream task to be able to use it for predictions and inference.\n",
      "Some weights of RobertaModel were not initialized from the model checkpoint at roberta-large and are newly initialized: ['roberta.pooler.dense.bias', 'roberta.pooler.dense.weight']\n",
      "You should probably TRAIN this model on a down-stream task to be able to use it for predictions and inference.\n",
      "Some weights of RobertaModel were not initialized from the model checkpoint at roberta-large and are newly initialized: ['roberta.pooler.dense.bias', 'roberta.pooler.dense.weight']\n",
      "You should probably TRAIN this model on a down-stream task to be able to use it for predictions and inference.\n",
      "Some weights of RobertaModel were not initialized from the model checkpoint at roberta-large and are newly initialized: ['roberta.pooler.dense.bias', 'roberta.pooler.dense.weight']\n",
      "You should probably TRAIN this model on a down-stream task to be able to use it for predictions and inference.\n",
      "Some weights of RobertaModel were not initialized from the model checkpoint at roberta-large and are newly initialized: ['roberta.pooler.dense.bias', 'roberta.pooler.dense.weight']\n",
      "You should probably TRAIN this model on a down-stream task to be able to use it for predictions and inference.\n",
      "Some weights of RobertaModel were not initialized from the model checkpoint at roberta-large and are newly initialized: ['roberta.pooler.dense.bias', 'roberta.pooler.dense.weight']\n",
      "You should probably TRAIN this model on a down-stream task to be able to use it for predictions and inference.\n",
      "Some weights of RobertaModel were not initialized from the model checkpoint at roberta-large and are newly initialized: ['roberta.pooler.dense.bias', 'roberta.pooler.dense.weight']\n",
      "You should probably TRAIN this model on a down-stream task to be able to use it for predictions and inference.\n",
      "Some weights of RobertaModel were not initialized from the model checkpoint at roberta-large and are newly initialized: ['roberta.pooler.dense.bias', 'roberta.pooler.dense.weight']\n",
      "You should probably TRAIN this model on a down-stream task to be able to use it for predictions and inference.\n",
      "Some weights of RobertaModel were not initialized from the model checkpoint at roberta-large and are newly initialized: ['roberta.pooler.dense.bias', 'roberta.pooler.dense.weight']\n",
      "You should probably TRAIN this model on a down-stream task to be able to use it for predictions and inference.\n",
      "Some weights of RobertaModel were not initialized from the model checkpoint at roberta-large and are newly initialized: ['roberta.pooler.dense.bias', 'roberta.pooler.dense.weight']\n",
      "You should probably TRAIN this model on a down-stream task to be able to use it for predictions and inference.\n",
      "Some weights of RobertaModel were not initialized from the model checkpoint at roberta-large and are newly initialized: ['roberta.pooler.dense.bias', 'roberta.pooler.dense.weight']\n",
      "You should probably TRAIN this model on a down-stream task to be able to use it for predictions and inference.\n",
      "Some weights of RobertaModel were not initialized from the model checkpoint at roberta-large and are newly initialized: ['roberta.pooler.dense.bias', 'roberta.pooler.dense.weight']\n",
      "You should probably TRAIN this model on a down-stream task to be able to use it for predictions and inference.\n",
      "Some weights of RobertaModel were not initialized from the model checkpoint at roberta-large and are newly initialized: ['roberta.pooler.dense.bias', 'roberta.pooler.dense.weight']\n",
      "You should probably TRAIN this model on a down-stream task to be able to use it for predictions and inference.\n",
      "Some weights of RobertaModel were not initialized from the model checkpoint at roberta-large and are newly initialized: ['roberta.pooler.dense.bias', 'roberta.pooler.dense.weight']\n",
      "You should probably TRAIN this model on a down-stream task to be able to use it for predictions and inference.\n",
      "Some weights of RobertaModel were not initialized from the model checkpoint at roberta-large and are newly initialized: ['roberta.pooler.dense.bias', 'roberta.pooler.dense.weight']\n",
      "You should probably TRAIN this model on a down-stream task to be able to use it for predictions and inference.\n",
      "Some weights of RobertaModel were not initialized from the model checkpoint at roberta-large and are newly initialized: ['roberta.pooler.dense.bias', 'roberta.pooler.dense.weight']\n",
      "You should probably TRAIN this model on a down-stream task to be able to use it for predictions and inference.\n",
      "Some weights of RobertaModel were not initialized from the model checkpoint at roberta-large and are newly initialized: ['roberta.pooler.dense.bias', 'roberta.pooler.dense.weight']\n",
      "You should probably TRAIN this model on a down-stream task to be able to use it for predictions and inference.\n",
      "Some weights of RobertaModel were not initialized from the model checkpoint at roberta-large and are newly initialized: ['roberta.pooler.dense.bias', 'roberta.pooler.dense.weight']\n",
      "You should probably TRAIN this model on a down-stream task to be able to use it for predictions and inference.\n",
      "Some weights of RobertaModel were not initialized from the model checkpoint at roberta-large and are newly initialized: ['roberta.pooler.dense.bias', 'roberta.pooler.dense.weight']\n",
      "You should probably TRAIN this model on a down-stream task to be able to use it for predictions and inference.\n",
      "Some weights of RobertaModel were not initialized from the model checkpoint at roberta-large and are newly initialized: ['roberta.pooler.dense.bias', 'roberta.pooler.dense.weight']\n",
      "You should probably TRAIN this model on a down-stream task to be able to use it for predictions and inference.\n",
      "Some weights of RobertaModel were not initialized from the model checkpoint at roberta-large and are newly initialized: ['roberta.pooler.dense.bias', 'roberta.pooler.dense.weight']\n",
      "You should probably TRAIN this model on a down-stream task to be able to use it for predictions and inference.\n",
      "Some weights of RobertaModel were not initialized from the model checkpoint at roberta-large and are newly initialized: ['roberta.pooler.dense.bias', 'roberta.pooler.dense.weight']\n",
      "You should probably TRAIN this model on a down-stream task to be able to use it for predictions and inference.\n",
      "Some weights of RobertaModel were not initialized from the model checkpoint at roberta-large and are newly initialized: ['roberta.pooler.dense.bias', 'roberta.pooler.dense.weight']\n",
      "You should probably TRAIN this model on a down-stream task to be able to use it for predictions and inference.\n",
      "Some weights of RobertaModel were not initialized from the model checkpoint at roberta-large and are newly initialized: ['roberta.pooler.dense.bias', 'roberta.pooler.dense.weight']\n",
      "You should probably TRAIN this model on a down-stream task to be able to use it for predictions and inference.\n",
      "Some weights of RobertaModel were not initialized from the model checkpoint at roberta-large and are newly initialized: ['roberta.pooler.dense.bias', 'roberta.pooler.dense.weight']\n",
      "You should probably TRAIN this model on a down-stream task to be able to use it for predictions and inference.\n",
      "Some weights of RobertaModel were not initialized from the model checkpoint at roberta-large and are newly initialized: ['roberta.pooler.dense.bias', 'roberta.pooler.dense.weight']\n",
      "You should probably TRAIN this model on a down-stream task to be able to use it for predictions and inference.\n",
      "Some weights of RobertaModel were not initialized from the model checkpoint at roberta-large and are newly initialized: ['roberta.pooler.dense.bias', 'roberta.pooler.dense.weight']\n",
      "You should probably TRAIN this model on a down-stream task to be able to use it for predictions and inference.\n",
      "Some weights of RobertaModel were not initialized from the model checkpoint at roberta-large and are newly initialized: ['roberta.pooler.dense.bias', 'roberta.pooler.dense.weight']\n",
      "You should probably TRAIN this model on a down-stream task to be able to use it for predictions and inference.\n",
      "Some weights of RobertaModel were not initialized from the model checkpoint at roberta-large and are newly initialized: ['roberta.pooler.dense.bias', 'roberta.pooler.dense.weight']\n",
      "You should probably TRAIN this model on a down-stream task to be able to use it for predictions and inference.\n",
      "Some weights of RobertaModel were not initialized from the model checkpoint at roberta-large and are newly initialized: ['roberta.pooler.dense.bias', 'roberta.pooler.dense.weight']\n",
      "You should probably TRAIN this model on a down-stream task to be able to use it for predictions and inference.\n",
      "Some weights of RobertaModel were not initialized from the model checkpoint at roberta-large and are newly initialized: ['roberta.pooler.dense.bias', 'roberta.pooler.dense.weight']\n",
      "You should probably TRAIN this model on a down-stream task to be able to use it for predictions and inference.\n",
      "Some weights of RobertaModel were not initialized from the model checkpoint at roberta-large and are newly initialized: ['roberta.pooler.dense.bias', 'roberta.pooler.dense.weight']\n",
      "You should probably TRAIN this model on a down-stream task to be able to use it for predictions and inference.\n",
      "Some weights of RobertaModel were not initialized from the model checkpoint at roberta-large and are newly initialized: ['roberta.pooler.dense.bias', 'roberta.pooler.dense.weight']\n",
      "You should probably TRAIN this model on a down-stream task to be able to use it for predictions and inference.\n",
      "Some weights of RobertaModel were not initialized from the model checkpoint at roberta-large and are newly initialized: ['roberta.pooler.dense.bias', 'roberta.pooler.dense.weight']\n",
      "You should probably TRAIN this model on a down-stream task to be able to use it for predictions and inference.\n",
      "Some weights of RobertaModel were not initialized from the model checkpoint at roberta-large and are newly initialized: ['roberta.pooler.dense.bias', 'roberta.pooler.dense.weight']\n",
      "You should probably TRAIN this model on a down-stream task to be able to use it for predictions and inference.\n",
      "Some weights of RobertaModel were not initialized from the model checkpoint at roberta-large and are newly initialized: ['roberta.pooler.dense.bias', 'roberta.pooler.dense.weight']\n",
      "You should probably TRAIN this model on a down-stream task to be able to use it for predictions and inference.\n",
      "Some weights of RobertaModel were not initialized from the model checkpoint at roberta-large and are newly initialized: ['roberta.pooler.dense.bias', 'roberta.pooler.dense.weight']\n",
      "You should probably TRAIN this model on a down-stream task to be able to use it for predictions and inference.\n",
      "Some weights of RobertaModel were not initialized from the model checkpoint at roberta-large and are newly initialized: ['roberta.pooler.dense.bias', 'roberta.pooler.dense.weight']\n",
      "You should probably TRAIN this model on a down-stream task to be able to use it for predictions and inference.\n",
      "Some weights of RobertaModel were not initialized from the model checkpoint at roberta-large and are newly initialized: ['roberta.pooler.dense.bias', 'roberta.pooler.dense.weight']\n",
      "You should probably TRAIN this model on a down-stream task to be able to use it for predictions and inference.\n",
      "Some weights of RobertaModel were not initialized from the model checkpoint at roberta-large and are newly initialized: ['roberta.pooler.dense.bias', 'roberta.pooler.dense.weight']\n",
      "You should probably TRAIN this model on a down-stream task to be able to use it for predictions and inference.\n",
      "Some weights of RobertaModel were not initialized from the model checkpoint at roberta-large and are newly initialized: ['roberta.pooler.dense.bias', 'roberta.pooler.dense.weight']\n",
      "You should probably TRAIN this model on a down-stream task to be able to use it for predictions and inference.\n",
      "Some weights of RobertaModel were not initialized from the model checkpoint at roberta-large and are newly initialized: ['roberta.pooler.dense.bias', 'roberta.pooler.dense.weight']\n",
      "You should probably TRAIN this model on a down-stream task to be able to use it for predictions and inference.\n",
      "Some weights of RobertaModel were not initialized from the model checkpoint at roberta-large and are newly initialized: ['roberta.pooler.dense.bias', 'roberta.pooler.dense.weight']\n",
      "You should probably TRAIN this model on a down-stream task to be able to use it for predictions and inference.\n",
      "Some weights of RobertaModel were not initialized from the model checkpoint at roberta-large and are newly initialized: ['roberta.pooler.dense.bias', 'roberta.pooler.dense.weight']\n",
      "You should probably TRAIN this model on a down-stream task to be able to use it for predictions and inference.\n",
      "Some weights of RobertaModel were not initialized from the model checkpoint at roberta-large and are newly initialized: ['roberta.pooler.dense.bias', 'roberta.pooler.dense.weight']\n",
      "You should probably TRAIN this model on a down-stream task to be able to use it for predictions and inference.\n",
      "Some weights of RobertaModel were not initialized from the model checkpoint at roberta-large and are newly initialized: ['roberta.pooler.dense.bias', 'roberta.pooler.dense.weight']\n",
      "You should probably TRAIN this model on a down-stream task to be able to use it for predictions and inference.\n",
      "Some weights of RobertaModel were not initialized from the model checkpoint at roberta-large and are newly initialized: ['roberta.pooler.dense.bias', 'roberta.pooler.dense.weight']\n",
      "You should probably TRAIN this model on a down-stream task to be able to use it for predictions and inference.\n",
      "Some weights of RobertaModel were not initialized from the model checkpoint at roberta-large and are newly initialized: ['roberta.pooler.dense.bias', 'roberta.pooler.dense.weight']\n",
      "You should probably TRAIN this model on a down-stream task to be able to use it for predictions and inference.\n",
      "Some weights of RobertaModel were not initialized from the model checkpoint at roberta-large and are newly initialized: ['roberta.pooler.dense.bias', 'roberta.pooler.dense.weight']\n",
      "You should probably TRAIN this model on a down-stream task to be able to use it for predictions and inference.\n",
      "Some weights of RobertaModel were not initialized from the model checkpoint at roberta-large and are newly initialized: ['roberta.pooler.dense.bias', 'roberta.pooler.dense.weight']\n",
      "You should probably TRAIN this model on a down-stream task to be able to use it for predictions and inference.\n",
      "Some weights of RobertaModel were not initialized from the model checkpoint at roberta-large and are newly initialized: ['roberta.pooler.dense.bias', 'roberta.pooler.dense.weight']\n",
      "You should probably TRAIN this model on a down-stream task to be able to use it for predictions and inference.\n",
      "Some weights of RobertaModel were not initialized from the model checkpoint at roberta-large and are newly initialized: ['roberta.pooler.dense.bias', 'roberta.pooler.dense.weight']\n",
      "You should probably TRAIN this model on a down-stream task to be able to use it for predictions and inference.\n",
      "Some weights of RobertaModel were not initialized from the model checkpoint at roberta-large and are newly initialized: ['roberta.pooler.dense.bias', 'roberta.pooler.dense.weight']\n",
      "You should probably TRAIN this model on a down-stream task to be able to use it for predictions and inference.\n",
      "Some weights of RobertaModel were not initialized from the model checkpoint at roberta-large and are newly initialized: ['roberta.pooler.dense.bias', 'roberta.pooler.dense.weight']\n",
      "You should probably TRAIN this model on a down-stream task to be able to use it for predictions and inference.\n",
      "Some weights of RobertaModel were not initialized from the model checkpoint at roberta-large and are newly initialized: ['roberta.pooler.dense.bias', 'roberta.pooler.dense.weight']\n",
      "You should probably TRAIN this model on a down-stream task to be able to use it for predictions and inference.\n",
      "Some weights of RobertaModel were not initialized from the model checkpoint at roberta-large and are newly initialized: ['roberta.pooler.dense.bias', 'roberta.pooler.dense.weight']\n",
      "You should probably TRAIN this model on a down-stream task to be able to use it for predictions and inference.\n",
      "Some weights of RobertaModel were not initialized from the model checkpoint at roberta-large and are newly initialized: ['roberta.pooler.dense.bias', 'roberta.pooler.dense.weight']\n",
      "You should probably TRAIN this model on a down-stream task to be able to use it for predictions and inference.\n",
      "Some weights of RobertaModel were not initialized from the model checkpoint at roberta-large and are newly initialized: ['roberta.pooler.dense.bias', 'roberta.pooler.dense.weight']\n",
      "You should probably TRAIN this model on a down-stream task to be able to use it for predictions and inference.\n",
      "Some weights of RobertaModel were not initialized from the model checkpoint at roberta-large and are newly initialized: ['roberta.pooler.dense.bias', 'roberta.pooler.dense.weight']\n",
      "You should probably TRAIN this model on a down-stream task to be able to use it for predictions and inference.\n",
      "Some weights of RobertaModel were not initialized from the model checkpoint at roberta-large and are newly initialized: ['roberta.pooler.dense.bias', 'roberta.pooler.dense.weight']\n",
      "You should probably TRAIN this model on a down-stream task to be able to use it for predictions and inference.\n",
      "Some weights of RobertaModel were not initialized from the model checkpoint at roberta-large and are newly initialized: ['roberta.pooler.dense.bias', 'roberta.pooler.dense.weight']\n",
      "You should probably TRAIN this model on a down-stream task to be able to use it for predictions and inference.\n",
      "Some weights of RobertaModel were not initialized from the model checkpoint at roberta-large and are newly initialized: ['roberta.pooler.dense.bias', 'roberta.pooler.dense.weight']\n",
      "You should probably TRAIN this model on a down-stream task to be able to use it for predictions and inference.\n",
      "Some weights of RobertaModel were not initialized from the model checkpoint at roberta-large and are newly initialized: ['roberta.pooler.dense.bias', 'roberta.pooler.dense.weight']\n",
      "You should probably TRAIN this model on a down-stream task to be able to use it for predictions and inference.\n",
      "Some weights of RobertaModel were not initialized from the model checkpoint at roberta-large and are newly initialized: ['roberta.pooler.dense.bias', 'roberta.pooler.dense.weight']\n",
      "You should probably TRAIN this model on a down-stream task to be able to use it for predictions and inference.\n",
      "Some weights of RobertaModel were not initialized from the model checkpoint at roberta-large and are newly initialized: ['roberta.pooler.dense.bias', 'roberta.pooler.dense.weight']\n",
      "You should probably TRAIN this model on a down-stream task to be able to use it for predictions and inference.\n",
      "Some weights of RobertaModel were not initialized from the model checkpoint at roberta-large and are newly initialized: ['roberta.pooler.dense.bias', 'roberta.pooler.dense.weight']\n",
      "You should probably TRAIN this model on a down-stream task to be able to use it for predictions and inference.\n",
      "Some weights of RobertaModel were not initialized from the model checkpoint at roberta-large and are newly initialized: ['roberta.pooler.dense.bias', 'roberta.pooler.dense.weight']\n",
      "You should probably TRAIN this model on a down-stream task to be able to use it for predictions and inference.\n"
     ]
    },
    {
     "name": "stdout",
     "output_type": "stream",
     "text": [
      "Average Precision: 0.868171\n",
      "Average Recall: 0.8539929\n",
      "Average F1 Score: 0.860681\n"
     ]
    }
   ],
   "source": [
    "# Calculate BERTScore\n",
    "from bert_score import score\n",
    "import numpy as np\n",
    "\n",
    "# Lists of candidates and references\n",
    "candidates = answers_df['Dialogue'].tolist()\n",
    "references = test_dialogues.tolist()\n",
    "# Ensure that each candidate has a corresponding reference\n",
    "assert len(candidates) == len(references), \"Each candidate must have a corresponding reference.\"\n",
    "\n",
    "# Calculate BERTScore for each pair\n",
    "precision_scores = []\n",
    "recall_scores = []\n",
    "f1_scores = []\n",
    "\n",
    "for cand, ref in zip(candidates, references):\n",
    "    P, R, F1 = score([cand], [ref], lang='en')\n",
    "    precision_scores.append(P.numpy())\n",
    "    recall_scores.append(R.numpy())\n",
    "    f1_scores.append(F1.numpy())\n",
    "    \n",
    "\n",
    "# Calculate the average of each metric\n",
    "average_precision = np.mean(precision_scores)\n",
    "average_recall = np.mean(recall_scores)\n",
    "average_f1 = np.mean(f1_scores)\n",
    "\n",
    "print(\"Average Precision:\", average_precision)\n",
    "print(\"Average Recall:\", average_recall)\n",
    "print(\"Average F1 Score:\", average_f1)\n"
   ],
   "metadata": {
    "collapsed": false,
    "ExecuteTime": {
     "end_time": "2024-06-11T17:20:08.370492600Z",
     "start_time": "2024-06-11T17:16:39.791314400Z"
    }
   },
   "id": "529e21fd0e7f1d0f",
   "execution_count": 65
  },
  {
   "cell_type": "code",
   "outputs": [
    {
     "name": "stdout",
     "output_type": "stream",
     "text": [
      "Average ROUGE-1 Scores: {'f': 0.07567239647400974, 'p': 0.10456330402706744, 'r': 0.07187803676854909}\n",
      "Average ROUGE-2 Scores: {'f': 0.006181891333289597, 'p': 0.009756720367705092, 'r': 0.007094434910913412}\n",
      "Average ROUGE-L Scores: {'f': 0.06978604200633035, 'p': 0.09732984308869912, 'r': 0.06664305310490114}\n"
     ]
    }
   ],
   "source": [
    "import warnings\n",
    "from rouge import Rouge\n",
    "import pandas as pd\n",
    "\n",
    "# Suppress warnings if necessary\n",
    "warnings.filterwarnings('ignore')\n",
    "\n",
    "# Assuming the DataFrame and columns are properly set\n",
    "# Ensure these columns contain strings\n",
    "candidates = answers_df['Dialogue'].tolist()  # Replace 'candidate_column' with your DataFrame column\n",
    "references = test_dialogues.tolist()  # Replace 'reference_column' with your DataFrame column\n",
    "\n",
    "# Ensure that each candidate has a corresponding reference\n",
    "assert len(candidates) == len(references), \"Each candidate must have a corresponding reference.\"\n",
    "\n",
    "# Initialize the Rouge object\n",
    "rouge = Rouge()\n",
    "\n",
    "# Initialize dictionaries to hold aggregated scores\n",
    "rouge_1_scores = {'f': [], 'p': [], 'r': []}\n",
    "rouge_2_scores = {'f': [], 'p': [], 'r': []}\n",
    "rouge_l_scores = {'f': [], 'p': [], 'r': []}\n",
    "\n",
    "# Calculate ROUGE scores for each pair\n",
    "for cand, ref in zip(candidates, references):\n",
    "    scores = rouge.get_scores(cand, ref, avg=False)[0]  # Obtain scores for the first (and only) pair\n",
    "    # Store ROUGE scores in respective dictionaries\n",
    "    rouge_1_scores['f'].append(scores['rouge-1']['f'])\n",
    "    rouge_1_scores['p'].append(scores['rouge-1']['p'])\n",
    "    rouge_1_scores['r'].append(scores['rouge-1']['r'])\n",
    "    \n",
    "    rouge_2_scores['f'].append(scores['rouge-2']['f'])\n",
    "    rouge_2_scores['p'].append(scores['rouge-2']['p'])\n",
    "    rouge_2_scores['r'].append(scores['rouge-2']['r'])\n",
    "    \n",
    "    rouge_l_scores['f'].append(scores['rouge-l']['f'])\n",
    "    rouge_l_scores['p'].append(scores['rouge-l']['p'])\n",
    "    rouge_l_scores['r'].append(scores['rouge-l']['r'])\n",
    "\n",
    "# Calculate the average of each ROUGE metric\n",
    "def average_score(score_list):\n",
    "    return sum(score_list) / len(score_list) if score_list else 0\n",
    "\n",
    "print(\"Average ROUGE-1 Scores:\", {k: average_score(v) for k, v in rouge_1_scores.items()})\n",
    "print(\"Average ROUGE-2 Scores:\", {k: average_score(v) for k, v in rouge_2_scores.items()})\n",
    "print(\"Average ROUGE-L Scores:\", {k: average_score(v) for k, v in rouge_l_scores.items()})\n"
   ],
   "metadata": {
    "collapsed": false,
    "ExecuteTime": {
     "end_time": "2024-06-13T04:47:48.045800900Z",
     "start_time": "2024-06-13T04:47:48.006412700Z"
    }
   },
   "id": "7e534de18988c19a",
   "execution_count": 35
  }
 ],
 "metadata": {
  "kernelspec": {
   "display_name": "Python 3 (ipykernel)",
   "language": "python",
   "name": "python3"
  },
  "language_info": {
   "codemirror_mode": {
    "name": "ipython",
    "version": 3
   },
   "file_extension": ".py",
   "mimetype": "text/x-python",
   "name": "python",
   "nbconvert_exporter": "python",
   "pygments_lexer": "ipython3",
   "version": "3.12.0"
  }
 },
 "nbformat": 4,
 "nbformat_minor": 5
}
