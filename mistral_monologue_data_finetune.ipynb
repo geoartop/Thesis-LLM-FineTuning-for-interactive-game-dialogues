{
 "cells": [
  {
   "cell_type": "code",
   "execution_count": 13,
   "id": "initial_id",
   "metadata": {
    "collapsed": true,
    "jupyter": {
     "outputs_hidden": true
    },
    "ExecuteTime": {
     "end_time": "2024-06-15T16:57:39.258451600Z",
     "start_time": "2024-06-15T16:57:36.634767Z"
    }
   },
   "outputs": [],
   "source": [
    "from datasets import load_dataset\n",
    "\n",
    "train_dataset = load_dataset(\"json\", data_files=\"dataset_final_results/introduction_train.json\")\n",
    "val_dataset = load_dataset(\"json\", data_files=\"dataset_final_results/introduction_val.json\")\n",
    "test_dataset = load_dataset(\"json\", data_files=\"dataset_final_results/introduction_test.json\")"
   ]
  },
  {
   "cell_type": "code",
   "execution_count": 2,
   "id": "8f92a617057aac80",
   "metadata": {
    "collapsed": false,
    "ExecuteTime": {
     "end_time": "2024-06-15T15:20:53.495504100Z",
     "start_time": "2024-06-15T15:20:53.489502300Z"
    }
   },
   "outputs": [
    {
     "data": {
      "text/plain": "DatasetDict({\n    train: Dataset({\n        features: ['Game', 'Context', 'Monologue'],\n        num_rows: 40\n    })\n})"
     },
     "execution_count": 2,
     "metadata": {},
     "output_type": "execute_result"
    }
   ],
   "source": [
    "train_dataset"
   ]
  },
  {
   "cell_type": "code",
   "execution_count": 3,
   "id": "b0c6ecad2a2d2007",
   "metadata": {
    "collapsed": false,
    "ExecuteTime": {
     "end_time": "2024-06-15T15:20:53.506980800Z",
     "start_time": "2024-06-15T15:20:53.494503800Z"
    }
   },
   "outputs": [
    {
     "data": {
      "text/plain": "DatasetDict({\n    train: Dataset({\n        features: ['Game', 'Context', 'Monologue'],\n        num_rows: 5\n    })\n})"
     },
     "execution_count": 3,
     "metadata": {},
     "output_type": "execute_result"
    }
   ],
   "source": [
    "val_dataset"
   ]
  },
  {
   "cell_type": "code",
   "execution_count": 4,
   "id": "61a9af870c68ea6a",
   "metadata": {
    "collapsed": false,
    "ExecuteTime": {
     "end_time": "2024-06-15T15:20:53.520987100Z",
     "start_time": "2024-06-15T15:20:53.500979300Z"
    }
   },
   "outputs": [
    {
     "data": {
      "text/plain": "DatasetDict({\n    train: Dataset({\n        features: ['Game', 'Context', 'Monologue'],\n        num_rows: 5\n    })\n})"
     },
     "execution_count": 4,
     "metadata": {},
     "output_type": "execute_result"
    }
   ],
   "source": [
    "test_dataset"
   ]
  },
  {
   "cell_type": "code",
   "execution_count": 5,
   "id": "dad8e9abba327408",
   "metadata": {
    "collapsed": false,
    "ExecuteTime": {
     "end_time": "2024-06-15T15:20:57.815105300Z",
     "start_time": "2024-06-15T15:20:53.510984800Z"
    }
   },
   "outputs": [],
   "source": [
    "from accelerate import FullyShardedDataParallelPlugin, Accelerator\n",
    "from torch.distributed.fsdp.fully_sharded_data_parallel import FullOptimStateDictConfig, FullStateDictConfig\n",
    "\n",
    "fsdp_plugin = FullyShardedDataParallelPlugin(\n",
    "    state_dict_config=FullStateDictConfig(offload_to_cpu=True, rank0_only=False),\n",
    "    optim_state_dict_config=FullOptimStateDictConfig(offload_to_cpu=True, rank0_only=False),\n",
    ")\n",
    "\n",
    "accelerator = Accelerator(fsdp_plugin=fsdp_plugin)"
   ]
  },
  {
   "cell_type": "code",
   "execution_count": 6,
   "id": "131418b6535338bf",
   "metadata": {
    "collapsed": false,
    "ExecuteTime": {
     "end_time": "2024-06-15T15:20:57.818107Z",
     "start_time": "2024-06-15T15:20:57.802585500Z"
    }
   },
   "outputs": [],
   "source": [
    "def formatting_func(example):\n",
    "    return f\"\"\"\n",
    "In the following text, there is a description about introductory monologues in a video game. The text will be enclosed within <START> and <END>. There are specific rules that apply only to the text: the title of the current game will always be enclosed inside <TITLE> and </TITLE>, the monologue will always be enclosed inside <MONO> and </MONO>, and the context will be enclosed inside <CONTEXT> and </CONTEXT>.\n",
    "\n",
    "<START>\n",
    "In video games, sometimes there is an introductory monologue delivered by a narrator. The narrator can either be an unknown narrator or a character that exists within the game, and they introduce the Player to the world, the story, and the setting of the game with the assistance of an introductory monologue. \n",
    "\n",
    "This monologue is based on the game's setting, world, story, and the Player's role in the game. Here is some context describing these elements about the game called <TITLE>{example['Game']}</TITLE>:\n",
    "\n",
    "<CONTEXT>{example['Context']}</CONTEXT>\n",
    "    \n",
    "<TITLE>{example['Game']}</TITLE>'s introductory monologue is as follows:\n",
    "\n",
    "<MONO>{example['Monologue']}</MONO>\n",
    "\n",
    "<END>\"\"\"\n"
   ]
  },
  {
   "cell_type": "code",
   "outputs": [],
   "source": [
    "# Explicitly setting the token\n",
    "import os\n",
    "os.environ[\"HF_TOKEN\"] = \"\""
   ],
   "metadata": {
    "collapsed": false,
    "ExecuteTime": {
     "end_time": "2024-06-15T15:20:57.820107100Z",
     "start_time": "2024-06-15T15:20:57.804586700Z"
    }
   },
   "id": "a7010b90e0c1f23",
   "execution_count": 7
  },
  {
   "cell_type": "code",
   "execution_count": 8,
   "id": "380cd97b582df263",
   "metadata": {
    "collapsed": false,
    "ExecuteTime": {
     "end_time": "2024-06-15T15:20:58.803086300Z",
     "start_time": "2024-06-15T15:20:57.813105300Z"
    }
   },
   "outputs": [],
   "source": [
    "import torch\n",
    "from transformers import AutoTokenizer, AutoModelForCausalLM, BitsAndBytesConfig, AutoConfig\n",
    "config = AutoConfig.from_pretrained(\"mistralai/Mistral-7B-Instruct-v0.2\")"
   ]
  },
  {
   "cell_type": "code",
   "outputs": [],
   "source": [
    "base_model_id = \"mistralai/Mistral-7B-Instruct-v0.2\""
   ],
   "metadata": {
    "collapsed": false,
    "ExecuteTime": {
     "end_time": "2024-06-15T15:20:58.810593900Z",
     "start_time": "2024-06-15T15:20:58.802014100Z"
    }
   },
   "id": "d632f344ba9aabd4",
   "execution_count": 9
  },
  {
   "cell_type": "code",
   "outputs": [],
   "source": [
    "bnb_config = BitsAndBytesConfig(\n",
    "    load_in_4bit=True,\n",
    "    bnb_4bit_use_double_quant=True,\n",
    "    bnb_4bit_quant_type=\"nf4\",\n",
    "    bnb_4bit_compute_dtype=torch.bfloat16\n",
    ")"
   ],
   "metadata": {
    "collapsed": false,
    "ExecuteTime": {
     "end_time": "2024-06-15T15:20:58.847845100Z",
     "start_time": "2024-06-15T15:20:58.805592600Z"
    }
   },
   "id": "9a7f272e3e8e4ecc",
   "execution_count": 10
  },
  {
   "cell_type": "code",
   "outputs": [
    {
     "name": "stderr",
     "output_type": "stream",
     "text": [
      "`low_cpu_mem_usage` was None, now set to True since model is quantized.\n"
     ]
    },
    {
     "data": {
      "text/plain": "Loading checkpoint shards:   0%|          | 0/3 [00:00<?, ?it/s]",
      "application/vnd.jupyter.widget-view+json": {
       "version_major": 2,
       "version_minor": 0,
       "model_id": "69a1adfc865e400e82516a47984d3612"
      }
     },
     "metadata": {},
     "output_type": "display_data"
    }
   ],
   "source": [
    "model = AutoModelForCausalLM.from_pretrained(base_model_id, quantization_config=bnb_config,config=config)\n",
    "\n",
    "tokenizer = AutoTokenizer.from_pretrained(\n",
    "    base_model_id,\n",
    "    padding_side=\"left\",\n",
    "    add_eos_token=True,\n",
    "    add_bos_token=True,\n",
    ")\n",
    "tokenizer.pad_token = tokenizer.eos_token\n"
   ],
   "metadata": {
    "collapsed": false,
    "ExecuteTime": {
     "end_time": "2024-06-15T15:21:37.339212300Z",
     "start_time": "2024-06-15T15:20:58.817893300Z"
    }
   },
   "id": "5e3d64226cbbc1df",
   "execution_count": 11
  },
  {
   "cell_type": "code",
   "execution_count": 12,
   "id": "cfe4ef3ec3c37141",
   "metadata": {
    "collapsed": false,
    "ExecuteTime": {
     "end_time": "2024-06-15T15:21:37.344413800Z",
     "start_time": "2024-06-15T15:21:37.341212100Z"
    }
   },
   "outputs": [],
   "source": [
    "def generate_and_tokenize_prompt(prompt):\n",
    "    return tokenizer(formatting_func(prompt))"
   ]
  },
  {
   "cell_type": "code",
   "execution_count": 13,
   "id": "6a540269d58fd473",
   "metadata": {
    "collapsed": false,
    "ExecuteTime": {
     "end_time": "2024-06-15T15:21:37.387110200Z",
     "start_time": "2024-06-15T15:21:37.343413600Z"
    }
   },
   "outputs": [],
   "source": [
    "tokenized_train_dataset = train_dataset.map(generate_and_tokenize_prompt)"
   ]
  },
  {
   "cell_type": "code",
   "execution_count": 14,
   "id": "4c4e0d60cc136063",
   "metadata": {
    "collapsed": false,
    "ExecuteTime": {
     "end_time": "2024-06-15T15:21:37.426282600Z",
     "start_time": "2024-06-15T15:21:37.387110200Z"
    }
   },
   "outputs": [],
   "source": [
    "tokenized_val_dataset = val_dataset.map(generate_and_tokenize_prompt)"
   ]
  },
  {
   "cell_type": "code",
   "execution_count": 15,
   "id": "fe34416de1121bf2",
   "metadata": {
    "collapsed": false,
    "ExecuteTime": {
     "end_time": "2024-06-15T15:21:38.019496800Z",
     "start_time": "2024-06-15T15:21:37.415279900Z"
    }
   },
   "outputs": [
    {
     "name": "stdout",
     "output_type": "stream",
     "text": [
      "45\n"
     ]
    },
    {
     "data": {
      "text/plain": "<Figure size 1000x600 with 1 Axes>",
      "image/png": "[encoded data removed]"
     },
     "metadata": {},
     "output_type": "display_data"
    }
   ],
   "source": [
    "import matplotlib.pyplot as plt\n",
    "\n",
    "\n",
    "def plot_data_lengths(tokenized_train_dataset, tokenized_val_dataset):\n",
    "    lengths = [len(x['input_ids']) for x in tokenized_train_dataset['train']]\n",
    "    lengths += [len(x['input_ids']) for x in tokenized_val_dataset['train']]\n",
    "    print(len(lengths))\n",
    "\n",
    "    # Plotting the histogram\n",
    "    plt.figure(figsize=(10, 6))\n",
    "    plt.hist(lengths, bins=20, alpha=0.7, color='blue')\n",
    "    plt.xlabel('Length of input_ids')\n",
    "    plt.ylabel('Frequency')\n",
    "    plt.title('Distribution of Lengths of input_ids')\n",
    "    plt.show()\n",
    "\n",
    "plot_data_lengths(tokenized_train_dataset, tokenized_val_dataset)"
   ]
  },
  {
   "cell_type": "code",
   "execution_count": 16,
   "id": "805a339c5f8c1dbd",
   "metadata": {
    "collapsed": false,
    "ExecuteTime": {
     "end_time": "2024-06-15T15:21:38.129060700Z",
     "start_time": "2024-06-15T15:21:38.020496Z"
    }
   },
   "outputs": [
    {
     "name": "stdout",
     "output_type": "stream",
     "text": [
      "Mean: 723.725\n",
      "95th percentile: 947.15\n",
      "Max length: 1228\n"
     ]
    }
   ],
   "source": [
    "import numpy as np\n",
    "\n",
    "lengths = [len(x['input_ids']) for x in tokenized_train_dataset['train']]\n",
    "\n",
    "print(f\"Mean: {np.mean(lengths)}\")\n",
    "\n",
    "# Calculate the 95th percentile\n",
    "print(f\"95th percentile: {np.percentile(lengths, 95)}\")\n",
    "\n",
    "# Calculate the max length\n",
    "print(f\"Max length: {np.max(lengths)}\")"
   ]
  },
  {
   "cell_type": "code",
   "execution_count": 17,
   "id": "6b3e76e5d59b83b4",
   "metadata": {
    "collapsed": false,
    "ExecuteTime": {
     "end_time": "2024-06-15T15:21:38.131060700Z",
     "start_time": "2024-06-15T15:21:38.065538800Z"
    }
   },
   "outputs": [],
   "source": [
    "max_length = 1228  # This was an appropriate max length for my dataset\n",
    "\n",
    "def generate_and_tokenize_prompt2(prompt):\n",
    "    result = tokenizer(\n",
    "        formatting_func(prompt),\n",
    "        truncation=True,\n",
    "        max_length=max_length,\n",
    "        padding=\"max_length\",\n",
    "    )\n",
    "    result[\"labels\"] = result[\"input_ids\"].copy()\n",
    "    return result"
   ]
  },
  {
   "cell_type": "code",
   "execution_count": 18,
   "id": "a4121ff13e365288",
   "metadata": {
    "collapsed": false,
    "ExecuteTime": {
     "end_time": "2024-06-15T15:21:38.187593600Z",
     "start_time": "2024-06-15T15:21:38.068045700Z"
    }
   },
   "outputs": [],
   "source": [
    "tokenized_train_dataset = train_dataset.map(generate_and_tokenize_prompt2)\n",
    "tokenized_val_dataset = val_dataset.map(generate_and_tokenize_prompt2)"
   ]
  },
  {
   "cell_type": "code",
   "execution_count": 19,
   "id": "5673a5175e6f2638",
   "metadata": {
    "collapsed": false,
    "ExecuteTime": {
     "end_time": "2024-06-15T15:21:38.355632Z",
     "start_time": "2024-06-15T15:21:38.138583100Z"
    }
   },
   "outputs": [
    {
     "name": "stdout",
     "output_type": "stream",
     "text": [
      "45\n"
     ]
    },
    {
     "data": {
      "text/plain": "<Figure size 1000x600 with 1 Axes>",
      "image/png": "[encoded data removed]"
     },
     "metadata": {},
     "output_type": "display_data"
    }
   ],
   "source": [
    "plot_data_lengths(tokenized_train_dataset, tokenized_val_dataset)"
   ]
  },
  {
   "cell_type": "code",
   "execution_count": 19,
   "id": "678f82c73601a318",
   "metadata": {
    "collapsed": false,
    "ExecuteTime": {
     "end_time": "2024-06-15T13:03:30.250125100Z",
     "start_time": "2024-06-15T13:03:30.247618900Z"
    }
   },
   "outputs": [],
   "source": [
    "eval_prompt = (f\"\"\"\n",
    "In the following text, there is a description about introductory monologues in a video game. The text will be enclosed within <START> and <END>. There are specific rules that apply only to the text: the title of the current game will always be enclosed inside <TITLE> and </TITLE>, the monologue will always be enclosed inside <MONO> and </MONO>, and the context will be enclosed inside <CONTEXT> and </CONTEXT>. Your task is to generate the missing monologue between the <MONO> and </MONO> tags inside the provided text.\n",
    "\n",
    "<START>\n",
    "In video games, sometimes there is an introductory monologue delivered by a narrator. The narrator can either be an unknown narrator or a character that exists within the game, and they introduce the Player to the world, the story, and the setting of the game with the assistance of an introductory monologue. \n",
    "\n",
    "This monologue is based on the game's setting, world, story, and the Player's role in the game. Here is some context describing these elements about the game called <TITLE>Elden Ring</TITLE>:\n",
    "\n",
    "<CONTEXT>In <TITLE>Elden Ring</TITLE>, the introductory monologue delivered by a narrator sets the stage for the game's epic dark fantasy narrative. The player takes on the role of a Tarnished, one of the dead who yet live, called back to the Lands Between to restore the fractured world. The once-great Elden Ring has been shattered, and Queen Marika the Eternal has disappeared. On the Night of the Black Knives, the demigod Godwin the Golden was the first to fall, leading Marika's demigod offspring to seize the shards of the Elden Ring. Their newfound power triggered the Shattering, a catastrophic war that left the Lands Between in chaos and abandoned by the Greater Will. The Tarnished, including chieftains, sorcerers, and other notable figures, are beckoned by the call of long-lost grace to reclaim their destiny. As a Tarnished of no renown, the player must cross the fog to the Lands Between, face formidable foes, and seek to reunite the Elden Ring, ultimately striving to become the Elden Lord. The game explores themes of power, legacy, and redemption in a richly detailed and mysterious world.</CONTEXT>\n",
    "    \n",
    "<TITLE>Elden Ring</TITLE>'s introductory monologue is as follows:\n",
    "\n",
    "<MONO> </MONO>\n",
    "\n",
    "<END>\n",
    "\n",
    "Answer:\n",
    "\"\"\")"
   ]
  },
  {
   "cell_type": "code",
   "execution_count": 23,
   "id": "47c8339c7d3e3ea2",
   "metadata": {
    "collapsed": false,
    "ExecuteTime": {
     "end_time": "2024-06-15T09:47:10.812040600Z",
     "start_time": "2024-06-15T09:47:02.681590600Z"
    }
   },
   "outputs": [
    {
     "name": "stderr",
     "output_type": "stream",
     "text": [
      "Setting `pad_token_id` to `eos_token_id`:2 for open-end generation.\n"
     ]
    },
    {
     "name": "stdout",
     "output_type": "stream",
     "text": [
      "\n",
      "In the following text, there is a description about introductory monologues in a video game. The text will be enclosed within <START> and <END>. There are specific rules that apply only to the text: the title of the current game will always be enclosed inside <TITLE> and </TITLE>, the monologue will always be enclosed inside <MONO> and </MONO>, and the context will be enclosed inside <CONTEXT> and </CONTEXT>. Your task is to generate the missing dialogue line between the <MONO> and </MONO> tags inside the provided text.\n",
      "\n",
      "<START>\n",
      "In video games, sometimes there is an introductory monologue delivered by a narrator. The narrator can either be an unknown narrator or a character that exists within the game, and they introduce the Player to the world, the story, and the setting of the game with the assistance of an introductory monologue. \n",
      "\n",
      "This monologue is based on the game's setting, world, story, and the Player's role in the game. Here is some context describing these elements about the game called <TITLE>Elden Ring</TITLE>:\n",
      "\n",
      "<CONTEXT>In <TITLE>Elden Ring</TITLE>, the introductory monologue delivered by a narrator sets the stage for the game's epic dark fantasy narrative. The player takes on the role of a Tarnished, one of the dead who yet live, called back to the Lands Between to restore the fractured world. The once-great Elden Ring has been shattered, and Queen Marika the Eternal has disappeared. On the Night of the Black Knives, the demigod Godwin the Golden was the first to fall, leading Marika's demigod offspring to seize the shards of the Elden Ring. Their newfound power triggered the Shattering, a catastrophic war that left the Lands Between in chaos and abandoned by the Greater Will. The Tarnished, including chieftains, sorcerers, and other notable figures, are beckoned by the call of long-lost grace to reclaim their destiny. As a Tarnished of no renown, the player must cross the fog to the Lands Between, face formidable foes, and seek to reunite the Elden Ring, ultimately striving to become the Elden Lord. The game explores themes of power, legacy, and redemption in a richly detailed and mysterious world.</CONTEXT>\n",
      "    \n",
      "<TITLE>Elden Ring</TITLE>'s introductory monologue is as follows:\n",
      "\n",
      "<MONO> </MONO>\n",
      "\n",
      "<END>\n",
      "\n",
      "Answer:\n",
      "<MONO>\"Welcome, adventurer, to the Lands Between. A world torn apart by the Shattering, where the Elden Ring lies in fragments and the Greater Will has withdrawn from the realm. You have been chosen, not by fate, but by your own desire to reclaim what was lost. As a Tarnished, you were once human, but now stand among the dead who yet live. Gather your strength and embark on this journey to restore the Elden Ring and claim your place as the Elden Lord.\"</MONO>\n"
     ]
    }
   ],
   "source": [
    "# Init an eval tokenizer that doesn't add padding or eos token\n",
    "eval_tokenizer = AutoTokenizer.from_pretrained(\n",
    "    base_model_id,\n",
    "    add_bos_token=True,\n",
    ")\n",
    "\n",
    "model_input = eval_tokenizer(eval_prompt, return_tensors=\"pt\").to(\"cuda\")\n",
    "\n",
    "model.eval()\n",
    "with torch.no_grad():\n",
    "    print(eval_tokenizer.decode(model.generate(**model_input, max_new_tokens=2000, repetition_penalty=1.15)[0],\n",
    "                                skip_special_tokens=True))"
   ]
  },
  {
   "cell_type": "code",
   "execution_count": 20,
   "id": "570b93f08b1b61eb",
   "metadata": {
    "collapsed": false,
    "ExecuteTime": {
     "end_time": "2024-06-15T15:21:38.488413Z",
     "start_time": "2024-06-15T15:21:38.354631700Z"
    }
   },
   "outputs": [],
   "source": [
    "from peft import prepare_model_for_kbit_training\n",
    "\n",
    "model.gradient_checkpointing_enable()\n",
    "model = prepare_model_for_kbit_training(model)"
   ]
  },
  {
   "cell_type": "code",
   "execution_count": 21,
   "id": "ddf562f6b54c4893",
   "metadata": {
    "collapsed": false,
    "ExecuteTime": {
     "end_time": "2024-06-15T15:21:38.492918500Z",
     "start_time": "2024-06-15T15:21:38.485972700Z"
    }
   },
   "outputs": [],
   "source": [
    "def print_trainable_parameters(model):\n",
    "    \"\"\"\n",
    "    Prints the number of trainable parameters in the model.\n",
    "    \"\"\"\n",
    "    trainable_params = 0\n",
    "    all_param = 0\n",
    "    for _, param in model.named_parameters():\n",
    "        all_param += param.numel()\n",
    "        if param.requires_grad:\n",
    "            trainable_params += param.numel()\n",
    "    print(\n",
    "        f\"trainable params: {trainable_params} || all params: {all_param} || trainable%: {100 * trainable_params / all_param}\"\n",
    "    )"
   ]
  },
  {
   "cell_type": "code",
   "execution_count": 22,
   "id": "1116078209be7ce6",
   "metadata": {
    "collapsed": false,
    "ExecuteTime": {
     "end_time": "2024-06-15T15:21:38.510705500Z",
     "start_time": "2024-06-15T15:21:38.489917500Z"
    }
   },
   "outputs": [
    {
     "name": "stdout",
     "output_type": "stream",
     "text": [
      "MistralForCausalLM(\n",
      "  (model): MistralModel(\n",
      "    (embed_tokens): Embedding(32000, 4096)\n",
      "    (layers): ModuleList(\n",
      "      (0-31): 32 x MistralDecoderLayer(\n",
      "        (self_attn): MistralSdpaAttention(\n",
      "          (q_proj): Linear4bit(in_features=4096, out_features=4096, bias=False)\n",
      "          (k_proj): Linear4bit(in_features=4096, out_features=1024, bias=False)\n",
      "          (v_proj): Linear4bit(in_features=4096, out_features=1024, bias=False)\n",
      "          (o_proj): Linear4bit(in_features=4096, out_features=4096, bias=False)\n",
      "          (rotary_emb): MistralRotaryEmbedding()\n",
      "        )\n",
      "        (mlp): MistralMLP(\n",
      "          (gate_proj): Linear4bit(in_features=4096, out_features=14336, bias=False)\n",
      "          (up_proj): Linear4bit(in_features=4096, out_features=14336, bias=False)\n",
      "          (down_proj): Linear4bit(in_features=14336, out_features=4096, bias=False)\n",
      "          (act_fn): SiLU()\n",
      "        )\n",
      "        (input_layernorm): MistralRMSNorm()\n",
      "        (post_attention_layernorm): MistralRMSNorm()\n",
      "      )\n",
      "    )\n",
      "    (norm): MistralRMSNorm()\n",
      "  )\n",
      "  (lm_head): Linear(in_features=4096, out_features=32000, bias=False)\n",
      ")\n"
     ]
    }
   ],
   "source": [
    "print(model)"
   ]
  },
  {
   "cell_type": "code",
   "execution_count": 23,
   "id": "6fe694a164bb1ea8",
   "metadata": {
    "collapsed": false,
    "ExecuteTime": {
     "end_time": "2024-06-15T15:21:39.941029900Z",
     "start_time": "2024-06-15T15:21:38.499703Z"
    }
   },
   "outputs": [
    {
     "name": "stdout",
     "output_type": "stream",
     "text": [
      "trainable params: 130023424 || all params: 3882094592 || trainable%: 3.3493110721192854\n"
     ]
    }
   ],
   "source": [
    "from peft import LoraConfig, get_peft_model\n",
    "\n",
    "config = LoraConfig(\n",
    "    r=64,\n",
    "    lora_alpha=64,\n",
    "    target_modules=[\n",
    "        \"q_proj\",\n",
    "        \"k_proj\",\n",
    "        \"v_proj\",\n",
    "        \"o_proj\",\n",
    "        \"gate_proj\",\n",
    "        \"up_proj\",\n",
    "        \"down_proj,\"\n",
    "        \"lm_head\",\n",
    "    ],\n",
    "    bias=\"none\",\n",
    "    lora_dropout=0.05,  # Conventional\n",
    "    use_rslora=True,\n",
    "    task_type=\"CAUSAL_LM\"\n",
    ")\n",
    "\n",
    "model = get_peft_model(model, config)\n",
    "print_trainable_parameters(model)"
   ]
  },
  {
   "cell_type": "code",
   "execution_count": 24,
   "id": "6354fba6c3915b3",
   "metadata": {
    "collapsed": false,
    "ExecuteTime": {
     "end_time": "2024-06-15T15:21:39.956031300Z",
     "start_time": "2024-06-15T15:21:39.939028Z"
    }
   },
   "outputs": [
    {
     "name": "stdout",
     "output_type": "stream",
     "text": [
      "PeftModelForCausalLM(\n",
      "  (base_model): LoraModel(\n",
      "    (model): MistralForCausalLM(\n",
      "      (model): MistralModel(\n",
      "        (embed_tokens): Embedding(32000, 4096)\n",
      "        (layers): ModuleList(\n",
      "          (0-31): 32 x MistralDecoderLayer(\n",
      "            (self_attn): MistralSdpaAttention(\n",
      "              (q_proj): lora.Linear4bit(\n",
      "                (base_layer): Linear4bit(in_features=4096, out_features=4096, bias=False)\n",
      "                (lora_dropout): ModuleDict(\n",
      "                  (default): Dropout(p=0.05, inplace=False)\n",
      "                )\n",
      "                (lora_A): ModuleDict(\n",
      "                  (default): Linear(in_features=4096, out_features=64, bias=False)\n",
      "                )\n",
      "                (lora_B): ModuleDict(\n",
      "                  (default): Linear(in_features=64, out_features=4096, bias=False)\n",
      "                )\n",
      "                (lora_embedding_A): ParameterDict()\n",
      "                (lora_embedding_B): ParameterDict()\n",
      "              )\n",
      "              (k_proj): lora.Linear4bit(\n",
      "                (base_layer): Linear4bit(in_features=4096, out_features=1024, bias=False)\n",
      "                (lora_dropout): ModuleDict(\n",
      "                  (default): Dropout(p=0.05, inplace=False)\n",
      "                )\n",
      "                (lora_A): ModuleDict(\n",
      "                  (default): Linear(in_features=4096, out_features=64, bias=False)\n",
      "                )\n",
      "                (lora_B): ModuleDict(\n",
      "                  (default): Linear(in_features=64, out_features=1024, bias=False)\n",
      "                )\n",
      "                (lora_embedding_A): ParameterDict()\n",
      "                (lora_embedding_B): ParameterDict()\n",
      "              )\n",
      "              (v_proj): lora.Linear4bit(\n",
      "                (base_layer): Linear4bit(in_features=4096, out_features=1024, bias=False)\n",
      "                (lora_dropout): ModuleDict(\n",
      "                  (default): Dropout(p=0.05, inplace=False)\n",
      "                )\n",
      "                (lora_A): ModuleDict(\n",
      "                  (default): Linear(in_features=4096, out_features=64, bias=False)\n",
      "                )\n",
      "                (lora_B): ModuleDict(\n",
      "                  (default): Linear(in_features=64, out_features=1024, bias=False)\n",
      "                )\n",
      "                (lora_embedding_A): ParameterDict()\n",
      "                (lora_embedding_B): ParameterDict()\n",
      "              )\n",
      "              (o_proj): lora.Linear4bit(\n",
      "                (base_layer): Linear4bit(in_features=4096, out_features=4096, bias=False)\n",
      "                (lora_dropout): ModuleDict(\n",
      "                  (default): Dropout(p=0.05, inplace=False)\n",
      "                )\n",
      "                (lora_A): ModuleDict(\n",
      "                  (default): Linear(in_features=4096, out_features=64, bias=False)\n",
      "                )\n",
      "                (lora_B): ModuleDict(\n",
      "                  (default): Linear(in_features=64, out_features=4096, bias=False)\n",
      "                )\n",
      "                (lora_embedding_A): ParameterDict()\n",
      "                (lora_embedding_B): ParameterDict()\n",
      "              )\n",
      "              (rotary_emb): MistralRotaryEmbedding()\n",
      "            )\n",
      "            (mlp): MistralMLP(\n",
      "              (gate_proj): lora.Linear4bit(\n",
      "                (base_layer): Linear4bit(in_features=4096, out_features=14336, bias=False)\n",
      "                (lora_dropout): ModuleDict(\n",
      "                  (default): Dropout(p=0.05, inplace=False)\n",
      "                )\n",
      "                (lora_A): ModuleDict(\n",
      "                  (default): Linear(in_features=4096, out_features=64, bias=False)\n",
      "                )\n",
      "                (lora_B): ModuleDict(\n",
      "                  (default): Linear(in_features=64, out_features=14336, bias=False)\n",
      "                )\n",
      "                (lora_embedding_A): ParameterDict()\n",
      "                (lora_embedding_B): ParameterDict()\n",
      "              )\n",
      "              (up_proj): lora.Linear4bit(\n",
      "                (base_layer): Linear4bit(in_features=4096, out_features=14336, bias=False)\n",
      "                (lora_dropout): ModuleDict(\n",
      "                  (default): Dropout(p=0.05, inplace=False)\n",
      "                )\n",
      "                (lora_A): ModuleDict(\n",
      "                  (default): Linear(in_features=4096, out_features=64, bias=False)\n",
      "                )\n",
      "                (lora_B): ModuleDict(\n",
      "                  (default): Linear(in_features=64, out_features=14336, bias=False)\n",
      "                )\n",
      "                (lora_embedding_A): ParameterDict()\n",
      "                (lora_embedding_B): ParameterDict()\n",
      "              )\n",
      "              (down_proj): Linear4bit(in_features=14336, out_features=4096, bias=False)\n",
      "              (act_fn): SiLU()\n",
      "            )\n",
      "            (input_layernorm): MistralRMSNorm()\n",
      "            (post_attention_layernorm): MistralRMSNorm()\n",
      "          )\n",
      "        )\n",
      "        (norm): MistralRMSNorm()\n",
      "      )\n",
      "      (lm_head): Linear(in_features=4096, out_features=32000, bias=False)\n",
      "    )\n",
      "  )\n",
      ")\n"
     ]
    }
   ],
   "source": [
    "print(model)"
   ]
  },
  {
   "cell_type": "code",
   "execution_count": 25,
   "id": "2fcbe8317af8659a",
   "metadata": {
    "collapsed": false,
    "ExecuteTime": {
     "end_time": "2024-06-15T15:21:40.001585800Z",
     "start_time": "2024-06-15T15:21:39.954031100Z"
    }
   },
   "outputs": [],
   "source": [
    "if torch.cuda.device_count() > 1:  # If more than 1 GPU\n",
    "    model.is_parallelizable = True\n",
    "    model.model_parallel = True"
   ]
  },
  {
   "cell_type": "code",
   "execution_count": 26,
   "id": "ec3566a59128b91",
   "metadata": {
    "collapsed": false,
    "ExecuteTime": {
     "end_time": "2024-06-15T15:21:40.004586200Z",
     "start_time": "2024-06-15T15:21:39.959576300Z"
    }
   },
   "outputs": [],
   "source": [
    "model = accelerator.prepare_model(model)"
   ]
  },
  {
   "cell_type": "code",
   "execution_count": 29,
   "id": "c48d66dfa4929c8f",
   "metadata": {
    "collapsed": false,
    "ExecuteTime": {
     "end_time": "2024-06-15T15:52:49.387311Z",
     "start_time": "2024-06-15T15:23:42.825305800Z"
    }
   },
   "outputs": [
    {
     "name": "stderr",
     "output_type": "stream",
     "text": [
      "C:\\Users\\Pumukl\\AppData\\Local\\Programs\\Python\\Python312\\Lib\\site-packages\\accelerate\\accelerator.py:436: FutureWarning: Passing the following arguments to `Accelerator` is deprecated and will be removed in version 1.0 of Accelerate: dict_keys(['dispatch_batches', 'split_batches', 'even_batches', 'use_seedable_sampler']). Please pass an `accelerate.DataLoaderConfiguration` instead: \n",
      "dataloader_config = DataLoaderConfiguration(dispatch_batches=None, split_batches=False, even_batches=True, use_seedable_sampler=True)\n",
      "  warnings.warn(\n",
      "C:\\Users\\Pumukl\\AppData\\Local\\Programs\\Python\\Python312\\Lib\\site-packages\\torch\\utils\\checkpoint.py:460: UserWarning: torch.utils.checkpoint: please pass in use_reentrant=True or use_reentrant=False explicitly. The default value of use_reentrant will be updated to be False in the future. To maintain current behavior, pass use_reentrant=True. It is recommended that you use use_reentrant=False. Refer to docs for more details on the differences between the two variants.\n",
      "  warnings.warn(\n"
     ]
    },
    {
     "data": {
      "text/plain": "<IPython.core.display.HTML object>",
      "text/html": "\n    <div>\n      \n      <progress value='11' max='360' style='width:300px; height:20px; vertical-align: middle;'></progress>\n      [ 11/360 00:45 < 29:15, 0.20 it/s, Epoch 0.25/9]\n    </div>\n    <table border=\"1\" class=\"dataframe\">\n  <thead>\n <tr style=\"text-align: left;\">\n      <th>Step</th>\n      <th>Training Loss</th>\n      <th>Validation Loss</th>\n    </tr>\n  </thead>\n  <tbody>\n    <tr>\n      <td>10</td>\n      <td>1.665500</td>\n      <td>1.674745</td>\n    </tr>\n  </tbody>\n</table><p>"
     },
     "metadata": {},
     "output_type": "display_data"
    },
    {
     "data": {
      "text/plain": "<IPython.core.display.HTML object>",
      "text/html": "\n    <div>\n      \n      <progress value='21' max='360' style='width:300px; height:20px; vertical-align: middle;'></progress>\n      [ 21/360 01:44 < 31:07, 0.18 it/s, Epoch 0.50/9]\n    </div>\n    <table border=\"1\" class=\"dataframe\">\n  <thead>\n <tr style=\"text-align: left;\">\n      <th>Step</th>\n      <th>Training Loss</th>\n      <th>Validation Loss</th>\n    </tr>\n  </thead>\n  <tbody>\n    <tr>\n      <td>10</td>\n      <td>1.665500</td>\n      <td>1.674745</td>\n    </tr>\n    <tr>\n      <td>20</td>\n      <td>1.568700</td>\n      <td>1.606281</td>\n    </tr>\n  </tbody>\n</table><p>"
     },
     "metadata": {},
     "output_type": "display_data"
    },
    {
     "data": {
      "text/plain": "<IPython.core.display.HTML object>",
      "text/html": "\n    <div>\n      \n      <progress value='31' max='360' style='width:300px; height:20px; vertical-align: middle;'></progress>\n      [ 31/360 02:42 < 30:41, 0.18 it/s, Epoch 0.75/9]\n    </div>\n    <table border=\"1\" class=\"dataframe\">\n  <thead>\n <tr style=\"text-align: left;\">\n      <th>Step</th>\n      <th>Training Loss</th>\n      <th>Validation Loss</th>\n    </tr>\n  </thead>\n  <tbody>\n    <tr>\n      <td>10</td>\n      <td>1.665500</td>\n      <td>1.674745</td>\n    </tr>\n    <tr>\n      <td>20</td>\n      <td>1.568700</td>\n      <td>1.606281</td>\n    </tr>\n    <tr>\n      <td>30</td>\n      <td>1.538300</td>\n      <td>1.548669</td>\n    </tr>\n  </tbody>\n</table><p>"
     },
     "metadata": {},
     "output_type": "display_data"
    },
    {
     "data": {
      "text/plain": "<IPython.core.display.HTML object>",
      "text/html": "\n    <div>\n      \n      <progress value='41' max='360' style='width:300px; height:20px; vertical-align: middle;'></progress>\n      [ 41/360 03:39 < 29:59, 0.18 it/s, Epoch 1/9]\n    </div>\n    <table border=\"1\" class=\"dataframe\">\n  <thead>\n <tr style=\"text-align: left;\">\n      <th>Step</th>\n      <th>Training Loss</th>\n      <th>Validation Loss</th>\n    </tr>\n  </thead>\n  <tbody>\n    <tr>\n      <td>10</td>\n      <td>1.665500</td>\n      <td>1.674745</td>\n    </tr>\n    <tr>\n      <td>20</td>\n      <td>1.568700</td>\n      <td>1.606281</td>\n    </tr>\n    <tr>\n      <td>30</td>\n      <td>1.538300</td>\n      <td>1.548669</td>\n    </tr>\n    <tr>\n      <td>40</td>\n      <td>1.442100</td>\n      <td>1.494075</td>\n    </tr>\n  </tbody>\n</table><p>"
     },
     "metadata": {},
     "output_type": "display_data"
    },
    {
     "data": {
      "text/plain": "<IPython.core.display.HTML object>",
      "text/html": "\n    <div>\n      \n      <progress value='51' max='360' style='width:300px; height:20px; vertical-align: middle;'></progress>\n      [ 51/360 04:37 < 29:10, 0.18 it/s, Epoch 1.25/9]\n    </div>\n    <table border=\"1\" class=\"dataframe\">\n  <thead>\n <tr style=\"text-align: left;\">\n      <th>Step</th>\n      <th>Training Loss</th>\n      <th>Validation Loss</th>\n    </tr>\n  </thead>\n  <tbody>\n    <tr>\n      <td>10</td>\n      <td>1.665500</td>\n      <td>1.674745</td>\n    </tr>\n    <tr>\n      <td>20</td>\n      <td>1.568700</td>\n      <td>1.606281</td>\n    </tr>\n    <tr>\n      <td>30</td>\n      <td>1.538300</td>\n      <td>1.548669</td>\n    </tr>\n    <tr>\n      <td>40</td>\n      <td>1.442100</td>\n      <td>1.494075</td>\n    </tr>\n    <tr>\n      <td>50</td>\n      <td>1.357800</td>\n      <td>1.442526</td>\n    </tr>\n  </tbody>\n</table><p>"
     },
     "metadata": {},
     "output_type": "display_data"
    },
    {
     "data": {
      "text/plain": "<IPython.core.display.HTML object>",
      "text/html": "\n    <div>\n      \n      <progress value='61' max='360' style='width:300px; height:20px; vertical-align: middle;'></progress>\n      [ 61/360 05:34 < 28:16, 0.18 it/s, Epoch 1.50/9]\n    </div>\n    <table border=\"1\" class=\"dataframe\">\n  <thead>\n <tr style=\"text-align: left;\">\n      <th>Step</th>\n      <th>Training Loss</th>\n      <th>Validation Loss</th>\n    </tr>\n  </thead>\n  <tbody>\n    <tr>\n      <td>10</td>\n      <td>1.665500</td>\n      <td>1.674745</td>\n    </tr>\n    <tr>\n      <td>20</td>\n      <td>1.568700</td>\n      <td>1.606281</td>\n    </tr>\n    <tr>\n      <td>30</td>\n      <td>1.538300</td>\n      <td>1.548669</td>\n    </tr>\n    <tr>\n      <td>40</td>\n      <td>1.442100</td>\n      <td>1.494075</td>\n    </tr>\n    <tr>\n      <td>50</td>\n      <td>1.357800</td>\n      <td>1.442526</td>\n    </tr>\n    <tr>\n      <td>60</td>\n      <td>1.387800</td>\n      <td>1.391700</td>\n    </tr>\n  </tbody>\n</table><p>"
     },
     "metadata": {},
     "output_type": "display_data"
    },
    {
     "data": {
      "text/plain": "<IPython.core.display.HTML object>",
      "text/html": "\n    <div>\n      \n      <progress value='71' max='360' style='width:300px; height:20px; vertical-align: middle;'></progress>\n      [ 71/360 06:32 < 27:24, 0.18 it/s, Epoch 1.75/9]\n    </div>\n    <table border=\"1\" class=\"dataframe\">\n  <thead>\n <tr style=\"text-align: left;\">\n      <th>Step</th>\n      <th>Training Loss</th>\n      <th>Validation Loss</th>\n    </tr>\n  </thead>\n  <tbody>\n    <tr>\n      <td>10</td>\n      <td>1.665500</td>\n      <td>1.674745</td>\n    </tr>\n    <tr>\n      <td>20</td>\n      <td>1.568700</td>\n      <td>1.606281</td>\n    </tr>\n    <tr>\n      <td>30</td>\n      <td>1.538300</td>\n      <td>1.548669</td>\n    </tr>\n    <tr>\n      <td>40</td>\n      <td>1.442100</td>\n      <td>1.494075</td>\n    </tr>\n    <tr>\n      <td>50</td>\n      <td>1.357800</td>\n      <td>1.442526</td>\n    </tr>\n    <tr>\n      <td>60</td>\n      <td>1.387800</td>\n      <td>1.391700</td>\n    </tr>\n    <tr>\n      <td>70</td>\n      <td>1.333500</td>\n      <td>1.338345</td>\n    </tr>\n  </tbody>\n</table><p>"
     },
     "metadata": {},
     "output_type": "display_data"
    },
    {
     "data": {
      "text/plain": "<IPython.core.display.HTML object>",
      "text/html": "\n    <div>\n      \n      <progress value='81' max='360' style='width:300px; height:20px; vertical-align: middle;'></progress>\n      [ 81/360 07:30 < 26:30, 0.18 it/s, Epoch 2/9]\n    </div>\n    <table border=\"1\" class=\"dataframe\">\n  <thead>\n <tr style=\"text-align: left;\">\n      <th>Step</th>\n      <th>Training Loss</th>\n      <th>Validation Loss</th>\n    </tr>\n  </thead>\n  <tbody>\n    <tr>\n      <td>10</td>\n      <td>1.665500</td>\n      <td>1.674745</td>\n    </tr>\n    <tr>\n      <td>20</td>\n      <td>1.568700</td>\n      <td>1.606281</td>\n    </tr>\n    <tr>\n      <td>30</td>\n      <td>1.538300</td>\n      <td>1.548669</td>\n    </tr>\n    <tr>\n      <td>40</td>\n      <td>1.442100</td>\n      <td>1.494075</td>\n    </tr>\n    <tr>\n      <td>50</td>\n      <td>1.357800</td>\n      <td>1.442526</td>\n    </tr>\n    <tr>\n      <td>60</td>\n      <td>1.387800</td>\n      <td>1.391700</td>\n    </tr>\n    <tr>\n      <td>70</td>\n      <td>1.333500</td>\n      <td>1.338345</td>\n    </tr>\n    <tr>\n      <td>80</td>\n      <td>1.147900</td>\n      <td>1.280149</td>\n    </tr>\n  </tbody>\n</table><p>"
     },
     "metadata": {},
     "output_type": "display_data"
    },
    {
     "data": {
      "text/plain": "<IPython.core.display.HTML object>",
      "text/html": "\n    <div>\n      \n      <progress value='91' max='360' style='width:300px; height:20px; vertical-align: middle;'></progress>\n      [ 91/360 08:27 < 25:34, 0.18 it/s, Epoch 2.25/9]\n    </div>\n    <table border=\"1\" class=\"dataframe\">\n  <thead>\n <tr style=\"text-align: left;\">\n      <th>Step</th>\n      <th>Training Loss</th>\n      <th>Validation Loss</th>\n    </tr>\n  </thead>\n  <tbody>\n    <tr>\n      <td>10</td>\n      <td>1.665500</td>\n      <td>1.674745</td>\n    </tr>\n    <tr>\n      <td>20</td>\n      <td>1.568700</td>\n      <td>1.606281</td>\n    </tr>\n    <tr>\n      <td>30</td>\n      <td>1.538300</td>\n      <td>1.548669</td>\n    </tr>\n    <tr>\n      <td>40</td>\n      <td>1.442100</td>\n      <td>1.494075</td>\n    </tr>\n    <tr>\n      <td>50</td>\n      <td>1.357800</td>\n      <td>1.442526</td>\n    </tr>\n    <tr>\n      <td>60</td>\n      <td>1.387800</td>\n      <td>1.391700</td>\n    </tr>\n    <tr>\n      <td>70</td>\n      <td>1.333500</td>\n      <td>1.338345</td>\n    </tr>\n    <tr>\n      <td>80</td>\n      <td>1.147900</td>\n      <td>1.280149</td>\n    </tr>\n    <tr>\n      <td>90</td>\n      <td>1.048600</td>\n      <td>1.227278</td>\n    </tr>\n  </tbody>\n</table><p>"
     },
     "metadata": {},
     "output_type": "display_data"
    },
    {
     "data": {
      "text/plain": "<IPython.core.display.HTML object>",
      "text/html": "\n    <div>\n      \n      <progress value='101' max='360' style='width:300px; height:20px; vertical-align: middle;'></progress>\n      [101/360 09:25 < 24:40, 0.17 it/s, Epoch 2.50/9]\n    </div>\n    <table border=\"1\" class=\"dataframe\">\n  <thead>\n <tr style=\"text-align: left;\">\n      <th>Step</th>\n      <th>Training Loss</th>\n      <th>Validation Loss</th>\n    </tr>\n  </thead>\n  <tbody>\n    <tr>\n      <td>10</td>\n      <td>1.665500</td>\n      <td>1.674745</td>\n    </tr>\n    <tr>\n      <td>20</td>\n      <td>1.568700</td>\n      <td>1.606281</td>\n    </tr>\n    <tr>\n      <td>30</td>\n      <td>1.538300</td>\n      <td>1.548669</td>\n    </tr>\n    <tr>\n      <td>40</td>\n      <td>1.442100</td>\n      <td>1.494075</td>\n    </tr>\n    <tr>\n      <td>50</td>\n      <td>1.357800</td>\n      <td>1.442526</td>\n    </tr>\n    <tr>\n      <td>60</td>\n      <td>1.387800</td>\n      <td>1.391700</td>\n    </tr>\n    <tr>\n      <td>70</td>\n      <td>1.333500</td>\n      <td>1.338345</td>\n    </tr>\n    <tr>\n      <td>80</td>\n      <td>1.147900</td>\n      <td>1.280149</td>\n    </tr>\n    <tr>\n      <td>90</td>\n      <td>1.048600</td>\n      <td>1.227278</td>\n    </tr>\n    <tr>\n      <td>100</td>\n      <td>1.227500</td>\n      <td>1.183610</td>\n    </tr>\n  </tbody>\n</table><p>"
     },
     "metadata": {},
     "output_type": "display_data"
    },
    {
     "data": {
      "text/plain": "<IPython.core.display.HTML object>",
      "text/html": "\n    <div>\n      \n      <progress value='111' max='360' style='width:300px; height:20px; vertical-align: middle;'></progress>\n      [111/360 10:22 < 23:41, 0.18 it/s, Epoch 2.75/9]\n    </div>\n    <table border=\"1\" class=\"dataframe\">\n  <thead>\n <tr style=\"text-align: left;\">\n      <th>Step</th>\n      <th>Training Loss</th>\n      <th>Validation Loss</th>\n    </tr>\n  </thead>\n  <tbody>\n    <tr>\n      <td>10</td>\n      <td>1.665500</td>\n      <td>1.674745</td>\n    </tr>\n    <tr>\n      <td>20</td>\n      <td>1.568700</td>\n      <td>1.606281</td>\n    </tr>\n    <tr>\n      <td>30</td>\n      <td>1.538300</td>\n      <td>1.548669</td>\n    </tr>\n    <tr>\n      <td>40</td>\n      <td>1.442100</td>\n      <td>1.494075</td>\n    </tr>\n    <tr>\n      <td>50</td>\n      <td>1.357800</td>\n      <td>1.442526</td>\n    </tr>\n    <tr>\n      <td>60</td>\n      <td>1.387800</td>\n      <td>1.391700</td>\n    </tr>\n    <tr>\n      <td>70</td>\n      <td>1.333500</td>\n      <td>1.338345</td>\n    </tr>\n    <tr>\n      <td>80</td>\n      <td>1.147900</td>\n      <td>1.280149</td>\n    </tr>\n    <tr>\n      <td>90</td>\n      <td>1.048600</td>\n      <td>1.227278</td>\n    </tr>\n    <tr>\n      <td>100</td>\n      <td>1.227500</td>\n      <td>1.183610</td>\n    </tr>\n    <tr>\n      <td>110</td>\n      <td>1.091000</td>\n      <td>1.143822</td>\n    </tr>\n  </tbody>\n</table><p>"
     },
     "metadata": {},
     "output_type": "display_data"
    },
    {
     "data": {
      "text/plain": "<IPython.core.display.HTML object>",
      "text/html": "\n    <div>\n      \n      <progress value='121' max='360' style='width:300px; height:20px; vertical-align: middle;'></progress>\n      [121/360 11:18 < 22:41, 0.18 it/s, Epoch 3/9]\n    </div>\n    <table border=\"1\" class=\"dataframe\">\n  <thead>\n <tr style=\"text-align: left;\">\n      <th>Step</th>\n      <th>Training Loss</th>\n      <th>Validation Loss</th>\n    </tr>\n  </thead>\n  <tbody>\n    <tr>\n      <td>10</td>\n      <td>1.665500</td>\n      <td>1.674745</td>\n    </tr>\n    <tr>\n      <td>20</td>\n      <td>1.568700</td>\n      <td>1.606281</td>\n    </tr>\n    <tr>\n      <td>30</td>\n      <td>1.538300</td>\n      <td>1.548669</td>\n    </tr>\n    <tr>\n      <td>40</td>\n      <td>1.442100</td>\n      <td>1.494075</td>\n    </tr>\n    <tr>\n      <td>50</td>\n      <td>1.357800</td>\n      <td>1.442526</td>\n    </tr>\n    <tr>\n      <td>60</td>\n      <td>1.387800</td>\n      <td>1.391700</td>\n    </tr>\n    <tr>\n      <td>70</td>\n      <td>1.333500</td>\n      <td>1.338345</td>\n    </tr>\n    <tr>\n      <td>80</td>\n      <td>1.147900</td>\n      <td>1.280149</td>\n    </tr>\n    <tr>\n      <td>90</td>\n      <td>1.048600</td>\n      <td>1.227278</td>\n    </tr>\n    <tr>\n      <td>100</td>\n      <td>1.227500</td>\n      <td>1.183610</td>\n    </tr>\n    <tr>\n      <td>110</td>\n      <td>1.091000</td>\n      <td>1.143822</td>\n    </tr>\n    <tr>\n      <td>120</td>\n      <td>0.969200</td>\n      <td>1.119932</td>\n    </tr>\n  </tbody>\n</table><p>"
     },
     "metadata": {},
     "output_type": "display_data"
    },
    {
     "data": {
      "text/plain": "<IPython.core.display.HTML object>",
      "text/html": "\n    <div>\n      \n      <progress value='131' max='360' style='width:300px; height:20px; vertical-align: middle;'></progress>\n      [131/360 12:14 < 21:43, 0.18 it/s, Epoch 3.25/9]\n    </div>\n    <table border=\"1\" class=\"dataframe\">\n  <thead>\n <tr style=\"text-align: left;\">\n      <th>Step</th>\n      <th>Training Loss</th>\n      <th>Validation Loss</th>\n    </tr>\n  </thead>\n  <tbody>\n    <tr>\n      <td>10</td>\n      <td>1.665500</td>\n      <td>1.674745</td>\n    </tr>\n    <tr>\n      <td>20</td>\n      <td>1.568700</td>\n      <td>1.606281</td>\n    </tr>\n    <tr>\n      <td>30</td>\n      <td>1.538300</td>\n      <td>1.548669</td>\n    </tr>\n    <tr>\n      <td>40</td>\n      <td>1.442100</td>\n      <td>1.494075</td>\n    </tr>\n    <tr>\n      <td>50</td>\n      <td>1.357800</td>\n      <td>1.442526</td>\n    </tr>\n    <tr>\n      <td>60</td>\n      <td>1.387800</td>\n      <td>1.391700</td>\n    </tr>\n    <tr>\n      <td>70</td>\n      <td>1.333500</td>\n      <td>1.338345</td>\n    </tr>\n    <tr>\n      <td>80</td>\n      <td>1.147900</td>\n      <td>1.280149</td>\n    </tr>\n    <tr>\n      <td>90</td>\n      <td>1.048600</td>\n      <td>1.227278</td>\n    </tr>\n    <tr>\n      <td>100</td>\n      <td>1.227500</td>\n      <td>1.183610</td>\n    </tr>\n    <tr>\n      <td>110</td>\n      <td>1.091000</td>\n      <td>1.143822</td>\n    </tr>\n    <tr>\n      <td>120</td>\n      <td>0.969200</td>\n      <td>1.119932</td>\n    </tr>\n    <tr>\n      <td>130</td>\n      <td>0.915000</td>\n      <td>1.104189</td>\n    </tr>\n  </tbody>\n</table><p>"
     },
     "metadata": {},
     "output_type": "display_data"
    },
    {
     "data": {
      "text/plain": "<IPython.core.display.HTML object>",
      "text/html": "\n    <div>\n      \n      <progress value='141' max='360' style='width:300px; height:20px; vertical-align: middle;'></progress>\n      [141/360 13:10 < 20:44, 0.18 it/s, Epoch 3.50/9]\n    </div>\n    <table border=\"1\" class=\"dataframe\">\n  <thead>\n <tr style=\"text-align: left;\">\n      <th>Step</th>\n      <th>Training Loss</th>\n      <th>Validation Loss</th>\n    </tr>\n  </thead>\n  <tbody>\n    <tr>\n      <td>10</td>\n      <td>1.665500</td>\n      <td>1.674745</td>\n    </tr>\n    <tr>\n      <td>20</td>\n      <td>1.568700</td>\n      <td>1.606281</td>\n    </tr>\n    <tr>\n      <td>30</td>\n      <td>1.538300</td>\n      <td>1.548669</td>\n    </tr>\n    <tr>\n      <td>40</td>\n      <td>1.442100</td>\n      <td>1.494075</td>\n    </tr>\n    <tr>\n      <td>50</td>\n      <td>1.357800</td>\n      <td>1.442526</td>\n    </tr>\n    <tr>\n      <td>60</td>\n      <td>1.387800</td>\n      <td>1.391700</td>\n    </tr>\n    <tr>\n      <td>70</td>\n      <td>1.333500</td>\n      <td>1.338345</td>\n    </tr>\n    <tr>\n      <td>80</td>\n      <td>1.147900</td>\n      <td>1.280149</td>\n    </tr>\n    <tr>\n      <td>90</td>\n      <td>1.048600</td>\n      <td>1.227278</td>\n    </tr>\n    <tr>\n      <td>100</td>\n      <td>1.227500</td>\n      <td>1.183610</td>\n    </tr>\n    <tr>\n      <td>110</td>\n      <td>1.091000</td>\n      <td>1.143822</td>\n    </tr>\n    <tr>\n      <td>120</td>\n      <td>0.969200</td>\n      <td>1.119932</td>\n    </tr>\n    <tr>\n      <td>130</td>\n      <td>0.915000</td>\n      <td>1.104189</td>\n    </tr>\n    <tr>\n      <td>140</td>\n      <td>0.985700</td>\n      <td>1.088730</td>\n    </tr>\n  </tbody>\n</table><p>"
     },
     "metadata": {},
     "output_type": "display_data"
    },
    {
     "data": {
      "text/plain": "<IPython.core.display.HTML object>",
      "text/html": "\n    <div>\n      \n      <progress value='151' max='360' style='width:300px; height:20px; vertical-align: middle;'></progress>\n      [151/360 14:06 < 19:47, 0.18 it/s, Epoch 3.75/9]\n    </div>\n    <table border=\"1\" class=\"dataframe\">\n  <thead>\n <tr style=\"text-align: left;\">\n      <th>Step</th>\n      <th>Training Loss</th>\n      <th>Validation Loss</th>\n    </tr>\n  </thead>\n  <tbody>\n    <tr>\n      <td>10</td>\n      <td>1.665500</td>\n      <td>1.674745</td>\n    </tr>\n    <tr>\n      <td>20</td>\n      <td>1.568700</td>\n      <td>1.606281</td>\n    </tr>\n    <tr>\n      <td>30</td>\n      <td>1.538300</td>\n      <td>1.548669</td>\n    </tr>\n    <tr>\n      <td>40</td>\n      <td>1.442100</td>\n      <td>1.494075</td>\n    </tr>\n    <tr>\n      <td>50</td>\n      <td>1.357800</td>\n      <td>1.442526</td>\n    </tr>\n    <tr>\n      <td>60</td>\n      <td>1.387800</td>\n      <td>1.391700</td>\n    </tr>\n    <tr>\n      <td>70</td>\n      <td>1.333500</td>\n      <td>1.338345</td>\n    </tr>\n    <tr>\n      <td>80</td>\n      <td>1.147900</td>\n      <td>1.280149</td>\n    </tr>\n    <tr>\n      <td>90</td>\n      <td>1.048600</td>\n      <td>1.227278</td>\n    </tr>\n    <tr>\n      <td>100</td>\n      <td>1.227500</td>\n      <td>1.183610</td>\n    </tr>\n    <tr>\n      <td>110</td>\n      <td>1.091000</td>\n      <td>1.143822</td>\n    </tr>\n    <tr>\n      <td>120</td>\n      <td>0.969200</td>\n      <td>1.119932</td>\n    </tr>\n    <tr>\n      <td>130</td>\n      <td>0.915000</td>\n      <td>1.104189</td>\n    </tr>\n    <tr>\n      <td>140</td>\n      <td>0.985700</td>\n      <td>1.088730</td>\n    </tr>\n    <tr>\n      <td>150</td>\n      <td>1.057000</td>\n      <td>1.076824</td>\n    </tr>\n  </tbody>\n</table><p>"
     },
     "metadata": {},
     "output_type": "display_data"
    },
    {
     "data": {
      "text/plain": "<IPython.core.display.HTML object>",
      "text/html": "\n    <div>\n      \n      <progress value='161' max='360' style='width:300px; height:20px; vertical-align: middle;'></progress>\n      [161/360 15:03 < 18:50, 0.18 it/s, Epoch 4/9]\n    </div>\n    <table border=\"1\" class=\"dataframe\">\n  <thead>\n <tr style=\"text-align: left;\">\n      <th>Step</th>\n      <th>Training Loss</th>\n      <th>Validation Loss</th>\n    </tr>\n  </thead>\n  <tbody>\n    <tr>\n      <td>10</td>\n      <td>1.665500</td>\n      <td>1.674745</td>\n    </tr>\n    <tr>\n      <td>20</td>\n      <td>1.568700</td>\n      <td>1.606281</td>\n    </tr>\n    <tr>\n      <td>30</td>\n      <td>1.538300</td>\n      <td>1.548669</td>\n    </tr>\n    <tr>\n      <td>40</td>\n      <td>1.442100</td>\n      <td>1.494075</td>\n    </tr>\n    <tr>\n      <td>50</td>\n      <td>1.357800</td>\n      <td>1.442526</td>\n    </tr>\n    <tr>\n      <td>60</td>\n      <td>1.387800</td>\n      <td>1.391700</td>\n    </tr>\n    <tr>\n      <td>70</td>\n      <td>1.333500</td>\n      <td>1.338345</td>\n    </tr>\n    <tr>\n      <td>80</td>\n      <td>1.147900</td>\n      <td>1.280149</td>\n    </tr>\n    <tr>\n      <td>90</td>\n      <td>1.048600</td>\n      <td>1.227278</td>\n    </tr>\n    <tr>\n      <td>100</td>\n      <td>1.227500</td>\n      <td>1.183610</td>\n    </tr>\n    <tr>\n      <td>110</td>\n      <td>1.091000</td>\n      <td>1.143822</td>\n    </tr>\n    <tr>\n      <td>120</td>\n      <td>0.969200</td>\n      <td>1.119932</td>\n    </tr>\n    <tr>\n      <td>130</td>\n      <td>0.915000</td>\n      <td>1.104189</td>\n    </tr>\n    <tr>\n      <td>140</td>\n      <td>0.985700</td>\n      <td>1.088730</td>\n    </tr>\n    <tr>\n      <td>150</td>\n      <td>1.057000</td>\n      <td>1.076824</td>\n    </tr>\n    <tr>\n      <td>160</td>\n      <td>0.906200</td>\n      <td>1.072441</td>\n    </tr>\n  </tbody>\n</table><p>"
     },
     "metadata": {},
     "output_type": "display_data"
    },
    {
     "data": {
      "text/plain": "<IPython.core.display.HTML object>",
      "text/html": "\n    <div>\n      \n      <progress value='171' max='360' style='width:300px; height:20px; vertical-align: middle;'></progress>\n      [171/360 15:59 < 17:53, 0.18 it/s, Epoch 4.25/9]\n    </div>\n    <table border=\"1\" class=\"dataframe\">\n  <thead>\n <tr style=\"text-align: left;\">\n      <th>Step</th>\n      <th>Training Loss</th>\n      <th>Validation Loss</th>\n    </tr>\n  </thead>\n  <tbody>\n    <tr>\n      <td>10</td>\n      <td>1.665500</td>\n      <td>1.674745</td>\n    </tr>\n    <tr>\n      <td>20</td>\n      <td>1.568700</td>\n      <td>1.606281</td>\n    </tr>\n    <tr>\n      <td>30</td>\n      <td>1.538300</td>\n      <td>1.548669</td>\n    </tr>\n    <tr>\n      <td>40</td>\n      <td>1.442100</td>\n      <td>1.494075</td>\n    </tr>\n    <tr>\n      <td>50</td>\n      <td>1.357800</td>\n      <td>1.442526</td>\n    </tr>\n    <tr>\n      <td>60</td>\n      <td>1.387800</td>\n      <td>1.391700</td>\n    </tr>\n    <tr>\n      <td>70</td>\n      <td>1.333500</td>\n      <td>1.338345</td>\n    </tr>\n    <tr>\n      <td>80</td>\n      <td>1.147900</td>\n      <td>1.280149</td>\n    </tr>\n    <tr>\n      <td>90</td>\n      <td>1.048600</td>\n      <td>1.227278</td>\n    </tr>\n    <tr>\n      <td>100</td>\n      <td>1.227500</td>\n      <td>1.183610</td>\n    </tr>\n    <tr>\n      <td>110</td>\n      <td>1.091000</td>\n      <td>1.143822</td>\n    </tr>\n    <tr>\n      <td>120</td>\n      <td>0.969200</td>\n      <td>1.119932</td>\n    </tr>\n    <tr>\n      <td>130</td>\n      <td>0.915000</td>\n      <td>1.104189</td>\n    </tr>\n    <tr>\n      <td>140</td>\n      <td>0.985700</td>\n      <td>1.088730</td>\n    </tr>\n    <tr>\n      <td>150</td>\n      <td>1.057000</td>\n      <td>1.076824</td>\n    </tr>\n    <tr>\n      <td>160</td>\n      <td>0.906200</td>\n      <td>1.072441</td>\n    </tr>\n    <tr>\n      <td>170</td>\n      <td>0.948800</td>\n      <td>1.069766</td>\n    </tr>\n  </tbody>\n</table><p>"
     },
     "metadata": {},
     "output_type": "display_data"
    },
    {
     "data": {
      "text/plain": "<IPython.core.display.HTML object>",
      "text/html": "\n    <div>\n      \n      <progress value='181' max='360' style='width:300px; height:20px; vertical-align: middle;'></progress>\n      [181/360 16:56 < 16:56, 0.18 it/s, Epoch 4.50/9]\n    </div>\n    <table border=\"1\" class=\"dataframe\">\n  <thead>\n <tr style=\"text-align: left;\">\n      <th>Step</th>\n      <th>Training Loss</th>\n      <th>Validation Loss</th>\n    </tr>\n  </thead>\n  <tbody>\n    <tr>\n      <td>10</td>\n      <td>1.665500</td>\n      <td>1.674745</td>\n    </tr>\n    <tr>\n      <td>20</td>\n      <td>1.568700</td>\n      <td>1.606281</td>\n    </tr>\n    <tr>\n      <td>30</td>\n      <td>1.538300</td>\n      <td>1.548669</td>\n    </tr>\n    <tr>\n      <td>40</td>\n      <td>1.442100</td>\n      <td>1.494075</td>\n    </tr>\n    <tr>\n      <td>50</td>\n      <td>1.357800</td>\n      <td>1.442526</td>\n    </tr>\n    <tr>\n      <td>60</td>\n      <td>1.387800</td>\n      <td>1.391700</td>\n    </tr>\n    <tr>\n      <td>70</td>\n      <td>1.333500</td>\n      <td>1.338345</td>\n    </tr>\n    <tr>\n      <td>80</td>\n      <td>1.147900</td>\n      <td>1.280149</td>\n    </tr>\n    <tr>\n      <td>90</td>\n      <td>1.048600</td>\n      <td>1.227278</td>\n    </tr>\n    <tr>\n      <td>100</td>\n      <td>1.227500</td>\n      <td>1.183610</td>\n    </tr>\n    <tr>\n      <td>110</td>\n      <td>1.091000</td>\n      <td>1.143822</td>\n    </tr>\n    <tr>\n      <td>120</td>\n      <td>0.969200</td>\n      <td>1.119932</td>\n    </tr>\n    <tr>\n      <td>130</td>\n      <td>0.915000</td>\n      <td>1.104189</td>\n    </tr>\n    <tr>\n      <td>140</td>\n      <td>0.985700</td>\n      <td>1.088730</td>\n    </tr>\n    <tr>\n      <td>150</td>\n      <td>1.057000</td>\n      <td>1.076824</td>\n    </tr>\n    <tr>\n      <td>160</td>\n      <td>0.906200</td>\n      <td>1.072441</td>\n    </tr>\n    <tr>\n      <td>170</td>\n      <td>0.948800</td>\n      <td>1.069766</td>\n    </tr>\n    <tr>\n      <td>180</td>\n      <td>0.857200</td>\n      <td>1.067846</td>\n    </tr>\n  </tbody>\n</table><p>"
     },
     "metadata": {},
     "output_type": "display_data"
    },
    {
     "data": {
      "text/plain": "<IPython.core.display.HTML object>",
      "text/html": "\n    <div>\n      \n      <progress value='191' max='360' style='width:300px; height:20px; vertical-align: middle;'></progress>\n      [191/360 17:53 < 15:59, 0.18 it/s, Epoch 4.75/9]\n    </div>\n    <table border=\"1\" class=\"dataframe\">\n  <thead>\n <tr style=\"text-align: left;\">\n      <th>Step</th>\n      <th>Training Loss</th>\n      <th>Validation Loss</th>\n    </tr>\n  </thead>\n  <tbody>\n    <tr>\n      <td>10</td>\n      <td>1.665500</td>\n      <td>1.674745</td>\n    </tr>\n    <tr>\n      <td>20</td>\n      <td>1.568700</td>\n      <td>1.606281</td>\n    </tr>\n    <tr>\n      <td>30</td>\n      <td>1.538300</td>\n      <td>1.548669</td>\n    </tr>\n    <tr>\n      <td>40</td>\n      <td>1.442100</td>\n      <td>1.494075</td>\n    </tr>\n    <tr>\n      <td>50</td>\n      <td>1.357800</td>\n      <td>1.442526</td>\n    </tr>\n    <tr>\n      <td>60</td>\n      <td>1.387800</td>\n      <td>1.391700</td>\n    </tr>\n    <tr>\n      <td>70</td>\n      <td>1.333500</td>\n      <td>1.338345</td>\n    </tr>\n    <tr>\n      <td>80</td>\n      <td>1.147900</td>\n      <td>1.280149</td>\n    </tr>\n    <tr>\n      <td>90</td>\n      <td>1.048600</td>\n      <td>1.227278</td>\n    </tr>\n    <tr>\n      <td>100</td>\n      <td>1.227500</td>\n      <td>1.183610</td>\n    </tr>\n    <tr>\n      <td>110</td>\n      <td>1.091000</td>\n      <td>1.143822</td>\n    </tr>\n    <tr>\n      <td>120</td>\n      <td>0.969200</td>\n      <td>1.119932</td>\n    </tr>\n    <tr>\n      <td>130</td>\n      <td>0.915000</td>\n      <td>1.104189</td>\n    </tr>\n    <tr>\n      <td>140</td>\n      <td>0.985700</td>\n      <td>1.088730</td>\n    </tr>\n    <tr>\n      <td>150</td>\n      <td>1.057000</td>\n      <td>1.076824</td>\n    </tr>\n    <tr>\n      <td>160</td>\n      <td>0.906200</td>\n      <td>1.072441</td>\n    </tr>\n    <tr>\n      <td>170</td>\n      <td>0.948800</td>\n      <td>1.069766</td>\n    </tr>\n    <tr>\n      <td>180</td>\n      <td>0.857200</td>\n      <td>1.067846</td>\n    </tr>\n    <tr>\n      <td>190</td>\n      <td>0.912300</td>\n      <td>1.065970</td>\n    </tr>\n  </tbody>\n</table><p>"
     },
     "metadata": {},
     "output_type": "display_data"
    },
    {
     "data": {
      "text/plain": "<IPython.core.display.HTML object>",
      "text/html": "\n    <div>\n      \n      <progress value='201' max='360' style='width:300px; height:20px; vertical-align: middle;'></progress>\n      [201/360 18:50 < 15:03, 0.18 it/s, Epoch 5/9]\n    </div>\n    <table border=\"1\" class=\"dataframe\">\n  <thead>\n <tr style=\"text-align: left;\">\n      <th>Step</th>\n      <th>Training Loss</th>\n      <th>Validation Loss</th>\n    </tr>\n  </thead>\n  <tbody>\n    <tr>\n      <td>10</td>\n      <td>1.665500</td>\n      <td>1.674745</td>\n    </tr>\n    <tr>\n      <td>20</td>\n      <td>1.568700</td>\n      <td>1.606281</td>\n    </tr>\n    <tr>\n      <td>30</td>\n      <td>1.538300</td>\n      <td>1.548669</td>\n    </tr>\n    <tr>\n      <td>40</td>\n      <td>1.442100</td>\n      <td>1.494075</td>\n    </tr>\n    <tr>\n      <td>50</td>\n      <td>1.357800</td>\n      <td>1.442526</td>\n    </tr>\n    <tr>\n      <td>60</td>\n      <td>1.387800</td>\n      <td>1.391700</td>\n    </tr>\n    <tr>\n      <td>70</td>\n      <td>1.333500</td>\n      <td>1.338345</td>\n    </tr>\n    <tr>\n      <td>80</td>\n      <td>1.147900</td>\n      <td>1.280149</td>\n    </tr>\n    <tr>\n      <td>90</td>\n      <td>1.048600</td>\n      <td>1.227278</td>\n    </tr>\n    <tr>\n      <td>100</td>\n      <td>1.227500</td>\n      <td>1.183610</td>\n    </tr>\n    <tr>\n      <td>110</td>\n      <td>1.091000</td>\n      <td>1.143822</td>\n    </tr>\n    <tr>\n      <td>120</td>\n      <td>0.969200</td>\n      <td>1.119932</td>\n    </tr>\n    <tr>\n      <td>130</td>\n      <td>0.915000</td>\n      <td>1.104189</td>\n    </tr>\n    <tr>\n      <td>140</td>\n      <td>0.985700</td>\n      <td>1.088730</td>\n    </tr>\n    <tr>\n      <td>150</td>\n      <td>1.057000</td>\n      <td>1.076824</td>\n    </tr>\n    <tr>\n      <td>160</td>\n      <td>0.906200</td>\n      <td>1.072441</td>\n    </tr>\n    <tr>\n      <td>170</td>\n      <td>0.948800</td>\n      <td>1.069766</td>\n    </tr>\n    <tr>\n      <td>180</td>\n      <td>0.857200</td>\n      <td>1.067846</td>\n    </tr>\n    <tr>\n      <td>190</td>\n      <td>0.912300</td>\n      <td>1.065970</td>\n    </tr>\n    <tr>\n      <td>200</td>\n      <td>0.993100</td>\n      <td>1.064132</td>\n    </tr>\n  </tbody>\n</table><p>"
     },
     "metadata": {},
     "output_type": "display_data"
    },
    {
     "data": {
      "text/plain": "<IPython.core.display.HTML object>",
      "text/html": "\n    <div>\n      \n      <progress value='211' max='360' style='width:300px; height:20px; vertical-align: middle;'></progress>\n      [211/360 19:46 < 14:06, 0.18 it/s, Epoch 5.25/9]\n    </div>\n    <table border=\"1\" class=\"dataframe\">\n  <thead>\n <tr style=\"text-align: left;\">\n      <th>Step</th>\n      <th>Training Loss</th>\n      <th>Validation Loss</th>\n    </tr>\n  </thead>\n  <tbody>\n    <tr>\n      <td>10</td>\n      <td>1.665500</td>\n      <td>1.674745</td>\n    </tr>\n    <tr>\n      <td>20</td>\n      <td>1.568700</td>\n      <td>1.606281</td>\n    </tr>\n    <tr>\n      <td>30</td>\n      <td>1.538300</td>\n      <td>1.548669</td>\n    </tr>\n    <tr>\n      <td>40</td>\n      <td>1.442100</td>\n      <td>1.494075</td>\n    </tr>\n    <tr>\n      <td>50</td>\n      <td>1.357800</td>\n      <td>1.442526</td>\n    </tr>\n    <tr>\n      <td>60</td>\n      <td>1.387800</td>\n      <td>1.391700</td>\n    </tr>\n    <tr>\n      <td>70</td>\n      <td>1.333500</td>\n      <td>1.338345</td>\n    </tr>\n    <tr>\n      <td>80</td>\n      <td>1.147900</td>\n      <td>1.280149</td>\n    </tr>\n    <tr>\n      <td>90</td>\n      <td>1.048600</td>\n      <td>1.227278</td>\n    </tr>\n    <tr>\n      <td>100</td>\n      <td>1.227500</td>\n      <td>1.183610</td>\n    </tr>\n    <tr>\n      <td>110</td>\n      <td>1.091000</td>\n      <td>1.143822</td>\n    </tr>\n    <tr>\n      <td>120</td>\n      <td>0.969200</td>\n      <td>1.119932</td>\n    </tr>\n    <tr>\n      <td>130</td>\n      <td>0.915000</td>\n      <td>1.104189</td>\n    </tr>\n    <tr>\n      <td>140</td>\n      <td>0.985700</td>\n      <td>1.088730</td>\n    </tr>\n    <tr>\n      <td>150</td>\n      <td>1.057000</td>\n      <td>1.076824</td>\n    </tr>\n    <tr>\n      <td>160</td>\n      <td>0.906200</td>\n      <td>1.072441</td>\n    </tr>\n    <tr>\n      <td>170</td>\n      <td>0.948800</td>\n      <td>1.069766</td>\n    </tr>\n    <tr>\n      <td>180</td>\n      <td>0.857200</td>\n      <td>1.067846</td>\n    </tr>\n    <tr>\n      <td>190</td>\n      <td>0.912300</td>\n      <td>1.065970</td>\n    </tr>\n    <tr>\n      <td>200</td>\n      <td>0.993100</td>\n      <td>1.064132</td>\n    </tr>\n    <tr>\n      <td>210</td>\n      <td>0.825900</td>\n      <td>1.063723</td>\n    </tr>\n  </tbody>\n</table><p>"
     },
     "metadata": {},
     "output_type": "display_data"
    },
    {
     "data": {
      "text/plain": "<IPython.core.display.HTML object>",
      "text/html": "\n    <div>\n      \n      <progress value='221' max='360' style='width:300px; height:20px; vertical-align: middle;'></progress>\n      [221/360 20:44 < 13:09, 0.18 it/s, Epoch 5.50/9]\n    </div>\n    <table border=\"1\" class=\"dataframe\">\n  <thead>\n <tr style=\"text-align: left;\">\n      <th>Step</th>\n      <th>Training Loss</th>\n      <th>Validation Loss</th>\n    </tr>\n  </thead>\n  <tbody>\n    <tr>\n      <td>10</td>\n      <td>1.665500</td>\n      <td>1.674745</td>\n    </tr>\n    <tr>\n      <td>20</td>\n      <td>1.568700</td>\n      <td>1.606281</td>\n    </tr>\n    <tr>\n      <td>30</td>\n      <td>1.538300</td>\n      <td>1.548669</td>\n    </tr>\n    <tr>\n      <td>40</td>\n      <td>1.442100</td>\n      <td>1.494075</td>\n    </tr>\n    <tr>\n      <td>50</td>\n      <td>1.357800</td>\n      <td>1.442526</td>\n    </tr>\n    <tr>\n      <td>60</td>\n      <td>1.387800</td>\n      <td>1.391700</td>\n    </tr>\n    <tr>\n      <td>70</td>\n      <td>1.333500</td>\n      <td>1.338345</td>\n    </tr>\n    <tr>\n      <td>80</td>\n      <td>1.147900</td>\n      <td>1.280149</td>\n    </tr>\n    <tr>\n      <td>90</td>\n      <td>1.048600</td>\n      <td>1.227278</td>\n    </tr>\n    <tr>\n      <td>100</td>\n      <td>1.227500</td>\n      <td>1.183610</td>\n    </tr>\n    <tr>\n      <td>110</td>\n      <td>1.091000</td>\n      <td>1.143822</td>\n    </tr>\n    <tr>\n      <td>120</td>\n      <td>0.969200</td>\n      <td>1.119932</td>\n    </tr>\n    <tr>\n      <td>130</td>\n      <td>0.915000</td>\n      <td>1.104189</td>\n    </tr>\n    <tr>\n      <td>140</td>\n      <td>0.985700</td>\n      <td>1.088730</td>\n    </tr>\n    <tr>\n      <td>150</td>\n      <td>1.057000</td>\n      <td>1.076824</td>\n    </tr>\n    <tr>\n      <td>160</td>\n      <td>0.906200</td>\n      <td>1.072441</td>\n    </tr>\n    <tr>\n      <td>170</td>\n      <td>0.948800</td>\n      <td>1.069766</td>\n    </tr>\n    <tr>\n      <td>180</td>\n      <td>0.857200</td>\n      <td>1.067846</td>\n    </tr>\n    <tr>\n      <td>190</td>\n      <td>0.912300</td>\n      <td>1.065970</td>\n    </tr>\n    <tr>\n      <td>200</td>\n      <td>0.993100</td>\n      <td>1.064132</td>\n    </tr>\n    <tr>\n      <td>210</td>\n      <td>0.825900</td>\n      <td>1.063723</td>\n    </tr>\n    <tr>\n      <td>220</td>\n      <td>0.830700</td>\n      <td>1.062869</td>\n    </tr>\n  </tbody>\n</table><p>"
     },
     "metadata": {},
     "output_type": "display_data"
    },
    {
     "data": {
      "text/plain": "<IPython.core.display.HTML object>",
      "text/html": "\n    <div>\n      \n      <progress value='231' max='360' style='width:300px; height:20px; vertical-align: middle;'></progress>\n      [231/360 21:43 < 12:14, 0.18 it/s, Epoch 5.75/9]\n    </div>\n    <table border=\"1\" class=\"dataframe\">\n  <thead>\n <tr style=\"text-align: left;\">\n      <th>Step</th>\n      <th>Training Loss</th>\n      <th>Validation Loss</th>\n    </tr>\n  </thead>\n  <tbody>\n    <tr>\n      <td>10</td>\n      <td>1.665500</td>\n      <td>1.674745</td>\n    </tr>\n    <tr>\n      <td>20</td>\n      <td>1.568700</td>\n      <td>1.606281</td>\n    </tr>\n    <tr>\n      <td>30</td>\n      <td>1.538300</td>\n      <td>1.548669</td>\n    </tr>\n    <tr>\n      <td>40</td>\n      <td>1.442100</td>\n      <td>1.494075</td>\n    </tr>\n    <tr>\n      <td>50</td>\n      <td>1.357800</td>\n      <td>1.442526</td>\n    </tr>\n    <tr>\n      <td>60</td>\n      <td>1.387800</td>\n      <td>1.391700</td>\n    </tr>\n    <tr>\n      <td>70</td>\n      <td>1.333500</td>\n      <td>1.338345</td>\n    </tr>\n    <tr>\n      <td>80</td>\n      <td>1.147900</td>\n      <td>1.280149</td>\n    </tr>\n    <tr>\n      <td>90</td>\n      <td>1.048600</td>\n      <td>1.227278</td>\n    </tr>\n    <tr>\n      <td>100</td>\n      <td>1.227500</td>\n      <td>1.183610</td>\n    </tr>\n    <tr>\n      <td>110</td>\n      <td>1.091000</td>\n      <td>1.143822</td>\n    </tr>\n    <tr>\n      <td>120</td>\n      <td>0.969200</td>\n      <td>1.119932</td>\n    </tr>\n    <tr>\n      <td>130</td>\n      <td>0.915000</td>\n      <td>1.104189</td>\n    </tr>\n    <tr>\n      <td>140</td>\n      <td>0.985700</td>\n      <td>1.088730</td>\n    </tr>\n    <tr>\n      <td>150</td>\n      <td>1.057000</td>\n      <td>1.076824</td>\n    </tr>\n    <tr>\n      <td>160</td>\n      <td>0.906200</td>\n      <td>1.072441</td>\n    </tr>\n    <tr>\n      <td>170</td>\n      <td>0.948800</td>\n      <td>1.069766</td>\n    </tr>\n    <tr>\n      <td>180</td>\n      <td>0.857200</td>\n      <td>1.067846</td>\n    </tr>\n    <tr>\n      <td>190</td>\n      <td>0.912300</td>\n      <td>1.065970</td>\n    </tr>\n    <tr>\n      <td>200</td>\n      <td>0.993100</td>\n      <td>1.064132</td>\n    </tr>\n    <tr>\n      <td>210</td>\n      <td>0.825900</td>\n      <td>1.063723</td>\n    </tr>\n    <tr>\n      <td>220</td>\n      <td>0.830700</td>\n      <td>1.062869</td>\n    </tr>\n    <tr>\n      <td>230</td>\n      <td>1.086100</td>\n      <td>1.061481</td>\n    </tr>\n  </tbody>\n</table><p>"
     },
     "metadata": {},
     "output_type": "display_data"
    },
    {
     "data": {
      "text/plain": "<IPython.core.display.HTML object>",
      "text/html": "\n    <div>\n      \n      <progress value='241' max='360' style='width:300px; height:20px; vertical-align: middle;'></progress>\n      [241/360 22:41 < 11:18, 0.18 it/s, Epoch 6/9]\n    </div>\n    <table border=\"1\" class=\"dataframe\">\n  <thead>\n <tr style=\"text-align: left;\">\n      <th>Step</th>\n      <th>Training Loss</th>\n      <th>Validation Loss</th>\n    </tr>\n  </thead>\n  <tbody>\n    <tr>\n      <td>10</td>\n      <td>1.665500</td>\n      <td>1.674745</td>\n    </tr>\n    <tr>\n      <td>20</td>\n      <td>1.568700</td>\n      <td>1.606281</td>\n    </tr>\n    <tr>\n      <td>30</td>\n      <td>1.538300</td>\n      <td>1.548669</td>\n    </tr>\n    <tr>\n      <td>40</td>\n      <td>1.442100</td>\n      <td>1.494075</td>\n    </tr>\n    <tr>\n      <td>50</td>\n      <td>1.357800</td>\n      <td>1.442526</td>\n    </tr>\n    <tr>\n      <td>60</td>\n      <td>1.387800</td>\n      <td>1.391700</td>\n    </tr>\n    <tr>\n      <td>70</td>\n      <td>1.333500</td>\n      <td>1.338345</td>\n    </tr>\n    <tr>\n      <td>80</td>\n      <td>1.147900</td>\n      <td>1.280149</td>\n    </tr>\n    <tr>\n      <td>90</td>\n      <td>1.048600</td>\n      <td>1.227278</td>\n    </tr>\n    <tr>\n      <td>100</td>\n      <td>1.227500</td>\n      <td>1.183610</td>\n    </tr>\n    <tr>\n      <td>110</td>\n      <td>1.091000</td>\n      <td>1.143822</td>\n    </tr>\n    <tr>\n      <td>120</td>\n      <td>0.969200</td>\n      <td>1.119932</td>\n    </tr>\n    <tr>\n      <td>130</td>\n      <td>0.915000</td>\n      <td>1.104189</td>\n    </tr>\n    <tr>\n      <td>140</td>\n      <td>0.985700</td>\n      <td>1.088730</td>\n    </tr>\n    <tr>\n      <td>150</td>\n      <td>1.057000</td>\n      <td>1.076824</td>\n    </tr>\n    <tr>\n      <td>160</td>\n      <td>0.906200</td>\n      <td>1.072441</td>\n    </tr>\n    <tr>\n      <td>170</td>\n      <td>0.948800</td>\n      <td>1.069766</td>\n    </tr>\n    <tr>\n      <td>180</td>\n      <td>0.857200</td>\n      <td>1.067846</td>\n    </tr>\n    <tr>\n      <td>190</td>\n      <td>0.912300</td>\n      <td>1.065970</td>\n    </tr>\n    <tr>\n      <td>200</td>\n      <td>0.993100</td>\n      <td>1.064132</td>\n    </tr>\n    <tr>\n      <td>210</td>\n      <td>0.825900</td>\n      <td>1.063723</td>\n    </tr>\n    <tr>\n      <td>220</td>\n      <td>0.830700</td>\n      <td>1.062869</td>\n    </tr>\n    <tr>\n      <td>230</td>\n      <td>1.086100</td>\n      <td>1.061481</td>\n    </tr>\n    <tr>\n      <td>240</td>\n      <td>0.890700</td>\n      <td>1.060101</td>\n    </tr>\n  </tbody>\n</table><p>"
     },
     "metadata": {},
     "output_type": "display_data"
    },
    {
     "data": {
      "text/plain": "<IPython.core.display.HTML object>",
      "text/html": "\n    <div>\n      \n      <progress value='251' max='360' style='width:300px; height:20px; vertical-align: middle;'></progress>\n      [251/360 23:42 < 10:22, 0.18 it/s, Epoch 6.25/9]\n    </div>\n    <table border=\"1\" class=\"dataframe\">\n  <thead>\n <tr style=\"text-align: left;\">\n      <th>Step</th>\n      <th>Training Loss</th>\n      <th>Validation Loss</th>\n    </tr>\n  </thead>\n  <tbody>\n    <tr>\n      <td>10</td>\n      <td>1.665500</td>\n      <td>1.674745</td>\n    </tr>\n    <tr>\n      <td>20</td>\n      <td>1.568700</td>\n      <td>1.606281</td>\n    </tr>\n    <tr>\n      <td>30</td>\n      <td>1.538300</td>\n      <td>1.548669</td>\n    </tr>\n    <tr>\n      <td>40</td>\n      <td>1.442100</td>\n      <td>1.494075</td>\n    </tr>\n    <tr>\n      <td>50</td>\n      <td>1.357800</td>\n      <td>1.442526</td>\n    </tr>\n    <tr>\n      <td>60</td>\n      <td>1.387800</td>\n      <td>1.391700</td>\n    </tr>\n    <tr>\n      <td>70</td>\n      <td>1.333500</td>\n      <td>1.338345</td>\n    </tr>\n    <tr>\n      <td>80</td>\n      <td>1.147900</td>\n      <td>1.280149</td>\n    </tr>\n    <tr>\n      <td>90</td>\n      <td>1.048600</td>\n      <td>1.227278</td>\n    </tr>\n    <tr>\n      <td>100</td>\n      <td>1.227500</td>\n      <td>1.183610</td>\n    </tr>\n    <tr>\n      <td>110</td>\n      <td>1.091000</td>\n      <td>1.143822</td>\n    </tr>\n    <tr>\n      <td>120</td>\n      <td>0.969200</td>\n      <td>1.119932</td>\n    </tr>\n    <tr>\n      <td>130</td>\n      <td>0.915000</td>\n      <td>1.104189</td>\n    </tr>\n    <tr>\n      <td>140</td>\n      <td>0.985700</td>\n      <td>1.088730</td>\n    </tr>\n    <tr>\n      <td>150</td>\n      <td>1.057000</td>\n      <td>1.076824</td>\n    </tr>\n    <tr>\n      <td>160</td>\n      <td>0.906200</td>\n      <td>1.072441</td>\n    </tr>\n    <tr>\n      <td>170</td>\n      <td>0.948800</td>\n      <td>1.069766</td>\n    </tr>\n    <tr>\n      <td>180</td>\n      <td>0.857200</td>\n      <td>1.067846</td>\n    </tr>\n    <tr>\n      <td>190</td>\n      <td>0.912300</td>\n      <td>1.065970</td>\n    </tr>\n    <tr>\n      <td>200</td>\n      <td>0.993100</td>\n      <td>1.064132</td>\n    </tr>\n    <tr>\n      <td>210</td>\n      <td>0.825900</td>\n      <td>1.063723</td>\n    </tr>\n    <tr>\n      <td>220</td>\n      <td>0.830700</td>\n      <td>1.062869</td>\n    </tr>\n    <tr>\n      <td>230</td>\n      <td>1.086100</td>\n      <td>1.061481</td>\n    </tr>\n    <tr>\n      <td>240</td>\n      <td>0.890700</td>\n      <td>1.060101</td>\n    </tr>\n    <tr>\n      <td>250</td>\n      <td>0.803400</td>\n      <td>1.059229</td>\n    </tr>\n  </tbody>\n</table><p>"
     },
     "metadata": {},
     "output_type": "display_data"
    },
    {
     "data": {
      "text/plain": "<IPython.core.display.HTML object>",
      "text/html": "\n    <div>\n      \n      <progress value='261' max='360' style='width:300px; height:20px; vertical-align: middle;'></progress>\n      [261/360 24:55 < 09:31, 0.17 it/s, Epoch 6.50/9]\n    </div>\n    <table border=\"1\" class=\"dataframe\">\n  <thead>\n <tr style=\"text-align: left;\">\n      <th>Step</th>\n      <th>Training Loss</th>\n      <th>Validation Loss</th>\n    </tr>\n  </thead>\n  <tbody>\n    <tr>\n      <td>10</td>\n      <td>1.665500</td>\n      <td>1.674745</td>\n    </tr>\n    <tr>\n      <td>20</td>\n      <td>1.568700</td>\n      <td>1.606281</td>\n    </tr>\n    <tr>\n      <td>30</td>\n      <td>1.538300</td>\n      <td>1.548669</td>\n    </tr>\n    <tr>\n      <td>40</td>\n      <td>1.442100</td>\n      <td>1.494075</td>\n    </tr>\n    <tr>\n      <td>50</td>\n      <td>1.357800</td>\n      <td>1.442526</td>\n    </tr>\n    <tr>\n      <td>60</td>\n      <td>1.387800</td>\n      <td>1.391700</td>\n    </tr>\n    <tr>\n      <td>70</td>\n      <td>1.333500</td>\n      <td>1.338345</td>\n    </tr>\n    <tr>\n      <td>80</td>\n      <td>1.147900</td>\n      <td>1.280149</td>\n    </tr>\n    <tr>\n      <td>90</td>\n      <td>1.048600</td>\n      <td>1.227278</td>\n    </tr>\n    <tr>\n      <td>100</td>\n      <td>1.227500</td>\n      <td>1.183610</td>\n    </tr>\n    <tr>\n      <td>110</td>\n      <td>1.091000</td>\n      <td>1.143822</td>\n    </tr>\n    <tr>\n      <td>120</td>\n      <td>0.969200</td>\n      <td>1.119932</td>\n    </tr>\n    <tr>\n      <td>130</td>\n      <td>0.915000</td>\n      <td>1.104189</td>\n    </tr>\n    <tr>\n      <td>140</td>\n      <td>0.985700</td>\n      <td>1.088730</td>\n    </tr>\n    <tr>\n      <td>150</td>\n      <td>1.057000</td>\n      <td>1.076824</td>\n    </tr>\n    <tr>\n      <td>160</td>\n      <td>0.906200</td>\n      <td>1.072441</td>\n    </tr>\n    <tr>\n      <td>170</td>\n      <td>0.948800</td>\n      <td>1.069766</td>\n    </tr>\n    <tr>\n      <td>180</td>\n      <td>0.857200</td>\n      <td>1.067846</td>\n    </tr>\n    <tr>\n      <td>190</td>\n      <td>0.912300</td>\n      <td>1.065970</td>\n    </tr>\n    <tr>\n      <td>200</td>\n      <td>0.993100</td>\n      <td>1.064132</td>\n    </tr>\n    <tr>\n      <td>210</td>\n      <td>0.825900</td>\n      <td>1.063723</td>\n    </tr>\n    <tr>\n      <td>220</td>\n      <td>0.830700</td>\n      <td>1.062869</td>\n    </tr>\n    <tr>\n      <td>230</td>\n      <td>1.086100</td>\n      <td>1.061481</td>\n    </tr>\n    <tr>\n      <td>240</td>\n      <td>0.890700</td>\n      <td>1.060101</td>\n    </tr>\n    <tr>\n      <td>250</td>\n      <td>0.803400</td>\n      <td>1.059229</td>\n    </tr>\n    <tr>\n      <td>260</td>\n      <td>0.900500</td>\n      <td>1.058938</td>\n    </tr>\n  </tbody>\n</table><p>"
     },
     "metadata": {},
     "output_type": "display_data"
    },
    {
     "data": {
      "text/plain": "<IPython.core.display.HTML object>",
      "text/html": "\n    <div>\n      \n      <progress value='271' max='360' style='width:300px; height:20px; vertical-align: middle;'></progress>\n      [271/360 26:14 < 08:41, 0.17 it/s, Epoch 6.75/9]\n    </div>\n    <table border=\"1\" class=\"dataframe\">\n  <thead>\n <tr style=\"text-align: left;\">\n      <th>Step</th>\n      <th>Training Loss</th>\n      <th>Validation Loss</th>\n    </tr>\n  </thead>\n  <tbody>\n    <tr>\n      <td>10</td>\n      <td>1.665500</td>\n      <td>1.674745</td>\n    </tr>\n    <tr>\n      <td>20</td>\n      <td>1.568700</td>\n      <td>1.606281</td>\n    </tr>\n    <tr>\n      <td>30</td>\n      <td>1.538300</td>\n      <td>1.548669</td>\n    </tr>\n    <tr>\n      <td>40</td>\n      <td>1.442100</td>\n      <td>1.494075</td>\n    </tr>\n    <tr>\n      <td>50</td>\n      <td>1.357800</td>\n      <td>1.442526</td>\n    </tr>\n    <tr>\n      <td>60</td>\n      <td>1.387800</td>\n      <td>1.391700</td>\n    </tr>\n    <tr>\n      <td>70</td>\n      <td>1.333500</td>\n      <td>1.338345</td>\n    </tr>\n    <tr>\n      <td>80</td>\n      <td>1.147900</td>\n      <td>1.280149</td>\n    </tr>\n    <tr>\n      <td>90</td>\n      <td>1.048600</td>\n      <td>1.227278</td>\n    </tr>\n    <tr>\n      <td>100</td>\n      <td>1.227500</td>\n      <td>1.183610</td>\n    </tr>\n    <tr>\n      <td>110</td>\n      <td>1.091000</td>\n      <td>1.143822</td>\n    </tr>\n    <tr>\n      <td>120</td>\n      <td>0.969200</td>\n      <td>1.119932</td>\n    </tr>\n    <tr>\n      <td>130</td>\n      <td>0.915000</td>\n      <td>1.104189</td>\n    </tr>\n    <tr>\n      <td>140</td>\n      <td>0.985700</td>\n      <td>1.088730</td>\n    </tr>\n    <tr>\n      <td>150</td>\n      <td>1.057000</td>\n      <td>1.076824</td>\n    </tr>\n    <tr>\n      <td>160</td>\n      <td>0.906200</td>\n      <td>1.072441</td>\n    </tr>\n    <tr>\n      <td>170</td>\n      <td>0.948800</td>\n      <td>1.069766</td>\n    </tr>\n    <tr>\n      <td>180</td>\n      <td>0.857200</td>\n      <td>1.067846</td>\n    </tr>\n    <tr>\n      <td>190</td>\n      <td>0.912300</td>\n      <td>1.065970</td>\n    </tr>\n    <tr>\n      <td>200</td>\n      <td>0.993100</td>\n      <td>1.064132</td>\n    </tr>\n    <tr>\n      <td>210</td>\n      <td>0.825900</td>\n      <td>1.063723</td>\n    </tr>\n    <tr>\n      <td>220</td>\n      <td>0.830700</td>\n      <td>1.062869</td>\n    </tr>\n    <tr>\n      <td>230</td>\n      <td>1.086100</td>\n      <td>1.061481</td>\n    </tr>\n    <tr>\n      <td>240</td>\n      <td>0.890700</td>\n      <td>1.060101</td>\n    </tr>\n    <tr>\n      <td>250</td>\n      <td>0.803400</td>\n      <td>1.059229</td>\n    </tr>\n    <tr>\n      <td>260</td>\n      <td>0.900500</td>\n      <td>1.058938</td>\n    </tr>\n    <tr>\n      <td>270</td>\n      <td>0.858800</td>\n      <td>1.058400</td>\n    </tr>\n  </tbody>\n</table><p>"
     },
     "metadata": {},
     "output_type": "display_data"
    },
    {
     "data": {
      "text/plain": "<IPython.core.display.HTML object>",
      "text/html": "\n    <div>\n      \n      <progress value='281' max='360' style='width:300px; height:20px; vertical-align: middle;'></progress>\n      [281/360 27:31 < 07:47, 0.17 it/s, Epoch 7/9]\n    </div>\n    <table border=\"1\" class=\"dataframe\">\n  <thead>\n <tr style=\"text-align: left;\">\n      <th>Step</th>\n      <th>Training Loss</th>\n      <th>Validation Loss</th>\n    </tr>\n  </thead>\n  <tbody>\n    <tr>\n      <td>10</td>\n      <td>1.665500</td>\n      <td>1.674745</td>\n    </tr>\n    <tr>\n      <td>20</td>\n      <td>1.568700</td>\n      <td>1.606281</td>\n    </tr>\n    <tr>\n      <td>30</td>\n      <td>1.538300</td>\n      <td>1.548669</td>\n    </tr>\n    <tr>\n      <td>40</td>\n      <td>1.442100</td>\n      <td>1.494075</td>\n    </tr>\n    <tr>\n      <td>50</td>\n      <td>1.357800</td>\n      <td>1.442526</td>\n    </tr>\n    <tr>\n      <td>60</td>\n      <td>1.387800</td>\n      <td>1.391700</td>\n    </tr>\n    <tr>\n      <td>70</td>\n      <td>1.333500</td>\n      <td>1.338345</td>\n    </tr>\n    <tr>\n      <td>80</td>\n      <td>1.147900</td>\n      <td>1.280149</td>\n    </tr>\n    <tr>\n      <td>90</td>\n      <td>1.048600</td>\n      <td>1.227278</td>\n    </tr>\n    <tr>\n      <td>100</td>\n      <td>1.227500</td>\n      <td>1.183610</td>\n    </tr>\n    <tr>\n      <td>110</td>\n      <td>1.091000</td>\n      <td>1.143822</td>\n    </tr>\n    <tr>\n      <td>120</td>\n      <td>0.969200</td>\n      <td>1.119932</td>\n    </tr>\n    <tr>\n      <td>130</td>\n      <td>0.915000</td>\n      <td>1.104189</td>\n    </tr>\n    <tr>\n      <td>140</td>\n      <td>0.985700</td>\n      <td>1.088730</td>\n    </tr>\n    <tr>\n      <td>150</td>\n      <td>1.057000</td>\n      <td>1.076824</td>\n    </tr>\n    <tr>\n      <td>160</td>\n      <td>0.906200</td>\n      <td>1.072441</td>\n    </tr>\n    <tr>\n      <td>170</td>\n      <td>0.948800</td>\n      <td>1.069766</td>\n    </tr>\n    <tr>\n      <td>180</td>\n      <td>0.857200</td>\n      <td>1.067846</td>\n    </tr>\n    <tr>\n      <td>190</td>\n      <td>0.912300</td>\n      <td>1.065970</td>\n    </tr>\n    <tr>\n      <td>200</td>\n      <td>0.993100</td>\n      <td>1.064132</td>\n    </tr>\n    <tr>\n      <td>210</td>\n      <td>0.825900</td>\n      <td>1.063723</td>\n    </tr>\n    <tr>\n      <td>220</td>\n      <td>0.830700</td>\n      <td>1.062869</td>\n    </tr>\n    <tr>\n      <td>230</td>\n      <td>1.086100</td>\n      <td>1.061481</td>\n    </tr>\n    <tr>\n      <td>240</td>\n      <td>0.890700</td>\n      <td>1.060101</td>\n    </tr>\n    <tr>\n      <td>250</td>\n      <td>0.803400</td>\n      <td>1.059229</td>\n    </tr>\n    <tr>\n      <td>260</td>\n      <td>0.900500</td>\n      <td>1.058938</td>\n    </tr>\n    <tr>\n      <td>270</td>\n      <td>0.858800</td>\n      <td>1.058400</td>\n    </tr>\n    <tr>\n      <td>280</td>\n      <td>1.014500</td>\n      <td>1.057999</td>\n    </tr>\n  </tbody>\n</table><p>"
     },
     "metadata": {},
     "output_type": "display_data"
    },
    {
     "data": {
      "text/plain": "<IPython.core.display.HTML object>",
      "text/html": "\n    <div>\n      \n      <progress value='291' max='360' style='width:300px; height:20px; vertical-align: middle;'></progress>\n      [291/360 28:48 < 06:52, 0.17 it/s, Epoch 7.25/9]\n    </div>\n    <table border=\"1\" class=\"dataframe\">\n  <thead>\n <tr style=\"text-align: left;\">\n      <th>Step</th>\n      <th>Training Loss</th>\n      <th>Validation Loss</th>\n    </tr>\n  </thead>\n  <tbody>\n    <tr>\n      <td>10</td>\n      <td>1.665500</td>\n      <td>1.674745</td>\n    </tr>\n    <tr>\n      <td>20</td>\n      <td>1.568700</td>\n      <td>1.606281</td>\n    </tr>\n    <tr>\n      <td>30</td>\n      <td>1.538300</td>\n      <td>1.548669</td>\n    </tr>\n    <tr>\n      <td>40</td>\n      <td>1.442100</td>\n      <td>1.494075</td>\n    </tr>\n    <tr>\n      <td>50</td>\n      <td>1.357800</td>\n      <td>1.442526</td>\n    </tr>\n    <tr>\n      <td>60</td>\n      <td>1.387800</td>\n      <td>1.391700</td>\n    </tr>\n    <tr>\n      <td>70</td>\n      <td>1.333500</td>\n      <td>1.338345</td>\n    </tr>\n    <tr>\n      <td>80</td>\n      <td>1.147900</td>\n      <td>1.280149</td>\n    </tr>\n    <tr>\n      <td>90</td>\n      <td>1.048600</td>\n      <td>1.227278</td>\n    </tr>\n    <tr>\n      <td>100</td>\n      <td>1.227500</td>\n      <td>1.183610</td>\n    </tr>\n    <tr>\n      <td>110</td>\n      <td>1.091000</td>\n      <td>1.143822</td>\n    </tr>\n    <tr>\n      <td>120</td>\n      <td>0.969200</td>\n      <td>1.119932</td>\n    </tr>\n    <tr>\n      <td>130</td>\n      <td>0.915000</td>\n      <td>1.104189</td>\n    </tr>\n    <tr>\n      <td>140</td>\n      <td>0.985700</td>\n      <td>1.088730</td>\n    </tr>\n    <tr>\n      <td>150</td>\n      <td>1.057000</td>\n      <td>1.076824</td>\n    </tr>\n    <tr>\n      <td>160</td>\n      <td>0.906200</td>\n      <td>1.072441</td>\n    </tr>\n    <tr>\n      <td>170</td>\n      <td>0.948800</td>\n      <td>1.069766</td>\n    </tr>\n    <tr>\n      <td>180</td>\n      <td>0.857200</td>\n      <td>1.067846</td>\n    </tr>\n    <tr>\n      <td>190</td>\n      <td>0.912300</td>\n      <td>1.065970</td>\n    </tr>\n    <tr>\n      <td>200</td>\n      <td>0.993100</td>\n      <td>1.064132</td>\n    </tr>\n    <tr>\n      <td>210</td>\n      <td>0.825900</td>\n      <td>1.063723</td>\n    </tr>\n    <tr>\n      <td>220</td>\n      <td>0.830700</td>\n      <td>1.062869</td>\n    </tr>\n    <tr>\n      <td>230</td>\n      <td>1.086100</td>\n      <td>1.061481</td>\n    </tr>\n    <tr>\n      <td>240</td>\n      <td>0.890700</td>\n      <td>1.060101</td>\n    </tr>\n    <tr>\n      <td>250</td>\n      <td>0.803400</td>\n      <td>1.059229</td>\n    </tr>\n    <tr>\n      <td>260</td>\n      <td>0.900500</td>\n      <td>1.058938</td>\n    </tr>\n    <tr>\n      <td>270</td>\n      <td>0.858800</td>\n      <td>1.058400</td>\n    </tr>\n    <tr>\n      <td>280</td>\n      <td>1.014500</td>\n      <td>1.057999</td>\n    </tr>\n    <tr>\n      <td>290</td>\n      <td>0.944300</td>\n      <td>1.057453</td>\n    </tr>\n  </tbody>\n</table><p>"
     },
     "metadata": {},
     "output_type": "display_data"
    },
    {
     "name": "stderr",
     "output_type": "stream",
     "text": [
      "C:\\Users\\Pumukl\\AppData\\Local\\Programs\\Python\\Python312\\Lib\\site-packages\\peft\\utils\\other.py:581: UserWarning: Unable to fetch remote file due to the following error 401 Client Error. (Request ID: Root=1-666db8ca-3f95cd1a2a43f2e866365981;91b573ca-4b93-4d30-8f2e-a1940566ed4d)\n",
      "\n",
      "Cannot access gated repo for url https://huggingface.co/mistralai/Mistral-7B-Instruct-v0.2/resolve/main/config.json.\n",
      "Access to model mistralai/Mistral-7B-Instruct-v0.2 is restricted. You must be authenticated to access it. - silently ignoring the lookup for the file config.json in mistralai/Mistral-7B-Instruct-v0.2.\n",
      "  warnings.warn(\n",
      "C:\\Users\\Pumukl\\AppData\\Local\\Programs\\Python\\Python312\\Lib\\site-packages\\peft\\utils\\save_and_load.py:154: UserWarning: Could not find a config file in mistralai/Mistral-7B-Instruct-v0.2 - will assume that the vocabulary was not modified.\n",
      "  warnings.warn(\n",
      "C:\\Users\\Pumukl\\AppData\\Local\\Programs\\Python\\Python312\\Lib\\site-packages\\torch\\utils\\checkpoint.py:460: UserWarning: torch.utils.checkpoint: please pass in use_reentrant=True or use_reentrant=False explicitly. The default value of use_reentrant will be updated to be False in the future. To maintain current behavior, pass use_reentrant=True. It is recommended that you use use_reentrant=False. Refer to docs for more details on the differences between the two variants.\n",
      "  warnings.warn(\n"
     ]
    },
    {
     "ename": "KeyboardInterrupt",
     "evalue": "",
     "output_type": "error",
     "traceback": [
      "\u001B[1;31m---------------------------------------------------------------------------\u001B[0m",
      "\u001B[1;31mKeyboardInterrupt\u001B[0m                         Traceback (most recent call last)",
      "Cell \u001B[1;32mIn[29], line 33\u001B[0m\n\u001B[0;32m      8\u001B[0m trainer \u001B[38;5;241m=\u001B[39m transformers\u001B[38;5;241m.\u001B[39mTrainer(\n\u001B[0;32m      9\u001B[0m     model\u001B[38;5;241m=\u001B[39mmodel,\n\u001B[0;32m     10\u001B[0m     train_dataset\u001B[38;5;241m=\u001B[39mtokenized_train_dataset[\u001B[38;5;124m\"\u001B[39m\u001B[38;5;124mtrain\u001B[39m\u001B[38;5;124m\"\u001B[39m],\n\u001B[1;32m   (...)\u001B[0m\n\u001B[0;32m     29\u001B[0m     data_collator\u001B[38;5;241m=\u001B[39mtransformers\u001B[38;5;241m.\u001B[39mDataCollatorForLanguageModeling(tokenizer, mlm\u001B[38;5;241m=\u001B[39m\u001B[38;5;28;01mFalse\u001B[39;00m),\n\u001B[0;32m     30\u001B[0m )\n\u001B[0;32m     32\u001B[0m model\u001B[38;5;241m.\u001B[39mconfig\u001B[38;5;241m.\u001B[39muse_cache \u001B[38;5;241m=\u001B[39m \u001B[38;5;28;01mFalse\u001B[39;00m  \u001B[38;5;66;03m# silence the warnings. Please re-enable for inference!\u001B[39;00m\n\u001B[1;32m---> 33\u001B[0m \u001B[43mtrainer\u001B[49m\u001B[38;5;241;43m.\u001B[39;49m\u001B[43mtrain\u001B[49m\u001B[43m(\u001B[49m\u001B[43m)\u001B[49m\n",
      "File \u001B[1;32m~\\AppData\\Local\\Programs\\Python\\Python312\\Lib\\site-packages\\transformers\\trainer.py:1624\u001B[0m, in \u001B[0;36mTrainer.train\u001B[1;34m(self, resume_from_checkpoint, trial, ignore_keys_for_eval, **kwargs)\u001B[0m\n\u001B[0;32m   1622\u001B[0m         hf_hub_utils\u001B[38;5;241m.\u001B[39menable_progress_bars()\n\u001B[0;32m   1623\u001B[0m \u001B[38;5;28;01melse\u001B[39;00m:\n\u001B[1;32m-> 1624\u001B[0m     \u001B[38;5;28;01mreturn\u001B[39;00m \u001B[43minner_training_loop\u001B[49m\u001B[43m(\u001B[49m\n\u001B[0;32m   1625\u001B[0m \u001B[43m        \u001B[49m\u001B[43margs\u001B[49m\u001B[38;5;241;43m=\u001B[39;49m\u001B[43margs\u001B[49m\u001B[43m,\u001B[49m\n\u001B[0;32m   1626\u001B[0m \u001B[43m        \u001B[49m\u001B[43mresume_from_checkpoint\u001B[49m\u001B[38;5;241;43m=\u001B[39;49m\u001B[43mresume_from_checkpoint\u001B[49m\u001B[43m,\u001B[49m\n\u001B[0;32m   1627\u001B[0m \u001B[43m        \u001B[49m\u001B[43mtrial\u001B[49m\u001B[38;5;241;43m=\u001B[39;49m\u001B[43mtrial\u001B[49m\u001B[43m,\u001B[49m\n\u001B[0;32m   1628\u001B[0m \u001B[43m        \u001B[49m\u001B[43mignore_keys_for_eval\u001B[49m\u001B[38;5;241;43m=\u001B[39;49m\u001B[43mignore_keys_for_eval\u001B[49m\u001B[43m,\u001B[49m\n\u001B[0;32m   1629\u001B[0m \u001B[43m    \u001B[49m\u001B[43m)\u001B[49m\n",
      "File \u001B[1;32m~\\AppData\\Local\\Programs\\Python\\Python312\\Lib\\site-packages\\transformers\\trainer.py:1961\u001B[0m, in \u001B[0;36mTrainer._inner_training_loop\u001B[1;34m(self, batch_size, args, resume_from_checkpoint, trial, ignore_keys_for_eval)\u001B[0m\n\u001B[0;32m   1958\u001B[0m     \u001B[38;5;28mself\u001B[39m\u001B[38;5;241m.\u001B[39mcontrol \u001B[38;5;241m=\u001B[39m \u001B[38;5;28mself\u001B[39m\u001B[38;5;241m.\u001B[39mcallback_handler\u001B[38;5;241m.\u001B[39mon_step_begin(args, \u001B[38;5;28mself\u001B[39m\u001B[38;5;241m.\u001B[39mstate, \u001B[38;5;28mself\u001B[39m\u001B[38;5;241m.\u001B[39mcontrol)\n\u001B[0;32m   1960\u001B[0m \u001B[38;5;28;01mwith\u001B[39;00m \u001B[38;5;28mself\u001B[39m\u001B[38;5;241m.\u001B[39maccelerator\u001B[38;5;241m.\u001B[39maccumulate(model):\n\u001B[1;32m-> 1961\u001B[0m     tr_loss_step \u001B[38;5;241m=\u001B[39m \u001B[38;5;28;43mself\u001B[39;49m\u001B[38;5;241;43m.\u001B[39;49m\u001B[43mtraining_step\u001B[49m\u001B[43m(\u001B[49m\u001B[43mmodel\u001B[49m\u001B[43m,\u001B[49m\u001B[43m \u001B[49m\u001B[43minputs\u001B[49m\u001B[43m)\u001B[49m\n\u001B[0;32m   1963\u001B[0m \u001B[38;5;28;01mif\u001B[39;00m (\n\u001B[0;32m   1964\u001B[0m     args\u001B[38;5;241m.\u001B[39mlogging_nan_inf_filter\n\u001B[0;32m   1965\u001B[0m     \u001B[38;5;129;01mand\u001B[39;00m \u001B[38;5;129;01mnot\u001B[39;00m is_torch_tpu_available()\n\u001B[0;32m   1966\u001B[0m     \u001B[38;5;129;01mand\u001B[39;00m (torch\u001B[38;5;241m.\u001B[39misnan(tr_loss_step) \u001B[38;5;129;01mor\u001B[39;00m torch\u001B[38;5;241m.\u001B[39misinf(tr_loss_step))\n\u001B[0;32m   1967\u001B[0m ):\n\u001B[0;32m   1968\u001B[0m     \u001B[38;5;66;03m# if loss is nan or inf simply add the average of previous logged losses\u001B[39;00m\n\u001B[0;32m   1969\u001B[0m     tr_loss \u001B[38;5;241m+\u001B[39m\u001B[38;5;241m=\u001B[39m tr_loss \u001B[38;5;241m/\u001B[39m (\u001B[38;5;241m1\u001B[39m \u001B[38;5;241m+\u001B[39m \u001B[38;5;28mself\u001B[39m\u001B[38;5;241m.\u001B[39mstate\u001B[38;5;241m.\u001B[39mglobal_step \u001B[38;5;241m-\u001B[39m \u001B[38;5;28mself\u001B[39m\u001B[38;5;241m.\u001B[39m_globalstep_last_logged)\n",
      "File \u001B[1;32m~\\AppData\\Local\\Programs\\Python\\Python312\\Lib\\site-packages\\transformers\\trainer.py:2911\u001B[0m, in \u001B[0;36mTrainer.training_step\u001B[1;34m(self, model, inputs)\u001B[0m\n\u001B[0;32m   2909\u001B[0m         scaled_loss\u001B[38;5;241m.\u001B[39mbackward()\n\u001B[0;32m   2910\u001B[0m \u001B[38;5;28;01melse\u001B[39;00m:\n\u001B[1;32m-> 2911\u001B[0m     \u001B[38;5;28;43mself\u001B[39;49m\u001B[38;5;241;43m.\u001B[39;49m\u001B[43maccelerator\u001B[49m\u001B[38;5;241;43m.\u001B[39;49m\u001B[43mbackward\u001B[49m\u001B[43m(\u001B[49m\u001B[43mloss\u001B[49m\u001B[43m)\u001B[49m\n\u001B[0;32m   2913\u001B[0m \u001B[38;5;28;01mreturn\u001B[39;00m loss\u001B[38;5;241m.\u001B[39mdetach() \u001B[38;5;241m/\u001B[39m \u001B[38;5;28mself\u001B[39m\u001B[38;5;241m.\u001B[39margs\u001B[38;5;241m.\u001B[39mgradient_accumulation_steps\n",
      "File \u001B[1;32m~\\AppData\\Local\\Programs\\Python\\Python312\\Lib\\site-packages\\accelerate\\accelerator.py:2013\u001B[0m, in \u001B[0;36mAccelerator.backward\u001B[1;34m(self, loss, **kwargs)\u001B[0m\n\u001B[0;32m   2011\u001B[0m     \u001B[38;5;28mself\u001B[39m\u001B[38;5;241m.\u001B[39mscaler\u001B[38;5;241m.\u001B[39mscale(loss)\u001B[38;5;241m.\u001B[39mbackward(\u001B[38;5;241m*\u001B[39m\u001B[38;5;241m*\u001B[39mkwargs)\n\u001B[0;32m   2012\u001B[0m \u001B[38;5;28;01melse\u001B[39;00m:\n\u001B[1;32m-> 2013\u001B[0m     \u001B[43mloss\u001B[49m\u001B[38;5;241;43m.\u001B[39;49m\u001B[43mbackward\u001B[49m\u001B[43m(\u001B[49m\u001B[38;5;241;43m*\u001B[39;49m\u001B[38;5;241;43m*\u001B[39;49m\u001B[43mkwargs\u001B[49m\u001B[43m)\u001B[49m\n",
      "File \u001B[1;32m~\\AppData\\Local\\Programs\\Python\\Python312\\Lib\\site-packages\\torch\\_tensor.py:522\u001B[0m, in \u001B[0;36mTensor.backward\u001B[1;34m(self, gradient, retain_graph, create_graph, inputs)\u001B[0m\n\u001B[0;32m    512\u001B[0m \u001B[38;5;28;01mif\u001B[39;00m has_torch_function_unary(\u001B[38;5;28mself\u001B[39m):\n\u001B[0;32m    513\u001B[0m     \u001B[38;5;28;01mreturn\u001B[39;00m handle_torch_function(\n\u001B[0;32m    514\u001B[0m         Tensor\u001B[38;5;241m.\u001B[39mbackward,\n\u001B[0;32m    515\u001B[0m         (\u001B[38;5;28mself\u001B[39m,),\n\u001B[1;32m   (...)\u001B[0m\n\u001B[0;32m    520\u001B[0m         inputs\u001B[38;5;241m=\u001B[39minputs,\n\u001B[0;32m    521\u001B[0m     )\n\u001B[1;32m--> 522\u001B[0m \u001B[43mtorch\u001B[49m\u001B[38;5;241;43m.\u001B[39;49m\u001B[43mautograd\u001B[49m\u001B[38;5;241;43m.\u001B[39;49m\u001B[43mbackward\u001B[49m\u001B[43m(\u001B[49m\n\u001B[0;32m    523\u001B[0m \u001B[43m    \u001B[49m\u001B[38;5;28;43mself\u001B[39;49m\u001B[43m,\u001B[49m\u001B[43m \u001B[49m\u001B[43mgradient\u001B[49m\u001B[43m,\u001B[49m\u001B[43m \u001B[49m\u001B[43mretain_graph\u001B[49m\u001B[43m,\u001B[49m\u001B[43m \u001B[49m\u001B[43mcreate_graph\u001B[49m\u001B[43m,\u001B[49m\u001B[43m \u001B[49m\u001B[43minputs\u001B[49m\u001B[38;5;241;43m=\u001B[39;49m\u001B[43minputs\u001B[49m\n\u001B[0;32m    524\u001B[0m \u001B[43m\u001B[49m\u001B[43m)\u001B[49m\n",
      "File \u001B[1;32m~\\AppData\\Local\\Programs\\Python\\Python312\\Lib\\site-packages\\torch\\autograd\\__init__.py:266\u001B[0m, in \u001B[0;36mbackward\u001B[1;34m(tensors, grad_tensors, retain_graph, create_graph, grad_variables, inputs)\u001B[0m\n\u001B[0;32m    261\u001B[0m     retain_graph \u001B[38;5;241m=\u001B[39m create_graph\n\u001B[0;32m    263\u001B[0m \u001B[38;5;66;03m# The reason we repeat the same comment below is that\u001B[39;00m\n\u001B[0;32m    264\u001B[0m \u001B[38;5;66;03m# some Python versions print out the first line of a multi-line function\u001B[39;00m\n\u001B[0;32m    265\u001B[0m \u001B[38;5;66;03m# calls in the traceback and some print out the last line\u001B[39;00m\n\u001B[1;32m--> 266\u001B[0m \u001B[43mVariable\u001B[49m\u001B[38;5;241;43m.\u001B[39;49m\u001B[43m_execution_engine\u001B[49m\u001B[38;5;241;43m.\u001B[39;49m\u001B[43mrun_backward\u001B[49m\u001B[43m(\u001B[49m\u001B[43m  \u001B[49m\u001B[38;5;66;43;03m# Calls into the C++ engine to run the backward pass\u001B[39;49;00m\n\u001B[0;32m    267\u001B[0m \u001B[43m    \u001B[49m\u001B[43mtensors\u001B[49m\u001B[43m,\u001B[49m\n\u001B[0;32m    268\u001B[0m \u001B[43m    \u001B[49m\u001B[43mgrad_tensors_\u001B[49m\u001B[43m,\u001B[49m\n\u001B[0;32m    269\u001B[0m \u001B[43m    \u001B[49m\u001B[43mretain_graph\u001B[49m\u001B[43m,\u001B[49m\n\u001B[0;32m    270\u001B[0m \u001B[43m    \u001B[49m\u001B[43mcreate_graph\u001B[49m\u001B[43m,\u001B[49m\n\u001B[0;32m    271\u001B[0m \u001B[43m    \u001B[49m\u001B[43minputs\u001B[49m\u001B[43m,\u001B[49m\n\u001B[0;32m    272\u001B[0m \u001B[43m    \u001B[49m\u001B[43mallow_unreachable\u001B[49m\u001B[38;5;241;43m=\u001B[39;49m\u001B[38;5;28;43;01mTrue\u001B[39;49;00m\u001B[43m,\u001B[49m\n\u001B[0;32m    273\u001B[0m \u001B[43m    \u001B[49m\u001B[43maccumulate_grad\u001B[49m\u001B[38;5;241;43m=\u001B[39;49m\u001B[38;5;28;43;01mTrue\u001B[39;49;00m\u001B[43m,\u001B[49m\n\u001B[0;32m    274\u001B[0m \u001B[43m\u001B[49m\u001B[43m)\u001B[49m\n",
      "\u001B[1;31mKeyboardInterrupt\u001B[0m: "
     ]
    }
   ],
   "source": [
    "import transformers\n",
    "\n",
    "project = \"Monologue-finetune\"\n",
    "base_model_name = \"mistral\"\n",
    "run_name = base_model_name + \"-\" + project\n",
    "output_dir = \"./\" + run_name\n",
    "\n",
    "trainer = transformers.Trainer(\n",
    "    model=model,\n",
    "    train_dataset=tokenized_train_dataset[\"train\"],\n",
    "    eval_dataset=tokenized_val_dataset[\"train\"],\n",
    "    args=transformers.TrainingArguments(\n",
    "        output_dir=output_dir,\n",
    "        warmup_steps=1,\n",
    "        per_device_train_batch_size=1,\n",
    "        gradient_accumulation_steps=1,\n",
    "        gradient_checkpointing=True,\n",
    "        max_steps=360,\n",
    "        learning_rate=3.5e-7,  # Want a small lr for finetuning\n",
    "        bf16=True,\n",
    "        optim=\"paged_adamw_8bit\",\n",
    "        logging_steps=10,  # When to start reporting loss\n",
    "        logging_dir=\"./logs\",  # Directory for storing logs\n",
    "        save_strategy=\"steps\",  # Save the model checkpoint every logging step\n",
    "        save_steps=10,  # Save checkpoints every 50 steps\n",
    "        evaluation_strategy=\"steps\",  # Evaluate the model every logging step\n",
    "        eval_steps=10,  # Evaluate and save checkpoints every 50 steps\n",
    "    ),\n",
    "    data_collator=transformers.DataCollatorForLanguageModeling(tokenizer, mlm=False),\n",
    ")\n",
    "\n",
    "model.config.use_cache = False  # silence the warnings. Please re-enable for inference!\n",
    "trainer.train()"
   ]
  },
  {
   "cell_type": "code",
   "outputs": [
    {
     "data": {
      "text/plain": "    step    loss  eval_loss\n0     10  1.6655   1.674745\n1     20  1.5687   1.606281\n2     30  1.5383   1.548669\n3     40  1.4421   1.494075\n4     50  1.3578   1.442526\n5     60  1.3878   1.391700\n6     70  1.3335   1.338345\n7     80  1.1479   1.280149\n8     90  1.0486   1.227278\n9    100  1.2275   1.183610\n10   110  1.0910   1.143822\n11   120  0.9692   1.119932\n12   130  0.9150   1.104189\n13   140  0.9857   1.088730\n14   150  1.0570   1.076824\n15   160  0.9062   1.072441\n16   170  0.9488   1.069766\n17   180  0.8572   1.067846\n18   190  0.9123   1.065970\n19   200  0.9931   1.064132\n20   210  0.8259   1.063723\n21   220  0.8307   1.062869\n22   230  1.0861   1.061481\n23   240  0.8907   1.060101\n24   250  0.8034   1.059229\n25   260  0.9005   1.058938\n26   270  0.8588   1.058400\n27   280  1.0145   1.057999\n28   290  0.9443   1.057453",
      "text/html": "<div>\n<style scoped>\n    .dataframe tbody tr th:only-of-type {\n        vertical-align: middle;\n    }\n\n    .dataframe tbody tr th {\n        vertical-align: top;\n    }\n\n    .dataframe thead th {\n        text-align: right;\n    }\n</style>\n<table border=\"1\" class=\"dataframe\">\n  <thead>\n    <tr style=\"text-align: right;\">\n      <th></th>\n      <th>step</th>\n      <th>loss</th>\n      <th>eval_loss</th>\n    </tr>\n  </thead>\n  <tbody>\n    <tr>\n      <th>0</th>\n      <td>10</td>\n      <td>1.6655</td>\n      <td>1.674745</td>\n    </tr>\n    <tr>\n      <th>1</th>\n      <td>20</td>\n      <td>1.5687</td>\n      <td>1.606281</td>\n    </tr>\n    <tr>\n      <th>2</th>\n      <td>30</td>\n      <td>1.5383</td>\n      <td>1.548669</td>\n    </tr>\n    <tr>\n      <th>3</th>\n      <td>40</td>\n      <td>1.4421</td>\n      <td>1.494075</td>\n    </tr>\n    <tr>\n      <th>4</th>\n      <td>50</td>\n      <td>1.3578</td>\n      <td>1.442526</td>\n    </tr>\n    <tr>\n      <th>5</th>\n      <td>60</td>\n      <td>1.3878</td>\n      <td>1.391700</td>\n    </tr>\n    <tr>\n      <th>6</th>\n      <td>70</td>\n      <td>1.3335</td>\n      <td>1.338345</td>\n    </tr>\n    <tr>\n      <th>7</th>\n      <td>80</td>\n      <td>1.1479</td>\n      <td>1.280149</td>\n    </tr>\n    <tr>\n      <th>8</th>\n      <td>90</td>\n      <td>1.0486</td>\n      <td>1.227278</td>\n    </tr>\n    <tr>\n      <th>9</th>\n      <td>100</td>\n      <td>1.2275</td>\n      <td>1.183610</td>\n    </tr>\n    <tr>\n      <th>10</th>\n      <td>110</td>\n      <td>1.0910</td>\n      <td>1.143822</td>\n    </tr>\n    <tr>\n      <th>11</th>\n      <td>120</td>\n      <td>0.9692</td>\n      <td>1.119932</td>\n    </tr>\n    <tr>\n      <th>12</th>\n      <td>130</td>\n      <td>0.9150</td>\n      <td>1.104189</td>\n    </tr>\n    <tr>\n      <th>13</th>\n      <td>140</td>\n      <td>0.9857</td>\n      <td>1.088730</td>\n    </tr>\n    <tr>\n      <th>14</th>\n      <td>150</td>\n      <td>1.0570</td>\n      <td>1.076824</td>\n    </tr>\n    <tr>\n      <th>15</th>\n      <td>160</td>\n      <td>0.9062</td>\n      <td>1.072441</td>\n    </tr>\n    <tr>\n      <th>16</th>\n      <td>170</td>\n      <td>0.9488</td>\n      <td>1.069766</td>\n    </tr>\n    <tr>\n      <th>17</th>\n      <td>180</td>\n      <td>0.8572</td>\n      <td>1.067846</td>\n    </tr>\n    <tr>\n      <th>18</th>\n      <td>190</td>\n      <td>0.9123</td>\n      <td>1.065970</td>\n    </tr>\n    <tr>\n      <th>19</th>\n      <td>200</td>\n      <td>0.9931</td>\n      <td>1.064132</td>\n    </tr>\n    <tr>\n      <th>20</th>\n      <td>210</td>\n      <td>0.8259</td>\n      <td>1.063723</td>\n    </tr>\n    <tr>\n      <th>21</th>\n      <td>220</td>\n      <td>0.8307</td>\n      <td>1.062869</td>\n    </tr>\n    <tr>\n      <th>22</th>\n      <td>230</td>\n      <td>1.0861</td>\n      <td>1.061481</td>\n    </tr>\n    <tr>\n      <th>23</th>\n      <td>240</td>\n      <td>0.8907</td>\n      <td>1.060101</td>\n    </tr>\n    <tr>\n      <th>24</th>\n      <td>250</td>\n      <td>0.8034</td>\n      <td>1.059229</td>\n    </tr>\n    <tr>\n      <th>25</th>\n      <td>260</td>\n      <td>0.9005</td>\n      <td>1.058938</td>\n    </tr>\n    <tr>\n      <th>26</th>\n      <td>270</td>\n      <td>0.8588</td>\n      <td>1.058400</td>\n    </tr>\n    <tr>\n      <th>27</th>\n      <td>280</td>\n      <td>1.0145</td>\n      <td>1.057999</td>\n    </tr>\n    <tr>\n      <th>28</th>\n      <td>290</td>\n      <td>0.9443</td>\n      <td>1.057453</td>\n    </tr>\n  </tbody>\n</table>\n</div>"
     },
     "execution_count": 4,
     "metadata": {},
     "output_type": "execute_result"
    }
   ],
   "source": [
    "import pandas as pd\n",
    "import matplotlib.pyplot as plt\n",
    "\n",
    "# Load from the output_dir the last checkpoints trainer state, validation loss and training loss\n",
    "df = pd.read_json(output_dir + \"checkpoint-290/trainer_state.json\")\n",
    "\n",
    "df = df['log_history']\n",
    "\n",
    "# conbine the dictionaries of every two rows\n",
    "df = pd.DataFrame([{**df[i], **df[i + 1]} for i in range(0, len(df), 2)])\n",
    "\n",
    "# keep only the step, training loss and validation loss columns\n",
    "df = df[['step', 'loss', 'eval_loss']]\n",
    "\n",
    "df"
   ],
   "metadata": {
    "collapsed": false,
    "ExecuteTime": {
     "end_time": "2024-06-27T17:50:35.454390Z",
     "start_time": "2024-06-27T17:50:35.416909400Z"
    }
   },
   "id": "1aa6118dca8e264b",
   "execution_count": 4
  },
  {
   "cell_type": "code",
   "outputs": [
    {
     "data": {
      "text/plain": "<Figure size 1000x600 with 1 Axes>",
      "image/png": "[encoded data removed]"
     },
     "metadata": {},
     "output_type": "display_data"
    }
   ],
   "source": [
    "# Plotting the data with updated labels\n",
    "plt.figure(figsize=(10, 6))\n",
    "plt.plot(df[\"step\"], df[\"loss\"], marker='o', label=\"Training Loss\")\n",
    "plt.plot(df[\"step\"], df[\"eval_loss\"], marker='o', label=\"Validation Loss\")\n",
    "plt.xlabel(\"Step\")\n",
    "plt.ylabel(\"Loss\")\n",
    "plt.title(\"Step vs Training Loss and Validation Loss\")\n",
    "plt.legend()\n",
    "plt.grid(True)\n",
    "plt.show()"
   ],
   "metadata": {
    "collapsed": false,
    "ExecuteTime": {
     "end_time": "2024-06-27T17:51:05.949954400Z",
     "start_time": "2024-06-27T17:51:05.824682300Z"
    }
   },
   "id": "ac09349239546ce2",
   "execution_count": 5
  },
  {
   "cell_type": "code",
   "outputs": [
    {
     "data": {
      "text/plain": "Loading checkpoint shards:   0%|          | 0/3 [00:00<?, ?it/s]",
      "application/vnd.jupyter.widget-view+json": {
       "version_major": 2,
       "version_minor": 0,
       "model_id": "0cf3f972d45f4de78886f8116b0d68e8"
      }
     },
     "metadata": {},
     "output_type": "display_data"
    }
   ],
   "source": [
    "import torch\n",
    "from transformers import AutoTokenizer, AutoModelForCausalLM, BitsAndBytesConfig\n",
    "\n",
    "base_model_id = \"mistralai/Mistral-7B-Instruct-v0.2\"\n",
    "bnb_config = BitsAndBytesConfig(\n",
    "    load_in_4bit=True,\n",
    "    bnb_4bit_use_double_quant=True,\n",
    "    bnb_4bit_quant_type=\"nf4\",\n",
    "    bnb_4bit_compute_dtype=torch.bfloat16\n",
    ")\n",
    "\n",
    "base_model = AutoModelForCausalLM.from_pretrained(\n",
    "    base_model_id,  # Mistral, same as before\n",
    "    quantization_config=bnb_config,  # Same quantization config as before\n",
    "    device_map=\"auto\",\n",
    "    trust_remote_code=True,\n",
    ")\n",
    "\n",
    "eval_tokenizer = AutoTokenizer.from_pretrained(base_model_id, add_bos_token=True, trust_remote_code=True)"
   ],
   "metadata": {
    "collapsed": false,
    "ExecuteTime": {
     "end_time": "2024-06-15T16:40:46.613890700Z",
     "start_time": "2024-06-15T16:40:04.558662700Z"
    }
   },
   "id": "ea90e93a904c5d4a",
   "execution_count": 1
  },
  {
   "cell_type": "code",
   "execution_count": 2,
   "id": "e154dc87f95c4f41",
   "metadata": {
    "collapsed": false,
    "ExecuteTime": {
     "end_time": "2024-06-15T16:41:06.698982100Z",
     "start_time": "2024-06-15T16:41:04.063301100Z"
    }
   },
   "outputs": [],
   "source": [
    "from peft import PeftModel\n",
    "\n",
    "ft_model = PeftModel.from_pretrained(base_model, \"mistral-Monologue-finetune2/checkpoint-290\")"
   ]
  },
  {
   "cell_type": "code",
   "execution_count": 10,
   "id": "16f5ddad06c7fa1b",
   "metadata": {
    "collapsed": false,
    "ExecuteTime": {
     "end_time": "2024-06-15T16:51:23.737550400Z",
     "start_time": "2024-06-15T16:50:49.849922600Z"
    }
   },
   "outputs": [
    {
     "name": "stderr",
     "output_type": "stream",
     "text": [
      "Setting `pad_token_id` to `eos_token_id`:2 for open-end generation.\n",
      "Setting `pad_token_id` to `eos_token_id`:2 for open-end generation.\n"
     ]
    },
    {
     "name": "stdout",
     "output_type": "stream",
     "text": [
      "\n",
      "In the following text, there is a description about introductory monologues in a video game. The text will be enclosed within <START> and <END>. There are specific rules that apply only to the text: the title of the current game will always be enclosed inside <TITLE> and </TITLE>, the monologue will always be enclosed inside <MONO> and </MONO>, and the context will be enclosed inside <CONTEXT> and </CONTEXT>. Your task is to generate the missing dialogue line between the <MONO> and </MONO> tags inside the provided text. our task is to generate the missing dialogue line between the <MONO> and </MONO> tags inside the provided text.\n",
      "\n",
      "<START>\n",
      "In video games, sometimes there is an introductory monologue delivered by a narrator. The narrator can either be an unknown narrator or a character that exists within the game, and they introduce the Player to the world, the story, and the setting of the game with the assistance of an introductory monologue. \n",
      "\n",
      "This monologue is based on the game's setting, world, story, and the Player's role in the game. Here is some context describing these elements about the game called <TITLE>Elden Ring</TITLE>:\n",
      "\n",
      "<CONTEXT>In <TITLE>Elden Ring</TITLE>, the introductory monologue delivered by a narrator sets the stage for the game's epic dark fantasy narrative. The player takes on the role of a Tarnished, one of the dead who yet live, called back to the Lands Between to restore the fractured world. The once-great Elden Ring has been shattered, and Queen Marika the Eternal has disappeared. On the Night of the Black Knives, the demigod Godwin the Golden was the first to fall, leading Marika's demigod offspring to seize the shards of the Elden Ring. Their newfound power triggered the Shattering, a catastrophic war that left the Lands Between in chaos and abandoned by the Greater Will. The Tarnished, including chieftains, sorcerers, and other notable figures, are beckoned by the call of long-lost grace to reclaim their destiny. As a Tarnished of no renown, the player must cross the fog to the Lands Between, face formidable foes, and seek to reunite the Elden Ring, ultimately striving to become the Elden Lord. The game explores themes of power, legacy, and redemption in a richly detailed and mysterious world.</CONTEXT>\n",
      "    \n",
      "<TITLE>Elden Ring</TITLE>'s introductory monologue is as follows:\n",
      "\n",
      "<MONO> </MONO>\n",
      "\n",
      "<END>\n",
      "The land lies desolate, its former glory lost to time... In this age known as the Era of the Fracture, the great Elden Ring has been broken into fragments scattered across the lands. And so it came to pass that those who held the pieces sought to claim them all. With the power granted from each fragment, they waged wars against one another, leaving naught but devastation behind. This era marked the abandonment of the Lands Between by the Greater Will. But even amidst such turmoil, a faint glimmer of hope remained. A call echoed through the darkness, summoning forth the Tarnished—those cursed souls who had died before their time. They were brought back to life, imbued with the strength to challenge the forces that plunged the realm into ruin. Now, you stand at the precipice of your journey. You have heard the call of Grace. Cross the bridge to the Lands Between, where legends speak of a path to becoming the Elden Lord. May fortune guide you, traveler.\n"
     ]
    }
   ],
   "source": [
    "eval_prompt = (f\"\"\"\n",
    "In the following text, there is a description about introductory monologues in a video game. The text will be enclosed within <START> and <END>. There are specific rules that apply only to the text: the title of the current game will always be enclosed inside <TITLE> and </TITLE>, the monologue will always be enclosed inside <MONO> and </MONO>, and the context will be enclosed inside <CONTEXT> and </CONTEXT>. Your task is to generate the missing dialogue line between the <MONO> and </MONO> tags inside the provided text. Your task is to generate the missing monologue between the <MONO> and </MONO> tags inside the provided text.\n",
    "\n",
    "\n",
    "<START>\n",
    "In video games, sometimes there is an introductory monologue delivered by a narrator. The narrator can either be an unknown narrator or a character that exists within the game, and they introduce the Player to the world, the story, and the setting of the game with the assistance of an introductory monologue. \n",
    "\n",
    "This monologue is based on the game's setting, world, story, and the Player's role in the game. Here is some context describing these elements about the game called <TITLE>Elden Ring</TITLE>:\n",
    "\n",
    "<CONTEXT>In <TITLE>Elden Ring</TITLE>, the introductory monologue delivered by a narrator sets the stage for the game's epic dark fantasy narrative. The player takes on the role of a Tarnished, one of the dead who yet live, called back to the Lands Between to restore the fractured world. The once-great Elden Ring has been shattered, and Queen Marika the Eternal has disappeared. On the Night of the Black Knives, the demigod Godwin the Golden was the first to fall, leading Marika's demigod offspring to seize the shards of the Elden Ring. Their newfound power triggered the Shattering, a catastrophic war that left the Lands Between in chaos and abandoned by the Greater Will. The Tarnished, including chieftains, sorcerers, and other notable figures, are beckoned by the call of long-lost grace to reclaim their destiny. As a Tarnished of no renown, the player must cross the fog to the Lands Between, face formidable foes, and seek to reunite the Elden Ring, ultimately striving to become the Elden Lord. The game explores themes of power, legacy, and redemption in a richly detailed and mysterious world.</CONTEXT>\n",
    "    \n",
    "<TITLE>Elden Ring</TITLE>'s introductory monologue is as follows:\n",
    "\n",
    "<MONO> </MONO>\n",
    "\n",
    "<END>\n",
    "\"\"\"\n",
    ")\n",
    "model_input = eval_tokenizer(eval_prompt, return_tensors=\"pt\").to(\"cuda\")\n",
    "\n",
    "ft_model.eval()\n",
    "with torch.no_grad():\n",
    "    print(eval_tokenizer.decode(ft_model.generate(**model_input, max_new_tokens=1500, repetition_penalty=1.25)[0],\n",
    "                                skip_special_tokens=True))\n",
    "    #save the results to a list\n",
    "    answer = eval_tokenizer.decode(ft_model.generate(**model_input, max_new_tokens=1500, repetition_penalty=1.25)[0],\n",
    "                                skip_special_tokens=True)"
   ]
  },
  {
   "cell_type": "code",
   "outputs": [],
   "source": [
    "def evaluation_func(example):\n",
    "    \n",
    "    return f\"\"\"\n",
    "In the following text, there is a description about introductory monologues in a video game. The text will be enclosed within <START> and <END>. There are specific rules that apply only to the text: the title of the current game will always be enclosed inside <TITLE> and </TITLE>, the monologue will always be enclosed inside <MONO> and </MONO>, and the context will be enclosed inside <CONTEXT> and </CONTEXT>.Your task is to generate the missing monologue between the <MONO> and </MONO> tags inside the provided text.\n",
    "\n",
    "The monologue should be only one and generated after the word Answer, it should also be relatively large and feel like a natural introduction to the game world described in the context, while it should not start by addressing the player directly and it should not contain the name of the game.\n",
    "\n",
    "Do not use the line \"Welcome traveler\" or its abbreviations as the first line of the monologue.\n",
    "\n",
    "<START>\n",
    "In video games, sometimes there is an introductory monologue delivered by a narrator. The narrator can either be an unknown narrator or a character that exists within the game, and they introduce the Player to the world, the story, and the setting of the game with the assistance of an introductory monologue. \n",
    "\n",
    "This monologue is based on the game's setting, world, story, and the Player's role in the game. Here is some context describing these elements about the game called <TITLE>{example['Game']}</TITLE>:\n",
    "\n",
    "<CONTEXT>{example['Context']}</CONTEXT>\n",
    "    \n",
    "<TITLE>{example['Game']}</TITLE>'s introductory monologue is as follows:\n",
    "\n",
    "<MONO> </MONO>\n",
    "\n",
    "<END>\n",
    "\n",
    "Answer:\n",
    "\"\"\"\n",
    "\n",
    "   "
   ],
   "metadata": {
    "collapsed": false,
    "ExecuteTime": {
     "end_time": "2024-06-15T18:31:37.698624500Z",
     "start_time": "2024-06-15T18:31:37.688625700Z"
    }
   },
   "id": "188a7280b29173a8",
   "execution_count": 232
  },
  {
   "cell_type": "code",
   "outputs": [],
   "source": [
    "import pandas as pd\n",
    " # Create an evaluation data frame for each example in the test dataset\n",
    "eval_df = pd.DataFrame(test_dataset['train'])\n",
    "eval_df['description'] = eval_df.apply(evaluation_func, axis=1)"
   ],
   "metadata": {
    "collapsed": false,
    "ExecuteTime": {
     "end_time": "2024-06-15T18:31:37.964523600Z",
     "start_time": "2024-06-15T18:31:37.952405100Z"
    }
   },
   "id": "71d4c54c7ee90baa",
   "execution_count": 233
  },
  {
   "cell_type": "code",
   "outputs": [],
   "source": [
    "# create a new dataframe from the Dialogue column of the eval_df\n",
    "test_monologues = eval_df['Monologue']"
   ],
   "metadata": {
    "collapsed": false,
    "ExecuteTime": {
     "end_time": "2024-06-15T18:31:38.341368700Z",
     "start_time": "2024-06-15T18:31:38.328860200Z"
    }
   },
   "id": "39246a2ed90bec3b",
   "execution_count": 234
  },
  {
   "cell_type": "code",
   "outputs": [],
   "source": [
    "eval_df = eval_df[['description']]"
   ],
   "metadata": {
    "collapsed": false,
    "ExecuteTime": {
     "end_time": "2024-06-15T18:31:38.573049700Z",
     "start_time": "2024-06-15T18:31:38.559540900Z"
    }
   },
   "id": "82aa554cb2729b07",
   "execution_count": 235
  },
  {
   "cell_type": "code",
   "outputs": [
    {
     "data": {
      "text/plain": "                                         description\n0  \\nIn the following text, there is a descriptio...\n1  \\nIn the following text, there is a descriptio...\n2  \\nIn the following text, there is a descriptio...\n3  \\nIn the following text, there is a descriptio...\n4  \\nIn the following text, there is a descriptio...",
      "text/html": "<div>\n<style scoped>\n    .dataframe tbody tr th:only-of-type {\n        vertical-align: middle;\n    }\n\n    .dataframe tbody tr th {\n        vertical-align: top;\n    }\n\n    .dataframe thead th {\n        text-align: right;\n    }\n</style>\n<table border=\"1\" class=\"dataframe\">\n  <thead>\n    <tr style=\"text-align: right;\">\n      <th></th>\n      <th>description</th>\n    </tr>\n  </thead>\n  <tbody>\n    <tr>\n      <th>0</th>\n      <td>\\nIn the following text, there is a descriptio...</td>\n    </tr>\n    <tr>\n      <th>1</th>\n      <td>\\nIn the following text, there is a descriptio...</td>\n    </tr>\n    <tr>\n      <th>2</th>\n      <td>\\nIn the following text, there is a descriptio...</td>\n    </tr>\n    <tr>\n      <th>3</th>\n      <td>\\nIn the following text, there is a descriptio...</td>\n    </tr>\n    <tr>\n      <th>4</th>\n      <td>\\nIn the following text, there is a descriptio...</td>\n    </tr>\n  </tbody>\n</table>\n</div>"
     },
     "execution_count": 236,
     "metadata": {},
     "output_type": "execute_result"
    }
   ],
   "source": [
    "eval_df"
   ],
   "metadata": {
    "collapsed": false,
    "ExecuteTime": {
     "end_time": "2024-06-15T18:31:38.783635700Z",
     "start_time": "2024-06-15T18:31:38.767085700Z"
    }
   },
   "id": "b4bb35650519ba9b",
   "execution_count": 236
  },
  {
   "cell_type": "code",
   "outputs": [],
   "source": [
    "#for each element in the eval_df, generate an answer from the model\n",
    "answers = []"
   ],
   "metadata": {
    "collapsed": false,
    "ExecuteTime": {
     "end_time": "2024-06-15T18:31:39.078757200Z",
     "start_time": "2024-06-15T18:31:39.065207700Z"
    }
   },
   "id": "c05c7ba19eb67fc8",
   "execution_count": 237
  },
  {
   "cell_type": "code",
   "outputs": [
    {
     "name": "stderr",
     "output_type": "stream",
     "text": [
      "Setting `pad_token_id` to `eos_token_id`:2 for open-end generation.\n",
      "Setting `pad_token_id` to `eos_token_id`:2 for open-end generation.\n",
      "Setting `pad_token_id` to `eos_token_id`:2 for open-end generation.\n",
      "Setting `pad_token_id` to `eos_token_id`:2 for open-end generation.\n",
      "Setting `pad_token_id` to `eos_token_id`:2 for open-end generation.\n"
     ]
    }
   ],
   "source": [
    "#make the model generate answers for all the dialogues in the eval_df\n",
    "for i in range(0, len(eval_df)):\n",
    "    model_input = eval_tokenizer(eval_df['description'][i], return_tensors=\"pt\").to(\"cuda\")\n",
    "    ft_model.eval()\n",
    "    with torch.no_grad():\n",
    "        answer = eval_tokenizer.decode(ft_model.generate(**model_input, max_new_tokens=2000, repetition_penalty=1.25)[0],\n",
    "                                skip_special_tokens=True)\n",
    "        answers.append(answer)"
   ],
   "metadata": {
    "collapsed": false,
    "ExecuteTime": {
     "end_time": "2024-06-15T18:33:18.587833600Z",
     "start_time": "2024-06-15T18:31:39.813077600Z"
    }
   },
   "id": "4b33017a0f8fce03",
   "execution_count": 238
  },
  {
   "cell_type": "code",
   "outputs": [
    {
     "data": {
      "text/plain": "5"
     },
     "execution_count": 239,
     "metadata": {},
     "output_type": "execute_result"
    }
   ],
   "source": [
    "len(answers)"
   ],
   "metadata": {
    "collapsed": false,
    "ExecuteTime": {
     "end_time": "2024-06-15T18:33:18.593409Z",
     "start_time": "2024-06-15T18:33:18.588832900Z"
    }
   },
   "id": "f22c08286ca5f1da",
   "execution_count": 239
  },
  {
   "cell_type": "code",
   "outputs": [],
   "source": [
    "#make the answers into a dataframe\n",
    "answers_df = pd.DataFrame(answers, columns=['Monologue'])\n",
    "#export the answers to an excel file\n",
    "answers_df.to_excel('Mistral_Monologues_Full.xlsx', index=False)"
   ],
   "metadata": {
    "collapsed": false,
    "ExecuteTime": {
     "end_time": "2024-06-15T18:33:18.617309800Z",
     "start_time": "2024-06-15T18:33:18.593409Z"
    }
   },
   "id": "1ba6ab9f088d369",
   "execution_count": 240
  },
  {
   "cell_type": "code",
   "outputs": [
    {
     "data": {
      "text/plain": "                                           Monologue\n0  \\nIn the following text, there is a descriptio...\n1  \\nIn the following text, there is a descriptio...\n2  \\nIn the following text, there is a descriptio...\n3  \\nIn the following text, there is a descriptio...\n4  \\nIn the following text, there is a descriptio...",
      "text/html": "<div>\n<style scoped>\n    .dataframe tbody tr th:only-of-type {\n        vertical-align: middle;\n    }\n\n    .dataframe tbody tr th {\n        vertical-align: top;\n    }\n\n    .dataframe thead th {\n        text-align: right;\n    }\n</style>\n<table border=\"1\" class=\"dataframe\">\n  <thead>\n    <tr style=\"text-align: right;\">\n      <th></th>\n      <th>Monologue</th>\n    </tr>\n  </thead>\n  <tbody>\n    <tr>\n      <th>0</th>\n      <td>\\nIn the following text, there is a descriptio...</td>\n    </tr>\n    <tr>\n      <th>1</th>\n      <td>\\nIn the following text, there is a descriptio...</td>\n    </tr>\n    <tr>\n      <th>2</th>\n      <td>\\nIn the following text, there is a descriptio...</td>\n    </tr>\n    <tr>\n      <th>3</th>\n      <td>\\nIn the following text, there is a descriptio...</td>\n    </tr>\n    <tr>\n      <th>4</th>\n      <td>\\nIn the following text, there is a descriptio...</td>\n    </tr>\n  </tbody>\n</table>\n</div>"
     },
     "execution_count": 241,
     "metadata": {},
     "output_type": "execute_result"
    }
   ],
   "source": [
    "#import the answers from the excel file answes_test.xlsx with a column named Dialogue\n",
    "answers_df = pd.read_excel('Mistral_Monologues_Full.xlsx')\n",
    "#name the column Dialogue\n",
    "answers_df.columns = ['Monologue']\n",
    "answers_df"
   ],
   "metadata": {
    "collapsed": false,
    "ExecuteTime": {
     "end_time": "2024-06-15T18:33:18.660253500Z",
     "start_time": "2024-06-15T18:33:18.619310200Z"
    }
   },
   "id": "9012e6e068435f81",
   "execution_count": 241
  },
  {
   "cell_type": "code",
   "outputs": [],
   "source": [
    "#for each line in the answers_df, keep only the text after the Answer: tag\n",
    "answers_df['Monologue'] = answers_df['Monologue'].str.split('Answer:').str[1]"
   ],
   "metadata": {
    "collapsed": false,
    "ExecuteTime": {
     "end_time": "2024-06-15T18:33:18.662254300Z",
     "start_time": "2024-06-15T18:33:18.635317600Z"
    }
   },
   "id": "52ac7453493b3b80",
   "execution_count": 242
  },
  {
   "cell_type": "code",
   "outputs": [
    {
     "data": {
      "text/plain": "                                           Monologue\n0  \\nAs we stand at the precipice of another era,...\n1  \\n\\n<MONO>From ancient times, man has sought s...\n2  \\n\\n<MONO>You have been chosen, brave adventur...\n3  \\nAs the sun dips below the horizon, casting l...\n4  \\n\\n<MONO>You wake up in darkness, your head p...",
      "text/html": "<div>\n<style scoped>\n    .dataframe tbody tr th:only-of-type {\n        vertical-align: middle;\n    }\n\n    .dataframe tbody tr th {\n        vertical-align: top;\n    }\n\n    .dataframe thead th {\n        text-align: right;\n    }\n</style>\n<table border=\"1\" class=\"dataframe\">\n  <thead>\n    <tr style=\"text-align: right;\">\n      <th></th>\n      <th>Monologue</th>\n    </tr>\n  </thead>\n  <tbody>\n    <tr>\n      <th>0</th>\n      <td>\\nAs we stand at the precipice of another era,...</td>\n    </tr>\n    <tr>\n      <th>1</th>\n      <td>\\n\\n&lt;MONO&gt;From ancient times, man has sought s...</td>\n    </tr>\n    <tr>\n      <th>2</th>\n      <td>\\n\\n&lt;MONO&gt;You have been chosen, brave adventur...</td>\n    </tr>\n    <tr>\n      <th>3</th>\n      <td>\\nAs the sun dips below the horizon, casting l...</td>\n    </tr>\n    <tr>\n      <th>4</th>\n      <td>\\n\\n&lt;MONO&gt;You wake up in darkness, your head p...</td>\n    </tr>\n  </tbody>\n</table>\n</div>"
     },
     "execution_count": 243,
     "metadata": {},
     "output_type": "execute_result"
    }
   ],
   "source": [
    "answers_df"
   ],
   "metadata": {
    "collapsed": false,
    "ExecuteTime": {
     "end_time": "2024-06-15T18:33:18.664255300Z",
     "start_time": "2024-06-15T18:33:18.639113Z"
    }
   },
   "id": "e5f248355df5dc9f",
   "execution_count": 243
  },
  {
   "cell_type": "code",
   "outputs": [],
   "source": [
    "#export the answers to an excel file\n",
    "answers_df.to_excel('Mistral_Monologue_Answers_Only.xlsx', index=False)"
   ],
   "metadata": {
    "collapsed": false,
    "ExecuteTime": {
     "end_time": "2024-06-15T18:33:18.723283400Z",
     "start_time": "2024-06-15T18:33:18.648251600Z"
    }
   },
   "id": "6d7f39c2ca00a11e",
   "execution_count": 244
  },
  {
   "cell_type": "code",
   "outputs": [],
   "source": [
    "import pandas as pd\n",
    "#import the answers from the excel file answes_test.xlsx with a column named Dialogue\n",
    "answers_df = pd.read_excel('Mistral_Monologue_Answers_Only.xlsx')\n",
    "#name the column Dialogue\n",
    "answers_df.columns = ['Monologue']"
   ],
   "metadata": {
    "collapsed": false,
    "ExecuteTime": {
     "end_time": "2024-06-15T18:37:08.424451500Z",
     "start_time": "2024-06-15T18:37:08.385138900Z"
    }
   },
   "id": "4aa21490c416d8fb",
   "execution_count": 249
  },
  {
   "cell_type": "code",
   "outputs": [],
   "source": [
    "#convert everything in the answers_df to a string\n",
    "answers_df = answers_df.map(str)"
   ],
   "metadata": {
    "collapsed": false,
    "ExecuteTime": {
     "end_time": "2024-06-15T18:37:09.108241200Z",
     "start_time": "2024-06-15T18:37:09.090732700Z"
    }
   },
   "id": "dca04aa64be26c9d",
   "execution_count": 250
  },
  {
   "cell_type": "code",
   "outputs": [
    {
     "data": {
      "text/plain": "                                           Monologue\n0  \\n<MONO>As we stand at the precipice of anothe...\n1  \\n<MONO>Welcome, traveler, to this land of ete...\n2  \\n\\n<MONO>Welcome traveler, to the harsh and u...\n3  \\n\\n<MONO>Five years have passed since the eve...\n4  \\n<MONO>Welcome to the Wasteland, traveler. Th...",
      "text/html": "<div>\n<style scoped>\n    .dataframe tbody tr th:only-of-type {\n        vertical-align: middle;\n    }\n\n    .dataframe tbody tr th {\n        vertical-align: top;\n    }\n\n    .dataframe thead th {\n        text-align: right;\n    }\n</style>\n<table border=\"1\" class=\"dataframe\">\n  <thead>\n    <tr style=\"text-align: right;\">\n      <th></th>\n      <th>Monologue</th>\n    </tr>\n  </thead>\n  <tbody>\n    <tr>\n      <th>0</th>\n      <td>\\n&lt;MONO&gt;As we stand at the precipice of anothe...</td>\n    </tr>\n    <tr>\n      <th>1</th>\n      <td>\\n&lt;MONO&gt;Welcome, traveler, to this land of ete...</td>\n    </tr>\n    <tr>\n      <th>2</th>\n      <td>\\n\\n&lt;MONO&gt;Welcome traveler, to the harsh and u...</td>\n    </tr>\n    <tr>\n      <th>3</th>\n      <td>\\n\\n&lt;MONO&gt;Five years have passed since the eve...</td>\n    </tr>\n    <tr>\n      <th>4</th>\n      <td>\\n&lt;MONO&gt;Welcome to the Wasteland, traveler. Th...</td>\n    </tr>\n  </tbody>\n</table>\n</div>"
     },
     "execution_count": 251,
     "metadata": {},
     "output_type": "execute_result"
    }
   ],
   "source": [
    "answers_df"
   ],
   "metadata": {
    "collapsed": false,
    "ExecuteTime": {
     "end_time": "2024-06-15T18:37:09.651562700Z",
     "start_time": "2024-06-15T18:37:09.633023800Z"
    }
   },
   "id": "889a1d8e9a814031",
   "execution_count": 251
  },
  {
   "cell_type": "code",
   "outputs": [
    {
     "data": {
      "text/plain": "                                           Monologue\n0  As we stand at the precipice of another era, t...\n1  Welcome, traveler, to this land of eternal tor...\n2  Welcome traveler, to the harsh and untamed fro...\n3  Five years have passed since the events surrou...\n4  Welcome to the Wasteland, traveler. This land ...",
      "text/html": "<div>\n<style scoped>\n    .dataframe tbody tr th:only-of-type {\n        vertical-align: middle;\n    }\n\n    .dataframe tbody tr th {\n        vertical-align: top;\n    }\n\n    .dataframe thead th {\n        text-align: right;\n    }\n</style>\n<table border=\"1\" class=\"dataframe\">\n  <thead>\n    <tr style=\"text-align: right;\">\n      <th></th>\n      <th>Monologue</th>\n    </tr>\n  </thead>\n  <tbody>\n    <tr>\n      <th>0</th>\n      <td>As we stand at the precipice of another era, t...</td>\n    </tr>\n    <tr>\n      <th>1</th>\n      <td>Welcome, traveler, to this land of eternal tor...</td>\n    </tr>\n    <tr>\n      <th>2</th>\n      <td>Welcome traveler, to the harsh and untamed fro...</td>\n    </tr>\n    <tr>\n      <th>3</th>\n      <td>Five years have passed since the events surrou...</td>\n    </tr>\n    <tr>\n      <th>4</th>\n      <td>Welcome to the Wasteland, traveler. This land ...</td>\n    </tr>\n  </tbody>\n</table>\n</div>"
     },
     "execution_count": 260,
     "metadata": {},
     "output_type": "execute_result"
    }
   ],
   "source": [
    "#itterate through the answers_df and if the <LINE> </LINE> tags are present, keep the text between the tags for all the pairs if there are two pairs keep the second pair\n",
    "import re\n",
    "\n",
    "for i in range(0, len(answers_df)):\n",
    "    matches = re.findall(r'<MONO>(.*?)</MONO>', answers_df['Monologue'][i])\n",
    "    if len(matches) > 0:\n",
    "        answers_df.loc[i, 'Monologue'] = matches[0]\n",
    "\n",
    "#remove the /n from the answers_df\n",
    "answers_df = answers_df.replace('\\n', '', regex=True)\n",
    "        \n",
    "answers_df"
   ],
   "metadata": {
    "collapsed": false,
    "ExecuteTime": {
     "end_time": "2024-06-15T18:43:19.961413900Z",
     "start_time": "2024-06-15T18:43:19.936396100Z"
    }
   },
   "id": "d67dc7444ea4b6ea",
   "execution_count": 260
  },
  {
   "cell_type": "code",
   "outputs": [
    {
     "data": {
      "text/plain": "0    War has changed. It's no longer about nations,...\n1    In the Age of Ancients the world was unformed,...\n2    So you want to hear a story, huh? What about t...\n3    Eora: a world where mortals live, die, and are...\n4    War. War never changes. The Romans waged war t...\nName: Monologue, dtype: object"
     },
     "execution_count": 262,
     "metadata": {},
     "output_type": "execute_result"
    }
   ],
   "source": [
    "# remove the from the test dialogues\n",
    "test_monologues"
   ],
   "metadata": {
    "collapsed": false,
    "ExecuteTime": {
     "end_time": "2024-06-15T18:44:01.790295Z",
     "start_time": "2024-06-15T18:44:01.753798Z"
    }
   },
   "id": "8e5b71cc4380e9ea",
   "execution_count": 262
  },
  {
   "cell_type": "markdown",
   "id": "bef0d5c5cee19e4f",
   "metadata": {
    "collapsed": false
   },
   "source": [
    "# BERT Score"
   ]
  },
  {
   "cell_type": "code",
   "outputs": [
    {
     "name": "stderr",
     "output_type": "stream",
     "text": [
      "Some weights of RobertaModel were not initialized from the model checkpoint at roberta-large and are newly initialized: ['roberta.pooler.dense.bias', 'roberta.pooler.dense.weight']\n",
      "You should probably TRAIN this model on a down-stream task to be able to use it for predictions and inference.\n",
      "Some weights of RobertaModel were not initialized from the model checkpoint at roberta-large and are newly initialized: ['roberta.pooler.dense.bias', 'roberta.pooler.dense.weight']\n",
      "You should probably TRAIN this model on a down-stream task to be able to use it for predictions and inference.\n",
      "Some weights of RobertaModel were not initialized from the model checkpoint at roberta-large and are newly initialized: ['roberta.pooler.dense.bias', 'roberta.pooler.dense.weight']\n",
      "You should probably TRAIN this model on a down-stream task to be able to use it for predictions and inference.\n",
      "Some weights of RobertaModel were not initialized from the model checkpoint at roberta-large and are newly initialized: ['roberta.pooler.dense.bias', 'roberta.pooler.dense.weight']\n",
      "You should probably TRAIN this model on a down-stream task to be able to use it for predictions and inference.\n",
      "Some weights of RobertaModel were not initialized from the model checkpoint at roberta-large and are newly initialized: ['roberta.pooler.dense.bias', 'roberta.pooler.dense.weight']\n",
      "You should probably TRAIN this model on a down-stream task to be able to use it for predictions and inference.\n"
     ]
    },
    {
     "name": "stdout",
     "output_type": "stream",
     "text": [
      "Average Precision: 0.8349611\n",
      "Average Recall: 0.8226248\n",
      "Average F1 Score: 0.82871735\n"
     ]
    }
   ],
   "source": [
    "# Calculate BERTScore\n",
    "from bert_score import score\n",
    "import numpy as np\n",
    "\n",
    "# Lists of candidates and references\n",
    "candidates = answers_df['Monologue'].tolist()\n",
    "references = test_monologues.tolist()\n",
    "# Ensure that each candidate has a corresponding reference\n",
    "assert len(candidates) == len(references), \"Each candidate must have a corresponding reference.\"\n",
    "\n",
    "# Calculate BERTScore for each pair\n",
    "precision_scores = []\n",
    "recall_scores = []\n",
    "f1_scores = []\n",
    "\n",
    "for cand, ref in zip(candidates, references):\n",
    "    P, R, F1 = score([cand], [ref], lang='en')\n",
    "    precision_scores.append(P.numpy())\n",
    "    recall_scores.append(R.numpy())\n",
    "    f1_scores.append(F1.numpy())\n",
    "    \n",
    "\n",
    "# Calculate the average of each metric\n",
    "average_precision = np.mean(precision_scores)\n",
    "average_recall = np.mean(recall_scores)\n",
    "average_f1 = np.mean(f1_scores)\n",
    "\n",
    "print(\"Average Precision:\", average_precision)\n",
    "print(\"Average Recall:\", average_recall)\n",
    "print(\"Average F1 Score:\", average_f1)\n"
   ],
   "metadata": {
    "collapsed": false,
    "ExecuteTime": {
     "end_time": "2024-06-15T18:44:53.777500600Z",
     "start_time": "2024-06-15T18:44:44.082722500Z"
    }
   },
   "id": "529e21fd0e7f1d0f",
   "execution_count": 264
  },
  {
   "cell_type": "code",
   "outputs": [
    {
     "name": "stdout",
     "output_type": "stream",
     "text": [
      "Average ROUGE-1 Scores: {'f': 0.17951848006315418, 'p': 0.2074501428649394, 'r': 0.16261329157964144}\n",
      "Average ROUGE-2 Scores: {'f': 0.018690965430843722, 'p': 0.02561437142393997, 'r': 0.015241315095087582}\n",
      "Average ROUGE-L Scores: {'f': 0.16040394604610636, 'p': 0.1846046270820883, 'r': 0.14562152995380667}\n"
     ]
    }
   ],
   "source": [
    "import warnings\n",
    "from rouge import Rouge\n",
    "import pandas as pd\n",
    "\n",
    "# Suppress warnings if necessary\n",
    "warnings.filterwarnings('ignore')\n",
    "\n",
    "# Assuming the DataFrame and columns are properly set\n",
    "# Ensure these columns contain strings\n",
    "candidates = answers_df['Monologue'].tolist()  # Replace 'candidate_column' with your DataFrame column\n",
    "references = test_monologues.tolist()  # Replace 'reference_column' with your DataFrame column\n",
    "\n",
    "# Ensure that each candidate has a corresponding reference\n",
    "assert len(candidates) == len(references), \"Each candidate must have a corresponding reference.\"\n",
    "\n",
    "# Initialize the Rouge object\n",
    "rouge = Rouge()\n",
    "\n",
    "# Initialize dictionaries to hold aggregated scores\n",
    "rouge_1_scores = {'f': [], 'p': [], 'r': []}\n",
    "rouge_2_scores = {'f': [], 'p': [], 'r': []}\n",
    "rouge_l_scores = {'f': [], 'p': [], 'r': []}\n",
    "\n",
    "# Calculate ROUGE scores for each pair\n",
    "for cand, ref in zip(candidates, references):\n",
    "    scores = rouge.get_scores(cand, ref, avg=False)[0]  # Obtain scores for the first (and only) pair\n",
    "    # Store ROUGE scores in respective dictionaries\n",
    "    rouge_1_scores['f'].append(scores['rouge-1']['f'])\n",
    "    rouge_1_scores['p'].append(scores['rouge-1']['p'])\n",
    "    rouge_1_scores['r'].append(scores['rouge-1']['r'])\n",
    "    \n",
    "    rouge_2_scores['f'].append(scores['rouge-2']['f'])\n",
    "    rouge_2_scores['p'].append(scores['rouge-2']['p'])\n",
    "    rouge_2_scores['r'].append(scores['rouge-2']['r'])\n",
    "    \n",
    "    rouge_l_scores['f'].append(scores['rouge-l']['f'])\n",
    "    rouge_l_scores['p'].append(scores['rouge-l']['p'])\n",
    "    rouge_l_scores['r'].append(scores['rouge-l']['r'])\n",
    "\n",
    "# Calculate the average of each ROUGE metric\n",
    "def average_score(score_list):\n",
    "    return sum(score_list) / len(score_list) if score_list else 0\n",
    "\n",
    "print(\"Average ROUGE-1 Scores:\", {k: average_score(v) for k, v in rouge_1_scores.items()})\n",
    "print(\"Average ROUGE-2 Scores:\", {k: average_score(v) for k, v in rouge_2_scores.items()})\n",
    "print(\"Average ROUGE-L Scores:\", {k: average_score(v) for k, v in rouge_l_scores.items()})\n"
   ],
   "metadata": {
    "collapsed": false,
    "ExecuteTime": {
     "end_time": "2024-06-15T18:45:19.526496200Z",
     "start_time": "2024-06-15T18:45:18.538778800Z"
    }
   },
   "id": "7e534de18988c19a",
   "execution_count": 265
  }
 ],
 "metadata": {
  "kernelspec": {
   "display_name": "Python 3 (ipykernel)",
   "language": "python",
   "name": "python3"
  },
  "language_info": {
   "codemirror_mode": {
    "name": "ipython",
    "version": 3
   },
   "file_extension": ".py",
   "mimetype": "text/x-python",
   "name": "python",
   "nbconvert_exporter": "python",
   "pygments_lexer": "ipython3",
   "version": "3.12.0"
  }
 },
 "nbformat": 4,
 "nbformat_minor": 5
}
