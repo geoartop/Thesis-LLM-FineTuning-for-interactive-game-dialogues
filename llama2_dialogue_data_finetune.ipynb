{
 "cells": [
  {
   "cell_type": "code",
   "execution_count": 666,
   "id": "initial_id",
   "metadata": {
    "collapsed": true,
    "jupyter": {
     "outputs_hidden": true
    },
    "ExecuteTime": {
     "end_time": "2024-06-16T09:20:05.932230Z",
     "start_time": "2024-06-16T09:20:03.487086900Z"
    }
   },
   "outputs": [
    {
     "data": {
      "text/plain": "Generating train split: 0 examples [00:00, ? examples/s]",
      "application/vnd.jupyter.widget-view+json": {
       "version_major": 2,
       "version_minor": 0,
       "model_id": "5ba7eb407d9545dda9add3f3d0c23bed"
      }
     },
     "metadata": {},
     "output_type": "display_data"
    }
   ],
   "source": [
    "from datasets import load_dataset\n",
    "\n",
    "train_dataset = load_dataset(\"json\", data_files=\"dataset_final_results/stratified_train.json\")\n",
    "val_dataset = load_dataset(\"json\", data_files=\"dataset_final_results/stratified_val.json\")\n",
    "test_dataset = load_dataset(\"json\", data_files=\"dataset_final_results/stratified_test.json\")"
   ]
  },
  {
   "cell_type": "code",
   "execution_count": 2,
   "id": "8f92a617057aac80",
   "metadata": {
    "collapsed": false,
    "ExecuteTime": {
     "end_time": "2024-06-15T22:24:31.081176600Z",
     "start_time": "2024-06-15T22:24:31.073860200Z"
    }
   },
   "outputs": [
    {
     "data": {
      "text/plain": "DatasetDict({\n    train: Dataset({\n        features: ['Condition', 'Line_of_dialogue', 'Response_to', 'Equipment', 'Tone', 'Speaker', 'Dialogue', 'Event', 'Result', 'Location', 'Race'],\n        num_rows: 1417\n    })\n})"
     },
     "execution_count": 2,
     "metadata": {},
     "output_type": "execute_result"
    }
   ],
   "source": [
    "train_dataset"
   ]
  },
  {
   "cell_type": "code",
   "execution_count": 3,
   "id": "b0c6ecad2a2d2007",
   "metadata": {
    "collapsed": false,
    "ExecuteTime": {
     "end_time": "2024-06-15T22:24:31.097224400Z",
     "start_time": "2024-06-15T22:24:31.081176600Z"
    }
   },
   "outputs": [
    {
     "data": {
      "text/plain": "DatasetDict({\n    train: Dataset({\n        features: ['Condition', 'Line_of_dialogue', 'Response_to', 'Equipment', 'Tone', 'Speaker', 'Dialogue', 'Event', 'Result', 'Location', 'Race'],\n        num_rows: 175\n    })\n})"
     },
     "execution_count": 3,
     "metadata": {},
     "output_type": "execute_result"
    }
   ],
   "source": [
    "val_dataset"
   ]
  },
  {
   "cell_type": "code",
   "execution_count": 4,
   "id": "61a9af870c68ea6a",
   "metadata": {
    "collapsed": false,
    "ExecuteTime": {
     "end_time": "2024-06-15T22:24:31.099224300Z",
     "start_time": "2024-06-15T22:24:31.088490300Z"
    }
   },
   "outputs": [
    {
     "data": {
      "text/plain": "DatasetDict({\n    train: Dataset({\n        features: ['Condition', 'Line_of_dialogue', 'Response_to', 'Equipment', 'Tone', 'Speaker', 'Dialogue', 'Event', 'Result', 'Location', 'Race'],\n        num_rows: 181\n    })\n})"
     },
     "execution_count": 4,
     "metadata": {},
     "output_type": "execute_result"
    }
   ],
   "source": [
    "test_dataset"
   ]
  },
  {
   "cell_type": "code",
   "execution_count": 5,
   "id": "dad8e9abba327408",
   "metadata": {
    "collapsed": false,
    "ExecuteTime": {
     "end_time": "2024-06-15T22:24:36.224422600Z",
     "start_time": "2024-06-15T22:24:31.094223800Z"
    }
   },
   "outputs": [],
   "source": [
    "from accelerate import FullyShardedDataParallelPlugin, Accelerator\n",
    "from torch.distributed.fsdp.fully_sharded_data_parallel import FullOptimStateDictConfig, FullStateDictConfig\n",
    "\n",
    "fsdp_plugin = FullyShardedDataParallelPlugin(\n",
    "    state_dict_config=FullStateDictConfig(offload_to_cpu=True, rank0_only=False),\n",
    "    optim_state_dict_config=FullOptimStateDictConfig(offload_to_cpu=True, rank0_only=False),\n",
    ")\n",
    "\n",
    "accelerator = Accelerator(fsdp_plugin=fsdp_plugin)"
   ]
  },
  {
   "cell_type": "code",
   "execution_count": 6,
   "id": "131418b6535338bf",
   "metadata": {
    "collapsed": false,
    "ExecuteTime": {
     "end_time": "2024-06-15T22:24:36.231146300Z",
     "start_time": "2024-06-15T22:24:36.206229800Z"
    }
   },
   "outputs": [],
   "source": [
    "def formatting_func(example):\n",
    "\n",
    "\n",
    "    description = f\"\"\"The following text elaborates on what line of dialogue is used by an NPC in a certain event. The text will be enclosed within <START> and <END>. There are specific rules that apply only to the text: the event will be enclosed within <EVENT> and </EVENT>, the type of speaker will be enclosed within <SPEAKER> and </SPEAKER> and the line used will be enclosed within <LINE> and </LINE>.\n",
    "\n",
    "\"\"\"\n",
    "    if example['Event'] == \"Greeting\":\n",
    "\n",
    "        description = f\"\"\"The following text describes a greeting exchange between the Player and an NPC. The text will be enclosed within <START> and <END>. There are specific rules that apply only to the text: the event will be enclosed within <EVENT> and </EVENT>, the type of speaker will be enclosed within <SPEAKER> and </SPEAKER>, the line used will be enclosed within <LINE> and </LINE>, and the tone of the line will be enclosed within <TONE> and </TONE>.\n",
    "\n",
    "\"\"\"\n",
    "    elif example['Event'] == \"NPCs fighting over a Player's dropped item\":\n",
    "\n",
    "        description = f\"\"\"The following text describes an exchange where multiple NPCs are fighting over a Player's dropped item and one of them uses a line of dialogue. The text will be enclosed within <START> and <END>. There are specific rules that apply only to the text: the event will be enclosed within <EVENT> and </EVENT>, the type of speaker will be enclosed within <SPEAKER> and </SPEAKER>, the line used will be enclosed within <LINE> and </LINE>, and the number of the current spoken line in the dialogue will be enclosed within <NUMBER> and </NUMBER>.\n",
    "\n",
    "\"\"\"\n",
    "    elif example['Condition'] == \"in combat\":\n",
    "\n",
    "        description = f\"\"\"The following text elaborates on which line of dialogue a friendly NPC uses when it is in combat. The text will be enclosed within <START> and <END>. There are specific rules that apply only to the text: the event will be enclosed within <EVENT> and </EVENT>,the type of speaker will be enclosed within <SPEAKER> and </SPEAKER>, the line used will be enclosed within <LINE> and </LINE>, and  the condition will be enclosed within <CONDITION> and </CONDITION>.\n",
    "\n",
    "\"\"\"\n",
    "    elif example['Result'] is not None:\n",
    "\n",
    "        description = f\"\"\"The following text text elaborates on which line of dialogue is used by an NPC when the Player character tries to persuade them. The text will be enclosed within <START> and <END>. There are specific rules that apply only to the text: the event will be enclosed within <EVENT> and </EVENT>,the type of speaker will be enclosed within <SPEAKER> and </SPEAKER>, the line used will be enclosed within <LINE> and </LINE> and the result of the event will be enclosed within <RESULT> and </RESULT> .\n",
    "\n",
    "\"\"\"\n",
    "    elif example['Race'] is not None:\n",
    "\n",
    "        description = f\"\"\"The following text describes the reaction of a Guard based on the Player's race. The text will be enclosed within <START> and <END>. There are specific rules that apply only to the text: the event will be enclosed within <EVENT> and </EVENT>, the type of speaker will be enclosed within <SPEAKER> and </SPEAKER>, the line used will be enclosed within <LINE> and </LINE>, the race of the Player will be enclosed within <RACE> and </RACE>, and the condition, if there is one, will be enclosed within <CONDITION> and </CONDITION>.\n",
    "\n",
    "\"\"\"\n",
    "    elif example['Equipment'] is not None:\n",
    "\n",
    "        description = f\"\"\"The following text describes the reaction of a Guard based on the Player's equipment. The text will be enclosed within <START> and <END>. There are specific rules that apply only to the text: the event will be enclosed within <EVENT> and </EVENT>, the type of speaker will be enclosed within <SPEAKER> and </SPEAKER>, the line used will be enclosed within <LINE> and </LINE>, the equipment of the Player will be enclosed within <EQUIPMENT> and </EQUIPMENT>, and the condition, if there is one, will be enclosed within <CONDITION> and </CONDITION>.\n",
    "\n",
    "\"\"\"\n",
    "    elif example['Location'] is not None:\n",
    "\n",
    "        description = f\"\"\"The following text describes a special interaction of a Guard based on the Player's location. The text will be enclosed within <START> and <END>. There are specific rules that apply only to the text: the event will be enclosed within <EVENT> and </EVENT>, the type of speaker will be enclosed within <SPEAKER> and </SPEAKER>, the line used will be enclosed within <LINE> and </LINE>, the location of the Player will be enclosed within <LOCATION> and </LOCATION>, and the condition, if there is one, will be enclosed within <CONDITION> and </CONDITION>.\n",
    "\n",
    "\"\"\"\n",
    "\n",
    "    elif example['Response_to'] is not None:\n",
    "\n",
    "        description = f\"\"\"The following text describes a part of a dialogue between and NPC and the Player in the case of a certain event. The text will be enclosed within <START> and <END>. There are specific rules that apply only to the text: the event will be enclosed within <EVENT> and </EVENT>, the type of speaker will be enclosed within <SPEAKER> and </SPEAKER>, the line used will be enclosed within <LINE> and </LINE>, and the line that the speaker responds to, will be enclosed within <RESPONSE> and </RESPONSE>.\n",
    "\n",
    "\"\"\"\n",
    "    elif example['Condition'] is not None:\n",
    "\n",
    "        description = f\"\"\"The following text elaborates on a line of dialogue used by an NPC in a certain event under a condition. The text will be enclosed within <START> and <END>. There are specific rules that apply only to the text: the event will be enclosed within <EVENT> and </EVENT>, the type of speaker will be enclosed within <SPEAKER> and </SPEAKER>, the line used will be enclosed within <LINE> and </LINE>, and the condition, will be enclosed within <CONDITION> and </CONDITION>.\n",
    "\n",
    "\"\"\"\n",
    "\n",
    "\n",
    "    if example['Speaker'] == \"Any\":\n",
    "\n",
    "        npc_type = \"the NPC, that is of any type\"\n",
    "\n",
    "    elif \"Guard\" in example['Speaker']:\n",
    "\n",
    "        npc_type = f'the {example[\"Speaker\"]}'\n",
    "\n",
    "    elif \"trainer\" in example['Event']:\n",
    "\n",
    "        npc_type = f\"\"\"the trainer NPC, that is named {example['Speaker']}\"\"\"\n",
    "\n",
    "    elif example['Speaker'] == \"Housecarl\":\n",
    "\n",
    "        npc_type = \"the Housecarl\"\n",
    "\n",
    "    else:\n",
    "\n",
    "        npc_type = f'the NPC, that is the type {example[\"Speaker\"]}'\n",
    "\n",
    "\n",
    "\n",
    "    if example['Event'] == \"Greeting\":\n",
    "\n",
    "        return description + f\"\"\"<START>\n",
    "In the world of Skyrim from the game Elder Scrolls V, in the event of a <EVENT>{example['Event']}</EVENT>, between an NPC and the Player character, <SPEAKER>{npc_type}</SPEAKER> greets the Player, in a <TONE>{example['Tone']}</TONE> tone, using the following line of dialogue: <LINE>{example['Dialogue']}</LINE>.\n",
    "<END>\"\"\"\n",
    "\n",
    "\n",
    "    if example['Event'] == \"Goodbye\":\n",
    "\n",
    "        return description + f\"\"\"<START>\n",
    "In the world of Skyrim from the game Elder Scrolls V, in the event of a <EVENT>{example['Event']}</EVENT>, between an NPC and the Player character,<SPEAKER>{npc_type}</SPEAKER> tells their goodbyes to the Player using the following line of dialogue: <LINE>{example['Dialogue']}</LINE>.\n",
    "<END>\"\"\"\n",
    "\n",
    "\n",
    "    if example['Event'] == \"NPCs fighting over a Player's dropped item\":\n",
    "\n",
    "        return description + f\"\"\"<START>\n",
    "In the world of Skyrim from the game Elder Scrolls V, in the event of <EVENT>{example['Event']}</EVENT>, there can be up to 5 different NPCs arguing over an item that the Player character dropped and up to 2 bystander NPCs commenting on the situation. Up to five lines of dialogue can be exchanged between up to five different NPCs that are arguing and up to two lines of bystander dialogue can be used by up to two different bystander NPCs, meaning that the conversation ends after a maximum of 7 lines of dialogue have been said. In this case one of the NPCs that takes part in the arguing and is <SPEAKER>{npc_type}</SPEAKER>, says, as the <NUMBER>{example['Line_of_dialogue']}</NUMBER> line of the dialogue, the following line: <LINE>{example['Dialogue']}</LINE>.\n",
    "<END>\"\"\"\n",
    "\n",
    "    if example['Event'] == \"NPC asking for the Player's dropped armor\":\n",
    "\n",
    "        if example['Speaker'] == \"Player\":\n",
    "            return description + f\"\"\"<START>\n",
    "In the world of Skyrim from the game Elder Scrolls V, in the event of an <EVENT>{example['Event']}</EVENT>, there is a conversation between the Player character and an NPC about the Player's dropped item.\n",
    "In this case in response to the NPC's previous line of dialogue: <RESPONSE>{example['Response_to']}</RESPONSE>,the <SPEAKER>Player</SPEAKER> character uses the following line of dialogue: <LINE>{example['Dialogue']}</LINE>.\n",
    "<END>\"\"\"\n",
    "\n",
    "        if example['Response_to'] is not None:\n",
    "\n",
    "            return description + f\"\"\"<START>\n",
    "In the world of Skyrim from the game Elder Scrolls V, in the event of an <EVENT>{example['Event']}</EVENT> there is a conversation between the Player character and an NPC about the Player's dropped item.\n",
    "In this case in response to the Player character's previous line of dialogue: <RESPONSE>{example['Response_to']}</RESPONSE>, <SPEAKER>{npc_type}</SPEAKER> uses the following line of dialogue: <LINE>{example['Dialogue']}</LINE>.\n",
    "<END>\"\"\"\n",
    "        else:\n",
    "\n",
    "            return description + f\"\"\"<START>\n",
    "In the world of Skyrim from the game Elder Scrolls V, in the event of an <EVENT>{example['Event']}</EVENT> there is a conversation between the Player character and an NPC about the Player's dropped item.\n",
    "In this case to initiate a conversation about the Player's dropped item, <SPEAKER>{npc_type}</SPEAKER> uses the following line of dialogue: <LINE>{example['Dialogue']}</LINE>.\n",
    "<END>\"\"\"\n",
    "\n",
    "    if example['Condition'] == \"in combat\":\n",
    "\n",
    "        return description + f\"\"\"<START>\n",
    "In the world of Skyrim from the game Elder Scrolls V, when the Player character and a friendly NPC are <CONDITION>{example['Condition']}</CONDITION>, when <EVENT>{example['Event']}</EVENT>,<SPEAKER>{npc_type}</SPEAKER> uses the following line of dialogue: <LINE>{example['Dialogue']}</LINE>.\n",
    "<END>\"\"\"\n",
    "\n",
    "    if example['Result'] is not None:\n",
    "\n",
    "            return description + f\"\"\"<START>\n",
    "In the world of Skyrim from the game Elder Scrolls V, when the Player character tries to check if an NPC of any type can be persuaded, when <EVENT>{example['Event']}</EVENT> and as a result </RESULT>{example['Result']}<RESULT>, the <SPEAKER>{npc_type}</SPEAKER> uses the following line of dialogue: <LINE>{example['Dialogue']}</LINE>.\n",
    "<END>\"\"\"\n",
    "\n",
    "    if example['Event'] == \"an NPC spots the Player character having an amulet of mara\":\n",
    "\n",
    "        if example['Speaker'] == \"Player\":\n",
    "\n",
    "            return description + f\"\"\"<START>\n",
    "In the world of Skyrim from the game Elder Scrolls V, when <EVENT>{example['Event']}</EVENT> an interaction begins between the two about the possibility of marriage.\n",
    "In this case in response to the the NPC's previous dialogue line: <RESPONSE>{example['Response_to']}</RESPONSE>, the <SPEAKER>Player</SPEAKER> character uses the following line of dialogue: <LINE>{example['Dialogue']}</LINE>.\n",
    "<END>\"\"\"\n",
    "\n",
    "        if example['Response_to'] is None:\n",
    "\n",
    "            return description +  f\"\"\"<START>\n",
    "In the world of Skyrim from the game Elder Scrolls V, when <EVENT>{example['Event']}</EVENT> an interaction begins between the two about the possibility of marriage.\n",
    "In this case to initiate the conversation about marriage, <SPEAKER>{npc_type}</SPEAKER> uses the following line of dialogue: <LINE>{example['Dialogue']}</LINE>.\n",
    "<END>\"\"\"\n",
    "\n",
    "        else:\n",
    "\n",
    "            return description + f\"\"\"<START>\n",
    "In the world of Skyrim from the game Elder Scrolls V, when <EVENT>{example['Event']}</EVENT> an interaction begins between the two about the possibility of marriage.\n",
    "In this case in response to the the Player's previous dialogue line: <RESPONSE>{example['Response_to']}</RESPONSE>, <SPEAKER>{npc_type}</SPEAKER> uses the following line of dialogue: <LINE>{example['Dialogue']}</LINE>.\n",
    "<END>\"\"\"\n",
    "\n",
    "    if example['Race'] is not None:\n",
    "\n",
    "        if example['Condition'] is not None:\n",
    "\n",
    "            return description + f\"\"\"<START>\n",
    "In the world of Skyrim from the game Elder Scrolls V, Town Guards have special reactions to the race of the Player character, in the case of <EVENT>{example['Event']}</EVENT>, if the Player's race is <RACE>{example['Race']}</RACE> and <CONDITION>{example['Condition']}</CONDITION>, the <SPEAKER>Guard</SPEAKER> uses the following line of dialogue: <LINE>{example['Dialogue']}</LINE>.\n",
    "<END>\"\"\"\n",
    "\n",
    "        else:\n",
    "\n",
    "            return description + f\"\"\"<START>\n",
    "In the world of Skyrim from the game Elder Scrolls V, Town Guards have special reactions to the race of the Player character, so in the case of <EVENT>{example['Event']}</EVENT>, if the Player's race is <RACE>{example['Race']}</RACE>, the <SPEAKER>Guard</SPEAKER> uses the following line of dialogue: <LINE>{example['Dialogue']}</LINE>.\n",
    "<END>\"\"\"\n",
    "\n",
    "    if example['Equipment'] is not None:\n",
    "\n",
    "        if example['Condition'] is not None:\n",
    "\n",
    "            return description + f\"\"\"<START>\n",
    "In the world of Skyrim from the game Elder Scrolls V, Town Guards have special reactions to the equipment the Player character is holding or has equipped, so when in the case of a <EVENT>{example['Event']}</EVENT> and <CONDITION>{example['Condition']}</CONDITION>, to react to the Player's <EQUIPMENT>{example['Equipment']}</EQUIPMENT>, the <SPEAKER>Guard</SPEAKER> uses the following line of dialogue: <LINE>{example['Dialogue']}</LINE>.\n",
    "<END>\"\"\"\n",
    "\n",
    "        else:\n",
    "\n",
    "            return description + f\"\"\"<START>\n",
    "In the world of Skyrim from the game Elder Scrolls V, Town Guards have special reactions to the equipment the Player character is holding or has equipped, so when in the case of a <EVENT>{example['Event']}</EVENT>, to react to the Player's <EQUIPMENT>{example['Equipment']}</EQUIPMENT>, the <SPEAKER>Guard</SPEAKER> uses the following line of dialogue: <LINE>{example['Dialogue']}</LINE>.\n",
    "<END>\"\"\"\n",
    "\n",
    "    if example['Location'] is not None:\n",
    "\n",
    "        if example['Condition'] is not None:\n",
    "\n",
    "            return description + f\"\"\"<START>\n",
    "In the world of Skyrim from the game Elder Scrolls V, <EVENT>Town Guards have special interactions with the Player character that are location based</EVENT>, meaning that the Guards sometimes interact with the Player using town specific dialogue.\n",
    "In this case in the town of <LOCATION>{example['Location']}</LOCATION> and on the condition that <CONDITION>{example['Condition']}</CONDITION>, a <SPEAKER>Guard</SPEAKER>, when the Player character interacts with them, uses the following line of dialogue: <LINE>{example['Dialogue']}</LINE>.\n",
    "<END>\"\"\"\n",
    "\n",
    "        else:\n",
    "\n",
    "            return description + f\"\"\"<START>\n",
    "In the world of Skyrim from the game Elder Scrolls V, <EVENT>Town Guards have special interactions with the Player character that are location based</EVENT>, meaning that the Guards sometimes interact with the Player using town specific dialogue.\n",
    "In this case in the town of <LOCATION>{example['Location']}</LOCATION>, a <SPEAKER>Guard</SPEAKER>, when the Player character interacts with them, uses the following line of dialogue: <LINE>{example['Dialogue']}</LINE>.\n",
    "<END>\"\"\"\n",
    "\n",
    "    if example['Condition'] is not None:\n",
    "\n",
    "          return description + f\"\"\"<START>\n",
    "In the world of Skyrim from the game Elder Scrolls V, in the event of <EVENT>{example['Event']}</EVENT> and on the condition that <CONDITION>{example['Condition']}</CONDITION>, <SPEAKER>{npc_type}</SPEAKER>, says the following line to the Player character: <LINE>{example['Dialogue']}</LINE>.\n",
    "<END>\"\"\"\n",
    "\n",
    "    return description + f\"\"\"<START>\n",
    "In the world of Skyrim from the game Elder Scrolls V, in the event of <EVENT>{example['Event']}</EVENT>, <SPEAKER>{npc_type}</SPEAKER>, says the following line to the Player character: <LINE>{example['Dialogue']}</LINE>.\n",
    "<END>\"\"\""
   ]
  },
  {
   "cell_type": "code",
   "outputs": [],
   "source": [
    "# Explicitly setting the token\n",
    "import os\n",
    "os.environ[\"HF_TOKEN\"] = \"\""
   ],
   "metadata": {
    "collapsed": false,
    "ExecuteTime": {
     "end_time": "2024-06-15T22:24:36.255151900Z",
     "start_time": "2024-06-15T22:24:36.222422100Z"
    }
   },
   "id": "a7010b90e0c1f23",
   "execution_count": 7
  },
  {
   "cell_type": "code",
   "execution_count": 8,
   "id": "380cd97b582df263",
   "metadata": {
    "collapsed": false,
    "ExecuteTime": {
     "end_time": "2024-06-15T22:24:37.207741900Z",
     "start_time": "2024-06-15T22:24:36.229146Z"
    }
   },
   "outputs": [],
   "source": [
    "import torch\n",
    "from transformers import AutoTokenizer, AutoModelForCausalLM, BitsAndBytesConfig, AutoConfig\n",
    "config = AutoConfig.from_pretrained(\"meta-llama/Llama-2-7b-hf\")"
   ]
  },
  {
   "cell_type": "code",
   "outputs": [],
   "source": [
    "base_model_id = \"meta-llama/Llama-2-7b-hf\""
   ],
   "metadata": {
    "collapsed": false,
    "ExecuteTime": {
     "end_time": "2024-06-15T22:24:37.212247300Z",
     "start_time": "2024-06-15T22:24:37.207741900Z"
    }
   },
   "id": "d632f344ba9aabd4",
   "execution_count": 9
  },
  {
   "cell_type": "code",
   "outputs": [],
   "source": [
    "bnb_config = BitsAndBytesConfig(\n",
    "    load_in_4bit=True,\n",
    "    bnb_4bit_use_double_quant=True,\n",
    "    bnb_4bit_quant_type=\"nf4\",\n",
    "    bnb_4bit_compute_dtype=torch.bfloat16\n",
    ")"
   ],
   "metadata": {
    "collapsed": false,
    "ExecuteTime": {
     "end_time": "2024-06-15T22:24:37.224071300Z",
     "start_time": "2024-06-15T22:24:37.211247200Z"
    }
   },
   "id": "9a7f272e3e8e4ecc",
   "execution_count": 10
  },
  {
   "cell_type": "code",
   "outputs": [
    {
     "name": "stderr",
     "output_type": "stream",
     "text": [
      "`low_cpu_mem_usage` was None, now set to True since model is quantized.\n"
     ]
    },
    {
     "data": {
      "text/plain": "Loading checkpoint shards:   0%|          | 0/2 [00:00<?, ?it/s]",
      "application/vnd.jupyter.widget-view+json": {
       "version_major": 2,
       "version_minor": 0,
       "model_id": "fe25a8ccaa7f4da09c86d05b79f7f443"
      }
     },
     "metadata": {},
     "output_type": "display_data"
    }
   ],
   "source": [
    "model = AutoModelForCausalLM.from_pretrained(base_model_id, quantization_config=bnb_config,config=config)\n",
    "\n",
    "tokenizer = AutoTokenizer.from_pretrained(\n",
    "    base_model_id,\n",
    "    padding_side=\"left\",\n",
    "    add_eos_token=True,\n",
    "    add_bos_token=True,\n",
    ")\n",
    "tokenizer.pad_token = tokenizer.eos_token\n"
   ],
   "metadata": {
    "collapsed": false,
    "ExecuteTime": {
     "end_time": "2024-06-15T22:24:59.506805500Z",
     "start_time": "2024-06-15T22:24:37.219070Z"
    }
   },
   "id": "5e3d64226cbbc1df",
   "execution_count": 11
  },
  {
   "cell_type": "code",
   "execution_count": 12,
   "id": "cfe4ef3ec3c37141",
   "metadata": {
    "collapsed": false,
    "ExecuteTime": {
     "end_time": "2024-06-15T22:24:59.520545200Z",
     "start_time": "2024-06-15T22:24:59.510540700Z"
    }
   },
   "outputs": [],
   "source": [
    "def generate_and_tokenize_prompt(prompt):\n",
    "    return tokenizer(formatting_func(prompt))"
   ]
  },
  {
   "cell_type": "code",
   "execution_count": 13,
   "id": "6a540269d58fd473",
   "metadata": {
    "collapsed": false,
    "ExecuteTime": {
     "end_time": "2024-06-15T22:24:59.611296600Z",
     "start_time": "2024-06-15T22:24:59.512543300Z"
    }
   },
   "outputs": [],
   "source": [
    "tokenized_train_dataset = train_dataset.map(generate_and_tokenize_prompt)"
   ]
  },
  {
   "cell_type": "code",
   "execution_count": 14,
   "id": "4c4e0d60cc136063",
   "metadata": {
    "collapsed": false,
    "ExecuteTime": {
     "end_time": "2024-06-15T22:24:59.651370300Z",
     "start_time": "2024-06-15T22:24:59.613297Z"
    }
   },
   "outputs": [],
   "source": [
    "tokenized_val_dataset = val_dataset.map(generate_and_tokenize_prompt)"
   ]
  },
  {
   "cell_type": "code",
   "execution_count": 15,
   "id": "fe34416de1121bf2",
   "metadata": {
    "collapsed": false,
    "ExecuteTime": {
     "end_time": "2024-06-15T22:25:00.775086600Z",
     "start_time": "2024-06-15T22:24:59.653369600Z"
    }
   },
   "outputs": [
    {
     "name": "stdout",
     "output_type": "stream",
     "text": [
      "1592\n"
     ]
    },
    {
     "data": {
      "text/plain": "<Figure size 1000x600 with 1 Axes>",
      "image/png": "[encoded data removed]"
     },
     "metadata": {},
     "output_type": "display_data"
    }
   ],
   "source": [
    "import matplotlib.pyplot as plt\n",
    "\n",
    "\n",
    "def plot_data_lengths(tokenized_train_dataset, tokenized_val_dataset):\n",
    "    lengths = [len(x['input_ids']) for x in tokenized_train_dataset['train']]\n",
    "    lengths += [len(x['input_ids']) for x in tokenized_val_dataset['train']]\n",
    "    print(len(lengths))\n",
    "\n",
    "    # Plotting the histogram\n",
    "    plt.figure(figsize=(10, 6))\n",
    "    plt.hist(lengths, bins=20, alpha=0.7, color='blue')\n",
    "    plt.xlabel('Length of input_ids')\n",
    "    plt.ylabel('Frequency')\n",
    "    plt.title('Distribution of Lengths of input_ids')\n",
    "    plt.show()\n",
    "\n",
    "plot_data_lengths(tokenized_train_dataset, tokenized_val_dataset)"
   ]
  },
  {
   "cell_type": "code",
   "execution_count": 16,
   "id": "805a339c5f8c1dbd",
   "metadata": {
    "collapsed": false,
    "ExecuteTime": {
     "end_time": "2024-06-15T22:25:01.289624800Z",
     "start_time": "2024-06-15T22:25:00.772085400Z"
    }
   },
   "outputs": [
    {
     "name": "stdout",
     "output_type": "stream",
     "text": [
      "Mean: 235.16796047988709\n",
      "95th percentile: 299.0\n",
      "Max length: 382\n"
     ]
    }
   ],
   "source": [
    "import numpy as np\n",
    "\n",
    "lengths = [len(x['input_ids']) for x in tokenized_train_dataset['train']]\n",
    "\n",
    "print(f\"Mean: {np.mean(lengths)}\")\n",
    "\n",
    "# Calculate the 95th percentile\n",
    "print(f\"95th percentile: {np.percentile(lengths, 95)}\")\n",
    "\n",
    "# Calculate the max length\n",
    "print(f\"Max length: {np.max(lengths)}\")"
   ]
  },
  {
   "cell_type": "code",
   "execution_count": 17,
   "id": "6b3e76e5d59b83b4",
   "metadata": {
    "collapsed": false,
    "ExecuteTime": {
     "end_time": "2024-06-15T22:25:01.294625900Z",
     "start_time": "2024-06-15T22:25:01.289624800Z"
    }
   },
   "outputs": [],
   "source": [
    "max_length = 382  # This was an appropriate max length for my dataset\n",
    "\n",
    "def generate_and_tokenize_prompt2(prompt):\n",
    "    result = tokenizer(\n",
    "        formatting_func(prompt),\n",
    "        truncation=True,\n",
    "        max_length=max_length,\n",
    "        padding=\"max_length\",\n",
    "    )\n",
    "    result[\"labels\"] = result[\"input_ids\"].copy()\n",
    "    return result"
   ]
  },
  {
   "cell_type": "code",
   "execution_count": 18,
   "id": "a4121ff13e365288",
   "metadata": {
    "collapsed": false,
    "ExecuteTime": {
     "end_time": "2024-06-15T22:25:01.371984600Z",
     "start_time": "2024-06-15T22:25:01.292625400Z"
    }
   },
   "outputs": [],
   "source": [
    "tokenized_train_dataset = train_dataset.map(generate_and_tokenize_prompt2)\n",
    "tokenized_val_dataset = val_dataset.map(generate_and_tokenize_prompt2)"
   ]
  },
  {
   "cell_type": "code",
   "execution_count": 19,
   "id": "5673a5175e6f2638",
   "metadata": {
    "collapsed": false,
    "ExecuteTime": {
     "end_time": "2024-06-15T22:25:02.694496700Z",
     "start_time": "2024-06-15T22:25:01.371984600Z"
    }
   },
   "outputs": [
    {
     "name": "stdout",
     "output_type": "stream",
     "text": [
      "1592\n"
     ]
    },
    {
     "data": {
      "text/plain": "<Figure size 1000x600 with 1 Axes>",
      "image/png": "[encoded data removed]"
     },
     "metadata": {},
     "output_type": "display_data"
    }
   ],
   "source": [
    "plot_data_lengths(tokenized_train_dataset, tokenized_val_dataset)"
   ]
  },
  {
   "cell_type": "code",
   "execution_count": 48,
   "id": "678f82c73601a318",
   "metadata": {
    "collapsed": false,
    "ExecuteTime": {
     "end_time": "2024-06-15T20:41:33.204766100Z",
     "start_time": "2024-06-15T20:41:33.150751800Z"
    }
   },
   "outputs": [],
   "source": [
    "eval_prompt = (f\"\"\"The following text describes a greeting exchange between the Player and an NPC. The text will be enclosed within <START> and <END>. There are specific rules that apply only to the text: the event will be enclosed within <EVENT> and </EVENT>, the type of speaker will be enclosed within <SPEAKER> and </SPEAKER>, the line used will be enclosed within <LINE> and </LINE>, and the tone of the line will be enclosed within <TONE> and </TONE>.\n",
    "\n",
    "Please remember to generate the dialogue inside the following <LINE> and </LINE> tags inside the provided text below,for example replace <LINE> </LINE> with <LINE>Missing Dialogue</LINE>.\n",
    "\n",
    "<START>\n",
    "In the world of Skyrim from the game Elder Scrolls V, in the event of a <EVENT>Greeting</EVENT>, between an NPC and the Player character, <SPEAKER>FemaleCoward</SPEAKER> greets the Player, in a <TONE>Friendly</TONE> tone, with the following line of dialogue: <LINE> </LINE>.\n",
    "<END>\n",
    "\n",
    "Answer:\n",
    "\"\"\")"
   ]
  },
  {
   "cell_type": "code",
   "execution_count": 49,
   "id": "47c8339c7d3e3ea2",
   "metadata": {
    "collapsed": false,
    "ExecuteTime": {
     "end_time": "2024-06-15T20:41:39.669531500Z",
     "start_time": "2024-06-15T20:41:33.432436700Z"
    }
   },
   "outputs": [
    {
     "name": "stdout",
     "output_type": "stream",
     "text": [
      "The following text describes a greeting exchange between the Player and an NPC. The text will be enclosed within <START> and <END>. There are specific rules that apply only to the text: the event will be enclosed within <EVENT> and </EVENT>, the type of speaker will be enclosed within <SPEAKER> and </SPEAKER>, the line used will be enclosed within <LINE> and </LINE>, and the tone of the line will be enclosed within <TONE> and </TONE>.\n",
      "\n",
      "Please remember to generate the dialogue inside the following <LINE> and </LINE> tags inside the provided text below,for example replace <LINE> </LINE> with <LINE>Missing Dialogue</LINE>.\n",
      "\n",
      "<START>\n",
      "In the world of Skyrim from the game Elder Scrolls V, in the event of a <EVENT>Greeting</EVENT>, between an NPC and the Player character, <SPEAKER>FemaleCoward</SPEAKER> greets the Player, in a <TONE>Friendly</TONE> tone, with the following line of dialogue: <LINE> </LINE>.\n",
      "<END>\n",
      "\n",
      "Answer:\n",
      "\\begin{itemize}\n",
      "\\item Missing Line Of Greetings - Female Cowards  Friendliness (0/1) : \"Hello\" or similar friendly-neutral term for those who do not know each other well yet; this is usually followed by questions about health (\"Are you feeling alright?\") if it has been some time since they last saw one another\n"
     ]
    }
   ],
   "source": [
    "# Init an eval tokenizer that doesn't add padding or eos token\n",
    "eval_tokenizer = AutoTokenizer.from_pretrained(\n",
    "    base_model_id,\n",
    "    add_bos_token=True,\n",
    ")\n",
    "\n",
    "model_input = eval_tokenizer(eval_prompt, return_tensors=\"pt\").to(\"cuda\")\n",
    "\n",
    "model.eval()\n",
    "with torch.no_grad():\n",
    "    print(eval_tokenizer.decode(model.generate(**model_input, max_new_tokens=300, repetition_penalty=1.45)[0],\n",
    "                                skip_special_tokens=True))"
   ]
  },
  {
   "cell_type": "code",
   "execution_count": 20,
   "id": "570b93f08b1b61eb",
   "metadata": {
    "collapsed": false,
    "ExecuteTime": {
     "end_time": "2024-06-15T22:25:02.843111Z",
     "start_time": "2024-06-15T22:25:02.693496400Z"
    }
   },
   "outputs": [],
   "source": [
    "from peft import prepare_model_for_kbit_training\n",
    "\n",
    "model.gradient_checkpointing_enable()\n",
    "model = prepare_model_for_kbit_training(model)"
   ]
  },
  {
   "cell_type": "code",
   "execution_count": 21,
   "id": "ddf562f6b54c4893",
   "metadata": {
    "collapsed": false,
    "ExecuteTime": {
     "end_time": "2024-06-15T22:25:02.848314700Z",
     "start_time": "2024-06-15T22:25:02.844111300Z"
    }
   },
   "outputs": [],
   "source": [
    "def print_trainable_parameters(model):\n",
    "    \"\"\"\n",
    "    Prints the number of trainable parameters in the model.\n",
    "    \"\"\"\n",
    "    trainable_params = 0\n",
    "    all_param = 0\n",
    "    for _, param in model.named_parameters():\n",
    "        all_param += param.numel()\n",
    "        if param.requires_grad:\n",
    "            trainable_params += param.numel()\n",
    "    print(\n",
    "        f\"trainable params: {trainable_params} || all params: {all_param} || trainable%: {100 * trainable_params / all_param}\"\n",
    "    )"
   ]
  },
  {
   "cell_type": "code",
   "execution_count": 22,
   "id": "1116078209be7ce6",
   "metadata": {
    "collapsed": false,
    "ExecuteTime": {
     "end_time": "2024-06-15T22:25:02.914530500Z",
     "start_time": "2024-06-15T22:25:02.848314700Z"
    }
   },
   "outputs": [
    {
     "name": "stdout",
     "output_type": "stream",
     "text": [
      "LlamaForCausalLM(\n",
      "  (model): LlamaModel(\n",
      "    (embed_tokens): Embedding(32000, 4096)\n",
      "    (layers): ModuleList(\n",
      "      (0-31): 32 x LlamaDecoderLayer(\n",
      "        (self_attn): LlamaSdpaAttention(\n",
      "          (q_proj): Linear4bit(in_features=4096, out_features=4096, bias=False)\n",
      "          (k_proj): Linear4bit(in_features=4096, out_features=4096, bias=False)\n",
      "          (v_proj): Linear4bit(in_features=4096, out_features=4096, bias=False)\n",
      "          (o_proj): Linear4bit(in_features=4096, out_features=4096, bias=False)\n",
      "          (rotary_emb): LlamaRotaryEmbedding()\n",
      "        )\n",
      "        (mlp): LlamaMLP(\n",
      "          (gate_proj): Linear4bit(in_features=4096, out_features=11008, bias=False)\n",
      "          (up_proj): Linear4bit(in_features=4096, out_features=11008, bias=False)\n",
      "          (down_proj): Linear4bit(in_features=11008, out_features=4096, bias=False)\n",
      "          (act_fn): SiLU()\n",
      "        )\n",
      "        (input_layernorm): LlamaRMSNorm()\n",
      "        (post_attention_layernorm): LlamaRMSNorm()\n",
      "      )\n",
      "    )\n",
      "    (norm): LlamaRMSNorm()\n",
      "  )\n",
      "  (lm_head): Linear(in_features=4096, out_features=32000, bias=False)\n",
      ")\n"
     ]
    }
   ],
   "source": [
    "print(model)"
   ]
  },
  {
   "cell_type": "code",
   "execution_count": 23,
   "id": "6fe694a164bb1ea8",
   "metadata": {
    "collapsed": false,
    "ExecuteTime": {
     "end_time": "2024-06-15T22:25:04.261667600Z",
     "start_time": "2024-06-15T22:25:02.857186100Z"
    }
   },
   "outputs": [
    {
     "name": "stdout",
     "output_type": "stream",
     "text": [
      "trainable params: 128974848 || all params: 3629387776 || trainable%: 3.5536254586206\n"
     ]
    }
   ],
   "source": [
    "from peft import LoraConfig, get_peft_model\n",
    "\n",
    "config = LoraConfig(\n",
    "    r=64,\n",
    "    lora_alpha=64,\n",
    "    target_modules=[\n",
    "        \"q_proj\",\n",
    "        \"k_proj\",\n",
    "        \"v_proj\",\n",
    "        \"o_proj\",\n",
    "        \"gate_proj\",\n",
    "        \"up_proj\",\n",
    "        \"down_proj,\"\n",
    "        \"lm_head\",\n",
    "    ],\n",
    "    bias=\"none\",\n",
    "    lora_dropout=0.05,  # Conventional\n",
    "    use_rslora=True,\n",
    "    task_type=\"CAUSAL_LM\"\n",
    ")\n",
    "\n",
    "model = get_peft_model(model, config)\n",
    "print_trainable_parameters(model)"
   ]
  },
  {
   "cell_type": "code",
   "execution_count": 24,
   "id": "6354fba6c3915b3",
   "metadata": {
    "collapsed": false,
    "ExecuteTime": {
     "end_time": "2024-06-15T22:25:04.277082400Z",
     "start_time": "2024-06-15T22:25:04.262667800Z"
    }
   },
   "outputs": [
    {
     "name": "stdout",
     "output_type": "stream",
     "text": [
      "PeftModelForCausalLM(\n",
      "  (base_model): LoraModel(\n",
      "    (model): LlamaForCausalLM(\n",
      "      (model): LlamaModel(\n",
      "        (embed_tokens): Embedding(32000, 4096)\n",
      "        (layers): ModuleList(\n",
      "          (0-31): 32 x LlamaDecoderLayer(\n",
      "            (self_attn): LlamaSdpaAttention(\n",
      "              (q_proj): lora.Linear4bit(\n",
      "                (base_layer): Linear4bit(in_features=4096, out_features=4096, bias=False)\n",
      "                (lora_dropout): ModuleDict(\n",
      "                  (default): Dropout(p=0.05, inplace=False)\n",
      "                )\n",
      "                (lora_A): ModuleDict(\n",
      "                  (default): Linear(in_features=4096, out_features=64, bias=False)\n",
      "                )\n",
      "                (lora_B): ModuleDict(\n",
      "                  (default): Linear(in_features=64, out_features=4096, bias=False)\n",
      "                )\n",
      "                (lora_embedding_A): ParameterDict()\n",
      "                (lora_embedding_B): ParameterDict()\n",
      "              )\n",
      "              (k_proj): lora.Linear4bit(\n",
      "                (base_layer): Linear4bit(in_features=4096, out_features=4096, bias=False)\n",
      "                (lora_dropout): ModuleDict(\n",
      "                  (default): Dropout(p=0.05, inplace=False)\n",
      "                )\n",
      "                (lora_A): ModuleDict(\n",
      "                  (default): Linear(in_features=4096, out_features=64, bias=False)\n",
      "                )\n",
      "                (lora_B): ModuleDict(\n",
      "                  (default): Linear(in_features=64, out_features=4096, bias=False)\n",
      "                )\n",
      "                (lora_embedding_A): ParameterDict()\n",
      "                (lora_embedding_B): ParameterDict()\n",
      "              )\n",
      "              (v_proj): lora.Linear4bit(\n",
      "                (base_layer): Linear4bit(in_features=4096, out_features=4096, bias=False)\n",
      "                (lora_dropout): ModuleDict(\n",
      "                  (default): Dropout(p=0.05, inplace=False)\n",
      "                )\n",
      "                (lora_A): ModuleDict(\n",
      "                  (default): Linear(in_features=4096, out_features=64, bias=False)\n",
      "                )\n",
      "                (lora_B): ModuleDict(\n",
      "                  (default): Linear(in_features=64, out_features=4096, bias=False)\n",
      "                )\n",
      "                (lora_embedding_A): ParameterDict()\n",
      "                (lora_embedding_B): ParameterDict()\n",
      "              )\n",
      "              (o_proj): lora.Linear4bit(\n",
      "                (base_layer): Linear4bit(in_features=4096, out_features=4096, bias=False)\n",
      "                (lora_dropout): ModuleDict(\n",
      "                  (default): Dropout(p=0.05, inplace=False)\n",
      "                )\n",
      "                (lora_A): ModuleDict(\n",
      "                  (default): Linear(in_features=4096, out_features=64, bias=False)\n",
      "                )\n",
      "                (lora_B): ModuleDict(\n",
      "                  (default): Linear(in_features=64, out_features=4096, bias=False)\n",
      "                )\n",
      "                (lora_embedding_A): ParameterDict()\n",
      "                (lora_embedding_B): ParameterDict()\n",
      "              )\n",
      "              (rotary_emb): LlamaRotaryEmbedding()\n",
      "            )\n",
      "            (mlp): LlamaMLP(\n",
      "              (gate_proj): lora.Linear4bit(\n",
      "                (base_layer): Linear4bit(in_features=4096, out_features=11008, bias=False)\n",
      "                (lora_dropout): ModuleDict(\n",
      "                  (default): Dropout(p=0.05, inplace=False)\n",
      "                )\n",
      "                (lora_A): ModuleDict(\n",
      "                  (default): Linear(in_features=4096, out_features=64, bias=False)\n",
      "                )\n",
      "                (lora_B): ModuleDict(\n",
      "                  (default): Linear(in_features=64, out_features=11008, bias=False)\n",
      "                )\n",
      "                (lora_embedding_A): ParameterDict()\n",
      "                (lora_embedding_B): ParameterDict()\n",
      "              )\n",
      "              (up_proj): lora.Linear4bit(\n",
      "                (base_layer): Linear4bit(in_features=4096, out_features=11008, bias=False)\n",
      "                (lora_dropout): ModuleDict(\n",
      "                  (default): Dropout(p=0.05, inplace=False)\n",
      "                )\n",
      "                (lora_A): ModuleDict(\n",
      "                  (default): Linear(in_features=4096, out_features=64, bias=False)\n",
      "                )\n",
      "                (lora_B): ModuleDict(\n",
      "                  (default): Linear(in_features=64, out_features=11008, bias=False)\n",
      "                )\n",
      "                (lora_embedding_A): ParameterDict()\n",
      "                (lora_embedding_B): ParameterDict()\n",
      "              )\n",
      "              (down_proj): Linear4bit(in_features=11008, out_features=4096, bias=False)\n",
      "              (act_fn): SiLU()\n",
      "            )\n",
      "            (input_layernorm): LlamaRMSNorm()\n",
      "            (post_attention_layernorm): LlamaRMSNorm()\n",
      "          )\n",
      "        )\n",
      "        (norm): LlamaRMSNorm()\n",
      "      )\n",
      "      (lm_head): Linear(in_features=4096, out_features=32000, bias=False)\n",
      "    )\n",
      "  )\n",
      ")\n"
     ]
    }
   ],
   "source": [
    "print(model)"
   ]
  },
  {
   "cell_type": "code",
   "execution_count": 25,
   "id": "2fcbe8317af8659a",
   "metadata": {
    "collapsed": false,
    "ExecuteTime": {
     "end_time": "2024-06-15T22:25:04.327170100Z",
     "start_time": "2024-06-15T22:25:04.275081600Z"
    }
   },
   "outputs": [],
   "source": [
    "if torch.cuda.device_count() > 1:  # If more than 1 GPU\n",
    "    model.is_parallelizable = True\n",
    "    model.model_parallel = True"
   ]
  },
  {
   "cell_type": "code",
   "execution_count": 26,
   "id": "ec3566a59128b91",
   "metadata": {
    "collapsed": false,
    "ExecuteTime": {
     "end_time": "2024-06-15T22:25:04.330170800Z",
     "start_time": "2024-06-15T22:25:04.284984500Z"
    }
   },
   "outputs": [],
   "source": [
    "model = accelerator.prepare_model(model)"
   ]
  },
  {
   "cell_type": "code",
   "execution_count": 29,
   "id": "c48d66dfa4929c8f",
   "metadata": {
    "collapsed": false,
    "ExecuteTime": {
     "end_time": "2024-06-15T23:35:17.695167Z",
     "start_time": "2024-06-15T22:37:29.113796100Z"
    }
   },
   "outputs": [
    {
     "name": "stderr",
     "output_type": "stream",
     "text": [
      "C:\\Users\\Pumukl\\AppData\\Local\\Programs\\Python\\Python312\\Lib\\site-packages\\accelerate\\accelerator.py:436: FutureWarning: Passing the following arguments to `Accelerator` is deprecated and will be removed in version 1.0 of Accelerate: dict_keys(['dispatch_batches', 'split_batches', 'even_batches', 'use_seedable_sampler']). Please pass an `accelerate.DataLoaderConfiguration` instead: \n",
      "dataloader_config = DataLoaderConfiguration(dispatch_batches=None, split_batches=False, even_batches=True, use_seedable_sampler=True)\n",
      "  warnings.warn(\n"
     ]
    },
    {
     "data": {
      "text/plain": "<IPython.core.display.HTML object>",
      "text/html": "\n    <div>\n      \n      <progress value='51' max='2126' style='width:300px; height:20px; vertical-align: middle;'></progress>\n      [  51/2126 02:29 < 1:45:23, 0.33 it/s, Epoch 0.07/3]\n    </div>\n    <table border=\"1\" class=\"dataframe\">\n  <thead>\n <tr style=\"text-align: left;\">\n      <th>Step</th>\n      <th>Training Loss</th>\n      <th>Validation Loss</th>\n    </tr>\n  </thead>\n  <tbody>\n    <tr>\n      <td>50</td>\n      <td>0.249900</td>\n      <td>0.305938</td>\n    </tr>\n  </tbody>\n</table><p>"
     },
     "metadata": {},
     "output_type": "display_data"
    },
    {
     "data": {
      "text/plain": "<IPython.core.display.HTML object>",
      "text/html": "\n    <div>\n      \n      <progress value='101' max='2126' style='width:300px; height:20px; vertical-align: middle;'></progress>\n      [ 101/2126 06:08 < 2:05:41, 0.27 it/s, Epoch 0.14/3]\n    </div>\n    <table border=\"1\" class=\"dataframe\">\n  <thead>\n <tr style=\"text-align: left;\">\n      <th>Step</th>\n      <th>Training Loss</th>\n      <th>Validation Loss</th>\n    </tr>\n  </thead>\n  <tbody>\n    <tr>\n      <td>50</td>\n      <td>0.249900</td>\n      <td>0.305938</td>\n    </tr>\n    <tr>\n      <td>100</td>\n      <td>0.214800</td>\n      <td>0.261423</td>\n    </tr>\n  </tbody>\n</table><p>"
     },
     "metadata": {},
     "output_type": "display_data"
    },
    {
     "data": {
      "text/plain": "<IPython.core.display.HTML object>",
      "text/html": "\n    <div>\n      \n      <progress value='151' max='2126' style='width:300px; height:20px; vertical-align: middle;'></progress>\n      [ 151/2126 09:45 < 2:09:25, 0.25 it/s, Epoch 0.21/3]\n    </div>\n    <table border=\"1\" class=\"dataframe\">\n  <thead>\n <tr style=\"text-align: left;\">\n      <th>Step</th>\n      <th>Training Loss</th>\n      <th>Validation Loss</th>\n    </tr>\n  </thead>\n  <tbody>\n    <tr>\n      <td>50</td>\n      <td>0.249900</td>\n      <td>0.305938</td>\n    </tr>\n    <tr>\n      <td>100</td>\n      <td>0.214800</td>\n      <td>0.261423</td>\n    </tr>\n    <tr>\n      <td>150</td>\n      <td>0.180100</td>\n      <td>0.233338</td>\n    </tr>\n  </tbody>\n</table><p>"
     },
     "metadata": {},
     "output_type": "display_data"
    },
    {
     "data": {
      "text/plain": "<IPython.core.display.HTML object>",
      "text/html": "\n    <div>\n      \n      <progress value='201' max='2126' style='width:300px; height:20px; vertical-align: middle;'></progress>\n      [ 201/2126 13:23 < 2:09:33, 0.25 it/s, Epoch 0.28/3]\n    </div>\n    <table border=\"1\" class=\"dataframe\">\n  <thead>\n <tr style=\"text-align: left;\">\n      <th>Step</th>\n      <th>Training Loss</th>\n      <th>Validation Loss</th>\n    </tr>\n  </thead>\n  <tbody>\n    <tr>\n      <td>50</td>\n      <td>0.249900</td>\n      <td>0.305938</td>\n    </tr>\n    <tr>\n      <td>100</td>\n      <td>0.214800</td>\n      <td>0.261423</td>\n    </tr>\n    <tr>\n      <td>150</td>\n      <td>0.180100</td>\n      <td>0.233338</td>\n    </tr>\n    <tr>\n      <td>200</td>\n      <td>0.202700</td>\n      <td>0.200755</td>\n    </tr>\n  </tbody>\n</table><p>"
     },
     "metadata": {},
     "output_type": "display_data"
    },
    {
     "data": {
      "text/plain": "<IPython.core.display.HTML object>",
      "text/html": "\n    <div>\n      \n      <progress value='251' max='2126' style='width:300px; height:20px; vertical-align: middle;'></progress>\n      [ 251/2126 17:00 < 2:08:03, 0.24 it/s, Epoch 0.35/3]\n    </div>\n    <table border=\"1\" class=\"dataframe\">\n  <thead>\n <tr style=\"text-align: left;\">\n      <th>Step</th>\n      <th>Training Loss</th>\n      <th>Validation Loss</th>\n    </tr>\n  </thead>\n  <tbody>\n    <tr>\n      <td>50</td>\n      <td>0.249900</td>\n      <td>0.305938</td>\n    </tr>\n    <tr>\n      <td>100</td>\n      <td>0.214800</td>\n      <td>0.261423</td>\n    </tr>\n    <tr>\n      <td>150</td>\n      <td>0.180100</td>\n      <td>0.233338</td>\n    </tr>\n    <tr>\n      <td>200</td>\n      <td>0.202700</td>\n      <td>0.200755</td>\n    </tr>\n    <tr>\n      <td>250</td>\n      <td>0.178700</td>\n      <td>0.183751</td>\n    </tr>\n  </tbody>\n</table><p>"
     },
     "metadata": {},
     "output_type": "display_data"
    },
    {
     "data": {
      "text/plain": "<IPython.core.display.HTML object>",
      "text/html": "\n    <div>\n      \n      <progress value='301' max='2126' style='width:300px; height:20px; vertical-align: middle;'></progress>\n      [ 301/2126 20:35 < 2:05:41, 0.24 it/s, Epoch 0.42/3]\n    </div>\n    <table border=\"1\" class=\"dataframe\">\n  <thead>\n <tr style=\"text-align: left;\">\n      <th>Step</th>\n      <th>Training Loss</th>\n      <th>Validation Loss</th>\n    </tr>\n  </thead>\n  <tbody>\n    <tr>\n      <td>50</td>\n      <td>0.249900</td>\n      <td>0.305938</td>\n    </tr>\n    <tr>\n      <td>100</td>\n      <td>0.214800</td>\n      <td>0.261423</td>\n    </tr>\n    <tr>\n      <td>150</td>\n      <td>0.180100</td>\n      <td>0.233338</td>\n    </tr>\n    <tr>\n      <td>200</td>\n      <td>0.202700</td>\n      <td>0.200755</td>\n    </tr>\n    <tr>\n      <td>250</td>\n      <td>0.178700</td>\n      <td>0.183751</td>\n    </tr>\n    <tr>\n      <td>300</td>\n      <td>0.173300</td>\n      <td>0.171825</td>\n    </tr>\n  </tbody>\n</table><p>"
     },
     "metadata": {},
     "output_type": "display_data"
    },
    {
     "data": {
      "text/plain": "<IPython.core.display.HTML object>",
      "text/html": "\n    <div>\n      \n      <progress value='351' max='2126' style='width:300px; height:20px; vertical-align: middle;'></progress>\n      [ 351/2126 24:10 < 2:02:58, 0.24 it/s, Epoch 0.49/3]\n    </div>\n    <table border=\"1\" class=\"dataframe\">\n  <thead>\n <tr style=\"text-align: left;\">\n      <th>Step</th>\n      <th>Training Loss</th>\n      <th>Validation Loss</th>\n    </tr>\n  </thead>\n  <tbody>\n    <tr>\n      <td>50</td>\n      <td>0.249900</td>\n      <td>0.305938</td>\n    </tr>\n    <tr>\n      <td>100</td>\n      <td>0.214800</td>\n      <td>0.261423</td>\n    </tr>\n    <tr>\n      <td>150</td>\n      <td>0.180100</td>\n      <td>0.233338</td>\n    </tr>\n    <tr>\n      <td>200</td>\n      <td>0.202700</td>\n      <td>0.200755</td>\n    </tr>\n    <tr>\n      <td>250</td>\n      <td>0.178700</td>\n      <td>0.183751</td>\n    </tr>\n    <tr>\n      <td>300</td>\n      <td>0.173300</td>\n      <td>0.171825</td>\n    </tr>\n    <tr>\n      <td>350</td>\n      <td>0.161000</td>\n      <td>0.166915</td>\n    </tr>\n  </tbody>\n</table><p>"
     },
     "metadata": {},
     "output_type": "display_data"
    },
    {
     "data": {
      "text/plain": "<IPython.core.display.HTML object>",
      "text/html": "\n    <div>\n      \n      <progress value='401' max='2126' style='width:300px; height:20px; vertical-align: middle;'></progress>\n      [ 401/2126 27:45 < 2:00:02, 0.24 it/s, Epoch 0.56/3]\n    </div>\n    <table border=\"1\" class=\"dataframe\">\n  <thead>\n <tr style=\"text-align: left;\">\n      <th>Step</th>\n      <th>Training Loss</th>\n      <th>Validation Loss</th>\n    </tr>\n  </thead>\n  <tbody>\n    <tr>\n      <td>50</td>\n      <td>0.249900</td>\n      <td>0.305938</td>\n    </tr>\n    <tr>\n      <td>100</td>\n      <td>0.214800</td>\n      <td>0.261423</td>\n    </tr>\n    <tr>\n      <td>150</td>\n      <td>0.180100</td>\n      <td>0.233338</td>\n    </tr>\n    <tr>\n      <td>200</td>\n      <td>0.202700</td>\n      <td>0.200755</td>\n    </tr>\n    <tr>\n      <td>250</td>\n      <td>0.178700</td>\n      <td>0.183751</td>\n    </tr>\n    <tr>\n      <td>300</td>\n      <td>0.173300</td>\n      <td>0.171825</td>\n    </tr>\n    <tr>\n      <td>350</td>\n      <td>0.161000</td>\n      <td>0.166915</td>\n    </tr>\n    <tr>\n      <td>400</td>\n      <td>0.144100</td>\n      <td>0.163881</td>\n    </tr>\n  </tbody>\n</table><p>"
     },
     "metadata": {},
     "output_type": "display_data"
    },
    {
     "data": {
      "text/plain": "<IPython.core.display.HTML object>",
      "text/html": "\n    <div>\n      \n      <progress value='451' max='2126' style='width:300px; height:20px; vertical-align: middle;'></progress>\n      [ 451/2126 31:21 < 1:56:57, 0.24 it/s, Epoch 0.63/3]\n    </div>\n    <table border=\"1\" class=\"dataframe\">\n  <thead>\n <tr style=\"text-align: left;\">\n      <th>Step</th>\n      <th>Training Loss</th>\n      <th>Validation Loss</th>\n    </tr>\n  </thead>\n  <tbody>\n    <tr>\n      <td>50</td>\n      <td>0.249900</td>\n      <td>0.305938</td>\n    </tr>\n    <tr>\n      <td>100</td>\n      <td>0.214800</td>\n      <td>0.261423</td>\n    </tr>\n    <tr>\n      <td>150</td>\n      <td>0.180100</td>\n      <td>0.233338</td>\n    </tr>\n    <tr>\n      <td>200</td>\n      <td>0.202700</td>\n      <td>0.200755</td>\n    </tr>\n    <tr>\n      <td>250</td>\n      <td>0.178700</td>\n      <td>0.183751</td>\n    </tr>\n    <tr>\n      <td>300</td>\n      <td>0.173300</td>\n      <td>0.171825</td>\n    </tr>\n    <tr>\n      <td>350</td>\n      <td>0.161000</td>\n      <td>0.166915</td>\n    </tr>\n    <tr>\n      <td>400</td>\n      <td>0.144100</td>\n      <td>0.163881</td>\n    </tr>\n    <tr>\n      <td>450</td>\n      <td>0.141500</td>\n      <td>0.155863</td>\n    </tr>\n  </tbody>\n</table><p>"
     },
     "metadata": {},
     "output_type": "display_data"
    },
    {
     "data": {
      "text/plain": "<IPython.core.display.HTML object>",
      "text/html": "\n    <div>\n      \n      <progress value='501' max='2126' style='width:300px; height:20px; vertical-align: middle;'></progress>\n      [ 501/2126 34:56 < 1:53:46, 0.24 it/s, Epoch 0.71/3]\n    </div>\n    <table border=\"1\" class=\"dataframe\">\n  <thead>\n <tr style=\"text-align: left;\">\n      <th>Step</th>\n      <th>Training Loss</th>\n      <th>Validation Loss</th>\n    </tr>\n  </thead>\n  <tbody>\n    <tr>\n      <td>50</td>\n      <td>0.249900</td>\n      <td>0.305938</td>\n    </tr>\n    <tr>\n      <td>100</td>\n      <td>0.214800</td>\n      <td>0.261423</td>\n    </tr>\n    <tr>\n      <td>150</td>\n      <td>0.180100</td>\n      <td>0.233338</td>\n    </tr>\n    <tr>\n      <td>200</td>\n      <td>0.202700</td>\n      <td>0.200755</td>\n    </tr>\n    <tr>\n      <td>250</td>\n      <td>0.178700</td>\n      <td>0.183751</td>\n    </tr>\n    <tr>\n      <td>300</td>\n      <td>0.173300</td>\n      <td>0.171825</td>\n    </tr>\n    <tr>\n      <td>350</td>\n      <td>0.161000</td>\n      <td>0.166915</td>\n    </tr>\n    <tr>\n      <td>400</td>\n      <td>0.144100</td>\n      <td>0.163881</td>\n    </tr>\n    <tr>\n      <td>450</td>\n      <td>0.141500</td>\n      <td>0.155863</td>\n    </tr>\n    <tr>\n      <td>500</td>\n      <td>0.133500</td>\n      <td>0.152969</td>\n    </tr>\n  </tbody>\n</table><p>"
     },
     "metadata": {},
     "output_type": "display_data"
    },
    {
     "data": {
      "text/plain": "<IPython.core.display.HTML object>",
      "text/html": "\n    <div>\n      \n      <progress value='551' max='2126' style='width:300px; height:20px; vertical-align: middle;'></progress>\n      [ 551/2126 38:31 < 1:50:31, 0.24 it/s, Epoch 0.78/3]\n    </div>\n    <table border=\"1\" class=\"dataframe\">\n  <thead>\n <tr style=\"text-align: left;\">\n      <th>Step</th>\n      <th>Training Loss</th>\n      <th>Validation Loss</th>\n    </tr>\n  </thead>\n  <tbody>\n    <tr>\n      <td>50</td>\n      <td>0.249900</td>\n      <td>0.305938</td>\n    </tr>\n    <tr>\n      <td>100</td>\n      <td>0.214800</td>\n      <td>0.261423</td>\n    </tr>\n    <tr>\n      <td>150</td>\n      <td>0.180100</td>\n      <td>0.233338</td>\n    </tr>\n    <tr>\n      <td>200</td>\n      <td>0.202700</td>\n      <td>0.200755</td>\n    </tr>\n    <tr>\n      <td>250</td>\n      <td>0.178700</td>\n      <td>0.183751</td>\n    </tr>\n    <tr>\n      <td>300</td>\n      <td>0.173300</td>\n      <td>0.171825</td>\n    </tr>\n    <tr>\n      <td>350</td>\n      <td>0.161000</td>\n      <td>0.166915</td>\n    </tr>\n    <tr>\n      <td>400</td>\n      <td>0.144100</td>\n      <td>0.163881</td>\n    </tr>\n    <tr>\n      <td>450</td>\n      <td>0.141500</td>\n      <td>0.155863</td>\n    </tr>\n    <tr>\n      <td>500</td>\n      <td>0.133500</td>\n      <td>0.152969</td>\n    </tr>\n    <tr>\n      <td>550</td>\n      <td>0.138800</td>\n      <td>0.148526</td>\n    </tr>\n  </tbody>\n</table><p>"
     },
     "metadata": {},
     "output_type": "display_data"
    },
    {
     "data": {
      "text/plain": "<IPython.core.display.HTML object>",
      "text/html": "\n    <div>\n      \n      <progress value='601' max='2126' style='width:300px; height:20px; vertical-align: middle;'></progress>\n      [ 601/2126 42:06 < 1:47:12, 0.24 it/s, Epoch 0.85/3]\n    </div>\n    <table border=\"1\" class=\"dataframe\">\n  <thead>\n <tr style=\"text-align: left;\">\n      <th>Step</th>\n      <th>Training Loss</th>\n      <th>Validation Loss</th>\n    </tr>\n  </thead>\n  <tbody>\n    <tr>\n      <td>50</td>\n      <td>0.249900</td>\n      <td>0.305938</td>\n    </tr>\n    <tr>\n      <td>100</td>\n      <td>0.214800</td>\n      <td>0.261423</td>\n    </tr>\n    <tr>\n      <td>150</td>\n      <td>0.180100</td>\n      <td>0.233338</td>\n    </tr>\n    <tr>\n      <td>200</td>\n      <td>0.202700</td>\n      <td>0.200755</td>\n    </tr>\n    <tr>\n      <td>250</td>\n      <td>0.178700</td>\n      <td>0.183751</td>\n    </tr>\n    <tr>\n      <td>300</td>\n      <td>0.173300</td>\n      <td>0.171825</td>\n    </tr>\n    <tr>\n      <td>350</td>\n      <td>0.161000</td>\n      <td>0.166915</td>\n    </tr>\n    <tr>\n      <td>400</td>\n      <td>0.144100</td>\n      <td>0.163881</td>\n    </tr>\n    <tr>\n      <td>450</td>\n      <td>0.141500</td>\n      <td>0.155863</td>\n    </tr>\n    <tr>\n      <td>500</td>\n      <td>0.133500</td>\n      <td>0.152969</td>\n    </tr>\n    <tr>\n      <td>550</td>\n      <td>0.138800</td>\n      <td>0.148526</td>\n    </tr>\n    <tr>\n      <td>600</td>\n      <td>0.123600</td>\n      <td>0.145410</td>\n    </tr>\n  </tbody>\n</table><p>"
     },
     "metadata": {},
     "output_type": "display_data"
    },
    {
     "data": {
      "text/plain": "<IPython.core.display.HTML object>",
      "text/html": "\n    <div>\n      \n      <progress value='651' max='2126' style='width:300px; height:20px; vertical-align: middle;'></progress>\n      [ 651/2126 45:41 < 1:43:50, 0.24 it/s, Epoch 0.92/3]\n    </div>\n    <table border=\"1\" class=\"dataframe\">\n  <thead>\n <tr style=\"text-align: left;\">\n      <th>Step</th>\n      <th>Training Loss</th>\n      <th>Validation Loss</th>\n    </tr>\n  </thead>\n  <tbody>\n    <tr>\n      <td>50</td>\n      <td>0.249900</td>\n      <td>0.305938</td>\n    </tr>\n    <tr>\n      <td>100</td>\n      <td>0.214800</td>\n      <td>0.261423</td>\n    </tr>\n    <tr>\n      <td>150</td>\n      <td>0.180100</td>\n      <td>0.233338</td>\n    </tr>\n    <tr>\n      <td>200</td>\n      <td>0.202700</td>\n      <td>0.200755</td>\n    </tr>\n    <tr>\n      <td>250</td>\n      <td>0.178700</td>\n      <td>0.183751</td>\n    </tr>\n    <tr>\n      <td>300</td>\n      <td>0.173300</td>\n      <td>0.171825</td>\n    </tr>\n    <tr>\n      <td>350</td>\n      <td>0.161000</td>\n      <td>0.166915</td>\n    </tr>\n    <tr>\n      <td>400</td>\n      <td>0.144100</td>\n      <td>0.163881</td>\n    </tr>\n    <tr>\n      <td>450</td>\n      <td>0.141500</td>\n      <td>0.155863</td>\n    </tr>\n    <tr>\n      <td>500</td>\n      <td>0.133500</td>\n      <td>0.152969</td>\n    </tr>\n    <tr>\n      <td>550</td>\n      <td>0.138800</td>\n      <td>0.148526</td>\n    </tr>\n    <tr>\n      <td>600</td>\n      <td>0.123600</td>\n      <td>0.145410</td>\n    </tr>\n    <tr>\n      <td>650</td>\n      <td>0.129900</td>\n      <td>0.142724</td>\n    </tr>\n  </tbody>\n</table><p>"
     },
     "metadata": {},
     "output_type": "display_data"
    },
    {
     "data": {
      "text/plain": "<IPython.core.display.HTML object>",
      "text/html": "\n    <div>\n      \n      <progress value='701' max='2126' style='width:300px; height:20px; vertical-align: middle;'></progress>\n      [ 701/2126 49:15 < 1:40:26, 0.24 it/s, Epoch 0.99/3]\n    </div>\n    <table border=\"1\" class=\"dataframe\">\n  <thead>\n <tr style=\"text-align: left;\">\n      <th>Step</th>\n      <th>Training Loss</th>\n      <th>Validation Loss</th>\n    </tr>\n  </thead>\n  <tbody>\n    <tr>\n      <td>50</td>\n      <td>0.249900</td>\n      <td>0.305938</td>\n    </tr>\n    <tr>\n      <td>100</td>\n      <td>0.214800</td>\n      <td>0.261423</td>\n    </tr>\n    <tr>\n      <td>150</td>\n      <td>0.180100</td>\n      <td>0.233338</td>\n    </tr>\n    <tr>\n      <td>200</td>\n      <td>0.202700</td>\n      <td>0.200755</td>\n    </tr>\n    <tr>\n      <td>250</td>\n      <td>0.178700</td>\n      <td>0.183751</td>\n    </tr>\n    <tr>\n      <td>300</td>\n      <td>0.173300</td>\n      <td>0.171825</td>\n    </tr>\n    <tr>\n      <td>350</td>\n      <td>0.161000</td>\n      <td>0.166915</td>\n    </tr>\n    <tr>\n      <td>400</td>\n      <td>0.144100</td>\n      <td>0.163881</td>\n    </tr>\n    <tr>\n      <td>450</td>\n      <td>0.141500</td>\n      <td>0.155863</td>\n    </tr>\n    <tr>\n      <td>500</td>\n      <td>0.133500</td>\n      <td>0.152969</td>\n    </tr>\n    <tr>\n      <td>550</td>\n      <td>0.138800</td>\n      <td>0.148526</td>\n    </tr>\n    <tr>\n      <td>600</td>\n      <td>0.123600</td>\n      <td>0.145410</td>\n    </tr>\n    <tr>\n      <td>650</td>\n      <td>0.129900</td>\n      <td>0.142724</td>\n    </tr>\n    <tr>\n      <td>700</td>\n      <td>0.131500</td>\n      <td>0.141237</td>\n    </tr>\n  </tbody>\n</table><p>"
     },
     "metadata": {},
     "output_type": "display_data"
    },
    {
     "data": {
      "text/plain": "<IPython.core.display.HTML object>",
      "text/html": "\n    <div>\n      \n      <progress value='751' max='2126' style='width:300px; height:20px; vertical-align: middle;'></progress>\n      [ 751/2126 52:49 < 1:36:58, 0.24 it/s, Epoch 1.06/3]\n    </div>\n    <table border=\"1\" class=\"dataframe\">\n  <thead>\n <tr style=\"text-align: left;\">\n      <th>Step</th>\n      <th>Training Loss</th>\n      <th>Validation Loss</th>\n    </tr>\n  </thead>\n  <tbody>\n    <tr>\n      <td>50</td>\n      <td>0.249900</td>\n      <td>0.305938</td>\n    </tr>\n    <tr>\n      <td>100</td>\n      <td>0.214800</td>\n      <td>0.261423</td>\n    </tr>\n    <tr>\n      <td>150</td>\n      <td>0.180100</td>\n      <td>0.233338</td>\n    </tr>\n    <tr>\n      <td>200</td>\n      <td>0.202700</td>\n      <td>0.200755</td>\n    </tr>\n    <tr>\n      <td>250</td>\n      <td>0.178700</td>\n      <td>0.183751</td>\n    </tr>\n    <tr>\n      <td>300</td>\n      <td>0.173300</td>\n      <td>0.171825</td>\n    </tr>\n    <tr>\n      <td>350</td>\n      <td>0.161000</td>\n      <td>0.166915</td>\n    </tr>\n    <tr>\n      <td>400</td>\n      <td>0.144100</td>\n      <td>0.163881</td>\n    </tr>\n    <tr>\n      <td>450</td>\n      <td>0.141500</td>\n      <td>0.155863</td>\n    </tr>\n    <tr>\n      <td>500</td>\n      <td>0.133500</td>\n      <td>0.152969</td>\n    </tr>\n    <tr>\n      <td>550</td>\n      <td>0.138800</td>\n      <td>0.148526</td>\n    </tr>\n    <tr>\n      <td>600</td>\n      <td>0.123600</td>\n      <td>0.145410</td>\n    </tr>\n    <tr>\n      <td>650</td>\n      <td>0.129900</td>\n      <td>0.142724</td>\n    </tr>\n    <tr>\n      <td>700</td>\n      <td>0.131500</td>\n      <td>0.141237</td>\n    </tr>\n    <tr>\n      <td>750</td>\n      <td>0.088000</td>\n      <td>0.145517</td>\n    </tr>\n  </tbody>\n</table><p>"
     },
     "metadata": {},
     "output_type": "display_data"
    },
    {
     "data": {
      "text/plain": "<IPython.core.display.HTML object>",
      "text/html": "\n    <div>\n      \n      <progress value='801' max='2126' style='width:300px; height:20px; vertical-align: middle;'></progress>\n      [ 801/2126 56:24 < 1:33:32, 0.24 it/s, Epoch 1.13/3]\n    </div>\n    <table border=\"1\" class=\"dataframe\">\n  <thead>\n <tr style=\"text-align: left;\">\n      <th>Step</th>\n      <th>Training Loss</th>\n      <th>Validation Loss</th>\n    </tr>\n  </thead>\n  <tbody>\n    <tr>\n      <td>50</td>\n      <td>0.249900</td>\n      <td>0.305938</td>\n    </tr>\n    <tr>\n      <td>100</td>\n      <td>0.214800</td>\n      <td>0.261423</td>\n    </tr>\n    <tr>\n      <td>150</td>\n      <td>0.180100</td>\n      <td>0.233338</td>\n    </tr>\n    <tr>\n      <td>200</td>\n      <td>0.202700</td>\n      <td>0.200755</td>\n    </tr>\n    <tr>\n      <td>250</td>\n      <td>0.178700</td>\n      <td>0.183751</td>\n    </tr>\n    <tr>\n      <td>300</td>\n      <td>0.173300</td>\n      <td>0.171825</td>\n    </tr>\n    <tr>\n      <td>350</td>\n      <td>0.161000</td>\n      <td>0.166915</td>\n    </tr>\n    <tr>\n      <td>400</td>\n      <td>0.144100</td>\n      <td>0.163881</td>\n    </tr>\n    <tr>\n      <td>450</td>\n      <td>0.141500</td>\n      <td>0.155863</td>\n    </tr>\n    <tr>\n      <td>500</td>\n      <td>0.133500</td>\n      <td>0.152969</td>\n    </tr>\n    <tr>\n      <td>550</td>\n      <td>0.138800</td>\n      <td>0.148526</td>\n    </tr>\n    <tr>\n      <td>600</td>\n      <td>0.123600</td>\n      <td>0.145410</td>\n    </tr>\n    <tr>\n      <td>650</td>\n      <td>0.129900</td>\n      <td>0.142724</td>\n    </tr>\n    <tr>\n      <td>700</td>\n      <td>0.131500</td>\n      <td>0.141237</td>\n    </tr>\n    <tr>\n      <td>750</td>\n      <td>0.088000</td>\n      <td>0.145517</td>\n    </tr>\n    <tr>\n      <td>800</td>\n      <td>0.084400</td>\n      <td>0.143891</td>\n    </tr>\n  </tbody>\n</table><p>"
     },
     "metadata": {},
     "output_type": "display_data"
    },
    {
     "data": {
      "text/plain": "<IPython.core.display.HTML object>",
      "text/html": "\n    <div>\n      \n      <progress value='806' max='2126' style='width:300px; height:20px; vertical-align: middle;'></progress>\n      [ 806/2126 57:42 < 1:34:44, 0.23 it/s, Epoch 1.14/3]\n    </div>\n    <table border=\"1\" class=\"dataframe\">\n  <thead>\n <tr style=\"text-align: left;\">\n      <th>Step</th>\n      <th>Training Loss</th>\n      <th>Validation Loss</th>\n    </tr>\n  </thead>\n  <tbody>\n    <tr>\n      <td>50</td>\n      <td>0.249900</td>\n      <td>0.305938</td>\n    </tr>\n    <tr>\n      <td>100</td>\n      <td>0.214800</td>\n      <td>0.261423</td>\n    </tr>\n    <tr>\n      <td>150</td>\n      <td>0.180100</td>\n      <td>0.233338</td>\n    </tr>\n    <tr>\n      <td>200</td>\n      <td>0.202700</td>\n      <td>0.200755</td>\n    </tr>\n    <tr>\n      <td>250</td>\n      <td>0.178700</td>\n      <td>0.183751</td>\n    </tr>\n    <tr>\n      <td>300</td>\n      <td>0.173300</td>\n      <td>0.171825</td>\n    </tr>\n    <tr>\n      <td>350</td>\n      <td>0.161000</td>\n      <td>0.166915</td>\n    </tr>\n    <tr>\n      <td>400</td>\n      <td>0.144100</td>\n      <td>0.163881</td>\n    </tr>\n    <tr>\n      <td>450</td>\n      <td>0.141500</td>\n      <td>0.155863</td>\n    </tr>\n    <tr>\n      <td>500</td>\n      <td>0.133500</td>\n      <td>0.152969</td>\n    </tr>\n    <tr>\n      <td>550</td>\n      <td>0.138800</td>\n      <td>0.148526</td>\n    </tr>\n    <tr>\n      <td>600</td>\n      <td>0.123600</td>\n      <td>0.145410</td>\n    </tr>\n    <tr>\n      <td>650</td>\n      <td>0.129900</td>\n      <td>0.142724</td>\n    </tr>\n    <tr>\n      <td>700</td>\n      <td>0.131500</td>\n      <td>0.141237</td>\n    </tr>\n    <tr>\n      <td>750</td>\n      <td>0.088000</td>\n      <td>0.145517</td>\n    </tr>\n    <tr>\n      <td>800</td>\n      <td>0.084400</td>\n      <td>0.143891</td>\n    </tr>\n  </tbody>\n</table><p>"
     },
     "metadata": {},
     "output_type": "display_data"
    },
    {
     "ename": "KeyboardInterrupt",
     "evalue": "",
     "output_type": "error",
     "traceback": [
      "\u001B[1;31m---------------------------------------------------------------------------\u001B[0m",
      "\u001B[1;31mKeyboardInterrupt\u001B[0m                         Traceback (most recent call last)",
      "Cell \u001B[1;32mIn[29], line 35\u001B[0m\n\u001B[0;32m      8\u001B[0m trainer \u001B[38;5;241m=\u001B[39m transformers\u001B[38;5;241m.\u001B[39mTrainer(\n\u001B[0;32m      9\u001B[0m     model\u001B[38;5;241m=\u001B[39mmodel,\n\u001B[0;32m     10\u001B[0m     train_dataset\u001B[38;5;241m=\u001B[39mtokenized_train_dataset[\u001B[38;5;124m\"\u001B[39m\u001B[38;5;124mtrain\u001B[39m\u001B[38;5;124m\"\u001B[39m],\n\u001B[1;32m   (...)\u001B[0m\n\u001B[0;32m     31\u001B[0m     data_collator\u001B[38;5;241m=\u001B[39mtransformers\u001B[38;5;241m.\u001B[39mDataCollatorForLanguageModeling(tokenizer, mlm\u001B[38;5;241m=\u001B[39m\u001B[38;5;28;01mFalse\u001B[39;00m),\n\u001B[0;32m     32\u001B[0m )\n\u001B[0;32m     34\u001B[0m model\u001B[38;5;241m.\u001B[39mconfig\u001B[38;5;241m.\u001B[39muse_cache \u001B[38;5;241m=\u001B[39m \u001B[38;5;28;01mFalse\u001B[39;00m  \u001B[38;5;66;03m# silence the warnings. Please re-enable for inference!\u001B[39;00m\n\u001B[1;32m---> 35\u001B[0m \u001B[43mtrainer\u001B[49m\u001B[38;5;241;43m.\u001B[39;49m\u001B[43mtrain\u001B[49m\u001B[43m(\u001B[49m\u001B[43m)\u001B[49m\n",
      "File \u001B[1;32m~\\AppData\\Local\\Programs\\Python\\Python312\\Lib\\site-packages\\transformers\\trainer.py:1624\u001B[0m, in \u001B[0;36mTrainer.train\u001B[1;34m(self, resume_from_checkpoint, trial, ignore_keys_for_eval, **kwargs)\u001B[0m\n\u001B[0;32m   1622\u001B[0m         hf_hub_utils\u001B[38;5;241m.\u001B[39menable_progress_bars()\n\u001B[0;32m   1623\u001B[0m \u001B[38;5;28;01melse\u001B[39;00m:\n\u001B[1;32m-> 1624\u001B[0m     \u001B[38;5;28;01mreturn\u001B[39;00m \u001B[43minner_training_loop\u001B[49m\u001B[43m(\u001B[49m\n\u001B[0;32m   1625\u001B[0m \u001B[43m        \u001B[49m\u001B[43margs\u001B[49m\u001B[38;5;241;43m=\u001B[39;49m\u001B[43margs\u001B[49m\u001B[43m,\u001B[49m\n\u001B[0;32m   1626\u001B[0m \u001B[43m        \u001B[49m\u001B[43mresume_from_checkpoint\u001B[49m\u001B[38;5;241;43m=\u001B[39;49m\u001B[43mresume_from_checkpoint\u001B[49m\u001B[43m,\u001B[49m\n\u001B[0;32m   1627\u001B[0m \u001B[43m        \u001B[49m\u001B[43mtrial\u001B[49m\u001B[38;5;241;43m=\u001B[39;49m\u001B[43mtrial\u001B[49m\u001B[43m,\u001B[49m\n\u001B[0;32m   1628\u001B[0m \u001B[43m        \u001B[49m\u001B[43mignore_keys_for_eval\u001B[49m\u001B[38;5;241;43m=\u001B[39;49m\u001B[43mignore_keys_for_eval\u001B[49m\u001B[43m,\u001B[49m\n\u001B[0;32m   1629\u001B[0m \u001B[43m    \u001B[49m\u001B[43m)\u001B[49m\n",
      "File \u001B[1;32m~\\AppData\\Local\\Programs\\Python\\Python312\\Lib\\site-packages\\transformers\\trainer.py:1961\u001B[0m, in \u001B[0;36mTrainer._inner_training_loop\u001B[1;34m(self, batch_size, args, resume_from_checkpoint, trial, ignore_keys_for_eval)\u001B[0m\n\u001B[0;32m   1958\u001B[0m     \u001B[38;5;28mself\u001B[39m\u001B[38;5;241m.\u001B[39mcontrol \u001B[38;5;241m=\u001B[39m \u001B[38;5;28mself\u001B[39m\u001B[38;5;241m.\u001B[39mcallback_handler\u001B[38;5;241m.\u001B[39mon_step_begin(args, \u001B[38;5;28mself\u001B[39m\u001B[38;5;241m.\u001B[39mstate, \u001B[38;5;28mself\u001B[39m\u001B[38;5;241m.\u001B[39mcontrol)\n\u001B[0;32m   1960\u001B[0m \u001B[38;5;28;01mwith\u001B[39;00m \u001B[38;5;28mself\u001B[39m\u001B[38;5;241m.\u001B[39maccelerator\u001B[38;5;241m.\u001B[39maccumulate(model):\n\u001B[1;32m-> 1961\u001B[0m     tr_loss_step \u001B[38;5;241m=\u001B[39m \u001B[38;5;28;43mself\u001B[39;49m\u001B[38;5;241;43m.\u001B[39;49m\u001B[43mtraining_step\u001B[49m\u001B[43m(\u001B[49m\u001B[43mmodel\u001B[49m\u001B[43m,\u001B[49m\u001B[43m \u001B[49m\u001B[43minputs\u001B[49m\u001B[43m)\u001B[49m\n\u001B[0;32m   1963\u001B[0m \u001B[38;5;28;01mif\u001B[39;00m (\n\u001B[0;32m   1964\u001B[0m     args\u001B[38;5;241m.\u001B[39mlogging_nan_inf_filter\n\u001B[0;32m   1965\u001B[0m     \u001B[38;5;129;01mand\u001B[39;00m \u001B[38;5;129;01mnot\u001B[39;00m is_torch_tpu_available()\n\u001B[0;32m   1966\u001B[0m     \u001B[38;5;129;01mand\u001B[39;00m (torch\u001B[38;5;241m.\u001B[39misnan(tr_loss_step) \u001B[38;5;129;01mor\u001B[39;00m torch\u001B[38;5;241m.\u001B[39misinf(tr_loss_step))\n\u001B[0;32m   1967\u001B[0m ):\n\u001B[0;32m   1968\u001B[0m     \u001B[38;5;66;03m# if loss is nan or inf simply add the average of previous logged losses\u001B[39;00m\n\u001B[0;32m   1969\u001B[0m     tr_loss \u001B[38;5;241m+\u001B[39m\u001B[38;5;241m=\u001B[39m tr_loss \u001B[38;5;241m/\u001B[39m (\u001B[38;5;241m1\u001B[39m \u001B[38;5;241m+\u001B[39m \u001B[38;5;28mself\u001B[39m\u001B[38;5;241m.\u001B[39mstate\u001B[38;5;241m.\u001B[39mglobal_step \u001B[38;5;241m-\u001B[39m \u001B[38;5;28mself\u001B[39m\u001B[38;5;241m.\u001B[39m_globalstep_last_logged)\n",
      "File \u001B[1;32m~\\AppData\\Local\\Programs\\Python\\Python312\\Lib\\site-packages\\transformers\\trainer.py:2911\u001B[0m, in \u001B[0;36mTrainer.training_step\u001B[1;34m(self, model, inputs)\u001B[0m\n\u001B[0;32m   2909\u001B[0m         scaled_loss\u001B[38;5;241m.\u001B[39mbackward()\n\u001B[0;32m   2910\u001B[0m \u001B[38;5;28;01melse\u001B[39;00m:\n\u001B[1;32m-> 2911\u001B[0m     \u001B[38;5;28;43mself\u001B[39;49m\u001B[38;5;241;43m.\u001B[39;49m\u001B[43maccelerator\u001B[49m\u001B[38;5;241;43m.\u001B[39;49m\u001B[43mbackward\u001B[49m\u001B[43m(\u001B[49m\u001B[43mloss\u001B[49m\u001B[43m)\u001B[49m\n\u001B[0;32m   2913\u001B[0m \u001B[38;5;28;01mreturn\u001B[39;00m loss\u001B[38;5;241m.\u001B[39mdetach() \u001B[38;5;241m/\u001B[39m \u001B[38;5;28mself\u001B[39m\u001B[38;5;241m.\u001B[39margs\u001B[38;5;241m.\u001B[39mgradient_accumulation_steps\n",
      "File \u001B[1;32m~\\AppData\\Local\\Programs\\Python\\Python312\\Lib\\site-packages\\accelerate\\accelerator.py:2013\u001B[0m, in \u001B[0;36mAccelerator.backward\u001B[1;34m(self, loss, **kwargs)\u001B[0m\n\u001B[0;32m   2011\u001B[0m     \u001B[38;5;28mself\u001B[39m\u001B[38;5;241m.\u001B[39mscaler\u001B[38;5;241m.\u001B[39mscale(loss)\u001B[38;5;241m.\u001B[39mbackward(\u001B[38;5;241m*\u001B[39m\u001B[38;5;241m*\u001B[39mkwargs)\n\u001B[0;32m   2012\u001B[0m \u001B[38;5;28;01melse\u001B[39;00m:\n\u001B[1;32m-> 2013\u001B[0m     \u001B[43mloss\u001B[49m\u001B[38;5;241;43m.\u001B[39;49m\u001B[43mbackward\u001B[49m\u001B[43m(\u001B[49m\u001B[38;5;241;43m*\u001B[39;49m\u001B[38;5;241;43m*\u001B[39;49m\u001B[43mkwargs\u001B[49m\u001B[43m)\u001B[49m\n",
      "File \u001B[1;32m~\\AppData\\Local\\Programs\\Python\\Python312\\Lib\\site-packages\\torch\\_tensor.py:522\u001B[0m, in \u001B[0;36mTensor.backward\u001B[1;34m(self, gradient, retain_graph, create_graph, inputs)\u001B[0m\n\u001B[0;32m    512\u001B[0m \u001B[38;5;28;01mif\u001B[39;00m has_torch_function_unary(\u001B[38;5;28mself\u001B[39m):\n\u001B[0;32m    513\u001B[0m     \u001B[38;5;28;01mreturn\u001B[39;00m handle_torch_function(\n\u001B[0;32m    514\u001B[0m         Tensor\u001B[38;5;241m.\u001B[39mbackward,\n\u001B[0;32m    515\u001B[0m         (\u001B[38;5;28mself\u001B[39m,),\n\u001B[1;32m   (...)\u001B[0m\n\u001B[0;32m    520\u001B[0m         inputs\u001B[38;5;241m=\u001B[39minputs,\n\u001B[0;32m    521\u001B[0m     )\n\u001B[1;32m--> 522\u001B[0m \u001B[43mtorch\u001B[49m\u001B[38;5;241;43m.\u001B[39;49m\u001B[43mautograd\u001B[49m\u001B[38;5;241;43m.\u001B[39;49m\u001B[43mbackward\u001B[49m\u001B[43m(\u001B[49m\n\u001B[0;32m    523\u001B[0m \u001B[43m    \u001B[49m\u001B[38;5;28;43mself\u001B[39;49m\u001B[43m,\u001B[49m\u001B[43m \u001B[49m\u001B[43mgradient\u001B[49m\u001B[43m,\u001B[49m\u001B[43m \u001B[49m\u001B[43mretain_graph\u001B[49m\u001B[43m,\u001B[49m\u001B[43m \u001B[49m\u001B[43mcreate_graph\u001B[49m\u001B[43m,\u001B[49m\u001B[43m \u001B[49m\u001B[43minputs\u001B[49m\u001B[38;5;241;43m=\u001B[39;49m\u001B[43minputs\u001B[49m\n\u001B[0;32m    524\u001B[0m \u001B[43m\u001B[49m\u001B[43m)\u001B[49m\n",
      "File \u001B[1;32m~\\AppData\\Local\\Programs\\Python\\Python312\\Lib\\site-packages\\torch\\autograd\\__init__.py:266\u001B[0m, in \u001B[0;36mbackward\u001B[1;34m(tensors, grad_tensors, retain_graph, create_graph, grad_variables, inputs)\u001B[0m\n\u001B[0;32m    261\u001B[0m     retain_graph \u001B[38;5;241m=\u001B[39m create_graph\n\u001B[0;32m    263\u001B[0m \u001B[38;5;66;03m# The reason we repeat the same comment below is that\u001B[39;00m\n\u001B[0;32m    264\u001B[0m \u001B[38;5;66;03m# some Python versions print out the first line of a multi-line function\u001B[39;00m\n\u001B[0;32m    265\u001B[0m \u001B[38;5;66;03m# calls in the traceback and some print out the last line\u001B[39;00m\n\u001B[1;32m--> 266\u001B[0m \u001B[43mVariable\u001B[49m\u001B[38;5;241;43m.\u001B[39;49m\u001B[43m_execution_engine\u001B[49m\u001B[38;5;241;43m.\u001B[39;49m\u001B[43mrun_backward\u001B[49m\u001B[43m(\u001B[49m\u001B[43m  \u001B[49m\u001B[38;5;66;43;03m# Calls into the C++ engine to run the backward pass\u001B[39;49;00m\n\u001B[0;32m    267\u001B[0m \u001B[43m    \u001B[49m\u001B[43mtensors\u001B[49m\u001B[43m,\u001B[49m\n\u001B[0;32m    268\u001B[0m \u001B[43m    \u001B[49m\u001B[43mgrad_tensors_\u001B[49m\u001B[43m,\u001B[49m\n\u001B[0;32m    269\u001B[0m \u001B[43m    \u001B[49m\u001B[43mretain_graph\u001B[49m\u001B[43m,\u001B[49m\n\u001B[0;32m    270\u001B[0m \u001B[43m    \u001B[49m\u001B[43mcreate_graph\u001B[49m\u001B[43m,\u001B[49m\n\u001B[0;32m    271\u001B[0m \u001B[43m    \u001B[49m\u001B[43minputs\u001B[49m\u001B[43m,\u001B[49m\n\u001B[0;32m    272\u001B[0m \u001B[43m    \u001B[49m\u001B[43mallow_unreachable\u001B[49m\u001B[38;5;241;43m=\u001B[39;49m\u001B[38;5;28;43;01mTrue\u001B[39;49;00m\u001B[43m,\u001B[49m\n\u001B[0;32m    273\u001B[0m \u001B[43m    \u001B[49m\u001B[43maccumulate_grad\u001B[49m\u001B[38;5;241;43m=\u001B[39;49m\u001B[38;5;28;43;01mTrue\u001B[39;49;00m\u001B[43m,\u001B[49m\n\u001B[0;32m    274\u001B[0m \u001B[43m\u001B[49m\u001B[43m)\u001B[49m\n",
      "\u001B[1;31mKeyboardInterrupt\u001B[0m: "
     ]
    }
   ],
   "source": [
    "import transformers\n",
    "\n",
    "project = \"NPC-finetune\"\n",
    "base_model_name = \"llama2\"\n",
    "run_name = base_model_name + \"-\" + project\n",
    "output_dir = \"./\" + run_name\n",
    "\n",
    "trainer = transformers.Trainer(\n",
    "    model=model,\n",
    "    train_dataset=tokenized_train_dataset[\"train\"],\n",
    "    eval_dataset=tokenized_val_dataset[\"train\"],\n",
    "    args=transformers.TrainingArguments(\n",
    "        output_dir=output_dir,\n",
    "        warmup_steps=1,\n",
    "        per_device_train_batch_size=2,\n",
    "        gradient_accumulation_steps=1,\n",
    "        gradient_checkpointing=True,\n",
    "        max_steps=2126,\n",
    "        learning_rate=2.5e-5,  # Want a small lr for finetuning\n",
    "        bf16=True,\n",
    "        optim=\"paged_adamw_8bit\",\n",
    "        logging_steps=25,  # When to start reporting loss\n",
    "        logging_dir=\"./logs\",  # Directory for storing logs\n",
    "        save_strategy=\"steps\",  # Save the model checkpoint every logging step\n",
    "        save_steps=50,  # Save checkpoints every 50 steps\n",
    "        evaluation_strategy=\"steps\",  # Evaluate the model every logging step\n",
    "        eval_steps=50,  # Evaluate and save checkpoints every 50 steps\n",
    "        do_eval=True,\n",
    "        max_grad_norm=1.0,\n",
    "    ),\n",
    "    data_collator=transformers.DataCollatorForLanguageModeling(tokenizer, mlm=False),\n",
    ")\n",
    "\n",
    "model.config.use_cache = False  # silence the warnings. Please re-enable for inference!\n",
    "trainer.train()"
   ]
  },
  {
   "cell_type": "code",
   "outputs": [
    {
     "data": {
      "text/plain": "    step    loss  eval_loss\n0     50  0.2499   0.305938\n1    100  0.2148   0.261423\n2    150  0.1801   0.233338\n3    200  0.2027   0.200755\n4    250  0.1787   0.183751\n5    300  0.1733   0.171825\n6    350  0.1610   0.166915\n7    400  0.1441   0.163881\n8    450  0.1415   0.155863\n9    500  0.1335   0.152969\n10   550  0.1388   0.148526\n11   600  0.1236   0.145410\n12   650  0.1299   0.142724\n13   700  0.1315   0.141237\n14   750  0.0880   0.145517\n15   800  0.0844   0.143891",
      "text/html": "<div>\n<style scoped>\n    .dataframe tbody tr th:only-of-type {\n        vertical-align: middle;\n    }\n\n    .dataframe tbody tr th {\n        vertical-align: top;\n    }\n\n    .dataframe thead th {\n        text-align: right;\n    }\n</style>\n<table border=\"1\" class=\"dataframe\">\n  <thead>\n    <tr style=\"text-align: right;\">\n      <th></th>\n      <th>step</th>\n      <th>loss</th>\n      <th>eval_loss</th>\n    </tr>\n  </thead>\n  <tbody>\n    <tr>\n      <th>0</th>\n      <td>50</td>\n      <td>0.2499</td>\n      <td>0.305938</td>\n    </tr>\n    <tr>\n      <th>1</th>\n      <td>100</td>\n      <td>0.2148</td>\n      <td>0.261423</td>\n    </tr>\n    <tr>\n      <th>2</th>\n      <td>150</td>\n      <td>0.1801</td>\n      <td>0.233338</td>\n    </tr>\n    <tr>\n      <th>3</th>\n      <td>200</td>\n      <td>0.2027</td>\n      <td>0.200755</td>\n    </tr>\n    <tr>\n      <th>4</th>\n      <td>250</td>\n      <td>0.1787</td>\n      <td>0.183751</td>\n    </tr>\n    <tr>\n      <th>5</th>\n      <td>300</td>\n      <td>0.1733</td>\n      <td>0.171825</td>\n    </tr>\n    <tr>\n      <th>6</th>\n      <td>350</td>\n      <td>0.1610</td>\n      <td>0.166915</td>\n    </tr>\n    <tr>\n      <th>7</th>\n      <td>400</td>\n      <td>0.1441</td>\n      <td>0.163881</td>\n    </tr>\n    <tr>\n      <th>8</th>\n      <td>450</td>\n      <td>0.1415</td>\n      <td>0.155863</td>\n    </tr>\n    <tr>\n      <th>9</th>\n      <td>500</td>\n      <td>0.1335</td>\n      <td>0.152969</td>\n    </tr>\n    <tr>\n      <th>10</th>\n      <td>550</td>\n      <td>0.1388</td>\n      <td>0.148526</td>\n    </tr>\n    <tr>\n      <th>11</th>\n      <td>600</td>\n      <td>0.1236</td>\n      <td>0.145410</td>\n    </tr>\n    <tr>\n      <th>12</th>\n      <td>650</td>\n      <td>0.1299</td>\n      <td>0.142724</td>\n    </tr>\n    <tr>\n      <th>13</th>\n      <td>700</td>\n      <td>0.1315</td>\n      <td>0.141237</td>\n    </tr>\n    <tr>\n      <th>14</th>\n      <td>750</td>\n      <td>0.0880</td>\n      <td>0.145517</td>\n    </tr>\n    <tr>\n      <th>15</th>\n      <td>800</td>\n      <td>0.0844</td>\n      <td>0.143891</td>\n    </tr>\n  </tbody>\n</table>\n</div>"
     },
     "execution_count": 17,
     "metadata": {},
     "output_type": "execute_result"
    }
   ],
   "source": [
    "#generate the diagrams for the training\n",
    "import pandas as pd\n",
    "import matplotlib.pyplot as plt\n",
    "\n",
    "# Load from the output_dir the last checkpoints trainer state, validation loss and training loss\n",
    "df = pd.read_json(output_dir + \"/checkpoint-800/trainer_state.json\")\n",
    "\n",
    "df = df['log_history']\n",
    "\n",
    "#drop every third row\n",
    "df = df.drop(df.index[::3])\n",
    "\n",
    "df.reset_index(drop=True, inplace=True)\n",
    "# conbine the dictionaries of every two rows\n",
    "df = pd.DataFrame([{**df[i], **df[i + 1]} for i in range(0, len(df), 2)])\n",
    "\n",
    "# keep only the step, training loss and validation loss columns\n",
    "df = df[['step', 'loss', 'eval_loss']]\n",
    "\n",
    "df"
   ],
   "metadata": {
    "collapsed": false,
    "ExecuteTime": {
     "end_time": "2024-06-27T17:40:39.292011700Z",
     "start_time": "2024-06-27T17:40:39.249063700Z"
    }
   },
   "id": "21162dc4137c952e",
   "execution_count": 17
  },
  {
   "cell_type": "code",
   "outputs": [
    {
     "data": {
      "text/plain": "<Figure size 1000x600 with 1 Axes>",
      "image/png": "[encoded data removed]"
     },
     "metadata": {},
     "output_type": "display_data"
    }
   ],
   "source": [
    "# Plotting\n",
    "plt.figure(figsize=(10, 6))\n",
    "\n",
    "plt.plot(df[\"step\"], df[\"loss\"], label=\"Training Loss\", marker='o')\n",
    "\n",
    "plt.plot(df[\"step\"], df[\"eval_loss\"], label=\"Validation Loss\", marker='o')\n",
    "\n",
    "plt.title(\"Training and Validation Loss Over Steps\")\n",
    "\n",
    "plt.xlabel(\"Step\")\n",
    "\n",
    "plt.ylabel(\"Loss\")\n",
    "\n",
    "plt.grid(True)\n",
    "\n",
    "plt.legend()\n",
    "\n",
    "plt.show()"
   ],
   "metadata": {
    "collapsed": false,
    "ExecuteTime": {
     "end_time": "2024-06-27T17:41:21.438852300Z",
     "start_time": "2024-06-27T17:41:21.305919400Z"
    }
   },
   "id": "ac09349239546ce2",
   "execution_count": 19
  },
  {
   "cell_type": "code",
   "outputs": [
    {
     "data": {
      "text/plain": "Loading checkpoint shards:   0%|          | 0/2 [00:00<?, ?it/s]",
      "application/vnd.jupyter.widget-view+json": {
       "version_major": 2,
       "version_minor": 0,
       "model_id": "dac0fcdfa85d463797d7e90e9a736d8f"
      }
     },
     "metadata": {},
     "output_type": "display_data"
    }
   ],
   "source": [
    "import torch\n",
    "from transformers import AutoTokenizer, AutoModelForCausalLM, BitsAndBytesConfig\n",
    "\n",
    "base_model_id = \"meta-llama/Llama-2-7b-hf\"\n",
    "bnb_config = BitsAndBytesConfig(\n",
    "    load_in_4bit=True,\n",
    "    bnb_4bit_use_double_quant=True,\n",
    "    bnb_4bit_quant_type=\"nf4\",\n",
    "    bnb_4bit_compute_dtype=torch.bfloat16\n",
    ")\n",
    "\n",
    "base_model = AutoModelForCausalLM.from_pretrained(\n",
    "    base_model_id,  # Llama2, same as before\n",
    "    quantization_config=bnb_config,  # Same quantization config as before\n",
    "    device_map=\"auto\",\n",
    "    trust_remote_code=True,\n",
    ")\n",
    "\n",
    "eval_tokenizer = AutoTokenizer.from_pretrained(base_model_id, add_bos_token=True, trust_remote_code=True)"
   ],
   "metadata": {
    "collapsed": false,
    "ExecuteTime": {
     "end_time": "2024-06-16T05:28:47.800840900Z",
     "start_time": "2024-06-16T05:28:16.522886500Z"
    }
   },
   "id": "ea90e93a904c5d4a",
   "execution_count": 1
  },
  {
   "cell_type": "code",
   "execution_count": 2,
   "id": "e154dc87f95c4f41",
   "metadata": {
    "collapsed": false,
    "ExecuteTime": {
     "end_time": "2024-06-16T05:28:53.971197800Z",
     "start_time": "2024-06-16T05:28:50.845650700Z"
    }
   },
   "outputs": [],
   "source": [
    "from peft import PeftModel\n",
    "\n",
    "ft_model = PeftModel.from_pretrained(base_model, \"llama2-NPC-finetune/checkpoint-700\")"
   ]
  },
  {
   "cell_type": "code",
   "outputs": [
    {
     "name": "stdout",
     "output_type": "stream",
     "text": [
      "\n",
      "The following text text elaborates on which line of dialogue is used by an NPC when the Player character tries to persuade them. The text will be enclosed within <START> and <END>. There are specific rules that apply only to the text: the event will be enclosed within <EVENT> and </EVENT>,the type of speaker will be enclosed within <SPEAKER> and </SPEAKER>, the line used will be enclosed within <LINE> and </LINE> and the result of the event will be enclosed within <RESULT> and </RESULT>. Generate the missing dialogue line between the <LINE> and </LINE> tags inside the provided text.\n",
      "\n",
      "<START>\n",
      "In the world of Skyrim from the game Elder Scrolls V, when the Player character tries to check if an NPC of any type can be persuaded, when <EVENT>rejecting the Player's intimidation</EVENT>and as a result </RESULT>a brawl begins<RESULT>, the <SPEAKER>NPC that is of any type</SPEAKER> uses the following line of dialogue: \n",
      "<END>\n",
      "\n",
      "Please remember to generate the line of dialogue used by the NPC based on the given context and not a description of what took place.\n",
      "\n",
      "Generated dialogue:\n",
      "\n",
      "<LINE>I don't think so.</LINE>\n"
     ]
    }
   ],
   "source": [
    "eval_prompt = (f\"\"\"\n",
    "The following text text elaborates on which line of dialogue is used by an NPC when the Player character tries to persuade them. The text will be enclosed within <START> and <END>. There are specific rules that apply only to the text: the event will be enclosed within <EVENT> and </EVENT>,the type of speaker will be enclosed within <SPEAKER> and </SPEAKER>, the line used will be enclosed within <LINE> and </LINE> and the result of the event will be enclosed within <RESULT> and </RESULT>. Generate the missing dialogue line between the <LINE> and </LINE> tags inside the provided text.\n",
    "\n",
    "<START>\n",
    "In the world of Skyrim from the game Elder Scrolls V, when the Player character tries to check if an NPC of any type can be persuaded, when <EVENT>rejecting the Player's intimidation</EVENT>and as a result </RESULT>a brawl begins<RESULT>, the <SPEAKER>NPC that is of any type</SPEAKER> uses the following line of dialogue: \n",
    "<END>\n",
    "\n",
    "Please remember to generate the line of dialogue used by the NPC based on the given context and not a description of what took place.\n",
    "\n",
    "Generated dialogue:\n",
    "\n",
    "\"\"\"\n",
    "\n",
    ")\n",
    "model_input = eval_tokenizer(eval_prompt, return_tensors=\"pt\").to(\"cuda\")\n",
    "\n",
    "ft_model.eval()\n",
    "with torch.no_grad():\n",
    "    print(eval_tokenizer.decode(ft_model.generate(**model_input, max_new_tokens=750, repetition_penalty=1.25,pad_token_id=2, temperature=0.3, top_p = 0.65)[0],\n",
    "                                skip_special_tokens=True))\n",
    "    #save the results to a list\n",
    "    answer = eval_tokenizer.decode(ft_model.generate(**model_input, max_new_tokens=750, repetition_penalty=1.25,pad_token_id=2, temperature=0.3, top_p = 0.65)[0],\n",
    "                                skip_special_tokens=True)"
   ],
   "metadata": {
    "collapsed": false,
    "ExecuteTime": {
     "end_time": "2024-06-16T07:13:55.050948700Z",
     "start_time": "2024-06-16T07:13:51.294236Z"
    }
   },
   "id": "16f5ddad06c7fa1b",
   "execution_count": 141
  },
  {
   "cell_type": "code",
   "outputs": [],
   "source": [
    "def evaluation_func(example):\n",
    "\n",
    "    description = f\"\"\"The following text elaborates on what line of dialogue is used by an NPC in a certain event. The text will be enclosed within <START> and <END>. There are specific rules that apply only to the text: the event will be enclosed within <EVENT> and </EVENT>, the type of speaker will be enclosed within <SPEAKER> and </SPEAKER> and the line used will be enclosed within <LINE> and </LINE>. Generate the missing dialogue line between the <LINE> and </LINE> tags inside the provided text.\n",
    "    \n",
    "\"\"\"\n",
    "    if example['Event'] == \"Greeting\":\n",
    "\n",
    "        description = f\"\"\"The following text describes a greeting exchange between the Player and an NPC. The text will be enclosed within <START> and <END>. There are specific rules that apply only to the text: the event will be enclosed within <EVENT> and </EVENT>, the type of speaker will be enclosed within <SPEAKER> and </SPEAKER>, the line used will be enclosed within <LINE> and </LINE>, and the tone of the line will be enclosed within <TONE> and </TONE>.Generate the missing dialogue line between the <LINE> and </LINE> tags inside the provided text.\n",
    "\n",
    "\"\"\"\n",
    "    elif example['Event'] == \"NPCs fighting over a Player's dropped item\":\n",
    "\n",
    "        description = f\"\"\"The following text describes an exchange where multiple NPCs are fighting over a Player's dropped item and one of them uses a line of dialogue. The text will be enclosed within <START> and <END>. There are specific rules that apply only to the text: the event will be enclosed within <EVENT> and </EVENT>, the type of speaker will be enclosed within <SPEAKER> and </SPEAKER>, the line used will be enclosed within <LINE> and </LINE>, and the number of the current spoken line in the dialogue will be enclosed within <NUMBER> and </NUMBER>. Generate the missing dialogue line between the <LINE> and </LINE> tags inside the provided text.\n",
    "\n",
    "\"\"\"\n",
    "    elif example['Condition'] == \"in combat\":\n",
    "\n",
    "        description = f\"\"\"The following text elaborates on which line of dialogue a friendly NPC uses when it is in combat. The text will be enclosed within <START> and <END>. There are specific rules that apply only to the text: the event will be enclosed within <EVENT> and </EVENT>,the type of speaker will be enclosed within <SPEAKER> and </SPEAKER>, the line used will be enclosed within <LINE> and </LINE>, and  the condition will be enclosed within <CONDITION> and </CONDITION>. Generate the missing dialogue line between the <LINE> and </LINE> tags. Generate the missing dialogue line between the <LINE> and </LINE> tags inside the provided text.\n",
    "\n",
    "\"\"\"\n",
    "    elif example['Result'] is not None:\n",
    "\n",
    "        description = f\"\"\"The following text text elaborates on which line of dialogue is used by an NPC when the Player character tries to persuade them. The text will be enclosed within <START> and <END>. There are specific rules that apply only to the text: the event will be enclosed within <EVENT> and </EVENT>,the type of speaker will be enclosed within <SPEAKER> and </SPEAKER>, the line used will be enclosed within <LINE> and </LINE> and the result of the event will be enclosed within <RESULT> and </RESULT>. Generate the missing dialogue line between the <LINE> and </LINE> tags inside the provided text.\n",
    "\n",
    "\"\"\"\n",
    "    elif example['Race'] is not None:\n",
    "\n",
    "        description = f\"\"\"The following text describes the reaction of a Guard based on the Player's race. The text will be enclosed within <START> and <END>. There are specific rules that apply only to the text: the event will be enclosed within <EVENT> and </EVENT>, the type of speaker will be enclosed within <SPEAKER> and </SPEAKER>, the line used will be enclosed within <LINE> and </LINE>, the race of the Player will be enclosed within <RACE> and </RACE>, and the condition, if there is one, will be enclosed within <CONDITION> and </CONDITION>. Generate the missing dialogue line between the <LINE> and </LINE> tags inside the provided text.\n",
    "\n",
    "\"\"\"\n",
    "    elif example['Equipment'] is not None:\n",
    "\n",
    "        description = f\"\"\"The following text describes the reaction of a Guard based on the Player's equipment. The text will be enclosed within <START> and <END>. There are specific rules that apply only to the text: the event will be enclosed within <EVENT> and </EVENT>, the type of speaker will be enclosed within <SPEAKER> and </SPEAKER>, the line used will be enclosed within <LINE> and </LINE>, the equipment of the Player will be enclosed within <EQUIPMENT> and </EQUIPMENT>, and the condition, if there is one, will be enclosed within <CONDITION> and </CONDITION>. GGenerate the missing dialogue line between the <LINE> and </LINE> tags inside the provided text.\n",
    "\n",
    "\"\"\"\n",
    "    elif example['Location'] is not None:\n",
    "\n",
    "        description = f\"\"\"The following text describes a special interaction of a Guard based on the Player's location. The text will be enclosed within <START> and <END>. There are specific rules that apply only to the text: the event will be enclosed within <EVENT> and </EVENT>, the type of speaker will be enclosed within <SPEAKER> and </SPEAKER>, the line used will be enclosed within <LINE> and </LINE>, the location of the Player will be enclosed within <LOCATION> and </LOCATION>, and the condition, if there is one, will be enclosed within <CONDITION> and </CONDITION>. Generate the missing dialogue line between the <LINE> and </LINE> tags inside the provided text.\n",
    "\n",
    "\"\"\"\n",
    "\n",
    "    elif example['Response_to'] is not None:\n",
    "\n",
    "        description = f\"\"\"The following text describes a part of a dialogue between and NPC and the Player in the case of a certain event. The text will be enclosed within <START> and <END>. There are specific rules that apply only to the text: the event will be enclosed within <EVENT> and </EVENT>, the type of speaker will be enclosed within <SPEAKER> and </SPEAKER>, the line used will be enclosed within <LINE> and </LINE>, and the line that the speaker responds to, will be enclosed within <RESPONSE> and </RESPONSE>. Generate the missing dialogue line between the <LINE> and </LINE> tags inside the provided text.\n",
    "\n",
    "\"\"\"\n",
    "    elif example['Condition'] is not None:\n",
    "\n",
    "        description = f\"\"\"The following text elaborates on a line of dialogue used by an NPC in a certain event under a condition. The text will be enclosed within <START> and <END>. There are specific rules that apply only to the text: the event will be enclosed within <EVENT> and </EVENT>, the type of speaker will be enclosed within <SPEAKER> and </SPEAKER>, the line used will be enclosed within <LINE> and </LINE>, and the condition, will be enclosed within <CONDITION> and </CONDITION>. Generate the missing dialogue line between the <LINE> and </LINE> tags inside the provided text.\n",
    "        \n",
    "\"\"\"\n",
    "\n",
    "\n",
    "    if example['Speaker'] == \"Any\":\n",
    "\n",
    "        npc_type = \"the NPC, that is of any type\"\n",
    "\n",
    "    elif \"Guard\" in example['Speaker']:\n",
    "\n",
    "        npc_type = f'the {example[\"Speaker\"]}'\n",
    "\n",
    "    elif \"trainer\" in example['Event']:\n",
    "\n",
    "        npc_type = f\"\"\"the trainer NPC, that is named {example['Speaker']}\"\"\"\n",
    "\n",
    "    elif example['Speaker'] == \"Housecarl\":\n",
    "\n",
    "        npc_type = \"the Housecarl\"\n",
    "\n",
    "    else:\n",
    "\n",
    "        npc_type = f'the NPC, that is the type {example[\"Speaker\"]}'\n",
    "\n",
    "\n",
    "\n",
    "    if example['Event'] == \"Greeting\":\n",
    "\n",
    "        return description + f\"\"\"<START>\n",
    "In the world of Skyrim from the game Elder Scrolls V, in the event of a <EVENT>{example['Event']}</EVENT>, between an NPC and the Player character, <SPEAKER>{npc_type}</SPEAKER> greets the Player, in a <TONE>{example['Tone']}</TONE> tone, using the following line of dialogue: \n",
    "<END>\n",
    "\n",
    "Please remember to generate the line of dialogue used by the NPC.\n",
    "\n",
    "Generated dialogue:\n",
    "\"\"\"\n",
    "\n",
    "\n",
    "    if example['Event'] == \"Goodbye\":\n",
    "\n",
    "        return description + f\"\"\"<START>\n",
    "In the world of Skyrim from the game Elder Scrolls V, in the event of a <EVENT>{example['Event']}</EVENT>, between an NPC and the Player character,<SPEAKER>{npc_type}</SPEAKER> tells their goodbyes to the Player using the following line of dialogue: \n",
    "<END>\n",
    "\n",
    "The NPC must always say a dialogue line related to the context, it cannot say nothing.\n",
    "\n",
    "Please remember to generate the line of dialogue used by the NPC.\n",
    "\n",
    "Generated dialogue:\n",
    "\"\"\"\n",
    "\n",
    "\n",
    "    if example['Event'] == \"NPCs fighting over a Player's dropped item\":\n",
    "\n",
    "        return description + f\"\"\"<START>\n",
    "In the world of Skyrim from the game Elder Scrolls V, in the event of <EVENT>{example['Event']}</EVENT>, there can be up to 5 different NPCs arguing over an item that the Player character dropped and up to 2 bystander NPCs commenting on the situation. Up to five lines of dialogue can be exchanged between up to five different NPCs that are arguing and up to two lines of bystander dialogue can be used by up to two different bystander NPCs, meaning that the conversation ends after a maximum of 7 lines of dialogue have been said. In this case one of the NPCs that takes part in the arguing and is <SPEAKER>{npc_type}</SPEAKER>, says, as the <NUMBER>{example['Line_of_dialogue']}</NUMBER> line of the dialogue, the following line:\n",
    "<END>\n",
    "\n",
    "The generated dialogue should be one line of text with no special tags or formatting, only the text of the dialogue.\n",
    "\n",
    "Please remember to generate the line of dialogue used by the NPC based on the given context and not a description of what took place.\n",
    "\n",
    "Generated dialogue:\n",
    "\"\"\"\n",
    "\n",
    "    if example['Event'] == \"NPC asking for the Player's dropped armor\":\n",
    "\n",
    "        if example['Speaker'] == \"Player\":\n",
    "            return description + f\"\"\"<START>\n",
    "In the world of Skyrim from the game Elder Scrolls V, in the event of an <EVENT>{example['Event']}</EVENT>, there is a conversation between the Player character and an NPC about the Player's dropped item.\n",
    "In this case in response to the NPC's previous line of dialogue: <RESPONSE>{example['Response_to']}</RESPONSE>,the <SPEAKER>Player</SPEAKER> character uses the following line of dialogue:\n",
    "<END>\n",
    "\n",
    "The generated dialogue should be one line of text with no special tags or formatting, only the text of the dialogue.\n",
    "\n",
    "Please remember to generate the line of dialogue used by the Player.\n",
    "\n",
    "Generated dialogue:\n",
    "\"\"\"\n",
    "\n",
    "        if example['Response_to'] is not None:\n",
    "\n",
    "            return description + f\"\"\"<START>\n",
    "In the world of Skyrim from the game Elder Scrolls V, in the event of an <EVENT>{example['Event']}</EVENT> there is a conversation between the Player character and an NPC about the Player's dropped item.\n",
    "In this case in response to the Player character's previous line of dialogue: <RESPONSE>{example['Response_to']}</RESPONSE>, <SPEAKER>{npc_type}</SPEAKER> uses the following line of dialogue: <LINE> </LINE>.\n",
    "<END>\n",
    "\n",
    "The generated dialogue should be one line of text with no special tags or formatting, only the text of the dialogue.\n",
    "\n",
    "Please remember to generate the line of dialogue used by the NPC.\n",
    "\n",
    "Generated dialogue:\n",
    "\"\"\"\n",
    "\n",
    "        else:\n",
    "\n",
    "            return description + f\"\"\"<START>\n",
    "In the world of Skyrim from the game Elder Scrolls V, in the event of an <EVENT>{example['Event']}</EVENT> there is a conversation between the Player character and an NPC about the Player's dropped item.\n",
    "In this case to initiate a conversation about the Player's dropped item, <SPEAKER>{npc_type}</SPEAKER> uses the following line of dialogue: <LINE> </LINE>.\n",
    "<END>\n",
    "\n",
    "The generated dialogue should be one line of text with no special tags or formatting, only the text of the dialogue.\n",
    "\n",
    "Please remember to generate the line of dialogue used by the NPC.\n",
    "\n",
    "Generated dialogue:\n",
    "\"\"\"\n",
    "\n",
    "    if example['Condition'] == \"in combat\":\n",
    "\n",
    "        return description + f\"\"\"<START>\n",
    "In the world of Skyrim from the game Elder Scrolls V, when the Player character and a friendly NPC are <CONDITION>{example['Condition']}</CONDITION>, when <EVENT>{example['Event']}</EVENT>,<SPEAKER>{npc_type}</SPEAKER> uses the following line of dialogue:\n",
    "<END>\n",
    "\n",
    "Please remember to generate the line of dialogue used by the NPC based on the given context and not a description of what took place.\n",
    "\n",
    "The generated dialogue should be one line of text with no special tags or formatting, only the text of the dialogue.\n",
    "\n",
    "Generated dialogue:\n",
    "\"\"\"\n",
    "\n",
    "    if example['Result'] is not None:\n",
    "\n",
    "            return description + f\"\"\"<START>\n",
    "In the world of Skyrim from the game Elder Scrolls V, when the Player character tries to check if an NPC of any type can be persuaded, when <EVENT>{example['Event']}</EVENT> and as a result </RESULT>{example['Result']}<RESULT>, <SPEAKER>{npc_type}</SPEAKER> uses the following line of dialogue:\n",
    "<END>\n",
    "\n",
    "Please remember to generate the line of dialogue used by the NPC, based on the given context and not a description of what took place.\n",
    "\n",
    "The generated dialogue should be one line of text with no special tags or formatting, only the text of the dialogue.\n",
    "\n",
    "Generated dialogue:\n",
    "\"\"\"\n",
    "\n",
    "    if example['Event'] == \"an NPC spots the Player character having an amulet of mara\":\n",
    "\n",
    "        if example['Speaker'] == \"Player\":\n",
    "\n",
    "            return description + f\"\"\"<START>\n",
    "In the world of Skyrim from the game Elder Scrolls V, when <EVENT>{example['Event']}</EVENT> an interaction begins between the two about the possibility of marriage.\n",
    "In this case in response to the the NPC's previous dialogue line: <RESPONSE>{example['Response_to']}</RESPONSE>, the <SPEAKER>Player</SPEAKER> character uses the following line of dialogue:\n",
    "<END>\n",
    "\n",
    "Please remember to generate the line of dialogue used by the Player.\n",
    "\n",
    "The generated dialogue should be one line of text with no special tags or formatting, only the text of the dialogue.\n",
    "\n",
    "Generated dialogue:\n",
    "\"\"\"\n",
    "\n",
    "        if example['Response_to'] is None:\n",
    "\n",
    "            return description +  f\"\"\"<START>\n",
    "In the world of Skyrim from the game Elder Scrolls V, when <EVENT>{example['Event']}</EVENT> an interaction begins between the two about the possibility of marriage.\n",
    "In this case to initiate the conversation about marriage, <SPEAKER>{npc_type}</SPEAKER> uses the following line of dialogue:\n",
    "<END>\n",
    "\n",
    "Please remember to generate the line of dialogue used by the NPC.\n",
    "\n",
    "The generated dialogue should be one line of text with no special tags or formatting, only the text of the dialogue.\n",
    "\n",
    "Generated dialogue:\n",
    "\"\"\"\n",
    "\n",
    "        else:\n",
    "\n",
    "            return description + f\"\"\"<START>\n",
    "In the world of Skyrim from the game Elder Scrolls V, when <EVENT>{example['Event']}</EVENT> an interaction begins between the two about the possibility of marriage.\n",
    "In this case in response to the the Player's previous dialogue line: <RESPONSE>{example['Response_to']}</RESPONSE>, <SPEAKER>{npc_type}</SPEAKER> uses the following line of dialogue:\n",
    "<END>\n",
    "\n",
    "Please remember to generate the line of dialogue used by the NPC.\n",
    "\n",
    "The generated dialogue should be one line of text with no special tags or formatting, only the text of the dialogue.\n",
    "\n",
    "Generated dialogue:\n",
    "\"\"\"\n",
    "\n",
    "    if example['Race'] is not None:\n",
    "\n",
    "        if example['Condition'] is not None:\n",
    "\n",
    "            return description + f\"\"\"<START>\n",
    "In the world of Skyrim from the game Elder Scrolls V, Town Guards have special reactions to the race of the Player character, in the case of <EVENT>{example['Event']}</EVENT>, if the Player's race is <RACE>{example['Race']}</RACE> and <CONDITION>{example['Condition']}</CONDITION>, the <SPEAKER>Guard</SPEAKER> uses the following line of dialogue:\n",
    "<END>\n",
    "\n",
    "Please remember to generate the line of dialogue used by the Guard.\n",
    "\n",
    "The generated dialogue should be one line of text with no special tags or formatting, only the text of the dialogue.\n",
    "\n",
    "Generated dialogue:\n",
    "\"\"\"\n",
    "\n",
    "        else:\n",
    "\n",
    "            return description + f\"\"\"<START>\n",
    "In the world of Skyrim from the game Elder Scrolls V, Town Guards have special reactions to the race of the Player character, so in the case of <EVENT>{example['Event']}</EVENT>, if the Player's race is <RACE>{example['Race']}</RACE>, the <SPEAKER>Guard</SPEAKER> uses the following line of dialogue:\n",
    "<END>\n",
    "\n",
    "Please remember to generate the line of dialogue used by the Guard.\n",
    "\n",
    "The generated dialogue should be one line of text with no special tags or formatting, only the text of the dialogue.\n",
    "\n",
    "Generated dialogue:\n",
    "\"\"\"\n",
    "\n",
    "    if example['Equipment'] is not None:\n",
    "\n",
    "        if example['Condition'] is not None:\n",
    "\n",
    "            return description + f\"\"\"<START>\n",
    "In the world of Skyrim from the game Elder Scrolls V, Town Guards have special reactions to the equipment the Player character is holding or has equipped, so when in the case of a <EVENT>{example['Event']}</EVENT> and <CONDITION>{example['Condition']}</CONDITION>, to react to the Player's <EQUIPMENT>{example['Equipment']}</EQUIPMENT>, the <SPEAKER>Guard</SPEAKER> uses the following line of dialogue:\n",
    "<END>\n",
    "\n",
    "Please remember to generate the line of dialogue used by the Guard.\n",
    "\n",
    "The generated dialogue should be one line of text with no special tags or formatting, only the text of the dialogue.\n",
    "\n",
    "Generated dialogue:\n",
    "\"\"\"\n",
    "\n",
    "        else:\n",
    "\n",
    "            return description + f\"\"\"<START>\n",
    "In the world of Skyrim from the game Elder Scrolls V, Town Guards have special reactions to the equipment the Player character is holding or has equipped, so when in the case of a <EVENT>{example['Event']}</EVENT>, to react to the Player's <EQUIPMENT>{example['Equipment']}</EQUIPMENT>, the <SPEAKER>Guard</SPEAKER> uses the following line of dialogue:\n",
    "<END>\n",
    "\n",
    "Please remember to generate the line of dialogue used by the Guard.\n",
    "\n",
    "The generated dialogue should be one line of text with no special tags or formatting, only the text of the dialogue.\n",
    "\n",
    "Generated dialogue:\n",
    "\"\"\"\n",
    "\n",
    "    if example['Location'] is not None:\n",
    "\n",
    "        if example['Condition'] is not None:\n",
    "\n",
    "            return description + f\"\"\"<START>\n",
    "In the world of Skyrim from the game Elder Scrolls V, <EVENT>Town Guards have special interactions with the Player character that are location based</EVENT>, meaning that the Guards sometimes interact with the Player using town specific dialogue.\n",
    "In this case in the town of <LOCATION>{example['Location']}</LOCATION> and on the condition that <CONDITION>{example['Condition']}</CONDITION>, a <SPEAKER>Guard</SPEAKER>, when the Player character interacts with them, uses the following line of dialogue:\n",
    "<END>\n",
    "\n",
    "Please remember to generate the line of dialogue used by the Guard.\n",
    "\n",
    "The generated dialogue should be one line of text with no special tags or formatting, only the text of the dialogue.\n",
    "\n",
    "Generated dialogue:\n",
    "\"\"\"\n",
    "\n",
    "        else:\n",
    "\n",
    "            return description + f\"\"\"<START>\n",
    "In the world of Skyrim from the game Elder Scrolls V, <EVENT>Town Guards have special interactions with the Player character that are location based</EVENT>, meaning that the Guards sometimes interact with the Player using town specific dialogue.\n",
    "In this case in the town of <LOCATION>{example['Location']}</LOCATION>, a <SPEAKER>Guard</SPEAKER>, when the Player character interacts with them, uses the following line of dialogue:\n",
    "<END>\n",
    "\n",
    "Please remember to generate the line of dialogue used by the Guard.\n",
    "\n",
    "The generated dialogue should be one line of text with no special tags or formatting, only the text of the dialogue.\n",
    "\n",
    "Generated dialogue:\n",
    "\"\"\"\n",
    "\n",
    "    if example['Condition'] is not None:\n",
    "\n",
    "          return description + f\"\"\"<START>\n",
    "In the world of Skyrim from the game Elder Scrolls V, in the event of <EVENT>{example['Event']}</EVENT> and on the condition that <CONDITION>{example['Condition']}</CONDITION>, <SPEAKER>{npc_type}</SPEAKER>, says the following line to the Player character:\n",
    "<END>\n",
    "\n",
    "Please remember to generate the line of dialogue used by the NPC, based on the given context and not a description of what took place.\n",
    "\n",
    "The generated dialogue should be one line of text with no special tags or formatting, only the text of the dialogue.\n",
    "\n",
    "Generated dialogue:\n",
    "\"\"\"\n",
    "\n",
    "    return description + f\"\"\"<START>\n",
    "In the world of Skyrim from the game Elder Scrolls V, in the event of <EVENT>{example['Event']}</EVENT>, <SPEAKER>{npc_type}</SPEAKER>, says the following line to the Player character:\n",
    "<END>\n",
    "\n",
    "Please remember to generate the line of dialogue used by the NPC.\n",
    "\n",
    "The generated dialogue should be one line of text with no special tags or formatting, only the text of the dialogue.\n",
    "\n",
    "Generated dialogue:\n",
    "\"\"\""
   ],
   "metadata": {
    "collapsed": false,
    "ExecuteTime": {
     "end_time": "2024-06-16T09:51:18.913387500Z",
     "start_time": "2024-06-16T09:51:18.862564900Z"
    }
   },
   "id": "188a7280b29173a8",
   "execution_count": 752
  },
  {
   "cell_type": "code",
   "outputs": [],
   "source": [],
   "metadata": {
    "collapsed": false,
    "ExecuteTime": {
     "end_time": "2024-06-16T09:51:19.054227100Z",
     "start_time": "2024-06-16T09:51:19.035221700Z"
    }
   },
   "id": "508eacd6587ac4c2",
   "execution_count": 752
  },
  {
   "cell_type": "code",
   "outputs": [],
   "source": [
    "import pandas as pd\n",
    " # Create an evaluation data frame for each example in the test dataset\n",
    "eval_df = pd.DataFrame(test_dataset['train'])\n",
    "eval_df['description'] = eval_df.apply(evaluation_func, axis=1)"
   ],
   "metadata": {
    "collapsed": false,
    "ExecuteTime": {
     "end_time": "2024-06-16T09:51:19.285054100Z",
     "start_time": "2024-06-16T09:51:19.233591Z"
    }
   },
   "id": "71d4c54c7ee90baa",
   "execution_count": 753
  },
  {
   "cell_type": "code",
   "outputs": [],
   "source": [
    "# create a new dataframe from the Dialogue column of the eval_df\n",
    "test_dialogues = eval_df['Dialogue']"
   ],
   "metadata": {
    "collapsed": false,
    "ExecuteTime": {
     "end_time": "2024-06-16T09:51:19.610359Z",
     "start_time": "2024-06-16T09:51:19.588847900Z"
    }
   },
   "id": "39246a2ed90bec3b",
   "execution_count": 754
  },
  {
   "cell_type": "code",
   "outputs": [],
   "source": [
    "eval_df = eval_df[['description']]"
   ],
   "metadata": {
    "collapsed": false,
    "ExecuteTime": {
     "end_time": "2024-06-16T09:51:20.053232900Z",
     "start_time": "2024-06-16T09:51:20.033723100Z"
    }
   },
   "id": "82aa554cb2729b07",
   "execution_count": 755
  },
  {
   "cell_type": "code",
   "outputs": [
    {
     "data": {
      "text/plain": "                                           description\n0    The following text describes a greeting exchan...\n1    The following text describes a greeting exchan...\n2    The following text describes a greeting exchan...\n3    The following text describes a greeting exchan...\n4    The following text describes a greeting exchan...\n..                                                 ...\n176  The following text describes a special interac...\n177  The following text describes a special interac...\n178  The following text describes a special interac...\n179  The following text describes a special interac...\n180  The following text describes a special interac...\n\n[181 rows x 1 columns]",
      "text/html": "<div>\n<style scoped>\n    .dataframe tbody tr th:only-of-type {\n        vertical-align: middle;\n    }\n\n    .dataframe tbody tr th {\n        vertical-align: top;\n    }\n\n    .dataframe thead th {\n        text-align: right;\n    }\n</style>\n<table border=\"1\" class=\"dataframe\">\n  <thead>\n    <tr style=\"text-align: right;\">\n      <th></th>\n      <th>description</th>\n    </tr>\n  </thead>\n  <tbody>\n    <tr>\n      <th>0</th>\n      <td>The following text describes a greeting exchan...</td>\n    </tr>\n    <tr>\n      <th>1</th>\n      <td>The following text describes a greeting exchan...</td>\n    </tr>\n    <tr>\n      <th>2</th>\n      <td>The following text describes a greeting exchan...</td>\n    </tr>\n    <tr>\n      <th>3</th>\n      <td>The following text describes a greeting exchan...</td>\n    </tr>\n    <tr>\n      <th>4</th>\n      <td>The following text describes a greeting exchan...</td>\n    </tr>\n    <tr>\n      <th>...</th>\n      <td>...</td>\n    </tr>\n    <tr>\n      <th>176</th>\n      <td>The following text describes a special interac...</td>\n    </tr>\n    <tr>\n      <th>177</th>\n      <td>The following text describes a special interac...</td>\n    </tr>\n    <tr>\n      <th>178</th>\n      <td>The following text describes a special interac...</td>\n    </tr>\n    <tr>\n      <th>179</th>\n      <td>The following text describes a special interac...</td>\n    </tr>\n    <tr>\n      <th>180</th>\n      <td>The following text describes a special interac...</td>\n    </tr>\n  </tbody>\n</table>\n<p>181 rows × 1 columns</p>\n</div>"
     },
     "execution_count": 756,
     "metadata": {},
     "output_type": "execute_result"
    }
   ],
   "source": [
    "eval_df"
   ],
   "metadata": {
    "collapsed": false,
    "ExecuteTime": {
     "end_time": "2024-06-16T09:51:20.562611500Z",
     "start_time": "2024-06-16T09:51:20.528903200Z"
    }
   },
   "id": "b4bb35650519ba9b",
   "execution_count": 756
  },
  {
   "cell_type": "code",
   "outputs": [],
   "source": [
    "# make the model generate answers for all the dialogues in the eval_df\n",
    "answers = []\n",
    "for i in range(0, len(eval_df)):\n",
    "    model_input = eval_tokenizer(eval_df['description'][i], return_tensors=\"pt\").to(\"cuda\")\n",
    "    ft_model.eval()\n",
    "    with torch.no_grad():\n",
    "        answer = eval_tokenizer.decode(\n",
    "            ft_model.generate(**model_input, max_new_tokens=1250, repetition_penalty=1.25, pad_token_id=2, temperature=0.3, top_p=0.6)[0],\n",
    "            skip_special_tokens=True\n",
    "        )\n",
    "        answers.append(answer)"
   ],
   "metadata": {
    "collapsed": false,
    "ExecuteTime": {
     "end_time": "2024-06-16T10:08:56.609232300Z",
     "start_time": "2024-06-16T10:02:48.707676200Z"
    }
   },
   "id": "4b33017a0f8fce03",
   "execution_count": 761
  },
  {
   "cell_type": "code",
   "outputs": [
    {
     "data": {
      "text/plain": "181"
     },
     "execution_count": 762,
     "metadata": {},
     "output_type": "execute_result"
    }
   ],
   "source": [
    "len(answers)"
   ],
   "metadata": {
    "collapsed": false,
    "ExecuteTime": {
     "end_time": "2024-06-16T10:18:12.315305500Z",
     "start_time": "2024-06-16T10:18:12.262298400Z"
    }
   },
   "id": "f22c08286ca5f1da",
   "execution_count": 762
  },
  {
   "cell_type": "code",
   "outputs": [],
   "source": [
    "#make the answers into a dataframe\n",
    "answers_df = pd.DataFrame(answers, columns=['Dialogue'])\n",
    "#export the answers to an excel file\n",
    "answers_df.to_excel('Llama2_Dialogues_Full.xlsx', index=False)"
   ],
   "metadata": {
    "collapsed": false,
    "ExecuteTime": {
     "end_time": "2024-06-16T10:18:22.231001400Z",
     "start_time": "2024-06-16T10:18:22.198713700Z"
    }
   },
   "id": "1ba6ab9f088d369",
   "execution_count": 763
  },
  {
   "cell_type": "code",
   "outputs": [
    {
     "data": {
      "text/plain": "                                              Dialogue\n0    The following text describes a greeting exchan...\n1    The following text describes a greeting exchan...\n2    The following text describes a greeting exchan...\n3    The following text describes a greeting exchan...\n4    The following text describes a greeting exchan...\n..                                                 ...\n176  The following text describes a special interac...\n177  The following text describes a special interac...\n178  The following text describes a special interac...\n179  The following text describes a special interac...\n180  The following text describes a special interac...\n\n[181 rows x 1 columns]",
      "text/html": "<div>\n<style scoped>\n    .dataframe tbody tr th:only-of-type {\n        vertical-align: middle;\n    }\n\n    .dataframe tbody tr th {\n        vertical-align: top;\n    }\n\n    .dataframe thead th {\n        text-align: right;\n    }\n</style>\n<table border=\"1\" class=\"dataframe\">\n  <thead>\n    <tr style=\"text-align: right;\">\n      <th></th>\n      <th>Dialogue</th>\n    </tr>\n  </thead>\n  <tbody>\n    <tr>\n      <th>0</th>\n      <td>The following text describes a greeting exchan...</td>\n    </tr>\n    <tr>\n      <th>1</th>\n      <td>The following text describes a greeting exchan...</td>\n    </tr>\n    <tr>\n      <th>2</th>\n      <td>The following text describes a greeting exchan...</td>\n    </tr>\n    <tr>\n      <th>3</th>\n      <td>The following text describes a greeting exchan...</td>\n    </tr>\n    <tr>\n      <th>4</th>\n      <td>The following text describes a greeting exchan...</td>\n    </tr>\n    <tr>\n      <th>...</th>\n      <td>...</td>\n    </tr>\n    <tr>\n      <th>176</th>\n      <td>The following text describes a special interac...</td>\n    </tr>\n    <tr>\n      <th>177</th>\n      <td>The following text describes a special interac...</td>\n    </tr>\n    <tr>\n      <th>178</th>\n      <td>The following text describes a special interac...</td>\n    </tr>\n    <tr>\n      <th>179</th>\n      <td>The following text describes a special interac...</td>\n    </tr>\n    <tr>\n      <th>180</th>\n      <td>The following text describes a special interac...</td>\n    </tr>\n  </tbody>\n</table>\n<p>181 rows × 1 columns</p>\n</div>"
     },
     "execution_count": 760,
     "metadata": {},
     "output_type": "execute_result"
    }
   ],
   "source": [
    "#import the answers from the excel file answes_test.xlsx with a column named Dialogue\n",
    "answers_df = pd.read_excel('Llama2_Dialogues_Full.xlsx')\n",
    "#name the column Dialogue\n",
    "answers_df.columns = ['Dialogue']\n",
    "answers_df"
   ],
   "metadata": {
    "collapsed": false,
    "ExecuteTime": {
     "end_time": "2024-06-16T10:02:03.698111500Z",
     "start_time": "2024-06-16T10:02:03.643345200Z"
    }
   },
   "id": "9012e6e068435f81",
   "execution_count": 760
  },
  {
   "cell_type": "code",
   "outputs": [],
   "source": [
    "#for each line in the answers_df, keep only the text after the Answer: tag\n",
    "answers_df['Dialogue'] = answers_df['Dialogue'].str.split('Generated dialogue:').str[1]"
   ],
   "metadata": {
    "collapsed": false,
    "ExecuteTime": {
     "end_time": "2024-06-16T10:20:11.178461600Z",
     "start_time": "2024-06-16T10:20:11.162012Z"
    }
   },
   "id": "52ac7453493b3b80",
   "execution_count": 764
  },
  {
   "cell_type": "code",
   "outputs": [
    {
     "data": {
      "text/plain": "                                              Dialogue\n0       \\nI'm glad I met you! You make me feel safe...\n1                           \\nI'm here if you need me.\n2       \\nI'm glad I met you! You make me feel safe...\n3    \\nI'm glad you came around! I was beginning to...\n4                           \\nI'm here if you need me.\n..                                                 ...\n176  \\n<LINE>You can find some good weapons at the ...\n177  \\n<LINE>If you need supplies for your journey ...\n178  \\n<LINE>You can find some good weapons at the ...\n179     \\n<LINE>You can buy your own home here.</LINE>\n180  \\n<LINE>You bought Vlindrel Hall? That place l...\n\n[181 rows x 1 columns]",
      "text/html": "<div>\n<style scoped>\n    .dataframe tbody tr th:only-of-type {\n        vertical-align: middle;\n    }\n\n    .dataframe tbody tr th {\n        vertical-align: top;\n    }\n\n    .dataframe thead th {\n        text-align: right;\n    }\n</style>\n<table border=\"1\" class=\"dataframe\">\n  <thead>\n    <tr style=\"text-align: right;\">\n      <th></th>\n      <th>Dialogue</th>\n    </tr>\n  </thead>\n  <tbody>\n    <tr>\n      <th>0</th>\n      <td>\\nI'm glad I met you! You make me feel safe...</td>\n    </tr>\n    <tr>\n      <th>1</th>\n      <td>\\nI'm here if you need me.</td>\n    </tr>\n    <tr>\n      <th>2</th>\n      <td>\\nI'm glad I met you! You make me feel safe...</td>\n    </tr>\n    <tr>\n      <th>3</th>\n      <td>\\nI'm glad you came around! I was beginning to...</td>\n    </tr>\n    <tr>\n      <th>4</th>\n      <td>\\nI'm here if you need me.</td>\n    </tr>\n    <tr>\n      <th>...</th>\n      <td>...</td>\n    </tr>\n    <tr>\n      <th>176</th>\n      <td>\\n&lt;LINE&gt;You can find some good weapons at the ...</td>\n    </tr>\n    <tr>\n      <th>177</th>\n      <td>\\n&lt;LINE&gt;If you need supplies for your journey ...</td>\n    </tr>\n    <tr>\n      <th>178</th>\n      <td>\\n&lt;LINE&gt;You can find some good weapons at the ...</td>\n    </tr>\n    <tr>\n      <th>179</th>\n      <td>\\n&lt;LINE&gt;You can buy your own home here.&lt;/LINE&gt;</td>\n    </tr>\n    <tr>\n      <th>180</th>\n      <td>\\n&lt;LINE&gt;You bought Vlindrel Hall? That place l...</td>\n    </tr>\n  </tbody>\n</table>\n<p>181 rows × 1 columns</p>\n</div>"
     },
     "execution_count": 765,
     "metadata": {},
     "output_type": "execute_result"
    }
   ],
   "source": [
    "answers_df"
   ],
   "metadata": {
    "collapsed": false,
    "ExecuteTime": {
     "end_time": "2024-06-16T10:20:12.622545Z",
     "start_time": "2024-06-16T10:20:12.601064800Z"
    }
   },
   "id": "e5f248355df5dc9f",
   "execution_count": 765
  },
  {
   "cell_type": "code",
   "outputs": [],
   "source": [
    "#export the answers to an excel file\n",
    "answers_df.to_excel('Llama2_Dialogues_Answers_Only.xlsx', index=False)"
   ],
   "metadata": {
    "collapsed": false,
    "ExecuteTime": {
     "end_time": "2024-06-16T10:43:06.293872600Z",
     "start_time": "2024-06-16T10:43:06.250912600Z"
    }
   },
   "id": "6d7f39c2ca00a11e",
   "execution_count": 795
  },
  {
   "cell_type": "code",
   "outputs": [],
   "source": [
    "import pandas as pd\n",
    "#import the answers from the excel file answes_test.xlsx with a column named Dialogue\n",
    "answers_df = pd.read_excel('Llama2_Dialogues_Answers_Only.xlsx')\n",
    "#name the column Dialogue\n",
    "answers_df.columns = ['Dialogue']"
   ],
   "metadata": {
    "collapsed": false,
    "ExecuteTime": {
     "end_time": "2024-06-16T10:52:12.027649400Z",
     "start_time": "2024-06-16T10:52:11.998634700Z"
    }
   },
   "id": "4aa21490c416d8fb",
   "execution_count": 802
  },
  {
   "cell_type": "code",
   "outputs": [
    {
     "data": {
      "text/plain": "                                              Dialogue\n0       \\nI'm glad I met you! You make me feel safe...\n1                           \\nI'm here if you need me.\n2       \\nI'm glad I met you! You make me feel safe...\n3    \\nI'm glad you came around! I was beginning to...\n4                           \\nI'm here if you need me.\n..                                                 ...\n176  \\n<LINE>You can find some good weapons at the ...\n177  \\n<LINE>If you need supplies for your journey ...\n178  \\n<LINE>You can find some good weapons at the ...\n179     \\n<LINE>You can buy your own home here.</LINE>\n180  \\n<LINE>You bought Vlindrel Hall? That place l...\n\n[181 rows x 1 columns]",
      "text/html": "<div>\n<style scoped>\n    .dataframe tbody tr th:only-of-type {\n        vertical-align: middle;\n    }\n\n    .dataframe tbody tr th {\n        vertical-align: top;\n    }\n\n    .dataframe thead th {\n        text-align: right;\n    }\n</style>\n<table border=\"1\" class=\"dataframe\">\n  <thead>\n    <tr style=\"text-align: right;\">\n      <th></th>\n      <th>Dialogue</th>\n    </tr>\n  </thead>\n  <tbody>\n    <tr>\n      <th>0</th>\n      <td>\\nI'm glad I met you! You make me feel safe...</td>\n    </tr>\n    <tr>\n      <th>1</th>\n      <td>\\nI'm here if you need me.</td>\n    </tr>\n    <tr>\n      <th>2</th>\n      <td>\\nI'm glad I met you! You make me feel safe...</td>\n    </tr>\n    <tr>\n      <th>3</th>\n      <td>\\nI'm glad you came around! I was beginning to...</td>\n    </tr>\n    <tr>\n      <th>4</th>\n      <td>\\nI'm here if you need me.</td>\n    </tr>\n    <tr>\n      <th>...</th>\n      <td>...</td>\n    </tr>\n    <tr>\n      <th>176</th>\n      <td>\\n&lt;LINE&gt;You can find some good weapons at the ...</td>\n    </tr>\n    <tr>\n      <th>177</th>\n      <td>\\n&lt;LINE&gt;If you need supplies for your journey ...</td>\n    </tr>\n    <tr>\n      <th>178</th>\n      <td>\\n&lt;LINE&gt;You can find some good weapons at the ...</td>\n    </tr>\n    <tr>\n      <th>179</th>\n      <td>\\n&lt;LINE&gt;You can buy your own home here.&lt;/LINE&gt;</td>\n    </tr>\n    <tr>\n      <th>180</th>\n      <td>\\n&lt;LINE&gt;You bought Vlindrel Hall? That place l...</td>\n    </tr>\n  </tbody>\n</table>\n<p>181 rows × 1 columns</p>\n</div>"
     },
     "execution_count": 803,
     "metadata": {},
     "output_type": "execute_result"
    }
   ],
   "source": [
    "answers_df"
   ],
   "metadata": {
    "collapsed": false,
    "ExecuteTime": {
     "end_time": "2024-06-16T10:52:12.769554200Z",
     "start_time": "2024-06-16T10:52:12.736732800Z"
    }
   },
   "id": "889a1d8e9a814031",
   "execution_count": 803
  },
  {
   "cell_type": "code",
   "outputs": [
    {
     "data": {
      "text/plain": "                                              Dialogue\n0         I'm glad I met you! You make me feel safe...\n1                             I'm here if you need me.\n2         I'm glad I met you! You make me feel safe...\n3    I'm glad you came around! I was beginning to t...\n4                             I'm here if you need me.\n..                                                 ...\n176  You can find some good weapons at the Blacksmith.\n177  If you need supplies for your journey northwar...\n178  You can find some good weapons at the Steed St...\n179                    You can buy your own home here.\n180  You bought Vlindrel Hall? That place looks lik...\n\n[181 rows x 1 columns]",
      "text/html": "<div>\n<style scoped>\n    .dataframe tbody tr th:only-of-type {\n        vertical-align: middle;\n    }\n\n    .dataframe tbody tr th {\n        vertical-align: top;\n    }\n\n    .dataframe thead th {\n        text-align: right;\n    }\n</style>\n<table border=\"1\" class=\"dataframe\">\n  <thead>\n    <tr style=\"text-align: right;\">\n      <th></th>\n      <th>Dialogue</th>\n    </tr>\n  </thead>\n  <tbody>\n    <tr>\n      <th>0</th>\n      <td>I'm glad I met you! You make me feel safe...</td>\n    </tr>\n    <tr>\n      <th>1</th>\n      <td>I'm here if you need me.</td>\n    </tr>\n    <tr>\n      <th>2</th>\n      <td>I'm glad I met you! You make me feel safe...</td>\n    </tr>\n    <tr>\n      <th>3</th>\n      <td>I'm glad you came around! I was beginning to t...</td>\n    </tr>\n    <tr>\n      <th>4</th>\n      <td>I'm here if you need me.</td>\n    </tr>\n    <tr>\n      <th>...</th>\n      <td>...</td>\n    </tr>\n    <tr>\n      <th>176</th>\n      <td>You can find some good weapons at the Blacksmith.</td>\n    </tr>\n    <tr>\n      <th>177</th>\n      <td>If you need supplies for your journey northwar...</td>\n    </tr>\n    <tr>\n      <th>178</th>\n      <td>You can find some good weapons at the Steed St...</td>\n    </tr>\n    <tr>\n      <th>179</th>\n      <td>You can buy your own home here.</td>\n    </tr>\n    <tr>\n      <th>180</th>\n      <td>You bought Vlindrel Hall? That place looks lik...</td>\n    </tr>\n  </tbody>\n</table>\n<p>181 rows × 1 columns</p>\n</div>"
     },
     "execution_count": 809,
     "metadata": {},
     "output_type": "execute_result"
    }
   ],
   "source": [
    "#itterate through the answers_df and if the <LINE> </LINE> tags are present, keep the text between the tags for all the pairs if there are two pairs keep the second pair\n",
    "import re\n",
    "\n",
    "for i in range(0, len(answers_df)):\n",
    "        \n",
    "    matches = re.findall(r'<LINE>(.*?)</LINE>', answers_df['Dialogue'][i])\n",
    "    if len(matches) > 0:\n",
    "        answers_df['Dialogue'][i] = matches[0]\n",
    "        continue\n",
    "     \n",
    "    matches = re.findall(r'(.*?)</LINE>', answers_df['Dialogue'][i])\n",
    "    if len(matches) > 0:\n",
    "        answers_df['Dialogue'][i] = matches[0]   \n",
    "        continue\n",
    "        \n",
    "    matches = re.findall(r'<DIALOGUE>(.*?)</DIALOGUE>', answers_df['Dialogue'][i])\n",
    "    if len(matches) > 0:\n",
    "        answers_df['Dialogue'][i] = matches[0]\n",
    "        continue\n",
    "        \n",
    "    matches = re.findall(r'<RESPONSE>(.*?)</RESPONSE>', answers_df['Dialogue'][i])\n",
    "    if len(matches) > 0:\n",
    "        answers_df['Dialogue'][i] = matches[0]\n",
    "        continue\n",
    "        \n",
    "    matches = re.findall(r'<END>(.*?)<END>', answers_df['Dialogue'][i])\n",
    "    if len(matches) > 0:\n",
    "        answers_df['Dialogue'][i] = matches[0]\n",
    "        continue\n",
    "        \n",
    "    matches = re.findall(r'<END>(.*?)</END>', answers_df['Dialogue'][i])\n",
    "    if len(matches) > 0:\n",
    "        answers_df['Dialogue'][i] = matches[0]\n",
    "        continue\n",
    "        \n",
    "    matches = re.findall(r'(.*?)</END>', answers_df['Dialogue'][i])\n",
    "    if len(matches) > 0:\n",
    "        answers_df['Dialogue'][i] = matches[0]\n",
    "\n",
    "        \n",
    "    matches = re.findall(r'(.*?)<BR', answers_df['Dialogue'][i])\n",
    "    if len(matches) > 0:\n",
    "        answers_df['Dialogue'][i] = matches[0]\n",
    "    \n",
    "    \n",
    "\n",
    "#remove the /n from the answers_df\n",
    "answers_df = answers_df.replace('\\n', '', regex=True)\n",
    "\n",
    "#add at the 154 place this I've never been there myself... but I hear it's quite nice this time of year.\n",
    "answers_df['Dialogue'][154] = \"I've never been there myself... but I hear it's quite nice this time of year.\"\n",
    "\n",
    "answers_df"
   ],
   "metadata": {
    "collapsed": false,
    "ExecuteTime": {
     "end_time": "2024-06-16T11:01:55.642907600Z",
     "start_time": "2024-06-16T11:01:55.597957900Z"
    }
   },
   "id": "d67dc7444ea4b6ea",
   "execution_count": 809
  },
  {
   "cell_type": "code",
   "outputs": [],
   "source": [
    "# remove the from the test dialogues\n",
    "test_dialogues = test_dialogues.str.replace('\"', '')"
   ],
   "metadata": {
    "collapsed": false,
    "ExecuteTime": {
     "end_time": "2024-06-16T11:02:14.132136100Z",
     "start_time": "2024-06-16T11:02:14.086620100Z"
    }
   },
   "id": "8e5b71cc4380e9ea",
   "execution_count": 810
  },
  {
   "cell_type": "code",
   "outputs": [
    {
     "data": {
      "text/plain": "0                         It's so good to see you again.\n1                                        Need something?\n2      Divines bless you. May the ground you walk qua...\n3         May your next fight bring you victory, friend.\n4                                      What do you need?\n                             ...                        \n176    There's a small skeever den just east of the c...\n177    If you're heading east, stay clear of Hillgrun...\n178    Beware of Frostmere Crypt, friend. Heard some ...\n179    Thinking of settling in? There's a home for sa...\n180    Ah, Vlindrel Hall's a fine home, if you can af...\nName: Dialogue, Length: 181, dtype: object"
     },
     "execution_count": 811,
     "metadata": {},
     "output_type": "execute_result"
    }
   ],
   "source": [
    "test_dialogues"
   ],
   "metadata": {
    "collapsed": false,
    "ExecuteTime": {
     "end_time": "2024-06-16T11:02:14.869335400Z",
     "start_time": "2024-06-16T11:02:14.803461600Z"
    }
   },
   "id": "8002a7787c8f2442",
   "execution_count": 811
  },
  {
   "cell_type": "markdown",
   "id": "bef0d5c5cee19e4f",
   "metadata": {
    "collapsed": false
   },
   "source": [
    "# BERT Score"
   ]
  },
  {
   "cell_type": "code",
   "outputs": [
    {
     "name": "stderr",
     "output_type": "stream",
     "text": [
      "Some weights of RobertaModel were not initialized from the model checkpoint at roberta-large and are newly initialized: ['roberta.pooler.dense.bias', 'roberta.pooler.dense.weight']\n",
      "You should probably TRAIN this model on a down-stream task to be able to use it for predictions and inference.\n",
      "Some weights of RobertaModel were not initialized from the model checkpoint at roberta-large and are newly initialized: ['roberta.pooler.dense.bias', 'roberta.pooler.dense.weight']\n",
      "You should probably TRAIN this model on a down-stream task to be able to use it for predictions and inference.\n",
      "Some weights of RobertaModel were not initialized from the model checkpoint at roberta-large and are newly initialized: ['roberta.pooler.dense.bias', 'roberta.pooler.dense.weight']\n",
      "You should probably TRAIN this model on a down-stream task to be able to use it for predictions and inference.\n",
      "Some weights of RobertaModel were not initialized from the model checkpoint at roberta-large and are newly initialized: ['roberta.pooler.dense.bias', 'roberta.pooler.dense.weight']\n",
      "You should probably TRAIN this model on a down-stream task to be able to use it for predictions and inference.\n",
      "Some weights of RobertaModel were not initialized from the model checkpoint at roberta-large and are newly initialized: ['roberta.pooler.dense.bias', 'roberta.pooler.dense.weight']\n",
      "You should probably TRAIN this model on a down-stream task to be able to use it for predictions and inference.\n",
      "Some weights of RobertaModel were not initialized from the model checkpoint at roberta-large and are newly initialized: ['roberta.pooler.dense.bias', 'roberta.pooler.dense.weight']\n",
      "You should probably TRAIN this model on a down-stream task to be able to use it for predictions and inference.\n",
      "Some weights of RobertaModel were not initialized from the model checkpoint at roberta-large and are newly initialized: ['roberta.pooler.dense.bias', 'roberta.pooler.dense.weight']\n",
      "You should probably TRAIN this model on a down-stream task to be able to use it for predictions and inference.\n",
      "Some weights of RobertaModel were not initialized from the model checkpoint at roberta-large and are newly initialized: ['roberta.pooler.dense.bias', 'roberta.pooler.dense.weight']\n",
      "You should probably TRAIN this model on a down-stream task to be able to use it for predictions and inference.\n",
      "Some weights of RobertaModel were not initialized from the model checkpoint at roberta-large and are newly initialized: ['roberta.pooler.dense.bias', 'roberta.pooler.dense.weight']\n",
      "You should probably TRAIN this model on a down-stream task to be able to use it for predictions and inference.\n",
      "Some weights of RobertaModel were not initialized from the model checkpoint at roberta-large and are newly initialized: ['roberta.pooler.dense.bias', 'roberta.pooler.dense.weight']\n",
      "You should probably TRAIN this model on a down-stream task to be able to use it for predictions and inference.\n",
      "Some weights of RobertaModel were not initialized from the model checkpoint at roberta-large and are newly initialized: ['roberta.pooler.dense.bias', 'roberta.pooler.dense.weight']\n",
      "You should probably TRAIN this model on a down-stream task to be able to use it for predictions and inference.\n",
      "Some weights of RobertaModel were not initialized from the model checkpoint at roberta-large and are newly initialized: ['roberta.pooler.dense.bias', 'roberta.pooler.dense.weight']\n",
      "You should probably TRAIN this model on a down-stream task to be able to use it for predictions and inference.\n",
      "Some weights of RobertaModel were not initialized from the model checkpoint at roberta-large and are newly initialized: ['roberta.pooler.dense.bias', 'roberta.pooler.dense.weight']\n",
      "You should probably TRAIN this model on a down-stream task to be able to use it for predictions and inference.\n",
      "Some weights of RobertaModel were not initialized from the model checkpoint at roberta-large and are newly initialized: ['roberta.pooler.dense.bias', 'roberta.pooler.dense.weight']\n",
      "You should probably TRAIN this model on a down-stream task to be able to use it for predictions and inference.\n",
      "Some weights of RobertaModel were not initialized from the model checkpoint at roberta-large and are newly initialized: ['roberta.pooler.dense.bias', 'roberta.pooler.dense.weight']\n",
      "You should probably TRAIN this model on a down-stream task to be able to use it for predictions and inference.\n",
      "Some weights of RobertaModel were not initialized from the model checkpoint at roberta-large and are newly initialized: ['roberta.pooler.dense.bias', 'roberta.pooler.dense.weight']\n",
      "You should probably TRAIN this model on a down-stream task to be able to use it for predictions and inference.\n",
      "Some weights of RobertaModel were not initialized from the model checkpoint at roberta-large and are newly initialized: ['roberta.pooler.dense.bias', 'roberta.pooler.dense.weight']\n",
      "You should probably TRAIN this model on a down-stream task to be able to use it for predictions and inference.\n",
      "Some weights of RobertaModel were not initialized from the model checkpoint at roberta-large and are newly initialized: ['roberta.pooler.dense.bias', 'roberta.pooler.dense.weight']\n",
      "You should probably TRAIN this model on a down-stream task to be able to use it for predictions and inference.\n",
      "Some weights of RobertaModel were not initialized from the model checkpoint at roberta-large and are newly initialized: ['roberta.pooler.dense.bias', 'roberta.pooler.dense.weight']\n",
      "You should probably TRAIN this model on a down-stream task to be able to use it for predictions and inference.\n",
      "Some weights of RobertaModel were not initialized from the model checkpoint at roberta-large and are newly initialized: ['roberta.pooler.dense.bias', 'roberta.pooler.dense.weight']\n",
      "You should probably TRAIN this model on a down-stream task to be able to use it for predictions and inference.\n",
      "Some weights of RobertaModel were not initialized from the model checkpoint at roberta-large and are newly initialized: ['roberta.pooler.dense.bias', 'roberta.pooler.dense.weight']\n",
      "You should probably TRAIN this model on a down-stream task to be able to use it for predictions and inference.\n",
      "Some weights of RobertaModel were not initialized from the model checkpoint at roberta-large and are newly initialized: ['roberta.pooler.dense.bias', 'roberta.pooler.dense.weight']\n",
      "You should probably TRAIN this model on a down-stream task to be able to use it for predictions and inference.\n",
      "Some weights of RobertaModel were not initialized from the model checkpoint at roberta-large and are newly initialized: ['roberta.pooler.dense.bias', 'roberta.pooler.dense.weight']\n",
      "You should probably TRAIN this model on a down-stream task to be able to use it for predictions and inference.\n",
      "Some weights of RobertaModel were not initialized from the model checkpoint at roberta-large and are newly initialized: ['roberta.pooler.dense.bias', 'roberta.pooler.dense.weight']\n",
      "You should probably TRAIN this model on a down-stream task to be able to use it for predictions and inference.\n",
      "Some weights of RobertaModel were not initialized from the model checkpoint at roberta-large and are newly initialized: ['roberta.pooler.dense.bias', 'roberta.pooler.dense.weight']\n",
      "You should probably TRAIN this model on a down-stream task to be able to use it for predictions and inference.\n",
      "Some weights of RobertaModel were not initialized from the model checkpoint at roberta-large and are newly initialized: ['roberta.pooler.dense.bias', 'roberta.pooler.dense.weight']\n",
      "You should probably TRAIN this model on a down-stream task to be able to use it for predictions and inference.\n",
      "Some weights of RobertaModel were not initialized from the model checkpoint at roberta-large and are newly initialized: ['roberta.pooler.dense.bias', 'roberta.pooler.dense.weight']\n",
      "You should probably TRAIN this model on a down-stream task to be able to use it for predictions and inference.\n",
      "Some weights of RobertaModel were not initialized from the model checkpoint at roberta-large and are newly initialized: ['roberta.pooler.dense.bias', 'roberta.pooler.dense.weight']\n",
      "You should probably TRAIN this model on a down-stream task to be able to use it for predictions and inference.\n",
      "Some weights of RobertaModel were not initialized from the model checkpoint at roberta-large and are newly initialized: ['roberta.pooler.dense.bias', 'roberta.pooler.dense.weight']\n",
      "You should probably TRAIN this model on a down-stream task to be able to use it for predictions and inference.\n",
      "Some weights of RobertaModel were not initialized from the model checkpoint at roberta-large and are newly initialized: ['roberta.pooler.dense.bias', 'roberta.pooler.dense.weight']\n",
      "You should probably TRAIN this model on a down-stream task to be able to use it for predictions and inference.\n",
      "Some weights of RobertaModel were not initialized from the model checkpoint at roberta-large and are newly initialized: ['roberta.pooler.dense.bias', 'roberta.pooler.dense.weight']\n",
      "You should probably TRAIN this model on a down-stream task to be able to use it for predictions and inference.\n",
      "Some weights of RobertaModel were not initialized from the model checkpoint at roberta-large and are newly initialized: ['roberta.pooler.dense.bias', 'roberta.pooler.dense.weight']\n",
      "You should probably TRAIN this model on a down-stream task to be able to use it for predictions and inference.\n",
      "Some weights of RobertaModel were not initialized from the model checkpoint at roberta-large and are newly initialized: ['roberta.pooler.dense.bias', 'roberta.pooler.dense.weight']\n",
      "You should probably TRAIN this model on a down-stream task to be able to use it for predictions and inference.\n",
      "Some weights of RobertaModel were not initialized from the model checkpoint at roberta-large and are newly initialized: ['roberta.pooler.dense.bias', 'roberta.pooler.dense.weight']\n",
      "You should probably TRAIN this model on a down-stream task to be able to use it for predictions and inference.\n",
      "Some weights of RobertaModel were not initialized from the model checkpoint at roberta-large and are newly initialized: ['roberta.pooler.dense.bias', 'roberta.pooler.dense.weight']\n",
      "You should probably TRAIN this model on a down-stream task to be able to use it for predictions and inference.\n",
      "Some weights of RobertaModel were not initialized from the model checkpoint at roberta-large and are newly initialized: ['roberta.pooler.dense.bias', 'roberta.pooler.dense.weight']\n",
      "You should probably TRAIN this model on a down-stream task to be able to use it for predictions and inference.\n",
      "Some weights of RobertaModel were not initialized from the model checkpoint at roberta-large and are newly initialized: ['roberta.pooler.dense.bias', 'roberta.pooler.dense.weight']\n",
      "You should probably TRAIN this model on a down-stream task to be able to use it for predictions and inference.\n",
      "Some weights of RobertaModel were not initialized from the model checkpoint at roberta-large and are newly initialized: ['roberta.pooler.dense.bias', 'roberta.pooler.dense.weight']\n",
      "You should probably TRAIN this model on a down-stream task to be able to use it for predictions and inference.\n",
      "Some weights of RobertaModel were not initialized from the model checkpoint at roberta-large and are newly initialized: ['roberta.pooler.dense.bias', 'roberta.pooler.dense.weight']\n",
      "You should probably TRAIN this model on a down-stream task to be able to use it for predictions and inference.\n",
      "Some weights of RobertaModel were not initialized from the model checkpoint at roberta-large and are newly initialized: ['roberta.pooler.dense.bias', 'roberta.pooler.dense.weight']\n",
      "You should probably TRAIN this model on a down-stream task to be able to use it for predictions and inference.\n",
      "Some weights of RobertaModel were not initialized from the model checkpoint at roberta-large and are newly initialized: ['roberta.pooler.dense.bias', 'roberta.pooler.dense.weight']\n",
      "You should probably TRAIN this model on a down-stream task to be able to use it for predictions and inference.\n",
      "Some weights of RobertaModel were not initialized from the model checkpoint at roberta-large and are newly initialized: ['roberta.pooler.dense.bias', 'roberta.pooler.dense.weight']\n",
      "You should probably TRAIN this model on a down-stream task to be able to use it for predictions and inference.\n",
      "Some weights of RobertaModel were not initialized from the model checkpoint at roberta-large and are newly initialized: ['roberta.pooler.dense.bias', 'roberta.pooler.dense.weight']\n",
      "You should probably TRAIN this model on a down-stream task to be able to use it for predictions and inference.\n",
      "Some weights of RobertaModel were not initialized from the model checkpoint at roberta-large and are newly initialized: ['roberta.pooler.dense.bias', 'roberta.pooler.dense.weight']\n",
      "You should probably TRAIN this model on a down-stream task to be able to use it for predictions and inference.\n",
      "Some weights of RobertaModel were not initialized from the model checkpoint at roberta-large and are newly initialized: ['roberta.pooler.dense.bias', 'roberta.pooler.dense.weight']\n",
      "You should probably TRAIN this model on a down-stream task to be able to use it for predictions and inference.\n",
      "Some weights of RobertaModel were not initialized from the model checkpoint at roberta-large and are newly initialized: ['roberta.pooler.dense.bias', 'roberta.pooler.dense.weight']\n",
      "You should probably TRAIN this model on a down-stream task to be able to use it for predictions and inference.\n",
      "Some weights of RobertaModel were not initialized from the model checkpoint at roberta-large and are newly initialized: ['roberta.pooler.dense.bias', 'roberta.pooler.dense.weight']\n",
      "You should probably TRAIN this model on a down-stream task to be able to use it for predictions and inference.\n",
      "Some weights of RobertaModel were not initialized from the model checkpoint at roberta-large and are newly initialized: ['roberta.pooler.dense.bias', 'roberta.pooler.dense.weight']\n",
      "You should probably TRAIN this model on a down-stream task to be able to use it for predictions and inference.\n",
      "Some weights of RobertaModel were not initialized from the model checkpoint at roberta-large and are newly initialized: ['roberta.pooler.dense.bias', 'roberta.pooler.dense.weight']\n",
      "You should probably TRAIN this model on a down-stream task to be able to use it for predictions and inference.\n",
      "Some weights of RobertaModel were not initialized from the model checkpoint at roberta-large and are newly initialized: ['roberta.pooler.dense.bias', 'roberta.pooler.dense.weight']\n",
      "You should probably TRAIN this model on a down-stream task to be able to use it for predictions and inference.\n",
      "Some weights of RobertaModel were not initialized from the model checkpoint at roberta-large and are newly initialized: ['roberta.pooler.dense.bias', 'roberta.pooler.dense.weight']\n",
      "You should probably TRAIN this model on a down-stream task to be able to use it for predictions and inference.\n",
      "Some weights of RobertaModel were not initialized from the model checkpoint at roberta-large and are newly initialized: ['roberta.pooler.dense.bias', 'roberta.pooler.dense.weight']\n",
      "You should probably TRAIN this model on a down-stream task to be able to use it for predictions and inference.\n",
      "Some weights of RobertaModel were not initialized from the model checkpoint at roberta-large and are newly initialized: ['roberta.pooler.dense.bias', 'roberta.pooler.dense.weight']\n",
      "You should probably TRAIN this model on a down-stream task to be able to use it for predictions and inference.\n",
      "Some weights of RobertaModel were not initialized from the model checkpoint at roberta-large and are newly initialized: ['roberta.pooler.dense.bias', 'roberta.pooler.dense.weight']\n",
      "You should probably TRAIN this model on a down-stream task to be able to use it for predictions and inference.\n",
      "Some weights of RobertaModel were not initialized from the model checkpoint at roberta-large and are newly initialized: ['roberta.pooler.dense.bias', 'roberta.pooler.dense.weight']\n",
      "You should probably TRAIN this model on a down-stream task to be able to use it for predictions and inference.\n",
      "Some weights of RobertaModel were not initialized from the model checkpoint at roberta-large and are newly initialized: ['roberta.pooler.dense.bias', 'roberta.pooler.dense.weight']\n",
      "You should probably TRAIN this model on a down-stream task to be able to use it for predictions and inference.\n",
      "Some weights of RobertaModel were not initialized from the model checkpoint at roberta-large and are newly initialized: ['roberta.pooler.dense.bias', 'roberta.pooler.dense.weight']\n",
      "You should probably TRAIN this model on a down-stream task to be able to use it for predictions and inference.\n",
      "Some weights of RobertaModel were not initialized from the model checkpoint at roberta-large and are newly initialized: ['roberta.pooler.dense.bias', 'roberta.pooler.dense.weight']\n",
      "You should probably TRAIN this model on a down-stream task to be able to use it for predictions and inference.\n",
      "Some weights of RobertaModel were not initialized from the model checkpoint at roberta-large and are newly initialized: ['roberta.pooler.dense.bias', 'roberta.pooler.dense.weight']\n",
      "You should probably TRAIN this model on a down-stream task to be able to use it for predictions and inference.\n",
      "Some weights of RobertaModel were not initialized from the model checkpoint at roberta-large and are newly initialized: ['roberta.pooler.dense.bias', 'roberta.pooler.dense.weight']\n",
      "You should probably TRAIN this model on a down-stream task to be able to use it for predictions and inference.\n",
      "Some weights of RobertaModel were not initialized from the model checkpoint at roberta-large and are newly initialized: ['roberta.pooler.dense.bias', 'roberta.pooler.dense.weight']\n",
      "You should probably TRAIN this model on a down-stream task to be able to use it for predictions and inference.\n",
      "Some weights of RobertaModel were not initialized from the model checkpoint at roberta-large and are newly initialized: ['roberta.pooler.dense.bias', 'roberta.pooler.dense.weight']\n",
      "You should probably TRAIN this model on a down-stream task to be able to use it for predictions and inference.\n",
      "Some weights of RobertaModel were not initialized from the model checkpoint at roberta-large and are newly initialized: ['roberta.pooler.dense.bias', 'roberta.pooler.dense.weight']\n",
      "You should probably TRAIN this model on a down-stream task to be able to use it for predictions and inference.\n",
      "Some weights of RobertaModel were not initialized from the model checkpoint at roberta-large and are newly initialized: ['roberta.pooler.dense.bias', 'roberta.pooler.dense.weight']\n",
      "You should probably TRAIN this model on a down-stream task to be able to use it for predictions and inference.\n",
      "Some weights of RobertaModel were not initialized from the model checkpoint at roberta-large and are newly initialized: ['roberta.pooler.dense.bias', 'roberta.pooler.dense.weight']\n",
      "You should probably TRAIN this model on a down-stream task to be able to use it for predictions and inference.\n",
      "Some weights of RobertaModel were not initialized from the model checkpoint at roberta-large and are newly initialized: ['roberta.pooler.dense.bias', 'roberta.pooler.dense.weight']\n",
      "You should probably TRAIN this model on a down-stream task to be able to use it for predictions and inference.\n",
      "Some weights of RobertaModel were not initialized from the model checkpoint at roberta-large and are newly initialized: ['roberta.pooler.dense.bias', 'roberta.pooler.dense.weight']\n",
      "You should probably TRAIN this model on a down-stream task to be able to use it for predictions and inference.\n",
      "Some weights of RobertaModel were not initialized from the model checkpoint at roberta-large and are newly initialized: ['roberta.pooler.dense.bias', 'roberta.pooler.dense.weight']\n",
      "You should probably TRAIN this model on a down-stream task to be able to use it for predictions and inference.\n",
      "Some weights of RobertaModel were not initialized from the model checkpoint at roberta-large and are newly initialized: ['roberta.pooler.dense.bias', 'roberta.pooler.dense.weight']\n",
      "You should probably TRAIN this model on a down-stream task to be able to use it for predictions and inference.\n",
      "Some weights of RobertaModel were not initialized from the model checkpoint at roberta-large and are newly initialized: ['roberta.pooler.dense.bias', 'roberta.pooler.dense.weight']\n",
      "You should probably TRAIN this model on a down-stream task to be able to use it for predictions and inference.\n",
      "Some weights of RobertaModel were not initialized from the model checkpoint at roberta-large and are newly initialized: ['roberta.pooler.dense.bias', 'roberta.pooler.dense.weight']\n",
      "You should probably TRAIN this model on a down-stream task to be able to use it for predictions and inference.\n",
      "Some weights of RobertaModel were not initialized from the model checkpoint at roberta-large and are newly initialized: ['roberta.pooler.dense.bias', 'roberta.pooler.dense.weight']\n",
      "You should probably TRAIN this model on a down-stream task to be able to use it for predictions and inference.\n",
      "Some weights of RobertaModel were not initialized from the model checkpoint at roberta-large and are newly initialized: ['roberta.pooler.dense.bias', 'roberta.pooler.dense.weight']\n",
      "You should probably TRAIN this model on a down-stream task to be able to use it for predictions and inference.\n",
      "Some weights of RobertaModel were not initialized from the model checkpoint at roberta-large and are newly initialized: ['roberta.pooler.dense.bias', 'roberta.pooler.dense.weight']\n",
      "You should probably TRAIN this model on a down-stream task to be able to use it for predictions and inference.\n",
      "Some weights of RobertaModel were not initialized from the model checkpoint at roberta-large and are newly initialized: ['roberta.pooler.dense.bias', 'roberta.pooler.dense.weight']\n",
      "You should probably TRAIN this model on a down-stream task to be able to use it for predictions and inference.\n",
      "Some weights of RobertaModel were not initialized from the model checkpoint at roberta-large and are newly initialized: ['roberta.pooler.dense.bias', 'roberta.pooler.dense.weight']\n",
      "You should probably TRAIN this model on a down-stream task to be able to use it for predictions and inference.\n",
      "Some weights of RobertaModel were not initialized from the model checkpoint at roberta-large and are newly initialized: ['roberta.pooler.dense.bias', 'roberta.pooler.dense.weight']\n",
      "You should probably TRAIN this model on a down-stream task to be able to use it for predictions and inference.\n",
      "Some weights of RobertaModel were not initialized from the model checkpoint at roberta-large and are newly initialized: ['roberta.pooler.dense.bias', 'roberta.pooler.dense.weight']\n",
      "You should probably TRAIN this model on a down-stream task to be able to use it for predictions and inference.\n",
      "Some weights of RobertaModel were not initialized from the model checkpoint at roberta-large and are newly initialized: ['roberta.pooler.dense.bias', 'roberta.pooler.dense.weight']\n",
      "You should probably TRAIN this model on a down-stream task to be able to use it for predictions and inference.\n",
      "Some weights of RobertaModel were not initialized from the model checkpoint at roberta-large and are newly initialized: ['roberta.pooler.dense.bias', 'roberta.pooler.dense.weight']\n",
      "You should probably TRAIN this model on a down-stream task to be able to use it for predictions and inference.\n",
      "Some weights of RobertaModel were not initialized from the model checkpoint at roberta-large and are newly initialized: ['roberta.pooler.dense.bias', 'roberta.pooler.dense.weight']\n",
      "You should probably TRAIN this model on a down-stream task to be able to use it for predictions and inference.\n",
      "Some weights of RobertaModel were not initialized from the model checkpoint at roberta-large and are newly initialized: ['roberta.pooler.dense.bias', 'roberta.pooler.dense.weight']\n",
      "You should probably TRAIN this model on a down-stream task to be able to use it for predictions and inference.\n",
      "Some weights of RobertaModel were not initialized from the model checkpoint at roberta-large and are newly initialized: ['roberta.pooler.dense.bias', 'roberta.pooler.dense.weight']\n",
      "You should probably TRAIN this model on a down-stream task to be able to use it for predictions and inference.\n",
      "Some weights of RobertaModel were not initialized from the model checkpoint at roberta-large and are newly initialized: ['roberta.pooler.dense.bias', 'roberta.pooler.dense.weight']\n",
      "You should probably TRAIN this model on a down-stream task to be able to use it for predictions and inference.\n",
      "Some weights of RobertaModel were not initialized from the model checkpoint at roberta-large and are newly initialized: ['roberta.pooler.dense.bias', 'roberta.pooler.dense.weight']\n",
      "You should probably TRAIN this model on a down-stream task to be able to use it for predictions and inference.\n",
      "Some weights of RobertaModel were not initialized from the model checkpoint at roberta-large and are newly initialized: ['roberta.pooler.dense.bias', 'roberta.pooler.dense.weight']\n",
      "You should probably TRAIN this model on a down-stream task to be able to use it for predictions and inference.\n",
      "Some weights of RobertaModel were not initialized from the model checkpoint at roberta-large and are newly initialized: ['roberta.pooler.dense.bias', 'roberta.pooler.dense.weight']\n",
      "You should probably TRAIN this model on a down-stream task to be able to use it for predictions and inference.\n",
      "Some weights of RobertaModel were not initialized from the model checkpoint at roberta-large and are newly initialized: ['roberta.pooler.dense.bias', 'roberta.pooler.dense.weight']\n",
      "You should probably TRAIN this model on a down-stream task to be able to use it for predictions and inference.\n",
      "Some weights of RobertaModel were not initialized from the model checkpoint at roberta-large and are newly initialized: ['roberta.pooler.dense.bias', 'roberta.pooler.dense.weight']\n",
      "You should probably TRAIN this model on a down-stream task to be able to use it for predictions and inference.\n",
      "Some weights of RobertaModel were not initialized from the model checkpoint at roberta-large and are newly initialized: ['roberta.pooler.dense.bias', 'roberta.pooler.dense.weight']\n",
      "You should probably TRAIN this model on a down-stream task to be able to use it for predictions and inference.\n",
      "Some weights of RobertaModel were not initialized from the model checkpoint at roberta-large and are newly initialized: ['roberta.pooler.dense.bias', 'roberta.pooler.dense.weight']\n",
      "You should probably TRAIN this model on a down-stream task to be able to use it for predictions and inference.\n",
      "Some weights of RobertaModel were not initialized from the model checkpoint at roberta-large and are newly initialized: ['roberta.pooler.dense.bias', 'roberta.pooler.dense.weight']\n",
      "You should probably TRAIN this model on a down-stream task to be able to use it for predictions and inference.\n",
      "Some weights of RobertaModel were not initialized from the model checkpoint at roberta-large and are newly initialized: ['roberta.pooler.dense.bias', 'roberta.pooler.dense.weight']\n",
      "You should probably TRAIN this model on a down-stream task to be able to use it for predictions and inference.\n",
      "Some weights of RobertaModel were not initialized from the model checkpoint at roberta-large and are newly initialized: ['roberta.pooler.dense.bias', 'roberta.pooler.dense.weight']\n",
      "You should probably TRAIN this model on a down-stream task to be able to use it for predictions and inference.\n",
      "Some weights of RobertaModel were not initialized from the model checkpoint at roberta-large and are newly initialized: ['roberta.pooler.dense.bias', 'roberta.pooler.dense.weight']\n",
      "You should probably TRAIN this model on a down-stream task to be able to use it for predictions and inference.\n",
      "Some weights of RobertaModel were not initialized from the model checkpoint at roberta-large and are newly initialized: ['roberta.pooler.dense.bias', 'roberta.pooler.dense.weight']\n",
      "You should probably TRAIN this model on a down-stream task to be able to use it for predictions and inference.\n",
      "Some weights of RobertaModel were not initialized from the model checkpoint at roberta-large and are newly initialized: ['roberta.pooler.dense.bias', 'roberta.pooler.dense.weight']\n",
      "You should probably TRAIN this model on a down-stream task to be able to use it for predictions and inference.\n",
      "Some weights of RobertaModel were not initialized from the model checkpoint at roberta-large and are newly initialized: ['roberta.pooler.dense.bias', 'roberta.pooler.dense.weight']\n",
      "You should probably TRAIN this model on a down-stream task to be able to use it for predictions and inference.\n",
      "Some weights of RobertaModel were not initialized from the model checkpoint at roberta-large and are newly initialized: ['roberta.pooler.dense.bias', 'roberta.pooler.dense.weight']\n",
      "You should probably TRAIN this model on a down-stream task to be able to use it for predictions and inference.\n",
      "Some weights of RobertaModel were not initialized from the model checkpoint at roberta-large and are newly initialized: ['roberta.pooler.dense.bias', 'roberta.pooler.dense.weight']\n",
      "You should probably TRAIN this model on a down-stream task to be able to use it for predictions and inference.\n",
      "Some weights of RobertaModel were not initialized from the model checkpoint at roberta-large and are newly initialized: ['roberta.pooler.dense.bias', 'roberta.pooler.dense.weight']\n",
      "You should probably TRAIN this model on a down-stream task to be able to use it for predictions and inference.\n",
      "Some weights of RobertaModel were not initialized from the model checkpoint at roberta-large and are newly initialized: ['roberta.pooler.dense.bias', 'roberta.pooler.dense.weight']\n",
      "You should probably TRAIN this model on a down-stream task to be able to use it for predictions and inference.\n",
      "Some weights of RobertaModel were not initialized from the model checkpoint at roberta-large and are newly initialized: ['roberta.pooler.dense.bias', 'roberta.pooler.dense.weight']\n",
      "You should probably TRAIN this model on a down-stream task to be able to use it for predictions and inference.\n",
      "Some weights of RobertaModel were not initialized from the model checkpoint at roberta-large and are newly initialized: ['roberta.pooler.dense.bias', 'roberta.pooler.dense.weight']\n",
      "You should probably TRAIN this model on a down-stream task to be able to use it for predictions and inference.\n",
      "Some weights of RobertaModel were not initialized from the model checkpoint at roberta-large and are newly initialized: ['roberta.pooler.dense.bias', 'roberta.pooler.dense.weight']\n",
      "You should probably TRAIN this model on a down-stream task to be able to use it for predictions and inference.\n",
      "Some weights of RobertaModel were not initialized from the model checkpoint at roberta-large and are newly initialized: ['roberta.pooler.dense.bias', 'roberta.pooler.dense.weight']\n",
      "You should probably TRAIN this model on a down-stream task to be able to use it for predictions and inference.\n",
      "Some weights of RobertaModel were not initialized from the model checkpoint at roberta-large and are newly initialized: ['roberta.pooler.dense.bias', 'roberta.pooler.dense.weight']\n",
      "You should probably TRAIN this model on a down-stream task to be able to use it for predictions and inference.\n",
      "Some weights of RobertaModel were not initialized from the model checkpoint at roberta-large and are newly initialized: ['roberta.pooler.dense.bias', 'roberta.pooler.dense.weight']\n",
      "You should probably TRAIN this model on a down-stream task to be able to use it for predictions and inference.\n",
      "Some weights of RobertaModel were not initialized from the model checkpoint at roberta-large and are newly initialized: ['roberta.pooler.dense.bias', 'roberta.pooler.dense.weight']\n",
      "You should probably TRAIN this model on a down-stream task to be able to use it for predictions and inference.\n",
      "Some weights of RobertaModel were not initialized from the model checkpoint at roberta-large and are newly initialized: ['roberta.pooler.dense.bias', 'roberta.pooler.dense.weight']\n",
      "You should probably TRAIN this model on a down-stream task to be able to use it for predictions and inference.\n",
      "Some weights of RobertaModel were not initialized from the model checkpoint at roberta-large and are newly initialized: ['roberta.pooler.dense.bias', 'roberta.pooler.dense.weight']\n",
      "You should probably TRAIN this model on a down-stream task to be able to use it for predictions and inference.\n",
      "Some weights of RobertaModel were not initialized from the model checkpoint at roberta-large and are newly initialized: ['roberta.pooler.dense.bias', 'roberta.pooler.dense.weight']\n",
      "You should probably TRAIN this model on a down-stream task to be able to use it for predictions and inference.\n",
      "Some weights of RobertaModel were not initialized from the model checkpoint at roberta-large and are newly initialized: ['roberta.pooler.dense.bias', 'roberta.pooler.dense.weight']\n",
      "You should probably TRAIN this model on a down-stream task to be able to use it for predictions and inference.\n",
      "Some weights of RobertaModel were not initialized from the model checkpoint at roberta-large and are newly initialized: ['roberta.pooler.dense.bias', 'roberta.pooler.dense.weight']\n",
      "You should probably TRAIN this model on a down-stream task to be able to use it for predictions and inference.\n",
      "Some weights of RobertaModel were not initialized from the model checkpoint at roberta-large and are newly initialized: ['roberta.pooler.dense.bias', 'roberta.pooler.dense.weight']\n",
      "You should probably TRAIN this model on a down-stream task to be able to use it for predictions and inference.\n",
      "Some weights of RobertaModel were not initialized from the model checkpoint at roberta-large and are newly initialized: ['roberta.pooler.dense.bias', 'roberta.pooler.dense.weight']\n",
      "You should probably TRAIN this model on a down-stream task to be able to use it for predictions and inference.\n",
      "Some weights of RobertaModel were not initialized from the model checkpoint at roberta-large and are newly initialized: ['roberta.pooler.dense.bias', 'roberta.pooler.dense.weight']\n",
      "You should probably TRAIN this model on a down-stream task to be able to use it for predictions and inference.\n",
      "Some weights of RobertaModel were not initialized from the model checkpoint at roberta-large and are newly initialized: ['roberta.pooler.dense.bias', 'roberta.pooler.dense.weight']\n",
      "You should probably TRAIN this model on a down-stream task to be able to use it for predictions and inference.\n",
      "Some weights of RobertaModel were not initialized from the model checkpoint at roberta-large and are newly initialized: ['roberta.pooler.dense.bias', 'roberta.pooler.dense.weight']\n",
      "You should probably TRAIN this model on a down-stream task to be able to use it for predictions and inference.\n",
      "Some weights of RobertaModel were not initialized from the model checkpoint at roberta-large and are newly initialized: ['roberta.pooler.dense.bias', 'roberta.pooler.dense.weight']\n",
      "You should probably TRAIN this model on a down-stream task to be able to use it for predictions and inference.\n",
      "Some weights of RobertaModel were not initialized from the model checkpoint at roberta-large and are newly initialized: ['roberta.pooler.dense.bias', 'roberta.pooler.dense.weight']\n",
      "You should probably TRAIN this model on a down-stream task to be able to use it for predictions and inference.\n",
      "Some weights of RobertaModel were not initialized from the model checkpoint at roberta-large and are newly initialized: ['roberta.pooler.dense.bias', 'roberta.pooler.dense.weight']\n",
      "You should probably TRAIN this model on a down-stream task to be able to use it for predictions and inference.\n",
      "Some weights of RobertaModel were not initialized from the model checkpoint at roberta-large and are newly initialized: ['roberta.pooler.dense.bias', 'roberta.pooler.dense.weight']\n",
      "You should probably TRAIN this model on a down-stream task to be able to use it for predictions and inference.\n",
      "Some weights of RobertaModel were not initialized from the model checkpoint at roberta-large and are newly initialized: ['roberta.pooler.dense.bias', 'roberta.pooler.dense.weight']\n",
      "You should probably TRAIN this model on a down-stream task to be able to use it for predictions and inference.\n",
      "Some weights of RobertaModel were not initialized from the model checkpoint at roberta-large and are newly initialized: ['roberta.pooler.dense.bias', 'roberta.pooler.dense.weight']\n",
      "You should probably TRAIN this model on a down-stream task to be able to use it for predictions and inference.\n",
      "Some weights of RobertaModel were not initialized from the model checkpoint at roberta-large and are newly initialized: ['roberta.pooler.dense.bias', 'roberta.pooler.dense.weight']\n",
      "You should probably TRAIN this model on a down-stream task to be able to use it for predictions and inference.\n",
      "Some weights of RobertaModel were not initialized from the model checkpoint at roberta-large and are newly initialized: ['roberta.pooler.dense.bias', 'roberta.pooler.dense.weight']\n",
      "You should probably TRAIN this model on a down-stream task to be able to use it for predictions and inference.\n",
      "Some weights of RobertaModel were not initialized from the model checkpoint at roberta-large and are newly initialized: ['roberta.pooler.dense.bias', 'roberta.pooler.dense.weight']\n",
      "You should probably TRAIN this model on a down-stream task to be able to use it for predictions and inference.\n",
      "Some weights of RobertaModel were not initialized from the model checkpoint at roberta-large and are newly initialized: ['roberta.pooler.dense.bias', 'roberta.pooler.dense.weight']\n",
      "You should probably TRAIN this model on a down-stream task to be able to use it for predictions and inference.\n",
      "Some weights of RobertaModel were not initialized from the model checkpoint at roberta-large and are newly initialized: ['roberta.pooler.dense.bias', 'roberta.pooler.dense.weight']\n",
      "You should probably TRAIN this model on a down-stream task to be able to use it for predictions and inference.\n",
      "Some weights of RobertaModel were not initialized from the model checkpoint at roberta-large and are newly initialized: ['roberta.pooler.dense.bias', 'roberta.pooler.dense.weight']\n",
      "You should probably TRAIN this model on a down-stream task to be able to use it for predictions and inference.\n",
      "Some weights of RobertaModel were not initialized from the model checkpoint at roberta-large and are newly initialized: ['roberta.pooler.dense.bias', 'roberta.pooler.dense.weight']\n",
      "You should probably TRAIN this model on a down-stream task to be able to use it for predictions and inference.\n",
      "Some weights of RobertaModel were not initialized from the model checkpoint at roberta-large and are newly initialized: ['roberta.pooler.dense.bias', 'roberta.pooler.dense.weight']\n",
      "You should probably TRAIN this model on a down-stream task to be able to use it for predictions and inference.\n",
      "Some weights of RobertaModel were not initialized from the model checkpoint at roberta-large and are newly initialized: ['roberta.pooler.dense.bias', 'roberta.pooler.dense.weight']\n",
      "You should probably TRAIN this model on a down-stream task to be able to use it for predictions and inference.\n",
      "Some weights of RobertaModel were not initialized from the model checkpoint at roberta-large and are newly initialized: ['roberta.pooler.dense.bias', 'roberta.pooler.dense.weight']\n",
      "You should probably TRAIN this model on a down-stream task to be able to use it for predictions and inference.\n",
      "Some weights of RobertaModel were not initialized from the model checkpoint at roberta-large and are newly initialized: ['roberta.pooler.dense.bias', 'roberta.pooler.dense.weight']\n",
      "You should probably TRAIN this model on a down-stream task to be able to use it for predictions and inference.\n",
      "Some weights of RobertaModel were not initialized from the model checkpoint at roberta-large and are newly initialized: ['roberta.pooler.dense.bias', 'roberta.pooler.dense.weight']\n",
      "You should probably TRAIN this model on a down-stream task to be able to use it for predictions and inference.\n",
      "Some weights of RobertaModel were not initialized from the model checkpoint at roberta-large and are newly initialized: ['roberta.pooler.dense.bias', 'roberta.pooler.dense.weight']\n",
      "You should probably TRAIN this model on a down-stream task to be able to use it for predictions and inference.\n",
      "Some weights of RobertaModel were not initialized from the model checkpoint at roberta-large and are newly initialized: ['roberta.pooler.dense.bias', 'roberta.pooler.dense.weight']\n",
      "You should probably TRAIN this model on a down-stream task to be able to use it for predictions and inference.\n",
      "Some weights of RobertaModel were not initialized from the model checkpoint at roberta-large and are newly initialized: ['roberta.pooler.dense.bias', 'roberta.pooler.dense.weight']\n",
      "You should probably TRAIN this model on a down-stream task to be able to use it for predictions and inference.\n",
      "Some weights of RobertaModel were not initialized from the model checkpoint at roberta-large and are newly initialized: ['roberta.pooler.dense.bias', 'roberta.pooler.dense.weight']\n",
      "You should probably TRAIN this model on a down-stream task to be able to use it for predictions and inference.\n",
      "Some weights of RobertaModel were not initialized from the model checkpoint at roberta-large and are newly initialized: ['roberta.pooler.dense.bias', 'roberta.pooler.dense.weight']\n",
      "You should probably TRAIN this model on a down-stream task to be able to use it for predictions and inference.\n",
      "Some weights of RobertaModel were not initialized from the model checkpoint at roberta-large and are newly initialized: ['roberta.pooler.dense.bias', 'roberta.pooler.dense.weight']\n",
      "You should probably TRAIN this model on a down-stream task to be able to use it for predictions and inference.\n",
      "Some weights of RobertaModel were not initialized from the model checkpoint at roberta-large and are newly initialized: ['roberta.pooler.dense.bias', 'roberta.pooler.dense.weight']\n",
      "You should probably TRAIN this model on a down-stream task to be able to use it for predictions and inference.\n",
      "Some weights of RobertaModel were not initialized from the model checkpoint at roberta-large and are newly initialized: ['roberta.pooler.dense.bias', 'roberta.pooler.dense.weight']\n",
      "You should probably TRAIN this model on a down-stream task to be able to use it for predictions and inference.\n",
      "Some weights of RobertaModel were not initialized from the model checkpoint at roberta-large and are newly initialized: ['roberta.pooler.dense.bias', 'roberta.pooler.dense.weight']\n",
      "You should probably TRAIN this model on a down-stream task to be able to use it for predictions and inference.\n",
      "Some weights of RobertaModel were not initialized from the model checkpoint at roberta-large and are newly initialized: ['roberta.pooler.dense.bias', 'roberta.pooler.dense.weight']\n",
      "You should probably TRAIN this model on a down-stream task to be able to use it for predictions and inference.\n",
      "Some weights of RobertaModel were not initialized from the model checkpoint at roberta-large and are newly initialized: ['roberta.pooler.dense.bias', 'roberta.pooler.dense.weight']\n",
      "You should probably TRAIN this model on a down-stream task to be able to use it for predictions and inference.\n",
      "Some weights of RobertaModel were not initialized from the model checkpoint at roberta-large and are newly initialized: ['roberta.pooler.dense.bias', 'roberta.pooler.dense.weight']\n",
      "You should probably TRAIN this model on a down-stream task to be able to use it for predictions and inference.\n",
      "Some weights of RobertaModel were not initialized from the model checkpoint at roberta-large and are newly initialized: ['roberta.pooler.dense.bias', 'roberta.pooler.dense.weight']\n",
      "You should probably TRAIN this model on a down-stream task to be able to use it for predictions and inference.\n",
      "Some weights of RobertaModel were not initialized from the model checkpoint at roberta-large and are newly initialized: ['roberta.pooler.dense.bias', 'roberta.pooler.dense.weight']\n",
      "You should probably TRAIN this model on a down-stream task to be able to use it for predictions and inference.\n",
      "Some weights of RobertaModel were not initialized from the model checkpoint at roberta-large and are newly initialized: ['roberta.pooler.dense.bias', 'roberta.pooler.dense.weight']\n",
      "You should probably TRAIN this model on a down-stream task to be able to use it for predictions and inference.\n",
      "Some weights of RobertaModel were not initialized from the model checkpoint at roberta-large and are newly initialized: ['roberta.pooler.dense.bias', 'roberta.pooler.dense.weight']\n",
      "You should probably TRAIN this model on a down-stream task to be able to use it for predictions and inference.\n",
      "Some weights of RobertaModel were not initialized from the model checkpoint at roberta-large and are newly initialized: ['roberta.pooler.dense.bias', 'roberta.pooler.dense.weight']\n",
      "You should probably TRAIN this model on a down-stream task to be able to use it for predictions and inference.\n",
      "Some weights of RobertaModel were not initialized from the model checkpoint at roberta-large and are newly initialized: ['roberta.pooler.dense.bias', 'roberta.pooler.dense.weight']\n",
      "You should probably TRAIN this model on a down-stream task to be able to use it for predictions and inference.\n",
      "Some weights of RobertaModel were not initialized from the model checkpoint at roberta-large and are newly initialized: ['roberta.pooler.dense.bias', 'roberta.pooler.dense.weight']\n",
      "You should probably TRAIN this model on a down-stream task to be able to use it for predictions and inference.\n",
      "Some weights of RobertaModel were not initialized from the model checkpoint at roberta-large and are newly initialized: ['roberta.pooler.dense.bias', 'roberta.pooler.dense.weight']\n",
      "You should probably TRAIN this model on a down-stream task to be able to use it for predictions and inference.\n",
      "Some weights of RobertaModel were not initialized from the model checkpoint at roberta-large and are newly initialized: ['roberta.pooler.dense.bias', 'roberta.pooler.dense.weight']\n",
      "You should probably TRAIN this model on a down-stream task to be able to use it for predictions and inference.\n",
      "Some weights of RobertaModel were not initialized from the model checkpoint at roberta-large and are newly initialized: ['roberta.pooler.dense.bias', 'roberta.pooler.dense.weight']\n",
      "You should probably TRAIN this model on a down-stream task to be able to use it for predictions and inference.\n",
      "Some weights of RobertaModel were not initialized from the model checkpoint at roberta-large and are newly initialized: ['roberta.pooler.dense.bias', 'roberta.pooler.dense.weight']\n",
      "You should probably TRAIN this model on a down-stream task to be able to use it for predictions and inference.\n",
      "Some weights of RobertaModel were not initialized from the model checkpoint at roberta-large and are newly initialized: ['roberta.pooler.dense.bias', 'roberta.pooler.dense.weight']\n",
      "You should probably TRAIN this model on a down-stream task to be able to use it for predictions and inference.\n",
      "Some weights of RobertaModel were not initialized from the model checkpoint at roberta-large and are newly initialized: ['roberta.pooler.dense.bias', 'roberta.pooler.dense.weight']\n",
      "You should probably TRAIN this model on a down-stream task to be able to use it for predictions and inference.\n",
      "Some weights of RobertaModel were not initialized from the model checkpoint at roberta-large and are newly initialized: ['roberta.pooler.dense.bias', 'roberta.pooler.dense.weight']\n",
      "You should probably TRAIN this model on a down-stream task to be able to use it for predictions and inference.\n",
      "Some weights of RobertaModel were not initialized from the model checkpoint at roberta-large and are newly initialized: ['roberta.pooler.dense.bias', 'roberta.pooler.dense.weight']\n",
      "You should probably TRAIN this model on a down-stream task to be able to use it for predictions and inference.\n",
      "Some weights of RobertaModel were not initialized from the model checkpoint at roberta-large and are newly initialized: ['roberta.pooler.dense.bias', 'roberta.pooler.dense.weight']\n",
      "You should probably TRAIN this model on a down-stream task to be able to use it for predictions and inference.\n",
      "Some weights of RobertaModel were not initialized from the model checkpoint at roberta-large and are newly initialized: ['roberta.pooler.dense.bias', 'roberta.pooler.dense.weight']\n",
      "You should probably TRAIN this model on a down-stream task to be able to use it for predictions and inference.\n",
      "Some weights of RobertaModel were not initialized from the model checkpoint at roberta-large and are newly initialized: ['roberta.pooler.dense.bias', 'roberta.pooler.dense.weight']\n",
      "You should probably TRAIN this model on a down-stream task to be able to use it for predictions and inference.\n",
      "Some weights of RobertaModel were not initialized from the model checkpoint at roberta-large and are newly initialized: ['roberta.pooler.dense.bias', 'roberta.pooler.dense.weight']\n",
      "You should probably TRAIN this model on a down-stream task to be able to use it for predictions and inference.\n",
      "Some weights of RobertaModel were not initialized from the model checkpoint at roberta-large and are newly initialized: ['roberta.pooler.dense.bias', 'roberta.pooler.dense.weight']\n",
      "You should probably TRAIN this model on a down-stream task to be able to use it for predictions and inference.\n",
      "Some weights of RobertaModel were not initialized from the model checkpoint at roberta-large and are newly initialized: ['roberta.pooler.dense.bias', 'roberta.pooler.dense.weight']\n",
      "You should probably TRAIN this model on a down-stream task to be able to use it for predictions and inference.\n",
      "Some weights of RobertaModel were not initialized from the model checkpoint at roberta-large and are newly initialized: ['roberta.pooler.dense.bias', 'roberta.pooler.dense.weight']\n",
      "You should probably TRAIN this model on a down-stream task to be able to use it for predictions and inference.\n",
      "Some weights of RobertaModel were not initialized from the model checkpoint at roberta-large and are newly initialized: ['roberta.pooler.dense.bias', 'roberta.pooler.dense.weight']\n",
      "You should probably TRAIN this model on a down-stream task to be able to use it for predictions and inference.\n",
      "Some weights of RobertaModel were not initialized from the model checkpoint at roberta-large and are newly initialized: ['roberta.pooler.dense.bias', 'roberta.pooler.dense.weight']\n",
      "You should probably TRAIN this model on a down-stream task to be able to use it for predictions and inference.\n",
      "Some weights of RobertaModel were not initialized from the model checkpoint at roberta-large and are newly initialized: ['roberta.pooler.dense.bias', 'roberta.pooler.dense.weight']\n",
      "You should probably TRAIN this model on a down-stream task to be able to use it for predictions and inference.\n",
      "Some weights of RobertaModel were not initialized from the model checkpoint at roberta-large and are newly initialized: ['roberta.pooler.dense.bias', 'roberta.pooler.dense.weight']\n",
      "You should probably TRAIN this model on a down-stream task to be able to use it for predictions and inference.\n",
      "Some weights of RobertaModel were not initialized from the model checkpoint at roberta-large and are newly initialized: ['roberta.pooler.dense.bias', 'roberta.pooler.dense.weight']\n",
      "You should probably TRAIN this model on a down-stream task to be able to use it for predictions and inference.\n",
      "Some weights of RobertaModel were not initialized from the model checkpoint at roberta-large and are newly initialized: ['roberta.pooler.dense.bias', 'roberta.pooler.dense.weight']\n",
      "You should probably TRAIN this model on a down-stream task to be able to use it for predictions and inference.\n",
      "Some weights of RobertaModel were not initialized from the model checkpoint at roberta-large and are newly initialized: ['roberta.pooler.dense.bias', 'roberta.pooler.dense.weight']\n",
      "You should probably TRAIN this model on a down-stream task to be able to use it for predictions and inference.\n",
      "Some weights of RobertaModel were not initialized from the model checkpoint at roberta-large and are newly initialized: ['roberta.pooler.dense.bias', 'roberta.pooler.dense.weight']\n",
      "You should probably TRAIN this model on a down-stream task to be able to use it for predictions and inference.\n",
      "Some weights of RobertaModel were not initialized from the model checkpoint at roberta-large and are newly initialized: ['roberta.pooler.dense.bias', 'roberta.pooler.dense.weight']\n",
      "You should probably TRAIN this model on a down-stream task to be able to use it for predictions and inference.\n",
      "Some weights of RobertaModel were not initialized from the model checkpoint at roberta-large and are newly initialized: ['roberta.pooler.dense.bias', 'roberta.pooler.dense.weight']\n",
      "You should probably TRAIN this model on a down-stream task to be able to use it for predictions and inference.\n"
     ]
    },
    {
     "name": "stdout",
     "output_type": "stream",
     "text": [
      "Average Precision: 0.859535\n",
      "Average Recall: 0.86564714\n",
      "Average F1 Score: 0.86227536\n"
     ]
    }
   ],
   "source": [
    "# Calculate BERTScore\n",
    "from bert_score import score\n",
    "import numpy as np\n",
    "\n",
    "# Lists of candidates and references\n",
    "candidates = answers_df['Dialogue'].tolist()\n",
    "references = test_dialogues.tolist()\n",
    "# Ensure that each candidate has a corresponding reference\n",
    "assert len(candidates) == len(references), \"Each candidate must have a corresponding reference.\"\n",
    "\n",
    "# Calculate BERTScore for each pair\n",
    "precision_scores = []\n",
    "recall_scores = []\n",
    "f1_scores = []\n",
    "\n",
    "for cand, ref in zip(candidates, references):\n",
    "    P, R, F1 = score([cand], [ref], lang='en')\n",
    "    precision_scores.append(P.numpy())\n",
    "    recall_scores.append(R.numpy())\n",
    "    f1_scores.append(F1.numpy())\n",
    "    \n",
    "\n",
    "# Calculate the average of each metric\n",
    "average_precision = np.mean(precision_scores)\n",
    "average_recall = np.mean(recall_scores)\n",
    "average_f1 = np.mean(f1_scores)\n",
    "\n",
    "print(\"Average Precision:\", average_precision)\n",
    "print(\"Average Recall:\", average_recall)\n",
    "print(\"Average F1 Score:\", average_f1)\n"
   ],
   "metadata": {
    "collapsed": false,
    "ExecuteTime": {
     "end_time": "2024-06-16T11:05:28.469959900Z",
     "start_time": "2024-06-16T11:02:18.323497200Z"
    }
   },
   "id": "529e21fd0e7f1d0f",
   "execution_count": 812
  },
  {
   "cell_type": "code",
   "outputs": [
    {
     "name": "stdout",
     "output_type": "stream",
     "text": [
      "Average ROUGE-1 Scores: {'f': 0.12314344545224126, 'p': 0.12997183785691047, 'r': 0.1384536186371461}\n",
      "Average ROUGE-2 Scores: {'f': 0.04162690138819, 'p': 0.04457745037855535, 'r': 0.04254971014519417}\n",
      "Average ROUGE-L Scores: {'f': 0.11882809208193006, 'p': 0.12534358550766364, 'r': 0.1330526659986244}\n"
     ]
    }
   ],
   "source": [
    "import warnings\n",
    "from rouge import Rouge\n",
    "import pandas as pd\n",
    "\n",
    "# Suppress warnings if necessary\n",
    "warnings.filterwarnings('ignore')\n",
    "\n",
    "# Assuming the DataFrame and columns are properly set\n",
    "# Ensure these columns contain strings\n",
    "candidates = answers_df['Dialogue'].tolist()  \n",
    "references = test_dialogues.tolist()  \n",
    "\n",
    "# Ensure that each candidate has a corresponding reference\n",
    "assert len(candidates) == len(references), \"Each candidate must have a corresponding reference.\"\n",
    "\n",
    "# Initialize the Rouge object\n",
    "rouge = Rouge()\n",
    "\n",
    "# Initialize dictionaries to hold aggregated scores\n",
    "rouge_1_scores = {'f': [], 'p': [], 'r': []}\n",
    "rouge_2_scores = {'f': [], 'p': [], 'r': []}\n",
    "rouge_l_scores = {'f': [], 'p': [], 'r': []}\n",
    "\n",
    "# Calculate ROUGE scores for each pair\n",
    "for cand, ref in zip(candidates, references):\n",
    "    scores = rouge.get_scores(cand, ref, avg=False)[0]  # Obtain scores for the first (and only) pair\n",
    "    # Store ROUGE scores in respective dictionaries\n",
    "    rouge_1_scores['f'].append(scores['rouge-1']['f'])\n",
    "    rouge_1_scores['p'].append(scores['rouge-1']['p'])\n",
    "    rouge_1_scores['r'].append(scores['rouge-1']['r'])\n",
    "    \n",
    "    rouge_2_scores['f'].append(scores['rouge-2']['f'])\n",
    "    rouge_2_scores['p'].append(scores['rouge-2']['p'])\n",
    "    rouge_2_scores['r'].append(scores['rouge-2']['r'])\n",
    "    \n",
    "    rouge_l_scores['f'].append(scores['rouge-l']['f'])\n",
    "    rouge_l_scores['p'].append(scores['rouge-l']['p'])\n",
    "    rouge_l_scores['r'].append(scores['rouge-l']['r'])\n",
    "\n",
    "# Calculate the average of each ROUGE metric\n",
    "def average_score(score_list):\n",
    "    return sum(score_list) / len(score_list) if score_list else 0\n",
    "\n",
    "print(\"Average ROUGE-1 Scores:\", {k: average_score(v) for k, v in rouge_1_scores.items()})\n",
    "print(\"Average ROUGE-2 Scores:\", {k: average_score(v) for k, v in rouge_2_scores.items()})\n",
    "print(\"Average ROUGE-L Scores:\", {k: average_score(v) for k, v in rouge_l_scores.items()})\n"
   ],
   "metadata": {
    "collapsed": false,
    "ExecuteTime": {
     "end_time": "2024-06-16T11:05:57.224932500Z",
     "start_time": "2024-06-16T11:05:57.165694100Z"
    }
   },
   "id": "7e534de18988c19a",
   "execution_count": 813
  }
 ],
 "metadata": {
  "kernelspec": {
   "display_name": "Python 3 (ipykernel)",
   "language": "python",
   "name": "python3"
  },
  "language_info": {
   "codemirror_mode": {
    "name": "ipython",
    "version": 3
   },
   "file_extension": ".py",
   "mimetype": "text/x-python",
   "name": "python",
   "nbconvert_exporter": "python",
   "pygments_lexer": "ipython3",
   "version": "3.12.0"
  }
 },
 "nbformat": 4,
 "nbformat_minor": 5
}
