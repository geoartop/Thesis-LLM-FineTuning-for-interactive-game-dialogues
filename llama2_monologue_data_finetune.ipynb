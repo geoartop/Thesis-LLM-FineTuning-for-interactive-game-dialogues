{
 "cells": [
  {
   "cell_type": "code",
   "execution_count": 39,
   "id": "initial_id",
   "metadata": {
    "collapsed": true,
    "jupyter": {
     "outputs_hidden": true
    },
    "ExecuteTime": {
     "end_time": "2024-06-16T22:38:35.386464700Z",
     "start_time": "2024-06-16T22:38:31.861829300Z"
    }
   },
   "outputs": [],
   "source": [
    "from datasets import load_dataset\n",
    "\n",
    "train_dataset = load_dataset(\"json\", data_files=\"dataset_final_results/introduction_train.json\")\n",
    "val_dataset = load_dataset(\"json\", data_files=\"dataset_final_results/introduction_val.json\")\n",
    "test_dataset = load_dataset(\"json\", data_files=\"dataset_final_results/introduction_test.json\")"
   ]
  },
  {
   "cell_type": "code",
   "execution_count": 2,
   "id": "8f92a617057aac80",
   "metadata": {
    "collapsed": false,
    "ExecuteTime": {
     "end_time": "2024-06-16T13:42:06.076330300Z",
     "start_time": "2024-06-16T13:42:06.066149800Z"
    }
   },
   "outputs": [
    {
     "data": {
      "text/plain": "DatasetDict({\n    train: Dataset({\n        features: ['Game', 'Monologue', 'Context'],\n        num_rows: 40\n    })\n})"
     },
     "execution_count": 2,
     "metadata": {},
     "output_type": "execute_result"
    }
   ],
   "source": [
    "train_dataset"
   ]
  },
  {
   "cell_type": "code",
   "execution_count": 3,
   "id": "b0c6ecad2a2d2007",
   "metadata": {
    "collapsed": false,
    "ExecuteTime": {
     "end_time": "2024-06-16T13:42:06.081365600Z",
     "start_time": "2024-06-16T13:42:06.071329500Z"
    }
   },
   "outputs": [
    {
     "data": {
      "text/plain": "DatasetDict({\n    train: Dataset({\n        features: ['Game', 'Monologue', 'Context'],\n        num_rows: 5\n    })\n})"
     },
     "execution_count": 3,
     "metadata": {},
     "output_type": "execute_result"
    }
   ],
   "source": [
    "val_dataset"
   ]
  },
  {
   "cell_type": "code",
   "execution_count": 4,
   "id": "61a9af870c68ea6a",
   "metadata": {
    "collapsed": false,
    "ExecuteTime": {
     "end_time": "2024-06-16T13:42:06.133559Z",
     "start_time": "2024-06-16T13:42:06.080364800Z"
    }
   },
   "outputs": [
    {
     "data": {
      "text/plain": "DatasetDict({\n    train: Dataset({\n        features: ['Game', 'Monologue', 'Context'],\n        num_rows: 5\n    })\n})"
     },
     "execution_count": 4,
     "metadata": {},
     "output_type": "execute_result"
    }
   ],
   "source": [
    "test_dataset"
   ]
  },
  {
   "cell_type": "code",
   "execution_count": 5,
   "id": "dad8e9abba327408",
   "metadata": {
    "collapsed": false,
    "ExecuteTime": {
     "end_time": "2024-06-16T13:42:10.354884700Z",
     "start_time": "2024-06-16T13:42:06.085549300Z"
    }
   },
   "outputs": [],
   "source": [
    "from accelerate import FullyShardedDataParallelPlugin, Accelerator\n",
    "from torch.distributed.fsdp.fully_sharded_data_parallel import FullOptimStateDictConfig, FullStateDictConfig\n",
    "\n",
    "fsdp_plugin = FullyShardedDataParallelPlugin(\n",
    "    state_dict_config=FullStateDictConfig(offload_to_cpu=True, rank0_only=False),\n",
    "    optim_state_dict_config=FullOptimStateDictConfig(offload_to_cpu=True, rank0_only=False),\n",
    ")\n",
    "\n",
    "accelerator = Accelerator(fsdp_plugin=fsdp_plugin)"
   ]
  },
  {
   "cell_type": "code",
   "execution_count": 6,
   "id": "131418b6535338bf",
   "metadata": {
    "collapsed": false,
    "ExecuteTime": {
     "end_time": "2024-06-16T13:42:10.366662700Z",
     "start_time": "2024-06-16T13:42:10.353884100Z"
    }
   },
   "outputs": [],
   "source": [
    "def formatting_func(example):\n",
    "    return f\"\"\"\n",
    "In the following text, there is a description about introductory monologues in a video game. The text will be enclosed within <START> and <END>. There are specific rules that apply only to the text: the title of the current game will always be enclosed inside <TITLE> and </TITLE>, the monologue will always be enclosed inside <MONO> and </MONO>, and the context will be enclosed inside <CONTEXT> and </CONTEXT>.\n",
    "\n",
    "<START>\n",
    "In video games, sometimes there is an introductory monologue delivered by a narrator. The narrator can either be an unknown narrator or a character that exists within the game, and they introduce the Player to the world, the story, and the setting of the game with the assistance of an introductory monologue. \n",
    "\n",
    "This monologue is based on the game's setting, world, story, and the Player's role in the game. Here is some context describing these elements about the game called <TITLE>{example['Game']}</TITLE>:\n",
    "\n",
    "<CONTEXT>{example['Context']}</CONTEXT>\n",
    "    \n",
    "<TITLE>{example['Game']}</TITLE>'s introductory monologue is as follows:\n",
    "\n",
    "<MONO>{example['Monologue']}</MONO>\n",
    "\n",
    "<END>\"\"\"\n"
   ]
  },
  {
   "cell_type": "code",
   "outputs": [],
   "source": [
    "# Explicitly setting the token\n",
    "import os\n",
    "os.environ[\"HF_TOKEN\"] = \"\""
   ],
   "metadata": {
    "collapsed": false,
    "ExecuteTime": {
     "end_time": "2024-06-16T13:42:10.370664400Z",
     "start_time": "2024-06-16T13:42:10.360412300Z"
    }
   },
   "id": "a7010b90e0c1f23",
   "execution_count": 7
  },
  {
   "cell_type": "code",
   "execution_count": 8,
   "id": "380cd97b582df263",
   "metadata": {
    "collapsed": false,
    "ExecuteTime": {
     "end_time": "2024-06-16T13:42:11.352545500Z",
     "start_time": "2024-06-16T13:42:10.368664Z"
    }
   },
   "outputs": [],
   "source": [
    "import torch\n",
    "from transformers import AutoTokenizer, AutoModelForCausalLM, BitsAndBytesConfig, AutoConfig\n",
    "config = AutoConfig.from_pretrained(\"meta-llama/Llama-2-7b-hf\")"
   ]
  },
  {
   "cell_type": "code",
   "outputs": [],
   "source": [
    "base_model_id = \"meta-llama/Llama-2-7b-hf\""
   ],
   "metadata": {
    "collapsed": false,
    "ExecuteTime": {
     "end_time": "2024-06-16T13:42:11.356897400Z",
     "start_time": "2024-06-16T13:42:11.353894300Z"
    }
   },
   "id": "d632f344ba9aabd4",
   "execution_count": 9
  },
  {
   "cell_type": "code",
   "outputs": [],
   "source": [
    "bnb_config = BitsAndBytesConfig(\n",
    "    load_in_4bit=True,\n",
    "    bnb_4bit_use_double_quant=True,\n",
    "    bnb_4bit_quant_type=\"nf4\",\n",
    "    bnb_4bit_compute_dtype=torch.bfloat16\n",
    ")"
   ],
   "metadata": {
    "collapsed": false,
    "ExecuteTime": {
     "end_time": "2024-06-16T13:42:11.369666Z",
     "start_time": "2024-06-16T13:42:11.357897500Z"
    }
   },
   "id": "9a7f272e3e8e4ecc",
   "execution_count": 10
  },
  {
   "cell_type": "code",
   "outputs": [
    {
     "name": "stderr",
     "output_type": "stream",
     "text": [
      "`low_cpu_mem_usage` was None, now set to True since model is quantized.\n"
     ]
    },
    {
     "data": {
      "text/plain": "Loading checkpoint shards:   0%|          | 0/2 [00:00<?, ?it/s]",
      "application/vnd.jupyter.widget-view+json": {
       "version_major": 2,
       "version_minor": 0,
       "model_id": "a3430de9e1c6495689e851f417398fb6"
      }
     },
     "metadata": {},
     "output_type": "display_data"
    }
   ],
   "source": [
    "model = AutoModelForCausalLM.from_pretrained(base_model_id, quantization_config=bnb_config,config=config)\n",
    "\n",
    "tokenizer = AutoTokenizer.from_pretrained(\n",
    "    base_model_id,\n",
    "    padding_side=\"left\",\n",
    "    add_eos_token=True,\n",
    "    add_bos_token=True,\n",
    ")\n",
    "tokenizer.pad_token = tokenizer.eos_token\n"
   ],
   "metadata": {
    "collapsed": false,
    "ExecuteTime": {
     "end_time": "2024-06-16T13:42:37.372131600Z",
     "start_time": "2024-06-16T13:42:11.365665700Z"
    }
   },
   "id": "5e3d64226cbbc1df",
   "execution_count": 11
  },
  {
   "cell_type": "code",
   "execution_count": 12,
   "id": "cfe4ef3ec3c37141",
   "metadata": {
    "collapsed": false,
    "ExecuteTime": {
     "end_time": "2024-06-16T13:42:37.385424Z",
     "start_time": "2024-06-16T13:42:37.373915200Z"
    }
   },
   "outputs": [],
   "source": [
    "def generate_and_tokenize_prompt(prompt):\n",
    "    return tokenizer(formatting_func(prompt))"
   ]
  },
  {
   "cell_type": "code",
   "execution_count": 13,
   "id": "6a540269d58fd473",
   "metadata": {
    "collapsed": false,
    "ExecuteTime": {
     "end_time": "2024-06-16T13:42:37.467428400Z",
     "start_time": "2024-06-16T13:42:37.376422Z"
    }
   },
   "outputs": [],
   "source": [
    "tokenized_train_dataset = train_dataset.map(generate_and_tokenize_prompt)"
   ]
  },
  {
   "cell_type": "code",
   "execution_count": 14,
   "id": "4c4e0d60cc136063",
   "metadata": {
    "collapsed": false,
    "ExecuteTime": {
     "end_time": "2024-06-16T13:42:37.504166900Z",
     "start_time": "2024-06-16T13:42:37.468429100Z"
    }
   },
   "outputs": [],
   "source": [
    "tokenized_val_dataset = val_dataset.map(generate_and_tokenize_prompt)"
   ]
  },
  {
   "cell_type": "code",
   "execution_count": 15,
   "id": "fe34416de1121bf2",
   "metadata": {
    "collapsed": false,
    "ExecuteTime": {
     "end_time": "2024-06-16T13:42:38.092493900Z",
     "start_time": "2024-06-16T13:42:37.498166200Z"
    }
   },
   "outputs": [
    {
     "name": "stdout",
     "output_type": "stream",
     "text": [
      "45\n"
     ]
    },
    {
     "data": {
      "text/plain": "<Figure size 1000x600 with 1 Axes>",
      "image/png": "[encoded data removed]"
     },
     "metadata": {},
     "output_type": "display_data"
    }
   ],
   "source": [
    "import matplotlib.pyplot as plt\n",
    "\n",
    "\n",
    "def plot_data_lengths(tokenized_train_dataset, tokenized_val_dataset):\n",
    "    lengths = [len(x['input_ids']) for x in tokenized_train_dataset['train']]\n",
    "    lengths += [len(x['input_ids']) for x in tokenized_val_dataset['train']]\n",
    "    print(len(lengths))\n",
    "\n",
    "    # Plotting the histogram\n",
    "    plt.figure(figsize=(10, 6))\n",
    "    plt.hist(lengths, bins=20, alpha=0.7, color='blue')\n",
    "    plt.xlabel('Length of input_ids')\n",
    "    plt.ylabel('Frequency')\n",
    "    plt.title('Distribution of Lengths of input_ids')\n",
    "    plt.show()\n",
    "\n",
    "plot_data_lengths(tokenized_train_dataset, tokenized_val_dataset)"
   ]
  },
  {
   "cell_type": "code",
   "execution_count": 16,
   "id": "805a339c5f8c1dbd",
   "metadata": {
    "collapsed": false,
    "ExecuteTime": {
     "end_time": "2024-06-16T13:42:38.212641800Z",
     "start_time": "2024-06-16T13:42:38.092493900Z"
    }
   },
   "outputs": [
    {
     "name": "stdout",
     "output_type": "stream",
     "text": [
      "Mean: 747.8\n",
      "95th percentile: 984.4499999999999\n",
      "Max length: 1264\n"
     ]
    }
   ],
   "source": [
    "import numpy as np\n",
    "\n",
    "lengths = [len(x['input_ids']) for x in tokenized_train_dataset['train']]\n",
    "\n",
    "print(f\"Mean: {np.mean(lengths)}\")\n",
    "\n",
    "# Calculate the 95th percentile\n",
    "print(f\"95th percentile: {np.percentile(lengths, 95)}\")\n",
    "\n",
    "# Calculate the max length\n",
    "print(f\"Max length: {np.max(lengths)}\")"
   ]
  },
  {
   "cell_type": "code",
   "execution_count": 17,
   "id": "6b3e76e5d59b83b4",
   "metadata": {
    "collapsed": false,
    "ExecuteTime": {
     "end_time": "2024-06-16T13:42:38.214270900Z",
     "start_time": "2024-06-16T13:42:38.140118400Z"
    }
   },
   "outputs": [],
   "source": [
    "max_length = 1264  # This was an appropriate max length for my dataset\n",
    "\n",
    "def generate_and_tokenize_prompt2(prompt):\n",
    "    result = tokenizer(\n",
    "        formatting_func(prompt),\n",
    "        truncation=True,\n",
    "        max_length=max_length,\n",
    "        padding=\"max_length\",\n",
    "    )\n",
    "    result[\"labels\"] = result[\"input_ids\"].copy()\n",
    "    return result"
   ]
  },
  {
   "cell_type": "code",
   "execution_count": 18,
   "id": "a4121ff13e365288",
   "metadata": {
    "collapsed": false,
    "ExecuteTime": {
     "end_time": "2024-06-16T13:42:38.249281500Z",
     "start_time": "2024-06-16T13:42:38.143626700Z"
    }
   },
   "outputs": [],
   "source": [
    "tokenized_train_dataset = train_dataset.map(generate_and_tokenize_prompt2)\n",
    "tokenized_val_dataset = val_dataset.map(generate_and_tokenize_prompt2)"
   ]
  },
  {
   "cell_type": "code",
   "execution_count": 19,
   "id": "5673a5175e6f2638",
   "metadata": {
    "collapsed": false,
    "ExecuteTime": {
     "end_time": "2024-06-16T13:42:38.436853Z",
     "start_time": "2024-06-16T13:42:38.218274400Z"
    }
   },
   "outputs": [
    {
     "name": "stdout",
     "output_type": "stream",
     "text": [
      "45\n"
     ]
    },
    {
     "data": {
      "text/plain": "<Figure size 1000x600 with 1 Axes>",
      "image/png": "[encoded data removed]"
     },
     "metadata": {},
     "output_type": "display_data"
    }
   ],
   "source": [
    "plot_data_lengths(tokenized_train_dataset, tokenized_val_dataset)"
   ]
  },
  {
   "cell_type": "code",
   "outputs": [],
   "source": [
    "eval_prompt = (f\"\"\"\n",
    "In the following text, there is a description about introductory monologues in a video game. The text will be enclosed within <START> and <END>. There are specific rules that apply only to the text: the title of the current game will always be enclosed inside <TITLE> and </TITLE>, the monologue will always be enclosed inside <MONO> and </MONO>, and the context will be enclosed inside <CONTEXT> and </CONTEXT>. Your task is to generate the missing monologue that is based in the provided text.\n",
    "\n",
    "<START>\n",
    "In video games, sometimes there is an introductory monologue delivered by a narrator. The narrator can either be an unknown narrator or a character that exists within the game, and they introduce the Player to the world, the story, and the setting of the game with the assistance of an introductory monologue. \n",
    "\n",
    "This monologue is based on the game's setting, world, story, and the Player's role in the game. Here is some context describing these elements about the game called <TITLE>Elden Ring</TITLE>:\n",
    "\n",
    "<CONTEXT>In <TITLE>Elden Ring</TITLE>, the introductory monologue delivered by a narrator sets the stage for the game's epic dark fantasy narrative. The player takes on the role of a Tarnished, one of the dead who yet live, called back to the Lands Between to restore the fractured world. The once-great Elden Ring has been shattered, and Queen Marika the Eternal has disappeared. On the Night of the Black Knives, the demigod Godwin the Golden was the first to fall, leading Marika's demigod offspring to seize the shards of the Elden Ring. Their newfound power triggered the Shattering, a catastrophic war that left the Lands Between in chaos and abandoned by the Greater Will. The Tarnished, including chieftains, sorcerers, and other notable figures, are beckoned by the call of long-lost grace to reclaim their destiny. As a Tarnished of no renown, the player must cross the fog to the Lands Between, face formidable foes, and seek to reunite the Elden Ring, ultimately striving to become the Elden Lord. The game explores themes of power, legacy, and redemption in a richly detailed and mysterious world.</CONTEXT>\n",
    "    \n",
    "<TITLE>Elden Ring</TITLE>'s introductory monologue is as follows:\n",
    "<END>\n",
    "\n",
    "Please remember to generate the introductory monologue based on the given context. The monologue should be relatively large and feel like a natural introduction to the game world described in the context. The monologue should not start by addressing the player directly and should not contain the name of the game.\n",
    "\n",
    "Generated monologue:\n",
    "\"\"\")"
   ],
   "metadata": {
    "collapsed": false
   },
   "id": "678f82c73601a318",
   "execution_count": 11
  },
  {
   "cell_type": "code",
   "outputs": [
    {
     "ename": "NameError",
     "evalue": "name 'model' is not defined",
     "output_type": "error",
     "traceback": [
      "\u001B[1;31m---------------------------------------------------------------------------\u001B[0m",
      "\u001B[1;31mNameError\u001B[0m                                 Traceback (most recent call last)",
      "Cell \u001B[1;32mIn[12], line 9\u001B[0m\n\u001B[0;32m      2\u001B[0m eval_tokenizer \u001B[38;5;241m=\u001B[39m AutoTokenizer\u001B[38;5;241m.\u001B[39mfrom_pretrained(\n\u001B[0;32m      3\u001B[0m     base_model_id,\n\u001B[0;32m      4\u001B[0m     add_bos_token\u001B[38;5;241m=\u001B[39m\u001B[38;5;28;01mTrue\u001B[39;00m,\n\u001B[0;32m      5\u001B[0m )\n\u001B[0;32m      7\u001B[0m model_input \u001B[38;5;241m=\u001B[39m eval_tokenizer(eval_prompt, return_tensors\u001B[38;5;241m=\u001B[39m\u001B[38;5;124m\"\u001B[39m\u001B[38;5;124mpt\u001B[39m\u001B[38;5;124m\"\u001B[39m)\u001B[38;5;241m.\u001B[39mto(\u001B[38;5;124m\"\u001B[39m\u001B[38;5;124mcuda\u001B[39m\u001B[38;5;124m\"\u001B[39m)\n\u001B[1;32m----> 9\u001B[0m \u001B[43mmodel\u001B[49m\u001B[38;5;241m.\u001B[39meval()\n\u001B[0;32m     10\u001B[0m \u001B[38;5;28;01mwith\u001B[39;00m torch\u001B[38;5;241m.\u001B[39mno_grad():\n\u001B[0;32m     11\u001B[0m     \u001B[38;5;28mprint\u001B[39m(eval_tokenizer\u001B[38;5;241m.\u001B[39mdecode(model\u001B[38;5;241m.\u001B[39mgenerate(\u001B[38;5;241m*\u001B[39m\u001B[38;5;241m*\u001B[39mmodel_input, max_new_tokens\u001B[38;5;241m=\u001B[39m\u001B[38;5;241m2000\u001B[39m, repetition_penalty\u001B[38;5;241m=\u001B[39m\u001B[38;5;241m1.15\u001B[39m)[\u001B[38;5;241m0\u001B[39m],\n\u001B[0;32m     12\u001B[0m                                 skip_special_tokens\u001B[38;5;241m=\u001B[39m\u001B[38;5;28;01mTrue\u001B[39;00m))\n",
      "\u001B[1;31mNameError\u001B[0m: name 'model' is not defined"
     ]
    }
   ],
   "source": [
    "# Init an eval tokenizer that doesn't add padding or eos token\n",
    "eval_tokenizer = AutoTokenizer.from_pretrained(\n",
    "    base_model_id,\n",
    "    add_bos_token=True,\n",
    ")\n",
    "\n",
    "model_input = eval_tokenizer(eval_prompt, return_tensors=\"pt\").to(\"cuda\")\n",
    "\n",
    "model.eval()\n",
    "with torch.no_grad():\n",
    "    print(eval_tokenizer.decode(model.generate(**model_input, max_new_tokens=2000, repetition_penalty=1.15)[0],\n",
    "                                skip_special_tokens=True))"
   ],
   "metadata": {
    "collapsed": false
   },
   "id": "47c8339c7d3e3ea2",
   "execution_count": 12
  },
  {
   "cell_type": "code",
   "execution_count": 21,
   "id": "570b93f08b1b61eb",
   "metadata": {
    "collapsed": false,
    "ExecuteTime": {
     "end_time": "2024-06-16T13:42:38.584442600Z",
     "start_time": "2024-06-16T13:42:38.440357900Z"
    }
   },
   "outputs": [],
   "source": [
    "from peft import prepare_model_for_kbit_training\n",
    "\n",
    "model.gradient_checkpointing_enable()\n",
    "model = prepare_model_for_kbit_training(model)"
   ]
  },
  {
   "cell_type": "code",
   "execution_count": 22,
   "id": "ddf562f6b54c4893",
   "metadata": {
    "collapsed": false,
    "ExecuteTime": {
     "end_time": "2024-06-16T13:42:38.587890Z",
     "start_time": "2024-06-16T13:42:38.586385100Z"
    }
   },
   "outputs": [],
   "source": [
    "def print_trainable_parameters(model):\n",
    "    \"\"\"\n",
    "    Prints the number of trainable parameters in the model.\n",
    "    \"\"\"\n",
    "    trainable_params = 0\n",
    "    all_param = 0\n",
    "    for _, param in model.named_parameters():\n",
    "        all_param += param.numel()\n",
    "        if param.requires_grad:\n",
    "            trainable_params += param.numel()\n",
    "    print(\n",
    "        f\"trainable params: {trainable_params} || all params: {all_param} || trainable%: {100 * trainable_params / all_param}\"\n",
    "    )"
   ]
  },
  {
   "cell_type": "code",
   "execution_count": 23,
   "id": "1116078209be7ce6",
   "metadata": {
    "collapsed": false,
    "ExecuteTime": {
     "end_time": "2024-06-16T13:42:38.652485200Z",
     "start_time": "2024-06-16T13:42:38.587890Z"
    }
   },
   "outputs": [
    {
     "name": "stdout",
     "output_type": "stream",
     "text": [
      "LlamaForCausalLM(\n",
      "  (model): LlamaModel(\n",
      "    (embed_tokens): Embedding(32000, 4096)\n",
      "    (layers): ModuleList(\n",
      "      (0-31): 32 x LlamaDecoderLayer(\n",
      "        (self_attn): LlamaSdpaAttention(\n",
      "          (q_proj): Linear4bit(in_features=4096, out_features=4096, bias=False)\n",
      "          (k_proj): Linear4bit(in_features=4096, out_features=4096, bias=False)\n",
      "          (v_proj): Linear4bit(in_features=4096, out_features=4096, bias=False)\n",
      "          (o_proj): Linear4bit(in_features=4096, out_features=4096, bias=False)\n",
      "          (rotary_emb): LlamaRotaryEmbedding()\n",
      "        )\n",
      "        (mlp): LlamaMLP(\n",
      "          (gate_proj): Linear4bit(in_features=4096, out_features=11008, bias=False)\n",
      "          (up_proj): Linear4bit(in_features=4096, out_features=11008, bias=False)\n",
      "          (down_proj): Linear4bit(in_features=11008, out_features=4096, bias=False)\n",
      "          (act_fn): SiLU()\n",
      "        )\n",
      "        (input_layernorm): LlamaRMSNorm()\n",
      "        (post_attention_layernorm): LlamaRMSNorm()\n",
      "      )\n",
      "    )\n",
      "    (norm): LlamaRMSNorm()\n",
      "  )\n",
      "  (lm_head): Linear(in_features=4096, out_features=32000, bias=False)\n",
      ")\n"
     ]
    }
   ],
   "source": [
    "print(model)"
   ]
  },
  {
   "cell_type": "code",
   "execution_count": 24,
   "id": "6fe694a164bb1ea8",
   "metadata": {
    "collapsed": false,
    "ExecuteTime": {
     "end_time": "2024-06-16T13:42:40.138346100Z",
     "start_time": "2024-06-16T13:42:38.599084500Z"
    }
   },
   "outputs": [
    {
     "name": "stdout",
     "output_type": "stream",
     "text": [
      "trainable params: 128974848 || all params: 3629387776 || trainable%: 3.5536254586206\n"
     ]
    }
   ],
   "source": [
    "from peft import LoraConfig, get_peft_model\n",
    "\n",
    "config = LoraConfig(\n",
    "    r=64,\n",
    "    lora_alpha=32,\n",
    "    target_modules=[\n",
    "        \"q_proj\",\n",
    "        \"k_proj\",\n",
    "        \"v_proj\",\n",
    "        \"o_proj\",\n",
    "        \"gate_proj\",\n",
    "        \"up_proj\",\n",
    "        \"down_proj,\"\n",
    "        \"lm_head\",\n",
    "    ],\n",
    "    bias=\"none\",\n",
    "    lora_dropout=0.05,  # Conventional\n",
    "    use_rslora=True,\n",
    "    task_type=\"CAUSAL_LM\"\n",
    ")\n",
    "\n",
    "model = get_peft_model(model, config)\n",
    "print_trainable_parameters(model)"
   ]
  },
  {
   "cell_type": "code",
   "execution_count": 25,
   "id": "6354fba6c3915b3",
   "metadata": {
    "collapsed": false,
    "ExecuteTime": {
     "end_time": "2024-06-16T13:42:40.151249700Z",
     "start_time": "2024-06-16T13:42:40.139347100Z"
    }
   },
   "outputs": [
    {
     "name": "stdout",
     "output_type": "stream",
     "text": [
      "PeftModelForCausalLM(\n",
      "  (base_model): LoraModel(\n",
      "    (model): LlamaForCausalLM(\n",
      "      (model): LlamaModel(\n",
      "        (embed_tokens): Embedding(32000, 4096)\n",
      "        (layers): ModuleList(\n",
      "          (0-31): 32 x LlamaDecoderLayer(\n",
      "            (self_attn): LlamaSdpaAttention(\n",
      "              (q_proj): lora.Linear4bit(\n",
      "                (base_layer): Linear4bit(in_features=4096, out_features=4096, bias=False)\n",
      "                (lora_dropout): ModuleDict(\n",
      "                  (default): Dropout(p=0.05, inplace=False)\n",
      "                )\n",
      "                (lora_A): ModuleDict(\n",
      "                  (default): Linear(in_features=4096, out_features=64, bias=False)\n",
      "                )\n",
      "                (lora_B): ModuleDict(\n",
      "                  (default): Linear(in_features=64, out_features=4096, bias=False)\n",
      "                )\n",
      "                (lora_embedding_A): ParameterDict()\n",
      "                (lora_embedding_B): ParameterDict()\n",
      "              )\n",
      "              (k_proj): lora.Linear4bit(\n",
      "                (base_layer): Linear4bit(in_features=4096, out_features=4096, bias=False)\n",
      "                (lora_dropout): ModuleDict(\n",
      "                  (default): Dropout(p=0.05, inplace=False)\n",
      "                )\n",
      "                (lora_A): ModuleDict(\n",
      "                  (default): Linear(in_features=4096, out_features=64, bias=False)\n",
      "                )\n",
      "                (lora_B): ModuleDict(\n",
      "                  (default): Linear(in_features=64, out_features=4096, bias=False)\n",
      "                )\n",
      "                (lora_embedding_A): ParameterDict()\n",
      "                (lora_embedding_B): ParameterDict()\n",
      "              )\n",
      "              (v_proj): lora.Linear4bit(\n",
      "                (base_layer): Linear4bit(in_features=4096, out_features=4096, bias=False)\n",
      "                (lora_dropout): ModuleDict(\n",
      "                  (default): Dropout(p=0.05, inplace=False)\n",
      "                )\n",
      "                (lora_A): ModuleDict(\n",
      "                  (default): Linear(in_features=4096, out_features=64, bias=False)\n",
      "                )\n",
      "                (lora_B): ModuleDict(\n",
      "                  (default): Linear(in_features=64, out_features=4096, bias=False)\n",
      "                )\n",
      "                (lora_embedding_A): ParameterDict()\n",
      "                (lora_embedding_B): ParameterDict()\n",
      "              )\n",
      "              (o_proj): lora.Linear4bit(\n",
      "                (base_layer): Linear4bit(in_features=4096, out_features=4096, bias=False)\n",
      "                (lora_dropout): ModuleDict(\n",
      "                  (default): Dropout(p=0.05, inplace=False)\n",
      "                )\n",
      "                (lora_A): ModuleDict(\n",
      "                  (default): Linear(in_features=4096, out_features=64, bias=False)\n",
      "                )\n",
      "                (lora_B): ModuleDict(\n",
      "                  (default): Linear(in_features=64, out_features=4096, bias=False)\n",
      "                )\n",
      "                (lora_embedding_A): ParameterDict()\n",
      "                (lora_embedding_B): ParameterDict()\n",
      "              )\n",
      "              (rotary_emb): LlamaRotaryEmbedding()\n",
      "            )\n",
      "            (mlp): LlamaMLP(\n",
      "              (gate_proj): lora.Linear4bit(\n",
      "                (base_layer): Linear4bit(in_features=4096, out_features=11008, bias=False)\n",
      "                (lora_dropout): ModuleDict(\n",
      "                  (default): Dropout(p=0.05, inplace=False)\n",
      "                )\n",
      "                (lora_A): ModuleDict(\n",
      "                  (default): Linear(in_features=4096, out_features=64, bias=False)\n",
      "                )\n",
      "                (lora_B): ModuleDict(\n",
      "                  (default): Linear(in_features=64, out_features=11008, bias=False)\n",
      "                )\n",
      "                (lora_embedding_A): ParameterDict()\n",
      "                (lora_embedding_B): ParameterDict()\n",
      "              )\n",
      "              (up_proj): lora.Linear4bit(\n",
      "                (base_layer): Linear4bit(in_features=4096, out_features=11008, bias=False)\n",
      "                (lora_dropout): ModuleDict(\n",
      "                  (default): Dropout(p=0.05, inplace=False)\n",
      "                )\n",
      "                (lora_A): ModuleDict(\n",
      "                  (default): Linear(in_features=4096, out_features=64, bias=False)\n",
      "                )\n",
      "                (lora_B): ModuleDict(\n",
      "                  (default): Linear(in_features=64, out_features=11008, bias=False)\n",
      "                )\n",
      "                (lora_embedding_A): ParameterDict()\n",
      "                (lora_embedding_B): ParameterDict()\n",
      "              )\n",
      "              (down_proj): Linear4bit(in_features=11008, out_features=4096, bias=False)\n",
      "              (act_fn): SiLU()\n",
      "            )\n",
      "            (input_layernorm): LlamaRMSNorm()\n",
      "            (post_attention_layernorm): LlamaRMSNorm()\n",
      "          )\n",
      "        )\n",
      "        (norm): LlamaRMSNorm()\n",
      "      )\n",
      "      (lm_head): Linear(in_features=4096, out_features=32000, bias=False)\n",
      "    )\n",
      "  )\n",
      ")\n"
     ]
    }
   ],
   "source": [
    "print(model)"
   ]
  },
  {
   "cell_type": "code",
   "execution_count": 26,
   "id": "2fcbe8317af8659a",
   "metadata": {
    "collapsed": false,
    "ExecuteTime": {
     "end_time": "2024-06-16T13:51:17.440693400Z",
     "start_time": "2024-06-16T13:51:17.407683400Z"
    }
   },
   "outputs": [],
   "source": [
    "if torch.cuda.device_count() > 1:  # If more than 1 GPU\n",
    "    model.is_parallelizable = True\n",
    "    model.model_parallel = True"
   ]
  },
  {
   "cell_type": "code",
   "execution_count": 27,
   "id": "ec3566a59128b91",
   "metadata": {
    "collapsed": false,
    "ExecuteTime": {
     "end_time": "2024-06-16T13:51:18.890938200Z",
     "start_time": "2024-06-16T13:51:18.868525400Z"
    }
   },
   "outputs": [],
   "source": [
    "model = accelerator.prepare_model(model)"
   ]
  },
  {
   "cell_type": "code",
   "execution_count": 28,
   "id": "c48d66dfa4929c8f",
   "metadata": {
    "collapsed": false,
    "ExecuteTime": {
     "end_time": "2024-06-16T14:17:02.252690200Z",
     "start_time": "2024-06-16T13:51:19.483937800Z"
    }
   },
   "outputs": [
    {
     "name": "stderr",
     "output_type": "stream",
     "text": [
      "C:\\Users\\Pumukl\\AppData\\Local\\Programs\\Python\\Python312\\Lib\\site-packages\\accelerate\\accelerator.py:436: FutureWarning: Passing the following arguments to `Accelerator` is deprecated and will be removed in version 1.0 of Accelerate: dict_keys(['dispatch_batches', 'split_batches', 'even_batches', 'use_seedable_sampler']). Please pass an `accelerate.DataLoaderConfiguration` instead: \n",
      "dataloader_config = DataLoaderConfiguration(dispatch_batches=None, split_batches=False, even_batches=True, use_seedable_sampler=True)\n",
      "  warnings.warn(\n",
      "C:\\Users\\Pumukl\\AppData\\Local\\Programs\\Python\\Python312\\Lib\\site-packages\\torch\\utils\\checkpoint.py:460: UserWarning: torch.utils.checkpoint: please pass in use_reentrant=True or use_reentrant=False explicitly. The default value of use_reentrant will be updated to be False in the future. To maintain current behavior, pass use_reentrant=True. It is recommended that you use use_reentrant=False. Refer to docs for more details on the differences between the two variants.\n",
      "  warnings.warn(\n",
      "C:\\Users\\Pumukl\\AppData\\Local\\Programs\\Python\\Python312\\Lib\\site-packages\\transformers\\models\\llama\\modeling_llama.py:671: UserWarning: 1Torch was not compiled with flash attention. (Triggered internally at ..\\aten\\src\\ATen\\native\\transformers\\cuda\\sdp_utils.cpp:263.)\n",
      "  attn_output = torch.nn.functional.scaled_dot_product_attention(\n"
     ]
    },
    {
     "data": {
      "text/plain": "<IPython.core.display.HTML object>",
      "text/html": "\n    <div>\n      \n      <progress value='11' max='280' style='width:300px; height:20px; vertical-align: middle;'></progress>\n      [ 11/280 00:42 < 21:09, 0.21 it/s, Epoch 0.25/7]\n    </div>\n    <table border=\"1\" class=\"dataframe\">\n  <thead>\n <tr style=\"text-align: left;\">\n      <th>Step</th>\n      <th>Training Loss</th>\n      <th>Validation Loss</th>\n    </tr>\n  </thead>\n  <tbody>\n    <tr>\n      <td>10</td>\n      <td>1.691600</td>\n      <td>1.660724</td>\n    </tr>\n  </tbody>\n</table><p>"
     },
     "metadata": {},
     "output_type": "display_data"
    },
    {
     "data": {
      "text/plain": "<IPython.core.display.HTML object>",
      "text/html": "\n    <div>\n      \n      <progress value='21' max='280' style='width:300px; height:20px; vertical-align: middle;'></progress>\n      [ 21/280 01:39 < 22:30, 0.19 it/s, Epoch 0.50/7]\n    </div>\n    <table border=\"1\" class=\"dataframe\">\n  <thead>\n <tr style=\"text-align: left;\">\n      <th>Step</th>\n      <th>Training Loss</th>\n      <th>Validation Loss</th>\n    </tr>\n  </thead>\n  <tbody>\n    <tr>\n      <td>10</td>\n      <td>1.691600</td>\n      <td>1.660724</td>\n    </tr>\n    <tr>\n      <td>20</td>\n      <td>1.547700</td>\n      <td>1.566546</td>\n    </tr>\n  </tbody>\n</table><p>"
     },
     "metadata": {},
     "output_type": "display_data"
    },
    {
     "data": {
      "text/plain": "<IPython.core.display.HTML object>",
      "text/html": "\n    <div>\n      \n      <progress value='31' max='280' style='width:300px; height:20px; vertical-align: middle;'></progress>\n      [ 31/280 02:33 < 21:54, 0.19 it/s, Epoch 0.75/7]\n    </div>\n    <table border=\"1\" class=\"dataframe\">\n  <thead>\n <tr style=\"text-align: left;\">\n      <th>Step</th>\n      <th>Training Loss</th>\n      <th>Validation Loss</th>\n    </tr>\n  </thead>\n  <tbody>\n    <tr>\n      <td>10</td>\n      <td>1.691600</td>\n      <td>1.660724</td>\n    </tr>\n    <tr>\n      <td>20</td>\n      <td>1.547700</td>\n      <td>1.566546</td>\n    </tr>\n    <tr>\n      <td>30</td>\n      <td>1.486100</td>\n      <td>1.482319</td>\n    </tr>\n  </tbody>\n</table><p>"
     },
     "metadata": {},
     "output_type": "display_data"
    },
    {
     "data": {
      "text/plain": "<IPython.core.display.HTML object>",
      "text/html": "\n    <div>\n      \n      <progress value='41' max='280' style='width:300px; height:20px; vertical-align: middle;'></progress>\n      [ 41/280 03:27 < 21:09, 0.19 it/s, Epoch 1/7]\n    </div>\n    <table border=\"1\" class=\"dataframe\">\n  <thead>\n <tr style=\"text-align: left;\">\n      <th>Step</th>\n      <th>Training Loss</th>\n      <th>Validation Loss</th>\n    </tr>\n  </thead>\n  <tbody>\n    <tr>\n      <td>10</td>\n      <td>1.691600</td>\n      <td>1.660724</td>\n    </tr>\n    <tr>\n      <td>20</td>\n      <td>1.547700</td>\n      <td>1.566546</td>\n    </tr>\n    <tr>\n      <td>30</td>\n      <td>1.486100</td>\n      <td>1.482319</td>\n    </tr>\n    <tr>\n      <td>40</td>\n      <td>1.364900</td>\n      <td>1.410405</td>\n    </tr>\n  </tbody>\n</table><p>"
     },
     "metadata": {},
     "output_type": "display_data"
    },
    {
     "data": {
      "text/plain": "<IPython.core.display.HTML object>",
      "text/html": "\n    <div>\n      \n      <progress value='51' max='280' style='width:300px; height:20px; vertical-align: middle;'></progress>\n      [ 51/280 04:21 < 20:21, 0.19 it/s, Epoch 1.25/7]\n    </div>\n    <table border=\"1\" class=\"dataframe\">\n  <thead>\n <tr style=\"text-align: left;\">\n      <th>Step</th>\n      <th>Training Loss</th>\n      <th>Validation Loss</th>\n    </tr>\n  </thead>\n  <tbody>\n    <tr>\n      <td>10</td>\n      <td>1.691600</td>\n      <td>1.660724</td>\n    </tr>\n    <tr>\n      <td>20</td>\n      <td>1.547700</td>\n      <td>1.566546</td>\n    </tr>\n    <tr>\n      <td>30</td>\n      <td>1.486100</td>\n      <td>1.482319</td>\n    </tr>\n    <tr>\n      <td>40</td>\n      <td>1.364900</td>\n      <td>1.410405</td>\n    </tr>\n    <tr>\n      <td>50</td>\n      <td>1.261300</td>\n      <td>1.326472</td>\n    </tr>\n  </tbody>\n</table><p>"
     },
     "metadata": {},
     "output_type": "display_data"
    },
    {
     "data": {
      "text/plain": "<IPython.core.display.HTML object>",
      "text/html": "\n    <div>\n      \n      <progress value='61' max='280' style='width:300px; height:20px; vertical-align: middle;'></progress>\n      [ 61/280 05:15 < 19:31, 0.19 it/s, Epoch 1.50/7]\n    </div>\n    <table border=\"1\" class=\"dataframe\">\n  <thead>\n <tr style=\"text-align: left;\">\n      <th>Step</th>\n      <th>Training Loss</th>\n      <th>Validation Loss</th>\n    </tr>\n  </thead>\n  <tbody>\n    <tr>\n      <td>10</td>\n      <td>1.691600</td>\n      <td>1.660724</td>\n    </tr>\n    <tr>\n      <td>20</td>\n      <td>1.547700</td>\n      <td>1.566546</td>\n    </tr>\n    <tr>\n      <td>30</td>\n      <td>1.486100</td>\n      <td>1.482319</td>\n    </tr>\n    <tr>\n      <td>40</td>\n      <td>1.364900</td>\n      <td>1.410405</td>\n    </tr>\n    <tr>\n      <td>50</td>\n      <td>1.261300</td>\n      <td>1.326472</td>\n    </tr>\n    <tr>\n      <td>60</td>\n      <td>1.261400</td>\n      <td>1.228579</td>\n    </tr>\n  </tbody>\n</table><p>"
     },
     "metadata": {},
     "output_type": "display_data"
    },
    {
     "data": {
      "text/plain": "<IPython.core.display.HTML object>",
      "text/html": "\n    <div>\n      \n      <progress value='71' max='280' style='width:300px; height:20px; vertical-align: middle;'></progress>\n      [ 71/280 06:10 < 18:41, 0.19 it/s, Epoch 1.75/7]\n    </div>\n    <table border=\"1\" class=\"dataframe\">\n  <thead>\n <tr style=\"text-align: left;\">\n      <th>Step</th>\n      <th>Training Loss</th>\n      <th>Validation Loss</th>\n    </tr>\n  </thead>\n  <tbody>\n    <tr>\n      <td>10</td>\n      <td>1.691600</td>\n      <td>1.660724</td>\n    </tr>\n    <tr>\n      <td>20</td>\n      <td>1.547700</td>\n      <td>1.566546</td>\n    </tr>\n    <tr>\n      <td>30</td>\n      <td>1.486100</td>\n      <td>1.482319</td>\n    </tr>\n    <tr>\n      <td>40</td>\n      <td>1.364900</td>\n      <td>1.410405</td>\n    </tr>\n    <tr>\n      <td>50</td>\n      <td>1.261300</td>\n      <td>1.326472</td>\n    </tr>\n    <tr>\n      <td>60</td>\n      <td>1.261400</td>\n      <td>1.228579</td>\n    </tr>\n    <tr>\n      <td>70</td>\n      <td>1.139200</td>\n      <td>1.141921</td>\n    </tr>\n  </tbody>\n</table><p>"
     },
     "metadata": {},
     "output_type": "display_data"
    },
    {
     "data": {
      "text/plain": "<IPython.core.display.HTML object>",
      "text/html": "\n    <div>\n      \n      <progress value='81' max='280' style='width:300px; height:20px; vertical-align: middle;'></progress>\n      [ 81/280 07:05 < 17:50, 0.19 it/s, Epoch 2/7]\n    </div>\n    <table border=\"1\" class=\"dataframe\">\n  <thead>\n <tr style=\"text-align: left;\">\n      <th>Step</th>\n      <th>Training Loss</th>\n      <th>Validation Loss</th>\n    </tr>\n  </thead>\n  <tbody>\n    <tr>\n      <td>10</td>\n      <td>1.691600</td>\n      <td>1.660724</td>\n    </tr>\n    <tr>\n      <td>20</td>\n      <td>1.547700</td>\n      <td>1.566546</td>\n    </tr>\n    <tr>\n      <td>30</td>\n      <td>1.486100</td>\n      <td>1.482319</td>\n    </tr>\n    <tr>\n      <td>40</td>\n      <td>1.364900</td>\n      <td>1.410405</td>\n    </tr>\n    <tr>\n      <td>50</td>\n      <td>1.261300</td>\n      <td>1.326472</td>\n    </tr>\n    <tr>\n      <td>60</td>\n      <td>1.261400</td>\n      <td>1.228579</td>\n    </tr>\n    <tr>\n      <td>70</td>\n      <td>1.139200</td>\n      <td>1.141921</td>\n    </tr>\n    <tr>\n      <td>80</td>\n      <td>0.938900</td>\n      <td>1.087079</td>\n    </tr>\n  </tbody>\n</table><p>"
     },
     "metadata": {},
     "output_type": "display_data"
    },
    {
     "data": {
      "text/plain": "<IPython.core.display.HTML object>",
      "text/html": "\n    <div>\n      \n      <progress value='91' max='280' style='width:300px; height:20px; vertical-align: middle;'></progress>\n      [ 91/280 08:00 < 16:59, 0.19 it/s, Epoch 2.25/7]\n    </div>\n    <table border=\"1\" class=\"dataframe\">\n  <thead>\n <tr style=\"text-align: left;\">\n      <th>Step</th>\n      <th>Training Loss</th>\n      <th>Validation Loss</th>\n    </tr>\n  </thead>\n  <tbody>\n    <tr>\n      <td>10</td>\n      <td>1.691600</td>\n      <td>1.660724</td>\n    </tr>\n    <tr>\n      <td>20</td>\n      <td>1.547700</td>\n      <td>1.566546</td>\n    </tr>\n    <tr>\n      <td>30</td>\n      <td>1.486100</td>\n      <td>1.482319</td>\n    </tr>\n    <tr>\n      <td>40</td>\n      <td>1.364900</td>\n      <td>1.410405</td>\n    </tr>\n    <tr>\n      <td>50</td>\n      <td>1.261300</td>\n      <td>1.326472</td>\n    </tr>\n    <tr>\n      <td>60</td>\n      <td>1.261400</td>\n      <td>1.228579</td>\n    </tr>\n    <tr>\n      <td>70</td>\n      <td>1.139200</td>\n      <td>1.141921</td>\n    </tr>\n    <tr>\n      <td>80</td>\n      <td>0.938900</td>\n      <td>1.087079</td>\n    </tr>\n    <tr>\n      <td>90</td>\n      <td>0.856700</td>\n      <td>1.057011</td>\n    </tr>\n  </tbody>\n</table><p>"
     },
     "metadata": {},
     "output_type": "display_data"
    },
    {
     "data": {
      "text/plain": "<IPython.core.display.HTML object>",
      "text/html": "\n    <div>\n      \n      <progress value='101' max='280' style='width:300px; height:20px; vertical-align: middle;'></progress>\n      [101/280 08:55 < 16:07, 0.19 it/s, Epoch 2.50/7]\n    </div>\n    <table border=\"1\" class=\"dataframe\">\n  <thead>\n <tr style=\"text-align: left;\">\n      <th>Step</th>\n      <th>Training Loss</th>\n      <th>Validation Loss</th>\n    </tr>\n  </thead>\n  <tbody>\n    <tr>\n      <td>10</td>\n      <td>1.691600</td>\n      <td>1.660724</td>\n    </tr>\n    <tr>\n      <td>20</td>\n      <td>1.547700</td>\n      <td>1.566546</td>\n    </tr>\n    <tr>\n      <td>30</td>\n      <td>1.486100</td>\n      <td>1.482319</td>\n    </tr>\n    <tr>\n      <td>40</td>\n      <td>1.364900</td>\n      <td>1.410405</td>\n    </tr>\n    <tr>\n      <td>50</td>\n      <td>1.261300</td>\n      <td>1.326472</td>\n    </tr>\n    <tr>\n      <td>60</td>\n      <td>1.261400</td>\n      <td>1.228579</td>\n    </tr>\n    <tr>\n      <td>70</td>\n      <td>1.139200</td>\n      <td>1.141921</td>\n    </tr>\n    <tr>\n      <td>80</td>\n      <td>0.938900</td>\n      <td>1.087079</td>\n    </tr>\n    <tr>\n      <td>90</td>\n      <td>0.856700</td>\n      <td>1.057011</td>\n    </tr>\n    <tr>\n      <td>100</td>\n      <td>1.061000</td>\n      <td>1.039343</td>\n    </tr>\n  </tbody>\n</table><p>"
     },
     "metadata": {},
     "output_type": "display_data"
    },
    {
     "data": {
      "text/plain": "<IPython.core.display.HTML object>",
      "text/html": "\n    <div>\n      \n      <progress value='111' max='280' style='width:300px; height:20px; vertical-align: middle;'></progress>\n      [111/280 09:50 < 15:14, 0.18 it/s, Epoch 2.75/7]\n    </div>\n    <table border=\"1\" class=\"dataframe\">\n  <thead>\n <tr style=\"text-align: left;\">\n      <th>Step</th>\n      <th>Training Loss</th>\n      <th>Validation Loss</th>\n    </tr>\n  </thead>\n  <tbody>\n    <tr>\n      <td>10</td>\n      <td>1.691600</td>\n      <td>1.660724</td>\n    </tr>\n    <tr>\n      <td>20</td>\n      <td>1.547700</td>\n      <td>1.566546</td>\n    </tr>\n    <tr>\n      <td>30</td>\n      <td>1.486100</td>\n      <td>1.482319</td>\n    </tr>\n    <tr>\n      <td>40</td>\n      <td>1.364900</td>\n      <td>1.410405</td>\n    </tr>\n    <tr>\n      <td>50</td>\n      <td>1.261300</td>\n      <td>1.326472</td>\n    </tr>\n    <tr>\n      <td>60</td>\n      <td>1.261400</td>\n      <td>1.228579</td>\n    </tr>\n    <tr>\n      <td>70</td>\n      <td>1.139200</td>\n      <td>1.141921</td>\n    </tr>\n    <tr>\n      <td>80</td>\n      <td>0.938900</td>\n      <td>1.087079</td>\n    </tr>\n    <tr>\n      <td>90</td>\n      <td>0.856700</td>\n      <td>1.057011</td>\n    </tr>\n    <tr>\n      <td>100</td>\n      <td>1.061000</td>\n      <td>1.039343</td>\n    </tr>\n    <tr>\n      <td>110</td>\n      <td>0.936900</td>\n      <td>1.023442</td>\n    </tr>\n  </tbody>\n</table><p>"
     },
     "metadata": {},
     "output_type": "display_data"
    },
    {
     "data": {
      "text/plain": "<IPython.core.display.HTML object>",
      "text/html": "\n    <div>\n      \n      <progress value='121' max='280' style='width:300px; height:20px; vertical-align: middle;'></progress>\n      [121/280 10:44 < 14:21, 0.18 it/s, Epoch 3/7]\n    </div>\n    <table border=\"1\" class=\"dataframe\">\n  <thead>\n <tr style=\"text-align: left;\">\n      <th>Step</th>\n      <th>Training Loss</th>\n      <th>Validation Loss</th>\n    </tr>\n  </thead>\n  <tbody>\n    <tr>\n      <td>10</td>\n      <td>1.691600</td>\n      <td>1.660724</td>\n    </tr>\n    <tr>\n      <td>20</td>\n      <td>1.547700</td>\n      <td>1.566546</td>\n    </tr>\n    <tr>\n      <td>30</td>\n      <td>1.486100</td>\n      <td>1.482319</td>\n    </tr>\n    <tr>\n      <td>40</td>\n      <td>1.364900</td>\n      <td>1.410405</td>\n    </tr>\n    <tr>\n      <td>50</td>\n      <td>1.261300</td>\n      <td>1.326472</td>\n    </tr>\n    <tr>\n      <td>60</td>\n      <td>1.261400</td>\n      <td>1.228579</td>\n    </tr>\n    <tr>\n      <td>70</td>\n      <td>1.139200</td>\n      <td>1.141921</td>\n    </tr>\n    <tr>\n      <td>80</td>\n      <td>0.938900</td>\n      <td>1.087079</td>\n    </tr>\n    <tr>\n      <td>90</td>\n      <td>0.856700</td>\n      <td>1.057011</td>\n    </tr>\n    <tr>\n      <td>100</td>\n      <td>1.061000</td>\n      <td>1.039343</td>\n    </tr>\n    <tr>\n      <td>110</td>\n      <td>0.936900</td>\n      <td>1.023442</td>\n    </tr>\n    <tr>\n      <td>120</td>\n      <td>0.851600</td>\n      <td>1.016039</td>\n    </tr>\n  </tbody>\n</table><p>"
     },
     "metadata": {},
     "output_type": "display_data"
    },
    {
     "data": {
      "text/plain": "<IPython.core.display.HTML object>",
      "text/html": "\n    <div>\n      \n      <progress value='131' max='280' style='width:300px; height:20px; vertical-align: middle;'></progress>\n      [131/280 11:39 < 13:27, 0.18 it/s, Epoch 3.25/7]\n    </div>\n    <table border=\"1\" class=\"dataframe\">\n  <thead>\n <tr style=\"text-align: left;\">\n      <th>Step</th>\n      <th>Training Loss</th>\n      <th>Validation Loss</th>\n    </tr>\n  </thead>\n  <tbody>\n    <tr>\n      <td>10</td>\n      <td>1.691600</td>\n      <td>1.660724</td>\n    </tr>\n    <tr>\n      <td>20</td>\n      <td>1.547700</td>\n      <td>1.566546</td>\n    </tr>\n    <tr>\n      <td>30</td>\n      <td>1.486100</td>\n      <td>1.482319</td>\n    </tr>\n    <tr>\n      <td>40</td>\n      <td>1.364900</td>\n      <td>1.410405</td>\n    </tr>\n    <tr>\n      <td>50</td>\n      <td>1.261300</td>\n      <td>1.326472</td>\n    </tr>\n    <tr>\n      <td>60</td>\n      <td>1.261400</td>\n      <td>1.228579</td>\n    </tr>\n    <tr>\n      <td>70</td>\n      <td>1.139200</td>\n      <td>1.141921</td>\n    </tr>\n    <tr>\n      <td>80</td>\n      <td>0.938900</td>\n      <td>1.087079</td>\n    </tr>\n    <tr>\n      <td>90</td>\n      <td>0.856700</td>\n      <td>1.057011</td>\n    </tr>\n    <tr>\n      <td>100</td>\n      <td>1.061000</td>\n      <td>1.039343</td>\n    </tr>\n    <tr>\n      <td>110</td>\n      <td>0.936900</td>\n      <td>1.023442</td>\n    </tr>\n    <tr>\n      <td>120</td>\n      <td>0.851600</td>\n      <td>1.016039</td>\n    </tr>\n    <tr>\n      <td>130</td>\n      <td>0.792600</td>\n      <td>1.013538</td>\n    </tr>\n  </tbody>\n</table><p>"
     },
     "metadata": {},
     "output_type": "display_data"
    },
    {
     "data": {
      "text/plain": "<IPython.core.display.HTML object>",
      "text/html": "\n    <div>\n      \n      <progress value='141' max='280' style='width:300px; height:20px; vertical-align: middle;'></progress>\n      [141/280 12:34 < 12:34, 0.18 it/s, Epoch 3.50/7]\n    </div>\n    <table border=\"1\" class=\"dataframe\">\n  <thead>\n <tr style=\"text-align: left;\">\n      <th>Step</th>\n      <th>Training Loss</th>\n      <th>Validation Loss</th>\n    </tr>\n  </thead>\n  <tbody>\n    <tr>\n      <td>10</td>\n      <td>1.691600</td>\n      <td>1.660724</td>\n    </tr>\n    <tr>\n      <td>20</td>\n      <td>1.547700</td>\n      <td>1.566546</td>\n    </tr>\n    <tr>\n      <td>30</td>\n      <td>1.486100</td>\n      <td>1.482319</td>\n    </tr>\n    <tr>\n      <td>40</td>\n      <td>1.364900</td>\n      <td>1.410405</td>\n    </tr>\n    <tr>\n      <td>50</td>\n      <td>1.261300</td>\n      <td>1.326472</td>\n    </tr>\n    <tr>\n      <td>60</td>\n      <td>1.261400</td>\n      <td>1.228579</td>\n    </tr>\n    <tr>\n      <td>70</td>\n      <td>1.139200</td>\n      <td>1.141921</td>\n    </tr>\n    <tr>\n      <td>80</td>\n      <td>0.938900</td>\n      <td>1.087079</td>\n    </tr>\n    <tr>\n      <td>90</td>\n      <td>0.856700</td>\n      <td>1.057011</td>\n    </tr>\n    <tr>\n      <td>100</td>\n      <td>1.061000</td>\n      <td>1.039343</td>\n    </tr>\n    <tr>\n      <td>110</td>\n      <td>0.936900</td>\n      <td>1.023442</td>\n    </tr>\n    <tr>\n      <td>120</td>\n      <td>0.851600</td>\n      <td>1.016039</td>\n    </tr>\n    <tr>\n      <td>130</td>\n      <td>0.792600</td>\n      <td>1.013538</td>\n    </tr>\n    <tr>\n      <td>140</td>\n      <td>0.892100</td>\n      <td>1.010995</td>\n    </tr>\n  </tbody>\n</table><p>"
     },
     "metadata": {},
     "output_type": "display_data"
    },
    {
     "data": {
      "text/plain": "<IPython.core.display.HTML object>",
      "text/html": "\n    <div>\n      \n      <progress value='151' max='280' style='width:300px; height:20px; vertical-align: middle;'></progress>\n      [151/280 13:29 < 11:40, 0.18 it/s, Epoch 3.75/7]\n    </div>\n    <table border=\"1\" class=\"dataframe\">\n  <thead>\n <tr style=\"text-align: left;\">\n      <th>Step</th>\n      <th>Training Loss</th>\n      <th>Validation Loss</th>\n    </tr>\n  </thead>\n  <tbody>\n    <tr>\n      <td>10</td>\n      <td>1.691600</td>\n      <td>1.660724</td>\n    </tr>\n    <tr>\n      <td>20</td>\n      <td>1.547700</td>\n      <td>1.566546</td>\n    </tr>\n    <tr>\n      <td>30</td>\n      <td>1.486100</td>\n      <td>1.482319</td>\n    </tr>\n    <tr>\n      <td>40</td>\n      <td>1.364900</td>\n      <td>1.410405</td>\n    </tr>\n    <tr>\n      <td>50</td>\n      <td>1.261300</td>\n      <td>1.326472</td>\n    </tr>\n    <tr>\n      <td>60</td>\n      <td>1.261400</td>\n      <td>1.228579</td>\n    </tr>\n    <tr>\n      <td>70</td>\n      <td>1.139200</td>\n      <td>1.141921</td>\n    </tr>\n    <tr>\n      <td>80</td>\n      <td>0.938900</td>\n      <td>1.087079</td>\n    </tr>\n    <tr>\n      <td>90</td>\n      <td>0.856700</td>\n      <td>1.057011</td>\n    </tr>\n    <tr>\n      <td>100</td>\n      <td>1.061000</td>\n      <td>1.039343</td>\n    </tr>\n    <tr>\n      <td>110</td>\n      <td>0.936900</td>\n      <td>1.023442</td>\n    </tr>\n    <tr>\n      <td>120</td>\n      <td>0.851600</td>\n      <td>1.016039</td>\n    </tr>\n    <tr>\n      <td>130</td>\n      <td>0.792600</td>\n      <td>1.013538</td>\n    </tr>\n    <tr>\n      <td>140</td>\n      <td>0.892100</td>\n      <td>1.010995</td>\n    </tr>\n    <tr>\n      <td>150</td>\n      <td>0.973500</td>\n      <td>1.010145</td>\n    </tr>\n  </tbody>\n</table><p>"
     },
     "metadata": {},
     "output_type": "display_data"
    },
    {
     "data": {
      "text/plain": "<IPython.core.display.HTML object>",
      "text/html": "\n    <div>\n      \n      <progress value='161' max='280' style='width:300px; height:20px; vertical-align: middle;'></progress>\n      [161/280 14:23 < 10:46, 0.18 it/s, Epoch 4/7]\n    </div>\n    <table border=\"1\" class=\"dataframe\">\n  <thead>\n <tr style=\"text-align: left;\">\n      <th>Step</th>\n      <th>Training Loss</th>\n      <th>Validation Loss</th>\n    </tr>\n  </thead>\n  <tbody>\n    <tr>\n      <td>10</td>\n      <td>1.691600</td>\n      <td>1.660724</td>\n    </tr>\n    <tr>\n      <td>20</td>\n      <td>1.547700</td>\n      <td>1.566546</td>\n    </tr>\n    <tr>\n      <td>30</td>\n      <td>1.486100</td>\n      <td>1.482319</td>\n    </tr>\n    <tr>\n      <td>40</td>\n      <td>1.364900</td>\n      <td>1.410405</td>\n    </tr>\n    <tr>\n      <td>50</td>\n      <td>1.261300</td>\n      <td>1.326472</td>\n    </tr>\n    <tr>\n      <td>60</td>\n      <td>1.261400</td>\n      <td>1.228579</td>\n    </tr>\n    <tr>\n      <td>70</td>\n      <td>1.139200</td>\n      <td>1.141921</td>\n    </tr>\n    <tr>\n      <td>80</td>\n      <td>0.938900</td>\n      <td>1.087079</td>\n    </tr>\n    <tr>\n      <td>90</td>\n      <td>0.856700</td>\n      <td>1.057011</td>\n    </tr>\n    <tr>\n      <td>100</td>\n      <td>1.061000</td>\n      <td>1.039343</td>\n    </tr>\n    <tr>\n      <td>110</td>\n      <td>0.936900</td>\n      <td>1.023442</td>\n    </tr>\n    <tr>\n      <td>120</td>\n      <td>0.851600</td>\n      <td>1.016039</td>\n    </tr>\n    <tr>\n      <td>130</td>\n      <td>0.792600</td>\n      <td>1.013538</td>\n    </tr>\n    <tr>\n      <td>140</td>\n      <td>0.892100</td>\n      <td>1.010995</td>\n    </tr>\n    <tr>\n      <td>150</td>\n      <td>0.973500</td>\n      <td>1.010145</td>\n    </tr>\n    <tr>\n      <td>160</td>\n      <td>0.805100</td>\n      <td>1.008875</td>\n    </tr>\n  </tbody>\n</table><p>"
     },
     "metadata": {},
     "output_type": "display_data"
    },
    {
     "data": {
      "text/plain": "<IPython.core.display.HTML object>",
      "text/html": "\n    <div>\n      \n      <progress value='171' max='280' style='width:300px; height:20px; vertical-align: middle;'></progress>\n      [171/280 15:18 < 09:52, 0.18 it/s, Epoch 4.25/7]\n    </div>\n    <table border=\"1\" class=\"dataframe\">\n  <thead>\n <tr style=\"text-align: left;\">\n      <th>Step</th>\n      <th>Training Loss</th>\n      <th>Validation Loss</th>\n    </tr>\n  </thead>\n  <tbody>\n    <tr>\n      <td>10</td>\n      <td>1.691600</td>\n      <td>1.660724</td>\n    </tr>\n    <tr>\n      <td>20</td>\n      <td>1.547700</td>\n      <td>1.566546</td>\n    </tr>\n    <tr>\n      <td>30</td>\n      <td>1.486100</td>\n      <td>1.482319</td>\n    </tr>\n    <tr>\n      <td>40</td>\n      <td>1.364900</td>\n      <td>1.410405</td>\n    </tr>\n    <tr>\n      <td>50</td>\n      <td>1.261300</td>\n      <td>1.326472</td>\n    </tr>\n    <tr>\n      <td>60</td>\n      <td>1.261400</td>\n      <td>1.228579</td>\n    </tr>\n    <tr>\n      <td>70</td>\n      <td>1.139200</td>\n      <td>1.141921</td>\n    </tr>\n    <tr>\n      <td>80</td>\n      <td>0.938900</td>\n      <td>1.087079</td>\n    </tr>\n    <tr>\n      <td>90</td>\n      <td>0.856700</td>\n      <td>1.057011</td>\n    </tr>\n    <tr>\n      <td>100</td>\n      <td>1.061000</td>\n      <td>1.039343</td>\n    </tr>\n    <tr>\n      <td>110</td>\n      <td>0.936900</td>\n      <td>1.023442</td>\n    </tr>\n    <tr>\n      <td>120</td>\n      <td>0.851600</td>\n      <td>1.016039</td>\n    </tr>\n    <tr>\n      <td>130</td>\n      <td>0.792600</td>\n      <td>1.013538</td>\n    </tr>\n    <tr>\n      <td>140</td>\n      <td>0.892100</td>\n      <td>1.010995</td>\n    </tr>\n    <tr>\n      <td>150</td>\n      <td>0.973500</td>\n      <td>1.010145</td>\n    </tr>\n    <tr>\n      <td>160</td>\n      <td>0.805100</td>\n      <td>1.008875</td>\n    </tr>\n    <tr>\n      <td>170</td>\n      <td>0.846800</td>\n      <td>1.009184</td>\n    </tr>\n  </tbody>\n</table><p>"
     },
     "metadata": {},
     "output_type": "display_data"
    },
    {
     "data": {
      "text/plain": "<IPython.core.display.HTML object>",
      "text/html": "\n    <div>\n      \n      <progress value='181' max='280' style='width:300px; height:20px; vertical-align: middle;'></progress>\n      [181/280 16:13 < 08:58, 0.18 it/s, Epoch 4.50/7]\n    </div>\n    <table border=\"1\" class=\"dataframe\">\n  <thead>\n <tr style=\"text-align: left;\">\n      <th>Step</th>\n      <th>Training Loss</th>\n      <th>Validation Loss</th>\n    </tr>\n  </thead>\n  <tbody>\n    <tr>\n      <td>10</td>\n      <td>1.691600</td>\n      <td>1.660724</td>\n    </tr>\n    <tr>\n      <td>20</td>\n      <td>1.547700</td>\n      <td>1.566546</td>\n    </tr>\n    <tr>\n      <td>30</td>\n      <td>1.486100</td>\n      <td>1.482319</td>\n    </tr>\n    <tr>\n      <td>40</td>\n      <td>1.364900</td>\n      <td>1.410405</td>\n    </tr>\n    <tr>\n      <td>50</td>\n      <td>1.261300</td>\n      <td>1.326472</td>\n    </tr>\n    <tr>\n      <td>60</td>\n      <td>1.261400</td>\n      <td>1.228579</td>\n    </tr>\n    <tr>\n      <td>70</td>\n      <td>1.139200</td>\n      <td>1.141921</td>\n    </tr>\n    <tr>\n      <td>80</td>\n      <td>0.938900</td>\n      <td>1.087079</td>\n    </tr>\n    <tr>\n      <td>90</td>\n      <td>0.856700</td>\n      <td>1.057011</td>\n    </tr>\n    <tr>\n      <td>100</td>\n      <td>1.061000</td>\n      <td>1.039343</td>\n    </tr>\n    <tr>\n      <td>110</td>\n      <td>0.936900</td>\n      <td>1.023442</td>\n    </tr>\n    <tr>\n      <td>120</td>\n      <td>0.851600</td>\n      <td>1.016039</td>\n    </tr>\n    <tr>\n      <td>130</td>\n      <td>0.792600</td>\n      <td>1.013538</td>\n    </tr>\n    <tr>\n      <td>140</td>\n      <td>0.892100</td>\n      <td>1.010995</td>\n    </tr>\n    <tr>\n      <td>150</td>\n      <td>0.973500</td>\n      <td>1.010145</td>\n    </tr>\n    <tr>\n      <td>160</td>\n      <td>0.805100</td>\n      <td>1.008875</td>\n    </tr>\n    <tr>\n      <td>170</td>\n      <td>0.846800</td>\n      <td>1.009184</td>\n    </tr>\n    <tr>\n      <td>180</td>\n      <td>0.767100</td>\n      <td>1.010336</td>\n    </tr>\n  </tbody>\n</table><p>"
     },
     "metadata": {},
     "output_type": "display_data"
    },
    {
     "data": {
      "text/plain": "<IPython.core.display.HTML object>",
      "text/html": "\n    <div>\n      \n      <progress value='191' max='280' style='width:300px; height:20px; vertical-align: middle;'></progress>\n      [191/280 17:08 < 08:04, 0.18 it/s, Epoch 4.75/7]\n    </div>\n    <table border=\"1\" class=\"dataframe\">\n  <thead>\n <tr style=\"text-align: left;\">\n      <th>Step</th>\n      <th>Training Loss</th>\n      <th>Validation Loss</th>\n    </tr>\n  </thead>\n  <tbody>\n    <tr>\n      <td>10</td>\n      <td>1.691600</td>\n      <td>1.660724</td>\n    </tr>\n    <tr>\n      <td>20</td>\n      <td>1.547700</td>\n      <td>1.566546</td>\n    </tr>\n    <tr>\n      <td>30</td>\n      <td>1.486100</td>\n      <td>1.482319</td>\n    </tr>\n    <tr>\n      <td>40</td>\n      <td>1.364900</td>\n      <td>1.410405</td>\n    </tr>\n    <tr>\n      <td>50</td>\n      <td>1.261300</td>\n      <td>1.326472</td>\n    </tr>\n    <tr>\n      <td>60</td>\n      <td>1.261400</td>\n      <td>1.228579</td>\n    </tr>\n    <tr>\n      <td>70</td>\n      <td>1.139200</td>\n      <td>1.141921</td>\n    </tr>\n    <tr>\n      <td>80</td>\n      <td>0.938900</td>\n      <td>1.087079</td>\n    </tr>\n    <tr>\n      <td>90</td>\n      <td>0.856700</td>\n      <td>1.057011</td>\n    </tr>\n    <tr>\n      <td>100</td>\n      <td>1.061000</td>\n      <td>1.039343</td>\n    </tr>\n    <tr>\n      <td>110</td>\n      <td>0.936900</td>\n      <td>1.023442</td>\n    </tr>\n    <tr>\n      <td>120</td>\n      <td>0.851600</td>\n      <td>1.016039</td>\n    </tr>\n    <tr>\n      <td>130</td>\n      <td>0.792600</td>\n      <td>1.013538</td>\n    </tr>\n    <tr>\n      <td>140</td>\n      <td>0.892100</td>\n      <td>1.010995</td>\n    </tr>\n    <tr>\n      <td>150</td>\n      <td>0.973500</td>\n      <td>1.010145</td>\n    </tr>\n    <tr>\n      <td>160</td>\n      <td>0.805100</td>\n      <td>1.008875</td>\n    </tr>\n    <tr>\n      <td>170</td>\n      <td>0.846800</td>\n      <td>1.009184</td>\n    </tr>\n    <tr>\n      <td>180</td>\n      <td>0.767100</td>\n      <td>1.010336</td>\n    </tr>\n    <tr>\n      <td>190</td>\n      <td>0.819200</td>\n      <td>1.009462</td>\n    </tr>\n  </tbody>\n</table><p>"
     },
     "metadata": {},
     "output_type": "display_data"
    },
    {
     "data": {
      "text/plain": "<IPython.core.display.HTML object>",
      "text/html": "\n    <div>\n      \n      <progress value='201' max='280' style='width:300px; height:20px; vertical-align: middle;'></progress>\n      [201/280 18:03 < 07:10, 0.18 it/s, Epoch 5/7]\n    </div>\n    <table border=\"1\" class=\"dataframe\">\n  <thead>\n <tr style=\"text-align: left;\">\n      <th>Step</th>\n      <th>Training Loss</th>\n      <th>Validation Loss</th>\n    </tr>\n  </thead>\n  <tbody>\n    <tr>\n      <td>10</td>\n      <td>1.691600</td>\n      <td>1.660724</td>\n    </tr>\n    <tr>\n      <td>20</td>\n      <td>1.547700</td>\n      <td>1.566546</td>\n    </tr>\n    <tr>\n      <td>30</td>\n      <td>1.486100</td>\n      <td>1.482319</td>\n    </tr>\n    <tr>\n      <td>40</td>\n      <td>1.364900</td>\n      <td>1.410405</td>\n    </tr>\n    <tr>\n      <td>50</td>\n      <td>1.261300</td>\n      <td>1.326472</td>\n    </tr>\n    <tr>\n      <td>60</td>\n      <td>1.261400</td>\n      <td>1.228579</td>\n    </tr>\n    <tr>\n      <td>70</td>\n      <td>1.139200</td>\n      <td>1.141921</td>\n    </tr>\n    <tr>\n      <td>80</td>\n      <td>0.938900</td>\n      <td>1.087079</td>\n    </tr>\n    <tr>\n      <td>90</td>\n      <td>0.856700</td>\n      <td>1.057011</td>\n    </tr>\n    <tr>\n      <td>100</td>\n      <td>1.061000</td>\n      <td>1.039343</td>\n    </tr>\n    <tr>\n      <td>110</td>\n      <td>0.936900</td>\n      <td>1.023442</td>\n    </tr>\n    <tr>\n      <td>120</td>\n      <td>0.851600</td>\n      <td>1.016039</td>\n    </tr>\n    <tr>\n      <td>130</td>\n      <td>0.792600</td>\n      <td>1.013538</td>\n    </tr>\n    <tr>\n      <td>140</td>\n      <td>0.892100</td>\n      <td>1.010995</td>\n    </tr>\n    <tr>\n      <td>150</td>\n      <td>0.973500</td>\n      <td>1.010145</td>\n    </tr>\n    <tr>\n      <td>160</td>\n      <td>0.805100</td>\n      <td>1.008875</td>\n    </tr>\n    <tr>\n      <td>170</td>\n      <td>0.846800</td>\n      <td>1.009184</td>\n    </tr>\n    <tr>\n      <td>180</td>\n      <td>0.767100</td>\n      <td>1.010336</td>\n    </tr>\n    <tr>\n      <td>190</td>\n      <td>0.819200</td>\n      <td>1.009462</td>\n    </tr>\n    <tr>\n      <td>200</td>\n      <td>0.905000</td>\n      <td>1.007957</td>\n    </tr>\n  </tbody>\n</table><p>"
     },
     "metadata": {},
     "output_type": "display_data"
    },
    {
     "data": {
      "text/plain": "<IPython.core.display.HTML object>",
      "text/html": "\n    <div>\n      \n      <progress value='211' max='280' style='width:300px; height:20px; vertical-align: middle;'></progress>\n      [211/280 18:58 < 06:15, 0.18 it/s, Epoch 5.25/7]\n    </div>\n    <table border=\"1\" class=\"dataframe\">\n  <thead>\n <tr style=\"text-align: left;\">\n      <th>Step</th>\n      <th>Training Loss</th>\n      <th>Validation Loss</th>\n    </tr>\n  </thead>\n  <tbody>\n    <tr>\n      <td>10</td>\n      <td>1.691600</td>\n      <td>1.660724</td>\n    </tr>\n    <tr>\n      <td>20</td>\n      <td>1.547700</td>\n      <td>1.566546</td>\n    </tr>\n    <tr>\n      <td>30</td>\n      <td>1.486100</td>\n      <td>1.482319</td>\n    </tr>\n    <tr>\n      <td>40</td>\n      <td>1.364900</td>\n      <td>1.410405</td>\n    </tr>\n    <tr>\n      <td>50</td>\n      <td>1.261300</td>\n      <td>1.326472</td>\n    </tr>\n    <tr>\n      <td>60</td>\n      <td>1.261400</td>\n      <td>1.228579</td>\n    </tr>\n    <tr>\n      <td>70</td>\n      <td>1.139200</td>\n      <td>1.141921</td>\n    </tr>\n    <tr>\n      <td>80</td>\n      <td>0.938900</td>\n      <td>1.087079</td>\n    </tr>\n    <tr>\n      <td>90</td>\n      <td>0.856700</td>\n      <td>1.057011</td>\n    </tr>\n    <tr>\n      <td>100</td>\n      <td>1.061000</td>\n      <td>1.039343</td>\n    </tr>\n    <tr>\n      <td>110</td>\n      <td>0.936900</td>\n      <td>1.023442</td>\n    </tr>\n    <tr>\n      <td>120</td>\n      <td>0.851600</td>\n      <td>1.016039</td>\n    </tr>\n    <tr>\n      <td>130</td>\n      <td>0.792600</td>\n      <td>1.013538</td>\n    </tr>\n    <tr>\n      <td>140</td>\n      <td>0.892100</td>\n      <td>1.010995</td>\n    </tr>\n    <tr>\n      <td>150</td>\n      <td>0.973500</td>\n      <td>1.010145</td>\n    </tr>\n    <tr>\n      <td>160</td>\n      <td>0.805100</td>\n      <td>1.008875</td>\n    </tr>\n    <tr>\n      <td>170</td>\n      <td>0.846800</td>\n      <td>1.009184</td>\n    </tr>\n    <tr>\n      <td>180</td>\n      <td>0.767100</td>\n      <td>1.010336</td>\n    </tr>\n    <tr>\n      <td>190</td>\n      <td>0.819200</td>\n      <td>1.009462</td>\n    </tr>\n    <tr>\n      <td>200</td>\n      <td>0.905000</td>\n      <td>1.007957</td>\n    </tr>\n    <tr>\n      <td>210</td>\n      <td>0.740400</td>\n      <td>1.008159</td>\n    </tr>\n  </tbody>\n</table><p>"
     },
     "metadata": {},
     "output_type": "display_data"
    },
    {
     "data": {
      "text/plain": "<IPython.core.display.HTML object>",
      "text/html": "\n    <div>\n      \n      <progress value='221' max='280' style='width:300px; height:20px; vertical-align: middle;'></progress>\n      [221/280 19:53 < 05:21, 0.18 it/s, Epoch 5.50/7]\n    </div>\n    <table border=\"1\" class=\"dataframe\">\n  <thead>\n <tr style=\"text-align: left;\">\n      <th>Step</th>\n      <th>Training Loss</th>\n      <th>Validation Loss</th>\n    </tr>\n  </thead>\n  <tbody>\n    <tr>\n      <td>10</td>\n      <td>1.691600</td>\n      <td>1.660724</td>\n    </tr>\n    <tr>\n      <td>20</td>\n      <td>1.547700</td>\n      <td>1.566546</td>\n    </tr>\n    <tr>\n      <td>30</td>\n      <td>1.486100</td>\n      <td>1.482319</td>\n    </tr>\n    <tr>\n      <td>40</td>\n      <td>1.364900</td>\n      <td>1.410405</td>\n    </tr>\n    <tr>\n      <td>50</td>\n      <td>1.261300</td>\n      <td>1.326472</td>\n    </tr>\n    <tr>\n      <td>60</td>\n      <td>1.261400</td>\n      <td>1.228579</td>\n    </tr>\n    <tr>\n      <td>70</td>\n      <td>1.139200</td>\n      <td>1.141921</td>\n    </tr>\n    <tr>\n      <td>80</td>\n      <td>0.938900</td>\n      <td>1.087079</td>\n    </tr>\n    <tr>\n      <td>90</td>\n      <td>0.856700</td>\n      <td>1.057011</td>\n    </tr>\n    <tr>\n      <td>100</td>\n      <td>1.061000</td>\n      <td>1.039343</td>\n    </tr>\n    <tr>\n      <td>110</td>\n      <td>0.936900</td>\n      <td>1.023442</td>\n    </tr>\n    <tr>\n      <td>120</td>\n      <td>0.851600</td>\n      <td>1.016039</td>\n    </tr>\n    <tr>\n      <td>130</td>\n      <td>0.792600</td>\n      <td>1.013538</td>\n    </tr>\n    <tr>\n      <td>140</td>\n      <td>0.892100</td>\n      <td>1.010995</td>\n    </tr>\n    <tr>\n      <td>150</td>\n      <td>0.973500</td>\n      <td>1.010145</td>\n    </tr>\n    <tr>\n      <td>160</td>\n      <td>0.805100</td>\n      <td>1.008875</td>\n    </tr>\n    <tr>\n      <td>170</td>\n      <td>0.846800</td>\n      <td>1.009184</td>\n    </tr>\n    <tr>\n      <td>180</td>\n      <td>0.767100</td>\n      <td>1.010336</td>\n    </tr>\n    <tr>\n      <td>190</td>\n      <td>0.819200</td>\n      <td>1.009462</td>\n    </tr>\n    <tr>\n      <td>200</td>\n      <td>0.905000</td>\n      <td>1.007957</td>\n    </tr>\n    <tr>\n      <td>210</td>\n      <td>0.740400</td>\n      <td>1.008159</td>\n    </tr>\n    <tr>\n      <td>220</td>\n      <td>0.732600</td>\n      <td>1.009457</td>\n    </tr>\n  </tbody>\n</table><p>"
     },
     "metadata": {},
     "output_type": "display_data"
    },
    {
     "data": {
      "text/plain": "<IPython.core.display.HTML object>",
      "text/html": "\n    <div>\n      \n      <progress value='231' max='280' style='width:300px; height:20px; vertical-align: middle;'></progress>\n      [231/280 20:48 < 04:27, 0.18 it/s, Epoch 5.75/7]\n    </div>\n    <table border=\"1\" class=\"dataframe\">\n  <thead>\n <tr style=\"text-align: left;\">\n      <th>Step</th>\n      <th>Training Loss</th>\n      <th>Validation Loss</th>\n    </tr>\n  </thead>\n  <tbody>\n    <tr>\n      <td>10</td>\n      <td>1.691600</td>\n      <td>1.660724</td>\n    </tr>\n    <tr>\n      <td>20</td>\n      <td>1.547700</td>\n      <td>1.566546</td>\n    </tr>\n    <tr>\n      <td>30</td>\n      <td>1.486100</td>\n      <td>1.482319</td>\n    </tr>\n    <tr>\n      <td>40</td>\n      <td>1.364900</td>\n      <td>1.410405</td>\n    </tr>\n    <tr>\n      <td>50</td>\n      <td>1.261300</td>\n      <td>1.326472</td>\n    </tr>\n    <tr>\n      <td>60</td>\n      <td>1.261400</td>\n      <td>1.228579</td>\n    </tr>\n    <tr>\n      <td>70</td>\n      <td>1.139200</td>\n      <td>1.141921</td>\n    </tr>\n    <tr>\n      <td>80</td>\n      <td>0.938900</td>\n      <td>1.087079</td>\n    </tr>\n    <tr>\n      <td>90</td>\n      <td>0.856700</td>\n      <td>1.057011</td>\n    </tr>\n    <tr>\n      <td>100</td>\n      <td>1.061000</td>\n      <td>1.039343</td>\n    </tr>\n    <tr>\n      <td>110</td>\n      <td>0.936900</td>\n      <td>1.023442</td>\n    </tr>\n    <tr>\n      <td>120</td>\n      <td>0.851600</td>\n      <td>1.016039</td>\n    </tr>\n    <tr>\n      <td>130</td>\n      <td>0.792600</td>\n      <td>1.013538</td>\n    </tr>\n    <tr>\n      <td>140</td>\n      <td>0.892100</td>\n      <td>1.010995</td>\n    </tr>\n    <tr>\n      <td>150</td>\n      <td>0.973500</td>\n      <td>1.010145</td>\n    </tr>\n    <tr>\n      <td>160</td>\n      <td>0.805100</td>\n      <td>1.008875</td>\n    </tr>\n    <tr>\n      <td>170</td>\n      <td>0.846800</td>\n      <td>1.009184</td>\n    </tr>\n    <tr>\n      <td>180</td>\n      <td>0.767100</td>\n      <td>1.010336</td>\n    </tr>\n    <tr>\n      <td>190</td>\n      <td>0.819200</td>\n      <td>1.009462</td>\n    </tr>\n    <tr>\n      <td>200</td>\n      <td>0.905000</td>\n      <td>1.007957</td>\n    </tr>\n    <tr>\n      <td>210</td>\n      <td>0.740400</td>\n      <td>1.008159</td>\n    </tr>\n    <tr>\n      <td>220</td>\n      <td>0.732600</td>\n      <td>1.009457</td>\n    </tr>\n    <tr>\n      <td>230</td>\n      <td>0.992200</td>\n      <td>1.008653</td>\n    </tr>\n  </tbody>\n</table><p>"
     },
     "metadata": {},
     "output_type": "display_data"
    },
    {
     "data": {
      "text/plain": "<IPython.core.display.HTML object>",
      "text/html": "\n    <div>\n      \n      <progress value='241' max='280' style='width:300px; height:20px; vertical-align: middle;'></progress>\n      [241/280 21:43 < 03:32, 0.18 it/s, Epoch 6/7]\n    </div>\n    <table border=\"1\" class=\"dataframe\">\n  <thead>\n <tr style=\"text-align: left;\">\n      <th>Step</th>\n      <th>Training Loss</th>\n      <th>Validation Loss</th>\n    </tr>\n  </thead>\n  <tbody>\n    <tr>\n      <td>10</td>\n      <td>1.691600</td>\n      <td>1.660724</td>\n    </tr>\n    <tr>\n      <td>20</td>\n      <td>1.547700</td>\n      <td>1.566546</td>\n    </tr>\n    <tr>\n      <td>30</td>\n      <td>1.486100</td>\n      <td>1.482319</td>\n    </tr>\n    <tr>\n      <td>40</td>\n      <td>1.364900</td>\n      <td>1.410405</td>\n    </tr>\n    <tr>\n      <td>50</td>\n      <td>1.261300</td>\n      <td>1.326472</td>\n    </tr>\n    <tr>\n      <td>60</td>\n      <td>1.261400</td>\n      <td>1.228579</td>\n    </tr>\n    <tr>\n      <td>70</td>\n      <td>1.139200</td>\n      <td>1.141921</td>\n    </tr>\n    <tr>\n      <td>80</td>\n      <td>0.938900</td>\n      <td>1.087079</td>\n    </tr>\n    <tr>\n      <td>90</td>\n      <td>0.856700</td>\n      <td>1.057011</td>\n    </tr>\n    <tr>\n      <td>100</td>\n      <td>1.061000</td>\n      <td>1.039343</td>\n    </tr>\n    <tr>\n      <td>110</td>\n      <td>0.936900</td>\n      <td>1.023442</td>\n    </tr>\n    <tr>\n      <td>120</td>\n      <td>0.851600</td>\n      <td>1.016039</td>\n    </tr>\n    <tr>\n      <td>130</td>\n      <td>0.792600</td>\n      <td>1.013538</td>\n    </tr>\n    <tr>\n      <td>140</td>\n      <td>0.892100</td>\n      <td>1.010995</td>\n    </tr>\n    <tr>\n      <td>150</td>\n      <td>0.973500</td>\n      <td>1.010145</td>\n    </tr>\n    <tr>\n      <td>160</td>\n      <td>0.805100</td>\n      <td>1.008875</td>\n    </tr>\n    <tr>\n      <td>170</td>\n      <td>0.846800</td>\n      <td>1.009184</td>\n    </tr>\n    <tr>\n      <td>180</td>\n      <td>0.767100</td>\n      <td>1.010336</td>\n    </tr>\n    <tr>\n      <td>190</td>\n      <td>0.819200</td>\n      <td>1.009462</td>\n    </tr>\n    <tr>\n      <td>200</td>\n      <td>0.905000</td>\n      <td>1.007957</td>\n    </tr>\n    <tr>\n      <td>210</td>\n      <td>0.740400</td>\n      <td>1.008159</td>\n    </tr>\n    <tr>\n      <td>220</td>\n      <td>0.732600</td>\n      <td>1.009457</td>\n    </tr>\n    <tr>\n      <td>230</td>\n      <td>0.992200</td>\n      <td>1.008653</td>\n    </tr>\n    <tr>\n      <td>240</td>\n      <td>0.785000</td>\n      <td>1.007824</td>\n    </tr>\n  </tbody>\n</table><p>"
     },
     "metadata": {},
     "output_type": "display_data"
    },
    {
     "data": {
      "text/plain": "<IPython.core.display.HTML object>",
      "text/html": "\n    <div>\n      \n      <progress value='251' max='280' style='width:300px; height:20px; vertical-align: middle;'></progress>\n      [251/280 22:39 < 02:38, 0.18 it/s, Epoch 6.25/7]\n    </div>\n    <table border=\"1\" class=\"dataframe\">\n  <thead>\n <tr style=\"text-align: left;\">\n      <th>Step</th>\n      <th>Training Loss</th>\n      <th>Validation Loss</th>\n    </tr>\n  </thead>\n  <tbody>\n    <tr>\n      <td>10</td>\n      <td>1.691600</td>\n      <td>1.660724</td>\n    </tr>\n    <tr>\n      <td>20</td>\n      <td>1.547700</td>\n      <td>1.566546</td>\n    </tr>\n    <tr>\n      <td>30</td>\n      <td>1.486100</td>\n      <td>1.482319</td>\n    </tr>\n    <tr>\n      <td>40</td>\n      <td>1.364900</td>\n      <td>1.410405</td>\n    </tr>\n    <tr>\n      <td>50</td>\n      <td>1.261300</td>\n      <td>1.326472</td>\n    </tr>\n    <tr>\n      <td>60</td>\n      <td>1.261400</td>\n      <td>1.228579</td>\n    </tr>\n    <tr>\n      <td>70</td>\n      <td>1.139200</td>\n      <td>1.141921</td>\n    </tr>\n    <tr>\n      <td>80</td>\n      <td>0.938900</td>\n      <td>1.087079</td>\n    </tr>\n    <tr>\n      <td>90</td>\n      <td>0.856700</td>\n      <td>1.057011</td>\n    </tr>\n    <tr>\n      <td>100</td>\n      <td>1.061000</td>\n      <td>1.039343</td>\n    </tr>\n    <tr>\n      <td>110</td>\n      <td>0.936900</td>\n      <td>1.023442</td>\n    </tr>\n    <tr>\n      <td>120</td>\n      <td>0.851600</td>\n      <td>1.016039</td>\n    </tr>\n    <tr>\n      <td>130</td>\n      <td>0.792600</td>\n      <td>1.013538</td>\n    </tr>\n    <tr>\n      <td>140</td>\n      <td>0.892100</td>\n      <td>1.010995</td>\n    </tr>\n    <tr>\n      <td>150</td>\n      <td>0.973500</td>\n      <td>1.010145</td>\n    </tr>\n    <tr>\n      <td>160</td>\n      <td>0.805100</td>\n      <td>1.008875</td>\n    </tr>\n    <tr>\n      <td>170</td>\n      <td>0.846800</td>\n      <td>1.009184</td>\n    </tr>\n    <tr>\n      <td>180</td>\n      <td>0.767100</td>\n      <td>1.010336</td>\n    </tr>\n    <tr>\n      <td>190</td>\n      <td>0.819200</td>\n      <td>1.009462</td>\n    </tr>\n    <tr>\n      <td>200</td>\n      <td>0.905000</td>\n      <td>1.007957</td>\n    </tr>\n    <tr>\n      <td>210</td>\n      <td>0.740400</td>\n      <td>1.008159</td>\n    </tr>\n    <tr>\n      <td>220</td>\n      <td>0.732600</td>\n      <td>1.009457</td>\n    </tr>\n    <tr>\n      <td>230</td>\n      <td>0.992200</td>\n      <td>1.008653</td>\n    </tr>\n    <tr>\n      <td>240</td>\n      <td>0.785000</td>\n      <td>1.007824</td>\n    </tr>\n    <tr>\n      <td>250</td>\n      <td>0.705900</td>\n      <td>1.008045</td>\n    </tr>\n  </tbody>\n</table><p>"
     },
     "metadata": {},
     "output_type": "display_data"
    },
    {
     "data": {
      "text/plain": "<IPython.core.display.HTML object>",
      "text/html": "\n    <div>\n      \n      <progress value='261' max='280' style='width:300px; height:20px; vertical-align: middle;'></progress>\n      [261/280 23:33 < 01:43, 0.18 it/s, Epoch 6.50/7]\n    </div>\n    <table border=\"1\" class=\"dataframe\">\n  <thead>\n <tr style=\"text-align: left;\">\n      <th>Step</th>\n      <th>Training Loss</th>\n      <th>Validation Loss</th>\n    </tr>\n  </thead>\n  <tbody>\n    <tr>\n      <td>10</td>\n      <td>1.691600</td>\n      <td>1.660724</td>\n    </tr>\n    <tr>\n      <td>20</td>\n      <td>1.547700</td>\n      <td>1.566546</td>\n    </tr>\n    <tr>\n      <td>30</td>\n      <td>1.486100</td>\n      <td>1.482319</td>\n    </tr>\n    <tr>\n      <td>40</td>\n      <td>1.364900</td>\n      <td>1.410405</td>\n    </tr>\n    <tr>\n      <td>50</td>\n      <td>1.261300</td>\n      <td>1.326472</td>\n    </tr>\n    <tr>\n      <td>60</td>\n      <td>1.261400</td>\n      <td>1.228579</td>\n    </tr>\n    <tr>\n      <td>70</td>\n      <td>1.139200</td>\n      <td>1.141921</td>\n    </tr>\n    <tr>\n      <td>80</td>\n      <td>0.938900</td>\n      <td>1.087079</td>\n    </tr>\n    <tr>\n      <td>90</td>\n      <td>0.856700</td>\n      <td>1.057011</td>\n    </tr>\n    <tr>\n      <td>100</td>\n      <td>1.061000</td>\n      <td>1.039343</td>\n    </tr>\n    <tr>\n      <td>110</td>\n      <td>0.936900</td>\n      <td>1.023442</td>\n    </tr>\n    <tr>\n      <td>120</td>\n      <td>0.851600</td>\n      <td>1.016039</td>\n    </tr>\n    <tr>\n      <td>130</td>\n      <td>0.792600</td>\n      <td>1.013538</td>\n    </tr>\n    <tr>\n      <td>140</td>\n      <td>0.892100</td>\n      <td>1.010995</td>\n    </tr>\n    <tr>\n      <td>150</td>\n      <td>0.973500</td>\n      <td>1.010145</td>\n    </tr>\n    <tr>\n      <td>160</td>\n      <td>0.805100</td>\n      <td>1.008875</td>\n    </tr>\n    <tr>\n      <td>170</td>\n      <td>0.846800</td>\n      <td>1.009184</td>\n    </tr>\n    <tr>\n      <td>180</td>\n      <td>0.767100</td>\n      <td>1.010336</td>\n    </tr>\n    <tr>\n      <td>190</td>\n      <td>0.819200</td>\n      <td>1.009462</td>\n    </tr>\n    <tr>\n      <td>200</td>\n      <td>0.905000</td>\n      <td>1.007957</td>\n    </tr>\n    <tr>\n      <td>210</td>\n      <td>0.740400</td>\n      <td>1.008159</td>\n    </tr>\n    <tr>\n      <td>220</td>\n      <td>0.732600</td>\n      <td>1.009457</td>\n    </tr>\n    <tr>\n      <td>230</td>\n      <td>0.992200</td>\n      <td>1.008653</td>\n    </tr>\n    <tr>\n      <td>240</td>\n      <td>0.785000</td>\n      <td>1.007824</td>\n    </tr>\n    <tr>\n      <td>250</td>\n      <td>0.705900</td>\n      <td>1.008045</td>\n    </tr>\n    <tr>\n      <td>260</td>\n      <td>0.804500</td>\n      <td>1.007570</td>\n    </tr>\n  </tbody>\n</table><p>"
     },
     "metadata": {},
     "output_type": "display_data"
    },
    {
     "data": {
      "text/plain": "<IPython.core.display.HTML object>",
      "text/html": "\n    <div>\n      \n      <progress value='271' max='280' style='width:300px; height:20px; vertical-align: middle;'></progress>\n      [271/280 24:28 < 00:49, 0.18 it/s, Epoch 6.75/7]\n    </div>\n    <table border=\"1\" class=\"dataframe\">\n  <thead>\n <tr style=\"text-align: left;\">\n      <th>Step</th>\n      <th>Training Loss</th>\n      <th>Validation Loss</th>\n    </tr>\n  </thead>\n  <tbody>\n    <tr>\n      <td>10</td>\n      <td>1.691600</td>\n      <td>1.660724</td>\n    </tr>\n    <tr>\n      <td>20</td>\n      <td>1.547700</td>\n      <td>1.566546</td>\n    </tr>\n    <tr>\n      <td>30</td>\n      <td>1.486100</td>\n      <td>1.482319</td>\n    </tr>\n    <tr>\n      <td>40</td>\n      <td>1.364900</td>\n      <td>1.410405</td>\n    </tr>\n    <tr>\n      <td>50</td>\n      <td>1.261300</td>\n      <td>1.326472</td>\n    </tr>\n    <tr>\n      <td>60</td>\n      <td>1.261400</td>\n      <td>1.228579</td>\n    </tr>\n    <tr>\n      <td>70</td>\n      <td>1.139200</td>\n      <td>1.141921</td>\n    </tr>\n    <tr>\n      <td>80</td>\n      <td>0.938900</td>\n      <td>1.087079</td>\n    </tr>\n    <tr>\n      <td>90</td>\n      <td>0.856700</td>\n      <td>1.057011</td>\n    </tr>\n    <tr>\n      <td>100</td>\n      <td>1.061000</td>\n      <td>1.039343</td>\n    </tr>\n    <tr>\n      <td>110</td>\n      <td>0.936900</td>\n      <td>1.023442</td>\n    </tr>\n    <tr>\n      <td>120</td>\n      <td>0.851600</td>\n      <td>1.016039</td>\n    </tr>\n    <tr>\n      <td>130</td>\n      <td>0.792600</td>\n      <td>1.013538</td>\n    </tr>\n    <tr>\n      <td>140</td>\n      <td>0.892100</td>\n      <td>1.010995</td>\n    </tr>\n    <tr>\n      <td>150</td>\n      <td>0.973500</td>\n      <td>1.010145</td>\n    </tr>\n    <tr>\n      <td>160</td>\n      <td>0.805100</td>\n      <td>1.008875</td>\n    </tr>\n    <tr>\n      <td>170</td>\n      <td>0.846800</td>\n      <td>1.009184</td>\n    </tr>\n    <tr>\n      <td>180</td>\n      <td>0.767100</td>\n      <td>1.010336</td>\n    </tr>\n    <tr>\n      <td>190</td>\n      <td>0.819200</td>\n      <td>1.009462</td>\n    </tr>\n    <tr>\n      <td>200</td>\n      <td>0.905000</td>\n      <td>1.007957</td>\n    </tr>\n    <tr>\n      <td>210</td>\n      <td>0.740400</td>\n      <td>1.008159</td>\n    </tr>\n    <tr>\n      <td>220</td>\n      <td>0.732600</td>\n      <td>1.009457</td>\n    </tr>\n    <tr>\n      <td>230</td>\n      <td>0.992200</td>\n      <td>1.008653</td>\n    </tr>\n    <tr>\n      <td>240</td>\n      <td>0.785000</td>\n      <td>1.007824</td>\n    </tr>\n    <tr>\n      <td>250</td>\n      <td>0.705900</td>\n      <td>1.008045</td>\n    </tr>\n    <tr>\n      <td>260</td>\n      <td>0.804500</td>\n      <td>1.007570</td>\n    </tr>\n    <tr>\n      <td>270</td>\n      <td>0.759700</td>\n      <td>1.008016</td>\n    </tr>\n  </tbody>\n</table><p>"
     },
     "metadata": {},
     "output_type": "display_data"
    },
    {
     "data": {
      "text/plain": "<IPython.core.display.HTML object>",
      "text/html": "\n    <div>\n      \n      <progress value='281' max='280' style='width:300px; height:20px; vertical-align: middle;'></progress>\n      [280/280 25:24, Epoch 7/7]\n    </div>\n    <table border=\"1\" class=\"dataframe\">\n  <thead>\n <tr style=\"text-align: left;\">\n      <th>Step</th>\n      <th>Training Loss</th>\n      <th>Validation Loss</th>\n    </tr>\n  </thead>\n  <tbody>\n    <tr>\n      <td>10</td>\n      <td>1.691600</td>\n      <td>1.660724</td>\n    </tr>\n    <tr>\n      <td>20</td>\n      <td>1.547700</td>\n      <td>1.566546</td>\n    </tr>\n    <tr>\n      <td>30</td>\n      <td>1.486100</td>\n      <td>1.482319</td>\n    </tr>\n    <tr>\n      <td>40</td>\n      <td>1.364900</td>\n      <td>1.410405</td>\n    </tr>\n    <tr>\n      <td>50</td>\n      <td>1.261300</td>\n      <td>1.326472</td>\n    </tr>\n    <tr>\n      <td>60</td>\n      <td>1.261400</td>\n      <td>1.228579</td>\n    </tr>\n    <tr>\n      <td>70</td>\n      <td>1.139200</td>\n      <td>1.141921</td>\n    </tr>\n    <tr>\n      <td>80</td>\n      <td>0.938900</td>\n      <td>1.087079</td>\n    </tr>\n    <tr>\n      <td>90</td>\n      <td>0.856700</td>\n      <td>1.057011</td>\n    </tr>\n    <tr>\n      <td>100</td>\n      <td>1.061000</td>\n      <td>1.039343</td>\n    </tr>\n    <tr>\n      <td>110</td>\n      <td>0.936900</td>\n      <td>1.023442</td>\n    </tr>\n    <tr>\n      <td>120</td>\n      <td>0.851600</td>\n      <td>1.016039</td>\n    </tr>\n    <tr>\n      <td>130</td>\n      <td>0.792600</td>\n      <td>1.013538</td>\n    </tr>\n    <tr>\n      <td>140</td>\n      <td>0.892100</td>\n      <td>1.010995</td>\n    </tr>\n    <tr>\n      <td>150</td>\n      <td>0.973500</td>\n      <td>1.010145</td>\n    </tr>\n    <tr>\n      <td>160</td>\n      <td>0.805100</td>\n      <td>1.008875</td>\n    </tr>\n    <tr>\n      <td>170</td>\n      <td>0.846800</td>\n      <td>1.009184</td>\n    </tr>\n    <tr>\n      <td>180</td>\n      <td>0.767100</td>\n      <td>1.010336</td>\n    </tr>\n    <tr>\n      <td>190</td>\n      <td>0.819200</td>\n      <td>1.009462</td>\n    </tr>\n    <tr>\n      <td>200</td>\n      <td>0.905000</td>\n      <td>1.007957</td>\n    </tr>\n    <tr>\n      <td>210</td>\n      <td>0.740400</td>\n      <td>1.008159</td>\n    </tr>\n    <tr>\n      <td>220</td>\n      <td>0.732600</td>\n      <td>1.009457</td>\n    </tr>\n    <tr>\n      <td>230</td>\n      <td>0.992200</td>\n      <td>1.008653</td>\n    </tr>\n    <tr>\n      <td>240</td>\n      <td>0.785000</td>\n      <td>1.007824</td>\n    </tr>\n    <tr>\n      <td>250</td>\n      <td>0.705900</td>\n      <td>1.008045</td>\n    </tr>\n    <tr>\n      <td>260</td>\n      <td>0.804500</td>\n      <td>1.007570</td>\n    </tr>\n    <tr>\n      <td>270</td>\n      <td>0.759700</td>\n      <td>1.008016</td>\n    </tr>\n    <tr>\n      <td>280</td>\n      <td>0.929000</td>\n      <td>1.008544</td>\n    </tr>\n  </tbody>\n</table><p>"
     },
     "metadata": {},
     "output_type": "display_data"
    },
    {
     "data": {
      "text/plain": "<IPython.core.display.HTML object>",
      "text/html": "\n    <div>\n      \n      <progress value='280' max='280' style='width:300px; height:20px; vertical-align: middle;'></progress>\n      [280/280 25:30, Epoch 7/7]\n    </div>\n    <table border=\"1\" class=\"dataframe\">\n  <thead>\n <tr style=\"text-align: left;\">\n      <th>Step</th>\n      <th>Training Loss</th>\n      <th>Validation Loss</th>\n    </tr>\n  </thead>\n  <tbody>\n    <tr>\n      <td>10</td>\n      <td>1.691600</td>\n      <td>1.660724</td>\n    </tr>\n    <tr>\n      <td>20</td>\n      <td>1.547700</td>\n      <td>1.566546</td>\n    </tr>\n    <tr>\n      <td>30</td>\n      <td>1.486100</td>\n      <td>1.482319</td>\n    </tr>\n    <tr>\n      <td>40</td>\n      <td>1.364900</td>\n      <td>1.410405</td>\n    </tr>\n    <tr>\n      <td>50</td>\n      <td>1.261300</td>\n      <td>1.326472</td>\n    </tr>\n    <tr>\n      <td>60</td>\n      <td>1.261400</td>\n      <td>1.228579</td>\n    </tr>\n    <tr>\n      <td>70</td>\n      <td>1.139200</td>\n      <td>1.141921</td>\n    </tr>\n    <tr>\n      <td>80</td>\n      <td>0.938900</td>\n      <td>1.087079</td>\n    </tr>\n    <tr>\n      <td>90</td>\n      <td>0.856700</td>\n      <td>1.057011</td>\n    </tr>\n    <tr>\n      <td>100</td>\n      <td>1.061000</td>\n      <td>1.039343</td>\n    </tr>\n    <tr>\n      <td>110</td>\n      <td>0.936900</td>\n      <td>1.023442</td>\n    </tr>\n    <tr>\n      <td>120</td>\n      <td>0.851600</td>\n      <td>1.016039</td>\n    </tr>\n    <tr>\n      <td>130</td>\n      <td>0.792600</td>\n      <td>1.013538</td>\n    </tr>\n    <tr>\n      <td>140</td>\n      <td>0.892100</td>\n      <td>1.010995</td>\n    </tr>\n    <tr>\n      <td>150</td>\n      <td>0.973500</td>\n      <td>1.010145</td>\n    </tr>\n    <tr>\n      <td>160</td>\n      <td>0.805100</td>\n      <td>1.008875</td>\n    </tr>\n    <tr>\n      <td>170</td>\n      <td>0.846800</td>\n      <td>1.009184</td>\n    </tr>\n    <tr>\n      <td>180</td>\n      <td>0.767100</td>\n      <td>1.010336</td>\n    </tr>\n    <tr>\n      <td>190</td>\n      <td>0.819200</td>\n      <td>1.009462</td>\n    </tr>\n    <tr>\n      <td>200</td>\n      <td>0.905000</td>\n      <td>1.007957</td>\n    </tr>\n    <tr>\n      <td>210</td>\n      <td>0.740400</td>\n      <td>1.008159</td>\n    </tr>\n    <tr>\n      <td>220</td>\n      <td>0.732600</td>\n      <td>1.009457</td>\n    </tr>\n    <tr>\n      <td>230</td>\n      <td>0.992200</td>\n      <td>1.008653</td>\n    </tr>\n    <tr>\n      <td>240</td>\n      <td>0.785000</td>\n      <td>1.007824</td>\n    </tr>\n    <tr>\n      <td>250</td>\n      <td>0.705900</td>\n      <td>1.008045</td>\n    </tr>\n    <tr>\n      <td>260</td>\n      <td>0.804500</td>\n      <td>1.007570</td>\n    </tr>\n    <tr>\n      <td>270</td>\n      <td>0.759700</td>\n      <td>1.008016</td>\n    </tr>\n    <tr>\n      <td>280</td>\n      <td>0.929000</td>\n      <td>1.008544</td>\n    </tr>\n  </tbody>\n</table><p>"
     },
     "metadata": {},
     "output_type": "display_data"
    },
    {
     "data": {
      "text/plain": "TrainOutput(global_step=280, training_loss=0.9874170337404523, metrics={'train_runtime': 1536.9241, 'train_samples_per_second': 0.182, 'train_steps_per_second': 0.182, 'total_flos': 1.430470698467328e+16, 'train_loss': 0.9874170337404523, 'epoch': 7.0})"
     },
     "execution_count": 28,
     "metadata": {},
     "output_type": "execute_result"
    }
   ],
   "source": [
    "import transformers\n",
    "\n",
    "project = \"Monologue-finetune\"\n",
    "base_model_name = \"llama2\"\n",
    "run_name = base_model_name + \"-\" + project\n",
    "output_dir = \"./\" + run_name\n",
    "\n",
    "trainer = transformers.Trainer(\n",
    "    model=model,\n",
    "    train_dataset=tokenized_train_dataset[\"train\"],\n",
    "    eval_dataset=tokenized_val_dataset[\"train\"],\n",
    "    args=transformers.TrainingArguments(\n",
    "        output_dir=output_dir,\n",
    "        warmup_steps=1,\n",
    "        per_device_train_batch_size=1,\n",
    "        gradient_accumulation_steps=1,\n",
    "        gradient_checkpointing=True,\n",
    "        max_steps=280,\n",
    "        learning_rate=5.5e-6,  # Want a small lr for finetuning\n",
    "        bf16=True,\n",
    "        optim=\"paged_adamw_8bit\",\n",
    "        logging_steps=10,  # When to start reporting loss\n",
    "        logging_dir=\"./logs\",  # Directory for storing logs\n",
    "        save_strategy=\"steps\",  # Save the model checkpoint every logging step\n",
    "        save_steps=10,  # Save checkpoints every 50 steps\n",
    "        evaluation_strategy=\"steps\",  # Evaluate the model every logging step\n",
    "        eval_steps=10,  # Evaluate and save checkpoints every 50 steps\n",
    "\n",
    "\n",
    "    ),\n",
    "    data_collator=transformers.DataCollatorForLanguageModeling(tokenizer, mlm=False),\n",
    ")\n",
    "\n",
    "model.config.use_cache = False  # silence the warnings. Please re-enable for inference!\n",
    "trainer.train()"
   ]
  },
  {
   "cell_type": "code",
   "outputs": [
    {
     "data": {
      "text/plain": "<Figure size 1000x600 with 1 Axes>",
      "image/png": "[encoded data removed]"
     },
     "metadata": {},
     "output_type": "display_data"
    }
   ],
   "source": [
    "#generate the diagrams for the training\n",
    "import pandas as pd\n",
    "import matplotlib.pyplot as plt\n",
    "\n",
    "# Load the data\n",
    "data = {\n",
    "    \"Step\": [10, 20, 30, 40, 50, 60, 70, 80, 90, 100, 110, 120, 130, 140, 150,\n",
    "             160, 170, 180, 190, 200, 210, 220, 230, 240, 250, 260, 270, 280],\n",
    "    \"Training Loss\": [1.691600, 1.547700, 1.486100, 1.364900, 1.261300, 1.261400,\n",
    "                      1.139200, 0.938900, 0.856700, 1.061000, 0.936900, 0.851600,\n",
    "                      0.792600, 0.892100, 0.973500, 0.805100, 0.846800, 0.767100,\n",
    "                      0.819200, 0.905000, 0.740400, 0.732600, 0.992200, 0.785000,\n",
    "                      0.705900, 0.804500, 0.759700, 0.929000],\n",
    "    \"Validation Loss\": [1.660724, 1.566546, 1.482319, 1.410405, 1.326472, 1.228579,\n",
    "                        1.141921, 1.087079, 1.057011, 1.039343, 1.023442, 1.016039,\n",
    "                        1.013538, 1.010995, 1.010145, 1.008875, 1.009184, 1.010336,\n",
    "                        1.009462, 1.007957, 1.008159, 1.009457, 1.008653, 1.007824,\n",
    "                        1.008045, 1.007570, 1.008016, 1.008544]\n",
    "}\n",
    "\n",
    "df = pd.DataFrame(data)\n",
    "\n",
    "# Plotting the data\n",
    "plt.figure(figsize=(10, 6))\n",
    "plt.plot(df[\"Step\"], df[\"Training Loss\"], label='Training Loss', marker='o')\n",
    "plt.plot(df[\"Step\"], df[\"Validation Loss\"], label='Validation Loss', marker='o')\n",
    "plt.title('Training and Validation Loss per Step')\n",
    "plt.xlabel('Step')\n",
    "plt.ylabel('Loss')\n",
    "plt.legend()\n",
    "plt.grid(True)\n",
    "plt.tight_layout()\n",
    "plt.show()\n"
   ],
   "metadata": {
    "collapsed": false,
    "ExecuteTime": {
     "end_time": "2024-06-16T14:21:41.961087Z",
     "start_time": "2024-06-16T14:21:41.782003100Z"
    }
   },
   "id": "ac09349239546ce2",
   "execution_count": 29
  },
  {
   "cell_type": "code",
   "outputs": [
    {
     "data": {
      "text/plain": "Loading checkpoint shards:   0%|          | 0/2 [00:00<?, ?it/s]",
      "application/vnd.jupyter.widget-view+json": {
       "version_major": 2,
       "version_minor": 0,
       "model_id": "ff398f80769a49f2aadaea396c0cb5d6"
      }
     },
     "metadata": {},
     "output_type": "display_data"
    }
   ],
   "source": [
    "import torch\n",
    "from transformers import AutoTokenizer, AutoModelForCausalLM, BitsAndBytesConfig\n",
    "\n",
    "base_model_id = \"meta-llama/Llama-2-7b-hf\"\n",
    "bnb_config = BitsAndBytesConfig(\n",
    "    load_in_4bit=True,\n",
    "    bnb_4bit_use_double_quant=True,\n",
    "    bnb_4bit_quant_type=\"nf4\",\n",
    "    bnb_4bit_compute_dtype=torch.bfloat16\n",
    ")\n",
    "\n",
    "base_model = AutoModelForCausalLM.from_pretrained(\n",
    "    base_model_id,  # Mistral, same as before\n",
    "    quantization_config=bnb_config,  # Same quantization config as before\n",
    "    device_map=\"auto\",\n",
    "    trust_remote_code=True,\n",
    ")\n",
    "\n",
    "eval_tokenizer = AutoTokenizer.from_pretrained(base_model_id, add_bos_token=True, trust_remote_code=True)"
   ],
   "metadata": {
    "collapsed": false,
    "ExecuteTime": {
     "end_time": "2024-06-16T22:04:05.810056700Z",
     "start_time": "2024-06-16T22:03:34.762132100Z"
    }
   },
   "id": "ea90e93a904c5d4a",
   "execution_count": 1
  },
  {
   "cell_type": "code",
   "execution_count": 4,
   "id": "e154dc87f95c4f41",
   "metadata": {
    "collapsed": false,
    "ExecuteTime": {
     "end_time": "2024-06-16T22:04:45.893488Z",
     "start_time": "2024-06-16T22:04:42.606093500Z"
    }
   },
   "outputs": [],
   "source": [
    "from peft import PeftModel\n",
    "\n",
    "ft_model = PeftModel.from_pretrained(base_model, \"llama2-Monologue-finetune/checkpoint-200\")"
   ]
  },
  {
   "cell_type": "code",
   "execution_count": 68,
   "id": "16f5ddad06c7fa1b",
   "metadata": {
    "collapsed": false,
    "ExecuteTime": {
     "end_time": "2024-06-16T23:03:00.233948Z",
     "start_time": "2024-06-16T23:02:37.739485700Z"
    }
   },
   "outputs": [
    {
     "name": "stdout",
     "output_type": "stream",
     "text": [
      "\n",
      "In the following text, there is a description about introductory monologues in a video game. The text will be enclosed within <START> and <END>. There are specific rules that apply only to the text: the title of the current game will always be enclosed inside <TITLE> and </TITLE>, the monologue will always be enclosed inside <MONO> and </MONO>, and the context will be enclosed inside <CONTEXT> and </CONTEXT>. Your task is to generate the missing monologue between the <MONO> and </MONO> tags inside the provided text.\n",
      "\n",
      "<START>\n",
      "In video games, sometimes there is an introductory monologue delivered by a narrator. The narrator can either be an unknown narrator or a character that exists within the game, and they introduce the Player to the world, the story, and the setting of the game with the assistance of an introductory monologue. \n",
      "\n",
      "This monologue is based on the game's setting, world, story, and the Player's role in the game. Here is some context describing these elements about the game called <TITLE>Elden Ring</TITLE>:\n",
      "\n",
      "<CONTEXT>In <TITLE>Elden Ring</TITLE>, the introductory monologue delivered by a narrator sets the stage for the game's epic dark fantasy narrative. The player takes on the role of a Tarnished, one of the dead who yet live, called back to the Lands Between to restore the fractured world. The once-great Elden Ring has been shattered, and Queen Marika the Eternal has disappeared. On the Night of the Black Knives, the demigod Godwin the Golden was the first to fall, leading Marika's demigod offspring to seize the shards of the Elden Ring. Their newfound power triggered the Shattering, a catastrophic war that left the Lands Between in chaos and abandoned by the Greater Will. The Tarnished, including chieftains, sorcerers, and other notable figures, are beckoned by the call of long-lost grace to reclaim their destiny. As a Tarnished of no renown, the player must cross the fog to the Lands Between, face formidable foes, and seek to reunite the Elden Ring, ultimately striving to become the Elden Lord. The game explores themes of power, legacy, and redemption in a richly detailed and mysterious world.</CONTEXT>\n",
      "    \n",
      "<TITLE>Elden Ring</TITLE>'s introductory monologue is as follows:\n",
      "\n",
      "<END>\n",
      "\n",
      "Please remember to generate the introductory monologue.\n",
      "\n",
      "The generated introductory monologue should be plain text without any special characters or tags.\n",
      "\n",
      "The generated introductory monologue should be large \n",
      "\n",
      "The introductory monologue should not start by addressing the player directly and should not contain the name of the game.\n",
      "\n",
      "Do not use the line \"Welcome traveler\" or its abbreviations as the first line of the monologue.\n",
      "\n",
      "The generated introductory monologue should feel like a natural introduction to the game world described in the context.\n",
      "\n",
      "Generated monologue:\n",
      "```txt\n",
      "You have awakened from slumber... You were summoned here by something greater than yourself. A great darkness looms over this land, where even the gods themselves fell. Once upon a time, the mighty Elden Ring held together all creation - but now it lies broken into pieces scattered across the lands beyond. Long ago, during the night known as the 'Night of the Black Knife', the golden god named Godwin fell before his siblings seized control of the fragments of the Elden Ring. This led to a terrible conflict which came to be known as the Great Collapse; the entirety of Creation was plunged into ruin. Now you stand among those chosen ones whose souls still retain traces of divine grace. For ages past, your ancestors lived forgotten lives until finally, at last, you too have received the summons calling out to you. Cross through the veil of mist covering the distant horizon and set foot onto the path towards becoming the next ruler of the Elden World!\n"
     ]
    }
   ],
   "source": [
    "eval_prompt = (f\"\"\"\n",
    "In the following text, there is a description about introductory monologues in a video game. The text will be enclosed within <START> and <END>. There are specific rules that apply only to the text: the title of the current game will always be enclosed inside <TITLE> and </TITLE>, the monologue will always be enclosed inside <MONO> and </MONO>, and the context will be enclosed inside <CONTEXT> and </CONTEXT>. Your task is to generate the missing monologue between the <MONO> and </MONO> tags inside the provided text.\n",
    "\n",
    "<START>\n",
    "In video games, sometimes there is an introductory monologue delivered by a narrator. The narrator can either be an unknown narrator or a character that exists within the game, and they introduce the Player to the world, the story, and the setting of the game with the assistance of an introductory monologue. \n",
    "\n",
    "This monologue is based on the game's setting, world, story, and the Player's role in the game. Here is some context describing these elements about the game called <TITLE>Elden Ring</TITLE>:\n",
    "\n",
    "<CONTEXT>In <TITLE>Elden Ring</TITLE>, the introductory monologue delivered by a narrator sets the stage for the game's epic dark fantasy narrative. The player takes on the role of a Tarnished, one of the dead who yet live, called back to the Lands Between to restore the fractured world. The once-great Elden Ring has been shattered, and Queen Marika the Eternal has disappeared. On the Night of the Black Knives, the demigod Godwin the Golden was the first to fall, leading Marika's demigod offspring to seize the shards of the Elden Ring. Their newfound power triggered the Shattering, a catastrophic war that left the Lands Between in chaos and abandoned by the Greater Will. The Tarnished, including chieftains, sorcerers, and other notable figures, are beckoned by the call of long-lost grace to reclaim their destiny. As a Tarnished of no renown, the player must cross the fog to the Lands Between, face formidable foes, and seek to reunite the Elden Ring, ultimately striving to become the Elden Lord. The game explores themes of power, legacy, and redemption in a richly detailed and mysterious world.</CONTEXT>\n",
    "    \n",
    "<TITLE>Elden Ring</TITLE>'s introductory monologue is as follows:\n",
    "\n",
    "<END>\n",
    "\n",
    "Please remember to generate the introductory monologue.\n",
    "\n",
    "The generated introductory monologue should be plain text without any special characters or tags.\n",
    "\n",
    "The generated introductory monologue should be large \n",
    "\n",
    "The introductory monologue should not start by addressing the player directly and should not contain the name of the game.\n",
    "\n",
    "Do not use the line \"Welcome traveler\" or its abbreviations as the first line of the monologue.\n",
    "\n",
    "The generated introductory monologue should feel like a natural introduction to the game world described in the context.\n",
    "\n",
    "Generated monologue:\n",
    "\"\"\"\n",
    ")\n",
    "model_input = eval_tokenizer(eval_prompt, return_tensors=\"pt\").to(\"cuda\")\n",
    "\n",
    "ft_model.eval()\n",
    "with torch.no_grad():\n",
    "    print(eval_tokenizer.decode(ft_model.generate(**model_input, max_new_tokens=2000, repetition_penalty=1.25, temperature=0.3, top_p=0.6)[0],\n",
    "                                skip_special_tokens=True))"
   ]
  },
  {
   "cell_type": "code",
   "outputs": [],
   "source": [
    "def evaluation_func(example):\n",
    "    \n",
    "    return f\"\"\"\n",
    "In the following text, there is a description about introductory monologues in a video game. The text will be enclosed within <START> and <END>. There are specific rules that apply only to the text: the title of the current game will always be enclosed inside <TITLE> and </TITLE>, the monologue will always be enclosed inside <MONO> and </MONO>, and the context will be enclosed inside <CONTEXT> and </CONTEXT>.Your task is to generate the missing monologue between the <MONO> and </MONO> tags inside the provided text.\n",
    "\n",
    "<START>\n",
    "In video games, sometimes there is an introductory monologue delivered by a narrator. The narrator can either be an unknown narrator or a character that exists within the game, and they introduce the Player to the world, the story, and the setting of the game with the assistance of an introductory monologue. \n",
    "\n",
    "This monologue is based on the game's setting, world, story, and the Player's role in the game. Here is some context describing these elements about the game called <TITLE>{example['Game']}</TITLE>:\n",
    "\n",
    "<CONTEXT>{example['Context']}</CONTEXT>\n",
    "    \n",
    "<TITLE>{example['Game']}</TITLE>'s introductory monologue is as follows:\n",
    "\n",
    "<END>\n",
    "\n",
    "Please remember to generate the introductory monologue.\n",
    "\n",
    "Generated monologue:\n",
    "\n",
    "\"\"\""
   ],
   "metadata": {
    "collapsed": false,
    "ExecuteTime": {
     "end_time": "2024-06-17T00:31:30.753876900Z",
     "start_time": "2024-06-17T00:31:30.694861500Z"
    }
   },
   "id": "188a7280b29173a8",
   "execution_count": 259
  },
  {
   "cell_type": "code",
   "outputs": [],
   "source": [
    "import pandas as pd\n",
    " # Create an evaluation data frame for each example in the test dataset\n",
    "eval_df = pd.DataFrame(test_dataset['train'])\n",
    "eval_df['description'] = eval_df.apply(evaluation_func, axis=1)"
   ],
   "metadata": {
    "collapsed": false,
    "ExecuteTime": {
     "end_time": "2024-06-17T00:31:33.393102700Z",
     "start_time": "2024-06-17T00:31:33.382815400Z"
    }
   },
   "id": "71d4c54c7ee90baa",
   "execution_count": 260
  },
  {
   "cell_type": "code",
   "outputs": [],
   "source": [
    "# create a new dataframe from the Dialogue column of the eval_df\n",
    "test_monologues = eval_df['Monologue']"
   ],
   "metadata": {
    "collapsed": false,
    "ExecuteTime": {
     "end_time": "2024-06-17T00:31:33.705725900Z",
     "start_time": "2024-06-17T00:31:33.694217600Z"
    }
   },
   "id": "39246a2ed90bec3b",
   "execution_count": 261
  },
  {
   "cell_type": "code",
   "outputs": [],
   "source": [
    "eval_df = eval_df[['description']]"
   ],
   "metadata": {
    "collapsed": false,
    "ExecuteTime": {
     "end_time": "2024-06-17T00:31:34.991257700Z",
     "start_time": "2024-06-17T00:31:34.976221800Z"
    }
   },
   "id": "82aa554cb2729b07",
   "execution_count": 262
  },
  {
   "cell_type": "code",
   "outputs": [
    {
     "data": {
      "text/plain": "                                         description\n0  \\nIn the following text, there is a descriptio...\n1  \\nIn the following text, there is a descriptio...\n2  \\nIn the following text, there is a descriptio...\n3  \\nIn the following text, there is a descriptio...\n4  \\nIn the following text, there is a descriptio...",
      "text/html": "<div>\n<style scoped>\n    .dataframe tbody tr th:only-of-type {\n        vertical-align: middle;\n    }\n\n    .dataframe tbody tr th {\n        vertical-align: top;\n    }\n\n    .dataframe thead th {\n        text-align: right;\n    }\n</style>\n<table border=\"1\" class=\"dataframe\">\n  <thead>\n    <tr style=\"text-align: right;\">\n      <th></th>\n      <th>description</th>\n    </tr>\n  </thead>\n  <tbody>\n    <tr>\n      <th>0</th>\n      <td>\\nIn the following text, there is a descriptio...</td>\n    </tr>\n    <tr>\n      <th>1</th>\n      <td>\\nIn the following text, there is a descriptio...</td>\n    </tr>\n    <tr>\n      <th>2</th>\n      <td>\\nIn the following text, there is a descriptio...</td>\n    </tr>\n    <tr>\n      <th>3</th>\n      <td>\\nIn the following text, there is a descriptio...</td>\n    </tr>\n    <tr>\n      <th>4</th>\n      <td>\\nIn the following text, there is a descriptio...</td>\n    </tr>\n  </tbody>\n</table>\n</div>"
     },
     "execution_count": 263,
     "metadata": {},
     "output_type": "execute_result"
    }
   ],
   "source": [
    "eval_df"
   ],
   "metadata": {
    "collapsed": false,
    "ExecuteTime": {
     "end_time": "2024-06-17T00:31:36.193042800Z",
     "start_time": "2024-06-17T00:31:36.177039400Z"
    }
   },
   "id": "b4bb35650519ba9b",
   "execution_count": 263
  },
  {
   "cell_type": "code",
   "outputs": [
    {
     "name": "stdout",
     "output_type": "stream",
     "text": [
      "\n",
      "In the following text, there is a description about introductory monologues in a video game. The text will be enclosed within <START> and <END>. There are specific rules that apply only to the text: the title of the current game will always be enclosed inside <TITLE> and </TITLE>, the monologue will always be enclosed inside <MONO> and </MONO>, and the context will be enclosed inside <CONTEXT> and </CONTEXT>.Your task is to generate the missing monologue between the <MONO> and </MONO> tags inside the provided text.\n",
      "\n",
      "<START>\n",
      "In video games, sometimes there is an introductory monologue delivered by a narrator. The narrator can either be an unknown narrator or a character that exists within the game, and they introduce the Player to the world, the story, and the setting of the game with the assistance of an introductory monologue. \n",
      "\n",
      "This monologue is based on the game's setting, world, story, and the Player's role in the game. Here is some context describing these elements about the game called <TITLE>Dark Souls</TITLE>:\n",
      "\n",
      "<CONTEXT>In <TITLE>Dark Souls</TITLE>, the introductory monologue is delivered by an unseen narrator, setting the stage for the game's dark and mythic narrative. The story begins in the Age of Ancients, a time when the world was unformed and shrouded by fog, populated by gray crags, Archtrees, and Everlasting Dragons. Then, Fire emerged, bringing disparity--heat and cold, life and death, light and dark. From the dark, powerful beings found the Souls of Lords within the flame. With their newfound strength, they challenged the Dragons, leading to the Age of Fire. However, the flames are fading, and darkness threatens to take over. Now, only embers remain, and humanity is left in endless night. Among the living are those branded with the accursed Darksign. Players assume the role of an Undead, branded by the Darksign and corralled to the north, where they are locked away to await the end of the world. This is your fate. As the Undead, you must navigate a perilous world, uncover its deep lore, and seek to rekindle the fading flames, battling formidable foes and overcoming tremendous challenges along the way.</CONTEXT>\n",
      "    \n",
      "<TITLE>Dark Souls</TITLE>'s introductory monologue is as follows:\n",
      "\n",
      "<END>\n",
      "\n",
      "Please remember to generate the introductory monologue.\n",
      "\n",
      "Please generate a large introductory monologue in plain text without special characters or tags, avoiding the phrase \"Welcome traveler.\" Ensure it naturally introduces the game world described in the context.\n",
      "\n",
      "Generated monologue:\n",
      "\n",
      "The age before fire began long ago, during which this land was covered in thick mist and inhabited solely by great trees known as archtrees and ever-living dragonflies. Into such times came forth from the earth a race of men who were born into the world through the power of fire. These people became strong enough to challenge even mighty creatures like the ever-living dragons. And so did mankind begin the era of fire. But nowadays, all we have remaining are mere sparks; our civilization has been reduced to nothing but ruins. Those among us who bear upon them the mark of the undying are destined to live out eternal lives in perpetual isolation atop high mountains far off to the northern reaches. For what remains after the fires fade? Only despair...and darkness.\n"
     ]
    }
   ],
   "source": [
    "#make the model generate answers for the first monologue in the eval_df\n",
    "model_input = eval_tokenizer(eval_df['description'][1], return_tensors=\"pt\").to(\"cuda\")\n",
    "ft_model.eval()\n",
    "with torch.no_grad():\n",
    "    answer = eval_tokenizer.decode(ft_model.generate(**model_input, max_new_tokens=2000, repetition_penalty=1.25, temperature=0.3, top_p=0.6)[0],\n",
    "                                skip_special_tokens=True)\n",
    "    print(answer)"
   ],
   "metadata": {
    "collapsed": false,
    "ExecuteTime": {
     "end_time": "2024-06-17T00:29:06.774315300Z",
     "start_time": "2024-06-17T00:28:48.396771500Z"
    }
   },
   "id": "ce674ed2ddeea8c",
   "execution_count": 257
  },
  {
   "cell_type": "code",
   "outputs": [],
   "source": [
    "#for each element in the eval_df, generate an answer from the model\n",
    "answers = []"
   ],
   "metadata": {
    "collapsed": false,
    "ExecuteTime": {
     "end_time": "2024-06-17T01:16:45.685284400Z",
     "start_time": "2024-06-17T01:16:45.651769500Z"
    }
   },
   "id": "c05c7ba19eb67fc8",
   "execution_count": 322
  },
  {
   "cell_type": "code",
   "outputs": [],
   "source": [
    " #make the model generate answers for all the dialogues in the eval_df\n",
    "for i in range(0, len(eval_df)):\n",
    "    model_input = eval_tokenizer(eval_df['description'][i], return_tensors=\"pt\").to(\"cuda\")\n",
    "    ft_model.eval()\n",
    "    with torch.no_grad():\n",
    "        answer = eval_tokenizer.decode(ft_model.generate(**model_input, max_new_tokens=2000, repetition_penalty=1.25, temperature=0.3, top_p=0.7)[0],\n",
    "                                skip_special_tokens=True)\n",
    "        answers.append(answer)"
   ],
   "metadata": {
    "collapsed": false,
    "ExecuteTime": {
     "end_time": "2024-06-17T01:17:31.621614500Z",
     "start_time": "2024-06-17T01:16:46.212316Z"
    }
   },
   "id": "4b33017a0f8fce03",
   "execution_count": 323
  },
  {
   "cell_type": "code",
   "outputs": [
    {
     "data": {
      "text/plain": "5"
     },
     "execution_count": 324,
     "metadata": {},
     "output_type": "execute_result"
    }
   ],
   "source": [
    " len(answers)"
   ],
   "metadata": {
    "collapsed": false,
    "ExecuteTime": {
     "end_time": "2024-06-17T01:17:31.625857500Z",
     "start_time": "2024-06-17T01:17:31.624351400Z"
    }
   },
   "id": "f22c08286ca5f1da",
   "execution_count": 324
  },
  {
   "cell_type": "code",
   "outputs": [],
   "source": [
    "#make the answers into a dataframe\n",
    "answers_df = pd.DataFrame(answers, columns=['Monologue'])\n",
    "#export the answers to an excel file\n",
    "answers_df.to_excel('Llama2_Monologues_Full.xlsx', index=False)"
   ],
   "metadata": {
    "collapsed": false,
    "ExecuteTime": {
     "end_time": "2024-06-17T01:17:31.696149700Z",
     "start_time": "2024-06-17T01:17:31.626857800Z"
    }
   },
   "id": "1ba6ab9f088d369",
   "execution_count": 325
  },
  {
   "cell_type": "code",
   "outputs": [
    {
     "data": {
      "text/plain": "                                           Monologue\n0  \\nIn the following text, there is a descriptio...\n1  \\nIn the following text, there is a descriptio...\n2  \\nIn the following text, there is a descriptio...\n3  \\nIn the following text, there is a descriptio...\n4  \\nIn the following text, there is a descriptio...",
      "text/html": "<div>\n<style scoped>\n    .dataframe tbody tr th:only-of-type {\n        vertical-align: middle;\n    }\n\n    .dataframe tbody tr th {\n        vertical-align: top;\n    }\n\n    .dataframe thead th {\n        text-align: right;\n    }\n</style>\n<table border=\"1\" class=\"dataframe\">\n  <thead>\n    <tr style=\"text-align: right;\">\n      <th></th>\n      <th>Monologue</th>\n    </tr>\n  </thead>\n  <tbody>\n    <tr>\n      <th>0</th>\n      <td>\\nIn the following text, there is a descriptio...</td>\n    </tr>\n    <tr>\n      <th>1</th>\n      <td>\\nIn the following text, there is a descriptio...</td>\n    </tr>\n    <tr>\n      <th>2</th>\n      <td>\\nIn the following text, there is a descriptio...</td>\n    </tr>\n    <tr>\n      <th>3</th>\n      <td>\\nIn the following text, there is a descriptio...</td>\n    </tr>\n    <tr>\n      <th>4</th>\n      <td>\\nIn the following text, there is a descriptio...</td>\n    </tr>\n  </tbody>\n</table>\n</div>"
     },
     "execution_count": 298,
     "metadata": {},
     "output_type": "execute_result"
    }
   ],
   "source": [
    "#import the answers from the excel file answes_test.xlsx with a column named Dialogue\n",
    "answers_df = pd.read_excel('Llama2_Monologues_Full.xlsx')\n",
    "#name the column Dialogue\n",
    "answers_df.columns = ['Monologue']\n",
    "answers_df"
   ],
   "metadata": {
    "collapsed": false,
    "ExecuteTime": {
     "end_time": "2024-06-17T00:59:13.299093Z",
     "start_time": "2024-06-17T00:59:13.056108100Z"
    }
   },
   "id": "9012e6e068435f81",
   "execution_count": 298
  },
  {
   "cell_type": "code",
   "outputs": [],
   "source": [
    "#for each line in the answers_df, keep only the text after the Answer: tag\n",
    "answers_df['Monologue'] = answers_df['Monologue'].str.split('Generated monologue:').str[1]"
   ],
   "metadata": {
    "collapsed": false,
    "ExecuteTime": {
     "end_time": "2024-06-17T01:00:25.749535Z",
     "start_time": "2024-06-17T01:00:25.572564700Z"
    }
   },
   "id": "52ac7453493b3b80",
   "execution_count": 303
  },
  {
   "cell_type": "code",
   "outputs": [
    {
     "data": {
      "text/plain": "                                           Monologue\n0  \\n\\n\"The age-old art of war has evolved over t...\n1  \\n\\nThe age before this one began long ago. It...\n2  \\n\\n\"The galaxy has been searching since befor...\n3  \\n\\nThe wind whispers secrets from beyond deat...\n4  \\n\\nThe year is 2146, two hundred years after ...",
      "text/html": "<div>\n<style scoped>\n    .dataframe tbody tr th:only-of-type {\n        vertical-align: middle;\n    }\n\n    .dataframe tbody tr th {\n        vertical-align: top;\n    }\n\n    .dataframe thead th {\n        text-align: right;\n    }\n</style>\n<table border=\"1\" class=\"dataframe\">\n  <thead>\n    <tr style=\"text-align: right;\">\n      <th></th>\n      <th>Monologue</th>\n    </tr>\n  </thead>\n  <tbody>\n    <tr>\n      <th>0</th>\n      <td>\\n\\n\"The age-old art of war has evolved over t...</td>\n    </tr>\n    <tr>\n      <th>1</th>\n      <td>\\n\\nThe age before this one began long ago. It...</td>\n    </tr>\n    <tr>\n      <th>2</th>\n      <td>\\n\\n\"The galaxy has been searching since befor...</td>\n    </tr>\n    <tr>\n      <th>3</th>\n      <td>\\n\\nThe wind whispers secrets from beyond deat...</td>\n    </tr>\n    <tr>\n      <th>4</th>\n      <td>\\n\\nThe year is 2146, two hundred years after ...</td>\n    </tr>\n  </tbody>\n</table>\n</div>"
     },
     "execution_count": 304,
     "metadata": {},
     "output_type": "execute_result"
    }
   ],
   "source": [
    "answers_df"
   ],
   "metadata": {
    "collapsed": false,
    "ExecuteTime": {
     "end_time": "2024-06-17T01:00:35.864024400Z",
     "start_time": "2024-06-17T01:00:35.840426700Z"
    }
   },
   "id": "e5f248355df5dc9f",
   "execution_count": 304
  },
  {
   "cell_type": "code",
   "outputs": [],
   "source": [
    "#export the answers to an excel file\n",
    "answers_df.to_excel('Llama2_Monologue_Answers_Only.xlsx', index=False)"
   ],
   "metadata": {
    "collapsed": false,
    "ExecuteTime": {
     "end_time": "2024-06-17T01:00:43.676520800Z",
     "start_time": "2024-06-17T01:00:43.650968700Z"
    }
   },
   "id": "6d7f39c2ca00a11e",
   "execution_count": 305
  },
  {
   "cell_type": "code",
   "outputs": [],
   "source": [
    "import pandas as pd\n",
    "#import the answers from the excel file answes_test.xlsx with a column named Dialogue\n",
    "answers_df = pd.read_excel('Llama2_Monologue_Answers_Only2.xlsx')\n",
    "#name the column Dialogue\n",
    "answers_df.columns = ['Monologue']"
   ],
   "metadata": {
    "collapsed": false,
    "ExecuteTime": {
     "end_time": "2024-06-17T01:00:44.948699Z",
     "start_time": "2024-06-17T01:00:44.921453Z"
    }
   },
   "id": "4aa21490c416d8fb",
   "execution_count": 306
  },
  {
   "cell_type": "code",
   "outputs": [],
   "source": [
    "#convert everything in the answers_df to a string\n",
    "answers_df = answers_df.map(str)"
   ],
   "metadata": {
    "collapsed": false,
    "ExecuteTime": {
     "end_time": "2024-06-17T01:00:49.866020400Z",
     "start_time": "2024-06-17T01:00:49.842510Z"
    }
   },
   "id": "dca04aa64be26c9d",
   "execution_count": 307
  },
  {
   "cell_type": "code",
   "outputs": [
    {
     "data": {
      "text/plain": "                                           Monologue\n0  \\n\\n\"The age-old art of war has evolved over t...\n1  \\n\\nThe age before this one began long ago. It...\n2  \\n\\n\"The galaxy has been searching since befor...\n3  \\n\\nThe wind whispers secrets from beyond deat...\n4  \\n\\nThe year is 2146, two hundred years after ...",
      "text/html": "<div>\n<style scoped>\n    .dataframe tbody tr th:only-of-type {\n        vertical-align: middle;\n    }\n\n    .dataframe tbody tr th {\n        vertical-align: top;\n    }\n\n    .dataframe thead th {\n        text-align: right;\n    }\n</style>\n<table border=\"1\" class=\"dataframe\">\n  <thead>\n    <tr style=\"text-align: right;\">\n      <th></th>\n      <th>Monologue</th>\n    </tr>\n  </thead>\n  <tbody>\n    <tr>\n      <th>0</th>\n      <td>\\n\\n\"The age-old art of war has evolved over t...</td>\n    </tr>\n    <tr>\n      <th>1</th>\n      <td>\\n\\nThe age before this one began long ago. It...</td>\n    </tr>\n    <tr>\n      <th>2</th>\n      <td>\\n\\n\"The galaxy has been searching since befor...</td>\n    </tr>\n    <tr>\n      <th>3</th>\n      <td>\\n\\nThe wind whispers secrets from beyond deat...</td>\n    </tr>\n    <tr>\n      <th>4</th>\n      <td>\\n\\nThe year is 2146, two hundred years after ...</td>\n    </tr>\n  </tbody>\n</table>\n</div>"
     },
     "execution_count": 308,
     "metadata": {},
     "output_type": "execute_result"
    }
   ],
   "source": [
    "answers_df"
   ],
   "metadata": {
    "collapsed": false,
    "ExecuteTime": {
     "end_time": "2024-06-17T01:00:51.304703600Z",
     "start_time": "2024-06-17T01:00:51.284210300Z"
    }
   },
   "id": "889a1d8e9a814031",
   "execution_count": 308
  },
  {
   "cell_type": "code",
   "outputs": [
    {
     "data": {
      "text/plain": "                                           Monologue\n0  The age-old art of war has evolved over time f...\n1  The age before this one began long ago. It was...\n2  The galaxy has been searching since before I w...\n3  The wind whispers secrets from beyond death’s ...\n4  The year is 2146, two hundred years after the ...",
      "text/html": "<div>\n<style scoped>\n    .dataframe tbody tr th:only-of-type {\n        vertical-align: middle;\n    }\n\n    .dataframe tbody tr th {\n        vertical-align: top;\n    }\n\n    .dataframe thead th {\n        text-align: right;\n    }\n</style>\n<table border=\"1\" class=\"dataframe\">\n  <thead>\n    <tr style=\"text-align: right;\">\n      <th></th>\n      <th>Monologue</th>\n    </tr>\n  </thead>\n  <tbody>\n    <tr>\n      <th>0</th>\n      <td>The age-old art of war has evolved over time f...</td>\n    </tr>\n    <tr>\n      <th>1</th>\n      <td>The age before this one began long ago. It was...</td>\n    </tr>\n    <tr>\n      <th>2</th>\n      <td>The galaxy has been searching since before I w...</td>\n    </tr>\n    <tr>\n      <th>3</th>\n      <td>The wind whispers secrets from beyond death’s ...</td>\n    </tr>\n    <tr>\n      <th>4</th>\n      <td>The year is 2146, two hundred years after the ...</td>\n    </tr>\n  </tbody>\n</table>\n</div>"
     },
     "execution_count": 310,
     "metadata": {},
     "output_type": "execute_result"
    }
   ],
   "source": [
    "#remove the \\n from the answers_df\n",
    "answers_df = answers_df.replace('\\n', '', regex=True)\n",
    "\n",
    "#remove the \" from the answers_df\n",
    "answers_df = answers_df.replace('\"', '', regex=True)\n",
    "        \n",
    "answers_df"
   ],
   "metadata": {
    "collapsed": false,
    "ExecuteTime": {
     "end_time": "2024-06-17T01:01:39.014840200Z",
     "start_time": "2024-06-17T01:01:38.964467900Z"
    }
   },
   "id": "d67dc7444ea4b6ea",
   "execution_count": 310
  },
  {
   "cell_type": "code",
   "outputs": [
    {
     "data": {
      "text/plain": "0    War has changed. It's no longer about nations,...\n1    In the Age of Ancients the world was unformed,...\n2    So you want to hear a story, huh? What about t...\n3    Eora: a world where mortals live, die, and are...\n4    War. War never changes. The Romans waged war t...\nName: Monologue, dtype: object"
     },
     "execution_count": 311,
     "metadata": {},
     "output_type": "execute_result"
    }
   ],
   "source": [
    "# remove the from the test dialogues\n",
    "test_monologues"
   ],
   "metadata": {
    "collapsed": false,
    "ExecuteTime": {
     "end_time": "2024-06-17T01:01:42.168788600Z",
     "start_time": "2024-06-17T01:01:42.099263200Z"
    }
   },
   "id": "8e5b71cc4380e9ea",
   "execution_count": 311
  },
  {
   "cell_type": "markdown",
   "id": "bef0d5c5cee19e4f",
   "metadata": {
    "collapsed": false
   },
   "source": [
    "# BERT Score"
   ]
  },
  {
   "cell_type": "code",
   "outputs": [
    {
     "name": "stderr",
     "output_type": "stream",
     "text": [
      "Some weights of RobertaModel were not initialized from the model checkpoint at roberta-large and are newly initialized: ['roberta.pooler.dense.bias', 'roberta.pooler.dense.weight']\n",
      "You should probably TRAIN this model on a down-stream task to be able to use it for predictions and inference.\n",
      "Some weights of RobertaModel were not initialized from the model checkpoint at roberta-large and are newly initialized: ['roberta.pooler.dense.bias', 'roberta.pooler.dense.weight']\n",
      "You should probably TRAIN this model on a down-stream task to be able to use it for predictions and inference.\n",
      "Some weights of RobertaModel were not initialized from the model checkpoint at roberta-large and are newly initialized: ['roberta.pooler.dense.bias', 'roberta.pooler.dense.weight']\n",
      "You should probably TRAIN this model on a down-stream task to be able to use it for predictions and inference.\n",
      "Some weights of RobertaModel were not initialized from the model checkpoint at roberta-large and are newly initialized: ['roberta.pooler.dense.bias', 'roberta.pooler.dense.weight']\n",
      "You should probably TRAIN this model on a down-stream task to be able to use it for predictions and inference.\n",
      "Some weights of RobertaModel were not initialized from the model checkpoint at roberta-large and are newly initialized: ['roberta.pooler.dense.bias', 'roberta.pooler.dense.weight']\n",
      "You should probably TRAIN this model on a down-stream task to be able to use it for predictions and inference.\n"
     ]
    },
    {
     "name": "stdout",
     "output_type": "stream",
     "text": [
      "Average Precision: 0.8253355\n",
      "Average Recall: 0.8106961\n",
      "Average F1 Score: 0.81793386\n"
     ]
    }
   ],
   "source": [
    "# Calculate BERTScore\n",
    "from bert_score import score\n",
    "import numpy as np\n",
    "\n",
    "# Lists of candidates and references\n",
    "candidates = answers_df['Monologue'].tolist()\n",
    "references = test_monologues.tolist()\n",
    "# Ensure that each candidate has a corresponding reference\n",
    "assert len(candidates) == len(references), \"Each candidate must have a corresponding reference.\"\n",
    "\n",
    "# Calculate BERTScore for each pair\n",
    "precision_scores = []\n",
    "recall_scores = []\n",
    "f1_scores = []\n",
    "\n",
    "for cand, ref in zip(candidates, references):\n",
    "    P, R, F1 = score([cand], [ref], lang='en')\n",
    "    precision_scores.append(P.numpy())\n",
    "    recall_scores.append(R.numpy())\n",
    "    f1_scores.append(F1.numpy())\n",
    "    \n",
    "\n",
    "# Calculate the average of each metric\n",
    "average_precision = np.mean(precision_scores)\n",
    "average_recall = np.mean(recall_scores)\n",
    "average_f1 = np.mean(f1_scores)\n",
    "\n",
    "print(\"Average Precision:\", average_precision)\n",
    "print(\"Average Recall:\", average_recall)\n",
    "print(\"Average F1 Score:\", average_f1)\n"
   ],
   "metadata": {
    "collapsed": false,
    "ExecuteTime": {
     "end_time": "2024-06-17T01:02:10.073171300Z",
     "start_time": "2024-06-17T01:01:49.059249500Z"
    }
   },
   "id": "529e21fd0e7f1d0f",
   "execution_count": 312
  },
  {
   "cell_type": "code",
   "outputs": [
    {
     "name": "stdout",
     "output_type": "stream",
     "text": [
      "Average ROUGE-1 Scores: {'f': 0.14521822325338557, 'p': 0.19918359988908402, 'r': 0.12080568145723092}\n",
      "Average ROUGE-2 Scores: {'f': 0.003835620717101138, 'p': 0.005405405405405406, 'r': 0.003063339524617083}\n",
      "Average ROUGE-L Scores: {'f': 0.1264658547155597, 'p': 0.17453683166398387, 'r': 0.1049345295609686}\n"
     ]
    }
   ],
   "source": [
    "import warnings\n",
    "from rouge import Rouge\n",
    "import pandas as pd\n",
    "\n",
    "# Suppress warnings if necessary\n",
    "warnings.filterwarnings('ignore')\n",
    "\n",
    "# Assuming the DataFrame and columns are properly set\n",
    "# Ensure these columns contain strings\n",
    "candidates = answers_df['Monologue'].tolist()  # Replace 'candidate_column' with your DataFrame column\n",
    "references = test_monologues.tolist()  # Replace 'reference_column' with your DataFrame column\n",
    "\n",
    "# Ensure that each candidate has a corresponding reference\n",
    "assert len(candidates) == len(references), \"Each candidate must have a corresponding reference.\"\n",
    "\n",
    "# Initialize the Rouge object\n",
    "rouge = Rouge()\n",
    "\n",
    "# Initialize dictionaries to hold aggregated scores\n",
    "rouge_1_scores = {'f': [], 'p': [], 'r': []}\n",
    "rouge_2_scores = {'f': [], 'p': [], 'r': []}\n",
    "rouge_l_scores = {'f': [], 'p': [], 'r': []}\n",
    "\n",
    "# Calculate ROUGE scores for each pair\n",
    "for cand, ref in zip(candidates, references):\n",
    "    scores = rouge.get_scores(cand, ref, avg=False)[0]  # Obtain scores for the first (and only) pair\n",
    "    # Store ROUGE scores in respective dictionaries\n",
    "    rouge_1_scores['f'].append(scores['rouge-1']['f'])\n",
    "    rouge_1_scores['p'].append(scores['rouge-1']['p'])\n",
    "    rouge_1_scores['r'].append(scores['rouge-1']['r'])\n",
    "    \n",
    "    rouge_2_scores['f'].append(scores['rouge-2']['f'])\n",
    "    rouge_2_scores['p'].append(scores['rouge-2']['p'])\n",
    "    rouge_2_scores['r'].append(scores['rouge-2']['r'])\n",
    "    \n",
    "    rouge_l_scores['f'].append(scores['rouge-l']['f'])\n",
    "    rouge_l_scores['p'].append(scores['rouge-l']['p'])\n",
    "    rouge_l_scores['r'].append(scores['rouge-l']['r'])\n",
    "\n",
    "# Calculate the average of each ROUGE metric\n",
    "def average_score(score_list):\n",
    "    return sum(score_list) / len(score_list) if score_list else 0\n",
    "\n",
    "print(\"Average ROUGE-1 Scores:\", {k: average_score(v) for k, v in rouge_1_scores.items()})\n",
    "print(\"Average ROUGE-2 Scores:\", {k: average_score(v) for k, v in rouge_2_scores.items()})\n",
    "print(\"Average ROUGE-L Scores:\", {k: average_score(v) for k, v in rouge_l_scores.items()})\n"
   ],
   "metadata": {
    "collapsed": false,
    "ExecuteTime": {
     "end_time": "2024-06-17T01:09:30.531481200Z",
     "start_time": "2024-06-17T01:09:29.197932200Z"
    }
   },
   "id": "7e534de18988c19a",
   "execution_count": 313
  },
  {
   "cell_type": "code",
   "outputs": [
    {
     "data": {
      "text/plain": "[1, 4, 2]"
     },
     "execution_count": 270,
     "metadata": {},
     "output_type": "execute_result"
    }
   ],
   "source": [
    "# Generate 3 random numbers from 1 to 5 without duplicates\n",
    "import random\n",
    "\n",
    "random.seed(42)\n",
    "random_numbers = random.sample(range(1, 5), 3)\n",
    "random_numbers"
   ],
   "metadata": {
    "collapsed": false,
    "ExecuteTime": {
     "end_time": "2024-06-15T18:53:01.504931700Z",
     "start_time": "2024-06-15T18:53:01.486078300Z"
    }
   },
   "id": "acfd1aba9fcecfaa",
   "execution_count": 270
  }
 ],
 "metadata": {
  "kernelspec": {
   "display_name": "Python 3 (ipykernel)",
   "language": "python",
   "name": "python3"
  },
  "language_info": {
   "codemirror_mode": {
    "name": "ipython",
    "version": 3
   },
   "file_extension": ".py",
   "mimetype": "text/x-python",
   "name": "python",
   "nbconvert_exporter": "python",
   "pygments_lexer": "ipython3",
   "version": "3.12.0"
  }
 },
 "nbformat": 4,
 "nbformat_minor": 5
}
